{
 "metadata": {
  "language_info": {
   "codemirror_mode": {
    "name": "ipython",
    "version": 3
   },
   "file_extension": ".py",
   "mimetype": "text/x-python",
   "name": "python",
   "nbconvert_exporter": "python",
   "pygments_lexer": "ipython3",
   "version": "3.7.4-final"
  },
  "orig_nbformat": 2,
  "kernelspec": {
   "name": "python3",
   "display_name": "Python 3"
  }
 },
 "nbformat": 4,
 "nbformat_minor": 2,
 "cells": [
  {
   "cell_type": "code",
   "execution_count": 4,
   "metadata": {},
   "outputs": [
    {
     "output_type": "execute_result",
     "data": {
      "text/plain": "'1.16.5'"
     },
     "metadata": {},
     "execution_count": 4
    }
   ],
   "source": [
    "import numpy\n",
    "import numpy as np\n",
    "numpy.__version__"
   ]
  },
  {
   "cell_type": "code",
   "execution_count": 29,
   "metadata": {},
   "outputs": [],
   "source": [
    "#相同維度的串接\n",
    "x1 = np.array([1, 2, 3])\n",
    "y1 = np.array([4, 5, 6])"
   ]
  },
  {
   "cell_type": "code",
   "execution_count": 30,
   "metadata": {},
   "outputs": [
    {
     "output_type": "execute_result",
     "data": {
      "text/plain": "array([1, 2, 3, 4, 5, 6])"
     },
     "metadata": {},
     "execution_count": 30
    }
   ],
   "source": [
    "np.concatenate([x1,y1])"
   ]
  },
  {
   "cell_type": "code",
   "execution_count": 31,
   "metadata": {},
   "outputs": [],
   "source": [
    "#不同維度的串接\n",
    "x2 = np.array([(3, 2),(3, 5),(7, 6)])\n",
    "y2 = np.array([(5, 0)])\n",
    "z2 = np.array([[1], [3], [6]])"
   ]
  },
  {
   "cell_type": "code",
   "execution_count": 32,
   "metadata": {},
   "outputs": [
    {
     "output_type": "execute_result",
     "data": {
      "text/plain": "array([[3, 2],\n       [3, 5],\n       [7, 6]])"
     },
     "metadata": {},
     "execution_count": 32
    }
   ],
   "source": [
    "x2"
   ]
  },
  {
   "cell_type": "code",
   "execution_count": 33,
   "metadata": {},
   "outputs": [
    {
     "output_type": "execute_result",
     "data": {
      "text/plain": "array([[5, 0]])"
     },
     "metadata": {},
     "execution_count": 33
    }
   ],
   "source": [
    "y2"
   ]
  },
  {
   "cell_type": "code",
   "execution_count": 34,
   "metadata": {},
   "outputs": [
    {
     "output_type": "execute_result",
     "data": {
      "text/plain": "array([[1],\n       [3],\n       [6]])"
     },
     "metadata": {},
     "execution_count": 34
    }
   ],
   "source": [
    "z2"
   ]
  },
  {
   "cell_type": "code",
   "execution_count": 35,
   "metadata": {},
   "outputs": [
    {
     "output_type": "execute_result",
     "data": {
      "text/plain": "array([[3, 2],\n       [3, 5],\n       [7, 6],\n       [5, 0]])"
     },
     "metadata": {},
     "execution_count": 35
    }
   ],
   "source": [
    "np.vstack( [x2, y2] )"
   ]
  },
  {
   "cell_type": "code",
   "execution_count": 36,
   "metadata": {},
   "outputs": [
    {
     "output_type": "execute_result",
     "data": {
      "text/plain": "array([[3, 2, 1],\n       [3, 5, 3],\n       [7, 6, 6]])"
     },
     "metadata": {},
     "execution_count": 36
    }
   ],
   "source": [
    "np.hstack( [x2, z2] )"
   ]
  },
  {
   "cell_type": "code",
   "execution_count": 37,
   "metadata": {},
   "outputs": [
    {
     "output_type": "execute_result",
     "data": {
      "text/plain": "(array([2, 5]), array([6, 7, 3]), array([6, 3, 6]))"
     },
     "metadata": {},
     "execution_count": 37
    }
   ],
   "source": [
    "a, b, c = np.split(np.array((2,5,6,7,3,6,3,6)), [2,5]  )\n",
    "a, b, c"
   ]
  },
  {
   "cell_type": "code",
   "execution_count": 38,
   "metadata": {},
   "outputs": [
    {
     "output_type": "execute_result",
     "data": {
      "text/plain": "(array([[0, 1, 2, 3],\n        [4, 5, 6, 7]]), array([[ 8,  9, 10, 11],\n        [12, 13, 14, 15]]))"
     },
     "metadata": {},
     "execution_count": 38
    }
   ],
   "source": [
    "a, b = np.vsplit( np.arange(16).reshape([4,4]), [2] )\n",
    "a, b"
   ]
  },
  {
   "cell_type": "code",
   "execution_count": 39,
   "metadata": {},
   "outputs": [
    {
     "output_type": "execute_result",
     "data": {
      "text/plain": "(array([[ 0,  1],\n        [ 4,  5],\n        [ 8,  9],\n        [12, 13]]), array([[ 2,  3],\n        [ 6,  7],\n        [10, 11],\n        [14, 15]]))"
     },
     "metadata": {},
     "execution_count": 39
    }
   ],
   "source": [
    "c, d = np.hsplit( np.arange(16).reshape([4,4]), [2] )\n",
    "c, d"
   ]
  },
  {
   "cell_type": "code",
   "execution_count": 55,
   "metadata": {},
   "outputs": [
    {
     "output_type": "execute_result",
     "data": {
      "text/plain": "array([ 0., 12., 24., 36., 48.])"
     },
     "metadata": {},
     "execution_count": 55
    }
   ],
   "source": [
    "#預先決定輸出的記憶體\n",
    "x = np.arange(5)\n",
    "y = np.empty(5)\n",
    "np.multiply(x,12,out=y)"
   ]
  },
  {
   "cell_type": "code",
   "execution_count": 56,
   "metadata": {},
   "outputs": [
    {
     "output_type": "execute_result",
     "data": {
      "text/plain": "array([ 1.,  0.,  2.,  0.,  4.,  0.,  8.,  0., 16.,  0.])"
     },
     "metadata": {},
     "execution_count": 56
    }
   ],
   "source": [
    "a = np.arange(5)\n",
    "b = np.zeros(10)\n",
    "np.power(2,x,out=b[::2])\n",
    "b"
   ]
  },
  {
   "cell_type": "code",
   "execution_count": 57,
   "metadata": {},
   "outputs": [
    {
     "output_type": "execute_result",
     "data": {
      "text/plain": "(15,\n 120,\n array([ 1,  3,  6, 10, 15], dtype=int32),\n array([  1,   2,   6,  24, 120], dtype=int32))"
     },
     "metadata": {},
     "execution_count": 57
    }
   ],
   "source": [
    "x = np.arange(1,6)\n",
    "np.add.reduce(x), np.multiply.reduce(x), np.add.accumulate(x), np.multiply.accumulate(x)"
   ]
  },
  {
   "cell_type": "code",
   "execution_count": 58,
   "metadata": {},
   "outputs": [
    {
     "output_type": "execute_result",
     "data": {
      "text/plain": "array([[ 1,  2,  3,  4],\n       [ 2,  4,  6,  8],\n       [ 3,  6,  9, 12],\n       [ 4,  8, 12, 16]])"
     },
     "metadata": {},
     "execution_count": 58
    }
   ],
   "source": [
    "#外積\n",
    "x = np.arange(1,5)\n",
    "np.multiply.outer(x, x)"
   ]
  },
  {
   "cell_type": "code",
   "execution_count": 59,
   "metadata": {
    "tags": []
   },
   "outputs": [
    {
     "output_type": "stream",
     "name": "stdout",
     "text": "2.18 ms ± 348 µs per loop (mean ± std. dev. of 7 runs, 100 loops each)\n118 ms ± 28.9 ms per loop (mean ± std. dev. of 7 runs, 10 loops each)\n"
    }
   ],
   "source": [
    "#summerise\n",
    "x = np.random.random(1000000)\n",
    "%timeit np.sum(x) #快多了\n",
    "%timeit sum(x)"
   ]
  },
  {
   "cell_type": "code",
   "execution_count": 60,
   "metadata": {},
   "outputs": [
    {
     "output_type": "execute_result",
     "data": {
      "text/plain": "(499998.3669244014, 499998.36692440376)"
     },
     "metadata": {},
     "execution_count": 60
    }
   ],
   "source": [
    "np.sum(x), sum(x)"
   ]
  },
  {
   "cell_type": "code",
   "execution_count": 61,
   "metadata": {},
   "outputs": [
    {
     "output_type": "execute_result",
     "data": {
      "text/plain": "(0.9999992267897795,\n 9.828372018461096e-07,\n 0.9999992267897795,\n 9.828372018461096e-07)"
     },
     "metadata": {},
     "execution_count": 61
    }
   ],
   "source": [
    "#as same as\n",
    "np.max(x), np.min(x), x.max(), x.min()"
   ]
  },
  {
   "cell_type": "code",
   "execution_count": 62,
   "metadata": {},
   "outputs": [
    {
     "output_type": "execute_result",
     "data": {
      "text/plain": "(0.49999836692440136, 0.2884486245987413)"
     },
     "metadata": {},
     "execution_count": 62
    }
   ],
   "source": [
    "x.mean(), x.std()"
   ]
  },
  {
   "cell_type": "code",
   "execution_count": 63,
   "metadata": {},
   "outputs": [
    {
     "output_type": "execute_result",
     "data": {
      "text/plain": "array([[0, 1, 2, 3, 4],\n       [5, 6, 7, 8, 9]])"
     },
     "metadata": {},
     "execution_count": 63
    }
   ],
   "source": [
    "y = np.arange(10).reshape(2,5)\n",
    "y"
   ]
  },
  {
   "cell_type": "code",
   "execution_count": 64,
   "metadata": {},
   "outputs": [
    {
     "output_type": "execute_result",
     "data": {
      "text/plain": "(array([ 5,  7,  9, 11, 13]), array([10, 35]))"
     },
     "metadata": {},
     "execution_count": 64
    }
   ],
   "source": [
    "y.sum(axis=0), y.sum(axis=1)"
   ]
  },
  {
   "cell_type": "code",
   "execution_count": 65,
   "metadata": {},
   "outputs": [
    {
     "output_type": "execute_result",
     "data": {
      "text/plain": "array([[0.46029988, 0.72760286, 0.54824655],\n       [0.94155734, 0.34589603, 0.47300195],\n       [0.24607925, 0.10717144, 0.16069862],\n       [0.03748846, 0.70121681, 0.3885371 ],\n       [0.53926615, 0.30701899, 0.58860685],\n       [0.43041648, 0.89626776, 0.17788204],\n       [0.30040217, 0.87488261, 0.10943062],\n       [0.12300136, 0.99217182, 0.91724458],\n       [0.40890527, 0.6010687 , 0.18606227],\n       [0.50263745, 0.50685954, 0.71665002]])"
     },
     "metadata": {},
     "execution_count": 65
    }
   ],
   "source": [
    "a = np.random.random((10,3))\n",
    "a"
   ]
  },
  {
   "cell_type": "code",
   "execution_count": 66,
   "metadata": {},
   "outputs": [
    {
     "output_type": "execute_result",
     "data": {
      "text/plain": "array([0.39900538, 0.60601566, 0.42663606])"
     },
     "metadata": {},
     "execution_count": 66
    }
   ],
   "source": [
    "a.mean(axis=0)"
   ]
  },
  {
   "cell_type": "code",
   "execution_count": 67,
   "metadata": {},
   "outputs": [
    {
     "output_type": "execute_result",
     "data": {
      "text/plain": "array([[ 0.0612945 ,  0.1215872 ,  0.12161049],\n       [ 0.54255195, -0.26011962,  0.04636589],\n       [-0.15292613, -0.49884421, -0.26593744],\n       [-0.36151692,  0.09520116, -0.03809896],\n       [ 0.14026077, -0.29899667,  0.16197079],\n       [ 0.0314111 ,  0.2902521 , -0.24875403],\n       [-0.09860321,  0.26886695, -0.31720544],\n       [-0.27600402,  0.38615616,  0.49060852],\n       [ 0.00989989, -0.00494696, -0.24057379],\n       [ 0.10363207, -0.09915612,  0.29001396]])"
     },
     "metadata": {},
     "execution_count": 67
    }
   ],
   "source": [
    "#broadcasting，可去查詢broadcasting詳細規則\n",
    "#全部的數減去平均值\n",
    "b = a - a.mean(axis=0)\n",
    "b"
   ]
  },
  {
   "cell_type": "code",
   "execution_count": 68,
   "metadata": {},
   "outputs": [
    {
     "output_type": "execute_result",
     "data": {
      "text/plain": "array([1.11022302e-17, 4.44089210e-17, 5.55111512e-18])"
     },
     "metadata": {},
     "execution_count": 68
    }
   ],
   "source": [
    "#驗算，都接近0\n",
    "b.mean(axis=0)"
   ]
  },
  {
   "cell_type": "code",
   "execution_count": 80,
   "metadata": {},
   "outputs": [
    {
     "output_type": "execute_result",
     "data": {
      "text/plain": "array([26, 31, 40, 52, 55, 63, 67, 70, 77, 90])"
     },
     "metadata": {},
     "execution_count": 80
    }
   ],
   "source": [
    "#sort\n",
    "x = np.random.randint(1,100,size=10)\n",
    "np.sort(x)"
   ]
  },
  {
   "cell_type": "code",
   "execution_count": 84,
   "metadata": {},
   "outputs": [
    {
     "output_type": "execute_result",
     "data": {
      "text/plain": "array([[12,  8, 11, 48],\n       [59, 79, 46, 64],\n       [61, 81, 54, 74],\n       [96, 87, 82, 86]])"
     },
     "metadata": {},
     "execution_count": 84
    }
   ],
   "source": [
    "x = np.random.randint(1,100,[4,4])\n",
    "np.sort(x, axis =0)"
   ]
  },
  {
   "cell_type": "code",
   "execution_count": 87,
   "metadata": {},
   "outputs": [
    {
     "output_type": "execute_result",
     "data": {
      "text/plain": "array([[11, 12, 79, 86],\n       [ 8, 46, 48, 96],\n       [54, 59, 64, 81],\n       [61, 74, 82, 87]])"
     },
     "metadata": {},
     "execution_count": 87
    }
   ],
   "source": [
    "np.sort(x, axis=1)"
   ]
  },
  {
   "cell_type": "code",
   "execution_count": 8,
   "metadata": {},
   "outputs": [
    {
     "output_type": "execute_result",
     "data": {
      "text/plain": "array([56, 39, 20, 67, 79, 86, 72, 80, 84, 90])"
     },
     "metadata": {},
     "execution_count": 8
    }
   ],
   "source": [
    "#partition\n",
    "x = np.random.randint(1,100,size=10)\n",
    "#最小個值放左側，順序隨意\n",
    "np.partition(x,3)"
   ]
  },
  {
   "cell_type": "code",
   "execution_count": 16,
   "metadata": {},
   "outputs": [
    {
     "output_type": "execute_result",
     "data": {
      "text/plain": "array([[12, 27, 29, 89, 96],\n       [ 6, 11, 66, 70, 70],\n       [31, 38, 83, 92, 83],\n       [15, 57, 58, 90, 84]])"
     },
     "metadata": {},
     "execution_count": 16
    }
   ],
   "source": [
    "x = np.random.randint(1,100,size=20)\n",
    "x = x.reshape(4,5)\n",
    "np.partition(x,2,axis=1)"
   ]
  },
  {
   "cell_type": "code",
   "execution_count": null,
   "metadata": {},
   "outputs": [],
   "source": []
  }
 ]
}