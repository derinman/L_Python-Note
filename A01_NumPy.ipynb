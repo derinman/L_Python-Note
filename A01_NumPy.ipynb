{
 "metadata": {
  "language_info": {
   "codemirror_mode": {
    "name": "ipython",
    "version": 3
   },
   "file_extension": ".py",
   "mimetype": "text/x-python",
   "name": "python",
   "nbconvert_exporter": "python",
   "pygments_lexer": "ipython3",
   "version": "3.7.4-final"
  },
  "orig_nbformat": 2,
  "kernelspec": {
   "name": "python_defaultSpec_1598406848959",
   "display_name": "Python 3.7.4 64-bit ('base': conda)"
  }
 },
 "nbformat": 4,
 "nbformat_minor": 2,
 "cells": [
  {
   "cell_type": "code",
   "execution_count": 4,
   "metadata": {},
   "outputs": [
    {
     "output_type": "execute_result",
     "data": {
      "text/plain": "'1.16.5'"
     },
     "metadata": {},
     "execution_count": 4
    }
   ],
   "source": [
    "import numpy\n",
    "numpy.__version__"
   ]
  },
  {
   "cell_type": "code",
   "execution_count": 2,
   "metadata": {},
   "outputs": [],
   "source": [
    "import numpy as np"
   ]
  },
  {
   "cell_type": "code",
   "execution_count": 9,
   "metadata": {},
   "outputs": [
    {
     "output_type": "execute_result",
     "data": {
      "text/plain": "array([1, 5, 3])"
     },
     "metadata": {},
     "execution_count": 9
    }
   ],
   "source": [
    "np.array([1, 5, 3])"
   ]
  },
  {
   "cell_type": "code",
   "execution_count": 11,
   "metadata": {},
   "outputs": [
    {
     "output_type": "execute_result",
     "data": {
      "text/plain": "array([3.24, 3.  , 5.  ])"
     },
     "metadata": {},
     "execution_count": 11
    }
   ],
   "source": [
    "np.array([3.24, 3, 5])#自動轉成同型態"
   ]
  },
  {
   "cell_type": "code",
   "execution_count": 13,
   "metadata": {},
   "outputs": [
    {
     "output_type": "execute_result",
     "data": {
      "text/plain": "array(['cat', '3'], dtype='<U3')"
     },
     "metadata": {},
     "execution_count": 13
    }
   ],
   "source": [
    "np.array(['cat',3])"
   ]
  },
  {
   "cell_type": "code",
   "execution_count": 19,
   "metadata": {},
   "outputs": [
    {
     "output_type": "execute_result",
     "data": {
      "text/plain": "array(['3', '5'], dtype='<U1')"
     },
     "metadata": {},
     "execution_count": 19
    }
   ],
   "source": [
    "np.array([3,5],dtype=str)"
   ]
  },
  {
   "cell_type": "code",
   "execution_count": 43,
   "metadata": {},
   "outputs": [
    {
     "output_type": "execute_result",
     "data": {
      "text/plain": "array([[3, 2],\n       [3, 5],\n       [7, 6]])"
     },
     "metadata": {},
     "execution_count": 43
    }
   ],
   "source": [
    "np.array([(3,2),(3,5),(7,6)])#多維"
   ]
  },
  {
   "cell_type": "code",
   "execution_count": 22,
   "metadata": {},
   "outputs": [
    {
     "output_type": "execute_result",
     "data": {
      "text/plain": "array([0, 0, 0, 0, 0, 0, 0, 0, 0, 0])"
     },
     "metadata": {},
     "execution_count": 22
    }
   ],
   "source": [
    "np.zeros(10, dtype=int)"
   ]
  },
  {
   "cell_type": "code",
   "execution_count": 24,
   "metadata": {},
   "outputs": [
    {
     "output_type": "execute_result",
     "data": {
      "text/plain": "array(['', '', '', '', '', '', '', '', '', ''], dtype='<U1')"
     },
     "metadata": {},
     "execution_count": 24
    }
   ],
   "source": [
    "np.zeros(10,dtype=str)"
   ]
  },
  {
   "cell_type": "code",
   "execution_count": 28,
   "metadata": {},
   "outputs": [
    {
     "output_type": "execute_result",
     "data": {
      "text/plain": "array([[1., 1., 1., 1., 1.],\n       [1., 1., 1., 1., 1.]])"
     },
     "metadata": {},
     "execution_count": 28
    }
   ],
   "source": [
    "np.ones((2,5),dtype=float)"
   ]
  },
  {
   "cell_type": "code",
   "execution_count": 45,
   "metadata": {},
   "outputs": [
    {
     "output_type": "execute_result",
     "data": {
      "text/plain": "array([[3.2, 3.2, 3.2, 3.2, 3.2],\n       [3.2, 3.2, 3.2, 3.2, 3.2]])"
     },
     "metadata": {},
     "execution_count": 45
    }
   ],
   "source": [
    "np.full((2,5),3.2)"
   ]
  },
  {
   "cell_type": "code",
   "execution_count": 46,
   "metadata": {},
   "outputs": [
    {
     "output_type": "execute_result",
     "data": {
      "text/plain": "array([[[3.2, 3.2, 3.2],\n        [3.2, 3.2, 3.2],\n        [3.2, 3.2, 3.2],\n        [3.2, 3.2, 3.2],\n        [3.2, 3.2, 3.2]],\n\n       [[3.2, 3.2, 3.2],\n        [3.2, 3.2, 3.2],\n        [3.2, 3.2, 3.2],\n        [3.2, 3.2, 3.2],\n        [3.2, 3.2, 3.2]]])"
     },
     "metadata": {},
     "execution_count": 46
    }
   ],
   "source": [
    "np.full((2,5,3),3.2)"
   ]
  },
  {
   "cell_type": "code",
   "execution_count": 32,
   "metadata": {},
   "outputs": [
    {
     "output_type": "execute_result",
     "data": {
      "text/plain": "array([ 2,  6, 10, 14, 18])"
     },
     "metadata": {},
     "execution_count": 32
    }
   ],
   "source": [
    "np.arange(2,20,4)"
   ]
  },
  {
   "cell_type": "code",
   "execution_count": 34,
   "metadata": {},
   "outputs": [
    {
     "output_type": "execute_result",
     "data": {
      "text/plain": "array([[0.5765114 , 0.12809911, 0.15957936, 0.387803  , 0.95227374],\n       [0.61668601, 0.21039998, 0.13317614, 0.28143099, 0.10474003]])"
     },
     "metadata": {},
     "execution_count": 34
    }
   ],
   "source": [
    "np.random.random((2,5)) #uniform"
   ]
  },
  {
   "cell_type": "code",
   "execution_count": 37,
   "metadata": {},
   "outputs": [
    {
     "output_type": "execute_result",
     "data": {
      "text/plain": "array([[ 0.8817991 , -1.17031428, -0.8700155 , -0.50188433, -1.08836966],\n       [ 0.1058192 , -1.0172433 , -0.7922935 , -1.00369606,  0.01819413]])"
     },
     "metadata": {},
     "execution_count": 37
    }
   ],
   "source": [
    "np.random.normal(0,1,(2,5)) #normal distribution mean 0 std 1  "
   ]
  },
  {
   "cell_type": "code",
   "execution_count": 39,
   "metadata": {},
   "outputs": [
    {
     "output_type": "execute_result",
     "data": {
      "text/plain": "array([[78, 33,  8, 66, 37],\n       [54, 27, 46, 46, 11]])"
     },
     "metadata": {},
     "execution_count": 39
    }
   ],
   "source": [
    "np.random.randint(0,100,(2,5))"
   ]
  },
  {
   "cell_type": "code",
   "execution_count": 42,
   "metadata": {},
   "outputs": [
    {
     "output_type": "execute_result",
     "data": {
      "text/plain": "array([[1., 0., 0.],\n       [0., 1., 0.],\n       [0., 0., 1.]])"
     },
     "metadata": {},
     "execution_count": 42
    }
   ],
   "source": [
    "np.eye(3) #單位矩陣"
   ]
  },
  {
   "cell_type": "code",
   "execution_count": 8,
   "metadata": {},
   "outputs": [
    {
     "output_type": "execute_result",
     "data": {
      "text/plain": "(3, (2, 5, 3), 30, dtype('int32'), 4, 120)"
     },
     "metadata": {},
     "execution_count": 8
    }
   ],
   "source": [
    "a = np.random.randint(10,size=(2,5,3))\n",
    "a.ndim, a.shape, a.size, a.dtype, a.itemsize, a.nbytes\n",
    "#itemsize(byte), nbytes(byte)\n",
    "# in general, itemsize * size = nbytes"
   ]
  },
  {
   "cell_type": "code",
   "execution_count": 13,
   "metadata": {},
   "outputs": [
    {
     "output_type": "execute_result",
     "data": {
      "text/plain": "array([[12,  5,  2,  4],\n       [ 7,  6,  8,  8],\n       [ 1,  6,  7,  7]])"
     },
     "metadata": {},
     "execution_count": 13
    }
   ],
   "source": [
    "#slice\n",
    "x = np.array([(12, 5, 2, 4), (7, 6, 8, 8), (1, 6, 7, 7)])\n",
    "x"
   ]
  },
  {
   "cell_type": "code",
   "execution_count": 15,
   "metadata": {},
   "outputs": [
    {
     "output_type": "execute_result",
     "data": {
      "text/plain": "array([[6, 8, 8],\n       [6, 7, 7]])"
     },
     "metadata": {},
     "execution_count": 15
    }
   ],
   "source": [
    "x[1:,1:] #row col"
   ]
  },
  {
   "cell_type": "code",
   "execution_count": 18,
   "metadata": {},
   "outputs": [
    {
     "output_type": "execute_result",
     "data": {
      "text/plain": "array([8, 7])"
     },
     "metadata": {},
     "execution_count": 18
    }
   ],
   "source": [
    "x[1:,2]"
   ]
  },
  {
   "cell_type": "code",
   "execution_count": 20,
   "metadata": {},
   "outputs": [
    {
     "output_type": "execute_result",
     "data": {
      "text/plain": "array([[ 7,  7,  6,  1],\n       [ 8,  8,  6,  7],\n       [ 4,  2,  5, 12]])"
     },
     "metadata": {},
     "execution_count": 20
    }
   ],
   "source": [
    "x[::-1,::-1]"
   ]
  },
  {
   "cell_type": "code",
   "execution_count": 22,
   "metadata": {},
   "outputs": [
    {
     "output_type": "execute_result",
     "data": {
      "text/plain": "array([5, 6, 6])"
     },
     "metadata": {},
     "execution_count": 22
    }
   ],
   "source": [
    "x[:,1] #單取col成array"
   ]
  },
  {
   "cell_type": "code",
   "execution_count": 24,
   "metadata": {},
   "outputs": [
    {
     "output_type": "execute_result",
     "data": {
      "text/plain": "array([1, 6, 7, 7])"
     },
     "metadata": {},
     "execution_count": 24
    }
   ],
   "source": [
    "x[2,:] #單取row成array"
   ]
  },
  {
   "cell_type": "code",
   "execution_count": 25,
   "metadata": {},
   "outputs": [],
   "source": [
    "#np的slice是參考，跟python原本list的slice是複製不一樣\n",
    "#np slice出來得參考會影響到原本的np array\n",
    "#要建立np array的複本要用 .copy()"
   ]
  },
  {
   "cell_type": "code",
   "execution_count": 4,
   "metadata": {},
   "outputs": [
    {
     "output_type": "execute_result",
     "data": {
      "text/plain": "array([[0, 1, 2, 3, 4],\n       [5, 6, 7, 8, 9]])"
     },
     "metadata": {},
     "execution_count": 4
    }
   ],
   "source": [
    "#reshape\n",
    "np.arange(10).reshape(2,5)"
   ]
  },
  {
   "cell_type": "code",
   "execution_count": 15,
   "metadata": {
    "tags": []
   },
   "outputs": [],
   "source": [
    "#np的向量化計算 比python自己的迭代快很多\n",
    "np.random.seed(0)\n",
    "\n",
    "def reciprocals( vals ):\n",
    "    result = np.empty(len(vals))\n",
    "    for i in range(len(vals)):\n",
    "        result[i] = 1/vals[i]\n",
    "    return result"
   ]
  },
  {
   "cell_type": "code",
   "execution_count": 16,
   "metadata": {
    "tags": []
   },
   "outputs": [
    {
     "output_type": "stream",
     "name": "stdout",
     "text": "206 ms ± 803 µs per loop (mean ± std. dev. of 7 runs, 1 loop each)\n"
    }
   ],
   "source": [
    "%timeit reciprocals(np.random.randint(1,100,size=1000000)) #slow"
   ]
  },
  {
   "cell_type": "code",
   "execution_count": 24,
   "metadata": {
    "tags": []
   },
   "outputs": [
    {
     "output_type": "stream",
     "name": "stdout",
     "text": "13.7 ms ± 111 µs per loop (mean ± std. dev. of 7 runs, 100 loops each)\n"
    }
   ],
   "source": [
    "%timeit (1/np.random.randint(1,10,size=1000000)) #fast"
   ]
  },
  {
   "cell_type": "code",
   "execution_count": null,
   "metadata": {},
   "outputs": [],
   "source": []
  }
 ]
}