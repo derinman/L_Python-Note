{
 "metadata": {
  "language_info": {
   "codemirror_mode": {
    "name": "ipython",
    "version": 3
   },
   "file_extension": ".py",
   "mimetype": "text/x-python",
   "name": "python",
   "nbconvert_exporter": "python",
   "pygments_lexer": "ipython3",
   "version": "3.7.4-final"
  },
  "orig_nbformat": 2,
  "kernelspec": {
   "name": "python3",
   "display_name": "Python 3"
  }
 },
 "nbformat": 4,
 "nbformat_minor": 2,
 "cells": [
  {
   "cell_type": "code",
   "execution_count": 2,
   "metadata": {},
   "outputs": [
    {
     "output_type": "execute_result",
     "data": {
      "text/plain": "'1.16.5'"
     },
     "metadata": {},
     "execution_count": 2
    }
   ],
   "source": [
    "import numpy\n",
    "import numpy as np\n",
    "numpy.__version__"
   ]
  },
  {
   "cell_type": "code",
   "execution_count": 3,
   "metadata": {},
   "outputs": [],
   "source": [
    "import numpy as np"
   ]
  },
  {
   "cell_type": "code",
   "execution_count": 4,
   "metadata": {},
   "outputs": [
    {
     "output_type": "execute_result",
     "data": {
      "text/plain": "array([1, 5, 3])"
     },
     "metadata": {},
     "execution_count": 4
    }
   ],
   "source": [
    "np.array([1, 5, 3])"
   ]
  },
  {
   "cell_type": "code",
   "execution_count": 5,
   "metadata": {},
   "outputs": [
    {
     "output_type": "execute_result",
     "data": {
      "text/plain": "array([3.24, 3.  , 5.  ])"
     },
     "metadata": {},
     "execution_count": 5
    }
   ],
   "source": [
    "np.array([3.24, 3, 5])#自動轉成同型態"
   ]
  },
  {
   "cell_type": "code",
   "execution_count": 6,
   "metadata": {},
   "outputs": [
    {
     "output_type": "execute_result",
     "data": {
      "text/plain": "array(['cat', '3'], dtype='<U3')"
     },
     "metadata": {},
     "execution_count": 6
    }
   ],
   "source": [
    "np.array(['cat',3])"
   ]
  },
  {
   "cell_type": "code",
   "execution_count": 7,
   "metadata": {},
   "outputs": [
    {
     "output_type": "execute_result",
     "data": {
      "text/plain": "array(['3', '5'], dtype='<U1')"
     },
     "metadata": {},
     "execution_count": 7
    }
   ],
   "source": [
    "np.array([3, 5],dtype=str)"
   ]
  },
  {
   "cell_type": "code",
   "execution_count": 8,
   "metadata": {},
   "outputs": [
    {
     "output_type": "execute_result",
     "data": {
      "text/plain": "array([[3, 2],\n       [3, 5],\n       [7, 6]])"
     },
     "metadata": {},
     "execution_count": 8
    }
   ],
   "source": [
    "np.array([(3, 2),(3, 5),(7, 6)])#多維"
   ]
  },
  {
   "cell_type": "code",
   "execution_count": 9,
   "metadata": {},
   "outputs": [
    {
     "output_type": "execute_result",
     "data": {
      "text/plain": "array([0, 0, 0, 0, 0, 0, 0, 0, 0, 0])"
     },
     "metadata": {},
     "execution_count": 9
    }
   ],
   "source": [
    "np.zeros(10, dtype = int)"
   ]
  },
  {
   "cell_type": "code",
   "execution_count": 10,
   "metadata": {},
   "outputs": [
    {
     "output_type": "execute_result",
     "data": {
      "text/plain": "array(['', '', '', '', '', '', '', '', '', ''], dtype='<U1')"
     },
     "metadata": {},
     "execution_count": 10
    }
   ],
   "source": [
    "np.zeros(10,dtype=str)"
   ]
  },
  {
   "cell_type": "code",
   "execution_count": 11,
   "metadata": {},
   "outputs": [
    {
     "output_type": "execute_result",
     "data": {
      "text/plain": "array([[1., 1., 1., 1., 1.],\n       [1., 1., 1., 1., 1.]])"
     },
     "metadata": {},
     "execution_count": 11
    }
   ],
   "source": [
    "np.ones((2,5),dtype=float)"
   ]
  },
  {
   "cell_type": "code",
   "execution_count": 12,
   "metadata": {},
   "outputs": [
    {
     "output_type": "execute_result",
     "data": {
      "text/plain": "array([[3.2, 3.2, 3.2, 3.2, 3.2],\n       [3.2, 3.2, 3.2, 3.2, 3.2]])"
     },
     "metadata": {},
     "execution_count": 12
    }
   ],
   "source": [
    "np.full((2, 5), 3.2)"
   ]
  },
  {
   "cell_type": "code",
   "execution_count": 13,
   "metadata": {},
   "outputs": [
    {
     "output_type": "execute_result",
     "data": {
      "text/plain": "array([[[3.2, 3.2, 3.2],\n        [3.2, 3.2, 3.2],\n        [3.2, 3.2, 3.2],\n        [3.2, 3.2, 3.2],\n        [3.2, 3.2, 3.2]],\n\n       [[3.2, 3.2, 3.2],\n        [3.2, 3.2, 3.2],\n        [3.2, 3.2, 3.2],\n        [3.2, 3.2, 3.2],\n        [3.2, 3.2, 3.2]]])"
     },
     "metadata": {},
     "execution_count": 13
    }
   ],
   "source": [
    "np.full((2,5,3),3.2)"
   ]
  },
  {
   "cell_type": "code",
   "execution_count": 14,
   "metadata": {},
   "outputs": [
    {
     "output_type": "execute_result",
     "data": {
      "text/plain": "array([ 0.        ,  6.66666667, 13.33333333, 20.        ])"
     },
     "metadata": {},
     "execution_count": 14
    }
   ],
   "source": [
    "np.linspace(0, 20, 4)"
   ]
  },
  {
   "cell_type": "code",
   "execution_count": 15,
   "metadata": {},
   "outputs": [
    {
     "output_type": "execute_result",
     "data": {
      "text/plain": "array([ 2,  5,  8, 11, 14, 17])"
     },
     "metadata": {},
     "execution_count": 15
    }
   ],
   "source": [
    "np.arange(2, 20, 3)"
   ]
  },
  {
   "cell_type": "code",
   "execution_count": 16,
   "metadata": {},
   "outputs": [
    {
     "output_type": "execute_result",
     "data": {
      "text/plain": "array([[0.90483036, 0.0224481 , 0.55551476, 0.91017844, 0.23683287],\n       [0.17771628, 0.92083017, 0.85264034, 0.49445131, 0.12533096]])"
     },
     "metadata": {},
     "execution_count": 16
    }
   ],
   "source": [
    "np.random.random((2, 5)) #uniform"
   ]
  },
  {
   "cell_type": "code",
   "execution_count": 17,
   "metadata": {},
   "outputs": [
    {
     "output_type": "execute_result",
     "data": {
      "text/plain": "array([[ 0.10879983,  0.6800224 ,  1.85288993, -0.52405376, -0.84267168],\n       [-0.05610497,  1.75203506, -0.63362688, -0.10661167, -2.61679483]])"
     },
     "metadata": {},
     "execution_count": 17
    }
   ],
   "source": [
    "np.random.normal(0,1,(2,5)) #normal distribution mean 0 std 1  "
   ]
  },
  {
   "cell_type": "code",
   "execution_count": 18,
   "metadata": {},
   "outputs": [
    {
     "output_type": "execute_result",
     "data": {
      "text/plain": "array([[81, 75, 43, 99, 77],\n       [85,  9, 75, 42, 83]])"
     },
     "metadata": {},
     "execution_count": 18
    }
   ],
   "source": [
    "np.random.randint(0,100,(2,5))"
   ]
  },
  {
   "cell_type": "code",
   "execution_count": 19,
   "metadata": {},
   "outputs": [
    {
     "output_type": "execute_result",
     "data": {
      "text/plain": "array([[4., 0., 0.],\n       [0., 4., 0.],\n       [0., 0., 4.]])"
     },
     "metadata": {},
     "execution_count": 19
    }
   ],
   "source": [
    "np.eye(3)*4 #單位矩陣"
   ]
  },
  {
   "cell_type": "code",
   "execution_count": 20,
   "metadata": {},
   "outputs": [
    {
     "output_type": "execute_result",
     "data": {
      "text/plain": "(3, (2, 5, 3), 30, dtype('int32'), 4, 120)"
     },
     "metadata": {},
     "execution_count": 20
    }
   ],
   "source": [
    "a = np.random.randint(10,size=(2,5,3))\n",
    "a.ndim, a.shape, a.size, a.dtype, a.itemsize, a.nbytes\n",
    "#itemsize(byte), nbytes(byte)\n",
    "# in general, itemsize * size = nbytes"
   ]
  },
  {
   "cell_type": "code",
   "execution_count": 21,
   "metadata": {},
   "outputs": [
    {
     "output_type": "execute_result",
     "data": {
      "text/plain": "array([[12,  5,  2,  4],\n       [ 7,  6,  8,  8],\n       [ 1,  6,  7,  7]])"
     },
     "metadata": {},
     "execution_count": 21
    }
   ],
   "source": [
    "#slice\n",
    "x = np.array([(12, 5, 2, 4), (7, 6, 8, 8), (1, 6, 7, 7)])\n",
    "x"
   ]
  },
  {
   "cell_type": "code",
   "execution_count": 22,
   "metadata": {},
   "outputs": [
    {
     "output_type": "execute_result",
     "data": {
      "text/plain": "array([[6, 8, 8],\n       [6, 7, 7]])"
     },
     "metadata": {},
     "execution_count": 22
    }
   ],
   "source": [
    "x[1:,1:] #slice, row col u [[list]],[list]]無法這樣slice "
   ]
  },
  {
   "cell_type": "code",
   "execution_count": 23,
   "metadata": {},
   "outputs": [
    {
     "output_type": "execute_result",
     "data": {
      "text/plain": "array([8, 7])"
     },
     "metadata": {},
     "execution_count": 23
    }
   ],
   "source": [
    "x[1:,2]"
   ]
  },
  {
   "cell_type": "code",
   "execution_count": 24,
   "metadata": {},
   "outputs": [
    {
     "output_type": "execute_result",
     "data": {
      "text/plain": "array([[ 7,  7,  6,  1],\n       [ 8,  8,  6,  7],\n       [ 4,  2,  5, 12]])"
     },
     "metadata": {},
     "execution_count": 24
    }
   ],
   "source": [
    "x[::-1,::-1]"
   ]
  },
  {
   "cell_type": "code",
   "execution_count": 25,
   "metadata": {},
   "outputs": [
    {
     "output_type": "execute_result",
     "data": {
      "text/plain": "array([5, 6, 6])"
     },
     "metadata": {},
     "execution_count": 25
    }
   ],
   "source": [
    "x[:,1] #單取col成array"
   ]
  },
  {
   "cell_type": "code",
   "execution_count": 26,
   "metadata": {},
   "outputs": [
    {
     "output_type": "execute_result",
     "data": {
      "text/plain": "array([1, 6, 7, 7])"
     },
     "metadata": {},
     "execution_count": 26
    }
   ],
   "source": [
    "x[2,:] #單取row成array"
   ]
  },
  {
   "cell_type": "code",
   "execution_count": 72,
   "metadata": {},
   "outputs": [
    {
     "output_type": "execute_result",
     "data": {
      "text/plain": "(array([49, 30, 22, 39, 50, 85, 26,  5, 93, 11]), array([39, 26, 11]))"
     },
     "metadata": {},
     "execution_count": 72
    }
   ],
   "source": [
    "#fancy_index\n",
    "y = np.random.randint(100,size=10)\n",
    "fancy_index = [3,6,9]\n",
    "y, y[fancy_index]"
   ]
  },
  {
   "cell_type": "code",
   "execution_count": 27,
   "metadata": {},
   "outputs": [],
   "source": [
    "#np的slice是參考，跟python原本list的slice是複製不一樣\n",
    "#np slice出來得參考會影響到原本的np array\n",
    "#要建立np array的複本要用 .copy()"
   ]
  },
  {
   "cell_type": "code",
   "execution_count": 28,
   "metadata": {},
   "outputs": [
    {
     "output_type": "execute_result",
     "data": {
      "text/plain": "array([[0, 1, 2, 3, 4],\n       [5, 6, 7, 8, 9]])"
     },
     "metadata": {},
     "execution_count": 28
    }
   ],
   "source": [
    "#reshape\n",
    "np.arange(10).reshape(2,5)"
   ]
  },
  {
   "cell_type": "code",
   "execution_count": 29,
   "metadata": {},
   "outputs": [],
   "source": [
    "#相同維度的串接\n",
    "x1 = np.array([1, 2, 3])\n",
    "y1 = np.array([4, 5, 6])"
   ]
  },
  {
   "cell_type": "code",
   "execution_count": 30,
   "metadata": {},
   "outputs": [
    {
     "output_type": "execute_result",
     "data": {
      "text/plain": "array([1, 2, 3, 4, 5, 6])"
     },
     "metadata": {},
     "execution_count": 30
    }
   ],
   "source": [
    "np.concatenate([x1,y1])"
   ]
  },
  {
   "cell_type": "code",
   "execution_count": 31,
   "metadata": {},
   "outputs": [],
   "source": [
    "#不同維度的串接\n",
    "x2 = np.array([(3, 2),(3, 5),(7, 6)])\n",
    "y2 = np.array([(5, 0)])\n",
    "z2 = np.array([[1], [3], [6]])"
   ]
  },
  {
   "cell_type": "code",
   "execution_count": 32,
   "metadata": {},
   "outputs": [
    {
     "output_type": "execute_result",
     "data": {
      "text/plain": "array([[3, 2],\n       [3, 5],\n       [7, 6]])"
     },
     "metadata": {},
     "execution_count": 32
    }
   ],
   "source": [
    "x2"
   ]
  },
  {
   "cell_type": "code",
   "execution_count": 33,
   "metadata": {},
   "outputs": [
    {
     "output_type": "execute_result",
     "data": {
      "text/plain": "array([[5, 0]])"
     },
     "metadata": {},
     "execution_count": 33
    }
   ],
   "source": [
    "y2"
   ]
  },
  {
   "cell_type": "code",
   "execution_count": 34,
   "metadata": {},
   "outputs": [
    {
     "output_type": "execute_result",
     "data": {
      "text/plain": "array([[1],\n       [3],\n       [6]])"
     },
     "metadata": {},
     "execution_count": 34
    }
   ],
   "source": [
    "z2"
   ]
  },
  {
   "cell_type": "code",
   "execution_count": 35,
   "metadata": {},
   "outputs": [
    {
     "output_type": "execute_result",
     "data": {
      "text/plain": "array([[3, 2],\n       [3, 5],\n       [7, 6],\n       [5, 0]])"
     },
     "metadata": {},
     "execution_count": 35
    }
   ],
   "source": [
    "np.vstack( [x2, y2] )"
   ]
  },
  {
   "cell_type": "code",
   "execution_count": 36,
   "metadata": {},
   "outputs": [
    {
     "output_type": "execute_result",
     "data": {
      "text/plain": "array([[3, 2, 1],\n       [3, 5, 3],\n       [7, 6, 6]])"
     },
     "metadata": {},
     "execution_count": 36
    }
   ],
   "source": [
    "np.hstack( [x2, z2] )"
   ]
  },
  {
   "cell_type": "code",
   "execution_count": 37,
   "metadata": {},
   "outputs": [
    {
     "output_type": "execute_result",
     "data": {
      "text/plain": "(array([2, 5]), array([6, 7, 3]), array([6, 3, 6]))"
     },
     "metadata": {},
     "execution_count": 37
    }
   ],
   "source": [
    "a, b, c = np.split(np.array((2,5,6,7,3,6,3,6)), [2,5]  )\n",
    "a, b, c"
   ]
  },
  {
   "cell_type": "code",
   "execution_count": 38,
   "metadata": {},
   "outputs": [
    {
     "output_type": "execute_result",
     "data": {
      "text/plain": "(array([[0, 1, 2, 3],\n        [4, 5, 6, 7]]), array([[ 8,  9, 10, 11],\n        [12, 13, 14, 15]]))"
     },
     "metadata": {},
     "execution_count": 38
    }
   ],
   "source": [
    "a, b = np.vsplit( np.arange(16).reshape([4,4]), [2] )\n",
    "a, b"
   ]
  },
  {
   "cell_type": "code",
   "execution_count": 39,
   "metadata": {},
   "outputs": [
    {
     "output_type": "execute_result",
     "data": {
      "text/plain": "(array([[ 0,  1],\n        [ 4,  5],\n        [ 8,  9],\n        [12, 13]]), array([[ 2,  3],\n        [ 6,  7],\n        [10, 11],\n        [14, 15]]))"
     },
     "metadata": {},
     "execution_count": 39
    }
   ],
   "source": [
    "c, d = np.hsplit( np.arange(16).reshape([4,4]), [2] )\n",
    "c, d"
   ]
  },
  {
   "cell_type": "code",
   "execution_count": 40,
   "metadata": {},
   "outputs": [],
   "source": [
    "#np的這種量化化計算稱作ufunction (universal function)\n",
    "#np的向量化計算 比python自己的迭代快很多\n",
    "\n",
    "np.random.seed(0)\n",
    "\n",
    "def reciprocals( vals ):\n",
    "    result = np.empty(len(vals))\n",
    "    for i in range(len(vals)):\n",
    "        result[i] = 1/vals[i]\n",
    "    return result"
   ]
  },
  {
   "cell_type": "code",
   "execution_count": 41,
   "metadata": {
    "tags": []
   },
   "outputs": [
    {
     "output_type": "stream",
     "name": "stdout",
     "text": "207 ms ± 3.31 ms per loop (mean ± std. dev. of 7 runs, 1 loop each)\n"
    }
   ],
   "source": [
    "%timeit reciprocals(np.random.randint(1,100,size=1000000)) #slow"
   ]
  },
  {
   "cell_type": "code",
   "execution_count": 42,
   "metadata": {
    "tags": []
   },
   "outputs": [
    {
     "output_type": "stream",
     "name": "stdout",
     "text": "13.8 ms ± 55.7 µs per loop (mean ± std. dev. of 7 runs, 100 loops each)\n"
    }
   ],
   "source": [
    "%timeit (1/np.random.randint(1,10,size=1000000)) #fast"
   ]
  },
  {
   "cell_type": "code",
   "execution_count": 43,
   "metadata": {},
   "outputs": [
    {
     "output_type": "execute_result",
     "data": {
      "text/plain": "array([[0, 1, 2],\n       [3, 4, 5],\n       [6, 7, 8]])"
     },
     "metadata": {},
     "execution_count": 43
    }
   ],
   "source": [
    "a = np.arange(9).reshape(3,3)\n",
    "b = a * 2\n",
    "c = 2 ** a\n",
    "a"
   ]
  },
  {
   "cell_type": "code",
   "execution_count": 44,
   "metadata": {},
   "outputs": [
    {
     "output_type": "execute_result",
     "data": {
      "text/plain": "array([[ 0,  2,  4],\n       [ 6,  8, 10],\n       [12, 14, 16]])"
     },
     "metadata": {},
     "execution_count": 44
    }
   ],
   "source": [
    "b"
   ]
  },
  {
   "cell_type": "code",
   "execution_count": 45,
   "metadata": {},
   "outputs": [
    {
     "output_type": "execute_result",
     "data": {
      "text/plain": "array([[  1,   2,   4],\n       [  8,  16,  32],\n       [ 64, 128, 256]], dtype=int32)"
     },
     "metadata": {},
     "execution_count": 45
    }
   ],
   "source": [
    "c"
   ]
  },
  {
   "cell_type": "code",
   "execution_count": 46,
   "metadata": {
    "tags": []
   },
   "outputs": [
    {
     "output_type": "stream",
     "name": "stdout",
     "text": "[5 6 7 8 9] [ 0  1  4  9 16] [       inf 1.         0.5        0.33333333 0.25      ] [ 0 -1 -2 -3 -4]\n"
    }
   ],
   "source": [
    "a = np.arange(5)\n",
    "print( a + 5 , a **2 , 1 / a , -a)"
   ]
  },
  {
   "cell_type": "code",
   "execution_count": 47,
   "metadata": {},
   "outputs": [
    {
     "output_type": "execute_result",
     "data": {
      "text/plain": "(array([ True,  True,  True,  True, False, False, False, False, False,\n        False]), 4, 4)"
     },
     "metadata": {},
     "execution_count": 47
    }
   ],
   "source": [
    "x = np.arange(10)\n",
    "x < 4, np.count_nonzero( x < 4 ), np.sum( x < 4 )"
   ]
  },
  {
   "cell_type": "code",
   "execution_count": 48,
   "metadata": {},
   "outputs": [
    {
     "output_type": "execute_result",
     "data": {
      "text/plain": "(False, True)"
     },
     "metadata": {},
     "execution_count": 48
    }
   ],
   "source": [
    "np.all( x < 4 ), np.any( x < 4 )"
   ]
  },
  {
   "cell_type": "code",
   "execution_count": 49,
   "metadata": {},
   "outputs": [
    {
     "output_type": "execute_result",
     "data": {
      "text/plain": "array([0, 1, 2, 3])"
     },
     "metadata": {},
     "execution_count": 49
    }
   ],
   "source": [
    "x[ x < 4 ]"
   ]
  },
  {
   "cell_type": "code",
   "execution_count": 50,
   "metadata": {},
   "outputs": [
    {
     "output_type": "execute_result",
     "data": {
      "text/plain": "array([0.        , 1.57079633, 3.14159265, 4.71238898, 6.28318531])"
     },
     "metadata": {},
     "execution_count": 50
    }
   ],
   "source": [
    "#三角函數\n",
    "theta = np.linspace(0, np.pi*2 , 5)\n",
    "theta"
   ]
  },
  {
   "cell_type": "code",
   "execution_count": 51,
   "metadata": {},
   "outputs": [
    {
     "output_type": "execute_result",
     "data": {
      "text/plain": "array([ 0.0000000e+00,  1.0000000e+00,  1.2246468e-16, -1.0000000e+00,\n       -2.4492936e-16])"
     },
     "metadata": {},
     "execution_count": 51
    }
   ],
   "source": [
    "np.sin(theta)"
   ]
  },
  {
   "cell_type": "code",
   "execution_count": 52,
   "metadata": {},
   "outputs": [
    {
     "output_type": "execute_result",
     "data": {
      "text/plain": "(1.2246467991473532e-16, True)"
     },
     "metadata": {},
     "execution_count": 52
    }
   ],
   "source": [
    "import math\n",
    "math.sin(math.pi), np.allclose(math.sin(math.pi),0)"
   ]
  },
  {
   "cell_type": "code",
   "execution_count": 53,
   "metadata": {},
   "outputs": [
    {
     "output_type": "execute_result",
     "data": {
      "text/plain": "(array([ 2.71828183,  7.3890561 , 20.08553692]),\n array([ 3,  9, 27], dtype=int32))"
     },
     "metadata": {},
     "execution_count": 53
    }
   ],
   "source": [
    "np.exp([1,2,3]), np.power(3,[1,2,3])"
   ]
  },
  {
   "cell_type": "code",
   "execution_count": 54,
   "metadata": {},
   "outputs": [
    {
     "output_type": "execute_result",
     "data": {
      "text/plain": "(array([0.        , 0.69314718, 1.38629436, 2.30258509]),\n array([0.        , 0.30103   , 0.60205999, 1.        ]))"
     },
     "metadata": {},
     "execution_count": 54
    }
   ],
   "source": [
    "np.log([1,2,4,10]), np.log10([1,2,4,10])"
   ]
  },
  {
   "cell_type": "code",
   "execution_count": 55,
   "metadata": {},
   "outputs": [
    {
     "output_type": "execute_result",
     "data": {
      "text/plain": "array([ 0., 12., 24., 36., 48.])"
     },
     "metadata": {},
     "execution_count": 55
    }
   ],
   "source": [
    "#預先決定輸出的記憶體\n",
    "x = np.arange(5)\n",
    "y = np.empty(5)\n",
    "np.multiply(x,12,out=y)"
   ]
  },
  {
   "cell_type": "code",
   "execution_count": 56,
   "metadata": {},
   "outputs": [
    {
     "output_type": "execute_result",
     "data": {
      "text/plain": "array([ 1.,  0.,  2.,  0.,  4.,  0.,  8.,  0., 16.,  0.])"
     },
     "metadata": {},
     "execution_count": 56
    }
   ],
   "source": [
    "a = np.arange(5)\n",
    "b = np.zeros(10)\n",
    "np.power(2,x,out=b[::2])\n",
    "b"
   ]
  },
  {
   "cell_type": "code",
   "execution_count": 57,
   "metadata": {},
   "outputs": [
    {
     "output_type": "execute_result",
     "data": {
      "text/plain": "(15,\n 120,\n array([ 1,  3,  6, 10, 15], dtype=int32),\n array([  1,   2,   6,  24, 120], dtype=int32))"
     },
     "metadata": {},
     "execution_count": 57
    }
   ],
   "source": [
    "x = np.arange(1,6)\n",
    "np.add.reduce(x), np.multiply.reduce(x), np.add.accumulate(x), np.multiply.accumulate(x)"
   ]
  },
  {
   "cell_type": "code",
   "execution_count": 58,
   "metadata": {},
   "outputs": [
    {
     "output_type": "execute_result",
     "data": {
      "text/plain": "array([[ 1,  2,  3,  4],\n       [ 2,  4,  6,  8],\n       [ 3,  6,  9, 12],\n       [ 4,  8, 12, 16]])"
     },
     "metadata": {},
     "execution_count": 58
    }
   ],
   "source": [
    "#外積\n",
    "x = np.arange(1,5)\n",
    "np.multiply.outer(x, x)"
   ]
  },
  {
   "cell_type": "code",
   "execution_count": 59,
   "metadata": {
    "tags": []
   },
   "outputs": [
    {
     "output_type": "stream",
     "name": "stdout",
     "text": "382 µs ± 7.13 µs per loop (mean ± std. dev. of 7 runs, 1000 loops each)\n58.6 ms ± 471 µs per loop (mean ± std. dev. of 7 runs, 10 loops each)\n"
    }
   ],
   "source": [
    "#summerise\n",
    "x = np.random.random(1000000)\n",
    "%timeit np.sum(x) #快多了\n",
    "%timeit sum(x)"
   ]
  },
  {
   "cell_type": "code",
   "execution_count": 60,
   "metadata": {},
   "outputs": [
    {
     "output_type": "execute_result",
     "data": {
      "text/plain": "(500168.7040887299, 500168.70408871677)"
     },
     "metadata": {},
     "execution_count": 60
    }
   ],
   "source": [
    "np.sum(x), sum(x)"
   ]
  },
  {
   "cell_type": "code",
   "execution_count": 61,
   "metadata": {},
   "outputs": [
    {
     "output_type": "execute_result",
     "data": {
      "text/plain": "(0.999998787907165,\n 5.158617836231727e-07,\n 0.999998787907165,\n 5.158617836231727e-07)"
     },
     "metadata": {},
     "execution_count": 61
    }
   ],
   "source": [
    "#as same as\n",
    "np.max(x), np.min(x), x.max(), x.min()"
   ]
  },
  {
   "cell_type": "code",
   "execution_count": 62,
   "metadata": {},
   "outputs": [
    {
     "output_type": "execute_result",
     "data": {
      "text/plain": "(0.5001687040887299, 0.28853804714128906)"
     },
     "metadata": {},
     "execution_count": 62
    }
   ],
   "source": [
    "x.mean(), x.std()"
   ]
  },
  {
   "cell_type": "code",
   "execution_count": 63,
   "metadata": {},
   "outputs": [
    {
     "output_type": "execute_result",
     "data": {
      "text/plain": "array([[0, 1, 2, 3, 4],\n       [5, 6, 7, 8, 9]])"
     },
     "metadata": {},
     "execution_count": 63
    }
   ],
   "source": [
    "y = np.arange(10).reshape(2,5)\n",
    "y"
   ]
  },
  {
   "cell_type": "code",
   "execution_count": 64,
   "metadata": {},
   "outputs": [
    {
     "output_type": "execute_result",
     "data": {
      "text/plain": "(array([ 5,  7,  9, 11, 13]), array([10, 35]))"
     },
     "metadata": {},
     "execution_count": 64
    }
   ],
   "source": [
    "y.sum(axis=0), y.sum(axis=1)"
   ]
  },
  {
   "cell_type": "code",
   "execution_count": 65,
   "metadata": {},
   "outputs": [
    {
     "output_type": "execute_result",
     "data": {
      "text/plain": "array([[0.34903887, 0.41383345, 0.12610464],\n       [0.8017063 , 0.83679328, 0.79434371],\n       [0.93785879, 0.56067054, 0.53311117],\n       [0.21345851, 0.62608098, 0.99199013],\n       [0.30751264, 0.62071148, 0.76043513],\n       [0.79039028, 0.92523932, 0.73168698],\n       [0.6565096 , 0.72330732, 0.96207376],\n       [0.31600605, 0.92131894, 0.38982207],\n       [0.26681041, 0.77784936, 0.45277098],\n       [0.57602478, 0.4920668 , 0.859543  ]])"
     },
     "metadata": {},
     "execution_count": 65
    }
   ],
   "source": [
    "a = np.random.random((10,3))\n",
    "a"
   ]
  },
  {
   "cell_type": "code",
   "execution_count": 66,
   "metadata": {},
   "outputs": [
    {
     "output_type": "execute_result",
     "data": {
      "text/plain": "array([0.52153162, 0.68978715, 0.66018816])"
     },
     "metadata": {},
     "execution_count": 66
    }
   ],
   "source": [
    "a.mean(axis=0)"
   ]
  },
  {
   "cell_type": "code",
   "execution_count": 67,
   "metadata": {},
   "outputs": [
    {
     "output_type": "execute_result",
     "data": {
      "text/plain": "array([[-0.17249275, -0.2759537 , -0.53408352],\n       [ 0.28017468,  0.14700613,  0.13415555],\n       [ 0.41632717, -0.1291166 , -0.12707699],\n       [-0.30807311, -0.06370616,  0.33180198],\n       [-0.21401898, -0.06907567,  0.10024697],\n       [ 0.26885866,  0.23545217,  0.07149883],\n       [ 0.13497798,  0.03352017,  0.30188561],\n       [-0.20552557,  0.23153179, -0.27036608],\n       [-0.25472121,  0.08806221, -0.20741718],\n       [ 0.05449315, -0.19772035,  0.19935484]])"
     },
     "metadata": {},
     "execution_count": 67
    }
   ],
   "source": [
    "#broadcasting，可去查詢broadcasting詳細規則\n",
    "#全部的數減去平均值\n",
    "b = a - a.mean(axis=0)\n",
    "b"
   ]
  },
  {
   "cell_type": "code",
   "execution_count": 68,
   "metadata": {},
   "outputs": [
    {
     "output_type": "execute_result",
     "data": {
      "text/plain": "array([-1.11022302e-16, -4.44089210e-17,  2.22044605e-17])"
     },
     "metadata": {},
     "execution_count": 68
    }
   ],
   "source": [
    "#驗算，都接近0\n",
    "b.mean(axis=0)"
   ]
  },
  {
   "cell_type": "code",
   "execution_count": null,
   "metadata": {},
   "outputs": [],
   "source": []
  }
 ]
}