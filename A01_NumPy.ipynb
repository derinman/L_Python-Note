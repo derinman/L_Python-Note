{
 "metadata": {
  "language_info": {
   "codemirror_mode": {
    "name": "ipython",
    "version": 3
   },
   "file_extension": ".py",
   "mimetype": "text/x-python",
   "name": "python",
   "nbconvert_exporter": "python",
   "pygments_lexer": "ipython3",
   "version": "3.7.4-final"
  },
  "orig_nbformat": 2,
  "kernelspec": {
   "name": "python_defaultSpec_1598100591974",
   "display_name": "Python 3.7.4 64-bit ('base': conda)"
  }
 },
 "nbformat": 4,
 "nbformat_minor": 2,
 "cells": [
  {
   "cell_type": "code",
   "execution_count": 4,
   "metadata": {},
   "outputs": [
    {
     "output_type": "execute_result",
     "data": {
      "text/plain": "'1.16.5'"
     },
     "metadata": {},
     "execution_count": 4
    }
   ],
   "source": [
    "import numpy\n",
    "numpy.__version__"
   ]
  },
  {
   "cell_type": "code",
   "execution_count": 5,
   "metadata": {},
   "outputs": [],
   "source": [
    "import numpy as np"
   ]
  },
  {
   "cell_type": "code",
   "execution_count": 9,
   "metadata": {},
   "outputs": [
    {
     "output_type": "execute_result",
     "data": {
      "text/plain": "array([1, 5, 3])"
     },
     "metadata": {},
     "execution_count": 9
    }
   ],
   "source": [
    "np.array([1, 5, 3])"
   ]
  },
  {
   "cell_type": "code",
   "execution_count": 11,
   "metadata": {},
   "outputs": [
    {
     "output_type": "execute_result",
     "data": {
      "text/plain": "array([3.24, 3.  , 5.  ])"
     },
     "metadata": {},
     "execution_count": 11
    }
   ],
   "source": [
    "np.array([3.24, 3, 5])#自動轉成同型態"
   ]
  },
  {
   "cell_type": "code",
   "execution_count": 13,
   "metadata": {},
   "outputs": [
    {
     "output_type": "execute_result",
     "data": {
      "text/plain": "array(['cat', '3'], dtype='<U3')"
     },
     "metadata": {},
     "execution_count": 13
    }
   ],
   "source": [
    "np.array(['cat',3])"
   ]
  },
  {
   "cell_type": "code",
   "execution_count": 19,
   "metadata": {},
   "outputs": [
    {
     "output_type": "execute_result",
     "data": {
      "text/plain": "array(['3', '5'], dtype='<U1')"
     },
     "metadata": {},
     "execution_count": 19
    }
   ],
   "source": [
    "np.array([3,5],dtype=str)"
   ]
  },
  {
   "cell_type": "code",
   "execution_count": 43,
   "metadata": {},
   "outputs": [
    {
     "output_type": "execute_result",
     "data": {
      "text/plain": "array([[3, 2],\n       [3, 5],\n       [7, 6]])"
     },
     "metadata": {},
     "execution_count": 43
    }
   ],
   "source": [
    "np.array([(3,2),(3,5),(7,6)])#多維"
   ]
  },
  {
   "cell_type": "code",
   "execution_count": 22,
   "metadata": {},
   "outputs": [
    {
     "output_type": "execute_result",
     "data": {
      "text/plain": "array([0, 0, 0, 0, 0, 0, 0, 0, 0, 0])"
     },
     "metadata": {},
     "execution_count": 22
    }
   ],
   "source": [
    "np.zeros(10, dtype=int)"
   ]
  },
  {
   "cell_type": "code",
   "execution_count": 24,
   "metadata": {},
   "outputs": [
    {
     "output_type": "execute_result",
     "data": {
      "text/plain": "array(['', '', '', '', '', '', '', '', '', ''], dtype='<U1')"
     },
     "metadata": {},
     "execution_count": 24
    }
   ],
   "source": [
    "np.zeros(10,dtype=str)"
   ]
  },
  {
   "cell_type": "code",
   "execution_count": 28,
   "metadata": {},
   "outputs": [
    {
     "output_type": "execute_result",
     "data": {
      "text/plain": "array([[1., 1., 1., 1., 1.],\n       [1., 1., 1., 1., 1.]])"
     },
     "metadata": {},
     "execution_count": 28
    }
   ],
   "source": [
    "np.ones((2,5),dtype=float)"
   ]
  },
  {
   "cell_type": "code",
   "execution_count": 45,
   "metadata": {},
   "outputs": [
    {
     "output_type": "execute_result",
     "data": {
      "text/plain": "array([[3.2, 3.2, 3.2, 3.2, 3.2],\n       [3.2, 3.2, 3.2, 3.2, 3.2]])"
     },
     "metadata": {},
     "execution_count": 45
    }
   ],
   "source": [
    "np.full((2,5),3.2)"
   ]
  },
  {
   "cell_type": "code",
   "execution_count": 46,
   "metadata": {},
   "outputs": [
    {
     "output_type": "execute_result",
     "data": {
      "text/plain": "array([[[3.2, 3.2, 3.2],\n        [3.2, 3.2, 3.2],\n        [3.2, 3.2, 3.2],\n        [3.2, 3.2, 3.2],\n        [3.2, 3.2, 3.2]],\n\n       [[3.2, 3.2, 3.2],\n        [3.2, 3.2, 3.2],\n        [3.2, 3.2, 3.2],\n        [3.2, 3.2, 3.2],\n        [3.2, 3.2, 3.2]]])"
     },
     "metadata": {},
     "execution_count": 46
    }
   ],
   "source": [
    "np.full((2,5,3),3.2)"
   ]
  },
  {
   "cell_type": "code",
   "execution_count": 32,
   "metadata": {},
   "outputs": [
    {
     "output_type": "execute_result",
     "data": {
      "text/plain": "array([ 2,  6, 10, 14, 18])"
     },
     "metadata": {},
     "execution_count": 32
    }
   ],
   "source": [
    "np.arange(2,20,4)"
   ]
  },
  {
   "cell_type": "code",
   "execution_count": 34,
   "metadata": {},
   "outputs": [
    {
     "output_type": "execute_result",
     "data": {
      "text/plain": "array([[0.5765114 , 0.12809911, 0.15957936, 0.387803  , 0.95227374],\n       [0.61668601, 0.21039998, 0.13317614, 0.28143099, 0.10474003]])"
     },
     "metadata": {},
     "execution_count": 34
    }
   ],
   "source": [
    "np.random.random((2,5)) #uniform"
   ]
  },
  {
   "cell_type": "code",
   "execution_count": 37,
   "metadata": {},
   "outputs": [
    {
     "output_type": "execute_result",
     "data": {
      "text/plain": "array([[ 0.8817991 , -1.17031428, -0.8700155 , -0.50188433, -1.08836966],\n       [ 0.1058192 , -1.0172433 , -0.7922935 , -1.00369606,  0.01819413]])"
     },
     "metadata": {},
     "execution_count": 37
    }
   ],
   "source": [
    "np.random.normal(0,1,(2,5)) #normal distribution mean 0 std 1  "
   ]
  },
  {
   "cell_type": "code",
   "execution_count": 39,
   "metadata": {},
   "outputs": [
    {
     "output_type": "execute_result",
     "data": {
      "text/plain": "array([[78, 33,  8, 66, 37],\n       [54, 27, 46, 46, 11]])"
     },
     "metadata": {},
     "execution_count": 39
    }
   ],
   "source": [
    "np.random.randint(0,100,(2,5))"
   ]
  },
  {
   "cell_type": "code",
   "execution_count": 42,
   "metadata": {},
   "outputs": [
    {
     "output_type": "execute_result",
     "data": {
      "text/plain": "array([[1., 0., 0.],\n       [0., 1., 0.],\n       [0., 0., 1.]])"
     },
     "metadata": {},
     "execution_count": 42
    }
   ],
   "source": [
    "np.eye(3) #單位矩陣"
   ]
  },
  {
   "cell_type": "code",
   "execution_count": 61,
   "metadata": {},
   "outputs": [
    {
     "output_type": "execute_result",
     "data": {
      "text/plain": "(3, (2, 5, 3), 30, dtype('int32'))"
     },
     "metadata": {},
     "execution_count": 61
    }
   ],
   "source": [
    "a = np.random.randint(10,size=(2,5,3))\n",
    "a.ndim, a.shape, a.size, a.dtype"
   ]
  }
 ]
}