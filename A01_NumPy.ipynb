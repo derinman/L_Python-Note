{
 "metadata": {
  "language_info": {
   "codemirror_mode": {
    "name": "ipython",
    "version": 3
   },
   "file_extension": ".py",
   "mimetype": "text/x-python",
   "name": "python",
   "nbconvert_exporter": "python",
   "pygments_lexer": "ipython3",
   "version": "3.7.4-final"
  },
  "orig_nbformat": 2,
  "kernelspec": {
   "name": "python3",
   "display_name": "Python 3"
  }
 },
 "nbformat": 4,
 "nbformat_minor": 2,
 "cells": [
  {
   "cell_type": "code",
   "execution_count": 13,
   "metadata": {},
   "outputs": [
    {
     "output_type": "execute_result",
     "data": {
      "text/plain": "'1.16.5'"
     },
     "metadata": {},
     "execution_count": 13
    }
   ],
   "source": [
    "import numpy\n",
    "import numpy as np\n",
    "numpy.__version__"
   ]
  },
  {
   "cell_type": "code",
   "execution_count": 14,
   "metadata": {},
   "outputs": [],
   "source": [
    "#相同維度的串接\n",
    "x1 = np.array([1, 2, 3])\n",
    "y1 = np.array([4, 5, 6])"
   ]
  },
  {
   "cell_type": "code",
   "execution_count": 15,
   "metadata": {},
   "outputs": [
    {
     "output_type": "execute_result",
     "data": {
      "text/plain": "array([1, 2, 3, 4, 5, 6])"
     },
     "metadata": {},
     "execution_count": 15
    }
   ],
   "source": [
    "np.concatenate([x1,y1])"
   ]
  },
  {
   "cell_type": "code",
   "execution_count": 16,
   "metadata": {},
   "outputs": [],
   "source": [
    "#不同維度的串接\n",
    "x2 = np.array([(3, 2),(3, 5),(7, 6)])\n",
    "y2 = np.array([(5, 0)])\n",
    "z2 = np.array([[1], [3], [6]])"
   ]
  },
  {
   "cell_type": "code",
   "execution_count": 17,
   "metadata": {},
   "outputs": [
    {
     "output_type": "execute_result",
     "data": {
      "text/plain": "array([[3, 2],\n       [3, 5],\n       [7, 6]])"
     },
     "metadata": {},
     "execution_count": 17
    }
   ],
   "source": [
    "x2"
   ]
  },
  {
   "cell_type": "code",
   "execution_count": 18,
   "metadata": {},
   "outputs": [
    {
     "output_type": "execute_result",
     "data": {
      "text/plain": "array([[5, 0]])"
     },
     "metadata": {},
     "execution_count": 18
    }
   ],
   "source": [
    "y2"
   ]
  },
  {
   "cell_type": "code",
   "execution_count": 19,
   "metadata": {},
   "outputs": [
    {
     "output_type": "execute_result",
     "data": {
      "text/plain": "array([[1],\n       [3],\n       [6]])"
     },
     "metadata": {},
     "execution_count": 19
    }
   ],
   "source": [
    "z2"
   ]
  },
  {
   "cell_type": "code",
   "execution_count": 20,
   "metadata": {},
   "outputs": [
    {
     "output_type": "execute_result",
     "data": {
      "text/plain": "array([[3, 2],\n       [3, 5],\n       [7, 6],\n       [5, 0]])"
     },
     "metadata": {},
     "execution_count": 20
    }
   ],
   "source": [
    "np.vstack( [x2, y2] )"
   ]
  },
  {
   "cell_type": "code",
   "execution_count": 21,
   "metadata": {},
   "outputs": [
    {
     "output_type": "execute_result",
     "data": {
      "text/plain": "array([[3, 2, 1],\n       [3, 5, 3],\n       [7, 6, 6]])"
     },
     "metadata": {},
     "execution_count": 21
    }
   ],
   "source": [
    "np.hstack( [x2, z2] )"
   ]
  },
  {
   "cell_type": "code",
   "execution_count": 22,
   "metadata": {},
   "outputs": [
    {
     "output_type": "execute_result",
     "data": {
      "text/plain": "(array([2, 5]), array([6, 7, 3]), array([6, 3, 6]))"
     },
     "metadata": {},
     "execution_count": 22
    }
   ],
   "source": [
    "a, b, c = np.split(np.array((2,5,6,7,3,6,3,6)), [2,5]  )\n",
    "a, b, c"
   ]
  },
  {
   "cell_type": "code",
   "execution_count": 23,
   "metadata": {},
   "outputs": [
    {
     "output_type": "execute_result",
     "data": {
      "text/plain": "(array([[0, 1, 2, 3],\n        [4, 5, 6, 7]]), array([[ 8,  9, 10, 11],\n        [12, 13, 14, 15]]))"
     },
     "metadata": {},
     "execution_count": 23
    }
   ],
   "source": [
    "a, b = np.vsplit( np.arange(16).reshape([4,4]), [2] )\n",
    "a, b"
   ]
  },
  {
   "cell_type": "code",
   "execution_count": 24,
   "metadata": {},
   "outputs": [
    {
     "output_type": "execute_result",
     "data": {
      "text/plain": "(array([[ 0,  1],\n        [ 4,  5],\n        [ 8,  9],\n        [12, 13]]), array([[ 2,  3],\n        [ 6,  7],\n        [10, 11],\n        [14, 15]]))"
     },
     "metadata": {},
     "execution_count": 24
    }
   ],
   "source": [
    "c, d = np.hsplit( np.arange(16).reshape([4,4]), [2] )\n",
    "c, d"
   ]
  },
  {
   "cell_type": "code",
   "execution_count": 25,
   "metadata": {},
   "outputs": [
    {
     "output_type": "execute_result",
     "data": {
      "text/plain": "array([ 0., 12., 24., 36., 48.])"
     },
     "metadata": {},
     "execution_count": 25
    }
   ],
   "source": [
    "#預先決定輸出的記憶體\n",
    "x = np.arange(5)\n",
    "y = np.empty(5)\n",
    "np.multiply(x,12,out=y)"
   ]
  },
  {
   "cell_type": "code",
   "execution_count": 26,
   "metadata": {},
   "outputs": [
    {
     "output_type": "execute_result",
     "data": {
      "text/plain": "array([ 1.,  0.,  2.,  0.,  4.,  0.,  8.,  0., 16.,  0.])"
     },
     "metadata": {},
     "execution_count": 26
    }
   ],
   "source": [
    "a = np.arange(5)\n",
    "b = np.zeros(10)\n",
    "np.power(2,x,out=b[::2])\n",
    "b"
   ]
  },
  {
   "cell_type": "code",
   "execution_count": 27,
   "metadata": {},
   "outputs": [
    {
     "output_type": "execute_result",
     "data": {
      "text/plain": "(15,\n 120,\n array([ 1,  3,  6, 10, 15], dtype=int32),\n array([  1,   2,   6,  24, 120], dtype=int32))"
     },
     "metadata": {},
     "execution_count": 27
    }
   ],
   "source": [
    "x = np.arange(1,6)\n",
    "np.add.reduce(x), np.multiply.reduce(x), np.add.accumulate(x), np.multiply.accumulate(x)"
   ]
  },
  {
   "cell_type": "code",
   "execution_count": 28,
   "metadata": {},
   "outputs": [
    {
     "output_type": "execute_result",
     "data": {
      "text/plain": "array([[ 1,  2,  3,  4],\n       [ 2,  4,  6,  8],\n       [ 3,  6,  9, 12],\n       [ 4,  8, 12, 16]])"
     },
     "metadata": {},
     "execution_count": 28
    }
   ],
   "source": [
    "#外積\n",
    "x = np.arange(1,5)\n",
    "np.multiply.outer(x, x)"
   ]
  },
  {
   "cell_type": "code",
   "execution_count": 29,
   "metadata": {
    "tags": []
   },
   "outputs": [
    {
     "output_type": "stream",
     "name": "stdout",
     "text": "1.78 ms ± 364 µs per loop (mean ± std. dev. of 7 runs, 100 loops each)\n93.3 ms ± 19.9 ms per loop (mean ± std. dev. of 7 runs, 10 loops each)\n"
    }
   ],
   "source": [
    "#summerise\n",
    "x = np.random.random(1000000)\n",
    "%timeit np.sum(x) #快多了\n",
    "%timeit sum(x)"
   ]
  },
  {
   "cell_type": "code",
   "execution_count": 30,
   "metadata": {},
   "outputs": [
    {
     "output_type": "execute_result",
     "data": {
      "text/plain": "(499759.57566147397, 499759.5756614582)"
     },
     "metadata": {},
     "execution_count": 30
    }
   ],
   "source": [
    "np.sum(x), sum(x)"
   ]
  },
  {
   "cell_type": "code",
   "execution_count": 31,
   "metadata": {},
   "outputs": [
    {
     "output_type": "execute_result",
     "data": {
      "text/plain": "(0.9999986629403189,\n 6.440207899194306e-07,\n 0.9999986629403189,\n 6.440207899194306e-07)"
     },
     "metadata": {},
     "execution_count": 31
    }
   ],
   "source": [
    "#as same as\n",
    "np.max(x), np.min(x), x.max(), x.min()"
   ]
  },
  {
   "cell_type": "code",
   "execution_count": 32,
   "metadata": {},
   "outputs": [
    {
     "output_type": "execute_result",
     "data": {
      "text/plain": "(0.49975957566147394, 0.2887715911644051)"
     },
     "metadata": {},
     "execution_count": 32
    }
   ],
   "source": [
    "x.mean(), x.std()"
   ]
  },
  {
   "cell_type": "code",
   "execution_count": 33,
   "metadata": {},
   "outputs": [
    {
     "output_type": "execute_result",
     "data": {
      "text/plain": "array([[0, 1, 2, 3, 4],\n       [5, 6, 7, 8, 9]])"
     },
     "metadata": {},
     "execution_count": 33
    }
   ],
   "source": [
    "y = np.arange(10).reshape(2,5)\n",
    "y"
   ]
  },
  {
   "cell_type": "code",
   "execution_count": 34,
   "metadata": {},
   "outputs": [
    {
     "output_type": "execute_result",
     "data": {
      "text/plain": "(array([ 5,  7,  9, 11, 13]), array([10, 35]))"
     },
     "metadata": {},
     "execution_count": 34
    }
   ],
   "source": [
    "y.sum(axis=0), y.sum(axis=1)"
   ]
  },
  {
   "cell_type": "code",
   "execution_count": 35,
   "metadata": {},
   "outputs": [
    {
     "output_type": "execute_result",
     "data": {
      "text/plain": "array([[0.40307107, 0.35039816, 0.1011153 ],\n       [0.39788394, 0.2034482 , 0.29594177],\n       [0.58992049, 0.33016915, 0.77702013],\n       [0.94340564, 0.06017329, 0.57132594],\n       [0.32189097, 0.67478118, 0.06384082],\n       [0.26779096, 0.48911728, 0.46486055],\n       [0.96823996, 0.48016475, 0.69199479],\n       [0.13230255, 0.46658056, 0.11318993],\n       [0.0192116 , 0.36199732, 0.75677021],\n       [0.02430642, 0.64210842, 0.25569125]])"
     },
     "metadata": {},
     "execution_count": 35
    }
   ],
   "source": [
    "a = np.random.random((10,3))\n",
    "a"
   ]
  },
  {
   "cell_type": "code",
   "execution_count": 36,
   "metadata": {},
   "outputs": [
    {
     "output_type": "execute_result",
     "data": {
      "text/plain": "array([0.40680236, 0.40589383, 0.40917507])"
     },
     "metadata": {},
     "execution_count": 36
    }
   ],
   "source": [
    "a.mean(axis=0)"
   ]
  },
  {
   "cell_type": "code",
   "execution_count": 37,
   "metadata": {},
   "outputs": [
    {
     "output_type": "execute_result",
     "data": {
      "text/plain": "array([[-0.00373129, -0.05549567, -0.30805977],\n       [-0.00891842, -0.20244563, -0.1132333 ],\n       [ 0.18311813, -0.07572468,  0.36784506],\n       [ 0.53660328, -0.34572054,  0.16215087],\n       [-0.08491139,  0.26888734, -0.34533425],\n       [-0.1390114 ,  0.08322345,  0.05568548],\n       [ 0.5614376 ,  0.07427092,  0.28281972],\n       [-0.27449981,  0.06068673, -0.29598514],\n       [-0.38759076, -0.04389651,  0.34759514],\n       [-0.38249594,  0.23621459, -0.15348382]])"
     },
     "metadata": {},
     "execution_count": 37
    }
   ],
   "source": [
    "#broadcasting，可去查詢broadcasting詳細規則\n",
    "#全部的數減去平均值\n",
    "b = a - a.mean(axis=0)\n",
    "b"
   ]
  },
  {
   "cell_type": "code",
   "execution_count": 38,
   "metadata": {},
   "outputs": [
    {
     "output_type": "execute_result",
     "data": {
      "text/plain": "array([ 4.44089210e-17,  2.22044605e-17, -2.22044605e-17])"
     },
     "metadata": {},
     "execution_count": 38
    }
   ],
   "source": [
    "#驗算，都接近0\n",
    "b.mean(axis=0)"
   ]
  },
  {
   "cell_type": "code",
   "execution_count": 39,
   "metadata": {},
   "outputs": [
    {
     "output_type": "execute_result",
     "data": {
      "text/plain": "array([11, 14, 15, 21, 59, 65, 79, 83, 85, 92])"
     },
     "metadata": {},
     "execution_count": 39
    }
   ],
   "source": [
    "#sort\n",
    "x = np.random.randint(1,100,size=10)\n",
    "np.sort(x)"
   ]
  },
  {
   "cell_type": "code",
   "execution_count": 40,
   "metadata": {},
   "outputs": [
    {
     "output_type": "execute_result",
     "data": {
      "text/plain": "array([[36, 12, 27,  7],\n       [56, 13, 45,  9],\n       [74, 21, 78, 55],\n       [89, 47, 97, 63]])"
     },
     "metadata": {},
     "execution_count": 40
    }
   ],
   "source": [
    "x = np.random.randint(1,100,[4,4])\n",
    "np.sort(x, axis =0)"
   ]
  },
  {
   "cell_type": "code",
   "execution_count": 41,
   "metadata": {},
   "outputs": [
    {
     "output_type": "execute_result",
     "data": {
      "text/plain": "array([[21, 45, 63, 74],\n       [ 7, 47, 89, 97],\n       [12, 36, 55, 78],\n       [ 9, 13, 27, 56]])"
     },
     "metadata": {},
     "execution_count": 41
    }
   ],
   "source": [
    "np.sort(x, axis=1)"
   ]
  },
  {
   "cell_type": "code",
   "execution_count": 42,
   "metadata": {},
   "outputs": [
    {
     "output_type": "execute_result",
     "data": {
      "text/plain": "array([ 4, 13, 16, 22, 25, 39, 46, 52, 57, 60])"
     },
     "metadata": {},
     "execution_count": 42
    }
   ],
   "source": [
    "#partition\n",
    "x = np.random.randint(1,100,size=10)\n",
    "#最小個值放左側，順序隨意\n",
    "np.partition(x,3)"
   ]
  },
  {
   "cell_type": "code",
   "execution_count": 43,
   "metadata": {},
   "outputs": [
    {
     "output_type": "execute_result",
     "data": {
      "text/plain": "array([[ 9, 22, 42, 98, 93],\n       [36, 52, 57, 58, 95],\n       [34, 40, 70, 98, 71],\n       [ 1,  7, 42, 55, 48]])"
     },
     "metadata": {},
     "execution_count": 43
    }
   ],
   "source": [
    "x = np.random.randint(1,100,size=20)\n",
    "x = x.reshape(4,5)\n",
    "np.partition(x,2,axis=1)"
   ]
  }
 ]
}