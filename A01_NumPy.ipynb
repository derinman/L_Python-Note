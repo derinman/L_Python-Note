{
 "metadata": {
  "language_info": {
   "codemirror_mode": {
    "name": "ipython",
    "version": 3
   },
   "file_extension": ".py",
   "mimetype": "text/x-python",
   "name": "python",
   "nbconvert_exporter": "python",
   "pygments_lexer": "ipython3",
   "version": "3.7.4-final"
  },
  "orig_nbformat": 2,
  "kernelspec": {
   "name": "python3",
   "display_name": "Python 3"
  }
 },
 "nbformat": 4,
 "nbformat_minor": 2,
 "cells": [
  {
   "cell_type": "code",
   "execution_count": 2,
   "metadata": {},
   "outputs": [
    {
     "output_type": "execute_result",
     "data": {
      "text/plain": "'1.16.5'"
     },
     "metadata": {},
     "execution_count": 2
    }
   ],
   "source": [
    "import numpy\n",
    "import numpy as np\n",
    "numpy.__version__"
   ]
  },
  {
   "cell_type": "code",
   "execution_count": 3,
   "metadata": {},
   "outputs": [],
   "source": [
    "import numpy as np"
   ]
  },
  {
   "cell_type": "code",
   "execution_count": 4,
   "metadata": {},
   "outputs": [
    {
     "output_type": "execute_result",
     "data": {
      "text/plain": "array([1, 5, 3])"
     },
     "metadata": {},
     "execution_count": 4
    }
   ],
   "source": [
    "np.array([1, 5, 3])"
   ]
  },
  {
   "cell_type": "code",
   "execution_count": 5,
   "metadata": {},
   "outputs": [
    {
     "output_type": "execute_result",
     "data": {
      "text/plain": "array([3.24, 3.  , 5.  ])"
     },
     "metadata": {},
     "execution_count": 5
    }
   ],
   "source": [
    "np.array([3.24, 3, 5])#自動轉成同型態"
   ]
  },
  {
   "cell_type": "code",
   "execution_count": 6,
   "metadata": {},
   "outputs": [
    {
     "output_type": "execute_result",
     "data": {
      "text/plain": "array(['cat', '3'], dtype='<U3')"
     },
     "metadata": {},
     "execution_count": 6
    }
   ],
   "source": [
    "np.array(['cat',3])"
   ]
  },
  {
   "cell_type": "code",
   "execution_count": 7,
   "metadata": {},
   "outputs": [
    {
     "output_type": "execute_result",
     "data": {
      "text/plain": "array(['3', '5'], dtype='<U1')"
     },
     "metadata": {},
     "execution_count": 7
    }
   ],
   "source": [
    "np.array([3, 5],dtype=str)"
   ]
  },
  {
   "cell_type": "code",
   "execution_count": 8,
   "metadata": {},
   "outputs": [
    {
     "output_type": "execute_result",
     "data": {
      "text/plain": "array([[3, 2],\n       [3, 5],\n       [7, 6]])"
     },
     "metadata": {},
     "execution_count": 8
    }
   ],
   "source": [
    "np.array([(3, 2),(3, 5),(7, 6)])#多維"
   ]
  },
  {
   "cell_type": "code",
   "execution_count": 9,
   "metadata": {},
   "outputs": [
    {
     "output_type": "execute_result",
     "data": {
      "text/plain": "array([0, 0, 0, 0, 0, 0, 0, 0, 0, 0])"
     },
     "metadata": {},
     "execution_count": 9
    }
   ],
   "source": [
    "np.zeros(10, dtype = int)"
   ]
  },
  {
   "cell_type": "code",
   "execution_count": 10,
   "metadata": {},
   "outputs": [
    {
     "output_type": "execute_result",
     "data": {
      "text/plain": "array(['', '', '', '', '', '', '', '', '', ''], dtype='<U1')"
     },
     "metadata": {},
     "execution_count": 10
    }
   ],
   "source": [
    "np.zeros(10,dtype=str)"
   ]
  },
  {
   "cell_type": "code",
   "execution_count": 11,
   "metadata": {},
   "outputs": [
    {
     "output_type": "execute_result",
     "data": {
      "text/plain": "array([[1., 1., 1., 1., 1.],\n       [1., 1., 1., 1., 1.]])"
     },
     "metadata": {},
     "execution_count": 11
    }
   ],
   "source": [
    "np.ones((2,5),dtype=float)"
   ]
  },
  {
   "cell_type": "code",
   "execution_count": 12,
   "metadata": {},
   "outputs": [
    {
     "output_type": "execute_result",
     "data": {
      "text/plain": "array([[3.2, 3.2, 3.2, 3.2, 3.2],\n       [3.2, 3.2, 3.2, 3.2, 3.2]])"
     },
     "metadata": {},
     "execution_count": 12
    }
   ],
   "source": [
    "np.full((2, 5), 3.2)"
   ]
  },
  {
   "cell_type": "code",
   "execution_count": 13,
   "metadata": {},
   "outputs": [
    {
     "output_type": "execute_result",
     "data": {
      "text/plain": "array([[[3.2, 3.2, 3.2],\n        [3.2, 3.2, 3.2],\n        [3.2, 3.2, 3.2],\n        [3.2, 3.2, 3.2],\n        [3.2, 3.2, 3.2]],\n\n       [[3.2, 3.2, 3.2],\n        [3.2, 3.2, 3.2],\n        [3.2, 3.2, 3.2],\n        [3.2, 3.2, 3.2],\n        [3.2, 3.2, 3.2]]])"
     },
     "metadata": {},
     "execution_count": 13
    }
   ],
   "source": [
    "np.full((2,5,3),3.2)"
   ]
  },
  {
   "cell_type": "code",
   "execution_count": 14,
   "metadata": {},
   "outputs": [
    {
     "output_type": "execute_result",
     "data": {
      "text/plain": "array([ 0.        ,  6.66666667, 13.33333333, 20.        ])"
     },
     "metadata": {},
     "execution_count": 14
    }
   ],
   "source": [
    "np.linspace(0, 20, 4)"
   ]
  },
  {
   "cell_type": "code",
   "execution_count": 15,
   "metadata": {},
   "outputs": [
    {
     "output_type": "execute_result",
     "data": {
      "text/plain": "array([ 2,  5,  8, 11, 14, 17])"
     },
     "metadata": {},
     "execution_count": 15
    }
   ],
   "source": [
    "np.arange(2, 20, 3)"
   ]
  },
  {
   "cell_type": "code",
   "execution_count": 16,
   "metadata": {},
   "outputs": [
    {
     "output_type": "execute_result",
     "data": {
      "text/plain": "array([[0.737768  , 0.34615891, 0.38770005, 0.7340625 , 0.74350514],\n       [0.38242206, 0.01755106, 0.93810902, 0.71705072, 0.61462592]])"
     },
     "metadata": {},
     "execution_count": 16
    }
   ],
   "source": [
    "np.random.random((2, 5)) #uniform"
   ]
  },
  {
   "cell_type": "code",
   "execution_count": 17,
   "metadata": {},
   "outputs": [
    {
     "output_type": "execute_result",
     "data": {
      "text/plain": "array([[ 0.91481707,  1.52975264,  1.95541881, -0.26644038,  0.18206027],\n       [ 2.35282049,  1.53613638, -1.2444504 ,  0.64424342,  0.26460946]])"
     },
     "metadata": {},
     "execution_count": 17
    }
   ],
   "source": [
    "np.random.normal(0,1,(2,5)) #normal distribution mean 0 std 1  "
   ]
  },
  {
   "cell_type": "code",
   "execution_count": 18,
   "metadata": {},
   "outputs": [
    {
     "output_type": "execute_result",
     "data": {
      "text/plain": "array([[ 2, 88, 57, 71, 35],\n       [88, 73, 53,  8, 78]])"
     },
     "metadata": {},
     "execution_count": 18
    }
   ],
   "source": [
    "np.random.randint(0,100,(2,5))"
   ]
  },
  {
   "cell_type": "code",
   "execution_count": 19,
   "metadata": {},
   "outputs": [
    {
     "output_type": "execute_result",
     "data": {
      "text/plain": "array([[4., 0., 0.],\n       [0., 4., 0.],\n       [0., 0., 4.]])"
     },
     "metadata": {},
     "execution_count": 19
    }
   ],
   "source": [
    "np.eye(3)*4 #單位矩陣"
   ]
  },
  {
   "cell_type": "code",
   "execution_count": 20,
   "metadata": {},
   "outputs": [
    {
     "output_type": "execute_result",
     "data": {
      "text/plain": "(3, (2, 5, 3), 30, dtype('int32'), 4, 120)"
     },
     "metadata": {},
     "execution_count": 20
    }
   ],
   "source": [
    "a = np.random.randint(10,size=(2,5,3))\n",
    "a.ndim, a.shape, a.size, a.dtype, a.itemsize, a.nbytes\n",
    "#itemsize(byte), nbytes(byte)\n",
    "# in general, itemsize * size = nbytes"
   ]
  },
  {
   "cell_type": "code",
   "execution_count": 21,
   "metadata": {},
   "outputs": [
    {
     "output_type": "execute_result",
     "data": {
      "text/plain": "array([[12,  5,  2,  4],\n       [ 7,  6,  8,  8],\n       [ 1,  6,  7,  7]])"
     },
     "metadata": {},
     "execution_count": 21
    }
   ],
   "source": [
    "#slice\n",
    "x = np.array([(12, 5, 2, 4), (7, 6, 8, 8), (1, 6, 7, 7)])\n",
    "x"
   ]
  },
  {
   "cell_type": "code",
   "execution_count": 22,
   "metadata": {},
   "outputs": [
    {
     "output_type": "execute_result",
     "data": {
      "text/plain": "array([[6, 8, 8],\n       [6, 7, 7]])"
     },
     "metadata": {},
     "execution_count": 22
    }
   ],
   "source": [
    "x[1:,1:] #slice, row col u [[list]],[list]]無法這樣slice "
   ]
  },
  {
   "cell_type": "code",
   "execution_count": 23,
   "metadata": {},
   "outputs": [
    {
     "output_type": "execute_result",
     "data": {
      "text/plain": "array([8, 7])"
     },
     "metadata": {},
     "execution_count": 23
    }
   ],
   "source": [
    "x[1:,2]"
   ]
  },
  {
   "cell_type": "code",
   "execution_count": 24,
   "metadata": {},
   "outputs": [
    {
     "output_type": "execute_result",
     "data": {
      "text/plain": "array([[ 7,  7,  6,  1],\n       [ 8,  8,  6,  7],\n       [ 4,  2,  5, 12]])"
     },
     "metadata": {},
     "execution_count": 24
    }
   ],
   "source": [
    "x[::-1,::-1]"
   ]
  },
  {
   "cell_type": "code",
   "execution_count": 25,
   "metadata": {},
   "outputs": [
    {
     "output_type": "execute_result",
     "data": {
      "text/plain": "array([5, 6, 6])"
     },
     "metadata": {},
     "execution_count": 25
    }
   ],
   "source": [
    "x[:,1] #單取col成array"
   ]
  },
  {
   "cell_type": "code",
   "execution_count": 26,
   "metadata": {},
   "outputs": [
    {
     "output_type": "execute_result",
     "data": {
      "text/plain": "array([1, 6, 7, 7])"
     },
     "metadata": {},
     "execution_count": 26
    }
   ],
   "source": [
    "x[2,:] #單取row成array"
   ]
  },
  {
   "cell_type": "code",
   "execution_count": 27,
   "metadata": {},
   "outputs": [],
   "source": [
    "#np的slice是參考，跟python原本list的slice是複製不一樣\n",
    "#np slice出來得參考會影響到原本的np array\n",
    "#要建立np array的複本要用 .copy()"
   ]
  },
  {
   "cell_type": "code",
   "execution_count": 28,
   "metadata": {},
   "outputs": [
    {
     "output_type": "execute_result",
     "data": {
      "text/plain": "array([[0, 1, 2, 3, 4],\n       [5, 6, 7, 8, 9]])"
     },
     "metadata": {},
     "execution_count": 28
    }
   ],
   "source": [
    "#reshape\n",
    "np.arange(10).reshape(2,5)"
   ]
  },
  {
   "cell_type": "code",
   "execution_count": 29,
   "metadata": {},
   "outputs": [],
   "source": [
    "#相同維度的串接\n",
    "x1 = np.array([1, 2, 3])\n",
    "y1 = np.array([4, 5, 6])"
   ]
  },
  {
   "cell_type": "code",
   "execution_count": 30,
   "metadata": {},
   "outputs": [
    {
     "output_type": "execute_result",
     "data": {
      "text/plain": "array([1, 2, 3, 4, 5, 6])"
     },
     "metadata": {},
     "execution_count": 30
    }
   ],
   "source": [
    "np.concatenate([x1,y1])"
   ]
  },
  {
   "cell_type": "code",
   "execution_count": 31,
   "metadata": {},
   "outputs": [],
   "source": [
    "#不同維度的串接\n",
    "x2 = np.array([(3, 2),(3, 5),(7, 6)])\n",
    "y2 = np.array([(5, 0)])\n",
    "z2 = np.array([[1], [3], [6]])"
   ]
  },
  {
   "cell_type": "code",
   "execution_count": 32,
   "metadata": {},
   "outputs": [
    {
     "output_type": "execute_result",
     "data": {
      "text/plain": "array([[3, 2],\n       [3, 5],\n       [7, 6]])"
     },
     "metadata": {},
     "execution_count": 32
    }
   ],
   "source": [
    "x2"
   ]
  },
  {
   "cell_type": "code",
   "execution_count": 33,
   "metadata": {},
   "outputs": [
    {
     "output_type": "execute_result",
     "data": {
      "text/plain": "array([[5, 0]])"
     },
     "metadata": {},
     "execution_count": 33
    }
   ],
   "source": [
    "y2"
   ]
  },
  {
   "cell_type": "code",
   "execution_count": 34,
   "metadata": {},
   "outputs": [
    {
     "output_type": "execute_result",
     "data": {
      "text/plain": "array([[1],\n       [3],\n       [6]])"
     },
     "metadata": {},
     "execution_count": 34
    }
   ],
   "source": [
    "z2"
   ]
  },
  {
   "cell_type": "code",
   "execution_count": 35,
   "metadata": {},
   "outputs": [
    {
     "output_type": "execute_result",
     "data": {
      "text/plain": "array([[3, 2],\n       [3, 5],\n       [7, 6],\n       [5, 0]])"
     },
     "metadata": {},
     "execution_count": 35
    }
   ],
   "source": [
    "np.vstack( [x2, y2] )"
   ]
  },
  {
   "cell_type": "code",
   "execution_count": 36,
   "metadata": {},
   "outputs": [
    {
     "output_type": "execute_result",
     "data": {
      "text/plain": "array([[3, 2, 1],\n       [3, 5, 3],\n       [7, 6, 6]])"
     },
     "metadata": {},
     "execution_count": 36
    }
   ],
   "source": [
    "np.hstack( [x2, z2] )"
   ]
  },
  {
   "cell_type": "code",
   "execution_count": 37,
   "metadata": {},
   "outputs": [
    {
     "output_type": "execute_result",
     "data": {
      "text/plain": "(array([2, 5]), array([6, 7, 3]), array([6, 3, 6]))"
     },
     "metadata": {},
     "execution_count": 37
    }
   ],
   "source": [
    "a, b, c = np.split(np.array((2,5,6,7,3,6,3,6)), [2,5]  )\n",
    "a, b, c"
   ]
  },
  {
   "cell_type": "code",
   "execution_count": 38,
   "metadata": {},
   "outputs": [
    {
     "output_type": "execute_result",
     "data": {
      "text/plain": "(array([[0, 1, 2, 3],\n        [4, 5, 6, 7]]), array([[ 8,  9, 10, 11],\n        [12, 13, 14, 15]]))"
     },
     "metadata": {},
     "execution_count": 38
    }
   ],
   "source": [
    "a, b = np.vsplit( np.arange(16).reshape([4,4]), [2] )\n",
    "a, b"
   ]
  },
  {
   "cell_type": "code",
   "execution_count": 39,
   "metadata": {},
   "outputs": [
    {
     "output_type": "execute_result",
     "data": {
      "text/plain": "(array([[ 0,  1],\n        [ 4,  5],\n        [ 8,  9],\n        [12, 13]]), array([[ 2,  3],\n        [ 6,  7],\n        [10, 11],\n        [14, 15]]))"
     },
     "metadata": {},
     "execution_count": 39
    }
   ],
   "source": [
    "c, d = np.hsplit( np.arange(16).reshape([4,4]), [2] )\n",
    "c, d"
   ]
  },
  {
   "cell_type": "code",
   "execution_count": 40,
   "metadata": {},
   "outputs": [],
   "source": [
    "#np的這種量化化計算稱作ufunction (universal function)\n",
    "#np的向量化計算 比python自己的迭代快很多\n",
    "\n",
    "np.random.seed(0)\n",
    "\n",
    "def reciprocals( vals ):\n",
    "    result = np.empty(len(vals))\n",
    "    for i in range(len(vals)):\n",
    "        result[i] = 1/vals[i]\n",
    "    return result"
   ]
  },
  {
   "cell_type": "code",
   "execution_count": 41,
   "metadata": {
    "tags": []
   },
   "outputs": [
    {
     "output_type": "stream",
     "name": "stdout",
     "text": "206 ms ± 476 µs per loop (mean ± std. dev. of 7 runs, 1 loop each)\n"
    }
   ],
   "source": [
    "%timeit reciprocals(np.random.randint(1,100,size=1000000)) #slow"
   ]
  },
  {
   "cell_type": "code",
   "execution_count": 42,
   "metadata": {
    "tags": []
   },
   "outputs": [
    {
     "output_type": "stream",
     "name": "stdout",
     "text": "13.9 ms ± 87.9 µs per loop (mean ± std. dev. of 7 runs, 100 loops each)\n"
    }
   ],
   "source": [
    "%timeit (1/np.random.randint(1,10,size=1000000)) #fast"
   ]
  },
  {
   "cell_type": "code",
   "execution_count": null,
   "metadata": {},
   "outputs": [],
   "source": [
    "a = np.arange(9).reshape(3,3)\n",
    "b = a * 2\n",
    "c = 2 ** a\n",
    "a"
   ]
  },
  {
   "cell_type": "code",
   "execution_count": 45,
   "metadata": {},
   "outputs": [
    {
     "output_type": "execute_result",
     "data": {
      "text/plain": "array([[ 0,  2,  4],\n       [ 6,  8, 10],\n       [12, 14, 16]])"
     },
     "metadata": {},
     "execution_count": 45
    }
   ],
   "source": [
    "b"
   ]
  },
  {
   "cell_type": "code",
   "execution_count": 46,
   "metadata": {},
   "outputs": [
    {
     "output_type": "execute_result",
     "data": {
      "text/plain": "array([[  1,   2,   4],\n       [  8,  16,  32],\n       [ 64, 128, 256]], dtype=int32)"
     },
     "metadata": {},
     "execution_count": 46
    }
   ],
   "source": [
    "c"
   ]
  },
  {
   "cell_type": "code",
   "execution_count": 57,
   "metadata": {
    "tags": []
   },
   "outputs": [
    {
     "output_type": "stream",
     "name": "stdout",
     "text": "[5 6 7 8 9] [ 0  1  4  9 16] [       inf 1.         0.5        0.33333333 0.25      ] [ 0 -1 -2 -3 -4]\n"
    }
   ],
   "source": [
    "a = np.arange(5)\n",
    "print( a + 5 , a **2 , 1 / a , -a)"
   ]
  },
  {
   "cell_type": "code",
   "execution_count": 61,
   "metadata": {},
   "outputs": [
    {
     "output_type": "execute_result",
     "data": {
      "text/plain": "(array([ True,  True,  True,  True, False, False, False, False, False,\n        False]), 4, 4)"
     },
     "metadata": {},
     "execution_count": 61
    }
   ],
   "source": [
    "x = np.arange(10)\n",
    "x < 4, np.count_nonzero( x < 4 ), np.sum( x < 4 )"
   ]
  },
  {
   "cell_type": "code",
   "execution_count": 64,
   "metadata": {},
   "outputs": [
    {
     "output_type": "execute_result",
     "data": {
      "text/plain": "(False, True)"
     },
     "metadata": {},
     "execution_count": 64
    }
   ],
   "source": [
    "np.all( x < 4 ), np.any( x < 4 )"
   ]
  },
  {
   "cell_type": "code",
   "execution_count": 65,
   "metadata": {},
   "outputs": [
    {
     "output_type": "execute_result",
     "data": {
      "text/plain": "array([0, 1, 2, 3])"
     },
     "metadata": {},
     "execution_count": 65
    }
   ],
   "source": [
    "x[ x < 4 ]"
   ]
  },
  {
   "cell_type": "code",
   "execution_count": 48,
   "metadata": {},
   "outputs": [
    {
     "output_type": "execute_result",
     "data": {
      "text/plain": "array([0.        , 1.57079633, 3.14159265, 4.71238898, 6.28318531])"
     },
     "metadata": {},
     "execution_count": 48
    }
   ],
   "source": [
    "#三角函數\n",
    "theta = np.linspace(0, np.pi*2 , 5)\n",
    "theta"
   ]
  },
  {
   "cell_type": "code",
   "execution_count": 49,
   "metadata": {},
   "outputs": [
    {
     "output_type": "execute_result",
     "data": {
      "text/plain": "array([ 0.0000000e+00,  1.0000000e+00,  1.2246468e-16, -1.0000000e+00,\n       -2.4492936e-16])"
     },
     "metadata": {},
     "execution_count": 49
    }
   ],
   "source": [
    "np.sin(theta)"
   ]
  },
  {
   "cell_type": "code",
   "execution_count": 50,
   "metadata": {},
   "outputs": [
    {
     "output_type": "execute_result",
     "data": {
      "text/plain": "(1.2246467991473532e-16, True)"
     },
     "metadata": {},
     "execution_count": 50
    }
   ],
   "source": [
    "import math\n",
    "math.sin(math.pi), np.allclose(math.sin(math.pi),0)"
   ]
  },
  {
   "cell_type": "code",
   "execution_count": 53,
   "metadata": {},
   "outputs": [
    {
     "output_type": "execute_result",
     "data": {
      "text/plain": "(array([ 2.71828183,  7.3890561 , 20.08553692]),\n array([ 3,  9, 27], dtype=int32))"
     },
     "metadata": {},
     "execution_count": 53
    }
   ],
   "source": [
    "np.exp([1,2,3]), np.power(3,[1,2,3])"
   ]
  },
  {
   "cell_type": "code",
   "execution_count": 57,
   "metadata": {},
   "outputs": [
    {
     "output_type": "execute_result",
     "data": {
      "text/plain": "(array([0.        , 0.69314718, 1.38629436, 2.30258509]),\n array([0.        , 0.30103   , 0.60205999, 1.        ]))"
     },
     "metadata": {},
     "execution_count": 57
    }
   ],
   "source": [
    "np.log([1,2,4,10]), np.log10([1,2,4,10])"
   ]
  },
  {
   "cell_type": "code",
   "execution_count": 65,
   "metadata": {},
   "outputs": [
    {
     "output_type": "execute_result",
     "data": {
      "text/plain": "array([ 0., 12., 24., 36., 48.])"
     },
     "metadata": {},
     "execution_count": 65
    }
   ],
   "source": [
    "#預先決定輸出的記憶體\n",
    "x = np.arange(5)\n",
    "y = np.empty(5)\n",
    "np.multiply(x,12,out=y)"
   ]
  },
  {
   "cell_type": "code",
   "execution_count": 69,
   "metadata": {},
   "outputs": [
    {
     "output_type": "execute_result",
     "data": {
      "text/plain": "array([ 1.,  0.,  2.,  0.,  4.,  0.,  8.,  0., 16.,  0.])"
     },
     "metadata": {},
     "execution_count": 69
    }
   ],
   "source": [
    "a = np.arange(5)\n",
    "b = np.zeros(10)\n",
    "np.power(2,x,out=b[::2])\n",
    "b"
   ]
  },
  {
   "cell_type": "code",
   "execution_count": 76,
   "metadata": {},
   "outputs": [
    {
     "output_type": "execute_result",
     "data": {
      "text/plain": "(15,\n 120,\n array([ 1,  3,  6, 10, 15], dtype=int32),\n array([  1,   2,   6,  24, 120], dtype=int32))"
     },
     "metadata": {},
     "execution_count": 76
    }
   ],
   "source": [
    "x = np.arange(1,6)\n",
    "np.add.reduce(x), np.multiply.reduce(x), np.add.accumulate(x), np.multiply.accumulate(x)"
   ]
  },
  {
   "cell_type": "code",
   "execution_count": 6,
   "metadata": {},
   "outputs": [
    {
     "output_type": "execute_result",
     "data": {
      "text/plain": "array([[ 1,  2,  3,  4],\n       [ 2,  4,  6,  8],\n       [ 3,  6,  9, 12],\n       [ 4,  8, 12, 16]])"
     },
     "metadata": {},
     "execution_count": 6
    }
   ],
   "source": [
    "#外積\n",
    "x = np.arange(1,5)\n",
    "np.multiply.outer(x, x)"
   ]
  },
  {
   "cell_type": "code",
   "execution_count": 24,
   "metadata": {
    "tags": []
   },
   "outputs": [
    {
     "output_type": "stream",
     "name": "stdout",
     "text": "2.15 ms ± 102 µs per loop (mean ± std. dev. of 7 runs, 100 loops each)\n348 ms ± 33.6 ms per loop (mean ± std. dev. of 7 runs, 1 loop each)\n"
    }
   ],
   "source": [
    "#summerise\n",
    "x = np.random.random(1000000)\n",
    "%timeit np.sum(x) #快多了\n",
    "%timeit sum(x)"
   ]
  },
  {
   "cell_type": "code",
   "execution_count": 26,
   "metadata": {},
   "outputs": [
    {
     "output_type": "execute_result",
     "data": {
      "text/plain": "(499535.6727532691, 499535.6727532379)"
     },
     "metadata": {},
     "execution_count": 26
    }
   ],
   "source": [
    "np.sum(x), sum(x)"
   ]
  },
  {
   "cell_type": "code",
   "execution_count": 39,
   "metadata": {},
   "outputs": [
    {
     "output_type": "execute_result",
     "data": {
      "text/plain": "(0.9999995418471068,\n 2.7761634412426517e-06,\n 0.9999995418471068,\n 2.7761634412426517e-06)"
     },
     "metadata": {},
     "execution_count": 39
    }
   ],
   "source": [
    "#as same as\n",
    "np.max(x), np.min(x), x.max(), x.min()"
   ]
  },
  {
   "cell_type": "code",
   "execution_count": 41,
   "metadata": {},
   "outputs": [
    {
     "output_type": "execute_result",
     "data": {
      "text/plain": "(0.4995356727532691, 0.28856295353496436)"
     },
     "metadata": {},
     "execution_count": 41
    }
   ],
   "source": [
    "x.mean(), x.std()"
   ]
  },
  {
   "cell_type": "code",
   "execution_count": 31,
   "metadata": {},
   "outputs": [
    {
     "output_type": "execute_result",
     "data": {
      "text/plain": "array([[0, 1, 2, 3, 4],\n       [5, 6, 7, 8, 9]])"
     },
     "metadata": {},
     "execution_count": 31
    }
   ],
   "source": [
    "y = np.arange(10).reshape(2,5)\n",
    "y"
   ]
  },
  {
   "cell_type": "code",
   "execution_count": 37,
   "metadata": {},
   "outputs": [
    {
     "output_type": "execute_result",
     "data": {
      "text/plain": "(array([ 5,  7,  9, 11, 13]), array([10, 35]))"
     },
     "metadata": {},
     "execution_count": 37
    }
   ],
   "source": [
    "y.sum(axis=0), y.sum(axis=1)"
   ]
  },
  {
   "cell_type": "code",
   "execution_count": 45,
   "metadata": {},
   "outputs": [
    {
     "output_type": "execute_result",
     "data": {
      "text/plain": "array([[0.48727154, 0.43625844, 0.07732428],\n       [0.0066486 , 0.94809088, 0.3500396 ],\n       [0.08313254, 0.99011697, 0.7406364 ],\n       [0.33438228, 0.72278816, 0.78728927],\n       [0.22370647, 0.54920565, 0.74854962],\n       [0.91984855, 0.10386761, 0.05336203],\n       [0.15514543, 0.0359925 , 0.21817016],\n       [0.50676474, 0.32588892, 0.55714611],\n       [0.45791868, 0.05286798, 0.307839  ],\n       [0.57987449, 0.85603002, 0.07136737]])"
     },
     "metadata": {},
     "execution_count": 45
    }
   ],
   "source": [
    "a = np.random.random((10,3))\n",
    "a"
   ]
  },
  {
   "cell_type": "code",
   "execution_count": 49,
   "metadata": {},
   "outputs": [
    {
     "output_type": "execute_result",
     "data": {
      "text/plain": "array([0.37546933, 0.50211072, 0.39117238])"
     },
     "metadata": {},
     "execution_count": 49
    }
   ],
   "source": [
    "a.mean(axis=0)"
   ]
  },
  {
   "cell_type": "code",
   "execution_count": 54,
   "metadata": {},
   "outputs": [
    {
     "output_type": "execute_result",
     "data": {
      "text/plain": "array([[ 0.11180221, -0.06585227, -0.3138481 ],\n       [-0.36882073,  0.44598017, -0.04113278],\n       [-0.2923368 ,  0.48800626,  0.34946402],\n       [-0.04108705,  0.22067744,  0.39611688],\n       [-0.15176287,  0.04709494,  0.35737724],\n       [ 0.54437922, -0.3982431 , -0.33781035],\n       [-0.2203239 , -0.46611821, -0.17300223],\n       [ 0.13129541, -0.17622179,  0.16597372],\n       [ 0.08244935, -0.44924274, -0.08333338],\n       [ 0.20440515,  0.35391931, -0.31980501]])"
     },
     "metadata": {},
     "execution_count": 54
    }
   ],
   "source": [
    "#broadcasting，可去查詢broadcasting詳細規則\n",
    "#全部的數減去平均值\n",
    "b = a - a.mean(axis=0)\n",
    "b"
   ]
  },
  {
   "cell_type": "code",
   "execution_count": 56,
   "metadata": {},
   "outputs": [
    {
     "output_type": "execute_result",
     "data": {
      "text/plain": "array([ 0.00000000e+00, -3.33066907e-17,  3.33066907e-17])"
     },
     "metadata": {},
     "execution_count": 56
    }
   ],
   "source": [
    "#驗算，都接近0\n",
    "b.mean(axis=0)"
   ]
  },
  {
   "cell_type": "code",
   "execution_count": null,
   "metadata": {},
   "outputs": [],
   "source": []
  }
 ]
}