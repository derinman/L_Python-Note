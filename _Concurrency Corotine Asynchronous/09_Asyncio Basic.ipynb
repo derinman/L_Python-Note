{
 "metadata": {
  "language_info": {
   "codemirror_mode": {
    "name": "ipython",
    "version": 3
   },
   "file_extension": ".py",
   "mimetype": "text/x-python",
   "name": "python",
   "nbconvert_exporter": "python",
   "pygments_lexer": "ipython3",
   "version": "3.7.4-final"
  },
  "orig_nbformat": 2,
  "kernelspec": {
   "name": "python3",
   "display_name": "Python 3"
  }
 },
 "nbformat": 4,
 "nbformat_minor": 2,
 "cells": [
  {
   "cell_type": "code",
   "execution_count": 1,
   "metadata": {},
   "outputs": [],
   "source": [
    "# 對於IO密集型作業，不採用執行緒(thread)，採用非同步的並行方案，原因只有兩個:\n",
    "# 1.相較於先佔型多工(也就是採用執行緒)，Asyncio更是安全的替代方案，可避免複雜執行緒\n",
    "#   常見的臭蟲、競速以及其他風險\n",
    "# 2.針對數以萬計的socket連線，Asyncio提供一個簡明的支援方式"
   ]
  },
  {
   "cell_type": "code",
   "execution_count": 13,
   "metadata": {},
   "outputs": [
    {
     "output_type": "stream",
     "name": "stdout",
     "text": [
      "do something with 1\n",
      "do something with 3\n",
      "do something with 5\n",
      "do something with 2\n",
      "do something with 4\n"
     ]
    }
   ],
   "source": [
    "#執行緒的最佳實踐是concurrent.future模組的ThreadPoolExecutor\n",
    "from concurrent.futures import ThreadPoolExecutor as Executor\n",
    "import time\n",
    "\n",
    "datas=[1,2,3,4,5]\n",
    "\n",
    "def worker(data):\n",
    "    if (data==2 or data==4): #等於2或4時阻塞\n",
    "        time.sleep(1)\n",
    "    print('do something with', data)\n",
    "\n",
    "with Executor(max_workers=len(datas)) as exe:\n",
    "    for data in datas:\n",
    "        futures = exe.submit(worker, data)"
   ]
  },
  {
   "cell_type": "code",
   "execution_count": 17,
   "metadata": {},
   "outputs": [
    {
     "output_type": "stream",
     "name": "stdout",
     "text": [
      "do something with 1\n",
      "do something with 2\n",
      "do something with 3\n",
      "do something with 4\n",
      "do something with 5\n"
     ]
    }
   ],
   "source": [
    "#比較: 依序\n",
    "def worker(data):\n",
    "    if (data==2 or data==4): #等於2或4時阻塞\n",
    "        time.sleep(1)\n",
    "    print('do something with', data)\n",
    "\n",
    "for data in datas:\n",
    "    worker(data)"
   ]
  },
  {
   "cell_type": "code",
   "execution_count": null,
   "metadata": {},
   "outputs": [],
   "source": []
  }
 ]
}