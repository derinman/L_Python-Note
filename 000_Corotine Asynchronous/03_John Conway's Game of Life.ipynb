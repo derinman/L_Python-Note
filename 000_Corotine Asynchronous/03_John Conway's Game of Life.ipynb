{
 "metadata": {
  "language_info": {
   "codemirror_mode": {
    "name": "ipython",
    "version": 3
   },
   "file_extension": ".py",
   "mimetype": "text/x-python",
   "name": "python",
   "nbconvert_exporter": "python",
   "pygments_lexer": "ipython3",
   "version": "3.7.4-final"
  },
  "orig_nbformat": 2,
  "kernelspec": {
   "name": "python3",
   "display_name": "Python 3"
  }
 },
 "nbformat": 4,
 "nbformat_minor": 2,
 "cells": [
  {
   "cell_type": "code",
   "execution_count": 57,
   "metadata": {},
   "outputs": [],
   "source": [
    "from collections import namedtuple\n",
    "\n",
    "ALIVE = '*'\n",
    "EMPTY = '-'\n",
    "TICK = object()\n",
    "\n",
    "Query = namedtuple('Query', 'y x')\n",
    "\n",
    "Transition = namedtuple('Transition', 'y x state')\n",
    "\n",
    "\n",
    "def count_neighbors(y, x):\n",
    "    n_ = yield Query(y + 1, x + 0)  # North\n",
    "    ne = yield Query(y + 1, x + 1)  # Northeast\n",
    "    e_ = yield Query(y + 0, x + 1)  # East\n",
    "    se = yield Query(y - 1, x + 1)  # Southeast\n",
    "    s_ = yield Query(y - 1, x + 0)  # South\n",
    "    sw = yield Query(y - 1, x - 1)  # Southwest\n",
    "    w_ = yield Query(y + 0, x - 1)  # West\n",
    "    nw = yield Query(y + 1, x - 1)  # Northwest\n",
    "    neighbor_states = [n_, ne, e_, se, s_, sw, w_, nw]\n",
    "    count = 0\n",
    "    for state in neighbor_states:\n",
    "        if state == ALIVE:\n",
    "            count += 1\n",
    "    return count\n",
    "\n",
    "\n",
    "def game_logic(state, neighbors):\n",
    "    if state == ALIVE:\n",
    "        if neighbors < 2:\n",
    "            return EMPTY     # Die: Too few\n",
    "        elif neighbors > 3:\n",
    "            return EMPTY     # Die: Too many\n",
    "    else:\n",
    "        if neighbors == 3:\n",
    "            return ALIVE     # Regenerate\n",
    "    return state\n",
    "\n",
    "\n",
    "def step_cell(y, x):\n",
    "    state = yield Query(y, x)\n",
    "    neighbors = yield from count_neighbors(y, x)\n",
    "    next_state = game_logic(state, neighbors)\n",
    "    yield Transition(y, x, next_state)\n",
    "\n",
    "\n",
    "def simulate(height, width):\n",
    "    while True:\n",
    "        for y in range(height):\n",
    "            for x in range(width):\n",
    "                yield from step_cell(y, x)\n",
    "        yield TICK\n",
    "\n",
    "\n",
    "class Grid(object):\n",
    "    def __init__(self, height, width):\n",
    "        self.height = height\n",
    "        self.width = width\n",
    "        self.rows = []\n",
    "        for _ in range(self.height):\n",
    "            self.rows.append([EMPTY] * self.width)\n",
    "\n",
    "    def __str__(self):\n",
    "        output = ''\n",
    "        for row in self.rows:\n",
    "            for cell in row:\n",
    "                output += cell\n",
    "            output += '\\n'\n",
    "        return output\n",
    "\n",
    "    def __getitem__(self, position):\n",
    "        y, x = position\n",
    "        return self.rows[y % self.height][x % self.width]\n",
    "\n",
    "    def __setitem__(self, position, state):\n",
    "        y, x = position\n",
    "        self.rows[y % self.height][x % self.width] = state\n",
    "\n",
    "\n",
    "def live_a_generation(grid, sim):\n",
    "    progeny = Grid(grid.height, grid.width)\n",
    "    item = next(sim)\n",
    "    while item is not TICK:\n",
    "        if isinstance(item, Query):\n",
    "            state = grid[item.y, item.x]\n",
    "            item = sim.send(state)\n",
    "        else:  # Must be a Transition\n",
    "            progeny[item.y, item.x] = item.state\n",
    "            item = next(sim)\n",
    "    return progeny\n",
    "\n",
    "\n",
    "class ColumnPrinter(object):\n",
    "    def __init__(self):\n",
    "        self.columns = []\n",
    "\n",
    "    def append(self, data):\n",
    "        self.columns.append(data)\n",
    "\n",
    "    def __str__(self):\n",
    "        row_count = 1\n",
    "        for data in self.columns:\n",
    "            row_count = max(row_count, len(data.splitlines()) + 1)\n",
    "        rows = [''] * row_count\n",
    "        for j in range(row_count):\n",
    "            for i, data in enumerate(self.columns):\n",
    "                line = data.splitlines()[max(0, j - 1)]\n",
    "                if j == 0:\n",
    "                    rows[j] += str(i).center(len(line))\n",
    "                else:\n",
    "                    rows[j] += line\n",
    "                if (i + 1) < len(self.columns):\n",
    "                    rows[j] += ' | '\n",
    "        return '\\n'.join(rows)"
   ]
  },
  {
   "cell_type": "code",
   "execution_count": 58,
   "metadata": {},
   "outputs": [
    {
     "output_type": "execute_result",
     "data": {
      "text/plain": [
       "Query(y=11, x=5)"
      ]
     },
     "metadata": {},
     "execution_count": 58
    }
   ],
   "source": [
    "it = count_neighbors(10, 5)\n",
    "next(it)#Get the first query, for q1"
   ]
  },
  {
   "cell_type": "code",
   "execution_count": 59,
   "metadata": {},
   "outputs": [
    {
     "output_type": "execute_result",
     "data": {
      "text/plain": [
       "Query(y=11, x=6)"
      ]
     },
     "metadata": {},
     "execution_count": 59
    }
   ],
   "source": [
    "it.send(ALIVE)# Send q1 state, get q2"
   ]
  },
  {
   "cell_type": "code",
   "execution_count": 60,
   "metadata": {},
   "outputs": [
    {
     "output_type": "execute_result",
     "data": {
      "text/plain": [
       "Query(y=10, x=6)"
      ]
     },
     "metadata": {},
     "execution_count": 60
    }
   ],
   "source": [
    "it.send(ALIVE)# Send q2 state, get q3"
   ]
  },
  {
   "cell_type": "code",
   "execution_count": 61,
   "metadata": {},
   "outputs": [
    {
     "output_type": "execute_result",
     "data": {
      "text/plain": [
       "[Query(y=9, x=6),\n",
       " Query(y=9, x=5),\n",
       " Query(y=9, x=4),\n",
       " Query(y=10, x=4),\n",
       " Query(y=11, x=4)]"
      ]
     },
     "metadata": {},
     "execution_count": 61
    }
   ],
   "source": [
    "[it.send(state) for state in (EMPTY)*5]"
   ]
  },
  {
   "cell_type": "code",
   "execution_count": 62,
   "metadata": {},
   "outputs": [
    {
     "output_type": "execute_result",
     "data": {
      "text/plain": [
       "2"
      ]
     },
     "metadata": {},
     "execution_count": 62
    }
   ],
   "source": [
    "try:\n",
    "    it.send(EMPTY)\n",
    "except StopIteration as e:\n",
    "    count = e.value\n",
    "\n",
    "count"
   ]
  },
  {
   "cell_type": "code",
   "execution_count": 63,
   "metadata": {},
   "outputs": [],
   "source": [
    "it2 = step_cell(100, 50)"
   ]
  },
  {
   "cell_type": "code",
   "execution_count": 64,
   "metadata": {},
   "outputs": [
    {
     "output_type": "execute_result",
     "data": {
      "text/plain": [
       "Query(y=100, x=50)"
      ]
     },
     "metadata": {},
     "execution_count": 64
    }
   ],
   "source": [
    "next(it2)"
   ]
  },
  {
   "cell_type": "code",
   "execution_count": 65,
   "metadata": {},
   "outputs": [
    {
     "output_type": "execute_result",
     "data": {
      "text/plain": [
       "[Query(y=101, x=50),\n",
       " Query(y=101, x=51),\n",
       " Query(y=100, x=51),\n",
       " Query(y=99, x=51),\n",
       " Query(y=99, x=50),\n",
       " Query(y=99, x=49),\n",
       " Query(y=100, x=49),\n",
       " Query(y=101, x=49)]"
      ]
     },
     "metadata": {},
     "execution_count": 65
    }
   ],
   "source": [
    "[it2.send(st) for st in (ALIVE)*5 + (EMPTY)*3]"
   ]
  },
  {
   "cell_type": "code",
   "execution_count": 66,
   "metadata": {},
   "outputs": [
    {
     "output_type": "execute_result",
     "data": {
      "text/plain": [
       "Transition(y=100, x=50, state='-')"
      ]
     },
     "metadata": {},
     "execution_count": 66
    }
   ],
   "source": [
    "it2.send(EMPTY)"
   ]
  },
  {
   "cell_type": "code",
   "execution_count": null,
   "metadata": {},
   "outputs": [],
   "source": []
  }
 ]
}