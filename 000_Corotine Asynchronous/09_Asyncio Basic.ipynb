{
 "metadata": {
  "language_info": {
   "codemirror_mode": {
    "name": "ipython",
    "version": 3
   },
   "file_extension": ".py",
   "mimetype": "text/x-python",
   "name": "python",
   "nbconvert_exporter": "python",
   "pygments_lexer": "ipython3",
   "version": 3
  },
  "orig_nbformat": 2
 },
 "nbformat": 4,
 "nbformat_minor": 2,
 "cells": [
  {
   "cell_type": "code",
   "execution_count": null,
   "metadata": {},
   "outputs": [],
   "source": [
    "# 對於IO密集型作業，不採用執行緒(thread)，採用非同步的並行方案，原因只有兩個:\n",
    "# 1.相較於先佔型多工(也就是採用執行緒)，Asyncio更是安全的替代方案，可避免複雜執行緒\n",
    "#   常見的臭蟲、競速以及其他風險\n",
    "# 2.針對數以萬計的socket連線，Asyncio提供一個簡明的支援方式"
   ]
  }
 ]
}