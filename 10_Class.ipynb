{
 "metadata": {
  "language_info": {
   "codemirror_mode": {
    "name": "ipython",
    "version": 3
   },
   "file_extension": ".py",
   "mimetype": "text/x-python",
   "name": "python",
   "nbconvert_exporter": "python",
   "pygments_lexer": "ipython3",
   "version": "3.7.4-final"
  },
  "orig_nbformat": 2,
  "kernelspec": {
   "name": "python_defaultSpec_1597415073779",
   "display_name": "Python 3.7.4 64-bit ('base': conda)"
  }
 },
 "nbformat": 4,
 "nbformat_minor": 2,
 "cells": [
  {
   "cell_type": "code",
   "execution_count": 1,
   "metadata": {},
   "outputs": [],
   "source": [
    "# __ 雙底線習慣念作 dunder"
   ]
  },
  {
   "cell_type": "code",
   "execution_count": 4,
   "metadata": {
    "tags": []
   },
   "outputs": [
    {
     "output_type": "stream",
     "name": "stdout",
     "text": "I'm a car\n"
    }
   ],
   "source": [
    "#繼承 inherit\n",
    "class car():\n",
    "    def exclaim(self):\n",
    "        print(\"I'm a car\")\n",
    "class cat(car):\n",
    "    pass\n",
    "c =  cat()\n",
    "c.exclaim()"
   ]
  },
  {
   "cell_type": "code",
   "execution_count": 11,
   "metadata": {},
   "outputs": [
    {
     "output_type": "execute_result",
     "data": {
      "text/plain": "('koolhaas', 'oma')"
     },
     "metadata": {},
     "execution_count": 11
    }
   ],
   "source": [
    "#呼叫父系方法 super()\n",
    "#使用super的好處是: 如果以後person改變了，architect也可反映person的改變\n",
    "class person():\n",
    "    def __init__(self, name):\n",
    "        self.name = name\n",
    "class architect(person):\n",
    "    def __init__(self, name, company):\n",
    "       super().__init__(name)\n",
    "       self.company = company\n",
    "koolhaas = architect('koolhaas', 'oma')\n",
    "koolhaas.name, koolhaas.company"
   ]
  },
  {
   "cell_type": "code",
   "execution_count": 13,
   "metadata": {
    "tags": []
   },
   "outputs": [
    {
     "output_type": "stream",
     "name": "stdout",
     "text": "I'm getter, my dog is dodo\n"
    }
   ],
   "source": [
    "#property\n",
    "class dog():\n",
    "    def __init__(self, inputName):\n",
    "        self.hideName = inputName\n",
    "    def getName(self):\n",
    "        print(\"I'm getter, my dog is\", self.hideName)\n",
    "    def setName(self, inputName):\n",
    "        self.hideName = inputName\n",
    "    name = property(getName, setName)\n",
    "\n",
    "mydog = dog('dodo')\n",
    "mydog.name"
   ]
  },
  {
   "cell_type": "code",
   "execution_count": 1,
   "metadata": {
    "tags": []
   },
   "outputs": [
    {
     "output_type": "stream",
     "name": "stdout",
     "text": "I'm getter, my dog is hoho\n"
    }
   ],
   "source": [
    "class dog():\n",
    "    def __init__(self, inputName):\n",
    "        self.hideName = inputName\n",
    "    def getName(self):\n",
    "        print(\"I'm getter, my dog is\", self.hideName)\n",
    "    def setName(self, inputName):\n",
    "        self.hideName = inputName\n",
    "    name = property(getName, setName)\n",
    "\n",
    "mydog = dog('dodo')\n",
    "mydog.name = 'hoho'\n",
    "mydog.name"
   ]
  },
  {
   "cell_type": "code",
   "execution_count": 11,
   "metadata": {
    "tags": []
   },
   "outputs": [
    {
     "output_type": "stream",
     "name": "stdout",
     "text": "I'm getter, my dog is chowchow\n"
    }
   ],
   "source": [
    "class dog():\n",
    "    def __init__(self, inputName):\n",
    "        self.hideName = inputName\n",
    "    @property\n",
    "    def name(self):#getter名稱注意\n",
    "        print(\"I'm getter, my dog is\", self.hideName)\n",
    "    @name.setter\n",
    "    def name(self, inputName):#setter名稱注意\n",
    "        self.hideName = inputName\n",
    "mydog = dog('chowchow')\n",
    "mydog.name"
   ]
  },
  {
   "cell_type": "code",
   "execution_count": 13,
   "metadata": {
    "tags": []
   },
   "outputs": [
    {
     "output_type": "stream",
     "name": "stdout",
     "text": "I'm getter, my dog is piepie\n"
    }
   ],
   "source": [
    "class dog():\n",
    "    def __init__(self, inputName):\n",
    "        self.hideName = inputName\n",
    "    @property\n",
    "    def name(self):#getter名稱注意\n",
    "        print(\"I'm getter, my dog is\", self.hideName)\n",
    "    @name.setter\n",
    "    def name(self, inputName):#setter名稱注意\n",
    "        self.hideName = inputName\n",
    "mydog = dog('chowchow')\n",
    "mydog.name = 'piepie'\n",
    "mydog.name"
   ]
  },
  {
   "cell_type": "code",
   "execution_count": 17,
   "metadata": {
    "tags": []
   },
   "outputs": [
    {
     "output_type": "stream",
     "name": "stdout",
     "text": "I'm getter, my dog is piepie\n"
    }
   ],
   "source": [
    "class dog():\n",
    "    def __init__(self, inputName):\n",
    "        self.hideName = inputName\n",
    "    @property\n",
    "    def name(self):#getter名稱注意\n",
    "        print(\"I'm getter, my dog is\", self.hideName)\n",
    "    @name.setter\n",
    "    def name(self, inputName):#setter名稱注意\n",
    "        self.hideName = inputName\n",
    "mydog = dog('chowchow')\n",
    "mydog.hideName = 'piepie'#其實仍然可以直接改hideName\n",
    "mydog.name"
   ]
  },
  {
   "cell_type": "code",
   "execution_count": 25,
   "metadata": {
    "tags": []
   },
   "outputs": [],
   "source": [
    "#私用名稱，無法直接改(其實還是可以只是比較難)，運用dunder\n",
    "class dog():\n",
    "    def __init__(self, inputName):\n",
    "        self.__hideName = inputName\n",
    "    @property\n",
    "    def name(self):#getter名稱注意\n",
    "        print(\"I'm getter, my dog is\", self.__hideName)\n",
    "    @name.setter\n",
    "    def name(self, inputName):#setter名稱注意\n",
    "        self.__hideName = inputName\n",
    "mydog = dog('chowchow')\n",
    "#mydog.__hideName = 'piepie'#無法存取"
   ]
  },
  {
   "cell_type": "code",
   "execution_count": 44,
   "metadata": {},
   "outputs": [
    {
     "output_type": "execute_result",
     "data": {
      "text/plain": "4"
     },
     "metadata": {},
     "execution_count": 44
    }
   ],
   "source": [
    "class A():\n",
    "    count = 0\n",
    "    def __init__(self):\n",
    "        A.count += 1\n",
    "    @classmethod\n",
    "    def childCount(cls):#class本身，非instance\n",
    "        pirnt('已經產生了',count,'個A') \n",
    "A1 = A()\n",
    "A2 = A()\n",
    "A3 = A()\n",
    "A4 = A()\n",
    "A2.count"
   ]
  },
  {
   "cell_type": "code",
   "execution_count": 5,
   "metadata": {},
   "outputs": [
    {
     "output_type": "execute_result",
     "data": {
      "text/plain": "'Hydrogen'"
     },
     "metadata": {},
     "execution_count": 5
    }
   ],
   "source": [
    " class Element():\n",
    "    def __init__(self, name, symbol, number):\n",
    "        self.name = name\n",
    "        self.symbol = symbol\n",
    "        self.number = number\n",
    "\n",
    "HDict = { 'name':'Hydrogen', 'symbol':'H', 'number':1 }\n",
    "H = Element(**HDict)\n",
    "H.name"
   ]
  },
  {
   "cell_type": "code",
   "execution_count": 6,
   "metadata": {},
   "outputs": [
    {
     "output_type": "execute_result",
     "data": {
      "text/plain": "150"
     },
     "metadata": {},
     "execution_count": 6
    }
   ],
   "source": [
    "#聚合aggregation \n",
    "#椅子跟桌子不適合繼承房間，因為椅子跟桌子是房間的一部分，而不是房間的一個特例\n",
    "class chair():\n",
    "    def __init__(self, material, price):\n",
    "        self.material = material\n",
    "        self.price = price\n",
    "class table():\n",
    "    def __init__(self, weight):\n",
    "        self.weight = weight\n",
    "class room():\n",
    "    def __init__(self, chair, table):\n",
    "        self.chair = chair\n",
    "        self.table = table\n",
    "goodChair = chair('wood',4300)\n",
    "goodTable = table(150)\n",
    "myRoom = room(goodChair, goodTable)\n",
    "myRoom.table.weight"
   ]
  }
 ]
}