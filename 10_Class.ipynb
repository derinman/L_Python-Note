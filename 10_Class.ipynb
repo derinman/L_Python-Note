{
 "metadata": {
  "language_info": {
   "codemirror_mode": {
    "name": "ipython",
    "version": 3
   },
   "file_extension": ".py",
   "mimetype": "text/x-python",
   "name": "python",
   "nbconvert_exporter": "python",
   "pygments_lexer": "ipython3",
   "version": "3.7.4-final"
  },
  "orig_nbformat": 2,
  "kernelspec": {
   "name": "python_defaultSpec_1597333835235",
   "display_name": "Python 3.7.4 64-bit ('base': conda)"
  }
 },
 "nbformat": 4,
 "nbformat_minor": 2,
 "cells": [
  {
   "cell_type": "code",
   "execution_count": 1,
   "metadata": {},
   "outputs": [],
   "source": [
    "# __ 雙底線習慣念作 dunder"
   ]
  },
  {
   "cell_type": "code",
   "execution_count": 4,
   "metadata": {
    "tags": []
   },
   "outputs": [
    {
     "output_type": "stream",
     "name": "stdout",
     "text": "I'm a car\n"
    }
   ],
   "source": [
    "#繼承 inherit\n",
    "class car():\n",
    "    def exclaim(self):\n",
    "        print(\"I'm a car\")\n",
    "class cat(car):\n",
    "    pass\n",
    "c =  cat()\n",
    "c.exclaim()"
   ]
  },
  {
   "cell_type": "code",
   "execution_count": 11,
   "metadata": {},
   "outputs": [
    {
     "output_type": "execute_result",
     "data": {
      "text/plain": "('koolhaas', 'oma')"
     },
     "metadata": {},
     "execution_count": 11
    }
   ],
   "source": [
    "#呼叫父系方法 super()\n",
    "#使用super的好處是: 如果以後person改變了，architect也可反映person的改變\n",
    "class person():\n",
    "    def __init__(self, name):\n",
    "        self.name = name\n",
    "class architect(person):\n",
    "    def __init__(self, name, company):\n",
    "       super().__init__(name)\n",
    "       self.company = company\n",
    "koolhaas = architect('koolhaas', 'oma')\n",
    "koolhaas.name, koolhaas.company"
   ]
  },
  {
   "cell_type": "code",
   "execution_count": null,
   "metadata": {},
   "outputs": [],
   "source": [
    "#property\n",
    "class dog():\n",
    "    def __init__(self, inname):\n",
    "        self.hideName = inname\n",
    "    def getName(self):\n",
    "        print(\"I'm getter\", self.hideName)\n",
    "    def setName(slef, inname):\n",
    "        self.hideName = inname\n",
    "    name = property(getName, setName)\n",
    "mydog = dog('inman')"
   ]
  },
  {
   "cell_type": "code",
   "execution_count": null,
   "metadata": {},
   "outputs": [],
   "source": []
  }
 ]
}