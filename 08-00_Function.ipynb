{
 "metadata": {
  "language_info": {
   "codemirror_mode": {
    "name": "ipython",
    "version": 3
   },
   "file_extension": ".py",
   "mimetype": "text/x-python",
   "name": "python",
   "nbconvert_exporter": "python",
   "pygments_lexer": "ipython3",
   "version": "3.7.4-final"
  },
  "orig_nbformat": 2,
  "kernelspec": {
   "name": "python3",
   "display_name": "Python 3"
  }
 },
 "nbformat": 4,
 "nbformat_minor": 2,
 "cells": [
  {
   "cell_type": "code",
   "execution_count": 2,
   "metadata": {
    "tags": []
   },
   "outputs": [
    {
     "output_type": "stream",
     "name": "stdout",
     "text": "['a']\n['a', 'b']\n"
    }
   ],
   "source": [
    "#函式參數是以別名的方式傳遞，也就是說，\n",
    "#函式可能改變任何以引數接收的可變參數\n",
    "#錯誤示範: 預設值使用可變的資料類型\n",
    "def buggy (x, result = []):\n",
    "    result.append(x)\n",
    "    print(result)\n",
    "buggy('a')\n",
    "buggy('b')#錯了"
   ]
  },
  {
   "cell_type": "code",
   "execution_count": 3,
   "metadata": {
    "tags": []
   },
   "outputs": [
    {
     "output_type": "stream",
     "name": "stdout",
     "text": "['a']\n['b']\n"
    }
   ],
   "source": [
    "#正確示範1\n",
    "def okman (x):\n",
    "    result = []\n",
    "    result.append(x)\n",
    "    print(result)\n",
    "okman('a')\n",
    "okman('b')#對了"
   ]
  },
  {
   "cell_type": "code",
   "execution_count": 4,
   "metadata": {
    "tags": []
   },
   "outputs": [
    {
     "output_type": "stream",
     "name": "stdout",
     "text": "['a']\n['b']\n"
    }
   ],
   "source": [
    "#正確示範2\n",
    "def perfectman (x, result = None):\n",
    "    if result is None:\n",
    "        result = []\n",
    "    result.append(x)\n",
    "    print(result)\n",
    "perfectman('a')\n",
    "perfectman('b')#更好"
   ]
  },
  {
   "cell_type": "code",
   "execution_count": 5,
   "metadata": {
    "tags": []
   },
   "outputs": [
    {
     "output_type": "stream",
     "name": "stdout",
     "text": "('a', 'b', 'c')\n"
    }
   ],
   "source": [
    "def print_args (*args):\n",
    "    print(args)\n",
    "print_args('a','b','c')"
   ]
  },
  {
   "cell_type": "code",
   "execution_count": 6,
   "metadata": {
    "tags": []
   },
   "outputs": [
    {
     "output_type": "stream",
     "name": "stdout",
     "text": "{'a': 'apple', 'b': 'banana'}\n"
    }
   ],
   "source": [
    "def print_kwargs(**kwargs):\n",
    "    print(kwargs)\n",
    "print_kwargs( a = 'apple', b = 'banana')"
   ]
  },
  {
   "cell_type": "code",
   "execution_count": 7,
   "metadata": {},
   "outputs": [
    {
     "output_type": "execute_result",
     "data": {
      "text/plain": "10"
     },
     "metadata": {},
     "execution_count": 7
    }
   ],
   "source": [
    "def runWithArgs (func, *args):\n",
    "    return func(args)\n",
    "runWithArgs(sum, 1, 4, 5)"
   ]
  },
  {
   "cell_type": "code",
   "execution_count": 8,
   "metadata": {},
   "outputs": [
    {
     "output_type": "execute_result",
     "data": {
      "text/plain": "7"
     },
     "metadata": {},
     "execution_count": 8
    }
   ],
   "source": [
    "def outer(a, b):\n",
    "    def inner(c, d):\n",
    "        return c + d\n",
    "    return inner(a, b)\n",
    "outer(2, 5)"
   ]
  },
  {
   "cell_type": "code",
   "execution_count": 9,
   "metadata": {
    "tags": []
   },
   "outputs": [
    {
     "output_type": "execute_result",
     "data": {
      "text/plain": "(<function __main__.myFunc.<locals>.myInner()>,\n <function __main__.myFunc.<locals>.myInner()>)"
     },
     "metadata": {},
     "execution_count": 9
    }
   ],
   "source": [
    "#Closure\n",
    "def myFunc ( arg ):\n",
    "    def myInner():\n",
    "        return ('釋放你的', arg)\n",
    "    return myInner\n",
    "a = myFunc('power')\n",
    "b = myFunc('mother')\n",
    "a , b #記得自己來自哪裡的closure"
   ]
  },
  {
   "cell_type": "code",
   "execution_count": 10,
   "metadata": {
    "tags": []
   },
   "outputs": [
    {
     "output_type": "execute_result",
     "data": {
      "text/plain": "(('釋放你的', 'power'), ('釋放你的', 'mother'))"
     },
     "metadata": {},
     "execution_count": 10
    }
   ],
   "source": [
    "def myFunc ( arg ):\n",
    "    def myInner():\n",
    "        return ('釋放你的', arg)\n",
    "    return myInner\n",
    "a = myFunc('power')\n",
    "b = myFunc('mother')\n",
    "a(), b()"
   ]
  },
  {
   "cell_type": "code",
   "execution_count": 11,
   "metadata": {
    "tags": []
   },
   "outputs": [
    {
     "output_type": "stream",
     "name": "stdout",
     "text": "locals {'animal': 'dog'}\n"
    },
    {
     "output_type": "execute_result",
     "data": {
      "text/plain": "{'__name__': '__main__',\n '__doc__': 'Automatically created module for IPython interactive environment',\n '__package__': None,\n '__loader__': None,\n '__spec__': None,\n '__builtin__': <module 'builtins' (built-in)>,\n '__builtins__': <module 'builtins' (built-in)>,\n '_ih': ['',\n  \"my_tag = {'name': 'img', 'title': 'Sunset Boulevard','src': 'sunset.jpg', 'cls': 'framed'}\\ntag(**my_tag)\",\n  \"#錯誤示範: 預設值使用可變的資料類型\\ndef buggy (x, result = []):\\n    result.append(x)\\n    print(result)\\nbuggy('a')\\nbuggy('b')#錯了\",\n  \"#正確示範1\\n#錯誤示範: 預設值使用可變的資料類型\\ndef okman (x):\\n    result = []\\n    result.append(x)\\n    print(result)\\nokman('a')\\nokman('b')#對了\",\n  \"#正確示範2\\ndef perfectman (x, result = None):\\n    if result is None:\\n        result = []\\n    result.append(x)\\n    print(result)\\nperfectman('a')\\nperfectman('b')#更好\",\n  \"def print_args (*args):\\n    print(args)\\nprint_args('a','b','c')\",\n  \"def print_kwargs(**kwargs):\\n    print(kwargs)\\nprint_kwargs( a = 'apple', b = 'banana')\",\n  'def runWithArgs (func, *args):\\n    return func(args)\\nrunWithArgs(sum, 1, 4, 5)',\n  'def outer(a, b):\\n    def inner(c, d):\\n        return c + d\\n    return inner(a, b)\\nouter(2, 5)',\n  \"#Closure\\ndef myFunc ( arg ):\\n    def myInner():\\n        return ('釋放你的', arg)\\n    return myInner\\na = myFunc('power')\\nb = myFunc('mother')\\na , b #記得自己來自哪裡的closure\",\n  \"def myFunc ( arg ):\\n    def myInner():\\n        return ('釋放你的', arg)\\n    return myInner\\na = myFunc('power')\\nb = myFunc('mother')\\na(), b()\",\n  \"animal = 'cat'\\ndef changeLocal():\\n    animal = 'dog'\\n    print('locals', locals())\\nchangeLocal()\\nglobals()\"],\n '_oh': {7: 10,\n  8: 7,\n  9: (<function __main__.myFunc.<locals>.myInner()>,\n   <function __main__.myFunc.<locals>.myInner()>),\n  10: (('釋放你的', 'power'), ('釋放你的', 'mother'))},\n '_dh': ['C:\\\\Users\\\\sf990\\\\AppData\\\\Local\\\\Temp\\\\a5c3af8f-f1b9-4f34-bceb-0d6143a265c0',\n  'c:\\\\Users\\\\sf990\\\\L_Python-Note'],\n 'In': ['',\n  \"my_tag = {'name': 'img', 'title': 'Sunset Boulevard','src': 'sunset.jpg', 'cls': 'framed'}\\ntag(**my_tag)\",\n  \"#錯誤示範: 預設值使用可變的資料類型\\ndef buggy (x, result = []):\\n    result.append(x)\\n    print(result)\\nbuggy('a')\\nbuggy('b')#錯了\",\n  \"#正確示範1\\n#錯誤示範: 預設值使用可變的資料類型\\ndef okman (x):\\n    result = []\\n    result.append(x)\\n    print(result)\\nokman('a')\\nokman('b')#對了\",\n  \"#正確示範2\\ndef perfectman (x, result = None):\\n    if result is None:\\n        result = []\\n    result.append(x)\\n    print(result)\\nperfectman('a')\\nperfectman('b')#更好\",\n  \"def print_args (*args):\\n    print(args)\\nprint_args('a','b','c')\",\n  \"def print_kwargs(**kwargs):\\n    print(kwargs)\\nprint_kwargs( a = 'apple', b = 'banana')\",\n  'def runWithArgs (func, *args):\\n    return func(args)\\nrunWithArgs(sum, 1, 4, 5)',\n  'def outer(a, b):\\n    def inner(c, d):\\n        return c + d\\n    return inner(a, b)\\nouter(2, 5)',\n  \"#Closure\\ndef myFunc ( arg ):\\n    def myInner():\\n        return ('釋放你的', arg)\\n    return myInner\\na = myFunc('power')\\nb = myFunc('mother')\\na , b #記得自己來自哪裡的closure\",\n  \"def myFunc ( arg ):\\n    def myInner():\\n        return ('釋放你的', arg)\\n    return myInner\\na = myFunc('power')\\nb = myFunc('mother')\\na(), b()\",\n  \"animal = 'cat'\\ndef changeLocal():\\n    animal = 'dog'\\n    print('locals', locals())\\nchangeLocal()\\nglobals()\"],\n 'Out': {7: 10,\n  8: 7,\n  9: (<function __main__.myFunc.<locals>.myInner()>,\n   <function __main__.myFunc.<locals>.myInner()>),\n  10: (('釋放你的', 'power'), ('釋放你的', 'mother'))},\n 'get_ipython': <bound method InteractiveShell.get_ipython of <ipykernel.zmqshell.ZMQInteractiveShell object at 0x000001C84C13DA48>>,\n 'exit': <IPython.core.autocall.ZMQExitAutocall at 0x1c84c1aabc8>,\n 'quit': <IPython.core.autocall.ZMQExitAutocall at 0x1c84c1aabc8>,\n '_': (('釋放你的', 'power'), ('釋放你的', 'mother')),\n '__': (<function __main__.myFunc.<locals>.myInner()>,\n  <function __main__.myFunc.<locals>.myInner()>),\n '___': 7,\n 'os': <module 'os' from 'C:\\\\ProgramData\\\\Anaconda3\\\\lib\\\\os.py'>,\n 'sys': <module 'sys' (built-in)>,\n '_i': \"def myFunc ( arg ):\\n    def myInner():\\n        return ('釋放你的', arg)\\n    return myInner\\na = myFunc('power')\\nb = myFunc('mother')\\na(), b()\",\n '_ii': \"#Closure\\ndef myFunc ( arg ):\\n    def myInner():\\n        return ('釋放你的', arg)\\n    return myInner\\na = myFunc('power')\\nb = myFunc('mother')\\na , b #記得自己來自哪裡的closure\",\n '_iii': 'def outer(a, b):\\n    def inner(c, d):\\n        return c + d\\n    return inner(a, b)\\nouter(2, 5)',\n '_i1': \"my_tag = {'name': 'img', 'title': 'Sunset Boulevard','src': 'sunset.jpg', 'cls': 'framed'}\\ntag(**my_tag)\",\n 'my_tag': {'name': 'img',\n  'title': 'Sunset Boulevard',\n  'src': 'sunset.jpg',\n  'cls': 'framed'},\n '_i2': \"#錯誤示範: 預設值使用可變的資料類型\\ndef buggy (x, result = []):\\n    result.append(x)\\n    print(result)\\nbuggy('a')\\nbuggy('b')#錯了\",\n 'buggy': <function __main__.buggy(x, result=['a', 'b'])>,\n '_i3': \"#正確示範1\\n#錯誤示範: 預設值使用可變的資料類型\\ndef okman (x):\\n    result = []\\n    result.append(x)\\n    print(result)\\nokman('a')\\nokman('b')#對了\",\n 'okman': <function __main__.okman(x)>,\n '_i4': \"#正確示範2\\ndef perfectman (x, result = None):\\n    if result is None:\\n        result = []\\n    result.append(x)\\n    print(result)\\nperfectman('a')\\nperfectman('b')#更好\",\n 'perfectman': <function __main__.perfectman(x, result=None)>,\n '_i5': \"def print_args (*args):\\n    print(args)\\nprint_args('a','b','c')\",\n 'print_args': <function __main__.print_args(*args)>,\n '_i6': \"def print_kwargs(**kwargs):\\n    print(kwargs)\\nprint_kwargs( a = 'apple', b = 'banana')\",\n 'print_kwargs': <function __main__.print_kwargs(**kwargs)>,\n '_i7': 'def runWithArgs (func, *args):\\n    return func(args)\\nrunWithArgs(sum, 1, 4, 5)',\n 'runWithArgs': <function __main__.runWithArgs(func, *args)>,\n '_7': 10,\n '_i8': 'def outer(a, b):\\n    def inner(c, d):\\n        return c + d\\n    return inner(a, b)\\nouter(2, 5)',\n 'outer': <function __main__.outer(a, b)>,\n '_8': 7,\n '_i9': \"#Closure\\ndef myFunc ( arg ):\\n    def myInner():\\n        return ('釋放你的', arg)\\n    return myInner\\na = myFunc('power')\\nb = myFunc('mother')\\na , b #記得自己來自哪裡的closure\",\n 'myFunc': <function __main__.myFunc(arg)>,\n 'a': <function __main__.myFunc.<locals>.myInner()>,\n 'b': <function __main__.myFunc.<locals>.myInner()>,\n '_9': (<function __main__.myFunc.<locals>.myInner()>,\n  <function __main__.myFunc.<locals>.myInner()>),\n '_i10': \"def myFunc ( arg ):\\n    def myInner():\\n        return ('釋放你的', arg)\\n    return myInner\\na = myFunc('power')\\nb = myFunc('mother')\\na(), b()\",\n '_10': (('釋放你的', 'power'), ('釋放你的', 'mother')),\n '_i11': \"animal = 'cat'\\ndef changeLocal():\\n    animal = 'dog'\\n    print('locals', locals())\\nchangeLocal()\\nglobals()\",\n 'animal': 'cat',\n 'changeLocal': <function __main__.changeLocal()>}"
     },
     "metadata": {},
     "execution_count": 11
    }
   ],
   "source": [
    "animal = 'cat'\n",
    "def changeLocal():\n",
    "    animal = 'dog'\n",
    "    print('locals', locals())\n",
    "changeLocal()\n",
    "globals()"
   ]
  },
  {
   "cell_type": "code",
   "execution_count": 12,
   "metadata": {},
   "outputs": [],
   "source": [
    "#高階函式(Higher-order function)\n",
    "#如果一個函式會將另一個函式當作引數\n",
    "#或是將函式當作結果回傳，那就是高階函式"
   ]
  },
  {
   "cell_type": "code",
   "execution_count": 13,
   "metadata": {},
   "outputs": [
    {
     "output_type": "execute_result",
     "data": {
      "text/plain": "(['apple', 'banana', 'orange', 'pear'], ['pear', 'apple', 'banana', 'orange'])"
     },
     "metadata": {},
     "execution_count": 13
    }
   ],
   "source": [
    "fruit = ['banana', 'apple', 'orange', 'pear']\n",
    "sorted(fruit), sorted(fruit, key=len)"
   ]
  },
  {
   "cell_type": "code",
   "execution_count": 14,
   "metadata": {},
   "outputs": [],
   "source": [
    "#著名的高階函式有 map filter reduce apply\n",
    "#apply已被棄用\n",
    "#map filter reduce已有其他替代物，像是comprehension"
   ]
  },
  {
   "cell_type": "code",
   "execution_count": 23,
   "metadata": {},
   "outputs": [
    {
     "output_type": "execute_result",
     "data": {
      "text/plain": "(['apple', 'banana', 'orange', 'pear'], ['banana', 'pear', 'apple', 'orange'])"
     },
     "metadata": {},
     "execution_count": 23
    }
   ],
   "source": [
    "#lambda\n",
    "#使用lambda的最佳時機是在使用串列引數的時候\n",
    "fruit = ['banana', 'apple', 'orange', 'pear']\n",
    "sorted(fruit), sorted(fruit, key= lambda x : x[1])\n",
    "#可以少定義一個slice函式"
   ]
  },
  {
   "cell_type": "code",
   "execution_count": 25,
   "metadata": {},
   "outputs": [
    {
     "output_type": "execute_result",
     "data": {
      "text/plain": "720"
     },
     "metadata": {},
     "execution_count": 25
    }
   ],
   "source": [
    "#reduce\n",
    "from functools import reduce\n",
    "from operator import mul\n",
    "\n",
    "#factorial\n",
    "def fact(n):\n",
    "    return reduce(mul, range(1, n+1))\n",
    "\n",
    "fact(6)"
   ]
  },
  {
   "cell_type": "code",
   "execution_count": 26,
   "metadata": {},
   "outputs": [
    {
     "output_type": "execute_result",
     "data": {
      "text/plain": "(21, 21)"
     },
     "metadata": {},
     "execution_count": 26
    }
   ],
   "source": [
    "#partial\n",
    "from functools import partial\n",
    "from operator import mul\n",
    "triple = partial(mul,3)\n",
    "mul(3,7), triple(7)"
   ]
  },
  {
   "cell_type": "code",
   "execution_count": 16,
   "metadata": {},
   "outputs": [
    {
     "output_type": "execute_result",
     "data": {
      "text/plain": "[True, True, False]"
     },
     "metadata": {},
     "execution_count": 16
    }
   ],
   "source": [
    "#判斷一個物件可不可以呼叫，使用callable()\n",
    "[callable(obj) for obj in [abs, str, 13]]"
   ]
  },
  {
   "cell_type": "code",
   "execution_count": 17,
   "metadata": {},
   "outputs": [
    {
     "output_type": "execute_result",
     "data": {
      "text/plain": "{'__annotations__',\n '__call__',\n '__closure__',\n '__code__',\n '__defaults__',\n '__get__',\n '__globals__',\n '__kwdefaults__',\n '__name__',\n '__qualname__'}"
     },
     "metadata": {},
     "execution_count": 17
    }
   ],
   "source": [
    "#將函式當成物件\n",
    "class C:\n",
    "    pass\n",
    "obj = C()\n",
    "def F():\n",
    "    pass\n",
    "#看看哪些是不會出現在一般實例的函式屬性\n",
    "set(dir(F))-set(dir(obj))"
   ]
  },
  {
   "cell_type": "code",
   "execution_count": 18,
   "metadata": {},
   "outputs": [],
   "source": [
    "#極度靈活的參數處理機制\n",
    "#html markup產生範例\n",
    "def tag(name, *content, cls=None, **attrs):\n",
    "    \"\"\"Generate one or more HTML tags\"\"\"\n",
    "    if cls is not None:\n",
    "        attrs['class'] = cls\n",
    "    if attrs:\n",
    "        attr_str = ''.join(' %s=\"%s\"' % (attr, value)\n",
    "                           for attr, value\n",
    "                           in sorted(attrs.items()))\n",
    "    else:\n",
    "        attr_str = ''\n",
    "    if content:\n",
    "        return '\\n'.join('<%s%s>%s</%s>' %\n",
    "                         (name, attr_str, c, name) for c in content)\n",
    "    else:\n",
    "        return '<%s%s />' % (name, attr_str)"
   ]
  },
  {
   "cell_type": "code",
   "execution_count": 19,
   "metadata": {},
   "outputs": [
    {
     "output_type": "execute_result",
     "data": {
      "text/plain": "('<br />', '<p>hello</p>', '<p>hello</p>\\n<p>world</p>')"
     },
     "metadata": {},
     "execution_count": 19
    }
   ],
   "source": [
    "tag('br'), tag('p', 'hello'), tag('p', 'hello', 'world')"
   ]
  },
  {
   "cell_type": "code",
   "execution_count": 20,
   "metadata": {},
   "outputs": [
    {
     "output_type": "execute_result",
     "data": {
      "text/plain": "('<p id=\"33\">hello</p>',\n '<p class=\"sidebar\">hello</p>\\n<p class=\"sidebar\">world</p>')"
     },
     "metadata": {},
     "execution_count": 20
    }
   ],
   "source": [
    "tag('p', 'hello', id=33), tag('p', 'hello', 'world', cls='sidebar')"
   ]
  },
  {
   "cell_type": "code",
   "execution_count": 21,
   "metadata": {},
   "outputs": [
    {
     "output_type": "execute_result",
     "data": {
      "text/plain": "'<img content=\"testing\" />'"
     },
     "metadata": {},
     "execution_count": 21
    }
   ],
   "source": [
    "tag(content='testing', name=\"img\")"
   ]
  },
  {
   "cell_type": "code",
   "execution_count": 22,
   "metadata": {},
   "outputs": [
    {
     "output_type": "execute_result",
     "data": {
      "text/plain": "'<img class=\"framed\" src=\"sunset.jpg\" title=\"Sunset Boulevard\" />'"
     },
     "metadata": {},
     "execution_count": 22
    }
   ],
   "source": [
    "my_tag = {'name': 'img', 'title': 'Sunset Boulevard','src': 'sunset.jpg', 'cls': 'framed'}\n",
    "tag(**my_tag)"
   ]
  },
  {
   "cell_type": "code",
   "execution_count": null,
   "metadata": {},
   "outputs": [],
   "source": []
  }
 ]
}