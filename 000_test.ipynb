{
 "metadata": {
  "language_info": {
   "codemirror_mode": {
    "name": "ipython",
    "version": 3
   },
   "file_extension": ".py",
   "mimetype": "text/x-python",
   "name": "python",
   "nbconvert_exporter": "python",
   "pygments_lexer": "ipython3",
   "version": "3.7.4-final"
  },
  "orig_nbformat": 2,
  "kernelspec": {
   "name": "python3",
   "display_name": "Python 3"
  }
 },
 "nbformat": 4,
 "nbformat_minor": 2,
 "cells": [
  {
   "cell_type": "code",
   "execution_count": 3,
   "metadata": {
    "tags": []
   },
   "outputs": [
    {
     "output_type": "stream",
     "name": "stdout",
     "text": "too high\n"
    }
   ],
   "source": [
    "def aboutseven (x):\n",
    "    if x < 7:\n",
    "        print('too low')\n",
    "    elif x == 7:\n",
    "        print('right')\n",
    "    else: \n",
    "        print('too high') \n",
    "aboutseven(9)"
   ]
  },
  {
   "cell_type": "code",
   "execution_count": 5,
   "metadata": {
    "tags": []
   },
   "outputs": [
    {
     "output_type": "stream",
     "name": "stdout",
     "text": "too low\ntoo low\ntoo low\ntoo low\ntoo low\ntoo low\nright\n"
    }
   ],
   "source": [
    "for a in range(1,8):\n",
    "    aboutseven(a)"
   ]
  },
  {
   "cell_type": "code",
   "execution_count": 28,
   "metadata": {
    "tags": []
   },
   "outputs": [
    {
     "output_type": "execute_result",
     "data": {
      "text/plain": "[3, 2, 1, 0]"
     },
     "metadata": {},
     "execution_count": 28
    }
   ],
   "source": [
    "l =[]\n",
    "for i in range(0, 4):\n",
    "    l.append(i)\n",
    "l[::-1]    \n"
   ]
  },
  {
   "cell_type": "code",
   "execution_count": 30,
   "metadata": {},
   "outputs": [
    {
     "output_type": "execute_result",
     "data": {
      "text/plain": "[0, 2, 4, 6, 8]"
     },
     "metadata": {},
     "execution_count": 30
    }
   ],
   "source": [
    "[x for x in range(10) if x % 2 ==0]"
   ]
  },
  {
   "cell_type": "code",
   "execution_count": 34,
   "metadata": {},
   "outputs": [
    {
     "output_type": "execute_result",
     "data": {
      "text/plain": "{0: 0, 1: 1, 2: 4, 3: 9, 4: 16, 5: 25, 6: 36, 7: 49, 8: 64, 9: 81}"
     },
     "metadata": {},
     "execution_count": 34
    }
   ],
   "source": [
    "{ x : x**2 for x in range(10)}"
   ]
  },
  {
   "cell_type": "code",
   "execution_count": 36,
   "metadata": {},
   "outputs": [
    {
     "output_type": "execute_result",
     "data": {
      "text/plain": "{1, 3, 5, 7, 9}"
     },
     "metadata": {},
     "execution_count": 36
    }
   ],
   "source": [
    "{ x for x in range(10) if x % 2 == 1}"
   ]
  },
  {
   "cell_type": "code",
   "execution_count": 40,
   "metadata": {
    "tags": []
   },
   "outputs": [
    {
     "output_type": "stream",
     "name": "stdout",
     "text": "Got 0\nGot 1\nGot 2\nGot 3\nGot 4\nGot 5\nGot 6\nGot 7\nGot 8\nGot 9\n"
    }
   ],
   "source": [
    "gen = ('Got '+str(x) for x in range(10))\n",
    "for i in gen: \n",
    "    print(i)"
   ]
  },
  {
   "cell_type": "code",
   "execution_count": 52,
   "metadata": {
    "tags": []
   },
   "outputs": [
    {
     "output_type": "stream",
     "name": "stdout",
     "text": "start\n134\nend\n"
    }
   ],
   "source": [
    "def test (func):\n",
    "    def inner():\n",
    "      print('start')\n",
    "      func()\n",
    "      print('end')\n",
    "    return inner\n",
    "\n",
    "@test\n",
    "def okok():\n",
    "    print('134')\n",
    "okok()"
   ]
  },
  {
   "cell_type": "code",
   "execution_count": 54,
   "metadata": {},
   "outputs": [
    {
     "output_type": "execute_result",
     "data": {
      "text/plain": "{'我': '是', '你': '好'}"
     },
     "metadata": {},
     "execution_count": 54
    }
   ],
   "source": [
    "a =['我','你']\n",
    "b =['是','好']\n",
    "dict(zip(a,b))"
   ]
  },
  {
   "cell_type": "code",
   "execution_count": 3,
   "metadata": {},
   "outputs": [
    {
     "output_type": "execute_result",
     "data": {
      "text/plain": "<__main__.Thing at 0x1e737611d88>"
     },
     "metadata": {},
     "execution_count": 3
    }
   ],
   "source": [
    "class Thing():\n",
    "    pass\n",
    "example = Thing()\n",
    "example"
   ]
  },
  {
   "cell_type": "code",
   "execution_count": 7,
   "metadata": {},
   "outputs": [
    {
     "output_type": "execute_result",
     "data": {
      "text/plain": "'abc'"
     },
     "metadata": {},
     "execution_count": 7
    }
   ],
   "source": [
    "class Thing2():\n",
    "    def __init__(self, letter):\n",
    "        self.letter = letter\n",
    "example = Thing2('abc')\n",
    "example.letter"
   ]
  },
  {
   "cell_type": "code",
   "execution_count": 28,
   "metadata": {},
   "outputs": [],
   "source": [
    "class Element():\n",
    "    def __init__(self, name, symbol, number):\n",
    "        self.name = name\n",
    "        self.symbol = symbol\n",
    "        self.number = number\n",
    "    def dump():\n",
    "        print(self.name)"
   ]
  },
  {
   "cell_type": "code",
   "execution_count": 41,
   "metadata": {
    "tags": []
   },
   "outputs": [
    {
     "output_type": "stream",
     "name": "stdout",
     "text": "看啥\n"
    }
   ],
   "source": [
    "class Element():\n",
    "    def __init__(self, name, symbol, number):\n",
    "        self.name = name\n",
    "        self.symbol = symbol\n",
    "        self.number = number\n",
    "    def dump(self):\n",
    "        print('%s'%self.name)\n",
    "    def __str__(self):\n",
    "        return '看啥'\n",
    "Hdict = { 'name':'Hydrogen', 'symbol':'H', 'number':1 }\n",
    "H2 = Element(**Hdict)\n",
    "print(H2)"
   ]
  },
  {
   "cell_type": "code",
   "execution_count": 4,
   "metadata": {
    "tags": []
   },
   "outputs": [
    {
     "output_type": "stream",
     "name": "stdout",
     "text": "I'm haha\n"
    }
   ],
   "source": [
    "class Element():\n",
    "    def __init__(self, inputName, symbol, number):\n",
    "        self.__hideName = inputName\n",
    "        self.symbol = symbol\n",
    "        self.number = number\n",
    "    @property\n",
    "    def name(self):\n",
    "        print(\"I'm\",self.__hideName)\n",
    "    @name.setter\n",
    "    def name(self,inputName):\n",
    "        self.__hideName = inputName\n",
    "Hdict = { 'inputName':'Hydrogen', 'symbol':'H', 'number':1 }\n",
    "H2 = Element(**Hdict)\n",
    "H2.name = 'haha'\n",
    "H2.name"
   ]
  },
  {
   "cell_type": "code",
   "execution_count": 2,
   "metadata": {},
   "outputs": [
    {
     "output_type": "execute_result",
     "data": {
      "text/plain": "'💩'"
     },
     "metadata": {},
     "execution_count": 2
    }
   ],
   "source": [
    "mystery = '\\U0001f4a9'\n",
    "mystery"
   ]
  },
  {
   "cell_type": "code",
   "execution_count": 6,
   "metadata": {},
   "outputs": [],
   "source": [
    "pop_bytes = mystery.encode('UTF-8')"
   ]
  },
  {
   "cell_type": "code",
   "execution_count": 8,
   "metadata": {},
   "outputs": [
    {
     "output_type": "execute_result",
     "data": {
      "text/plain": "b'\\xf0\\x9f\\x92\\xa9'"
     },
     "metadata": {},
     "execution_count": 8
    }
   ],
   "source": [
    "pop_bytes"
   ]
  },
  {
   "cell_type": "code",
   "execution_count": 10,
   "metadata": {},
   "outputs": [
    {
     "output_type": "execute_result",
     "data": {
      "text/plain": "'💩'"
     },
     "metadata": {},
     "execution_count": 10
    }
   ],
   "source": [
    "pop_bytes.decode('UTF-8')"
   ]
  },
  {
   "cell_type": "code",
   "execution_count": 13,
   "metadata": {},
   "outputs": [
    {
     "output_type": "execute_result",
     "data": {
      "text/plain": "'sfdP45'"
     },
     "metadata": {},
     "execution_count": 13
    }
   ],
   "source": [
    "s = 'sfdP{apple}'\n",
    "s.format(apple='45')"
   ]
  },
  {
   "cell_type": "code",
   "execution_count": 20,
   "metadata": {},
   "outputs": [
    {
     "output_type": "execute_result",
     "data": {
      "text/plain": "\"We have seen thee, queen of cheese,\\nLying quietly at your ease,\\nGently fanned by evening breeze,\\nThy fair form no flies dare seize.\\n\\nAll gaily dressed soon you'll go\\nTo the great Provincial show,\\nTo be admired by many a beau\\nIn the city of Toronto.\\n\\nCows numerous as a swarm of bees,\\nOr as the leaves upon the trees,\\nIt did require to make thee please,\\nAnd stand unrivalled, queen of cheese.\\n\\nMay you not receive a scar as\\nWe have heard that Mr. Harris\\nIntends to send you off as far as\\nThe great world's show at Paris.\\n\\nOf the youth beware of these,\\nFor some of them might rudely squeeze\\nAnd bite your cheek, then songs or glees\\nWe could not sing, oh! queen of cheese.\\n\\nWe'rt thou suspended from balloon,\\nYou'd cast a shade even at noon,\\nFolks would think it was the moon\\nAbout to fall and crush them soon.\""
     },
     "metadata": {},
     "execution_count": 20
    }
   ],
   "source": [
    "song = \"\"\"We have seen thee, queen of cheese,\n",
    "Lying quietly at your ease,\n",
    "Gently fanned by evening breeze,\n",
    "Thy fair form no flies dare seize.\n",
    "\n",
    "All gaily dressed soon you'll go\n",
    "To the great Provincial show,\n",
    "To be admired by many a beau\n",
    "In the city of Toronto.\n",
    "\n",
    "Cows numerous as a swarm of bees,\n",
    "Or as the leaves upon the trees,\n",
    "It did require to make thee please,\n",
    "And stand unrivalled, queen of cheese.\n",
    "\n",
    "May you not receive a scar as\n",
    "We have heard that Mr. Harris\n",
    "Intends to send you off as far as\n",
    "The great world's show at Paris.\n",
    "\n",
    "Of the youth beware of these,\n",
    "For some of them might rudely squeeze\n",
    "And bite your cheek, then songs or glees\n",
    "We could not sing, oh! queen of cheese.\n",
    "\n",
    "We'rt thou suspended from balloon,\n",
    "You'd cast a shade even at noon,\n",
    "Folks would think it was the moon\n",
    "About to fall and crush them soon.\"\"\"\n",
    "\n",
    "song"
   ]
  },
  {
   "cell_type": "code",
   "execution_count": 31,
   "metadata": {},
   "outputs": [
    {
     "output_type": "execute_result",
     "data": {
      "text/plain": "['cheese', 'city', 'cheese', 'cheek', 'could', 'cheese', 'cast', 'crush']"
     },
     "metadata": {},
     "execution_count": 31
    }
   ],
   "source": [
    "import re \n",
    "re.findall(r'\\bc\\w*\\b',song)"
   ]
  },
  {
   "cell_type": "code",
   "execution_count": 34,
   "metadata": {},
   "outputs": [
    {
     "output_type": "execute_result",
     "data": {
      "text/plain": "['city', 'cast']"
     },
     "metadata": {},
     "execution_count": 34
    }
   ],
   "source": [
    "re.findall(r'\\bc\\w{3}\\b',song)"
   ]
  },
  {
   "cell_type": "code",
   "execution_count": null,
   "metadata": {},
   "outputs": [],
   "source": []
  }
 ]
}