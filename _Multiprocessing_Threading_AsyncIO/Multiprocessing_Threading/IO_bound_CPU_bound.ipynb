{
 "cells": [
  {
   "cell_type": "code",
   "execution_count": 1,
   "metadata": {},
   "outputs": [
    {
     "name": "stdout",
     "output_type": "stream",
     "text": [
      "Time taken in seconds - 7.152557373046875e-07\n"
     ]
    }
   ],
   "source": [
    "import time, os\n",
    "from threading import Thread, current_thread\n",
    "from multiprocessing import Process, current_process\n",
    " \n",
    " \n",
    "COUNT = 200000000\n",
    "SLEEP = 10\n",
    " \n",
    "def io_bound(sec):\n",
    " \n",
    "    pid = os.getpid()\n",
    "    threadName = current_thread().name\n",
    "    processName = current_process().name\n",
    " \n",
    "    print(f\"{pid} * {processName} * {threadName} \\\n",
    "        ---> Start sleeping...\")\n",
    "    time.sleep(sec)\n",
    "    print(f\"{pid} * {processName} * {threadName} \\\n",
    "        ---> Finished sleeping...\")\n",
    " \n",
    "def cpu_bound(n):\n",
    " \n",
    "    pid = os.getpid()\n",
    "    threadName = current_thread().name\n",
    "    processName = current_process().name\n",
    " \n",
    "    print(f\"{pid} * {processName} * {threadName} \\\n",
    "        ---> Start counting...\")\n",
    " \n",
    "    while n>0:\n",
    "        n -= 1\n",
    " \n",
    "    print(f\"{pid} * {processName} * {threadName} \\\n",
    "        ---> Finished counting...\")\n",
    " \n",
    "if __name__==\"__main__\":\n",
    "    start = time.time()\n",
    " \n",
    "    # YOUR CODE SNIPPET HERE\n",
    " \n",
    "    end = time.time()\n",
    "    print('Time taken in seconds -', end - start)"
   ]
  },
  {
   "cell_type": "markdown",
   "metadata": {},
   "source": [
    "Part 1: Running IO-bound task twice, one after the other… "
   ]
  },
  {
   "cell_type": "code",
   "execution_count": 3,
   "metadata": {},
   "outputs": [
    {
     "name": "stdout",
     "output_type": "stream",
     "text": [
      "12651 * MainProcess * MainThread         ---> Start sleeping...\n",
      "12651 * MainProcess * MainThread         ---> Finished sleeping...\n",
      "12651 * MainProcess * MainThread         ---> Start sleeping...\n",
      "12651 * MainProcess * MainThread         ---> Finished sleeping...\n",
      "Time taken in seconds - 20.000312328338623\n"
     ]
    }
   ],
   "source": [
    "if __name__==\"__main__\":\n",
    "    start = time.time()\n",
    " \n",
    "    io_bound(SLEEP)\n",
    "    io_bound(SLEEP)\n",
    " \n",
    "    end = time.time()\n",
    "    print('Time taken in seconds -', end - start)"
   ]
  },
  {
   "cell_type": "markdown",
   "metadata": {},
   "source": [
    "Part 2: Using threading to run the IO-bound tasks… "
   ]
  },
  {
   "cell_type": "code",
   "execution_count": 7,
   "metadata": {},
   "outputs": [
    {
     "name": "stdout",
     "output_type": "stream",
     "text": [
      "12651 * MainProcess * Thread-10 (io_bound)         ---> Start sleeping...\n",
      "12651 * MainProcess * Thread-11 (io_bound)         ---> Start sleeping...\n",
      "12651 * MainProcess * Thread-10 (io_bound)         ---> Finished sleeping...\n",
      "12651 * MainProcess * Thread-11 (io_bound)         ---> Finished sleeping...\n",
      "Time taken in seconds - 10.00242018699646\n"
     ]
    }
   ],
   "source": [
    "if __name__==\"__main__\":\n",
    "    start = time.time()\n",
    " \n",
    "    t1 = Thread(target = io_bound, args =(SLEEP, ))\n",
    "    t2 = Thread(target = io_bound, args =(SLEEP, ))\n",
    "    t1.start()\n",
    "    t2.start()\n",
    "    t1.join()\n",
    "    t2.join()\n",
    " \n",
    "    end = time.time()\n",
    "    print('Time taken in seconds -', end - start)"
   ]
  },
  {
   "cell_type": "markdown",
   "metadata": {},
   "source": [
    "Part 3: Running CPU-bound task twice, one after the other… "
   ]
  },
  {
   "cell_type": "code",
   "execution_count": 8,
   "metadata": {},
   "outputs": [
    {
     "name": "stdout",
     "output_type": "stream",
     "text": [
      "12651 * MainProcess * MainThread         ---> Start counting...\n",
      "12651 * MainProcess * MainThread         ---> Finished counting...\n",
      "12651 * MainProcess * MainThread         ---> Start counting...\n",
      "12651 * MainProcess * MainThread         ---> Finished counting...\n",
      "Time taken in seconds - 8.071195363998413\n"
     ]
    }
   ],
   "source": [
    "if __name__==\"__main__\":\n",
    "    start = time.time()\n",
    " \n",
    "    cpu_bound(COUNT)\n",
    "    cpu_bound(COUNT)\n",
    " \n",
    "    end = time.time()\n",
    "    print('Time taken in seconds -', end - start)"
   ]
  },
  {
   "cell_type": "markdown",
   "metadata": {},
   "source": [
    "Part 4: Can threading speed up our CPU-bound tasks? "
   ]
  },
  {
   "cell_type": "code",
   "execution_count": 10,
   "metadata": {},
   "outputs": [
    {
     "name": "stdout",
     "output_type": "stream",
     "text": [
      "12651 * MainProcess * Thread-14 (cpu_bound)         ---> Start counting...\n",
      "12651 * MainProcess * Thread-15 (cpu_bound)         ---> Start counting...\n",
      "12651 * MainProcess * Thread-14 (cpu_bound)         ---> Finished counting...\n",
      "12651 * MainProcess * Thread-15 (cpu_bound)         ---> Finished counting...\n",
      "Time taken in seconds - 8.68875789642334\n"
     ]
    }
   ],
   "source": [
    "if __name__==\"__main__\":\n",
    "    start = time.time()\n",
    "\n",
    "    t1 = Thread(target = cpu_bound, args =(COUNT, ))\n",
    "    t2 = Thread(target = cpu_bound, args =(COUNT, ))\n",
    "    t1.start()\n",
    "    t2.start()\n",
    "    t1.join()\n",
    "    t2.join()\n",
    "\n",
    "    end = time.time()\n",
    "    print('Time taken in seconds -', end - start)"
   ]
  },
  {
   "cell_type": "markdown",
   "metadata": {},
   "source": [
    "Part 5: So, does splitting the tasks as separate processes work? "
   ]
  },
  {
   "cell_type": "code",
   "execution_count": 11,
   "metadata": {},
   "outputs": [
    {
     "name": "stdout",
     "output_type": "stream",
     "text": [
      "14086 * Process-1 * MainThread         ---> Start counting...\n",
      "14089 * Process-2 * MainThread         ---> Start counting...\n",
      "14089 * Process-2 * MainThread         ---> Finished counting...\n",
      "14086 * Process-1 * MainThread         ---> Finished counting...\n",
      "Time taken in seconds - 4.173098087310791\n"
     ]
    }
   ],
   "source": [
    "if __name__==\"__main__\":\n",
    "    start = time.time()\n",
    "\n",
    "    p1 = Process(target = cpu_bound, args =(COUNT, ))\n",
    "    p2 = Process(target = cpu_bound, args =(COUNT, ))\n",
    "    p1.start()\n",
    "    p2.start()\n",
    "    p1.join()\n",
    "    p2.join()\n",
    "\n",
    "    end = time.time()\n",
    "    print('Time taken in seconds -', end - start)"
   ]
  },
  {
   "cell_type": "markdown",
   "metadata": {},
   "source": [
    "Part 6: Hey, lets use multiprocessing for our IO-bound tasks… "
   ]
  },
  {
   "cell_type": "code",
   "execution_count": 12,
   "metadata": {},
   "outputs": [
    {
     "name": "stdout",
     "output_type": "stream",
     "text": [
      "14182 * Process-3 * MainThread         ---> Start sleeping...\n",
      "14185 * Process-4 * MainThread         ---> Start sleeping...\n",
      "14182 * Process-3 * MainThread         ---> Finished sleeping...\n",
      "14185 * Process-4 * MainThread         ---> Finished sleeping...\n",
      "Time taken in seconds - 10.014235258102417\n"
     ]
    }
   ],
   "source": [
    "if __name__==\"__main__\":\n",
    "    start = time.time()\n",
    "\n",
    "    p1 = Process(target = io_bound, args =(SLEEP, ))\n",
    "    p2 = Process(target = io_bound, args =(SLEEP, ))\n",
    "    p1.start()\n",
    "    p2.start()\n",
    "    p1.join()\n",
    "    p2.join()\n",
    "\n",
    "    end = time.time()\n",
    "    print('Time taken in seconds -', end - start)"
   ]
  }
 ],
 "metadata": {
  "kernelspec": {
   "display_name": "base",
   "language": "python",
   "name": "python3"
  },
  "language_info": {
   "codemirror_mode": {
    "name": "ipython",
    "version": 3
   },
   "file_extension": ".py",
   "mimetype": "text/x-python",
   "name": "python",
   "nbconvert_exporter": "python",
   "pygments_lexer": "ipython3",
   "version": "3.11.4"
  }
 },
 "nbformat": 4,
 "nbformat_minor": 2
}
