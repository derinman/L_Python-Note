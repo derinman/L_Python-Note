{
 "metadata": {
  "language_info": {
   "codemirror_mode": {
    "name": "ipython",
    "version": 3
   },
   "file_extension": ".py",
   "mimetype": "text/x-python",
   "name": "python",
   "nbconvert_exporter": "python",
   "pygments_lexer": "ipython3",
   "version": "3.7.4-final"
  },
  "orig_nbformat": 2,
  "kernelspec": {
   "name": "python3",
   "display_name": "Python 3"
  }
 },
 "nbformat": 4,
 "nbformat_minor": 2,
 "cells": [
  {
   "cell_type": "code",
   "execution_count": 1,
   "metadata": {},
   "outputs": [
    {
     "output_type": "stream",
     "name": "stdout",
     "text": [
      "[23:24:33] Script starting.\n",
      "[23:24:33] loiter(0): doing nothing for 0s...\n",
      "[23:24:33] loiter(0): done.\n",
      "[23:24:33] \tloiter(1): doing nothing for 1s...\n",
      "[23:24:33] \t\tloiter(2): doing nothing for 2s...\n",
      "[23:24:33][23:24:33] \t\t\tloiter(3): doing nothing for 3s... \n",
      "results: <generator object Executor.map.<locals>.result_iterator at 0x000001C79DC9EE48>\n",
      "[23:24:33] Waiting for individual results:\n",
      "[23:24:33] result 0: 0\n",
      "[23:24:34] \tloiter(1): done.\n",
      "[23:24:34] \t\t\t\tloiter(4): doing nothing for 4s...\n",
      "[23:24:34] result 1: 10\n",
      "[23:24:35] \t\tloiter(2): done.\n",
      "[23:24:35] result 2: 20\n",
      "[23:24:36] \t\t\tloiter(3): done.\n",
      "[23:24:36] result 3: 30\n",
      "[23:24:38] \t\t\t\tloiter(4): done.\n",
      "[23:24:38] result 4: 40\n"
     ]
    }
   ],
   "source": [
    "#仔細觀察結果，一開始創建3個執行緒，然後有5個工作被安排\n",
    "#有3個會立即執行，請仔細觀察輸出的結果\n",
    "\n",
    "from time import sleep, strftime\n",
    "from concurrent import futures\n",
    "\n",
    "\n",
    "def display(*args):  # <1>\n",
    "    print(strftime('[%H:%M:%S]'), end=' ')\n",
    "    print(*args)\n",
    "\n",
    "\n",
    "def loiter(n):  # <2>\n",
    "    msg = '{}loiter({}): doing nothing for {}s...'\n",
    "    display(msg.format('\\t'*n, n, n))\n",
    "    sleep(n)\n",
    "    msg = '{}loiter({}): done.'\n",
    "    display(msg.format('\\t'*n, n))\n",
    "    return n * 10  # <3>\n",
    "\n",
    "\n",
    "def main():\n",
    "    display('Script starting.')\n",
    "    executor = futures.ThreadPoolExecutor(max_workers=3)  # <4>\n",
    "    results = executor.map(loiter, range(5))  # <5>\n",
    "    display('results:', results)  # <6>.\n",
    "    display('Waiting for individual results:')\n",
    "    for i, result in enumerate(results):  # <7>\n",
    "        display('result {}: {}'.format(i, result))\n",
    "\n",
    "\n",
    "main()"
   ]
  },
  {
   "cell_type": "code",
   "execution_count": null,
   "metadata": {},
   "outputs": [],
   "source": [
    "#execute.submit與future.as_completed的組合比executor.map還要靈活\n",
    "#executor.map的設計是為了用不同引數來執行相同的可呼叫物\n",
    "#而future.as_completed接收的future集合可能來自一個以上的executor"
   ]
  }
 ]
}