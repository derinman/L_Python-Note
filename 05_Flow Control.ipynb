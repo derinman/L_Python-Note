{
 "metadata": {
  "language_info": {
   "codemirror_mode": {
    "name": "ipython",
    "version": 3
   },
   "file_extension": ".py",
   "mimetype": "text/x-python",
   "name": "python",
   "nbconvert_exporter": "python",
   "pygments_lexer": "ipython3",
   "version": "3.7.4-final"
  },
  "orig_nbformat": 2,
  "kernelspec": {
   "name": "python3",
   "display_name": "Python 3"
  }
 },
 "nbformat": 4,
 "nbformat_minor": 2,
 "cells": [
  {
   "cell_type": "code",
   "execution_count": null,
   "metadata": {},
   "outputs": [],
   "source": [
    "#if else的語意比較正確\n",
    "#try else 與 while else的語意不太符合直覺，else比較像'then'"
   ]
  },
  {
   "cell_type": "code",
   "execution_count": 10,
   "metadata": {
    "tags": []
   },
   "outputs": [
    {
     "output_type": "stream",
     "name": "stdout",
     "text": "[1, 2, 4, 5, 6, 'THE END']\n"
    }
   ],
   "source": [
    "#有用break else就不會作用\n",
    "l=[]\n",
    "num=0\n",
    "while num <= 5:\n",
    "  num+=1\n",
    "  if num == 3:\n",
    "    continue\n",
    "  l.append(num)\n",
    "else: l.append('THE END')\n",
    "print(l)"
   ]
  },
  {
   "cell_type": "code",
   "execution_count": 6,
   "metadata": {
    "tags": []
   },
   "outputs": [
    {
     "output_type": "stream",
     "name": "stdout",
     "text": "[1, 2]\n"
    }
   ],
   "source": [
    "#有用break else就不會作用\n",
    "l=[]\n",
    "num=0\n",
    "while num <= 5:\n",
    "  num+=1\n",
    "  if num == 3:\n",
    "    break\n",
    "  l.append(num)\n",
    "else: l.append('THE END')\n",
    "print(l)"
   ]
  },
  {
   "cell_type": "code",
   "execution_count": 13,
   "metadata": {
    "tags": []
   },
   "outputs": [
    {
     "output_type": "stream",
     "name": "stdout",
     "text": "[1, 2, 3, 4, 5, 6, 'THE END']\n"
    }
   ],
   "source": [
    "#有用break else就不會作用\n",
    "l= []\n",
    "num=0\n",
    "while num <= 5:\n",
    "  num+=1\n",
    "  if num == 30:\n",
    "    break\n",
    "  l.append(num)\n",
    "else: l.append('THE END')\n",
    "print(l)"
   ]
  },
  {
   "cell_type": "code",
   "execution_count": 22,
   "metadata": {
    "tags": []
   },
   "outputs": [
    {
     "output_type": "stream",
     "name": "stdout",
     "text": "[1, 2, 3, 4, 5]\n"
    }
   ],
   "source": [
    "#有用break else就不會作用\n",
    "l = []\n",
    "for i in range(1,11):\n",
    "  if i == 6:\n",
    "      break\n",
    "  l.append(i)\n",
    "else: \n",
    "  l.append('THE END')\n",
    "print(l)"
   ]
  },
  {
   "cell_type": "code",
   "execution_count": 1,
   "metadata": {
    "tags": []
   },
   "outputs": [
    {
     "output_type": "stream",
     "name": "stdout",
     "text": "[1, 2, 3, 4, 5, 6, 7, 8, 9, 10, 'THE END']\n"
    }
   ],
   "source": [
    "#有用break else就不會作用\n",
    "l = []\n",
    "for i in range(1,11):\n",
    "  if i == 60:\n",
    "      break\n",
    "  l.append(i)\n",
    "else: \n",
    "  l.append('THE END')\n",
    "print(l)"
   ]
  },
  {
   "cell_type": "code",
   "execution_count": 8,
   "metadata": {},
   "outputs": [
    {
     "output_type": "execute_result",
     "data": {
      "text/plain": "False"
     },
     "metadata": {},
     "execution_count": 8
    }
   ],
   "source": [
    "x = None\n",
    "bool(x)"
   ]
  },
  {
   "cell_type": "code",
   "execution_count": 1,
   "metadata": {},
   "outputs": [
    {
     "output_type": "execute_result",
     "data": {
      "text/plain": "True"
     },
     "metadata": {},
     "execution_count": 1
    }
   ],
   "source": [
    "x = None\n",
    "x is None"
   ]
  },
  {
   "cell_type": "code",
   "execution_count": 2,
   "metadata": {
    "tags": []
   },
   "outputs": [
    {
     "output_type": "execute_result",
     "data": {
      "text/plain": "['None', 'True', 'True', 'False', 'False', 'False']"
     },
     "metadata": {},
     "execution_count": 2
    }
   ],
   "source": [
    "def is_none (thing):\n",
    "    if thing is None:\n",
    "        return('None')\n",
    "    elif thing:\n",
    "        return('True')\n",
    "    else :\n",
    "        return('False')\n",
    "[is_none(None), is_none(True), is_none(1), is_none(False), is_none(0), is_none([])]"
   ]
  },
  {
   "cell_type": "code",
   "execution_count": 6,
   "metadata": {
    "tags": []
   },
   "outputs": [
    {
     "output_type": "stream",
     "name": "stdout",
     "text": "沒有啦\n"
    }
   ],
   "source": [
    "l = [1, 2, 3]\n",
    "try:\n",
    "    l[5]\n",
    "except:\n",
    "    print('沒有啦')"
   ]
  },
  {
   "cell_type": "code",
   "execution_count": 1,
   "metadata": {
    "tags": []
   },
   "outputs": [
    {
     "output_type": "stream",
     "name": "stdout",
     "text": [
      "index錯\n"
     ]
    }
   ],
   "source": [
    "l = [1, 2, 3]\n",
    "try:\n",
    "    l[5]\n",
    "except IndexError :\n",
    "    print('index錯')\n",
    "except Exception :\n",
    "    print('其他錯')"
   ]
  },
  {
   "cell_type": "code",
   "execution_count": 3,
   "metadata": {},
   "outputs": [
    {
     "output_type": "stream",
     "name": "stdout",
     "text": [
      "沒錯喔\n"
     ]
    }
   ],
   "source": [
    "l =[ 1, 2, 3]\n",
    "try:\n",
    "    l[1]\n",
    "except IndexError:\n",
    "    print('index錯')\n",
    "else:\n",
    "    print('沒錯喔')"
   ]
  },
  {
   "cell_type": "code",
   "execution_count": null,
   "metadata": {},
   "outputs": [],
   "source": []
  }
 ]
}