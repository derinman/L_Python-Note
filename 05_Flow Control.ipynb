{
 "metadata": {
  "language_info": {
   "codemirror_mode": {
    "name": "ipython",
    "version": 3
   },
   "file_extension": ".py",
   "mimetype": "text/x-python",
   "name": "python",
   "nbconvert_exporter": "python",
   "pygments_lexer": "ipython3",
   "version": "3.7.4-final"
  },
  "orig_nbformat": 2,
  "kernelspec": {
   "name": "python3",
   "display_name": "Python 3"
  }
 },
 "nbformat": 4,
 "nbformat_minor": 2,
 "cells": [
  {
   "cell_type": "code",
   "execution_count": 10,
   "metadata": {
    "tags": []
   },
   "outputs": [
    {
     "output_type": "stream",
     "name": "stdout",
     "text": "[1, 2, 4, 5, 6, 'THE END']\n"
    }
   ],
   "source": [
    "#有用break else就不會作用\n",
    "l=[]\n",
    "num=0\n",
    "while num <= 5:\n",
    "  num+=1\n",
    "  if num == 3:\n",
    "    continue\n",
    "  l.append(num)\n",
    "else: l.append('THE END')\n",
    "print(l)"
   ]
  },
  {
   "cell_type": "code",
   "execution_count": 6,
   "metadata": {
    "tags": []
   },
   "outputs": [
    {
     "output_type": "stream",
     "name": "stdout",
     "text": "[1, 2]\n"
    }
   ],
   "source": [
    "#有用break else就不會作用\n",
    "l=[]\n",
    "num=0\n",
    "while num <= 5:\n",
    "  num+=1\n",
    "  if num == 3:\n",
    "    break\n",
    "  l.append(num)\n",
    "else: l.append('THE END')\n",
    "print(l)"
   ]
  },
  {
   "cell_type": "code",
   "execution_count": 13,
   "metadata": {
    "tags": []
   },
   "outputs": [
    {
     "output_type": "stream",
     "name": "stdout",
     "text": "[1, 2, 3, 4, 5, 6, 'THE END']\n"
    }
   ],
   "source": [
    "#有用break else就不會作用\n",
    "l= []\n",
    "num=0\n",
    "while num <= 5:\n",
    "  num+=1\n",
    "  if num == 30:\n",
    "    break\n",
    "  l.append(num)\n",
    "else: l.append('THE END')\n",
    "print(l)"
   ]
  },
  {
   "cell_type": "code",
   "execution_count": 22,
   "metadata": {
    "tags": []
   },
   "outputs": [
    {
     "output_type": "stream",
     "name": "stdout",
     "text": "[1, 2, 3, 4, 5]\n"
    }
   ],
   "source": [
    "#有用break else就不會作用\n",
    "l = []\n",
    "for i in range(1,11):\n",
    "  if i == 6:\n",
    "      break\n",
    "  l.append(i)\n",
    "else: \n",
    "  l.append('THE END')\n",
    "print(l)"
   ]
  },
  {
   "cell_type": "code",
   "execution_count": 28,
   "metadata": {
    "tags": []
   },
   "outputs": [
    {
     "output_type": "stream",
     "name": "stdout",
     "text": "[1, 2, 3, 4, 5, 6, 7, 8, 9, 10, 'THE END']\n"
    }
   ],
   "source": [
    "#有用break else就不會作用\n",
    "l = []\n",
    "for i in range(1,11):\n",
    "  if i == 60:\n",
    "      break\n",
    "  l.append(i)\n",
    "else: \n",
    "  l.append('THE END')\n",
    "print(l)"
   ]
  }
 ]
}