{
 "cells": [
  {
   "cell_type": "code",
   "execution_count": 2,
   "metadata": {
    "tags": []
   },
   "outputs": [
    {
     "data": {
      "text/plain": [
       "('with_logging', None, 'good', 'does some math')"
      ]
     },
     "execution_count": 2,
     "metadata": {},
     "output_type": "execute_result"
    }
   ],
   "source": [
    "#wraps\n",
    "from functools import wraps\n",
    "\n",
    "def bad_logged(func):\n",
    "    def with_logging(*args, **kwargs):\n",
    "        print(func.__name__ + \" was called\")\n",
    "        return func(*args, **kwargs)\n",
    "    return with_logging\n",
    "\n",
    "def good_logged(func):\n",
    "    @wraps(func)\n",
    "    def with_logging(*args, **kwargs):\n",
    "        print(func.__name__ + \" was called\")\n",
    "        return func(*args, **kwargs)\n",
    "    return with_logging\n",
    "\n",
    "@bad_logged\n",
    "def bad(x):\n",
    "   \"\"\"does some math\"\"\"\n",
    "   return x + x * x\n",
    "\n",
    "@good_logged\n",
    "def good(x):\n",
    "   \"\"\"does some math\"\"\"\n",
    "   return x + x * x\n",
    "\n",
    "bad.__name__  , bad.__doc__, good.__name__, good.__doc__"
   ]
  },
  {
   "cell_type": "code",
   "execution_count": 3,
   "metadata": {
    "tags": []
   },
   "outputs": [
    {
     "name": "stdout",
     "output_type": "stream",
     "text": [
      "[0.00000000s] fibonacci(0) -> 0\n",
      "[0.00000000s] fibonacci(1) -> 1\n",
      "[0.00000000s] fibonacci(2) -> 1\n",
      "[0.00000000s] fibonacci(3) -> 2\n",
      "[0.00000000s] fibonacci(4) -> 3\n",
      "[0.00000000s] fibonacci(5) -> 5\n",
      "[0.00099730s] fibonacci(6) -> 8\n",
      "8\n"
     ]
    }
   ],
   "source": [
    "#lru_cache\r\n",
    "#相較下面cell的程式碼，去除了重複呼叫的情況\r\n",
    "#此deco將結果暫存，效能提升了很多\r\n",
    "\r\n",
    "import functools\r\n",
    "\r\n",
    "from lib.clockdeco import clock\r\n",
    "\r\n",
    "@functools.lru_cache()\r\n",
    "@clock\r\n",
    "def fibonacci(n):\r\n",
    "    if n < 2:\r\n",
    "        return n\r\n",
    "    return fibonacci(n-2) + fibonacci(n-1)\r\n",
    "\r\n",
    "if __name__=='__main__':\r\n",
    "    print(fibonacci(6))"
   ]
  },
  {
   "cell_type": "code",
   "execution_count": 4,
   "metadata": {
    "tags": []
   },
   "outputs": [
    {
     "name": "stdout",
     "output_type": "stream",
     "text": [
      "[0.00000000s] fibonacci(0) -> 0\n",
      "[0.00000000s] fibonacci(1) -> 1\n",
      "[0.00000000s] fibonacci(2) -> 1\n",
      "[0.00000000s] fibonacci(1) -> 1\n",
      "[0.00000000s] fibonacci(0) -> 0\n",
      "[0.00000000s] fibonacci(1) -> 1\n",
      "[0.00000000s] fibonacci(2) -> 1\n",
      "[0.00000000s] fibonacci(3) -> 2\n",
      "[0.00000000s] fibonacci(4) -> 3\n",
      "[0.00000000s] fibonacci(1) -> 1\n",
      "[0.00000000s] fibonacci(0) -> 0\n",
      "[0.00000000s] fibonacci(1) -> 1\n",
      "[0.00098515s] fibonacci(2) -> 1\n",
      "[0.00098515s] fibonacci(3) -> 2\n",
      "[0.00000000s] fibonacci(0) -> 0\n",
      "[0.00000000s] fibonacci(1) -> 1\n",
      "[0.00000000s] fibonacci(2) -> 1\n",
      "[0.00000000s] fibonacci(1) -> 1\n",
      "[0.00000000s] fibonacci(0) -> 0\n",
      "[0.00000000s] fibonacci(1) -> 1\n",
      "[0.00000000s] fibonacci(2) -> 1\n",
      "[0.00000000s] fibonacci(3) -> 2\n",
      "[0.00000000s] fibonacci(4) -> 3\n",
      "[0.00098515s] fibonacci(5) -> 5\n",
      "[0.00098515s] fibonacci(6) -> 8\n",
      "8\n"
     ]
    }
   ],
   "source": [
    "#沒有lru_cache的情況\r\n",
    "from lib.clockdeco import clock\r\n",
    "\r\n",
    "@clock\r\n",
    "def fibonacci(n):\r\n",
    "    if n < 2:\r\n",
    "        return n\r\n",
    "    return fibonacci(n-2) + fibonacci(n-1)\r\n",
    "\r\n",
    "if __name__=='__main__':\r\n",
    "    print(fibonacci(6))"
   ]
  },
  {
   "cell_type": "code",
   "execution_count": 5,
   "metadata": {
    "tags": []
   },
   "outputs": [
    {
     "name": "stdout",
     "output_type": "stream",
     "text": [
      "[0.00000000s] fibonacci(0) -> 0\n",
      "[0.00000000s] fibonacci(1) -> 1\n",
      "[0.00000000s] fibonacci(2) -> 1\n",
      "[0.00000000s] fibonacci(1) -> 1\n",
      "[0.00000000s] fibonacci(0) -> 0\n",
      "[0.00000000s] fibonacci(1) -> 1\n",
      "[0.00099826s] fibonacci(2) -> 1\n",
      "[0.00099826s] fibonacci(3) -> 2\n",
      "[0.00099826s] fibonacci(4) -> 3\n",
      "[0.00000000s] fibonacci(1) -> 1\n",
      "[0.00000000s] fibonacci(0) -> 0\n",
      "[0.00000000s] fibonacci(1) -> 1\n",
      "[0.00000000s] fibonacci(2) -> 1\n",
      "[0.00000000s] fibonacci(3) -> 2\n",
      "[0.00000000s] fibonacci(0) -> 0\n",
      "[0.00000000s] fibonacci(1) -> 1\n",
      "[0.00000000s] fibonacci(2) -> 1\n",
      "[0.00000000s] fibonacci(1) -> 1\n",
      "[0.00000000s] fibonacci(0) -> 0\n",
      "[0.00000000s] fibonacci(1) -> 1\n",
      "[0.00000000s] fibonacci(2) -> 1\n",
      "[0.00000000s] fibonacci(3) -> 2\n",
      "[0.00000000s] fibonacci(4) -> 3\n",
      "[0.00000000s] fibonacci(5) -> 5\n",
      "[0.00099826s] fibonacci(6) -> 8\n",
      "8\n"
     ]
    }
   ],
   "source": [
    "import functools\r\n",
    "\r\n",
    "from lib.clockdeco import clock\r\n",
    "\r\n",
    "#可填入兩個參數\r\n",
    "# maxsize(緩存區大小)，typed(依據type區分)\r\n",
    "@functools.lru_cache(maxsize=1, typed=False)\r\n",
    "@clock\r\n",
    "def fibonacci(n):\r\n",
    "    if n < 2:\r\n",
    "        return n\r\n",
    "    return fibonacci(n-2) + fibonacci(n-1)\r\n",
    "\r\n",
    "if __name__=='__main__':\r\n",
    "    print(fibonacci(6))"
   ]
  },
  {
   "cell_type": "code",
   "execution_count": 6,
   "metadata": {},
   "outputs": [],
   "source": [
    "#singledispatch\n",
    "#根據不同的參數型態產生不同行為\n",
    "#相對於if else寫法，此寫法擴充容易\n",
    "\n",
    "from functools import singledispatch\n",
    "from collections import abc\n",
    "import numbers\n",
    "import html\n",
    "\n",
    "@singledispatch\n",
    "def htmlize(obj):\n",
    "    content = html.escape(repr(obj))\n",
    "    return '<pre>{}</pre>'.format(content)\n",
    "\n",
    "@htmlize.register(str)  \n",
    "def _(text):            \n",
    "    content = html.escape(text).replace('\\n', '<br>\\n')\n",
    "    return '<p>{0}</p>'.format(content)\n",
    "\n",
    "@htmlize.register(numbers.Integral) \n",
    "def _(n):\n",
    "    return '<pre>{0} (0x{0:x})</pre>'.format(n)\n",
    "\n",
    "@htmlize.register(tuple)  \n",
    "@htmlize.register(abc.MutableSequence)\n",
    "def _(seq):\n",
    "    inner = '</li>\\n<li>'.join(htmlize(item) for item in seq)\n",
    "    return '<ul>\\n<li>' + inner + '</li>\\n</ul>'"
   ]
  },
  {
   "cell_type": "code",
   "execution_count": 7,
   "metadata": {},
   "outputs": [
    {
     "data": {
      "text/plain": [
       "'<pre>{1, 2, 3}</pre>'"
      ]
     },
     "execution_count": 7,
     "metadata": {},
     "output_type": "execute_result"
    }
   ],
   "source": [
    "htmlize({1, 2, 3})"
   ]
  },
  {
   "cell_type": "code",
   "execution_count": 7,
   "metadata": {},
   "outputs": [
    {
     "data": {
      "text/plain": [
       "'<pre>&lt;built-in function abs&gt;</pre>'"
      ]
     },
     "execution_count": 7,
     "metadata": {},
     "output_type": "execute_result"
    }
   ],
   "source": [
    "htmlize(abs)"
   ]
  },
  {
   "cell_type": "code",
   "execution_count": 10,
   "metadata": {},
   "outputs": [
    {
     "data": {
      "text/plain": [
       "'<p>Heimlich &amp; Co.<br>\\n- a game</p>'"
      ]
     },
     "execution_count": 10,
     "metadata": {},
     "output_type": "execute_result"
    }
   ],
   "source": [
    "htmlize('Heimlich & Co.\\n- a game')"
   ]
  },
  {
   "cell_type": "code",
   "execution_count": 12,
   "metadata": {},
   "outputs": [
    {
     "data": {
      "text/plain": [
       "'<pre>42 (0x2a)</pre>'"
      ]
     },
     "execution_count": 12,
     "metadata": {},
     "output_type": "execute_result"
    }
   ],
   "source": [
    "htmlize(42)"
   ]
  },
  {
   "cell_type": "code",
   "execution_count": 14,
   "metadata": {
    "tags": []
   },
   "outputs": [
    {
     "name": "stdout",
     "output_type": "stream",
     "text": [
      "<ul>\n",
      "<li><p>alpha</p></li>\n",
      "<li><pre>66 (0x42)</pre></li>\n",
      "<li><pre>{1, 2, 3}</pre></li>\n",
      "</ul>\n"
     ]
    }
   ],
   "source": [
    "print(htmlize(['alpha', 66, {3, 2, 1}]))"
   ]
  }
 ],
 "metadata": {
  "kernelspec": {
   "display_name": "Python 3.7.4 64-bit ('ProgramData': virtualenv)",
   "metadata": {
    "interpreter": {
     "hash": "b3ba2566441a7c06988d0923437866b63cedc61552a5af99d1f4fb67d367b25f"
    }
   },
   "name": "Python 3.7.4 64-bit ('ProgramData': virtualenv)"
  },
  "language_info": {
   "codemirror_mode": {
    "name": "ipython",
    "version": 3
   },
   "file_extension": ".py",
   "mimetype": "text/x-python",
   "name": "python",
   "nbconvert_exporter": "python",
   "pygments_lexer": "ipython3",
   "version": "3.7.4-final"
  },
  "orig_nbformat": 2
 },
 "nbformat": 4,
 "nbformat_minor": 2
}