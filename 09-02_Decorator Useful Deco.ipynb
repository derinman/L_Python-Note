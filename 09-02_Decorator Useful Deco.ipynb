{
 "cells": [
  {
   "cell_type": "code",
   "execution_count": 2,
   "source": [
    "#wraps\r\n",
    "from functools import wraps\r\n",
    "\r\n",
    "def bad_logged(func):\r\n",
    "    def with_logging(*args, **kwargs):\r\n",
    "        print(func.__name__ + \" was called\")\r\n",
    "        return func(*args, **kwargs)\r\n",
    "    return with_logging\r\n",
    "\r\n",
    "def good_logged(func):\r\n",
    "    @wraps(func)\r\n",
    "    def with_logging(*args, **kwargs):\r\n",
    "        print(func.__name__ + \" was called\")\r\n",
    "        return func(*args, **kwargs)\r\n",
    "    return with_logging\r\n",
    "\r\n",
    "@bad_logged\r\n",
    "def bad(x):\r\n",
    "    \"\"\"does some math\"\"\"\r\n",
    "    return x + x * x\r\n",
    "\r\n",
    "@good_logged\r\n",
    "def good(x):\r\n",
    "    \"\"\"does some math\"\"\"\r\n",
    "    return x + x * x\r\n",
    "\r\n",
    "bad.__name__  , bad.__doc__, good.__name__, good.__doc__"
   ],
   "outputs": [
    {
     "output_type": "execute_result",
     "data": {
      "text/plain": [
       "('with_logging', None, 'good', 'does some math')"
      ]
     },
     "metadata": {},
     "execution_count": 2
    }
   ],
   "metadata": {
    "tags": []
   }
  },
  {
   "cell_type": "code",
   "execution_count": 3,
   "source": [
    "#lru_cache\r\n",
    "#相較下面cell的程式碼，去除了重複呼叫的情況\r\n",
    "#此deco將結果暫存，效能提升了很多\r\n",
    "\r\n",
    "import functools\r\n",
    "\r\n",
    "from lib.clockdeco import clock\r\n",
    "\r\n",
    "@functools.lru_cache()\r\n",
    "@clock\r\n",
    "def fibonacci(n):\r\n",
    "    if n < 2:\r\n",
    "        return n\r\n",
    "    return fibonacci(n-2) + fibonacci(n-1)\r\n",
    "\r\n",
    "if __name__=='__main__':\r\n",
    "    print(fibonacci(6))"
   ],
   "outputs": [
    {
     "output_type": "stream",
     "name": "stdout",
     "text": [
      "[0.00000000s] fibonacci(0) -> 0\n",
      "[0.00000000s] fibonacci(1) -> 1\n",
      "[0.00000000s] fibonacci(2) -> 1\n",
      "[0.00000000s] fibonacci(3) -> 2\n",
      "[0.00000000s] fibonacci(4) -> 3\n",
      "[0.00000000s] fibonacci(5) -> 5\n",
      "[0.00099730s] fibonacci(6) -> 8\n",
      "8\n"
     ]
    }
   ],
   "metadata": {
    "tags": []
   }
  },
  {
   "cell_type": "code",
   "execution_count": 4,
   "source": [
    "#沒有lru_cache的情況\r\n",
    "from lib.clockdeco import clock\r\n",
    "\r\n",
    "@clock\r\n",
    "def fibonacci(n):\r\n",
    "    if n < 2:\r\n",
    "        return n\r\n",
    "    return fibonacci(n-2) + fibonacci(n-1)\r\n",
    "\r\n",
    "if __name__=='__main__':\r\n",
    "    print(fibonacci(6))"
   ],
   "outputs": [
    {
     "output_type": "stream",
     "name": "stdout",
     "text": [
      "[0.00000000s] fibonacci(0) -> 0\n",
      "[0.00000000s] fibonacci(1) -> 1\n",
      "[0.00000000s] fibonacci(2) -> 1\n",
      "[0.00000000s] fibonacci(1) -> 1\n",
      "[0.00000000s] fibonacci(0) -> 0\n",
      "[0.00000000s] fibonacci(1) -> 1\n",
      "[0.00000000s] fibonacci(2) -> 1\n",
      "[0.00000000s] fibonacci(3) -> 2\n",
      "[0.00000000s] fibonacci(4) -> 3\n",
      "[0.00000000s] fibonacci(1) -> 1\n",
      "[0.00000000s] fibonacci(0) -> 0\n",
      "[0.00000000s] fibonacci(1) -> 1\n",
      "[0.00098515s] fibonacci(2) -> 1\n",
      "[0.00098515s] fibonacci(3) -> 2\n",
      "[0.00000000s] fibonacci(0) -> 0\n",
      "[0.00000000s] fibonacci(1) -> 1\n",
      "[0.00000000s] fibonacci(2) -> 1\n",
      "[0.00000000s] fibonacci(1) -> 1\n",
      "[0.00000000s] fibonacci(0) -> 0\n",
      "[0.00000000s] fibonacci(1) -> 1\n",
      "[0.00000000s] fibonacci(2) -> 1\n",
      "[0.00000000s] fibonacci(3) -> 2\n",
      "[0.00000000s] fibonacci(4) -> 3\n",
      "[0.00098515s] fibonacci(5) -> 5\n",
      "[0.00098515s] fibonacci(6) -> 8\n",
      "8\n"
     ]
    }
   ],
   "metadata": {
    "tags": []
   }
  },
  {
   "cell_type": "code",
   "execution_count": 5,
   "source": [
    "import functools\r\n",
    "\r\n",
    "from lib.clockdeco import clock\r\n",
    "\r\n",
    "#可填入兩個參數\r\n",
    "# maxsize(緩存區大小)，typed(依據type區分)\r\n",
    "@functools.lru_cache(maxsize=1, typed=False)\r\n",
    "@clock\r\n",
    "def fibonacci(n):\r\n",
    "    if n < 2:\r\n",
    "        return n\r\n",
    "    return fibonacci(n-2) + fibonacci(n-1)\r\n",
    "\r\n",
    "if __name__=='__main__':\r\n",
    "    print(fibonacci(6))"
   ],
   "outputs": [
    {
     "output_type": "stream",
     "name": "stdout",
     "text": [
      "[0.00000000s] fibonacci(0) -> 0\n",
      "[0.00000000s] fibonacci(1) -> 1\n",
      "[0.00000000s] fibonacci(2) -> 1\n",
      "[0.00000000s] fibonacci(1) -> 1\n",
      "[0.00000000s] fibonacci(0) -> 0\n",
      "[0.00000000s] fibonacci(1) -> 1\n",
      "[0.00099826s] fibonacci(2) -> 1\n",
      "[0.00099826s] fibonacci(3) -> 2\n",
      "[0.00099826s] fibonacci(4) -> 3\n",
      "[0.00000000s] fibonacci(1) -> 1\n",
      "[0.00000000s] fibonacci(0) -> 0\n",
      "[0.00000000s] fibonacci(1) -> 1\n",
      "[0.00000000s] fibonacci(2) -> 1\n",
      "[0.00000000s] fibonacci(3) -> 2\n",
      "[0.00000000s] fibonacci(0) -> 0\n",
      "[0.00000000s] fibonacci(1) -> 1\n",
      "[0.00000000s] fibonacci(2) -> 1\n",
      "[0.00000000s] fibonacci(1) -> 1\n",
      "[0.00000000s] fibonacci(0) -> 0\n",
      "[0.00000000s] fibonacci(1) -> 1\n",
      "[0.00000000s] fibonacci(2) -> 1\n",
      "[0.00000000s] fibonacci(3) -> 2\n",
      "[0.00000000s] fibonacci(4) -> 3\n",
      "[0.00000000s] fibonacci(5) -> 5\n",
      "[0.00099826s] fibonacci(6) -> 8\n",
      "8\n"
     ]
    }
   ],
   "metadata": {
    "tags": []
   }
  },
  {
   "cell_type": "code",
   "execution_count": 6,
   "source": [
    "#singledispatch\n",
    "#根據不同的參數型態產生不同行為\n",
    "#相對於if else寫法，此寫法擴充容易\n",
    "\n",
    "from functools import singledispatch\n",
    "from collections import abc\n",
    "import numbers\n",
    "import html\n",
    "\n",
    "@singledispatch\n",
    "def htmlize(obj):\n",
    "    content = html.escape(repr(obj))\n",
    "    return '<pre>{}</pre>'.format(content)\n",
    "\n",
    "@htmlize.register(str)  \n",
    "def _(text):            \n",
    "    content = html.escape(text).replace('\\n', '<br>\\n')\n",
    "    return '<p>{0}</p>'.format(content)\n",
    "\n",
    "@htmlize.register(numbers.Integral) \n",
    "def _(n):\n",
    "    return '<pre>{0} (0x{0:x})</pre>'.format(n)\n",
    "\n",
    "@htmlize.register(tuple)  \n",
    "@htmlize.register(abc.MutableSequence)\n",
    "def _(seq):\n",
    "    inner = '</li>\\n<li>'.join(htmlize(item) for item in seq)\n",
    "    return '<ul>\\n<li>' + inner + '</li>\\n</ul>'"
   ],
   "outputs": [],
   "metadata": {}
  },
  {
   "cell_type": "code",
   "execution_count": 7,
   "source": [
    "htmlize({1, 2, 3})"
   ],
   "outputs": [
    {
     "output_type": "execute_result",
     "data": {
      "text/plain": [
       "'<pre>{1, 2, 3}</pre>'"
      ]
     },
     "metadata": {},
     "execution_count": 7
    }
   ],
   "metadata": {}
  },
  {
   "cell_type": "code",
   "execution_count": 7,
   "source": [
    "htmlize(abs)"
   ],
   "outputs": [
    {
     "output_type": "execute_result",
     "data": {
      "text/plain": [
       "'<pre>&lt;built-in function abs&gt;</pre>'"
      ]
     },
     "metadata": {},
     "execution_count": 7
    }
   ],
   "metadata": {}
  },
  {
   "cell_type": "code",
   "execution_count": 10,
   "source": [
    "htmlize('Heimlich & Co.\\n- a game')"
   ],
   "outputs": [
    {
     "output_type": "execute_result",
     "data": {
      "text/plain": [
       "'<p>Heimlich &amp; Co.<br>\\n- a game</p>'"
      ]
     },
     "metadata": {},
     "execution_count": 10
    }
   ],
   "metadata": {}
  },
  {
   "cell_type": "code",
   "execution_count": 12,
   "source": [
    "htmlize(42)"
   ],
   "outputs": [
    {
     "output_type": "execute_result",
     "data": {
      "text/plain": [
       "'<pre>42 (0x2a)</pre>'"
      ]
     },
     "metadata": {},
     "execution_count": 12
    }
   ],
   "metadata": {}
  },
  {
   "cell_type": "code",
   "execution_count": 14,
   "source": [
    "print(htmlize(['alpha', 66, {3, 2, 1}]))"
   ],
   "outputs": [
    {
     "output_type": "stream",
     "name": "stdout",
     "text": [
      "<ul>\n",
      "<li><p>alpha</p></li>\n",
      "<li><pre>66 (0x42)</pre></li>\n",
      "<li><pre>{1, 2, 3}</pre></li>\n",
      "</ul>\n"
     ]
    }
   ],
   "metadata": {
    "tags": []
   }
  }
 ],
 "metadata": {
  "kernelspec": {
   "display_name": "Python 3.7.4 64-bit ('ProgramData': virtualenv)",
   "metadata": {
    "interpreter": {
     "hash": "b3ba2566441a7c06988d0923437866b63cedc61552a5af99d1f4fb67d367b25f"
    }
   },
   "name": "Python 3.7.4 64-bit ('ProgramData': virtualenv)"
  },
  "language_info": {
   "codemirror_mode": {
    "name": "ipython",
    "version": 3
   },
   "file_extension": ".py",
   "mimetype": "text/x-python",
   "name": "python",
   "nbconvert_exporter": "python",
   "pygments_lexer": "ipython3",
   "version": "3.7.4-final"
  },
  "orig_nbformat": 2
 },
 "nbformat": 4,
 "nbformat_minor": 2
}