{
 "metadata": {
  "language_info": {
   "codemirror_mode": {
    "name": "ipython",
    "version": 3
   },
   "file_extension": ".py",
   "mimetype": "text/x-python",
   "name": "python",
   "nbconvert_exporter": "python",
   "pygments_lexer": "ipython3",
   "version": "3.7.4-final"
  },
  "orig_nbformat": 2,
  "kernelspec": {
   "name": "Python 3.7.4 64-bit ('base')",
   "display_name": "Python 3.7.4 64-bit ('base')",
   "metadata": {
    "interpreter": {
     "hash": "b3ba2566441a7c06988d0923437866b63cedc61552a5af99d1f4fb67d367b25f"
    }
   }
  }
 },
 "nbformat": 4,
 "nbformat_minor": 2,
 "cells": [
  {
   "cell_type": "code",
   "execution_count": 12,
   "metadata": {
    "tags": []
   },
   "outputs": [
    {
     "output_type": "execute_result",
     "data": {
      "text/plain": "('with_logging', None, 'good', 'does some math')"
     },
     "metadata": {},
     "execution_count": 12
    }
   ],
   "source": [
    "#wraps\n",
    "from functools import wraps\n",
    "\n",
    "def bad_logged(func):\n",
    "    def with_logging(*args, **kwargs):\n",
    "        print(func.__name__ + \" was called\")\n",
    "        return func(*args, **kwargs)\n",
    "    return with_logging\n",
    "\n",
    "def good_logged(func):\n",
    "    @wraps(func)\n",
    "    def with_logging(*args, **kwargs):\n",
    "        print(func.__name__ + \" was called\")\n",
    "        return func(*args, **kwargs)\n",
    "    return with_logging\n",
    "\n",
    "@bad_logged\n",
    "def bad(x):\n",
    "   \"\"\"does some math\"\"\"\n",
    "   return x + x * x\n",
    "\n",
    "@good_logged\n",
    "def good(x):\n",
    "   \"\"\"does some math\"\"\"\n",
    "   return x + x * x\n",
    "\n",
    "bad.__name__  , bad.__doc__, good.__name__, good.__doc__"
   ]
  },
  {
   "cell_type": "code",
   "execution_count": 20,
   "metadata": {
    "tags": []
   },
   "outputs": [
    {
     "output_type": "stream",
     "name": "stdout",
     "text": "[0.00000000s] fibonacci(0) -> 0\n[0.00000000s] fibonacci(1) -> 1\n[0.00054979s] fibonacci(2) -> 1\n[0.00000000s] fibonacci(3) -> 2\n[0.00054979s] fibonacci(4) -> 3\n[0.00000000s] fibonacci(5) -> 5\n[0.00054979s] fibonacci(6) -> 8\n8\n"
    }
   ],
   "source": [
    "#lru_cache\n",
    "#相較下面cell的程式碼，去除了重複呼叫的情況\n",
    "#此deco將結果暫存，效能提升了很多\n",
    "\n",
    "import functools\n",
    "\n",
    "from clockdeco import clock\n",
    "\n",
    "@functools.lru_cache()\n",
    "@clock\n",
    "def fibonacci(n):\n",
    "    if n < 2:\n",
    "        return n\n",
    "    return fibonacci(n-2) + fibonacci(n-1)\n",
    "\n",
    "if __name__=='__main__':\n",
    "    print(fibonacci(6))"
   ]
  },
  {
   "cell_type": "code",
   "execution_count": 21,
   "metadata": {
    "tags": []
   },
   "outputs": [
    {
     "output_type": "stream",
     "name": "stdout",
     "text": "[0.00000000s] fibonacci(0) -> 0\n[0.00000000s] fibonacci(1) -> 1\n[0.00021887s] fibonacci(2) -> 1\n[0.00000000s] fibonacci(1) -> 1\n[0.00000000s] fibonacci(0) -> 0\n[0.00000000s] fibonacci(1) -> 1\n[0.00000000s] fibonacci(2) -> 1\n[0.00000000s] fibonacci(3) -> 2\n[0.00021887s] fibonacci(4) -> 3\n[0.00000000s] fibonacci(1) -> 1\n[0.00000000s] fibonacci(0) -> 0\n[0.00000000s] fibonacci(1) -> 1\n[0.00000000s] fibonacci(2) -> 1\n[0.00000000s] fibonacci(3) -> 2\n[0.00000000s] fibonacci(0) -> 0\n[0.00000000s] fibonacci(1) -> 1\n[0.00000000s] fibonacci(2) -> 1\n[0.00000000s] fibonacci(1) -> 1\n[0.00000000s] fibonacci(0) -> 0\n[0.00000000s] fibonacci(1) -> 1\n[0.00000000s] fibonacci(2) -> 1\n[0.00000000s] fibonacci(3) -> 2\n[0.00000000s] fibonacci(4) -> 3\n[0.00094700s] fibonacci(5) -> 5\n[0.00199556s] fibonacci(6) -> 8\n8\n"
    }
   ],
   "source": [
    "#\n",
    "from clockdeco import clock\n",
    "\n",
    "@clock\n",
    "def fibonacci(n):\n",
    "    if n < 2:\n",
    "        return n\n",
    "    return fibonacci(n-2) + fibonacci(n-1)\n",
    "\n",
    "if __name__=='__main__':\n",
    "    print(fibonacci(6))"
   ]
  },
  {
   "cell_type": "code",
   "execution_count": null,
   "metadata": {},
   "outputs": [],
   "source": []
  }
 ]
}