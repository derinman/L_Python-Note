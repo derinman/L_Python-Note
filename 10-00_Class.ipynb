{
 "metadata": {
  "language_info": {
   "codemirror_mode": {
    "name": "ipython",
    "version": 3
   },
   "file_extension": ".py",
   "mimetype": "text/x-python",
   "name": "python",
   "nbconvert_exporter": "python",
   "pygments_lexer": "ipython3",
   "version": "3.7.4-final"
  },
  "orig_nbformat": 2,
  "kernelspec": {
   "name": "python3",
   "display_name": "Python 3"
  }
 },
 "nbformat": 4,
 "nbformat_minor": 2,
 "cells": [
  {
   "cell_type": "code",
   "execution_count": 1,
   "source": [
    "# __ 雙底線習慣念作 dunder"
   ],
   "outputs": [],
   "metadata": {}
  },
  {
   "cell_type": "code",
   "execution_count": 1,
   "source": [
    "#繼承 inherit\r\n",
    "class car():\r\n",
    "    def exclaim(self):\r\n",
    "        print(\"I'm a car\")\r\n",
    "class cat(car):\r\n",
    "    pass\r\n",
    "c =  cat()\r\n",
    "c.exclaim()"
   ],
   "outputs": [
    {
     "output_type": "stream",
     "name": "stdout",
     "text": [
      "I'm a car\n"
     ]
    }
   ],
   "metadata": {
    "tags": []
   }
  },
  {
   "cell_type": "code",
   "execution_count": 4,
   "source": [
    "isinstance(c,car),isinstance(c,cat),isinstance(c,str)"
   ],
   "outputs": [
    {
     "output_type": "execute_result",
     "data": {
      "text/plain": [
       "(True, True, False)"
      ]
     },
     "metadata": {},
     "execution_count": 4
    }
   ],
   "metadata": {}
  },
  {
   "cell_type": "code",
   "execution_count": 11,
   "source": [
    "#呼叫父系方法 super()\r\n",
    "#使用super的好處是: 如果以後person改變了，architect也可反映person的改變\r\n",
    "class person():\r\n",
    "    def __init__(self, name):\r\n",
    "        self.name = name\r\n",
    "class architect(person):\r\n",
    "    def __init__(self, name, company):\r\n",
    "       super().__init__(name)\r\n",
    "       self.company = company\r\n",
    "koolhaas = architect('koolhaas', 'oma')\r\n",
    "koolhaas.name, koolhaas.company"
   ],
   "outputs": [
    {
     "output_type": "execute_result",
     "data": {
      "text/plain": [
       "('koolhaas', 'oma')"
      ]
     },
     "metadata": {},
     "execution_count": 11
    }
   ],
   "metadata": {}
  },
  {
   "cell_type": "code",
   "execution_count": 13,
   "source": [
    "#property\r\n",
    "class dog():\r\n",
    "    def __init__(self, inputName):\r\n",
    "        self.hideName = inputName\r\n",
    "    def getName(self):\r\n",
    "        print(\"I'm getter, my dog is\", self.hideName)\r\n",
    "    def setName(self, inputName):\r\n",
    "        self.hideName = inputName\r\n",
    "    name = property(getName, setName)\r\n",
    "\r\n",
    "mydog = dog('dodo')\r\n",
    "mydog.name"
   ],
   "outputs": [
    {
     "output_type": "stream",
     "name": "stdout",
     "text": [
      "I'm getter, my dog is dodo\n"
     ]
    }
   ],
   "metadata": {
    "tags": []
   }
  },
  {
   "cell_type": "code",
   "execution_count": 1,
   "source": [
    "class dog():\r\n",
    "    def __init__(self, inputName):\r\n",
    "        self.hideName = inputName\r\n",
    "    def getName(self):\r\n",
    "        print(\"I'm getter, my dog is\", self.hideName)\r\n",
    "    def setName(self, inputName):\r\n",
    "        self.hideName = inputName\r\n",
    "    name = property(getName, setName)\r\n",
    "\r\n",
    "mydog = dog('dodo')\r\n",
    "mydog.name = 'hoho'\r\n",
    "mydog.name"
   ],
   "outputs": [
    {
     "output_type": "stream",
     "name": "stdout",
     "text": [
      "I'm getter, my dog is hoho\n"
     ]
    }
   ],
   "metadata": {
    "tags": []
   }
  },
  {
   "cell_type": "code",
   "execution_count": 11,
   "source": [
    "class dog():\r\n",
    "    def __init__(self, inputName):\r\n",
    "        self.hideName = inputName\r\n",
    "    @property\r\n",
    "    def name(self):#getter名稱注意\r\n",
    "        print(\"I'm getter, my dog is\", self.hideName)\r\n",
    "    @name.setter\r\n",
    "    def name(self, inputName):#setter名稱注意\r\n",
    "        self.hideName = inputName\r\n",
    "mydog = dog('chowchow')\r\n",
    "mydog.name"
   ],
   "outputs": [
    {
     "output_type": "stream",
     "name": "stdout",
     "text": [
      "I'm getter, my dog is chowchow\n"
     ]
    }
   ],
   "metadata": {
    "tags": []
   }
  },
  {
   "cell_type": "code",
   "execution_count": 13,
   "source": [
    "class dog():\r\n",
    "    def __init__(self, inputName):\r\n",
    "        self.hideName = inputName\r\n",
    "    @property\r\n",
    "    def name(self):#getter名稱注意\r\n",
    "        print(\"I'm getter, my dog is\", self.hideName)\r\n",
    "    @name.setter\r\n",
    "    def name(self, inputName):#setter名稱注意\r\n",
    "        self.hideName = inputName\r\n",
    "mydog = dog('chowchow')\r\n",
    "mydog.name = 'piepie'\r\n",
    "mydog.name"
   ],
   "outputs": [
    {
     "output_type": "stream",
     "name": "stdout",
     "text": [
      "I'm getter, my dog is piepie\n"
     ]
    }
   ],
   "metadata": {
    "tags": []
   }
  },
  {
   "cell_type": "code",
   "execution_count": 17,
   "source": [
    "class dog():\r\n",
    "    def __init__(self, inputName):\r\n",
    "        self.hideName = inputName\r\n",
    "    @property\r\n",
    "    def name(self):#getter名稱注意\r\n",
    "        print(\"I'm getter, my dog is\", self.hideName)\r\n",
    "    @name.setter\r\n",
    "    def name(self, inputName):#setter名稱注意\r\n",
    "        self.hideName = inputName\r\n",
    "mydog = dog('chowchow')\r\n",
    "mydog.hideName = 'piepie'#其實仍然可以直接改hideName\r\n",
    "mydog.name"
   ],
   "outputs": [
    {
     "output_type": "stream",
     "name": "stdout",
     "text": [
      "I'm getter, my dog is piepie\n"
     ]
    }
   ],
   "metadata": {
    "tags": []
   }
  },
  {
   "cell_type": "code",
   "execution_count": 25,
   "source": [
    "#私用名稱，無法直接改(其實還是可以只是比較難)，運用dunder\r\n",
    "class dog():\r\n",
    "    def __init__(self, inputName):\r\n",
    "        self.__hideName = inputName\r\n",
    "    @property\r\n",
    "    def name(self):#getter名稱注意\r\n",
    "        print(\"I'm getter, my dog is\", self.__hideName)\r\n",
    "    @name.setter\r\n",
    "    def name(self, inputName):#setter名稱注意\r\n",
    "        self.__hideName = inputName\r\n",
    "mydog = dog('chowchow')\r\n",
    "#mydog.__hideName = 'piepie'#無法存取"
   ],
   "outputs": [],
   "metadata": {
    "tags": []
   }
  },
  {
   "cell_type": "code",
   "execution_count": 44,
   "source": [
    "class A():\r\n",
    "    count = 0\r\n",
    "    def __init__(self):\r\n",
    "        A.count += 1\r\n",
    "    @classmethod\r\n",
    "    def childCount(cls):#class本身，非instance\r\n",
    "        pirnt('已經產生了',count,'個A') \r\n",
    "A1 = A()\r\n",
    "A2 = A()\r\n",
    "A3 = A()\r\n",
    "A4 = A()\r\n",
    "A2.count"
   ],
   "outputs": [
    {
     "output_type": "execute_result",
     "data": {
      "text/plain": [
       "4"
      ]
     },
     "metadata": {},
     "execution_count": 44
    }
   ],
   "metadata": {}
  },
  {
   "cell_type": "code",
   "execution_count": 5,
   "source": [
    " class Element():\r\n",
    "    def __init__(self, name, symbol, number):\r\n",
    "        self.name = name\r\n",
    "        self.symbol = symbol\r\n",
    "        self.number = number\r\n",
    "\r\n",
    "HDict = { 'name':'Hydrogen', 'symbol':'H', 'number':1 }\r\n",
    "H = Element(**HDict)\r\n",
    "H.name"
   ],
   "outputs": [
    {
     "output_type": "execute_result",
     "data": {
      "text/plain": [
       "'Hydrogen'"
      ]
     },
     "metadata": {},
     "execution_count": 5
    }
   ],
   "metadata": {}
  },
  {
   "cell_type": "code",
   "execution_count": 1,
   "source": [
    "#聚合aggregation \r\n",
    "#椅子跟桌子不適合繼承房間，因為椅子跟桌子是房間的一部分，而不是房間的一個特例\r\n",
    "class chair():\r\n",
    "    def __init__(self, material, price):\r\n",
    "        self.material = material\r\n",
    "        self.price = price\r\n",
    "class table():\r\n",
    "    def __init__(self, weight):\r\n",
    "        self.weight = weight\r\n",
    "class room():\r\n",
    "    def __init__(self, chair, table):\r\n",
    "        self.chair = chair\r\n",
    "        self.table = table\r\n",
    "goodChair = chair('wood',4300)\r\n",
    "goodTable = table(150)\r\n",
    "myRoom = room(goodChair, goodTable)\r\n",
    "myRoom.table.weight"
   ],
   "outputs": [
    {
     "output_type": "execute_result",
     "data": {
      "text/plain": [
       "150"
      ]
     },
     "metadata": {},
     "execution_count": 1
    }
   ],
   "metadata": {}
  },
  {
   "cell_type": "code",
   "execution_count": 6,
   "source": [
    "isinstance(234,int)"
   ],
   "outputs": [
    {
     "output_type": "execute_result",
     "data": {
      "text/plain": [
       "True"
      ]
     },
     "metadata": {},
     "execution_count": 6
    }
   ],
   "metadata": {}
  },
  {
   "cell_type": "code",
   "execution_count": 9,
   "source": [
    "isinstance(3.5,float)"
   ],
   "outputs": [
    {
     "output_type": "execute_result",
     "data": {
      "text/plain": [
       "True"
      ]
     },
     "metadata": {},
     "execution_count": 9
    }
   ],
   "metadata": {}
  }
 ]
}