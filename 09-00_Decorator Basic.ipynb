{
 "metadata": {
  "language_info": {
   "codemirror_mode": {
    "name": "ipython",
    "version": 3
   },
   "file_extension": ".py",
   "mimetype": "text/x-python",
   "name": "python",
   "nbconvert_exporter": "python",
   "pygments_lexer": "ipython3",
   "version": "3.7.4-final"
  },
  "orig_nbformat": 2,
  "kernelspec": {
   "name": "Python 3.7.4 64-bit ('base': conda)",
   "display_name": "Python 3.7.4 64-bit ('base': conda)",
   "metadata": {
    "interpreter": {
     "hash": "b3ba2566441a7c06988d0923437866b63cedc61552a5af99d1f4fb67d367b25f"
    }
   }
  }
 },
 "nbformat": 4,
 "nbformat_minor": 2,
 "cells": [
  {
   "cell_type": "code",
   "execution_count": 6,
   "source": [
    "def make_pretty(func):\r\n",
    "    def inner():\r\n",
    "        print(\"I got decorated\")\r\n",
    "        func()\r\n",
    "    return inner\r\n",
    "\r\n",
    "def ordinary():\r\n",
    "    print(\"I am ordinary\")\r\n",
    "\r\n",
    "new_func = make_pretty(ordinary)\r\n",
    "new_func()"
   ],
   "outputs": [
    {
     "output_type": "stream",
     "name": "stdout",
     "text": [
      "I got decorated\n",
      "I am ordinary\n"
     ]
    }
   ],
   "metadata": {
    "tags": []
   }
  },
  {
   "cell_type": "code",
   "execution_count": 8,
   "source": [
    "def make_pretty(func):\r\n",
    "    def inner():\r\n",
    "        print(\"I got decorated\")\r\n",
    "        func()\r\n",
    "    return inner\r\n",
    "\r\n",
    "@ make_pretty\r\n",
    "def ordinary():\r\n",
    "    print(\"I am ordinary\")\r\n",
    "\r\n",
    "ordinary()"
   ],
   "outputs": [
    {
     "output_type": "stream",
     "name": "stdout",
     "text": [
      "I got decorated\n",
      "I am ordinary\n"
     ]
    }
   ],
   "metadata": {
    "tags": []
   }
  },
  {
   "cell_type": "code",
   "execution_count": 11,
   "source": [
    "def make_pretty(func):\r\n",
    "    def inner():\r\n",
    "        print(\"I got decorated\")\r\n",
    "        func()\r\n",
    "    return inner\r\n",
    "\r\n",
    "def make_big(func):\r\n",
    "    def inner():\r\n",
    "        print(\"I'm big\")\r\n",
    "        func()\r\n",
    "    return inner\r\n",
    "\r\n",
    "@ make_big\r\n",
    "@ make_pretty\r\n",
    "def ordinary():\r\n",
    "    print(\"I am ordinary\")\r\n",
    "\r\n",
    "ordinary()"
   ],
   "outputs": [
    {
     "output_type": "stream",
     "name": "stdout",
     "text": [
      "I'm big\n",
      "I got decorated\n",
      "I am ordinary\n"
     ]
    }
   ],
   "metadata": {
    "tags": []
   }
  },
  {
   "cell_type": "code",
   "execution_count": 1,
   "source": [
    "def make_pretty(func):\r\n",
    "    def inner():\r\n",
    "        print(\"I got decorated\")\r\n",
    "        func()\r\n",
    "    return inner\r\n",
    "\r\n",
    "def make_big(func):\r\n",
    "    def inner():\r\n",
    "        print(\"I'm big\")\r\n",
    "        func()\r\n",
    "    return inner\r\n",
    "\r\n",
    "@ make_pretty\r\n",
    "@ make_big\r\n",
    "def ordinary():\r\n",
    "    print(\"I am ordinary\")\r\n",
    "\r\n",
    "ordinary()"
   ],
   "outputs": [
    {
     "output_type": "stream",
     "name": "stdout",
     "text": [
      "I got decorated\n",
      "I'm big\n",
      "I am ordinary\n"
     ]
    }
   ],
   "metadata": {
    "tags": []
   }
  },
  {
   "cell_type": "code",
   "execution_count": 1,
   "source": [
    "#修飾器是在被修飾的函式定義的時候就馬上執行!!\r\n",
    "registry = [] \r\n",
    "\r\n",
    "def register(func): \r\n",
    "    print('running register(%s)' % func)\r\n",
    "    registry.append(func)\r\n",
    "    return func\r\n",
    "\r\n",
    "@register\r\n",
    "def f1():\r\n",
    "    print('running f1()')\r\n",
    "\r\n",
    "@register\r\n",
    "def f2():\r\n",
    "    print('running f2()')\r\n",
    "\r\n",
    "def f3():  # <7>\r\n",
    "    print('running f3()')\r\n",
    "\r\n",
    "def main():  # <8>\r\n",
    "    print('running main()')\r\n",
    "    print('registry ->', registry)\r\n",
    "    f1()\r\n",
    "    f2()\r\n",
    "    f3()\r\n",
    "\r\n",
    "if __name__=='__main__':\r\n",
    "    main()"
   ],
   "outputs": [
    {
     "output_type": "stream",
     "name": "stdout",
     "text": [
      "running register(<function f1 at 0x0000018135FA5AF8>)\n",
      "running register(<function f2 at 0x0000018135FA5B88>)\n",
      "running main()\n",
      "registry -> [<function f1 at 0x0000018135FA5AF8>, <function f2 at 0x0000018135FA5B88>]\n",
      "running f1()\n",
      "running f2()\n",
      "running f3()\n"
     ]
    }
   ],
   "metadata": {
    "tags": []
   }
  },
  {
   "cell_type": "code",
   "execution_count": 4,
   "source": [
    "#當裝飾器具有參數\r\n",
    "\r\n",
    "registry = set()\r\n",
    "\r\n",
    "def register(active=True): \r\n",
    "    def decorate(func):  \r\n",
    "        print('running register(active=%s)->decorate(%s)'\r\n",
    "              % (active, func))\r\n",
    "        if active:   \r\n",
    "            registry.add(func)\r\n",
    "        else:\r\n",
    "            registry.discard(func) \r\n",
    "\r\n",
    "        return func  \r\n",
    "    return decorate  \r\n",
    "\r\n",
    "@register(active=False) \r\n",
    "def f1():\r\n",
    "    print('running f1()')\r\n",
    "\r\n",
    "@register() \r\n",
    "def f2():\r\n",
    "    print('running f2()')\r\n",
    "\r\n",
    "def f3():\r\n",
    "    print('running f3()')"
   ],
   "outputs": [
    {
     "output_type": "stream",
     "name": "stdout",
     "text": [
      "running register(active=False)->decorate(<function f1 at 0x00000181360033A8>)\n",
      "running register(active=True)->decorate(<function f2 at 0x0000018136003048>)\n"
     ]
    }
   ],
   "metadata": {
    "tags": []
   }
  },
  {
   "cell_type": "code",
   "execution_count": 6,
   "source": [
    "#只有f2被註冊\r\n",
    "registry"
   ],
   "outputs": [
    {
     "output_type": "execute_result",
     "data": {
      "text/plain": [
       "{<function __main__.f2()>}"
      ]
     },
     "metadata": {},
     "execution_count": 6
    }
   ],
   "metadata": {}
  }
 ]
}