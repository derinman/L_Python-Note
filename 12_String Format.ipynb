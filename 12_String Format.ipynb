{
 "metadata": {
  "language_info": {
   "codemirror_mode": {
    "name": "ipython",
    "version": 3
   },
   "file_extension": ".py",
   "mimetype": "text/x-python",
   "name": "python",
   "nbconvert_exporter": "python",
   "pygments_lexer": "ipython3",
   "version": "3.7.4-final"
  },
  "orig_nbformat": 2,
  "kernelspec": {
   "name": "Python 3.7.4 64-bit ('base': conda)",
   "display_name": "Python 3.7.4 64-bit ('base': conda)",
   "metadata": {
    "interpreter": {
     "hash": "b3ba2566441a7c06988d0923437866b63cedc61552a5af99d1f4fb67d367b25f"
    }
   }
  }
 },
 "nbformat": 4,
 "nbformat_minor": 2,
 "cells": [
  {
   "cell_type": "code",
   "execution_count": 9,
   "metadata": {},
   "outputs": [
    {
     "output_type": "execute_result",
     "data": {
      "text/plain": "('429.3inman', 'inman9.342')"
     },
     "metadata": {},
     "execution_count": 9
    }
   ],
   "source": [
    "n = 42\n",
    "f = 9.3\n",
    "s = 'inman'\n",
    "\n",
    "'{}{}{}'.format(n,f,s) , '{2}{1}{0}'.format(n,f,s) "
   ]
  },
  {
   "cell_type": "code",
   "execution_count": 11,
   "metadata": {},
   "outputs": [
    {
     "output_type": "execute_result",
     "data": {
      "text/plain": "'42 9.3 inman'"
     },
     "metadata": {},
     "execution_count": 11
    }
   ],
   "source": [
    "n = 42\n",
    "f = 9.3\n",
    "s = 'inman'\n",
    "\n",
    "'{} {} {}'.format(n,f,s)"
   ]
  },
  {
   "cell_type": "code",
   "execution_count": 8,
   "metadata": {},
   "outputs": [
    {
     "output_type": "execute_result",
     "data": {
      "text/plain": "'429.3inmanOther'"
     },
     "metadata": {},
     "execution_count": 8
    }
   ],
   "source": [
    "coolDict = {'n':42, 'f':9.3, 's':'inman' }\n",
    "'{0[n]}{0[f]}{0[s]}{1}'.format(coolDict,'Other')"
   ]
  },
  {
   "cell_type": "code",
   "execution_count": 18,
   "metadata": {},
   "outputs": [
    {
     "output_type": "execute_result",
     "data": {
      "text/plain": "'42 9.300000 inman'"
     },
     "metadata": {},
     "execution_count": 18
    }
   ],
   "source": [
    "n = 42\n",
    "f = 9.3\n",
    "s = 'inman'\n",
    "\n",
    "'{0:d} {1:f} {2:s}'.format(n,f,s)\n",
    "#index後面加上類型指定符"
   ]
  },
  {
   "cell_type": "code",
   "execution_count": 67,
   "metadata": {
    "tags": []
   },
   "outputs": [
    {
     "output_type": "stream",
     "name": "stdout",
     "text": "\n         42 9.300000 inman \n 42   9.300000 inman \n 42 9.300000 inman      \n\n"
    }
   ],
   "source": [
    "n = 42\n",
    "f = 9.3\n",
    "s = 'inman'\n",
    "\n",
    "a = '{0:10d} {1:f} {2:s}'.format(n,f,s)\n",
    "b = '{0:d} {1:10f} {2:s}'.format(n,f,s)\n",
    "c = '{0:d} {1:f} {2:10s}'.format(n,f,s)\n",
    "print('\\n',a,'\\n',b,'\\n',c,'\\n')"
   ]
  },
  {
   "cell_type": "code",
   "execution_count": 7,
   "metadata": {
    "tags": []
   },
   "outputs": [
    {
     "output_type": "stream",
     "name": "stdout",
     "text": [
      "\n |        42|  9.300000|inman     | \n |        42|  9.300000|     inman| \n |42        |9.300000  |inman     | \n |    42    | 9.300000 |  inman   | \n\n"
     ]
    }
   ],
   "source": [
    "n = 42\n",
    "f = 9.3\n",
    "s = 'inman'\n",
    "\n",
    "a = '|{0:10d}|{1:10f}|{2:10s}|'.format(n,f,s)\n",
    "b = '|{0:>10d}|{1:>10f}|{2:>10s}|'.format(n,f,s)#靠右對齊\n",
    "c = '|{0:<10d}|{1:<10f}|{2:<10s}|'.format(n,f,s)#靠左對其\n",
    "d = '|{0:^10d}|{1:^10f}|{2:^10s}|'.format(n,f,s)#置中\n",
    "\n",
    "print('\\n',a,'\\n',b,'\\n',c,'\\n',d,'\\n')"
   ]
  },
  {
   "cell_type": "code",
   "execution_count": 76,
   "metadata": {
    "tags": []
   },
   "outputs": [
    {
     "output_type": "stream",
     "name": "stdout",
     "text": "\n         42   9.300000      inman \n       7434  18.460000        oka \n\n"
    }
   ],
   "source": [
    "n = 42\n",
    "f = 9.3\n",
    "s = 'inman'\n",
    "n2 = 7434\n",
    "f2 = 18.46\n",
    "s2 = 'oka'\n",
    "\n",
    "a = '{0:>10d} {1:>10f} {2:>10s}'.format(n,f,s)\n",
    "b = '{0:>10d} {1:>10f} {2:>10s}'.format(n2,f2,s2)\n",
    "\n",
    "print('\\n',a,'\\n',b,'\\n')"
   ]
  },
  {
   "cell_type": "code",
   "execution_count": 1,
   "metadata": {
    "tags": []
   },
   "outputs": [
    {
     "output_type": "stream",
     "name": "stdout",
     "text": [
      "\n         42       9.30         in \n       7434      18.46         ok \n\n"
     ]
    }
   ],
   "source": [
    "n = 42\n",
    "f = 9.3\n",
    "s = 'inman'\n",
    "n2 = 7434\n",
    "f2 = 18.46\n",
    "s2 = 'oka'\n",
    "\n",
    "a = '{0:>10d} {1:>10.2f} {2:>10.2s}'.format(n,f,s)\n",
    "b = '{0:>10d} {1:>10.2f} {2:>10.2s}'.format(n2,f2,s2)\n",
    "\n",
    "print('\\n',a,'\\n',b,'\\n')"
   ]
  },
  {
   "cell_type": "code",
   "execution_count": 9,
   "metadata": {},
   "outputs": [
    {
     "output_type": "execute_result",
     "data": {
      "text/plain": [
       "('1000', '11')"
      ]
     },
     "metadata": {},
     "execution_count": 9
    }
   ],
   "source": [
    "#int型態提供 b表示2進位; x表示16進位\n",
    "format(8,'b'),format(17,'x')"
   ]
  },
  {
   "cell_type": "code",
   "execution_count": null,
   "metadata": {},
   "outputs": [],
   "source": []
  }
 ]
}