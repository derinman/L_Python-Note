{
 "metadata": {
  "language_info": {
   "codemirror_mode": {
    "name": "ipython",
    "version": 3
   },
   "file_extension": ".py",
   "mimetype": "text/x-python",
   "name": "python",
   "nbconvert_exporter": "python",
   "pygments_lexer": "ipython3",
   "version": 3
  },
  "orig_nbformat": 2,
  "kernelspec": {
   "name": "python_defaultSpec_1597244539242",
   "display_name": "Python 3.7.4 64-bit ('base': conda)"
  }
 },
 "nbformat": 4,
 "nbformat_minor": 2,
 "cells": [
  {
   "cell_type": "code",
   "execution_count": 3,
   "metadata": {
    "tags": []
   },
   "outputs": [
    {
     "output_type": "stream",
     "name": "stdout",
     "text": "['a']\n['a', 'b']\n"
    }
   ],
   "source": [
    "#錯誤示範: 預設值使用可變的資料類型\n",
    "def buggy (x, result = []):\n",
    "    result.append(x)\n",
    "    print(result)\n",
    "buggy('a')\n",
    "buggy('b')#錯了"
   ]
  },
  {
   "cell_type": "code",
   "execution_count": 6,
   "metadata": {
    "tags": []
   },
   "outputs": [
    {
     "output_type": "stream",
     "name": "stdout",
     "text": "['a']\n['b']\n"
    }
   ],
   "source": [
    "#正確示範1\n",
    "#錯誤示範: 預設值使用可變的資料類型\n",
    "def okman (x):\n",
    "    result = []\n",
    "    result.append(x)\n",
    "    print(result)\n",
    "okman('a')\n",
    "okman('b')#對了"
   ]
  },
  {
   "cell_type": "code",
   "execution_count": 9,
   "metadata": {
    "tags": []
   },
   "outputs": [
    {
     "output_type": "stream",
     "name": "stdout",
     "text": "['a']\n['b']\n"
    }
   ],
   "source": [
    "#正確示範2\n",
    "def perfectman (x, result = None):\n",
    "    if result is None:\n",
    "        result = []\n",
    "    result.append(x)\n",
    "    print(result)\n",
    "perfectman('a')\n",
    "perfectman('b')#更好"
   ]
  },
  {
   "cell_type": "code",
   "execution_count": null,
   "metadata": {},
   "outputs": [],
   "source": []
  }
 ]
}