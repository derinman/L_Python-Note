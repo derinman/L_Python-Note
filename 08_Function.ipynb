{
 "metadata": {
  "language_info": {
   "codemirror_mode": {
    "name": "ipython",
    "version": 3
   },
   "file_extension": ".py",
   "mimetype": "text/x-python",
   "name": "python",
   "nbconvert_exporter": "python",
   "pygments_lexer": "ipython3",
   "version": "3.7.4-final"
  },
  "orig_nbformat": 2,
  "kernelspec": {
   "name": "python3",
   "display_name": "Python 3"
  }
 },
 "nbformat": 4,
 "nbformat_minor": 2,
 "cells": [
  {
   "cell_type": "code",
   "execution_count": 3,
   "metadata": {
    "tags": []
   },
   "outputs": [
    {
     "output_type": "stream",
     "name": "stdout",
     "text": "['a']\n['a', 'b']\n"
    }
   ],
   "source": [
    "#錯誤示範: 預設值使用可變的資料類型\n",
    "def buggy (x, result = []):\n",
    "    result.append(x)\n",
    "    print(result)\n",
    "buggy('a')\n",
    "buggy('b')#錯了"
   ]
  },
  {
   "cell_type": "code",
   "execution_count": 6,
   "metadata": {
    "tags": []
   },
   "outputs": [
    {
     "output_type": "stream",
     "name": "stdout",
     "text": "['a']\n['b']\n"
    }
   ],
   "source": [
    "#正確示範1\n",
    "#錯誤示範: 預設值使用可變的資料類型\n",
    "def okman (x):\n",
    "    result = []\n",
    "    result.append(x)\n",
    "    print(result)\n",
    "okman('a')\n",
    "okman('b')#對了"
   ]
  },
  {
   "cell_type": "code",
   "execution_count": 9,
   "metadata": {
    "tags": []
   },
   "outputs": [
    {
     "output_type": "stream",
     "name": "stdout",
     "text": "['a']\n['b']\n"
    }
   ],
   "source": [
    "#正確示範2\n",
    "def perfectman (x, result = None):\n",
    "    if result is None:\n",
    "        result = []\n",
    "    result.append(x)\n",
    "    print(result)\n",
    "perfectman('a')\n",
    "perfectman('b')#更好"
   ]
  },
  {
   "cell_type": "code",
   "execution_count": 5,
   "metadata": {
    "tags": []
   },
   "outputs": [
    {
     "output_type": "stream",
     "name": "stdout",
     "text": "('a', 'b', 'c')\n"
    }
   ],
   "source": [
    "def print_args (*args):\n",
    "    print(args)\n",
    "print_args('a','b','c')"
   ]
  },
  {
   "cell_type": "code",
   "execution_count": 12,
   "metadata": {
    "tags": []
   },
   "outputs": [
    {
     "output_type": "stream",
     "name": "stdout",
     "text": "{'a': 'apple', 'b': 'banana'}\n"
    }
   ],
   "source": [
    "def print_kwargs(**kwargs):\n",
    "    print(kwargs)\n",
    "print_kwargs( a = 'apple', b = 'banana')"
   ]
  },
  {
   "cell_type": "code",
   "execution_count": 6,
   "metadata": {},
   "outputs": [
    {
     "output_type": "execute_result",
     "data": {
      "text/plain": "10"
     },
     "metadata": {},
     "execution_count": 6
    }
   ],
   "source": [
    "def runWithArgs (func, *args):\n",
    "    return func(args)\n",
    "runWithArgs(sum, 1, 4, 5)"
   ]
  },
  {
   "cell_type": "code",
   "execution_count": 9,
   "metadata": {},
   "outputs": [
    {
     "output_type": "execute_result",
     "data": {
      "text/plain": "7"
     },
     "metadata": {},
     "execution_count": 9
    }
   ],
   "source": [
    "def outer(a, b):\n",
    "    def inner(c, d):\n",
    "        return c + d\n",
    "    return inner(a, b)\n",
    "outer(2, 5)"
   ]
  },
  {
   "cell_type": "code",
   "execution_count": 19,
   "metadata": {
    "tags": []
   },
   "outputs": [
    {
     "output_type": "execute_result",
     "data": {
      "text/plain": "(<function __main__.myFunc.<locals>.myInner()>,\n <function __main__.myFunc.<locals>.myInner()>)"
     },
     "metadata": {},
     "execution_count": 19
    }
   ],
   "source": [
    "#Closure\n",
    "def myFunc ( arg ):\n",
    "    def myInner():\n",
    "        return ('釋放你的', arg)\n",
    "    return myInner\n",
    "a = myFunc('power')\n",
    "b = myFunc('mother')\n",
    "a , b #記得自己來自哪裡的closure"
   ]
  },
  {
   "cell_type": "code",
   "execution_count": 21,
   "metadata": {
    "tags": []
   },
   "outputs": [
    {
     "output_type": "execute_result",
     "data": {
      "text/plain": "(('釋放你的', 'power'), ('釋放你的', 'mother'))"
     },
     "metadata": {},
     "execution_count": 21
    }
   ],
   "source": [
    "def myFunc ( arg ):\n",
    "    def myInner():\n",
    "        return ('釋放你的', arg)\n",
    "    return myInner\n",
    "a = myFunc('power')\n",
    "b = myFunc('mother')\n",
    "a(), b()"
   ]
  },
  {
   "cell_type": "code",
   "execution_count": 7,
   "metadata": {
    "tags": []
   },
   "outputs": [
    {
     "output_type": "stream",
     "name": "stdout",
     "text": "locals {'animal': 'dog'}\n"
    },
    {
     "output_type": "execute_result",
     "data": {
      "text/plain": "{'__name__': '__main__',\n '__doc__': 'Automatically created module for IPython interactive environment',\n '__package__': None,\n '__loader__': None,\n '__spec__': None,\n '__builtin__': <module 'builtins' (built-in)>,\n '__builtins__': <module 'builtins' (built-in)>,\n '_ih': ['',\n  \"animal = 'cat'\",\n  \"animal = 'cat'\\ndef changeLocal():\\n    animal = 'dog'\\n    print('locals': local())\",\n  \"animal = 'cat'\\ndef changeLocal():\\n    animal = 'dog'\\n    print('locals', local())\",\n  \"animal = 'cat'\\ndef changeLocal():\\n    animal = 'dog'\\n    print('locals', local())\\nchangeLocal()\",\n  \"animal = 'cat'\\ndef changeLocal():\\n    animal = 'dog'\\n    print('locals', locals())\\nchangeLocal()\",\n  \"animal = 'cat'\\ndef changeLocal():\\n    animal = 'dog'\\n    print('locals', locals())\\nchangeLocal()\\nglobals()\",\n  \"animal = 'cat'\\ndef changeLocal():\\n    animal = 'dog'\\n    print('locals', locals())\\nchangeLocal()\\nglobals()\"],\n '_oh': {6: {...}},\n '_dh': ['C:\\\\Users\\\\User\\\\AppData\\\\Local\\\\Programs\\\\Microsoft VS Code',\n  'c:\\\\Users\\\\User\\\\L_Python-Note'],\n 'In': ['',\n  \"animal = 'cat'\",\n  \"animal = 'cat'\\ndef changeLocal():\\n    animal = 'dog'\\n    print('locals': local())\",\n  \"animal = 'cat'\\ndef changeLocal():\\n    animal = 'dog'\\n    print('locals', local())\",\n  \"animal = 'cat'\\ndef changeLocal():\\n    animal = 'dog'\\n    print('locals', local())\\nchangeLocal()\",\n  \"animal = 'cat'\\ndef changeLocal():\\n    animal = 'dog'\\n    print('locals', locals())\\nchangeLocal()\",\n  \"animal = 'cat'\\ndef changeLocal():\\n    animal = 'dog'\\n    print('locals', locals())\\nchangeLocal()\\nglobals()\",\n  \"animal = 'cat'\\ndef changeLocal():\\n    animal = 'dog'\\n    print('locals', locals())\\nchangeLocal()\\nglobals()\"],\n 'Out': {6: {...}},\n 'get_ipython': <bound method InteractiveShell.get_ipython of <ipykernel.zmqshell.ZMQInteractiveShell object at 0x000001A7A5888088>>,\n 'exit': <IPython.core.autocall.ZMQExitAutocall at 0x1a7a6c21d08>,\n 'quit': <IPython.core.autocall.ZMQExitAutocall at 0x1a7a6c21d08>,\n '_': {...},\n '__': '',\n '___': '',\n 'os': <module 'os' from 'C:\\\\ProgramData\\\\Anaconda3\\\\lib\\\\os.py'>,\n 'sys': <module 'sys' (built-in)>,\n '_i': \"animal = 'cat'\\ndef changeLocal():\\n    animal = 'dog'\\n    print('locals', locals())\\nchangeLocal()\\nglobals()\",\n '_ii': \"animal = 'cat'\\ndef changeLocal():\\n    animal = 'dog'\\n    print('locals', locals())\\nchangeLocal()\",\n '_iii': \"animal = 'cat'\\ndef changeLocal():\\n    animal = 'dog'\\n    print('locals', local())\\nchangeLocal()\",\n '_i1': \"animal = 'cat'\",\n 'animal': 'cat',\n '_i2': \"animal = 'cat'\\ndef changeLocal():\\n    animal = 'dog'\\n    print('locals': local())\",\n '_i3': \"animal = 'cat'\\ndef changeLocal():\\n    animal = 'dog'\\n    print('locals', local())\",\n 'changeLocal': <function __main__.changeLocal()>,\n '_i4': \"animal = 'cat'\\ndef changeLocal():\\n    animal = 'dog'\\n    print('locals', local())\\nchangeLocal()\",\n '_i5': \"animal = 'cat'\\ndef changeLocal():\\n    animal = 'dog'\\n    print('locals', locals())\\nchangeLocal()\",\n '_i6': \"animal = 'cat'\\ndef changeLocal():\\n    animal = 'dog'\\n    print('locals', locals())\\nchangeLocal()\\nglobals()\",\n '_6': {...},\n '_i7': \"animal = 'cat'\\ndef changeLocal():\\n    animal = 'dog'\\n    print('locals', locals())\\nchangeLocal()\\nglobals()\"}"
     },
     "metadata": {},
     "execution_count": 7
    }
   ],
   "source": [
    "animal = 'cat'\n",
    "def changeLocal():\n",
    "    animal = 'dog'\n",
    "    print('locals', locals())\n",
    "changeLocal()\n",
    "globals()"
   ]
  },
  {
   "cell_type": "code",
   "execution_count": 1,
   "metadata": {},
   "outputs": [],
   "source": [
    "#高階函式(Higher-order function)\n",
    "#如果一個函式會將另一個函式當作引數\n",
    "#或是將函式當作結果回傳，那就是高階函式"
   ]
  },
  {
   "cell_type": "code",
   "execution_count": 5,
   "metadata": {},
   "outputs": [
    {
     "output_type": "execute_result",
     "data": {
      "text/plain": "(['apple', 'banana', 'orange', 'pear'], ['pear', 'apple', 'banana', 'orange'])"
     },
     "metadata": {},
     "execution_count": 5
    }
   ],
   "source": [
    "fruit = ['banana', 'apple', 'orange', 'pear']\n",
    "sorted(fruit), sorted(fruit, key=len)"
   ]
  },
  {
   "cell_type": "code",
   "execution_count": 6,
   "metadata": {},
   "outputs": [],
   "source": [
    "#著名的高階函式有 map filter reduce apply\n",
    "#apply已被棄用\n",
    "#map filter reduce已有其他替代物，像是comprehension"
   ]
  },
  {
   "cell_type": "code",
   "execution_count": 9,
   "metadata": {},
   "outputs": [
    {
     "output_type": "execute_result",
     "data": {
      "text/plain": "(['apple', 'banana', 'orange', 'pear'], ['banana', 'pear', 'apple', 'orange'])"
     },
     "metadata": {},
     "execution_count": 9
    }
   ],
   "source": [
    "#lambda\n",
    "#使用lambda的最佳時機是在使用串列引數的時候\n",
    "fruit = ['banana', 'apple', 'orange', 'pear']\n",
    "sorted(fruit), sorted(fruit, key= lambda x : x[1])\n",
    "#可以少定義一個slice函式"
   ]
  },
  {
   "cell_type": "code",
   "execution_count": 11,
   "metadata": {},
   "outputs": [
    {
     "output_type": "execute_result",
     "data": {
      "text/plain": "[True, True, False]"
     },
     "metadata": {},
     "execution_count": 11
    }
   ],
   "source": [
    "#判斷一個物件可不可以呼叫，使用callable()\n",
    "[callable(obj) for obj in [abs, str, 13]]"
   ]
  },
  {
   "cell_type": "code",
   "execution_count": null,
   "metadata": {},
   "outputs": [],
   "source": []
  }
 ]
}