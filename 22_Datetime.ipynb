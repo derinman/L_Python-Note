{
 "metadata": {
  "language_info": {
   "codemirror_mode": {
    "name": "ipython",
    "version": 3
   },
   "file_extension": ".py",
   "mimetype": "text/x-python",
   "name": "python",
   "nbconvert_exporter": "python",
   "pygments_lexer": "ipython3",
   "version": "3.7.4-final"
  },
  "orig_nbformat": 2,
  "kernelspec": {
   "name": "python3",
   "display_name": "Python 3.7.4 64-bit (conda)",
   "metadata": {
    "interpreter": {
     "hash": "b3ba2566441a7c06988d0923437866b63cedc61552a5af99d1f4fb67d367b25f"
    }
   }
  }
 },
 "nbformat": 4,
 "nbformat_minor": 2,
 "cells": [
  {
   "cell_type": "code",
   "execution_count": 68,
   "metadata": {},
   "outputs": [],
   "source": [
    "#datetime模組\n",
    "#datetime.datetime, datetime.date, datetime.time: 特定時間點\n",
    "#datetime.timedelta:  時間區間(可加減)"
   ]
  },
  {
   "cell_type": "code",
   "execution_count": 1,
   "metadata": {},
   "outputs": [],
   "source": [
    "import datetime"
   ]
  },
  {
   "cell_type": "code",
   "execution_count": 3,
   "metadata": {},
   "outputs": [
    {
     "output_type": "stream",
     "name": "stdout",
     "text": [
      "All: 2021-02-20 11:38:24.247628\nYear: 2021\nMonth: 2\nDay: 20\nWeekday: 5\nTime: 11:38:24.247628\n"
     ]
    }
   ],
   "source": [
    "print('All:', datetime.datetime.now())\n",
    "print('Year:', datetime.datetime.now().year)\n",
    "print('Month:', datetime.datetime.now().month)\n",
    "print('Day:', datetime.datetime.now().day)\n",
    "print('Weekday:', datetime.datetime.now().weekday())\n",
    "print('Time:', datetime.datetime.now().time())"
   ]
  },
  {
   "cell_type": "code",
   "execution_count": 4,
   "metadata": {},
   "outputs": [
    {
     "output_type": "stream",
     "name": "stdout",
     "text": [
      "Today: 2021-02-20 11:38:25.904702\nYesterday: 2021-02-19 11:38:25.904702\n"
     ]
    }
   ],
   "source": [
    "print('Today:', datetime.datetime.now())\n",
    "print('Yesterday:', datetime.datetime.now() - datetime.timedelta(days=1))"
   ]
  },
  {
   "cell_type": "code",
   "execution_count": 6,
   "metadata": {},
   "outputs": [
    {
     "output_type": "stream",
     "name": "stdout",
     "text": [
      "Date: 2021/02/19\n"
     ]
    }
   ],
   "source": [
    "# Format\n",
    "print('Date:', (datetime.datetime.now() - datetime.timedelta(days=1)).strftime('%Y/%m/%d'))"
   ]
  },
  {
   "cell_type": "code",
   "execution_count": 70,
   "metadata": {},
   "outputs": [
    {
     "output_type": "execute_result",
     "data": {
      "text/plain": [
       "(datetime.date(2020, 10, 31), 31, 10, 2020)"
      ]
     },
     "metadata": {},
     "execution_count": 70
    }
   ],
   "source": [
    "halloween = datetime.date(2020, 10 , 31)\n",
    "halloween, halloween.day, halloween.month, halloween.year"
   ]
  },
  {
   "cell_type": "code",
   "execution_count": 71,
   "metadata": {},
   "outputs": [
    {
     "output_type": "execute_result",
     "data": {
      "text/plain": [
       "datetime.date(1992, 12, 31)"
      ]
     },
     "metadata": {},
     "execution_count": 71
    }
   ],
   "source": [
    "myBirth = datetime.date(1992, 12, 31)\n",
    "myBirth"
   ]
  },
  {
   "cell_type": "code",
   "execution_count": 72,
   "metadata": {},
   "outputs": [
    {
     "output_type": "execute_result",
     "data": {
      "text/plain": [
       "3"
      ]
     },
     "metadata": {},
     "execution_count": 72
    }
   ],
   "source": [
    "#星期幾出生\n",
    "myBirth.weekday()"
   ]
  },
  {
   "cell_type": "code",
   "execution_count": 75,
   "metadata": {},
   "outputs": [
    {
     "output_type": "execute_result",
     "data": {
      "text/plain": [
       "datetime.date(2021, 2, 20)"
      ]
     },
     "metadata": {},
     "execution_count": 75
    }
   ],
   "source": [
    "today = datetime.date.today()\n",
    "today"
   ]
  },
  {
   "cell_type": "code",
   "execution_count": 73,
   "metadata": {},
   "outputs": [
    {
     "output_type": "execute_result",
     "data": {
      "text/plain": [
       "datetime.timedelta(days=10278)"
      ]
     },
     "metadata": {},
     "execution_count": 73
    }
   ],
   "source": [
    "#目前活了幾天\n",
    "datetime.date.today() - myBirth"
   ]
  },
  {
   "cell_type": "code",
   "execution_count": 74,
   "metadata": {},
   "outputs": [
    {
     "output_type": "execute_result",
     "data": {
      "text/plain": [
       "'2020-10-31'"
      ]
     },
     "metadata": {},
     "execution_count": 74
    }
   ],
   "source": [
    "#iso 代表  iso8601\n",
    "halloween.isoformat()"
   ]
  },
  {
   "cell_type": "code",
   "execution_count": 76,
   "metadata": {},
   "outputs": [
    {
     "output_type": "execute_result",
     "data": {
      "text/plain": [
       "datetime.date(2021, 2, 21)"
      ]
     },
     "metadata": {},
     "execution_count": 76
    }
   ],
   "source": [
    "oneDay = datetime.timedelta(days = 1)\n",
    "tomorrow = today + oneDay\n",
    "tomorrow"
   ]
  },
  {
   "cell_type": "code",
   "execution_count": 77,
   "metadata": {},
   "outputs": [
    {
     "output_type": "execute_result",
     "data": {
      "text/plain": [
       "datetime.date(2034, 10, 30)"
      ]
     },
     "metadata": {},
     "execution_count": 77
    }
   ],
   "source": [
    "someDayInFuture = today + oneDay * 5000\n",
    "someDayInFuture"
   ]
  },
  {
   "cell_type": "code",
   "execution_count": 78,
   "metadata": {},
   "outputs": [
    {
     "output_type": "execute_result",
     "data": {
      "text/plain": [
       "(datetime.date(1, 1, 1), datetime.date(9999, 12, 31))"
      ]
     },
     "metadata": {},
     "execution_count": 78
    }
   ],
   "source": [
    "datetime.date.min, datetime.date.max"
   ]
  },
  {
   "cell_type": "code",
   "execution_count": 79,
   "metadata": {},
   "outputs": [
    {
     "output_type": "execute_result",
     "data": {
      "text/plain": [
       "datetime.time(12, 0)"
      ]
     },
     "metadata": {},
     "execution_count": 79
    }
   ],
   "source": [
    "noon = datetime.time(12, 0 , 0)\n",
    "noon"
   ]
  },
  {
   "cell_type": "code",
   "execution_count": 80,
   "metadata": {},
   "outputs": [
    {
     "output_type": "execute_result",
     "data": {
      "text/plain": [
       "(12, 0, 0)"
      ]
     },
     "metadata": {},
     "execution_count": 80
    }
   ],
   "source": [
    "noon.hour, noon.minute, noon.second"
   ]
  },
  {
   "cell_type": "code",
   "execution_count": 81,
   "metadata": {},
   "outputs": [
    {
     "output_type": "execute_result",
     "data": {
      "text/plain": [
       "datetime.datetime(2008, 1, 2, 3, 4, 5, 6)"
      ]
     },
     "metadata": {},
     "execution_count": 81
    }
   ],
   "source": [
    "oneDay = datetime.datetime(2008, 1, 2, 3, 4, 5, 6)\n",
    "oneDay"
   ]
  },
  {
   "cell_type": "code",
   "execution_count": 82,
   "metadata": {},
   "outputs": [
    {
     "output_type": "execute_result",
     "data": {
      "text/plain": [
       "'2008-01-02T03:04:05.000006'"
      ]
     },
     "metadata": {},
     "execution_count": 82
    }
   ],
   "source": [
    "oneDay.isoformat()"
   ]
  }
 ]
}