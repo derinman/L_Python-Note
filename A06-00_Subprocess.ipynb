{
 "cells": [
  {
   "cell_type": "code",
   "execution_count": null,
   "metadata": {},
   "outputs": [],
   "source": [
    "# doc/Python 呼叫其他程式. 今天在寫一隻要用在 coursera 某個課程作業的 auto testing… _ by 李松錡 _ Medium.pdf"
   ]
  },
  {
   "cell_type": "code",
   "execution_count": null,
   "metadata": {},
   "outputs": [],
   "source": [
    "# 大致上可以理解為 Popen 這個方法是比較低階的操作\n",
    "# 而 run, 是基於 Popen 上面再包一層比較抽象的高階方法\n",
    "# 此外大家也比較常用的可能還有這個，基於 run 上再包一層更高階的 check_output"
   ]
  },
  {
   "cell_type": "code",
   "execution_count": 7,
   "metadata": {},
   "outputs": [
    {
     "data": {
      "text/plain": [
       "<Popen: returncode: None args: ['date', '-R']>"
      ]
     },
     "execution_count": 7,
     "metadata": {},
     "output_type": "execute_result"
    },
    {
     "name": "stdout",
     "output_type": "stream",
     "text": [
      "Sat, 08 Apr 2023 15:22:45 +0800\n"
     ]
    }
   ],
   "source": [
    "from subprocess import Popen\n",
    "\n",
    "Popen(['date', '-R'])"
   ]
  },
  {
   "cell_type": "code",
   "execution_count": 6,
   "metadata": {},
   "outputs": [
    {
     "name": "stdout",
     "output_type": "stream",
     "text": [
      "(b'Sat, 08 Apr 2023 15:22:21 +0800\\n', None)\n"
     ]
    }
   ],
   "source": [
    "from subprocess import Popen, PIPE\n",
    "from pprint import pprint\n",
    "\n",
    "p = Popen(['date', '-R'], stdout=PIPE)\n",
    "out = p.communicate()\n",
    "\n",
    "pprint(out)\n",
    "# 我們可以看到指定了 stdout 以後，會把本來輸出到 shell 的 stdout 和 stderr 組成一個新的 tuple return 回來\n",
    "# 其第一個元素是以型態為 bytes 的 stdout，第二個元素則是 stderr"
   ]
  },
  {
   "cell_type": "code",
   "execution_count": 2,
   "metadata": {},
   "outputs": [],
   "source": [
    "from subprocess import run\n",
    "\n",
    "# run 其實就是把 Popen 包起來用的一個方法\n",
    "\n",
    "with open('output_from_subprocess.txt', 'w') as f:\n",
    "    run(['date', '-R'], stdout= f)\n",
    "# 可以看到輸出結果會直接被存成檔案"
   ]
  },
  {
   "cell_type": "code",
   "execution_count": 9,
   "metadata": {},
   "outputs": [
    {
     "name": "stdout",
     "output_type": "stream",
     "text": [
      "CompletedProcess(args=['date', '-R'], returncode=0, stdout=b'Sat, 08 Apr 2023 18:26:52 +0800\\n')\n",
      "<class 'bytes'>\n",
      "b'Sat, 08 Apr 2023 18:26:52 +0800\\n'\n",
      "'Sat, 08 Apr 2023 18:26:52 +0800\\n'\n"
     ]
    }
   ],
   "source": [
    "from subprocess import run, PIPE\n",
    "from pprint import pprint\n",
    "\n",
    "out = run(['date', '-R'], stdout=PIPE)\n",
    "pprint(out)\n",
    "pprint(type(out.stdout))\n",
    "pprint(out.stdout)\n",
    "pprint(out.stdout.decode(encoding = \"utf-8\"))"
   ]
  },
  {
   "cell_type": "code",
   "execution_count": 11,
   "metadata": {},
   "outputs": [
    {
     "name": "stdout",
     "output_type": "stream",
     "text": [
      "b'Sat, 08 Apr 2023 18:28:09 +0800\\n'\n"
     ]
    }
   ],
   "source": [
    "from subprocess import check_output\n",
    "from pprint import pprint\n",
    "\n",
    "out = check_output(['date', '-R'])\n",
    "pprint(out)"
   ]
  }
 ],
 "metadata": {
  "kernelspec": {
   "display_name": "base",
   "language": "python",
   "name": "python3"
  },
  "language_info": {
   "codemirror_mode": {
    "name": "ipython",
    "version": 3
   },
   "file_extension": ".py",
   "mimetype": "text/x-python",
   "name": "python",
   "nbconvert_exporter": "python",
   "pygments_lexer": "ipython3",
   "version": "3.9.7"
  },
  "orig_nbformat": 4
 },
 "nbformat": 4,
 "nbformat_minor": 2
}
