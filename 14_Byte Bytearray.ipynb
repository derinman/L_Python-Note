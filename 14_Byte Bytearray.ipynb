{
 "metadata": {
  "language_info": {
   "codemirror_mode": {
    "name": "ipython",
    "version": 3
   },
   "file_extension": ".py",
   "mimetype": "text/x-python",
   "name": "python",
   "nbconvert_exporter": "python",
   "pygments_lexer": "ipython3",
   "version": "3.7.4-final"
  },
  "orig_nbformat": 2,
  "kernelspec": {
   "name": "python_defaultSpec_1598021247200",
   "display_name": "Python 3.7.4 64-bit ('base': conda)"
  }
 },
 "nbformat": 4,
 "nbformat_minor": 2,
 "cells": [
  {
   "cell_type": "code",
   "execution_count": 1,
   "metadata": {},
   "outputs": [],
   "source": [
    "#byte不可變 bytearray可變"
   ]
  },
  {
   "cell_type": "code",
   "execution_count": 4,
   "metadata": {},
   "outputs": [
    {
     "output_type": "execute_result",
     "data": {
      "text/plain": "(b'\\x01\\x02\\x80\\xff', bytearray(b'\\x01\\x02\\x80\\xff'))"
     },
     "metadata": {},
     "execution_count": 4
    }
   ],
   "source": [
    "bytelist = [1,2,128,255 ]\n",
    "bytes(bytelist), bytearray(bytelist)"
   ]
  },
  {
   "cell_type": "code",
   "execution_count": 27,
   "metadata": {},
   "outputs": [
    {
     "output_type": "execute_result",
     "data": {
      "text/plain": "(b'\\xff\\x00\\x00\\x00',\n b'\\x00\\x00\\x00\\xff',\n b'\\x00\\x00\\xff\\x00',\n b'\\x00\\x00\\xff\\x01')"
     },
     "metadata": {},
     "execution_count": 27
    }
   ],
   "source": [
    "import struct\n",
    "# < little endian > big endian\n",
    "# 第一個參數是 format\n",
    "struct.pack('<L',255), struct.pack('>L',255), struct.pack('>L', 256*255), struct.pack('>L', 256*255+1)"
   ]
  },
  {
   "cell_type": "code",
   "execution_count": 38,
   "metadata": {},
   "outputs": [
    {
     "output_type": "execute_result",
     "data": {
      "text/plain": "((255,), (255,), (65280,))"
     },
     "metadata": {},
     "execution_count": 38
    }
   ],
   "source": [
    "struct.unpack('<L', b'\\xff\\x00\\x00\\x00'), struct.unpack('>L', b'\\x00\\x00\\x00\\xff'), struct.unpack('>L', b'\\x00\\x00\\xff\\x00')"
   ]
  }
 ]
}