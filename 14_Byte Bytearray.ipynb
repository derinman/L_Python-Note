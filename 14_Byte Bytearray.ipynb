{
 "metadata": {
  "language_info": {
   "codemirror_mode": {
    "name": "ipython",
    "version": 3
   },
   "file_extension": ".py",
   "mimetype": "text/x-python",
   "name": "python",
   "nbconvert_exporter": "python",
   "pygments_lexer": "ipython3",
   "version": "3.7.4-final"
  },
  "orig_nbformat": 2,
  "kernelspec": {
   "name": "python3",
   "display_name": "Python 3"
  }
 },
 "nbformat": 4,
 "nbformat_minor": 2,
 "cells": [
  {
   "cell_type": "code",
   "execution_count": null,
   "metadata": {},
   "outputs": [],
   "source": [
    "#bytes bytearray是python內建的兩種二進位型態"
   ]
  },
  {
   "cell_type": "code",
   "execution_count": 1,
   "metadata": {},
   "outputs": [],
   "source": [
    "#bytes不可變 bytearray可變"
   ]
  },
  {
   "cell_type": "code",
   "execution_count": 7,
   "metadata": {},
   "outputs": [
    {
     "output_type": "execute_result",
     "data": {
      "text/plain": "(b'\\xe6\\x88\\x91\\xe6\\x98\\xaf\\xe4\\xbd\\xa0',\n bytearray(b'\\xe6\\x88\\x91\\xe6\\x98\\xaf\\xe4\\xbd\\xa0'))"
     },
     "metadata": {},
     "execution_count": 7
    }
   ],
   "source": [
    "#以str,encoding建立\n",
    "bytes('我是你', encoding='utf_8'), bytearray('我是你', encoding='utf_8')"
   ]
  },
  {
   "cell_type": "code",
   "execution_count": 9,
   "metadata": {},
   "outputs": [
    {
     "output_type": "execute_result",
     "data": {
      "text/plain": "(b'\\x01\\x02\\x80\\xff', bytearray(b'\\x01\\x02\\x80\\xff'))"
     },
     "metadata": {},
     "execution_count": 9
    }
   ],
   "source": [
    "#以0~255的可迭代物件建立\n",
    "bytelist = [ 1, 2, 128, 255 ]\n",
    "bytes(bytelist), bytearray(bytelist)"
   ]
  },
  {
   "cell_type": "code",
   "execution_count": 10,
   "metadata": {},
   "outputs": [],
   "source": [
    "#以bytes bytearray建立的二進為資料會複製位元組，而memoryview可讓你在二進位資料結構間共用記憶體"
   ]
  },
  {
   "cell_type": "code",
   "execution_count": 27,
   "metadata": {},
   "outputs": [
    {
     "output_type": "execute_result",
     "data": {
      "text/plain": "(b'\\xff\\x00\\x00\\x00',\n b'\\x00\\x00\\x00\\xff',\n b'\\x00\\x00\\xff\\x00',\n b'\\x00\\x00\\xff\\x01')"
     },
     "metadata": {},
     "execution_count": 27
    }
   ],
   "source": [
    "import struct\n",
    "# < little endian > big endian\n",
    "# 第一個參數是 format\n",
    "struct.pack('<L',255), struct.pack('>L',255), struct.pack('>L', 256*255), struct.pack('>L', 256*255+1)"
   ]
  },
  {
   "cell_type": "code",
   "execution_count": 3,
   "metadata": {},
   "outputs": [
    {
     "output_type": "execute_result",
     "data": {
      "text/plain": "((255,), (255,), (65280,))"
     },
     "metadata": {},
     "execution_count": 3
    }
   ],
   "source": [
    "import struct\n",
    "struct.unpack('<L', b'\\xff\\x00\\x00\\x00'), struct.unpack('>L', b'\\x00\\x00\\x00\\xff'), struct.unpack('>L', b'\\x00\\x00\\xff\\x00')"
   ]
  }
 ]
}