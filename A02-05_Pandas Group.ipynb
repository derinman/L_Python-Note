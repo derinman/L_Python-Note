{
 "metadata": {
  "language_info": {
   "codemirror_mode": {
    "name": "ipython",
    "version": 3
   },
   "file_extension": ".py",
   "mimetype": "text/x-python",
   "name": "python",
   "nbconvert_exporter": "python",
   "pygments_lexer": "ipython3",
   "version": "3.7.4"
  },
  "orig_nbformat": 2,
  "kernelspec": {
   "name": "python3",
   "display_name": "Python 3.7.4 64-bit ('base': conda)",
   "metadata": {
    "interpreter": {
     "hash": "e04390b745d7540077d5afc7ea9b350ff3db0922faee759c3145cf85f5ee4c0c"
    }
   }
  }
 },
 "nbformat": 4,
 "nbformat_minor": 2,
 "cells": [
  {
   "cell_type": "code",
   "execution_count": 3,
   "metadata": {},
   "outputs": [],
   "source": [
    "import pandas as pd"
   ]
  },
  {
   "cell_type": "code",
   "execution_count": 5,
   "metadata": {},
   "outputs": [
    {
     "output_type": "execute_result",
     "data": {
      "text/plain": [
       "    interval       sensor axis  reading\n",
       "0          0        accel    Z      0.0\n",
       "1          0        accel    Y      0.5\n",
       "2          0        accel    X      1.0\n",
       "3          1        accel    Z      0.1\n",
       "4          1        accel    Y      0.4\n",
       "5          1        accel    X      0.9\n",
       "6          2        accel    Z      0.2\n",
       "7          2        accel    Y      0.3\n",
       "8          2        accel    X      0.8\n",
       "9          3        accel    Z      0.3\n",
       "10         3        accel    Y      0.2\n",
       "11         3        accel    X      0.7\n",
       "12         0  orientation    Z      0.0\n",
       "13         0  orientation    Y      0.1\n",
       "14         0  orientation    X      0.0\n",
       "15         1  orientation    Z      0.0\n",
       "16         1  orientation    Y      0.2\n",
       "17         1  orientation    X      0.1\n",
       "18         2  orientation    Z      0.0\n",
       "19         2  orientation    Y      0.3\n",
       "20         2  orientation    X      0.2\n",
       "21         3  orientation    Z      0.0\n",
       "22         3  orientation    Y      0.4\n",
       "23         3  orientation    X      0.3"
      ],
      "text/html": "<div>\n<style scoped>\n    .dataframe tbody tr th:only-of-type {\n        vertical-align: middle;\n    }\n\n    .dataframe tbody tr th {\n        vertical-align: top;\n    }\n\n    .dataframe thead th {\n        text-align: right;\n    }\n</style>\n<table border=\"1\" class=\"dataframe\">\n  <thead>\n    <tr style=\"text-align: right;\">\n      <th></th>\n      <th>interval</th>\n      <th>sensor</th>\n      <th>axis</th>\n      <th>reading</th>\n    </tr>\n  </thead>\n  <tbody>\n    <tr>\n      <td>0</td>\n      <td>0</td>\n      <td>accel</td>\n      <td>Z</td>\n      <td>0.0</td>\n    </tr>\n    <tr>\n      <td>1</td>\n      <td>0</td>\n      <td>accel</td>\n      <td>Y</td>\n      <td>0.5</td>\n    </tr>\n    <tr>\n      <td>2</td>\n      <td>0</td>\n      <td>accel</td>\n      <td>X</td>\n      <td>1.0</td>\n    </tr>\n    <tr>\n      <td>3</td>\n      <td>1</td>\n      <td>accel</td>\n      <td>Z</td>\n      <td>0.1</td>\n    </tr>\n    <tr>\n      <td>4</td>\n      <td>1</td>\n      <td>accel</td>\n      <td>Y</td>\n      <td>0.4</td>\n    </tr>\n    <tr>\n      <td>5</td>\n      <td>1</td>\n      <td>accel</td>\n      <td>X</td>\n      <td>0.9</td>\n    </tr>\n    <tr>\n      <td>6</td>\n      <td>2</td>\n      <td>accel</td>\n      <td>Z</td>\n      <td>0.2</td>\n    </tr>\n    <tr>\n      <td>7</td>\n      <td>2</td>\n      <td>accel</td>\n      <td>Y</td>\n      <td>0.3</td>\n    </tr>\n    <tr>\n      <td>8</td>\n      <td>2</td>\n      <td>accel</td>\n      <td>X</td>\n      <td>0.8</td>\n    </tr>\n    <tr>\n      <td>9</td>\n      <td>3</td>\n      <td>accel</td>\n      <td>Z</td>\n      <td>0.3</td>\n    </tr>\n    <tr>\n      <td>10</td>\n      <td>3</td>\n      <td>accel</td>\n      <td>Y</td>\n      <td>0.2</td>\n    </tr>\n    <tr>\n      <td>11</td>\n      <td>3</td>\n      <td>accel</td>\n      <td>X</td>\n      <td>0.7</td>\n    </tr>\n    <tr>\n      <td>12</td>\n      <td>0</td>\n      <td>orientation</td>\n      <td>Z</td>\n      <td>0.0</td>\n    </tr>\n    <tr>\n      <td>13</td>\n      <td>0</td>\n      <td>orientation</td>\n      <td>Y</td>\n      <td>0.1</td>\n    </tr>\n    <tr>\n      <td>14</td>\n      <td>0</td>\n      <td>orientation</td>\n      <td>X</td>\n      <td>0.0</td>\n    </tr>\n    <tr>\n      <td>15</td>\n      <td>1</td>\n      <td>orientation</td>\n      <td>Z</td>\n      <td>0.0</td>\n    </tr>\n    <tr>\n      <td>16</td>\n      <td>1</td>\n      <td>orientation</td>\n      <td>Y</td>\n      <td>0.2</td>\n    </tr>\n    <tr>\n      <td>17</td>\n      <td>1</td>\n      <td>orientation</td>\n      <td>X</td>\n      <td>0.1</td>\n    </tr>\n    <tr>\n      <td>18</td>\n      <td>2</td>\n      <td>orientation</td>\n      <td>Z</td>\n      <td>0.0</td>\n    </tr>\n    <tr>\n      <td>19</td>\n      <td>2</td>\n      <td>orientation</td>\n      <td>Y</td>\n      <td>0.3</td>\n    </tr>\n    <tr>\n      <td>20</td>\n      <td>2</td>\n      <td>orientation</td>\n      <td>X</td>\n      <td>0.2</td>\n    </tr>\n    <tr>\n      <td>21</td>\n      <td>3</td>\n      <td>orientation</td>\n      <td>Z</td>\n      <td>0.0</td>\n    </tr>\n    <tr>\n      <td>22</td>\n      <td>3</td>\n      <td>orientation</td>\n      <td>Y</td>\n      <td>0.4</td>\n    </tr>\n    <tr>\n      <td>23</td>\n      <td>3</td>\n      <td>orientation</td>\n      <td>X</td>\n      <td>0.3</td>\n    </tr>\n  </tbody>\n</table>\n</div>"
     },
     "metadata": {},
     "execution_count": 5
    }
   ],
   "source": [
    "sensor_data = pd.read_csv(\"data/sensors.csv\")\n",
    "sensor_data"
   ]
  },
  {
   "cell_type": "code",
   "execution_count": 6,
   "metadata": {},
   "outputs": [
    {
     "output_type": "execute_result",
     "data": {
      "text/plain": [
       "<pandas.core.groupby.generic.DataFrameGroupBy object at 0x00000214D2416208>"
      ]
     },
     "metadata": {},
     "execution_count": 6
    }
   ],
   "source": [
    "grouped_by_sensor = sensor_data.groupby('sensor')\n",
    "grouped_by_sensor"
   ]
  },
  {
   "cell_type": "code",
   "execution_count": 7,
   "metadata": {},
   "outputs": [
    {
     "output_type": "execute_result",
     "data": {
      "text/plain": [
       "2"
      ]
     },
     "metadata": {},
     "execution_count": 7
    }
   ],
   "source": [
    "grouped_by_sensor.ngroups\n",
    "#2個 group"
   ]
  },
  {
   "cell_type": "code",
   "execution_count": 8,
   "metadata": {},
   "outputs": [
    {
     "output_type": "execute_result",
     "data": {
      "text/plain": [
       "sensor\n",
       "accel          12\n",
       "orientation    12\n",
       "dtype: int64"
      ]
     },
     "metadata": {},
     "execution_count": 8
    }
   ],
   "source": [
    "grouped_by_sensor.size()"
   ]
  },
  {
   "cell_type": "code",
   "execution_count": 9,
   "metadata": {},
   "outputs": [
    {
     "output_type": "execute_result",
     "data": {
      "text/plain": [
       "             interval  axis  reading\n",
       "sensor                              \n",
       "accel              12    12       12\n",
       "orientation        12    12       12"
      ],
      "text/html": "<div>\n<style scoped>\n    .dataframe tbody tr th:only-of-type {\n        vertical-align: middle;\n    }\n\n    .dataframe tbody tr th {\n        vertical-align: top;\n    }\n\n    .dataframe thead th {\n        text-align: right;\n    }\n</style>\n<table border=\"1\" class=\"dataframe\">\n  <thead>\n    <tr style=\"text-align: right;\">\n      <th></th>\n      <th>interval</th>\n      <th>axis</th>\n      <th>reading</th>\n    </tr>\n    <tr>\n      <th>sensor</th>\n      <th></th>\n      <th></th>\n      <th></th>\n    </tr>\n  </thead>\n  <tbody>\n    <tr>\n      <td>accel</td>\n      <td>12</td>\n      <td>12</td>\n      <td>12</td>\n    </tr>\n    <tr>\n      <td>orientation</td>\n      <td>12</td>\n      <td>12</td>\n      <td>12</td>\n    </tr>\n  </tbody>\n</table>\n</div>"
     },
     "metadata": {},
     "execution_count": 9
    }
   ],
   "source": [
    "grouped_by_sensor.count()"
   ]
  },
  {
   "cell_type": "code",
   "execution_count": 10,
   "metadata": {},
   "outputs": [
    {
     "output_type": "execute_result",
     "data": {
      "text/plain": [
       "{'accel': Int64Index([0, 1, 2, 3, 4, 5, 6, 7, 8, 9, 10, 11], dtype='int64'),\n",
       " 'orientation': Int64Index([12, 13, 14, 15, 16, 17, 18, 19, 20, 21, 22, 23], dtype='int64')}"
      ]
     },
     "metadata": {},
     "execution_count": 10
    }
   ],
   "source": [
    "grouped_by_sensor.groups"
   ]
  },
  {
   "cell_type": "code",
   "execution_count": 11,
   "metadata": {},
   "outputs": [
    {
     "output_type": "execute_result",
     "data": {
      "text/plain": [
       "   interval sensor axis  reading\n",
       "0         0  accel    Z      0.0\n",
       "1         0  accel    Y      0.5\n",
       "2         0  accel    X      1.0\n",
       "3         1  accel    Z      0.1\n",
       "4         1  accel    Y      0.4"
      ],
      "text/html": "<div>\n<style scoped>\n    .dataframe tbody tr th:only-of-type {\n        vertical-align: middle;\n    }\n\n    .dataframe tbody tr th {\n        vertical-align: top;\n    }\n\n    .dataframe thead th {\n        text-align: right;\n    }\n</style>\n<table border=\"1\" class=\"dataframe\">\n  <thead>\n    <tr style=\"text-align: right;\">\n      <th></th>\n      <th>interval</th>\n      <th>sensor</th>\n      <th>axis</th>\n      <th>reading</th>\n    </tr>\n  </thead>\n  <tbody>\n    <tr>\n      <td>0</td>\n      <td>0</td>\n      <td>accel</td>\n      <td>Z</td>\n      <td>0.0</td>\n    </tr>\n    <tr>\n      <td>1</td>\n      <td>0</td>\n      <td>accel</td>\n      <td>Y</td>\n      <td>0.5</td>\n    </tr>\n    <tr>\n      <td>2</td>\n      <td>0</td>\n      <td>accel</td>\n      <td>X</td>\n      <td>1.0</td>\n    </tr>\n    <tr>\n      <td>3</td>\n      <td>1</td>\n      <td>accel</td>\n      <td>Z</td>\n      <td>0.1</td>\n    </tr>\n    <tr>\n      <td>4</td>\n      <td>1</td>\n      <td>accel</td>\n      <td>Y</td>\n      <td>0.4</td>\n    </tr>\n  </tbody>\n</table>\n</div>"
     },
     "metadata": {},
     "execution_count": 11
    }
   ],
   "source": [
    "grouped_by_sensor.get_group('accel')[:5]"
   ]
  },
  {
   "cell_type": "code",
   "execution_count": 12,
   "metadata": {},
   "outputs": [],
   "source": [
    "def print_groups (group_object):\n",
    "    for name, group in group_object:\n",
    "        print (name)\n",
    "        print (group[:5])"
   ]
  },
  {
   "cell_type": "code",
   "execution_count": 13,
   "metadata": {},
   "outputs": [
    {
     "output_type": "stream",
     "name": "stdout",
     "text": [
      "accel\n   interval sensor axis  reading\n0         0  accel    Z      0.0\n1         0  accel    Y      0.5\n2         0  accel    X      1.0\n3         1  accel    Z      0.1\n4         1  accel    Y      0.4\norientation\n    interval       sensor axis  reading\n12         0  orientation    Z      0.0\n13         0  orientation    Y      0.1\n14         0  orientation    X      0.0\n15         1  orientation    Z      0.0\n16         1  orientation    Y      0.2\n"
     ]
    }
   ],
   "source": [
    "print_groups(grouped_by_sensor)"
   ]
  },
  {
   "cell_type": "code",
   "execution_count": null,
   "metadata": {},
   "outputs": [],
   "source": []
  }
 ]
}