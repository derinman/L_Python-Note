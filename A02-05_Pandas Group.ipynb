{
 "metadata": {
  "language_info": {
   "codemirror_mode": {
    "name": "ipython",
    "version": 3
   },
   "file_extension": ".py",
   "mimetype": "text/x-python",
   "name": "python",
   "nbconvert_exporter": "python",
   "pygments_lexer": "ipython3",
   "version": "3.7.4"
  },
  "orig_nbformat": 2,
  "kernelspec": {
   "name": "python3",
   "display_name": "Python 3.7.4 64-bit ('base': conda)"
  },
  "interpreter": {
   "hash": "b3ba2566441a7c06988d0923437866b63cedc61552a5af99d1f4fb67d367b25f"
  }
 },
 "nbformat": 4,
 "nbformat_minor": 2,
 "cells": [
  {
   "cell_type": "code",
   "execution_count": 1,
   "metadata": {},
   "outputs": [],
   "source": [
    "import pandas as pd\n",
    "import numpy as np"
   ]
  },
  {
   "cell_type": "code",
   "execution_count": 2,
   "metadata": {},
   "outputs": [
    {
     "output_type": "execute_result",
     "data": {
      "text/plain": [
       "    interval       sensor axis  reading\n",
       "0          0        accel    Z      0.0\n",
       "1          0        accel    Y      0.5\n",
       "2          0        accel    X      1.0\n",
       "3          1        accel    Z      0.1\n",
       "4          1        accel    Y      0.4\n",
       "5          1        accel    X      0.9\n",
       "6          2        accel    Z      0.2\n",
       "7          2        accel    Y      0.3\n",
       "8          2        accel    X      0.8\n",
       "9          3        accel    Z      0.3\n",
       "10         3        accel    Y      0.2\n",
       "11         3        accel    X      0.7\n",
       "12         0  orientation    Z      0.0\n",
       "13         0  orientation    Y      0.1\n",
       "14         0  orientation    X      0.0\n",
       "15         1  orientation    Z      0.0\n",
       "16         1  orientation    Y      0.2\n",
       "17         1  orientation    X      0.1\n",
       "18         2  orientation    Z      0.0\n",
       "19         2  orientation    Y      0.3\n",
       "20         2  orientation    X      0.2\n",
       "21         3  orientation    Z      0.0\n",
       "22         3  orientation    Y      0.4\n",
       "23         3  orientation    X      0.3"
      ],
      "text/html": "<div>\n<style scoped>\n    .dataframe tbody tr th:only-of-type {\n        vertical-align: middle;\n    }\n\n    .dataframe tbody tr th {\n        vertical-align: top;\n    }\n\n    .dataframe thead th {\n        text-align: right;\n    }\n</style>\n<table border=\"1\" class=\"dataframe\">\n  <thead>\n    <tr style=\"text-align: right;\">\n      <th></th>\n      <th>interval</th>\n      <th>sensor</th>\n      <th>axis</th>\n      <th>reading</th>\n    </tr>\n  </thead>\n  <tbody>\n    <tr>\n      <th>0</th>\n      <td>0</td>\n      <td>accel</td>\n      <td>Z</td>\n      <td>0.0</td>\n    </tr>\n    <tr>\n      <th>1</th>\n      <td>0</td>\n      <td>accel</td>\n      <td>Y</td>\n      <td>0.5</td>\n    </tr>\n    <tr>\n      <th>2</th>\n      <td>0</td>\n      <td>accel</td>\n      <td>X</td>\n      <td>1.0</td>\n    </tr>\n    <tr>\n      <th>3</th>\n      <td>1</td>\n      <td>accel</td>\n      <td>Z</td>\n      <td>0.1</td>\n    </tr>\n    <tr>\n      <th>4</th>\n      <td>1</td>\n      <td>accel</td>\n      <td>Y</td>\n      <td>0.4</td>\n    </tr>\n    <tr>\n      <th>5</th>\n      <td>1</td>\n      <td>accel</td>\n      <td>X</td>\n      <td>0.9</td>\n    </tr>\n    <tr>\n      <th>6</th>\n      <td>2</td>\n      <td>accel</td>\n      <td>Z</td>\n      <td>0.2</td>\n    </tr>\n    <tr>\n      <th>7</th>\n      <td>2</td>\n      <td>accel</td>\n      <td>Y</td>\n      <td>0.3</td>\n    </tr>\n    <tr>\n      <th>8</th>\n      <td>2</td>\n      <td>accel</td>\n      <td>X</td>\n      <td>0.8</td>\n    </tr>\n    <tr>\n      <th>9</th>\n      <td>3</td>\n      <td>accel</td>\n      <td>Z</td>\n      <td>0.3</td>\n    </tr>\n    <tr>\n      <th>10</th>\n      <td>3</td>\n      <td>accel</td>\n      <td>Y</td>\n      <td>0.2</td>\n    </tr>\n    <tr>\n      <th>11</th>\n      <td>3</td>\n      <td>accel</td>\n      <td>X</td>\n      <td>0.7</td>\n    </tr>\n    <tr>\n      <th>12</th>\n      <td>0</td>\n      <td>orientation</td>\n      <td>Z</td>\n      <td>0.0</td>\n    </tr>\n    <tr>\n      <th>13</th>\n      <td>0</td>\n      <td>orientation</td>\n      <td>Y</td>\n      <td>0.1</td>\n    </tr>\n    <tr>\n      <th>14</th>\n      <td>0</td>\n      <td>orientation</td>\n      <td>X</td>\n      <td>0.0</td>\n    </tr>\n    <tr>\n      <th>15</th>\n      <td>1</td>\n      <td>orientation</td>\n      <td>Z</td>\n      <td>0.0</td>\n    </tr>\n    <tr>\n      <th>16</th>\n      <td>1</td>\n      <td>orientation</td>\n      <td>Y</td>\n      <td>0.2</td>\n    </tr>\n    <tr>\n      <th>17</th>\n      <td>1</td>\n      <td>orientation</td>\n      <td>X</td>\n      <td>0.1</td>\n    </tr>\n    <tr>\n      <th>18</th>\n      <td>2</td>\n      <td>orientation</td>\n      <td>Z</td>\n      <td>0.0</td>\n    </tr>\n    <tr>\n      <th>19</th>\n      <td>2</td>\n      <td>orientation</td>\n      <td>Y</td>\n      <td>0.3</td>\n    </tr>\n    <tr>\n      <th>20</th>\n      <td>2</td>\n      <td>orientation</td>\n      <td>X</td>\n      <td>0.2</td>\n    </tr>\n    <tr>\n      <th>21</th>\n      <td>3</td>\n      <td>orientation</td>\n      <td>Z</td>\n      <td>0.0</td>\n    </tr>\n    <tr>\n      <th>22</th>\n      <td>3</td>\n      <td>orientation</td>\n      <td>Y</td>\n      <td>0.4</td>\n    </tr>\n    <tr>\n      <th>23</th>\n      <td>3</td>\n      <td>orientation</td>\n      <td>X</td>\n      <td>0.3</td>\n    </tr>\n  </tbody>\n</table>\n</div>"
     },
     "metadata": {},
     "execution_count": 2
    }
   ],
   "source": [
    "sensor_data = pd.read_csv(\"data/sensors.csv\")\n",
    "sensor_data"
   ]
  },
  {
   "cell_type": "code",
   "execution_count": 3,
   "metadata": {},
   "outputs": [
    {
     "output_type": "execute_result",
     "data": {
      "text/plain": [
       "<pandas.core.groupby.generic.DataFrameGroupBy object at 0x0000016E1B4D5588>"
      ]
     },
     "metadata": {},
     "execution_count": 3
    }
   ],
   "source": [
    "grouped_by_sensor = sensor_data.groupby('sensor')\n",
    "grouped_by_sensor"
   ]
  },
  {
   "cell_type": "code",
   "execution_count": 4,
   "metadata": {},
   "outputs": [
    {
     "output_type": "execute_result",
     "data": {
      "text/plain": [
       "2"
      ]
     },
     "metadata": {},
     "execution_count": 4
    }
   ],
   "source": [
    "grouped_by_sensor.ngroups\n",
    "#2個 group"
   ]
  },
  {
   "cell_type": "code",
   "execution_count": 5,
   "metadata": {},
   "outputs": [
    {
     "output_type": "execute_result",
     "data": {
      "text/plain": [
       "sensor\n",
       "accel          12\n",
       "orientation    12\n",
       "dtype: int64"
      ]
     },
     "metadata": {},
     "execution_count": 5
    }
   ],
   "source": [
    "grouped_by_sensor.size()"
   ]
  },
  {
   "cell_type": "code",
   "execution_count": 6,
   "metadata": {},
   "outputs": [
    {
     "output_type": "execute_result",
     "data": {
      "text/plain": [
       "             interval  axis  reading\n",
       "sensor                              \n",
       "accel              12    12       12\n",
       "orientation        12    12       12"
      ],
      "text/html": "<div>\n<style scoped>\n    .dataframe tbody tr th:only-of-type {\n        vertical-align: middle;\n    }\n\n    .dataframe tbody tr th {\n        vertical-align: top;\n    }\n\n    .dataframe thead th {\n        text-align: right;\n    }\n</style>\n<table border=\"1\" class=\"dataframe\">\n  <thead>\n    <tr style=\"text-align: right;\">\n      <th></th>\n      <th>interval</th>\n      <th>axis</th>\n      <th>reading</th>\n    </tr>\n    <tr>\n      <th>sensor</th>\n      <th></th>\n      <th></th>\n      <th></th>\n    </tr>\n  </thead>\n  <tbody>\n    <tr>\n      <th>accel</th>\n      <td>12</td>\n      <td>12</td>\n      <td>12</td>\n    </tr>\n    <tr>\n      <th>orientation</th>\n      <td>12</td>\n      <td>12</td>\n      <td>12</td>\n    </tr>\n  </tbody>\n</table>\n</div>"
     },
     "metadata": {},
     "execution_count": 6
    }
   ],
   "source": [
    "grouped_by_sensor.count()"
   ]
  },
  {
   "cell_type": "code",
   "execution_count": 7,
   "metadata": {},
   "outputs": [
    {
     "output_type": "execute_result",
     "data": {
      "text/plain": [
       "{'accel': [0, 1, 2, 3, 4, 5, 6, 7, 8, 9, 10, 11], 'orientation': [12, 13, 14, 15, 16, 17, 18, 19, 20, 21, 22, 23]}"
      ]
     },
     "metadata": {},
     "execution_count": 7
    }
   ],
   "source": [
    "grouped_by_sensor.groups"
   ]
  },
  {
   "cell_type": "code",
   "execution_count": 8,
   "metadata": {},
   "outputs": [
    {
     "output_type": "execute_result",
     "data": {
      "text/plain": [
       "   interval sensor axis  reading\n",
       "0         0  accel    Z      0.0\n",
       "1         0  accel    Y      0.5\n",
       "2         0  accel    X      1.0\n",
       "3         1  accel    Z      0.1\n",
       "4         1  accel    Y      0.4"
      ],
      "text/html": "<div>\n<style scoped>\n    .dataframe tbody tr th:only-of-type {\n        vertical-align: middle;\n    }\n\n    .dataframe tbody tr th {\n        vertical-align: top;\n    }\n\n    .dataframe thead th {\n        text-align: right;\n    }\n</style>\n<table border=\"1\" class=\"dataframe\">\n  <thead>\n    <tr style=\"text-align: right;\">\n      <th></th>\n      <th>interval</th>\n      <th>sensor</th>\n      <th>axis</th>\n      <th>reading</th>\n    </tr>\n  </thead>\n  <tbody>\n    <tr>\n      <th>0</th>\n      <td>0</td>\n      <td>accel</td>\n      <td>Z</td>\n      <td>0.0</td>\n    </tr>\n    <tr>\n      <th>1</th>\n      <td>0</td>\n      <td>accel</td>\n      <td>Y</td>\n      <td>0.5</td>\n    </tr>\n    <tr>\n      <th>2</th>\n      <td>0</td>\n      <td>accel</td>\n      <td>X</td>\n      <td>1.0</td>\n    </tr>\n    <tr>\n      <th>3</th>\n      <td>1</td>\n      <td>accel</td>\n      <td>Z</td>\n      <td>0.1</td>\n    </tr>\n    <tr>\n      <th>4</th>\n      <td>1</td>\n      <td>accel</td>\n      <td>Y</td>\n      <td>0.4</td>\n    </tr>\n  </tbody>\n</table>\n</div>"
     },
     "metadata": {},
     "execution_count": 8
    }
   ],
   "source": [
    "grouped_by_sensor.get_group('accel')[:5]"
   ]
  },
  {
   "cell_type": "code",
   "execution_count": 11,
   "metadata": {},
   "outputs": [
    {
     "output_type": "execute_result",
     "data": {
      "text/plain": [
       "    interval       sensor axis  reading\n",
       "0          0        accel    Z      0.0\n",
       "1          0        accel    Y      0.5\n",
       "12         0  orientation    Z      0.0\n",
       "13         0  orientation    Y      0.1"
      ],
      "text/html": "<div>\n<style scoped>\n    .dataframe tbody tr th:only-of-type {\n        vertical-align: middle;\n    }\n\n    .dataframe tbody tr th {\n        vertical-align: top;\n    }\n\n    .dataframe thead th {\n        text-align: right;\n    }\n</style>\n<table border=\"1\" class=\"dataframe\">\n  <thead>\n    <tr style=\"text-align: right;\">\n      <th></th>\n      <th>interval</th>\n      <th>sensor</th>\n      <th>axis</th>\n      <th>reading</th>\n    </tr>\n  </thead>\n  <tbody>\n    <tr>\n      <td>0</td>\n      <td>0</td>\n      <td>accel</td>\n      <td>Z</td>\n      <td>0.0</td>\n    </tr>\n    <tr>\n      <td>1</td>\n      <td>0</td>\n      <td>accel</td>\n      <td>Y</td>\n      <td>0.5</td>\n    </tr>\n    <tr>\n      <td>12</td>\n      <td>0</td>\n      <td>orientation</td>\n      <td>Z</td>\n      <td>0.0</td>\n    </tr>\n    <tr>\n      <td>13</td>\n      <td>0</td>\n      <td>orientation</td>\n      <td>Y</td>\n      <td>0.1</td>\n    </tr>\n  </tbody>\n</table>\n</div>"
     },
     "metadata": {},
     "execution_count": 11
    }
   ],
   "source": [
    "# get the first two items in each group\n",
    "grouped_by_sensor.head(2)"
   ]
  },
  {
   "cell_type": "code",
   "execution_count": 13,
   "metadata": {},
   "outputs": [],
   "source": [
    "def print_groups (group_object):\n",
    "    for name, group in group_object:\n",
    "        print (name)\n",
    "        print (group[:5])"
   ]
  },
  {
   "cell_type": "code",
   "execution_count": 14,
   "metadata": {},
   "outputs": [
    {
     "output_type": "stream",
     "name": "stdout",
     "text": [
      "accel\n   interval sensor axis  reading\n0         0  accel    Z      0.0\n1         0  accel    Y      0.5\n2         0  accel    X      1.0\n3         1  accel    Z      0.1\n4         1  accel    Y      0.4\norientation\n    interval       sensor axis  reading\n12         0  orientation    Z      0.0\n13         0  orientation    Y      0.1\n14         0  orientation    X      0.0\n15         1  orientation    Z      0.0\n16         1  orientation    Y      0.2\n"
     ]
    }
   ],
   "source": [
    "print_groups(grouped_by_sensor)"
   ]
  },
  {
   "cell_type": "code",
   "execution_count": 11,
   "metadata": {},
   "outputs": [
    {
     "output_type": "execute_result",
     "data": {
      "text/plain": [
       "            interval                                           reading  \\\n",
       "               count mean       std  min   25%  50%   75%  max   count   \n",
       "sensor                                                                   \n",
       "accel           12.0  1.5  1.167748  0.0  0.75  1.5  2.25  3.0    12.0   \n",
       "orientation     12.0  1.5  1.167748  0.0  0.75  1.5  2.25  3.0    12.0   \n",
       "\n",
       "                                                             \n",
       "                 mean       std  min  25%   50%    75%  max  \n",
       "sensor                                                       \n",
       "accel        0.450000  0.328910  0.0  0.2  0.35  0.725  1.0  \n",
       "orientation  0.133333  0.143548  0.0  0.0  0.10  0.225  0.4  "
      ],
      "text/html": "<div>\n<style scoped>\n    .dataframe tbody tr th:only-of-type {\n        vertical-align: middle;\n    }\n\n    .dataframe tbody tr th {\n        vertical-align: top;\n    }\n\n    .dataframe thead tr th {\n        text-align: left;\n    }\n\n    .dataframe thead tr:last-of-type th {\n        text-align: right;\n    }\n</style>\n<table border=\"1\" class=\"dataframe\">\n  <thead>\n    <tr>\n      <th></th>\n      <th colspan=\"8\" halign=\"left\">interval</th>\n      <th colspan=\"8\" halign=\"left\">reading</th>\n    </tr>\n    <tr>\n      <th></th>\n      <th>count</th>\n      <th>mean</th>\n      <th>std</th>\n      <th>min</th>\n      <th>25%</th>\n      <th>50%</th>\n      <th>75%</th>\n      <th>max</th>\n      <th>count</th>\n      <th>mean</th>\n      <th>std</th>\n      <th>min</th>\n      <th>25%</th>\n      <th>50%</th>\n      <th>75%</th>\n      <th>max</th>\n    </tr>\n    <tr>\n      <th>sensor</th>\n      <th></th>\n      <th></th>\n      <th></th>\n      <th></th>\n      <th></th>\n      <th></th>\n      <th></th>\n      <th></th>\n      <th></th>\n      <th></th>\n      <th></th>\n      <th></th>\n      <th></th>\n      <th></th>\n      <th></th>\n      <th></th>\n    </tr>\n  </thead>\n  <tbody>\n    <tr>\n      <th>accel</th>\n      <td>12.0</td>\n      <td>1.5</td>\n      <td>1.167748</td>\n      <td>0.0</td>\n      <td>0.75</td>\n      <td>1.5</td>\n      <td>2.25</td>\n      <td>3.0</td>\n      <td>12.0</td>\n      <td>0.450000</td>\n      <td>0.328910</td>\n      <td>0.0</td>\n      <td>0.2</td>\n      <td>0.35</td>\n      <td>0.725</td>\n      <td>1.0</td>\n    </tr>\n    <tr>\n      <th>orientation</th>\n      <td>12.0</td>\n      <td>1.5</td>\n      <td>1.167748</td>\n      <td>0.0</td>\n      <td>0.75</td>\n      <td>1.5</td>\n      <td>2.25</td>\n      <td>3.0</td>\n      <td>12.0</td>\n      <td>0.133333</td>\n      <td>0.143548</td>\n      <td>0.0</td>\n      <td>0.0</td>\n      <td>0.10</td>\n      <td>0.225</td>\n      <td>0.4</td>\n    </tr>\n  </tbody>\n</table>\n</div>"
     },
     "metadata": {},
     "execution_count": 11
    }
   ],
   "source": [
    "grouped_by_sensor.describe()"
   ]
  },
  {
   "cell_type": "code",
   "execution_count": 15,
   "metadata": {},
   "outputs": [
    {
     "output_type": "execute_result",
     "data": {
      "text/plain": [
       "             interval   reading\n",
       "sensor                         \n",
       "accel             1.5  0.450000\n",
       "orientation       1.5  0.133333"
      ],
      "text/html": "<div>\n<style scoped>\n    .dataframe tbody tr th:only-of-type {\n        vertical-align: middle;\n    }\n\n    .dataframe tbody tr th {\n        vertical-align: top;\n    }\n\n    .dataframe thead th {\n        text-align: right;\n    }\n</style>\n<table border=\"1\" class=\"dataframe\">\n  <thead>\n    <tr style=\"text-align: right;\">\n      <th></th>\n      <th>interval</th>\n      <th>reading</th>\n    </tr>\n    <tr>\n      <th>sensor</th>\n      <th></th>\n      <th></th>\n    </tr>\n  </thead>\n  <tbody>\n    <tr>\n      <th>accel</th>\n      <td>1.5</td>\n      <td>0.450000</td>\n    </tr>\n    <tr>\n      <th>orientation</th>\n      <td>1.5</td>\n      <td>0.133333</td>\n    </tr>\n  </tbody>\n</table>\n</div>"
     },
     "metadata": {},
     "execution_count": 15
    }
   ],
   "source": [
    "grouped_by_sensor.mean()"
   ]
  },
  {
   "cell_type": "code",
   "execution_count": 17,
   "metadata": {},
   "outputs": [
    {
     "output_type": "stream",
     "name": "stdout",
     "text": [
      "('accel', 'X')\n    interval sensor axis  reading\n2          0  accel    X      1.0\n5          1  accel    X      0.9\n8          2  accel    X      0.8\n11         3  accel    X      0.7\n('accel', 'Y')\n    interval sensor axis  reading\n1          0  accel    Y      0.5\n4          1  accel    Y      0.4\n7          2  accel    Y      0.3\n10         3  accel    Y      0.2\n('accel', 'Z')\n   interval sensor axis  reading\n0         0  accel    Z      0.0\n3         1  accel    Z      0.1\n6         2  accel    Z      0.2\n9         3  accel    Z      0.3\n('orientation', 'X')\n    interval       sensor axis  reading\n14         0  orientation    X      0.0\n17         1  orientation    X      0.1\n20         2  orientation    X      0.2\n23         3  orientation    X      0.3\n('orientation', 'Y')\n    interval       sensor axis  reading\n13         0  orientation    Y      0.1\n16         1  orientation    Y      0.2\n19         2  orientation    Y      0.3\n22         3  orientation    Y      0.4\n('orientation', 'Z')\n    interval       sensor axis  reading\n12         0  orientation    Z      0.0\n15         1  orientation    Z      0.0\n18         2  orientation    Z      0.0\n21         3  orientation    Z      0.0\n"
     ]
    }
   ],
   "source": [
    "# Grouping using muiltiple columns\n",
    "mcg = sensor_data.groupby(['sensor', 'axis'])\n",
    "print_groups(mcg)"
   ]
  },
  {
   "cell_type": "code",
   "execution_count": 18,
   "metadata": {},
   "outputs": [
    {
     "output_type": "execute_result",
     "data": {
      "text/plain": [
       "                 interval                                           reading  \\\n",
       "                    count mean       std  min   25%  50%   75%  max   count   \n",
       "sensor      axis                                                              \n",
       "accel       X         4.0  1.5  1.290994  0.0  0.75  1.5  2.25  3.0     4.0   \n",
       "            Y         4.0  1.5  1.290994  0.0  0.75  1.5  2.25  3.0     4.0   \n",
       "            Z         4.0  1.5  1.290994  0.0  0.75  1.5  2.25  3.0     4.0   \n",
       "orientation X         4.0  1.5  1.290994  0.0  0.75  1.5  2.25  3.0     4.0   \n",
       "            Y         4.0  1.5  1.290994  0.0  0.75  1.5  2.25  3.0     4.0   \n",
       "            Z         4.0  1.5  1.290994  0.0  0.75  1.5  2.25  3.0     4.0   \n",
       "\n",
       "                                                                \n",
       "                  mean       std  min    25%   50%    75%  max  \n",
       "sensor      axis                                                \n",
       "accel       X     0.85  0.129099  0.7  0.775  0.85  0.925  1.0  \n",
       "            Y     0.35  0.129099  0.2  0.275  0.35  0.425  0.5  \n",
       "            Z     0.15  0.129099  0.0  0.075  0.15  0.225  0.3  \n",
       "orientation X     0.15  0.129099  0.0  0.075  0.15  0.225  0.3  \n",
       "            Y     0.25  0.129099  0.1  0.175  0.25  0.325  0.4  \n",
       "            Z     0.00  0.000000  0.0  0.000  0.00  0.000  0.0  "
      ],
      "text/html": "<div>\n<style scoped>\n    .dataframe tbody tr th:only-of-type {\n        vertical-align: middle;\n    }\n\n    .dataframe tbody tr th {\n        vertical-align: top;\n    }\n\n    .dataframe thead tr th {\n        text-align: left;\n    }\n\n    .dataframe thead tr:last-of-type th {\n        text-align: right;\n    }\n</style>\n<table border=\"1\" class=\"dataframe\">\n  <thead>\n    <tr>\n      <th></th>\n      <th></th>\n      <th colspan=\"8\" halign=\"left\">interval</th>\n      <th colspan=\"8\" halign=\"left\">reading</th>\n    </tr>\n    <tr>\n      <th></th>\n      <th></th>\n      <th>count</th>\n      <th>mean</th>\n      <th>std</th>\n      <th>min</th>\n      <th>25%</th>\n      <th>50%</th>\n      <th>75%</th>\n      <th>max</th>\n      <th>count</th>\n      <th>mean</th>\n      <th>std</th>\n      <th>min</th>\n      <th>25%</th>\n      <th>50%</th>\n      <th>75%</th>\n      <th>max</th>\n    </tr>\n    <tr>\n      <th>sensor</th>\n      <th>axis</th>\n      <th></th>\n      <th></th>\n      <th></th>\n      <th></th>\n      <th></th>\n      <th></th>\n      <th></th>\n      <th></th>\n      <th></th>\n      <th></th>\n      <th></th>\n      <th></th>\n      <th></th>\n      <th></th>\n      <th></th>\n      <th></th>\n    </tr>\n  </thead>\n  <tbody>\n    <tr>\n      <th rowspan=\"3\" valign=\"top\">accel</th>\n      <th>X</th>\n      <td>4.0</td>\n      <td>1.5</td>\n      <td>1.290994</td>\n      <td>0.0</td>\n      <td>0.75</td>\n      <td>1.5</td>\n      <td>2.25</td>\n      <td>3.0</td>\n      <td>4.0</td>\n      <td>0.85</td>\n      <td>0.129099</td>\n      <td>0.7</td>\n      <td>0.775</td>\n      <td>0.85</td>\n      <td>0.925</td>\n      <td>1.0</td>\n    </tr>\n    <tr>\n      <th>Y</th>\n      <td>4.0</td>\n      <td>1.5</td>\n      <td>1.290994</td>\n      <td>0.0</td>\n      <td>0.75</td>\n      <td>1.5</td>\n      <td>2.25</td>\n      <td>3.0</td>\n      <td>4.0</td>\n      <td>0.35</td>\n      <td>0.129099</td>\n      <td>0.2</td>\n      <td>0.275</td>\n      <td>0.35</td>\n      <td>0.425</td>\n      <td>0.5</td>\n    </tr>\n    <tr>\n      <th>Z</th>\n      <td>4.0</td>\n      <td>1.5</td>\n      <td>1.290994</td>\n      <td>0.0</td>\n      <td>0.75</td>\n      <td>1.5</td>\n      <td>2.25</td>\n      <td>3.0</td>\n      <td>4.0</td>\n      <td>0.15</td>\n      <td>0.129099</td>\n      <td>0.0</td>\n      <td>0.075</td>\n      <td>0.15</td>\n      <td>0.225</td>\n      <td>0.3</td>\n    </tr>\n    <tr>\n      <th rowspan=\"3\" valign=\"top\">orientation</th>\n      <th>X</th>\n      <td>4.0</td>\n      <td>1.5</td>\n      <td>1.290994</td>\n      <td>0.0</td>\n      <td>0.75</td>\n      <td>1.5</td>\n      <td>2.25</td>\n      <td>3.0</td>\n      <td>4.0</td>\n      <td>0.15</td>\n      <td>0.129099</td>\n      <td>0.0</td>\n      <td>0.075</td>\n      <td>0.15</td>\n      <td>0.225</td>\n      <td>0.3</td>\n    </tr>\n    <tr>\n      <th>Y</th>\n      <td>4.0</td>\n      <td>1.5</td>\n      <td>1.290994</td>\n      <td>0.0</td>\n      <td>0.75</td>\n      <td>1.5</td>\n      <td>2.25</td>\n      <td>3.0</td>\n      <td>4.0</td>\n      <td>0.25</td>\n      <td>0.129099</td>\n      <td>0.1</td>\n      <td>0.175</td>\n      <td>0.25</td>\n      <td>0.325</td>\n      <td>0.4</td>\n    </tr>\n    <tr>\n      <th>Z</th>\n      <td>4.0</td>\n      <td>1.5</td>\n      <td>1.290994</td>\n      <td>0.0</td>\n      <td>0.75</td>\n      <td>1.5</td>\n      <td>2.25</td>\n      <td>3.0</td>\n      <td>4.0</td>\n      <td>0.00</td>\n      <td>0.000000</td>\n      <td>0.0</td>\n      <td>0.000</td>\n      <td>0.00</td>\n      <td>0.000</td>\n      <td>0.0</td>\n    </tr>\n  </tbody>\n</table>\n</div>"
     },
     "metadata": {},
     "execution_count": 18
    }
   ],
   "source": [
    "mcg.describe()"
   ]
  },
  {
   "cell_type": "code",
   "execution_count": 19,
   "metadata": {},
   "outputs": [
    {
     "output_type": "execute_result",
     "data": {
      "text/plain": [
       "                  interval  reading\n",
       "sensor      axis                   \n",
       "accel       X          1.5     0.85\n",
       "            Y          1.5     0.35\n",
       "            Z          1.5     0.15\n",
       "orientation X          1.5     0.15\n",
       "            Y          1.5     0.25\n",
       "            Z          1.5     0.00"
      ],
      "text/html": "<div>\n<style scoped>\n    .dataframe tbody tr th:only-of-type {\n        vertical-align: middle;\n    }\n\n    .dataframe tbody tr th {\n        vertical-align: top;\n    }\n\n    .dataframe thead th {\n        text-align: right;\n    }\n</style>\n<table border=\"1\" class=\"dataframe\">\n  <thead>\n    <tr style=\"text-align: right;\">\n      <th></th>\n      <th></th>\n      <th>interval</th>\n      <th>reading</th>\n    </tr>\n    <tr>\n      <th>sensor</th>\n      <th>axis</th>\n      <th></th>\n      <th></th>\n    </tr>\n  </thead>\n  <tbody>\n    <tr>\n      <th rowspan=\"3\" valign=\"top\">accel</th>\n      <th>X</th>\n      <td>1.5</td>\n      <td>0.85</td>\n    </tr>\n    <tr>\n      <th>Y</th>\n      <td>1.5</td>\n      <td>0.35</td>\n    </tr>\n    <tr>\n      <th>Z</th>\n      <td>1.5</td>\n      <td>0.15</td>\n    </tr>\n    <tr>\n      <th rowspan=\"3\" valign=\"top\">orientation</th>\n      <th>X</th>\n      <td>1.5</td>\n      <td>0.15</td>\n    </tr>\n    <tr>\n      <th>Y</th>\n      <td>1.5</td>\n      <td>0.25</td>\n    </tr>\n    <tr>\n      <th>Z</th>\n      <td>1.5</td>\n      <td>0.00</td>\n    </tr>\n  </tbody>\n</table>\n</div>"
     },
     "metadata": {},
     "execution_count": 19
    }
   ],
   "source": [
    "mcg.mean()"
   ]
  },
  {
   "cell_type": "code",
   "execution_count": 20,
   "metadata": {},
   "outputs": [
    {
     "output_type": "execute_result",
     "data": {
      "text/plain": [
       "                  interval  reading\n",
       "sensor      axis                   \n",
       "accel       Z            0      0.0\n",
       "            Y            0      0.5\n",
       "            X            0      1.0\n",
       "            Z            1      0.1\n",
       "            Y            1      0.4\n",
       "            X            1      0.9\n",
       "            Z            2      0.2\n",
       "            Y            2      0.3\n",
       "            X            2      0.8\n",
       "            Z            3      0.3\n",
       "            Y            3      0.2\n",
       "            X            3      0.7\n",
       "orientation Z            0      0.0\n",
       "            Y            0      0.1\n",
       "            X            0      0.0\n",
       "            Z            1      0.0\n",
       "            Y            1      0.2\n",
       "            X            1      0.1\n",
       "            Z            2      0.0\n",
       "            Y            2      0.3\n",
       "            X            2      0.2\n",
       "            Z            3      0.0\n",
       "            Y            3      0.4\n",
       "            X            3      0.3"
      ],
      "text/html": "<div>\n<style scoped>\n    .dataframe tbody tr th:only-of-type {\n        vertical-align: middle;\n    }\n\n    .dataframe tbody tr th {\n        vertical-align: top;\n    }\n\n    .dataframe thead th {\n        text-align: right;\n    }\n</style>\n<table border=\"1\" class=\"dataframe\">\n  <thead>\n    <tr style=\"text-align: right;\">\n      <th></th>\n      <th></th>\n      <th>interval</th>\n      <th>reading</th>\n    </tr>\n    <tr>\n      <th>sensor</th>\n      <th>axis</th>\n      <th></th>\n      <th></th>\n    </tr>\n  </thead>\n  <tbody>\n    <tr>\n      <th rowspan=\"12\" valign=\"top\">accel</th>\n      <th>Z</th>\n      <td>0</td>\n      <td>0.0</td>\n    </tr>\n    <tr>\n      <th>Y</th>\n      <td>0</td>\n      <td>0.5</td>\n    </tr>\n    <tr>\n      <th>X</th>\n      <td>0</td>\n      <td>1.0</td>\n    </tr>\n    <tr>\n      <th>Z</th>\n      <td>1</td>\n      <td>0.1</td>\n    </tr>\n    <tr>\n      <th>Y</th>\n      <td>1</td>\n      <td>0.4</td>\n    </tr>\n    <tr>\n      <th>X</th>\n      <td>1</td>\n      <td>0.9</td>\n    </tr>\n    <tr>\n      <th>Z</th>\n      <td>2</td>\n      <td>0.2</td>\n    </tr>\n    <tr>\n      <th>Y</th>\n      <td>2</td>\n      <td>0.3</td>\n    </tr>\n    <tr>\n      <th>X</th>\n      <td>2</td>\n      <td>0.8</td>\n    </tr>\n    <tr>\n      <th>Z</th>\n      <td>3</td>\n      <td>0.3</td>\n    </tr>\n    <tr>\n      <th>Y</th>\n      <td>3</td>\n      <td>0.2</td>\n    </tr>\n    <tr>\n      <th>X</th>\n      <td>3</td>\n      <td>0.7</td>\n    </tr>\n    <tr>\n      <th rowspan=\"12\" valign=\"top\">orientation</th>\n      <th>Z</th>\n      <td>0</td>\n      <td>0.0</td>\n    </tr>\n    <tr>\n      <th>Y</th>\n      <td>0</td>\n      <td>0.1</td>\n    </tr>\n    <tr>\n      <th>X</th>\n      <td>0</td>\n      <td>0.0</td>\n    </tr>\n    <tr>\n      <th>Z</th>\n      <td>1</td>\n      <td>0.0</td>\n    </tr>\n    <tr>\n      <th>Y</th>\n      <td>1</td>\n      <td>0.2</td>\n    </tr>\n    <tr>\n      <th>X</th>\n      <td>1</td>\n      <td>0.1</td>\n    </tr>\n    <tr>\n      <th>Z</th>\n      <td>2</td>\n      <td>0.0</td>\n    </tr>\n    <tr>\n      <th>Y</th>\n      <td>2</td>\n      <td>0.3</td>\n    </tr>\n    <tr>\n      <th>X</th>\n      <td>2</td>\n      <td>0.2</td>\n    </tr>\n    <tr>\n      <th>Z</th>\n      <td>3</td>\n      <td>0.0</td>\n    </tr>\n    <tr>\n      <th>Y</th>\n      <td>3</td>\n      <td>0.4</td>\n    </tr>\n    <tr>\n      <th>X</th>\n      <td>3</td>\n      <td>0.3</td>\n    </tr>\n  </tbody>\n</table>\n</div>"
     },
     "metadata": {},
     "execution_count": 20
    }
   ],
   "source": [
    "# Grouping using index levels\n",
    "mi = sensor_data.copy()\n",
    "mi = mi.set_index(['sensor', 'axis'])\n",
    "mi"
   ]
  },
  {
   "cell_type": "code",
   "execution_count": 20,
   "metadata": {},
   "outputs": [
    {
     "output_type": "execute_result",
     "data": {
      "text/plain": [
       "sensor\n",
       "accel          12\n",
       "orientation    12\n",
       "dtype: int64"
      ]
     },
     "metadata": {},
     "execution_count": 20
    }
   ],
   "source": [
    "mi.groupby(level=0).size()"
   ]
  },
  {
   "cell_type": "code",
   "execution_count": 21,
   "metadata": {},
   "outputs": [
    {
     "output_type": "execute_result",
     "data": {
      "text/plain": [
       "axis\n",
       "X    8\n",
       "Y    8\n",
       "Z    8\n",
       "dtype: int64"
      ]
     },
     "metadata": {},
     "execution_count": 21
    }
   ],
   "source": [
    "mi.groupby(level=1).size()"
   ]
  },
  {
   "cell_type": "code",
   "execution_count": 22,
   "metadata": {},
   "outputs": [
    {
     "output_type": "execute_result",
     "data": {
      "text/plain": [
       "sensor       axis\n",
       "accel        X       4\n",
       "             Y       4\n",
       "             Z       4\n",
       "orientation  X       4\n",
       "             Y       4\n",
       "             Z       4\n",
       "dtype: int64"
      ]
     },
     "metadata": {},
     "execution_count": 22
    }
   ],
   "source": [
    "mi.groupby(level=['sensor', 'axis']).size()"
   ]
  },
  {
   "cell_type": "code",
   "execution_count": 23,
   "metadata": {},
   "outputs": [
    {
     "output_type": "stream",
     "name": "stdout",
     "text": [
      "1.13 ms ± 2.56 µs per loop (mean ± std. dev. of 7 runs, 1000 loops each)\n"
     ]
    }
   ],
   "source": [
    "%timeit mi.groupby(level=['sensor', 'axis']).mean()"
   ]
  },
  {
   "cell_type": "code",
   "execution_count": 24,
   "metadata": {},
   "outputs": [
    {
     "output_type": "stream",
     "name": "stdout",
     "text": [
      "1.58 ms ± 6.08 µs per loop (mean ± std. dev. of 7 runs, 1000 loops each)\n"
     ]
    }
   ],
   "source": [
    "%timeit sensor_data.groupby(['sensor', 'axis']).agg(np.mean)"
   ]
  },
  {
   "cell_type": "code",
   "execution_count": 25,
   "metadata": {},
   "outputs": [
    {
     "output_type": "execute_result",
     "data": {
      "text/plain": [
       "                 interval           reading          \n",
       "                      sum       std     sum       std\n",
       "sensor      axis                                     \n",
       "accel       X           6  1.290994     3.4  0.129099\n",
       "            Y           6  1.290994     1.4  0.129099\n",
       "            Z           6  1.290994     0.6  0.129099\n",
       "orientation X           6  1.290994     0.6  0.129099\n",
       "            Y           6  1.290994     1.0  0.129099\n",
       "            Z           6  1.290994     0.0  0.000000"
      ],
      "text/html": "<div>\n<style scoped>\n    .dataframe tbody tr th:only-of-type {\n        vertical-align: middle;\n    }\n\n    .dataframe tbody tr th {\n        vertical-align: top;\n    }\n\n    .dataframe thead tr th {\n        text-align: left;\n    }\n\n    .dataframe thead tr:last-of-type th {\n        text-align: right;\n    }\n</style>\n<table border=\"1\" class=\"dataframe\">\n  <thead>\n    <tr>\n      <th></th>\n      <th></th>\n      <th colspan=\"2\" halign=\"left\">interval</th>\n      <th colspan=\"2\" halign=\"left\">reading</th>\n    </tr>\n    <tr>\n      <th></th>\n      <th></th>\n      <th>sum</th>\n      <th>std</th>\n      <th>sum</th>\n      <th>std</th>\n    </tr>\n    <tr>\n      <th>sensor</th>\n      <th>axis</th>\n      <th></th>\n      <th></th>\n      <th></th>\n      <th></th>\n    </tr>\n  </thead>\n  <tbody>\n    <tr>\n      <td rowspan=\"3\" valign=\"top\">accel</td>\n      <td>X</td>\n      <td>6</td>\n      <td>1.290994</td>\n      <td>3.4</td>\n      <td>0.129099</td>\n    </tr>\n    <tr>\n      <td>Y</td>\n      <td>6</td>\n      <td>1.290994</td>\n      <td>1.4</td>\n      <td>0.129099</td>\n    </tr>\n    <tr>\n      <td>Z</td>\n      <td>6</td>\n      <td>1.290994</td>\n      <td>0.6</td>\n      <td>0.129099</td>\n    </tr>\n    <tr>\n      <td rowspan=\"3\" valign=\"top\">orientation</td>\n      <td>X</td>\n      <td>6</td>\n      <td>1.290994</td>\n      <td>0.6</td>\n      <td>0.129099</td>\n    </tr>\n    <tr>\n      <td>Y</td>\n      <td>6</td>\n      <td>1.290994</td>\n      <td>1.0</td>\n      <td>0.129099</td>\n    </tr>\n    <tr>\n      <td>Z</td>\n      <td>6</td>\n      <td>1.290994</td>\n      <td>0.0</td>\n      <td>0.000000</td>\n    </tr>\n  </tbody>\n</table>\n</div>"
     },
     "metadata": {},
     "execution_count": 25
    }
   ],
   "source": [
    "# apply multiple aggregation functions at once\n",
    "sensor_data.groupby(['sensor', 'axis']).agg([np.sum, np.std])"
   ]
  },
  {
   "cell_type": "code",
   "execution_count": 26,
   "metadata": {},
   "outputs": [
    {
     "output_type": "execute_result",
     "data": {
      "text/plain": [
       "  Label  Values\n",
       "0     A    10.0\n",
       "1     B    20.0\n",
       "2     A    11.0\n",
       "3     B     NaN\n",
       "4     A    12.0\n",
       "5     B    22.0"
      ],
      "text/html": "<div>\n<style scoped>\n    .dataframe tbody tr th:only-of-type {\n        vertical-align: middle;\n    }\n\n    .dataframe tbody tr th {\n        vertical-align: top;\n    }\n\n    .dataframe thead th {\n        text-align: right;\n    }\n</style>\n<table border=\"1\" class=\"dataframe\">\n  <thead>\n    <tr style=\"text-align: right;\">\n      <th></th>\n      <th>Label</th>\n      <th>Values</th>\n    </tr>\n  </thead>\n  <tbody>\n    <tr>\n      <td>0</td>\n      <td>A</td>\n      <td>10.0</td>\n    </tr>\n    <tr>\n      <td>1</td>\n      <td>B</td>\n      <td>20.0</td>\n    </tr>\n    <tr>\n      <td>2</td>\n      <td>A</td>\n      <td>11.0</td>\n    </tr>\n    <tr>\n      <td>3</td>\n      <td>B</td>\n      <td>NaN</td>\n    </tr>\n    <tr>\n      <td>4</td>\n      <td>A</td>\n      <td>12.0</td>\n    </tr>\n    <tr>\n      <td>5</td>\n      <td>B</td>\n      <td>22.0</td>\n    </tr>\n  </tbody>\n</table>\n</div>"
     },
     "metadata": {},
     "execution_count": 26
    }
   ],
   "source": [
    "df = pd.DataFrame({ 'Label': list(\"ABABAB\"),'Values': [10, 20, 11, np.nan, 12, 22]})\n",
    "df"
   ]
  },
  {
   "cell_type": "code",
   "execution_count": 27,
   "metadata": {},
   "outputs": [
    {
     "output_type": "execute_result",
     "data": {
      "text/plain": [
       "       Values\n",
       "Label        \n",
       "A        11.0\n",
       "B        21.0"
      ],
      "text/html": "<div>\n<style scoped>\n    .dataframe tbody tr th:only-of-type {\n        vertical-align: middle;\n    }\n\n    .dataframe tbody tr th {\n        vertical-align: top;\n    }\n\n    .dataframe thead th {\n        text-align: right;\n    }\n</style>\n<table border=\"1\" class=\"dataframe\">\n  <thead>\n    <tr style=\"text-align: right;\">\n      <th></th>\n      <th>Values</th>\n    </tr>\n    <tr>\n      <th>Label</th>\n      <th></th>\n    </tr>\n  </thead>\n  <tbody>\n    <tr>\n      <td>A</td>\n      <td>11.0</td>\n    </tr>\n    <tr>\n      <td>B</td>\n      <td>21.0</td>\n    </tr>\n  </tbody>\n</table>\n</div>"
     },
     "metadata": {},
     "execution_count": 27
    }
   ],
   "source": [
    "#pd忽略na\n",
    "df.groupby(['Label']).mean()"
   ]
  },
  {
   "cell_type": "code",
   "execution_count": 28,
   "metadata": {},
   "outputs": [
    {
     "output_type": "execute_result",
     "data": {
      "text/plain": [
       "       Values\n",
       "Label        \n",
       "A        11.0\n",
       "B         NaN"
      ],
      "text/html": "<div>\n<style scoped>\n    .dataframe tbody tr th:only-of-type {\n        vertical-align: middle;\n    }\n\n    .dataframe tbody tr th {\n        vertical-align: top;\n    }\n\n    .dataframe thead th {\n        text-align: right;\n    }\n</style>\n<table border=\"1\" class=\"dataframe\">\n  <thead>\n    <tr style=\"text-align: right;\">\n      <th></th>\n      <th>Values</th>\n    </tr>\n    <tr>\n      <th>Label</th>\n      <th></th>\n    </tr>\n  </thead>\n  <tbody>\n    <tr>\n      <td>A</td>\n      <td>11.0</td>\n    </tr>\n    <tr>\n      <td>B</td>\n      <td>NaN</td>\n    </tr>\n  </tbody>\n</table>\n</div>"
     },
     "metadata": {},
     "execution_count": 28
    }
   ],
   "source": [
    "#要這樣寫才不會忽略na\n",
    "df.groupby(['Label']).agg(lambda x: x.mean(skipna=False))"
   ]
  },
  {
   "cell_type": "code",
   "execution_count": 29,
   "metadata": {},
   "outputs": [
    {
     "output_type": "execute_result",
     "data": {
      "text/plain": [
       "  Label  Values\n",
       "0     A    10.0\n",
       "1     B    20.0\n",
       "2     A    11.0\n",
       "3     B    21.0\n",
       "4     A    12.0\n",
       "5     B    22.0"
      ],
      "text/html": "<div>\n<style scoped>\n    .dataframe tbody tr th:only-of-type {\n        vertical-align: middle;\n    }\n\n    .dataframe tbody tr th {\n        vertical-align: top;\n    }\n\n    .dataframe thead th {\n        text-align: right;\n    }\n</style>\n<table border=\"1\" class=\"dataframe\">\n  <thead>\n    <tr style=\"text-align: right;\">\n      <th></th>\n      <th>Label</th>\n      <th>Values</th>\n    </tr>\n  </thead>\n  <tbody>\n    <tr>\n      <td>0</td>\n      <td>A</td>\n      <td>10.0</td>\n    </tr>\n    <tr>\n      <td>1</td>\n      <td>B</td>\n      <td>20.0</td>\n    </tr>\n    <tr>\n      <td>2</td>\n      <td>A</td>\n      <td>11.0</td>\n    </tr>\n    <tr>\n      <td>3</td>\n      <td>B</td>\n      <td>21.0</td>\n    </tr>\n    <tr>\n      <td>4</td>\n      <td>A</td>\n      <td>12.0</td>\n    </tr>\n    <tr>\n      <td>5</td>\n      <td>B</td>\n      <td>22.0</td>\n    </tr>\n  </tbody>\n</table>\n</div>"
     },
     "metadata": {},
     "execution_count": 29
    }
   ],
   "source": [
    "#處理na的一些作法\n",
    "#(22+20)*1/2\n",
    "df['Values'] = df.groupby(['Label']).transform(lambda x: x.fillna(x.mean()))\n",
    "df"
   ]
  },
  {
   "cell_type": "code",
   "execution_count": 22,
   "metadata": {},
   "outputs": [
    {
     "output_type": "execute_result",
     "data": {
      "text/plain": [
       "  Label  Values\n",
       "0     A     1.0\n",
       "1     A     2.0\n",
       "2     B     3.0\n",
       "3     C     4.0\n",
       "4     C     NaN\n",
       "5     C     8.0"
      ],
      "text/html": "<div>\n<style scoped>\n    .dataframe tbody tr th:only-of-type {\n        vertical-align: middle;\n    }\n\n    .dataframe tbody tr th {\n        vertical-align: top;\n    }\n\n    .dataframe thead th {\n        text-align: right;\n    }\n</style>\n<table border=\"1\" class=\"dataframe\">\n  <thead>\n    <tr style=\"text-align: right;\">\n      <th></th>\n      <th>Label</th>\n      <th>Values</th>\n    </tr>\n  </thead>\n  <tbody>\n    <tr>\n      <th>0</th>\n      <td>A</td>\n      <td>1.0</td>\n    </tr>\n    <tr>\n      <th>1</th>\n      <td>A</td>\n      <td>2.0</td>\n    </tr>\n    <tr>\n      <th>2</th>\n      <td>B</td>\n      <td>3.0</td>\n    </tr>\n    <tr>\n      <th>3</th>\n      <td>C</td>\n      <td>4.0</td>\n    </tr>\n    <tr>\n      <th>4</th>\n      <td>C</td>\n      <td>NaN</td>\n    </tr>\n    <tr>\n      <th>5</th>\n      <td>C</td>\n      <td>8.0</td>\n    </tr>\n  </tbody>\n</table>\n</div>"
     },
     "metadata": {},
     "execution_count": 22
    }
   ],
   "source": [
    "# Filtering groups\n",
    "df = pd.DataFrame({'Label': list('AABCCC'),'Values': [1, 2, 3, 4, np.nan, 8]})\n",
    "df"
   ]
  },
  {
   "cell_type": "code",
   "execution_count": 23,
   "metadata": {},
   "outputs": [
    {
     "output_type": "execute_result",
     "data": {
      "text/plain": [
       "  Label  Values\n",
       "0     A     1.0\n",
       "1     A     2.0\n",
       "3     C     4.0\n",
       "4     C     NaN\n",
       "5     C     8.0"
      ],
      "text/html": "<div>\n<style scoped>\n    .dataframe tbody tr th:only-of-type {\n        vertical-align: middle;\n    }\n\n    .dataframe tbody tr th {\n        vertical-align: top;\n    }\n\n    .dataframe thead th {\n        text-align: right;\n    }\n</style>\n<table border=\"1\" class=\"dataframe\">\n  <thead>\n    <tr style=\"text-align: right;\">\n      <th></th>\n      <th>Label</th>\n      <th>Values</th>\n    </tr>\n  </thead>\n  <tbody>\n    <tr>\n      <th>0</th>\n      <td>A</td>\n      <td>1.0</td>\n    </tr>\n    <tr>\n      <th>1</th>\n      <td>A</td>\n      <td>2.0</td>\n    </tr>\n    <tr>\n      <th>3</th>\n      <td>C</td>\n      <td>4.0</td>\n    </tr>\n    <tr>\n      <th>4</th>\n      <td>C</td>\n      <td>NaN</td>\n    </tr>\n    <tr>\n      <th>5</th>\n      <td>C</td>\n      <td>8.0</td>\n    </tr>\n  </tbody>\n</table>\n</div>"
     },
     "metadata": {},
     "execution_count": 23
    }
   ],
   "source": [
    "f = lambda x: x.Values.count() > 1\n",
    "df.groupby('Label').filter(f) #Label B Bye~"
   ]
  },
  {
   "cell_type": "code",
   "execution_count": 35,
   "metadata": {},
   "outputs": [
    {
     "output_type": "execute_result",
     "data": {
      "text/plain": [
       "  Label  Values\n",
       "0     A     1.0\n",
       "1     A     2.0\n",
       "2     B     3.0"
      ],
      "text/html": "<div>\n<style scoped>\n    .dataframe tbody tr th:only-of-type {\n        vertical-align: middle;\n    }\n\n    .dataframe tbody tr th {\n        vertical-align: top;\n    }\n\n    .dataframe thead th {\n        text-align: right;\n    }\n</style>\n<table border=\"1\" class=\"dataframe\">\n  <thead>\n    <tr style=\"text-align: right;\">\n      <th></th>\n      <th>Label</th>\n      <th>Values</th>\n    </tr>\n  </thead>\n  <tbody>\n    <tr>\n      <td>0</td>\n      <td>A</td>\n      <td>1.0</td>\n    </tr>\n    <tr>\n      <td>1</td>\n      <td>A</td>\n      <td>2.0</td>\n    </tr>\n    <tr>\n      <td>2</td>\n      <td>B</td>\n      <td>3.0</td>\n    </tr>\n  </tbody>\n</table>\n</div>"
     },
     "metadata": {},
     "execution_count": 35
    }
   ],
   "source": [
    "f = lambda x: x.Values.isnull().sum() == 0\n",
    "df.groupby('Label').filter(f) #Label C Bye~"
   ]
  }
 ]
}