{
 "metadata": {
  "language_info": {
   "codemirror_mode": {
    "name": "ipython",
    "version": 3
   },
   "file_extension": ".py",
   "mimetype": "text/x-python",
   "name": "python",
   "nbconvert_exporter": "python",
   "pygments_lexer": "ipython3",
   "version": "3.7.4-final"
  },
  "orig_nbformat": 2,
  "kernelspec": {
   "name": "python3",
   "display_name": "Python 3"
  }
 },
 "nbformat": 4,
 "nbformat_minor": 2,
 "cells": [
  {
   "cell_type": "code",
   "execution_count": 1,
   "metadata": {},
   "outputs": [
    {
     "output_type": "execute_result",
     "data": {
      "text/plain": "['c', 'a', 't']"
     },
     "metadata": {},
     "execution_count": 1
    }
   ],
   "source": [
    "list('cat')"
   ]
  },
  {
   "cell_type": "code",
   "execution_count": 2,
   "metadata": {},
   "outputs": [
    {
     "output_type": "execute_result",
     "data": {
      "text/plain": "['orange', 'banana', 'apple']"
     },
     "metadata": {},
     "execution_count": 2
    }
   ],
   "source": [
    "fruit = ['apple', 'banana', 'orange']\n",
    "fruit[::-1]"
   ]
  },
  {
   "cell_type": "code",
   "execution_count": 3,
   "metadata": {
    "tags": []
   },
   "outputs": [
    {
     "output_type": "stream",
     "name": "stdout",
     "text": "['apple', 'banana', 'orange', 'watermelon']\n"
    }
   ],
   "source": [
    "fruit = ['apple', 'banana', 'orange']\n",
    "fruit.append('watermelon')\n",
    "print(fruit)"
   ]
  },
  {
   "cell_type": "code",
   "execution_count": 4,
   "metadata": {
    "tags": []
   },
   "outputs": [
    {
     "output_type": "stream",
     "name": "stdout",
     "text": "['apple', 'banana', 'orange', ['BMW', 'Mercedes']]\n"
    }
   ],
   "source": [
    "fruit = ['apple', 'banana', 'orange']\n",
    "car = ['BMW', 'Mercedes']\n",
    "fruit.append(car)\n",
    "print(fruit)"
   ]
  },
  {
   "cell_type": "code",
   "execution_count": 5,
   "metadata": {
    "tags": []
   },
   "outputs": [
    {
     "output_type": "stream",
     "name": "stdout",
     "text": "['apple', 'banana', 'orange', 'BMW', 'Mercedes']\n"
    }
   ],
   "source": [
    "fruit = ['apple', 'banana', 'orange']\n",
    "car = ['BMW', 'Mercedes']\n",
    "fruit.extend(car)\n",
    "print(fruit)"
   ]
  },
  {
   "cell_type": "code",
   "execution_count": 6,
   "metadata": {
    "tags": []
   },
   "outputs": [
    {
     "output_type": "stream",
     "name": "stdout",
     "text": "['apple', 'banana', ['BMW', 'Mercedes'], 'orange']\n"
    }
   ],
   "source": [
    "fruit = ['apple', 'banana', 'orange']\n",
    "car = ['BMW', 'Mercedes']\n",
    "fruit.insert(2,car)\n",
    "print(fruit)"
   ]
  },
  {
   "cell_type": "code",
   "execution_count": 7,
   "metadata": {
    "tags": []
   },
   "outputs": [
    {
     "output_type": "stream",
     "name": "stdout",
     "text": "['apple', 'orange']\n"
    }
   ],
   "source": [
    "fruit = ['apple', 'banana', 'orange']\n",
    "del fruit[1]\n",
    "print(fruit)"
   ]
  },
  {
   "cell_type": "code",
   "execution_count": 8,
   "metadata": {
    "tags": []
   },
   "outputs": [
    {
     "output_type": "stream",
     "name": "stdout",
     "text": "['banana', 'orange']\n"
    }
   ],
   "source": [
    "fruit = ['apple', 'banana', 'orange']\n",
    "fruit.remove('apple')\n",
    "print(fruit)"
   ]
  },
  {
   "cell_type": "code",
   "execution_count": 9,
   "metadata": {
    "tags": []
   },
   "outputs": [
    {
     "output_type": "stream",
     "name": "stdout",
     "text": "['apple', 'banana']\n"
    }
   ],
   "source": [
    "fruit = ['apple', 'banana', 'orange']\n",
    "fruit.pop()\n",
    "print(fruit)"
   ]
  },
  {
   "cell_type": "code",
   "execution_count": 10,
   "metadata": {
    "tags": []
   },
   "outputs": [
    {
     "output_type": "stream",
     "name": "stdout",
     "text": "2\n"
    }
   ],
   "source": [
    "fruit = ['apple', 'banana', 'orange','orange']\n",
    "a = fruit.count('orange')\n",
    "print(a)"
   ]
  },
  {
   "cell_type": "code",
   "execution_count": 11,
   "metadata": {},
   "outputs": [
    {
     "output_type": "execute_result",
     "data": {
      "text/plain": "['a', 'b', 'c', 'd']"
     },
     "metadata": {},
     "execution_count": 11
    }
   ],
   "source": [
    "#sort直接改\n",
    "l = ['a', 'c', 'd', 'b']\n",
    "l.sort()\n",
    "l"
   ]
  },
  {
   "cell_type": "code",
   "execution_count": 12,
   "metadata": {
    "tags": []
   },
   "outputs": [
    {
     "output_type": "stream",
     "name": "stdout",
     "text": "['a', 'c', 'd', 'b'] ['a', 'b', 'c', 'd']\n"
    }
   ],
   "source": [
    "#sorted回傳副本\n",
    "old = ['a', 'c', 'd', 'b']\n",
    "new = sorted(l)\n",
    "print(old, new)"
   ]
  },
  {
   "cell_type": "code",
   "execution_count": 13,
   "metadata": {},
   "outputs": [],
   "source": [
    "#sort直接改\n",
    "l = ['a', 'c', 'd', 'b']\n",
    "l.sort(reverse=True)"
   ]
  },
  {
   "cell_type": "code",
   "execution_count": 14,
   "metadata": {
    "tags": []
   },
   "outputs": [
    {
     "output_type": "stream",
     "name": "stdout",
     "text": "['apple', '讚', 'orange', 'orange']\n"
    }
   ],
   "source": [
    "#old跟new的ref一樣\n",
    "old = ['apple', 'banana', 'orange','orange']\n",
    "new = old\n",
    "old[1] = '讚'\n",
    "print(new)"
   ]
  },
  {
   "cell_type": "code",
   "execution_count": 15,
   "metadata": {
    "tags": []
   },
   "outputs": [
    {
     "output_type": "stream",
     "name": "stdout",
     "text": "['apple', '讚', 'orange', 'orange'] ['apple', 'banana', 'orange', 'orange'] ['apple', 'banana', 'orange', 'orange'] ['banana', 'orange', 'orange']\n"
    }
   ],
   "source": [
    "#製作副本方法:\n",
    "#copy() list() l[1:5:1]\n",
    "old = ['apple', 'banana', 'orange','orange']\n",
    "new1 = old.copy()\n",
    "new2 = list(old)\n",
    "new3 = old[1:]\n",
    "old[1] = '讚'\n",
    "print(old, new1, new2, new3)"
   ]
  },
  {
   "cell_type": "code",
   "execution_count": 1,
   "metadata": {
    "tags": []
   },
   "outputs": [
    {
     "output_type": "stream",
     "name": "stdout",
     "text": "apple orange\n"
    }
   ],
   "source": [
    "#tuple unpacking\n",
    "fruit = ('apple', 'banana', 'orange','orange')\n",
    "a,_,c,_ = fruit\n",
    "print(a,c)"
   ]
  },
  {
   "cell_type": "code",
   "execution_count": 6,
   "metadata": {},
   "outputs": [
    {
     "output_type": "execute_result",
     "data": {
      "text/plain": "('inman', 2020)"
     },
     "metadata": {},
     "execution_count": 6
    }
   ],
   "source": [
    "data = ['inman', 27, (2020,5,30)]\n",
    "name, age, (year, month, day) = data\n",
    "name, year"
   ]
  },
  {
   "cell_type": "code",
   "execution_count": 1,
   "metadata": {},
   "outputs": [
    {
     "output_type": "execute_result",
     "data": {
      "text/plain": "[2, 3, 4, 5, 6, 7, 8]"
     },
     "metadata": {},
     "execution_count": 1
    }
   ],
   "source": [
    "l = range(1,10)\n",
    "first, *middle, last = l\n",
    "middle"
   ]
  },
  {
   "cell_type": "code",
   "execution_count": 3,
   "metadata": {},
   "outputs": [
    {
     "output_type": "execute_result",
     "data": {
      "text/plain": "32"
     },
     "metadata": {},
     "execution_count": 3
    }
   ],
   "source": [
    "l = [32, 434, 53, 45]\n",
    "head, *last = l\n",
    "head"
   ]
  },
  {
   "cell_type": "code",
   "execution_count": 4,
   "metadata": {},
   "outputs": [
    {
     "output_type": "execute_result",
     "data": {
      "text/plain": "(myFriend(name='inman', age=22), 'inman', 22, 'inman', 22)"
     },
     "metadata": {},
     "execution_count": 4
    }
   ],
   "source": [
    "#namedtuple\n",
    "from collections import namedtuple\n",
    "friend = namedtuple('myFriend',['name','age'])\n",
    "#friend = namedtuple('myfriend', 'name age')也可\n",
    "f1 = friend('inman',22)\n",
    "f1, f1.name, f1.age, f1[0], f1[1]"
   ]
  },
  {
   "cell_type": "code",
   "execution_count": 6,
   "metadata": {},
   "outputs": [
    {
     "output_type": "execute_result",
     "data": {
      "text/plain": "(('name', 'age'), OrderedDict([('name', 'inman'), ('age', 22)]))"
     },
     "metadata": {},
     "execution_count": 6
    }
   ],
   "source": [
    "f1._fields, f1._asdict()"
   ]
  },
  {
   "cell_type": "code",
   "execution_count": 17,
   "metadata": {},
   "outputs": [
    {
     "output_type": "execute_result",
     "data": {
      "text/plain": "True"
     },
     "metadata": {},
     "execution_count": 17
    }
   ],
   "source": [
    "a = {'a': 'apple', 'b':'banana'}\n",
    "b = dict( [('a','apple'),('b','banana')] )\n",
    "a == b"
   ]
  },
  {
   "cell_type": "code",
   "execution_count": 18,
   "metadata": {
    "tags": []
   },
   "outputs": [
    {
     "output_type": "stream",
     "name": "stdout",
     "text": "{'id': 'inman', 'age': '23', 'gender': 'girl'} {'id': 'inman', 'age': '23'} {'id': 'inman', 'age': '23', 'gender': 'male'} {'id': 'inman', 'age': '23', 'gender': 'girl'}\n"
    }
   ],
   "source": [
    "a = {'id':'inman', 'age':'23'}\n",
    "b = dict(a)\n",
    "c = {'gender':'male'}\n",
    "a.update(c)\n",
    "d = dict(a)\n",
    "e = {'id':'inman', 'age':'23','gender':'girl'}\n",
    "a.update(e)\n",
    "f = dict(a)\n",
    "\n",
    "print(a, b, d, f)"
   ]
  },
  {
   "cell_type": "code",
   "execution_count": 22,
   "metadata": {},
   "outputs": [
    {
     "output_type": "execute_result",
     "data": {
      "text/plain": "{}"
     },
     "metadata": {},
     "execution_count": 22
    }
   ],
   "source": [
    "a = {'a': 'apple', 'b':'banana'}\n",
    "a.clear()\n",
    "a"
   ]
  },
  {
   "cell_type": "code",
   "execution_count": 24,
   "metadata": {},
   "outputs": [
    {
     "output_type": "execute_result",
     "data": {
      "text/plain": "'banana'"
     },
     "metadata": {},
     "execution_count": 24
    }
   ],
   "source": [
    "a = {'a': 'apple', 'b':'banana'}\n",
    "a.get('b')"
   ]
  },
  {
   "cell_type": "code",
   "execution_count": 26,
   "metadata": {},
   "outputs": [
    {
     "output_type": "execute_result",
     "data": {
      "text/plain": "'沒c的話'"
     },
     "metadata": {},
     "execution_count": 26
    }
   ],
   "source": [
    "a = {'a': 'apple', 'b':'banana'}\n",
    "a.get('c','沒c的話')"
   ]
  },
  {
   "cell_type": "code",
   "execution_count": 33,
   "metadata": {},
   "outputs": [
    {
     "output_type": "execute_result",
     "data": {
      "text/plain": "dict_keys(['a', 'b'])"
     },
     "metadata": {},
     "execution_count": 33
    }
   ],
   "source": [
    "a = {'a': 'apple', 'b':'banana'}\n",
    "a.keys()"
   ]
  },
  {
   "cell_type": "code",
   "execution_count": 35,
   "metadata": {},
   "outputs": [
    {
     "output_type": "execute_result",
     "data": {
      "text/plain": "dict_values(['apple', 'banana'])"
     },
     "metadata": {},
     "execution_count": 35
    }
   ],
   "source": [
    "a = {'a': 'apple', 'b':'banana'}\n",
    "a.values()"
   ]
  },
  {
   "cell_type": "code",
   "execution_count": 37,
   "metadata": {},
   "outputs": [
    {
     "output_type": "execute_result",
     "data": {
      "text/plain": "dict_items([('a', 'apple'), ('b', 'banana')])"
     },
     "metadata": {},
     "execution_count": 37
    }
   ],
   "source": [
    "a = {'a': 'apple', 'b':'banana'}\n",
    "a.items()"
   ]
  },
  {
   "cell_type": "code",
   "execution_count": 1,
   "metadata": {
    "tags": []
   },
   "outputs": [
    {
     "output_type": "stream",
     "name": "stdout",
     "text": "{'a': 'apple', 'b': 'banana', 'c': 'cookie'} {'a': 'apple', 'b': 'banana', 'c': 'cookie'} {'a': 'apple', 'b': 'banana'}\n"
    }
   ],
   "source": [
    "a = {'a': 'apple', 'b':'banana'}\n",
    "b = a\n",
    "c = a.copy()\n",
    "a['c']='cookie'\n",
    "print(a, b, c)"
   ]
  },
  {
   "cell_type": "code",
   "execution_count": 9,
   "metadata": {},
   "outputs": [
    {
     "output_type": "execute_result",
     "data": {
      "text/plain": "({'a': 'apple', 'b': 'banana', 'c': 'cindy'},\n {'a': 'apple', 'b': 'banana', 'c': 'cindy'})"
     },
     "metadata": {},
     "execution_count": 9
    }
   ],
   "source": [
    "a = {'a': 'apple', 'b':'banana'}\n",
    "a.setdefault('c','cindy')\n",
    "b = a\n",
    "a.setdefault('a','amazon')#已經存在的鍵就無效\n",
    "c = a\n",
    "b, c"
   ]
  },
  {
   "cell_type": "code",
   "execution_count": 15,
   "metadata": {},
   "outputs": [
    {
     "output_type": "execute_result",
     "data": {
      "text/plain": "defaultdict(str, {'a': 'apple', 'b': ''})"
     },
     "metadata": {},
     "execution_count": 15
    }
   ],
   "source": [
    "from collections import defaultdict\n",
    "a = defaultdict(str)#預設為空字串\n",
    "a['a']='apple'\n",
    "a['b']\n",
    "a"
   ]
  },
  {
   "cell_type": "code",
   "execution_count": 17,
   "metadata": {},
   "outputs": [
    {
     "output_type": "execute_result",
     "data": {
      "text/plain": "defaultdict(int, {'a': 2, 'b': 0})"
     },
     "metadata": {},
     "execution_count": 17
    }
   ],
   "source": [
    "from collections import defaultdict\n",
    "a = defaultdict(int)#預設為整數0\n",
    "a['a']=2\n",
    "a['b']\n",
    "a"
   ]
  },
  {
   "cell_type": "code",
   "execution_count": 30,
   "metadata": {},
   "outputs": [
    {
     "output_type": "execute_result",
     "data": {
      "text/plain": "defaultdict(int, {'apple': 1, 'egg': 2, 'banana': 1})"
     },
     "metadata": {},
     "execution_count": 30
    }
   ],
   "source": [
    "#用defaultdict製作簡易計數器\n",
    "from collections import defaultdict\n",
    "a = defaultdict(int)\n",
    "l = ['apple','egg','egg','banana']\n",
    "for i in l:\n",
    "    a[i] += 1\n",
    "a"
   ]
  },
  {
   "cell_type": "code",
   "execution_count": 47,
   "metadata": {
    "tags": []
   },
   "outputs": [
    {
     "output_type": "execute_result",
     "data": {
      "text/plain": "OrderedDict([('a', 'apple'),\n             ('b', 'banana'),\n             ('c', 'can'),\n             ('d', 'dog'),\n             ('e', 'egg')])"
     },
     "metadata": {},
     "execution_count": 47
    }
   ],
   "source": [
    "from collections import OrderedDict\n",
    "orderDict = OrderedDict({'a':'apple','b':'banana','c':'can','d':\"dog\",'e':'egg'})\n",
    "orderDict"
   ]
  },
  {
   "cell_type": "code",
   "execution_count": 12,
   "metadata": {},
   "outputs": [
    {
     "output_type": "execute_result",
     "data": {
      "text/plain": "Counter({'apple': 1, 'egg': 3, 'banana': 2})"
     },
     "metadata": {},
     "execution_count": 12
    }
   ],
   "source": [
    "#Counter\n",
    "from collections import Counter\n",
    "l = ['apple','egg','egg','egg','banana','banana']\n",
    "Counter(l)"
   ]
  },
  {
   "cell_type": "code",
   "execution_count": 17,
   "metadata": {},
   "outputs": [
    {
     "output_type": "execute_result",
     "data": {
      "text/plain": "([('egg', 3), ('banana', 2)], [('egg', 3)])"
     },
     "metadata": {},
     "execution_count": 17
    }
   ],
   "source": [
    "from collections import Counter\n",
    "l = ['apple','egg','egg','egg','banana','banana']\n",
    "foodCounter = Counter(l)\n",
    "foodCounter.most_common(2), foodCounter.most_common(1)"
   ]
  },
  {
   "cell_type": "code",
   "execution_count": 1,
   "metadata": {
    "tags": []
   },
   "outputs": [
    {
     "output_type": "stream",
     "name": "stdout",
     "text": "add Counter({'egg': 5, 'banana': 3, 'apple': 2}) \n diff Counter({'egg': 1, 'banana': 1}) \n union Counter({'egg': 3, 'banana': 2, 'apple': 1}) \n intersect Counter({'egg': 2, 'apple': 1, 'banana': 1})\n"
    }
   ],
   "source": [
    "from collections import Counter\n",
    "l1 = ['apple','egg','egg','egg','banana','banana']\n",
    "l2 = ['apple','banana','egg','egg']\n",
    "l1Counter = Counter(l1)\n",
    "l2Counter = Counter(l2)\n",
    "addCounter =  l1Counter + l2Counter\n",
    "diffCounter = l1Counter - l2Counter\n",
    "unionCounter = l1Counter | l2Counter\n",
    "intersectCounter = l1Counter & l2Counter\n",
    "print('add',addCounter,'\\n', 'diff', diffCounter,'\\n','union',unionCounter,'\\n','intersect',intersectCounter)"
   ]
  },
  {
   "cell_type": "code",
   "execution_count": 20,
   "metadata": {},
   "outputs": [
    {
     "output_type": "execute_result",
     "data": {
      "text/plain": "([9, 8, 6], [2, 2, 3])"
     },
     "metadata": {},
     "execution_count": 20
    }
   ],
   "source": [
    "import heapq\n",
    "import random\n",
    "nums = [ random.randint(1, 10) for i in range(1,10) ]\n",
    "heapq.nlargest(3, nums), heapq.nsmallest(3, nums)"
   ]
  },
  {
   "cell_type": "code",
   "execution_count": 43,
   "metadata": {},
   "outputs": [],
   "source": [
    "empty_dict1 = {}\n",
    "empty_dict2 = dict()\n",
    "empty_set = set()"
   ]
  },
  {
   "cell_type": "code",
   "execution_count": 46,
   "metadata": {},
   "outputs": [
    {
     "output_type": "execute_result",
     "data": {
      "text/plain": "{'a', 'e', 'l', 'p'}"
     },
     "metadata": {},
     "execution_count": 46
    }
   ],
   "source": [
    "l = ['a', 'p', 'p', 'l', 'e']\n",
    "set(l)"
   ]
  },
  {
   "cell_type": "code",
   "execution_count": 4,
   "metadata": {
    "tags": []
   },
   "outputs": [
    {
     "output_type": "stream",
     "name": "stdout",
     "text": "intersection:  {'我', '誰'} difference: {'誰'} union:  {'你', '誰', '我', '他'}\n"
    }
   ],
   "source": [
    "ch1 = {'我', '你', '他'}\n",
    "ch2 = {'我', '是', '誰'}\n",
    "ch3 = {'你', '好', '嗎'}\n",
    "ch4 = {'你', '誰', '我'}\n",
    "\n",
    "print('intersection: ',ch2 & ch4,'difference:', ch4 - ch1, 'union: ', ch1 | ch4 )"
   ]
  },
  {
   "cell_type": "code",
   "execution_count": 9,
   "metadata": {
    "tags": []
   },
   "outputs": [
    {
     "output_type": "stream",
     "name": "stdout",
     "text": "ch1\n"
    }
   ],
   "source": [
    "chs ={\n",
    "'ch1' : {'我', '你', '他'},\n",
    "'ch2' : {'我', '是', '誰'},\n",
    "'ch3' : {'你', '好', '嗎'},\n",
    "'ch4' : {'你', '誰', '我'},\n",
    "}\n",
    "\n",
    "for key, value in chs.items():\n",
    "    if '我' in value and not value & {'誰', '隨便'}:\n",
    "        print (key)"
   ]
  },
  {
   "cell_type": "code",
   "execution_count": 14,
   "metadata": {},
   "outputs": [
    {
     "output_type": "execute_result",
     "data": {
      "text/plain": "(['MOLLY', 'CHAIN', 'SPIDER'], ['Molly', 'Chain', 'Spider'])"
     },
     "metadata": {},
     "execution_count": 14
    }
   ],
   "source": [
    "things = ['molly','chain','spider']\n",
    "[x.upper() for x in things],[x.capitalize() for x in things]"
   ]
  },
  {
   "cell_type": "code",
   "execution_count": 16,
   "metadata": {},
   "outputs": [
    {
     "output_type": "execute_result",
     "data": {
      "text/plain": "['molly', 'chain', 'spider']"
     },
     "metadata": {},
     "execution_count": 16
    }
   ],
   "source": [
    "things = ['MOLLY', 'CHAIN', 'SPIDER']\n",
    "[x.lower() for x in things]"
   ]
  },
  {
   "cell_type": "code",
   "execution_count": 1,
   "metadata": {},
   "outputs": [
    {
     "output_type": "execute_result",
     "data": {
      "text/plain": "['yllom', 'niahc', 'redips']"
     },
     "metadata": {},
     "execution_count": 1
    }
   ],
   "source": [
    "things = ['molly','chain','spider']\n",
    "[x[::-1] for x in things]"
   ]
  },
  {
   "cell_type": "code",
   "execution_count": 6,
   "metadata": {
    "tags": []
   },
   "outputs": [
    {
     "output_type": "stream",
     "name": "stdout",
     "text": "molly 0\nchain 1\nspider 2\n"
    }
   ],
   "source": [
    "things = ['molly','chain','spider']\n",
    "for index, thing in enumerate(things):\n",
    "    print(thing, index)"
   ]
  }
 ]
}