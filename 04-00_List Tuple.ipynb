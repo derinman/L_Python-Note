{
 "metadata": {
  "language_info": {
   "codemirror_mode": {
    "name": "ipython",
    "version": 3
   },
   "file_extension": ".py",
   "mimetype": "text/x-python",
   "name": "python",
   "nbconvert_exporter": "python",
   "pygments_lexer": "ipython3",
   "version": "3.7.4-final"
  },
  "orig_nbformat": 2,
  "kernelspec": {
   "name": "python3",
   "display_name": "Python 3"
  }
 },
 "nbformat": 4,
 "nbformat_minor": 2,
 "cells": [
  {
   "cell_type": "code",
   "execution_count": 1,
   "metadata": {},
   "outputs": [
    {
     "output_type": "execute_result",
     "data": {
      "text/plain": "['c', 'a', 't']"
     },
     "metadata": {},
     "execution_count": 1
    }
   ],
   "source": [
    "list('cat')"
   ]
  },
  {
   "cell_type": "code",
   "execution_count": 2,
   "metadata": {},
   "outputs": [
    {
     "output_type": "execute_result",
     "data": {
      "text/plain": "['orange', 'banana', 'apple']"
     },
     "metadata": {},
     "execution_count": 2
    }
   ],
   "source": [
    "fruit = ['apple', 'banana', 'orange']\n",
    "fruit[::-1]"
   ]
  },
  {
   "cell_type": "code",
   "execution_count": 3,
   "metadata": {
    "tags": []
   },
   "outputs": [
    {
     "output_type": "stream",
     "name": "stdout",
     "text": "['apple', 'banana', 'orange', 'watermelon']\n"
    }
   ],
   "source": [
    "fruit = ['apple', 'banana', 'orange']\n",
    "fruit.append('watermelon')\n",
    "print(fruit)"
   ]
  },
  {
   "cell_type": "code",
   "execution_count": 4,
   "metadata": {
    "tags": []
   },
   "outputs": [
    {
     "output_type": "stream",
     "name": "stdout",
     "text": "['apple', 'banana', 'orange', ['BMW', 'Mercedes']]\n"
    }
   ],
   "source": [
    "fruit = ['apple', 'banana', 'orange']\n",
    "car = ['BMW', 'Mercedes']\n",
    "fruit.append(car)\n",
    "print(fruit)"
   ]
  },
  {
   "cell_type": "code",
   "execution_count": 5,
   "metadata": {
    "tags": []
   },
   "outputs": [
    {
     "output_type": "stream",
     "name": "stdout",
     "text": "['apple', 'banana', 'orange', 'BMW', 'Mercedes']\n"
    }
   ],
   "source": [
    "fruit = ['apple', 'banana', 'orange']\n",
    "car = ['BMW', 'Mercedes']\n",
    "fruit.extend(car)\n",
    "print(fruit)"
   ]
  },
  {
   "cell_type": "code",
   "execution_count": 6,
   "metadata": {
    "tags": []
   },
   "outputs": [
    {
     "output_type": "stream",
     "name": "stdout",
     "text": "['apple', 'banana', ['BMW', 'Mercedes'], 'orange']\n"
    }
   ],
   "source": [
    "fruit = ['apple', 'banana', 'orange']\n",
    "car = ['BMW', 'Mercedes']\n",
    "fruit.insert(2,car)\n",
    "print(fruit)"
   ]
  },
  {
   "cell_type": "code",
   "execution_count": 7,
   "metadata": {
    "tags": []
   },
   "outputs": [
    {
     "output_type": "stream",
     "name": "stdout",
     "text": "['apple', 'orange']\n"
    }
   ],
   "source": [
    "fruit = ['apple', 'banana', 'orange']\n",
    "del fruit[1]\n",
    "print(fruit)"
   ]
  },
  {
   "cell_type": "code",
   "execution_count": 8,
   "metadata": {
    "tags": []
   },
   "outputs": [
    {
     "output_type": "stream",
     "name": "stdout",
     "text": "['banana', 'orange']\n"
    }
   ],
   "source": [
    "fruit = ['apple', 'banana', 'orange']\n",
    "fruit.remove('apple')\n",
    "print(fruit)"
   ]
  },
  {
   "cell_type": "code",
   "execution_count": 9,
   "metadata": {
    "tags": []
   },
   "outputs": [
    {
     "output_type": "stream",
     "name": "stdout",
     "text": "['apple', 'banana']\n"
    }
   ],
   "source": [
    "fruit = ['apple', 'banana', 'orange']\n",
    "fruit.pop()\n",
    "print(fruit)"
   ]
  },
  {
   "cell_type": "code",
   "execution_count": 10,
   "metadata": {
    "tags": []
   },
   "outputs": [
    {
     "output_type": "stream",
     "name": "stdout",
     "text": "2\n"
    }
   ],
   "source": [
    "fruit = ['apple', 'banana', 'orange','orange']\n",
    "a = fruit.count('orange')\n",
    "print(a)"
   ]
  },
  {
   "cell_type": "code",
   "execution_count": 11,
   "metadata": {},
   "outputs": [
    {
     "output_type": "execute_result",
     "data": {
      "text/plain": "['a', 'b', 'c', 'd']"
     },
     "metadata": {},
     "execution_count": 11
    }
   ],
   "source": [
    "#sort直接改\n",
    "l = ['a', 'c', 'd', 'b']\n",
    "l.sort()\n",
    "l"
   ]
  },
  {
   "cell_type": "code",
   "execution_count": 12,
   "metadata": {
    "tags": []
   },
   "outputs": [
    {
     "output_type": "stream",
     "name": "stdout",
     "text": "['a', 'c', 'd', 'b'] ['a', 'b', 'c', 'd']\n"
    }
   ],
   "source": [
    "#sorted回傳副本\n",
    "old = ['a', 'c', 'd', 'b']\n",
    "new = sorted(l)\n",
    "print(old, new)"
   ]
  },
  {
   "cell_type": "code",
   "execution_count": 13,
   "metadata": {},
   "outputs": [],
   "source": [
    "#sort直接改\n",
    "l = ['a', 'c', 'd', 'b']\n",
    "l.sort(reverse=True)"
   ]
  },
  {
   "cell_type": "code",
   "execution_count": 14,
   "metadata": {
    "tags": []
   },
   "outputs": [
    {
     "output_type": "stream",
     "name": "stdout",
     "text": "['apple', '讚', 'orange', 'orange']\n"
    }
   ],
   "source": [
    "#old跟new的ref一樣\n",
    "old = ['apple', 'banana', 'orange','orange']\n",
    "new = old\n",
    "old[1] = '讚'\n",
    "print(new)"
   ]
  },
  {
   "cell_type": "code",
   "execution_count": 15,
   "metadata": {
    "tags": []
   },
   "outputs": [
    {
     "output_type": "stream",
     "name": "stdout",
     "text": "['apple', '讚', 'orange', 'orange'] ['apple', 'banana', 'orange', 'orange'] ['apple', 'banana', 'orange', 'orange'] ['banana', 'orange', 'orange']\n"
    }
   ],
   "source": [
    "#製作副本方法:\n",
    "#copy() list() l[1:5:1]\n",
    "old = ['apple', 'banana', 'orange','orange']\n",
    "new1 = old.copy()\n",
    "new2 = list(old)\n",
    "new3 = old[1:]\n",
    "old[1] = '讚'\n",
    "print(old, new1, new2, new3)"
   ]
  },
  {
   "cell_type": "code",
   "execution_count": 1,
   "metadata": {
    "tags": []
   },
   "outputs": [
    {
     "output_type": "stream",
     "name": "stdout",
     "text": "apple orange\n"
    }
   ],
   "source": [
    "#tuple unpacking\n",
    "fruit = ('apple', 'banana', 'orange','orange')\n",
    "a,_,c,_ = fruit\n",
    "print(a,c)"
   ]
  },
  {
   "cell_type": "code",
   "execution_count": 6,
   "metadata": {},
   "outputs": [
    {
     "output_type": "execute_result",
     "data": {
      "text/plain": "('inman', 2020)"
     },
     "metadata": {},
     "execution_count": 6
    }
   ],
   "source": [
    "data = ['inman', 27, (2020,5,30)]\n",
    "name, age, (year, month, day) = data\n",
    "name, year"
   ]
  },
  {
   "cell_type": "code",
   "execution_count": 1,
   "metadata": {},
   "outputs": [
    {
     "output_type": "execute_result",
     "data": {
      "text/plain": "[2, 3, 4, 5, 6, 7, 8]"
     },
     "metadata": {},
     "execution_count": 1
    }
   ],
   "source": [
    "l = range(1,10)\n",
    "first, *middle, last = l\n",
    "middle"
   ]
  },
  {
   "cell_type": "code",
   "execution_count": 3,
   "metadata": {},
   "outputs": [
    {
     "output_type": "execute_result",
     "data": {
      "text/plain": "32"
     },
     "metadata": {},
     "execution_count": 3
    }
   ],
   "source": [
    "l = [32, 434, 53, 45]\n",
    "head, *last = l\n",
    "head"
   ]
  },
  {
   "cell_type": "code",
   "execution_count": 4,
   "metadata": {},
   "outputs": [
    {
     "output_type": "execute_result",
     "data": {
      "text/plain": "(myFriend(name='inman', age=22), 'inman', 22, 'inman', 22)"
     },
     "metadata": {},
     "execution_count": 4
    }
   ],
   "source": [
    "#namedtuple\n",
    "#其實 namedtuple 就是一個輕量級的class，代碼更簡潔，當我們的class非常簡單，\n",
    "#只有屬性又不需要定義其他方法(method)時，完全可以用 namedtuple來代替class\n",
    "\n",
    "from collections import namedtuple\n",
    "friend = namedtuple('myFriend',['name','age'])\n",
    "#friend = namedtuple('myfriend', 'name age')也可\n",
    "f1 = friend('inman',22)\n",
    "f1, f1.name, f1.age, f1[0], f1[1]"
   ]
  },
  {
   "cell_type": "code",
   "execution_count": 6,
   "metadata": {},
   "outputs": [
    {
     "output_type": "execute_result",
     "data": {
      "text/plain": "(('name', 'age'), OrderedDict([('name', 'inman'), ('age', 22)]))"
     },
     "metadata": {},
     "execution_count": 6
    }
   ],
   "source": [
    "f1._fields, f1._asdict()"
   ]
  }
 ]
}