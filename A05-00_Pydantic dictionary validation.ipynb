{
 "cells": [
  {
   "cell_type": "code",
   "execution_count": null,
   "metadata": {},
   "outputs": [],
   "source": [
    "# https://techtutorialsx.com/2022/06/03/pydantic-getting-started/"
   ]
  },
  {
   "cell_type": "code",
   "execution_count": 9,
   "metadata": {},
   "outputs": [
    {
     "data": {
      "text/plain": [
       "Person(age=20, name='John', is_married=False)"
      ]
     },
     "execution_count": 9,
     "metadata": {},
     "output_type": "execute_result"
    }
   ],
   "source": [
    "from pydantic import BaseModel, ValidationError\n",
    "\n",
    "class Person(BaseModel):\n",
    "    age: int\n",
    "    name: str\n",
    "    is_married: bool\n",
    "\n",
    "data = {\n",
    "    'name': 'John',\n",
    "    'age': 20,\n",
    "    'is_married': False\n",
    "}\n",
    "\n",
    "person = Person(**data)\n",
    "person"
   ]
  },
  {
   "cell_type": "code",
   "execution_count": 11,
   "metadata": {},
   "outputs": [
    {
     "ename": "ValidationError",
     "evalue": "1 validation error for Person\nage\n  value is not a valid integer (type=type_error.integer)",
     "output_type": "error",
     "traceback": [
      "\u001b[0;31m---------------------------------------------------------------------------\u001b[0m",
      "\u001b[0;31mValidationError\u001b[0m                           Traceback (most recent call last)",
      "\u001b[0;32m/tmp/ipykernel_6780/1204046349.py\u001b[0m in \u001b[0;36m<cell line: 14>\u001b[0;34m()\u001b[0m\n\u001b[1;32m     12\u001b[0m }\n\u001b[1;32m     13\u001b[0m \u001b[0;34m\u001b[0m\u001b[0m\n\u001b[0;32m---> 14\u001b[0;31m \u001b[0mperson\u001b[0m \u001b[0;34m=\u001b[0m \u001b[0mPerson\u001b[0m\u001b[0;34m(\u001b[0m\u001b[0;34m**\u001b[0m\u001b[0mdata\u001b[0m\u001b[0;34m)\u001b[0m\u001b[0;34m\u001b[0m\u001b[0;34m\u001b[0m\u001b[0m\n\u001b[0m\u001b[1;32m     15\u001b[0m \u001b[0mperson\u001b[0m\u001b[0;34m\u001b[0m\u001b[0;34m\u001b[0m\u001b[0m\n\u001b[1;32m     16\u001b[0m \u001b[0;34m\u001b[0m\u001b[0m\n",
      "\u001b[0;32m~/anaconda3/lib/python3.9/site-packages/pydantic/main.cpython-39-x86_64-linux-gnu.so\u001b[0m in \u001b[0;36mpydantic.main.BaseModel.__init__\u001b[0;34m()\u001b[0m\n",
      "\u001b[0;31mValidationError\u001b[0m: 1 validation error for Person\nage\n  value is not a valid integer (type=type_error.integer)"
     ]
    }
   ],
   "source": [
    "from pydantic import BaseModel, ValidationError\n",
    "\n",
    "class Person(BaseModel):\n",
    "    age: int\n",
    "    name: str\n",
    "    is_married: bool\n",
    "\n",
    "data = {\n",
    "    'name': 'John',\n",
    "    'age': 'twenty',\n",
    "    'is_married': False\n",
    "}\n",
    "\n",
    "person = Person(**data)\n",
    "person\n",
    "\n",
    "try:\n",
    "    person = Person(**data)\n",
    "except ValidationError as e:\n",
    "    print(e)"
   ]
  },
  {
   "cell_type": "code",
   "execution_count": 15,
   "metadata": {},
   "outputs": [
    {
     "data": {
      "text/plain": [
       "{'age': 20, 'name': 'John', 'is_married': False}"
      ]
     },
     "execution_count": 15,
     "metadata": {},
     "output_type": "execute_result"
    }
   ],
   "source": [
    "# .dict()\n",
    "\n",
    "from pydantic import BaseModel, ValidationError\n",
    "\n",
    "class Person(BaseModel):\n",
    "    age: int\n",
    "    name: str\n",
    "    is_married: bool\n",
    "\n",
    "data = {\n",
    "    'name': 'John',\n",
    "    'age': 20,\n",
    "    'is_married': False\n",
    "}\n",
    "\n",
    "person = Person(**data)\n",
    "person.dict()"
   ]
  },
  {
   "cell_type": "code",
   "execution_count": 16,
   "metadata": {},
   "outputs": [
    {
     "name": "stdout",
     "output_type": "stream",
     "text": [
      "{'age': 20, 'name': 'John', 'is_married': False}\n"
     ]
    }
   ],
   "source": [
    "from pydantic import BaseModel, ValidationError\n",
    " \n",
    "class Person(BaseModel):\n",
    "    age: int\n",
    "    name: str\n",
    "    is_married: bool\n",
    " \n",
    "data = {\n",
    "    'name': 'John',\n",
    "    'age': 20,\n",
    "    'is_married': False\n",
    "}\n",
    " \n",
    "try:\n",
    "    person = Person(**data)\n",
    "    print(person.dict())\n",
    " \n",
    "except ValidationError as e:\n",
    "    print(e)"
   ]
  },
  {
   "cell_type": "code",
   "execution_count": 18,
   "metadata": {},
   "outputs": [
    {
     "name": "stdout",
     "output_type": "stream",
     "text": [
      "[{'loc': ('age',), 'msg': 'value is not a valid integer', 'type': 'type_error.integer'}, {'loc': ('name',), 'msg': 'field required', 'type': 'value_error.missing'}]\n",
      "=============\n",
      "{'loc': ('age',), 'msg': 'value is not a valid integer', 'type': 'type_error.integer'}\n",
      "\n",
      "('name',)\n",
      "field required\n",
      "value_error.missing\n"
     ]
    }
   ],
   "source": [
    "from pydantic import BaseModel, ValidationError\n",
    " \n",
    "class Person(BaseModel):\n",
    "    age: int\n",
    "    name: str\n",
    "    is_married: bool\n",
    " \n",
    "data = {\n",
    "    'age': \"test\",\n",
    "    'is_married': False\n",
    "}\n",
    " \n",
    "try:\n",
    "    person = Person(**data)\n",
    "    print(person.dict())\n",
    " \n",
    "except ValidationError as e:\n",
    "    errors = e.errors()\n",
    "    print(errors)\n",
    " \n",
    "    print('=============')\n",
    "    print(errors[0])\n",
    " \n",
    "    print()\n",
    "    print(errors[1][\"loc\"])\n",
    "    print(errors[1][\"msg\"])\n",
    "    print(errors[1][\"type\"])"
   ]
  },
  {
   "cell_type": "code",
   "execution_count": 22,
   "metadata": {},
   "outputs": [
    {
     "name": "stdout",
     "output_type": "stream",
     "text": [
      "{'age': 10, 'name': 'John', 'is_married': False, 'address': {'street': 'st street', 'building': 10}, 'languages': ['pt-pt', 'en-us']}\n"
     ]
    }
   ],
   "source": [
    "# nest\n",
    "\t\n",
    "from typing import List\n",
    "from pydantic import BaseModel, ValidationError\n",
    " \n",
    "class Address(BaseModel):\n",
    "    street: str\n",
    "    building: int\n",
    " \n",
    "class Person(BaseModel):\n",
    "    age: int\n",
    "    name: str\n",
    "    is_married: bool\n",
    "    address: Address\n",
    "    languages: List[str]\n",
    " \n",
    " \n",
    "data = {\n",
    "    'age': 10,\n",
    "    'name': 'John',\n",
    "    'is_married': False,\n",
    "    'address': {\n",
    "        'street': 'st street',\n",
    "        'building': 10\n",
    "    },\n",
    "    'languages':['pt-pt', 'en-us']\n",
    "}\n",
    " \n",
    "try:\n",
    "    person = Person(**data)\n",
    "    print(person.dict())\n",
    " \n",
    "except ValidationError as e:\n",
    "    print(\"Exception as str:\")\n",
    "    print(e)\n",
    "    print(\"Exception as json:\")\n",
    "    print(e.json())\n"
   ]
  },
  {
   "cell_type": "code",
   "execution_count": 23,
   "metadata": {},
   "outputs": [
    {
     "name": "stdout",
     "output_type": "stream",
     "text": [
      "Exception as str:\n",
      "2 validation errors for Person\n",
      "address -> building\n",
      "  value is not a valid integer (type=type_error.integer)\n",
      "languages -> 0\n",
      "  str type expected (type=type_error.str)\n",
      "Exception as json:\n",
      "[\n",
      "  {\n",
      "    \"loc\": [\n",
      "      \"address\",\n",
      "      \"building\"\n",
      "    ],\n",
      "    \"msg\": \"value is not a valid integer\",\n",
      "    \"type\": \"type_error.integer\"\n",
      "  },\n",
      "  {\n",
      "    \"loc\": [\n",
      "      \"languages\",\n",
      "      0\n",
      "    ],\n",
      "    \"msg\": \"str type expected\",\n",
      "    \"type\": \"type_error.str\"\n",
      "  }\n",
      "]\n"
     ]
    }
   ],
   "source": [
    "from typing import List\n",
    "from pydantic import BaseModel, ValidationError\n",
    " \n",
    "class Address(BaseModel):\n",
    "    street: str\n",
    "    building: int\n",
    " \n",
    "class Person(BaseModel):\n",
    "    age: int\n",
    "    name: str\n",
    "    is_married: bool\n",
    "    address: Address\n",
    "    languages: List[str]\n",
    " \n",
    " \n",
    "\n",
    "data = {\n",
    "    'age': 10,\n",
    "    'name': 'John',\n",
    "    'is_married': False,\n",
    "    'address': {\n",
    "        'street': 'st street',\n",
    "        'building': 'test'\n",
    "    },\n",
    "    'languages':[{}, 'en-us']\n",
    "}\n",
    " \n",
    "try:\n",
    "    person = Person(**data)\n",
    "    print(person.dict())\n",
    " \n",
    "except ValidationError as e:\n",
    "    print(\"Exception as str:\")\n",
    "    print(e)\n",
    "    print(\"Exception as json:\")\n",
    "    print(e.json())\n"
   ]
  }
 ],
 "metadata": {
  "interpreter": {
   "hash": "a25fe9fa6c27b95901d0edd5181fe5544d24e241def55442d39b65c508d23c47"
  },
  "kernelspec": {
   "display_name": "Python 3.9.12 ('base')",
   "language": "python",
   "name": "python3"
  },
  "language_info": {
   "codemirror_mode": {
    "name": "ipython",
    "version": 3
   },
   "file_extension": ".py",
   "mimetype": "text/x-python",
   "name": "python",
   "nbconvert_exporter": "python",
   "pygments_lexer": "ipython3",
   "version": "3.9.12"
  },
  "orig_nbformat": 4
 },
 "nbformat": 4,
 "nbformat_minor": 2
}
