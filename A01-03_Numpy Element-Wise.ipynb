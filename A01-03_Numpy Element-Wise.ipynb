{
 "metadata": {
  "language_info": {
   "codemirror_mode": {
    "name": "ipython",
    "version": 3
   },
   "file_extension": ".py",
   "mimetype": "text/x-python",
   "name": "python",
   "nbconvert_exporter": "python",
   "pygments_lexer": "ipython3",
   "version": "3.7.4-final"
  },
  "orig_nbformat": 2,
  "kernelspec": {
   "name": "python3",
   "display_name": "Python 3"
  }
 },
 "nbformat": 4,
 "nbformat_minor": 2,
 "cells": [
  {
   "cell_type": "code",
   "execution_count": 2,
   "metadata": {},
   "outputs": [
    {
     "output_type": "execute_result",
     "data": {
      "text/plain": "'1.16.5'"
     },
     "metadata": {},
     "execution_count": 2
    }
   ],
   "source": [
    "import numpy\n",
    "import numpy as np\n",
    "numpy.__version__"
   ]
  },
  {
   "cell_type": "code",
   "execution_count": 4,
   "metadata": {},
   "outputs": [],
   "source": [
    "#np的這種量化化計算稱作ufunction (universal function)\n",
    "#np的向量化計算 比python自己的迭代快很多\n",
    "\n",
    "np.random.seed(0)\n",
    "\n",
    "#計算倒數\n",
    "def reciprocals( vals ):\n",
    "    result = np.empty(len(vals))\n",
    "    for i in range(len(vals)):\n",
    "        result[i] = 1/vals[i]\n",
    "    return result"
   ]
  },
  {
   "cell_type": "code",
   "execution_count": 7,
   "metadata": {
    "tags": []
   },
   "outputs": [
    {
     "output_type": "stream",
     "name": "stdout",
     "text": "723 ms ± 62 ms per loop (mean ± std. dev. of 7 runs, 1 loop each)\n"
    }
   ],
   "source": [
    "#slow\n",
    "%timeit reciprocals(np.random.randint(1,100,size=1000000)) "
   ]
  },
  {
   "cell_type": "code",
   "execution_count": 9,
   "metadata": {
    "tags": []
   },
   "outputs": [
    {
     "output_type": "stream",
     "name": "stdout",
     "text": "46.1 ms ± 2.09 ms per loop (mean ± std. dev. of 7 runs, 10 loops each)\n"
    }
   ],
   "source": [
    "#fast\n",
    "%timeit (1/np.random.randint(1,10,size=1000000)) "
   ]
  },
  {
   "cell_type": "code",
   "execution_count": 11,
   "metadata": {},
   "outputs": [
    {
     "output_type": "execute_result",
     "data": {
      "text/plain": "array([[0, 1, 2],\n       [3, 4, 5],\n       [6, 7, 8]])"
     },
     "metadata": {},
     "execution_count": 11
    }
   ],
   "source": [
    "a = np.arange(9).reshape(3,3)\n",
    "b = a * 2\n",
    "c = 2 ** a\n",
    "a"
   ]
  },
  {
   "cell_type": "code",
   "execution_count": 13,
   "metadata": {},
   "outputs": [
    {
     "output_type": "execute_result",
     "data": {
      "text/plain": "array([[ 0,  2,  4],\n       [ 6,  8, 10],\n       [12, 14, 16]])"
     },
     "metadata": {},
     "execution_count": 13
    }
   ],
   "source": [
    "b"
   ]
  },
  {
   "cell_type": "code",
   "execution_count": 15,
   "metadata": {},
   "outputs": [
    {
     "output_type": "execute_result",
     "data": {
      "text/plain": "array([[  1,   2,   4],\n       [  8,  16,  32],\n       [ 64, 128, 256]], dtype=int32)"
     },
     "metadata": {},
     "execution_count": 15
    }
   ],
   "source": [
    "c"
   ]
  },
  {
   "cell_type": "code",
   "execution_count": 18,
   "metadata": {
    "tags": []
   },
   "outputs": [
    {
     "output_type": "execute_result",
     "data": {
      "text/plain": "(array([5, 6, 7, 8, 9]),\n array([ 0,  1,  4,  9, 16], dtype=int32),\n array([       inf, 1.        , 0.5       , 0.33333333, 0.25      ]),\n array([ 0, -1, -2, -3, -4]))"
     },
     "metadata": {},
     "execution_count": 18
    }
   ],
   "source": [
    "a = np.arange(5)\n",
    "a + 5 , a **2 , 1 / a , -a"
   ]
  },
  {
   "cell_type": "code",
   "execution_count": 20,
   "metadata": {},
   "outputs": [
    {
     "output_type": "execute_result",
     "data": {
      "text/plain": "(array([ True,  True,  True,  True, False, False, False, False, False,\n        False]), 4, 4)"
     },
     "metadata": {},
     "execution_count": 20
    }
   ],
   "source": [
    "x = np.arange(10)\n",
    "x < 4, np.count_nonzero( x < 4 ), np.sum( x < 4 )"
   ]
  },
  {
   "cell_type": "code",
   "execution_count": 22,
   "metadata": {},
   "outputs": [
    {
     "output_type": "execute_result",
     "data": {
      "text/plain": "(False, True)"
     },
     "metadata": {},
     "execution_count": 22
    }
   ],
   "source": [
    "np.all( x < 4 ), np.any( x < 4 )"
   ]
  },
  {
   "cell_type": "code",
   "execution_count": 24,
   "metadata": {},
   "outputs": [
    {
     "output_type": "execute_result",
     "data": {
      "text/plain": "array([0, 1, 2, 3])"
     },
     "metadata": {},
     "execution_count": 24
    }
   ],
   "source": [
    "x[ x < 4 ]"
   ]
  },
  {
   "cell_type": "code",
   "execution_count": 26,
   "metadata": {},
   "outputs": [
    {
     "output_type": "execute_result",
     "data": {
      "text/plain": "array([0.        , 1.57079633, 3.14159265, 4.71238898, 6.28318531])"
     },
     "metadata": {},
     "execution_count": 26
    }
   ],
   "source": [
    "#三角函數\n",
    "theta = np.linspace(0, np.pi*2 , 5)\n",
    "theta"
   ]
  },
  {
   "cell_type": "code",
   "execution_count": 28,
   "metadata": {},
   "outputs": [
    {
     "output_type": "execute_result",
     "data": {
      "text/plain": "array([ 0.0000000e+00,  1.0000000e+00,  1.2246468e-16, -1.0000000e+00,\n       -2.4492936e-16])"
     },
     "metadata": {},
     "execution_count": 28
    }
   ],
   "source": [
    "np.sin(theta)"
   ]
  },
  {
   "cell_type": "code",
   "execution_count": 30,
   "metadata": {},
   "outputs": [
    {
     "output_type": "execute_result",
     "data": {
      "text/plain": "(1.2246467991473532e-16, True)"
     },
     "metadata": {},
     "execution_count": 30
    }
   ],
   "source": [
    "import math\n",
    "math.sin(math.pi), np.allclose(math.sin(math.pi),0)"
   ]
  },
  {
   "cell_type": "code",
   "execution_count": 32,
   "metadata": {},
   "outputs": [
    {
     "output_type": "execute_result",
     "data": {
      "text/plain": "(array([ 2.71828183,  7.3890561 , 20.08553692]),\n array([ 3,  9, 27], dtype=int32))"
     },
     "metadata": {},
     "execution_count": 32
    }
   ],
   "source": [
    "np.exp([1,2,3]), np.power(3,[1,2,3])"
   ]
  },
  {
   "cell_type": "code",
   "execution_count": 34,
   "metadata": {},
   "outputs": [
    {
     "output_type": "execute_result",
     "data": {
      "text/plain": "(array([0.        , 0.69314718, 1.38629436, 2.30258509]),\n array([0.        , 0.30103   , 0.60205999, 1.        ]))"
     },
     "metadata": {},
     "execution_count": 34
    }
   ],
   "source": [
    "np.log([1,2,4,10]), np.log10([1,2,4,10])"
   ]
  },
  {
   "cell_type": "code",
   "execution_count": null,
   "metadata": {},
   "outputs": [],
   "source": []
  }
 ]
}