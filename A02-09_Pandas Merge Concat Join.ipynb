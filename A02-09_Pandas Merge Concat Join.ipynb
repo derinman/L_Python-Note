{
 "metadata": {
  "language_info": {
   "codemirror_mode": {
    "name": "ipython",
    "version": 3
   },
   "file_extension": ".py",
   "mimetype": "text/x-python",
   "name": "python",
   "nbconvert_exporter": "python",
   "pygments_lexer": "ipython3",
   "version": "3.7.4"
  },
  "orig_nbformat": 2,
  "kernelspec": {
   "name": "python3",
   "display_name": "Python 3.7.4 64-bit ('base': conda)"
  },
  "interpreter": {
   "hash": "b3ba2566441a7c06988d0923437866b63cedc61552a5af99d1f4fb67d367b25f"
  }
 },
 "nbformat": 4,
 "nbformat_minor": 2,
 "cells": [
  {
   "cell_type": "code",
   "execution_count": 1,
   "metadata": {},
   "outputs": [],
   "source": [
    "import pandas as pd\n",
    "import numpy as np\n",
    "\n",
    "import datetime\n",
    "from datetime import datetime, date"
   ]
  },
  {
   "cell_type": "code",
   "execution_count": 2,
   "metadata": {},
   "outputs": [
    {
     "output_type": "execute_result",
     "data": {
      "text/plain": [
       "                        Sector   Price  Book Value\n",
       "Symbol                                            \n",
       "MMM                Industrials  141.14      26.668\n",
       "ABT                Health Care   39.60      15.573\n",
       "ABBV               Health Care   53.95       2.954\n",
       "ACN     Information Technology   79.79       8.326\n",
       "ACE                 Financials  102.91      86.897\n",
       "...                        ...     ...         ...\n",
       "YHOO    Information Technology   35.02      12.768\n",
       "YUM     Consumer Discretionary   74.77       5.147\n",
       "ZMH                Health Care  101.84      37.181\n",
       "ZION                Financials   28.43      30.191\n",
       "ZTS                Health Care   30.53       2.150\n",
       "\n",
       "[500 rows x 3 columns]"
      ],
      "text/html": "<div>\n<style scoped>\n    .dataframe tbody tr th:only-of-type {\n        vertical-align: middle;\n    }\n\n    .dataframe tbody tr th {\n        vertical-align: top;\n    }\n\n    .dataframe thead th {\n        text-align: right;\n    }\n</style>\n<table border=\"1\" class=\"dataframe\">\n  <thead>\n    <tr style=\"text-align: right;\">\n      <th></th>\n      <th>Sector</th>\n      <th>Price</th>\n      <th>Book Value</th>\n    </tr>\n    <tr>\n      <th>Symbol</th>\n      <th></th>\n      <th></th>\n      <th></th>\n    </tr>\n  </thead>\n  <tbody>\n    <tr>\n      <th>MMM</th>\n      <td>Industrials</td>\n      <td>141.14</td>\n      <td>26.668</td>\n    </tr>\n    <tr>\n      <th>ABT</th>\n      <td>Health Care</td>\n      <td>39.60</td>\n      <td>15.573</td>\n    </tr>\n    <tr>\n      <th>ABBV</th>\n      <td>Health Care</td>\n      <td>53.95</td>\n      <td>2.954</td>\n    </tr>\n    <tr>\n      <th>ACN</th>\n      <td>Information Technology</td>\n      <td>79.79</td>\n      <td>8.326</td>\n    </tr>\n    <tr>\n      <th>ACE</th>\n      <td>Financials</td>\n      <td>102.91</td>\n      <td>86.897</td>\n    </tr>\n    <tr>\n      <th>...</th>\n      <td>...</td>\n      <td>...</td>\n      <td>...</td>\n    </tr>\n    <tr>\n      <th>YHOO</th>\n      <td>Information Technology</td>\n      <td>35.02</td>\n      <td>12.768</td>\n    </tr>\n    <tr>\n      <th>YUM</th>\n      <td>Consumer Discretionary</td>\n      <td>74.77</td>\n      <td>5.147</td>\n    </tr>\n    <tr>\n      <th>ZMH</th>\n      <td>Health Care</td>\n      <td>101.84</td>\n      <td>37.181</td>\n    </tr>\n    <tr>\n      <th>ZION</th>\n      <td>Financials</td>\n      <td>28.43</td>\n      <td>30.191</td>\n    </tr>\n    <tr>\n      <th>ZTS</th>\n      <td>Health Care</td>\n      <td>30.53</td>\n      <td>2.150</td>\n    </tr>\n  </tbody>\n</table>\n<p>500 rows × 3 columns</p>\n</div>"
     },
     "metadata": {},
     "execution_count": 2
    }
   ],
   "source": [
    "sp500 = pd.read_csv(\"data/sp500.csv\", \n",
    "                    index_col='Symbol', \n",
    "                    usecols=[0, 2, 3, 7])\n",
    "sp500"
   ]
  },
  {
   "cell_type": "code",
   "execution_count": 3,
   "metadata": {},
   "outputs": [
    {
     "output_type": "execute_result",
     "data": {
      "text/plain": [
       "             Sector   Price  Book Value\n",
       "Symbol                                 \n",
       "MMM     Industrials  141.14      26.668\n",
       "ABT     Health Care   39.60      15.573\n",
       "ABBV    Health Care   53.95       2.954\n",
       "FOO      the sector  100.00     110.000"
      ],
      "text/html": "<div>\n<style scoped>\n    .dataframe tbody tr th:only-of-type {\n        vertical-align: middle;\n    }\n\n    .dataframe tbody tr th {\n        vertical-align: top;\n    }\n\n    .dataframe thead th {\n        text-align: right;\n    }\n</style>\n<table border=\"1\" class=\"dataframe\">\n  <thead>\n    <tr style=\"text-align: right;\">\n      <th></th>\n      <th>Sector</th>\n      <th>Price</th>\n      <th>Book Value</th>\n    </tr>\n    <tr>\n      <th>Symbol</th>\n      <th></th>\n      <th></th>\n      <th></th>\n    </tr>\n  </thead>\n  <tbody>\n    <tr>\n      <th>MMM</th>\n      <td>Industrials</td>\n      <td>141.14</td>\n      <td>26.668</td>\n    </tr>\n    <tr>\n      <th>ABT</th>\n      <td>Health Care</td>\n      <td>39.60</td>\n      <td>15.573</td>\n    </tr>\n    <tr>\n      <th>ABBV</th>\n      <td>Health Care</td>\n      <td>53.95</td>\n      <td>2.954</td>\n    </tr>\n    <tr>\n      <th>FOO</th>\n      <td>the sector</td>\n      <td>100.00</td>\n      <td>110.000</td>\n    </tr>\n  </tbody>\n</table>\n</div>"
     },
     "metadata": {},
     "execution_count": 3
    }
   ],
   "source": [
    "#add row\n",
    "s = sp500[:3].copy()\n",
    "s.loc['FOO'] = ['the sector', 100, 110]\n",
    "s"
   ]
  },
  {
   "cell_type": "code",
   "execution_count": 4,
   "metadata": {},
   "outputs": [
    {
     "output_type": "execute_result",
     "data": {
      "text/plain": [
       "                        Sector   Price  Book Value\n",
       "Symbol                                            \n",
       "YHOO    Information Technology   35.02      12.768\n",
       "MMM                Industrials  141.14      26.668\n",
       "MSFT    Information Technology   40.12      10.584"
      ],
      "text/html": "<div>\n<style scoped>\n    .dataframe tbody tr th:only-of-type {\n        vertical-align: middle;\n    }\n\n    .dataframe tbody tr th {\n        vertical-align: top;\n    }\n\n    .dataframe thead th {\n        text-align: right;\n    }\n</style>\n<table border=\"1\" class=\"dataframe\">\n  <thead>\n    <tr style=\"text-align: right;\">\n      <th></th>\n      <th>Sector</th>\n      <th>Price</th>\n      <th>Book Value</th>\n    </tr>\n    <tr>\n      <th>Symbol</th>\n      <th></th>\n      <th></th>\n      <th></th>\n    </tr>\n  </thead>\n  <tbody>\n    <tr>\n      <th>YHOO</th>\n      <td>Information Technology</td>\n      <td>35.02</td>\n      <td>12.768</td>\n    </tr>\n    <tr>\n      <th>MMM</th>\n      <td>Industrials</td>\n      <td>141.14</td>\n      <td>26.668</td>\n    </tr>\n    <tr>\n      <th>MSFT</th>\n      <td>Information Technology</td>\n      <td>40.12</td>\n      <td>10.584</td>\n    </tr>\n  </tbody>\n</table>\n</div>"
     },
     "metadata": {},
     "execution_count": 4
    }
   ],
   "source": [
    "# merge\n",
    "yhoo_mmm = sp500.loc[['YHOO','MMM']]\n",
    "msft = sp500.loc[['MSFT']]\n",
    "yhoo_mmm.append(msft)"
   ]
  },
  {
   "cell_type": "code",
   "execution_count": 5,
   "metadata": {},
   "outputs": [
    {
     "output_type": "execute_result",
     "data": {
      "text/plain": [
       "                        Sector   Price  Book Value\n",
       "Symbol                                            \n",
       "YHOO    Information Technology   35.02      12.768\n",
       "MMM                Industrials  141.14      26.668\n",
       "MSFT    Information Technology   40.12      10.584"
      ],
      "text/html": "<div>\n<style scoped>\n    .dataframe tbody tr th:only-of-type {\n        vertical-align: middle;\n    }\n\n    .dataframe tbody tr th {\n        vertical-align: top;\n    }\n\n    .dataframe thead th {\n        text-align: right;\n    }\n</style>\n<table border=\"1\" class=\"dataframe\">\n  <thead>\n    <tr style=\"text-align: right;\">\n      <th></th>\n      <th>Sector</th>\n      <th>Price</th>\n      <th>Book Value</th>\n    </tr>\n    <tr>\n      <th>Symbol</th>\n      <th></th>\n      <th></th>\n      <th></th>\n    </tr>\n  </thead>\n  <tbody>\n    <tr>\n      <th>YHOO</th>\n      <td>Information Technology</td>\n      <td>35.02</td>\n      <td>12.768</td>\n    </tr>\n    <tr>\n      <th>MMM</th>\n      <td>Industrials</td>\n      <td>141.14</td>\n      <td>26.668</td>\n    </tr>\n    <tr>\n      <th>MSFT</th>\n      <td>Information Technology</td>\n      <td>40.12</td>\n      <td>10.584</td>\n    </tr>\n  </tbody>\n</table>\n</div>"
     },
     "metadata": {},
     "execution_count": 5
    }
   ],
   "source": [
    "# merge\n",
    "ym = sp500.loc[['YHOO','MMM']]\n",
    "msft = sp500.loc[['MSFT']]\n",
    "pd.concat([ym, msft])"
   ]
  },
  {
   "cell_type": "code",
   "execution_count": 6,
   "metadata": {},
   "outputs": [
    {
     "output_type": "execute_result",
     "data": {
      "text/plain": [
       "                          Sector   Price  Book Value\n",
       "  Symbol                                            \n",
       "a YHOO    Information Technology   35.02      12.768\n",
       "  MMM                Industrials  141.14      26.668\n",
       "b MSFT    Information Technology   40.12      10.584"
      ],
      "text/html": "<div>\n<style scoped>\n    .dataframe tbody tr th:only-of-type {\n        vertical-align: middle;\n    }\n\n    .dataframe tbody tr th {\n        vertical-align: top;\n    }\n\n    .dataframe thead th {\n        text-align: right;\n    }\n</style>\n<table border=\"1\" class=\"dataframe\">\n  <thead>\n    <tr style=\"text-align: right;\">\n      <th></th>\n      <th></th>\n      <th>Sector</th>\n      <th>Price</th>\n      <th>Book Value</th>\n    </tr>\n    <tr>\n      <th></th>\n      <th>Symbol</th>\n      <th></th>\n      <th></th>\n      <th></th>\n    </tr>\n  </thead>\n  <tbody>\n    <tr>\n      <th rowspan=\"2\" valign=\"top\">a</th>\n      <th>YHOO</th>\n      <td>Information Technology</td>\n      <td>35.02</td>\n      <td>12.768</td>\n    </tr>\n    <tr>\n      <th>MMM</th>\n      <td>Industrials</td>\n      <td>141.14</td>\n      <td>26.668</td>\n    </tr>\n    <tr>\n      <th>b</th>\n      <th>MSFT</th>\n      <td>Information Technology</td>\n      <td>40.12</td>\n      <td>10.584</td>\n    </tr>\n  </tbody>\n</table>\n</div>"
     },
     "metadata": {},
     "execution_count": 6
    }
   ],
   "source": [
    "# merge\n",
    "pd.concat([ym, msft], keys=['a', 'b'])"
   ]
  },
  {
   "cell_type": "code",
   "execution_count": 8,
   "metadata": {},
   "outputs": [
    {
     "output_type": "execute_result",
     "data": {
      "text/plain": [
       "    a    b    c     d\n",
       "0   0  1.0  2.0   NaN\n",
       "1   3  4.0  5.0   NaN\n",
       "2   6  7.0  8.0   NaN\n",
       "2  20  NaN  NaN  21.0\n",
       "3  22  NaN  NaN  23.0\n",
       "4  24  NaN  NaN  25.0"
      ],
      "text/html": "<div>\n<style scoped>\n    .dataframe tbody tr th:only-of-type {\n        vertical-align: middle;\n    }\n\n    .dataframe tbody tr th {\n        vertical-align: top;\n    }\n\n    .dataframe thead th {\n        text-align: right;\n    }\n</style>\n<table border=\"1\" class=\"dataframe\">\n  <thead>\n    <tr style=\"text-align: right;\">\n      <th></th>\n      <th>a</th>\n      <th>b</th>\n      <th>c</th>\n      <th>d</th>\n    </tr>\n  </thead>\n  <tbody>\n    <tr>\n      <th>0</th>\n      <td>0</td>\n      <td>1.0</td>\n      <td>2.0</td>\n      <td>NaN</td>\n    </tr>\n    <tr>\n      <th>1</th>\n      <td>3</td>\n      <td>4.0</td>\n      <td>5.0</td>\n      <td>NaN</td>\n    </tr>\n    <tr>\n      <th>2</th>\n      <td>6</td>\n      <td>7.0</td>\n      <td>8.0</td>\n      <td>NaN</td>\n    </tr>\n    <tr>\n      <th>2</th>\n      <td>20</td>\n      <td>NaN</td>\n      <td>NaN</td>\n      <td>21.0</td>\n    </tr>\n    <tr>\n      <th>3</th>\n      <td>22</td>\n      <td>NaN</td>\n      <td>NaN</td>\n      <td>23.0</td>\n    </tr>\n    <tr>\n      <th>4</th>\n      <td>24</td>\n      <td>NaN</td>\n      <td>NaN</td>\n      <td>25.0</td>\n    </tr>\n  </tbody>\n</table>\n</div>"
     },
     "metadata": {},
     "execution_count": 8
    }
   ],
   "source": [
    "df3 = pd.DataFrame(np.arange(9).reshape(3, 3),columns=['a', 'b', 'c'])\n",
    "df4 = pd.DataFrame(np.arange(20, 26).reshape(3, 2), columns=['a', 'd'], index=[2, 3, 4])\n",
    "pd.concat([df3, df4])"
   ]
  },
  {
   "cell_type": "code",
   "execution_count": 9,
   "metadata": {},
   "outputs": [
    {
     "output_type": "execute_result",
     "data": {
      "text/plain": [
       "     a    b    c     a     d\n",
       "0  0.0  1.0  2.0   NaN   NaN\n",
       "1  3.0  4.0  5.0   NaN   NaN\n",
       "2  6.0  7.0  8.0  20.0  21.0\n",
       "3  NaN  NaN  NaN  22.0  23.0\n",
       "4  NaN  NaN  NaN  24.0  25.0"
      ],
      "text/html": "<div>\n<style scoped>\n    .dataframe tbody tr th:only-of-type {\n        vertical-align: middle;\n    }\n\n    .dataframe tbody tr th {\n        vertical-align: top;\n    }\n\n    .dataframe thead th {\n        text-align: right;\n    }\n</style>\n<table border=\"1\" class=\"dataframe\">\n  <thead>\n    <tr style=\"text-align: right;\">\n      <th></th>\n      <th>a</th>\n      <th>b</th>\n      <th>c</th>\n      <th>a</th>\n      <th>d</th>\n    </tr>\n  </thead>\n  <tbody>\n    <tr>\n      <td>0</td>\n      <td>0.0</td>\n      <td>1.0</td>\n      <td>2.0</td>\n      <td>NaN</td>\n      <td>NaN</td>\n    </tr>\n    <tr>\n      <td>1</td>\n      <td>3.0</td>\n      <td>4.0</td>\n      <td>5.0</td>\n      <td>NaN</td>\n      <td>NaN</td>\n    </tr>\n    <tr>\n      <td>2</td>\n      <td>6.0</td>\n      <td>7.0</td>\n      <td>8.0</td>\n      <td>20.0</td>\n      <td>21.0</td>\n    </tr>\n    <tr>\n      <td>3</td>\n      <td>NaN</td>\n      <td>NaN</td>\n      <td>NaN</td>\n      <td>22.0</td>\n      <td>23.0</td>\n    </tr>\n    <tr>\n      <td>4</td>\n      <td>NaN</td>\n      <td>NaN</td>\n      <td>NaN</td>\n      <td>24.0</td>\n      <td>25.0</td>\n    </tr>\n  </tbody>\n</table>\n</div>"
     },
     "metadata": {},
     "execution_count": 9
    }
   ],
   "source": [
    "pd.concat([df3, df4], axis=1)"
   ]
  },
  {
   "cell_type": "code",
   "execution_count": 9,
   "metadata": {},
   "outputs": [
    {
     "output_type": "execute_result",
     "data": {
      "text/plain": [
       "   a  b  c   a   d\n",
       "2  6  7  8  20  21"
      ],
      "text/html": "<div>\n<style scoped>\n    .dataframe tbody tr th:only-of-type {\n        vertical-align: middle;\n    }\n\n    .dataframe tbody tr th {\n        vertical-align: top;\n    }\n\n    .dataframe thead th {\n        text-align: right;\n    }\n</style>\n<table border=\"1\" class=\"dataframe\">\n  <thead>\n    <tr style=\"text-align: right;\">\n      <th></th>\n      <th>a</th>\n      <th>b</th>\n      <th>c</th>\n      <th>a</th>\n      <th>d</th>\n    </tr>\n  </thead>\n  <tbody>\n    <tr>\n      <th>2</th>\n      <td>6</td>\n      <td>7</td>\n      <td>8</td>\n      <td>20</td>\n      <td>21</td>\n    </tr>\n  </tbody>\n</table>\n</div>"
     },
     "metadata": {},
     "execution_count": 9
    }
   ],
   "source": [
    "pd.concat([df3, df4], axis=1, join='inner')"
   ]
  },
  {
   "cell_type": "code",
   "execution_count": 10,
   "metadata": {},
   "outputs": [
    {
     "output_type": "execute_result",
     "data": {
      "text/plain": [
       "   CustomerID    Name             Address\n",
       "0          10    Mike    Address for Mike\n",
       "1          11  Marcia  Address for Marcia"
      ],
      "text/html": "<div>\n<style scoped>\n    .dataframe tbody tr th:only-of-type {\n        vertical-align: middle;\n    }\n\n    .dataframe tbody tr th {\n        vertical-align: top;\n    }\n\n    .dataframe thead th {\n        text-align: right;\n    }\n</style>\n<table border=\"1\" class=\"dataframe\">\n  <thead>\n    <tr style=\"text-align: right;\">\n      <th></th>\n      <th>CustomerID</th>\n      <th>Name</th>\n      <th>Address</th>\n    </tr>\n  </thead>\n  <tbody>\n    <tr>\n      <th>0</th>\n      <td>10</td>\n      <td>Mike</td>\n      <td>Address for Mike</td>\n    </tr>\n    <tr>\n      <th>1</th>\n      <td>11</td>\n      <td>Marcia</td>\n      <td>Address for Marcia</td>\n    </tr>\n  </tbody>\n</table>\n</div>"
     },
     "metadata": {},
     "execution_count": 10
    }
   ],
   "source": [
    "customers = {'CustomerID': [10, 11],\n",
    "             'Name': ['Mike', 'Marcia'],\n",
    "             'Address': ['Address for Mike',\n",
    "                         'Address for Marcia']}\n",
    "customers = pd.DataFrame(customers)\n",
    "customers"
   ]
  },
  {
   "cell_type": "code",
   "execution_count": 11,
   "metadata": {},
   "outputs": [
    {
     "output_type": "execute_result",
     "data": {
      "text/plain": [
       "   CustomerID   OrderDate\n",
       "0          10  2014-12-01\n",
       "1          11  2014-12-01\n",
       "2          10  2014-12-01"
      ],
      "text/html": "<div>\n<style scoped>\n    .dataframe tbody tr th:only-of-type {\n        vertical-align: middle;\n    }\n\n    .dataframe tbody tr th {\n        vertical-align: top;\n    }\n\n    .dataframe thead th {\n        text-align: right;\n    }\n</style>\n<table border=\"1\" class=\"dataframe\">\n  <thead>\n    <tr style=\"text-align: right;\">\n      <th></th>\n      <th>CustomerID</th>\n      <th>OrderDate</th>\n    </tr>\n  </thead>\n  <tbody>\n    <tr>\n      <th>0</th>\n      <td>10</td>\n      <td>2014-12-01</td>\n    </tr>\n    <tr>\n      <th>1</th>\n      <td>11</td>\n      <td>2014-12-01</td>\n    </tr>\n    <tr>\n      <th>2</th>\n      <td>10</td>\n      <td>2014-12-01</td>\n    </tr>\n  </tbody>\n</table>\n</div>"
     },
     "metadata": {},
     "execution_count": 11
    }
   ],
   "source": [
    "orders = {'CustomerID': [10, 11, 10],\n",
    "          'OrderDate': [date(2014, 12, 1),\n",
    "                        date(2014, 12, 1),\n",
    "                        date(2014, 12, 1)]}\n",
    "orders = pd.DataFrame(orders)\n",
    "orders"
   ]
  },
  {
   "cell_type": "code",
   "execution_count": 12,
   "metadata": {},
   "outputs": [
    {
     "output_type": "execute_result",
     "data": {
      "text/plain": [
       "   CustomerID    Name             Address   OrderDate\n",
       "0          10    Mike    Address for Mike  2014-12-01\n",
       "1          10    Mike    Address for Mike  2014-12-01\n",
       "2          11  Marcia  Address for Marcia  2014-12-01"
      ],
      "text/html": "<div>\n<style scoped>\n    .dataframe tbody tr th:only-of-type {\n        vertical-align: middle;\n    }\n\n    .dataframe tbody tr th {\n        vertical-align: top;\n    }\n\n    .dataframe thead th {\n        text-align: right;\n    }\n</style>\n<table border=\"1\" class=\"dataframe\">\n  <thead>\n    <tr style=\"text-align: right;\">\n      <th></th>\n      <th>CustomerID</th>\n      <th>Name</th>\n      <th>Address</th>\n      <th>OrderDate</th>\n    </tr>\n  </thead>\n  <tbody>\n    <tr>\n      <th>0</th>\n      <td>10</td>\n      <td>Mike</td>\n      <td>Address for Mike</td>\n      <td>2014-12-01</td>\n    </tr>\n    <tr>\n      <th>1</th>\n      <td>10</td>\n      <td>Mike</td>\n      <td>Address for Mike</td>\n      <td>2014-12-01</td>\n    </tr>\n    <tr>\n      <th>2</th>\n      <td>11</td>\n      <td>Marcia</td>\n      <td>Address for Marcia</td>\n      <td>2014-12-01</td>\n    </tr>\n  </tbody>\n</table>\n</div>"
     },
     "metadata": {},
     "execution_count": 12
    }
   ],
   "source": [
    "customers.merge(orders)"
   ]
  },
  {
   "cell_type": "code",
   "execution_count": 15,
   "metadata": {},
   "outputs": [
    {
     "output_type": "execute_result",
     "data": {
      "text/plain": [
       "  key1 key2  lval1\n",
       "0    a    x      0\n",
       "1    b    y      1\n",
       "2    c    z      2"
      ],
      "text/html": "<div>\n<style scoped>\n    .dataframe tbody tr th:only-of-type {\n        vertical-align: middle;\n    }\n\n    .dataframe tbody tr th {\n        vertical-align: top;\n    }\n\n    .dataframe thead th {\n        text-align: right;\n    }\n</style>\n<table border=\"1\" class=\"dataframe\">\n  <thead>\n    <tr style=\"text-align: right;\">\n      <th></th>\n      <th>key1</th>\n      <th>key2</th>\n      <th>lval1</th>\n    </tr>\n  </thead>\n  <tbody>\n    <tr>\n      <th>0</th>\n      <td>a</td>\n      <td>x</td>\n      <td>0</td>\n    </tr>\n    <tr>\n      <th>1</th>\n      <td>b</td>\n      <td>y</td>\n      <td>1</td>\n    </tr>\n    <tr>\n      <th>2</th>\n      <td>c</td>\n      <td>z</td>\n      <td>2</td>\n    </tr>\n  </tbody>\n</table>\n</div>"
     },
     "metadata": {},
     "execution_count": 15
    }
   ],
   "source": [
    "left_data = {'key1': ['a', 'b', 'c'], \n",
    "            'key2': ['x', 'y', 'z'],\n",
    "            'lval1': [ 0, 1, 2]}\n",
    "right_data = {'key1': ['a', 'b', 'c'],\n",
    "              'key2': ['x', 'a', 'z'], \n",
    "              'rval1': [ 6, 7, 8 ]}\n",
    "left_df = pd.DataFrame(left_data, index=[0, 1, 2])\n",
    "right_df = pd.DataFrame(right_data, index=[1, 2, 3])\n",
    "left_df"
   ]
  },
  {
   "cell_type": "code",
   "execution_count": 16,
   "metadata": {},
   "outputs": [
    {
     "output_type": "execute_result",
     "data": {
      "text/plain": [
       "  key1 key2  rval1\n",
       "1    a    x      6\n",
       "2    b    a      7\n",
       "3    c    z      8"
      ],
      "text/html": "<div>\n<style scoped>\n    .dataframe tbody tr th:only-of-type {\n        vertical-align: middle;\n    }\n\n    .dataframe tbody tr th {\n        vertical-align: top;\n    }\n\n    .dataframe thead th {\n        text-align: right;\n    }\n</style>\n<table border=\"1\" class=\"dataframe\">\n  <thead>\n    <tr style=\"text-align: right;\">\n      <th></th>\n      <th>key1</th>\n      <th>key2</th>\n      <th>rval1</th>\n    </tr>\n  </thead>\n  <tbody>\n    <tr>\n      <th>1</th>\n      <td>a</td>\n      <td>x</td>\n      <td>6</td>\n    </tr>\n    <tr>\n      <th>2</th>\n      <td>b</td>\n      <td>a</td>\n      <td>7</td>\n    </tr>\n    <tr>\n      <th>3</th>\n      <td>c</td>\n      <td>z</td>\n      <td>8</td>\n    </tr>\n  </tbody>\n</table>\n</div>"
     },
     "metadata": {},
     "execution_count": 16
    }
   ],
   "source": [
    "right_df"
   ]
  },
  {
   "cell_type": "code",
   "execution_count": 17,
   "metadata": {},
   "outputs": [
    {
     "output_type": "execute_result",
     "data": {
      "text/plain": [
       "  key1 key2  lval1  rval1\n",
       "0    a    x      0      6\n",
       "1    c    z      2      8"
      ],
      "text/html": "<div>\n<style scoped>\n    .dataframe tbody tr th:only-of-type {\n        vertical-align: middle;\n    }\n\n    .dataframe tbody tr th {\n        vertical-align: top;\n    }\n\n    .dataframe thead th {\n        text-align: right;\n    }\n</style>\n<table border=\"1\" class=\"dataframe\">\n  <thead>\n    <tr style=\"text-align: right;\">\n      <th></th>\n      <th>key1</th>\n      <th>key2</th>\n      <th>lval1</th>\n      <th>rval1</th>\n    </tr>\n  </thead>\n  <tbody>\n    <tr>\n      <th>0</th>\n      <td>a</td>\n      <td>x</td>\n      <td>0</td>\n      <td>6</td>\n    </tr>\n    <tr>\n      <th>1</th>\n      <td>c</td>\n      <td>z</td>\n      <td>2</td>\n      <td>8</td>\n    </tr>\n  </tbody>\n</table>\n</div>"
     },
     "metadata": {},
     "execution_count": 17
    }
   ],
   "source": [
    "#inner join default\n",
    "left_df.merge(right_df)"
   ]
  },
  {
   "cell_type": "code",
   "execution_count": 17,
   "metadata": {},
   "outputs": [
    {
     "output_type": "execute_result",
     "data": {
      "text/plain": [
       "  key1 key2  lval1  rval1\n",
       "0    a    x    0.0    6.0\n",
       "1    b    y    1.0    NaN\n",
       "2    c    z    2.0    8.0\n",
       "3    b    a    NaN    7.0"
      ],
      "text/html": "<div>\n<style scoped>\n    .dataframe tbody tr th:only-of-type {\n        vertical-align: middle;\n    }\n\n    .dataframe tbody tr th {\n        vertical-align: top;\n    }\n\n    .dataframe thead th {\n        text-align: right;\n    }\n</style>\n<table border=\"1\" class=\"dataframe\">\n  <thead>\n    <tr style=\"text-align: right;\">\n      <th></th>\n      <th>key1</th>\n      <th>key2</th>\n      <th>lval1</th>\n      <th>rval1</th>\n    </tr>\n  </thead>\n  <tbody>\n    <tr>\n      <td>0</td>\n      <td>a</td>\n      <td>x</td>\n      <td>0.0</td>\n      <td>6.0</td>\n    </tr>\n    <tr>\n      <td>1</td>\n      <td>b</td>\n      <td>y</td>\n      <td>1.0</td>\n      <td>NaN</td>\n    </tr>\n    <tr>\n      <td>2</td>\n      <td>c</td>\n      <td>z</td>\n      <td>2.0</td>\n      <td>8.0</td>\n    </tr>\n    <tr>\n      <td>3</td>\n      <td>b</td>\n      <td>a</td>\n      <td>NaN</td>\n      <td>7.0</td>\n    </tr>\n  </tbody>\n</table>\n</div>"
     },
     "metadata": {},
     "execution_count": 17
    }
   ],
   "source": [
    "#outer join\n",
    "left_df.merge(right_df, how='outer')"
   ]
  },
  {
   "cell_type": "code",
   "execution_count": 18,
   "metadata": {},
   "outputs": [
    {
     "output_type": "execute_result",
     "data": {
      "text/plain": [
       "  key1 key2  lval1  rval1\n",
       "0    a    x      0    6.0\n",
       "1    b    y      1    NaN\n",
       "2    c    z      2    8.0"
      ],
      "text/html": "<div>\n<style scoped>\n    .dataframe tbody tr th:only-of-type {\n        vertical-align: middle;\n    }\n\n    .dataframe tbody tr th {\n        vertical-align: top;\n    }\n\n    .dataframe thead th {\n        text-align: right;\n    }\n</style>\n<table border=\"1\" class=\"dataframe\">\n  <thead>\n    <tr style=\"text-align: right;\">\n      <th></th>\n      <th>key1</th>\n      <th>key2</th>\n      <th>lval1</th>\n      <th>rval1</th>\n    </tr>\n  </thead>\n  <tbody>\n    <tr>\n      <td>0</td>\n      <td>a</td>\n      <td>x</td>\n      <td>0</td>\n      <td>6.0</td>\n    </tr>\n    <tr>\n      <td>1</td>\n      <td>b</td>\n      <td>y</td>\n      <td>1</td>\n      <td>NaN</td>\n    </tr>\n    <tr>\n      <td>2</td>\n      <td>c</td>\n      <td>z</td>\n      <td>2</td>\n      <td>8.0</td>\n    </tr>\n  </tbody>\n</table>\n</div>"
     },
     "metadata": {},
     "execution_count": 18
    }
   ],
   "source": [
    "#left join\n",
    "left_df.merge(right_df, how='left')"
   ]
  },
  {
   "cell_type": "code",
   "execution_count": 19,
   "metadata": {},
   "outputs": [
    {
     "output_type": "execute_result",
     "data": {
      "text/plain": [
       "  key1 key2  lval1  rval1\n",
       "0    a    x    0.0      6\n",
       "1    c    z    2.0      8\n",
       "2    b    a    NaN      7"
      ],
      "text/html": "<div>\n<style scoped>\n    .dataframe tbody tr th:only-of-type {\n        vertical-align: middle;\n    }\n\n    .dataframe tbody tr th {\n        vertical-align: top;\n    }\n\n    .dataframe thead th {\n        text-align: right;\n    }\n</style>\n<table border=\"1\" class=\"dataframe\">\n  <thead>\n    <tr style=\"text-align: right;\">\n      <th></th>\n      <th>key1</th>\n      <th>key2</th>\n      <th>lval1</th>\n      <th>rval1</th>\n    </tr>\n  </thead>\n  <tbody>\n    <tr>\n      <td>0</td>\n      <td>a</td>\n      <td>x</td>\n      <td>0.0</td>\n      <td>6</td>\n    </tr>\n    <tr>\n      <td>1</td>\n      <td>c</td>\n      <td>z</td>\n      <td>2.0</td>\n      <td>8</td>\n    </tr>\n    <tr>\n      <td>2</td>\n      <td>b</td>\n      <td>a</td>\n      <td>NaN</td>\n      <td>7</td>\n    </tr>\n  </tbody>\n</table>\n</div>"
     },
     "metadata": {},
     "execution_count": 19
    }
   ],
   "source": [
    "#right join\n",
    "left_df.merge(right_df, how='right')"
   ]
  }
 ]
}