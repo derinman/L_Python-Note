{
 "cells": [
  {
   "cell_type": "code",
   "execution_count": null,
   "metadata": {},
   "outputs": [],
   "source": [
    "# PyUnit is Python’s built-in unit testing framework and Python’s version of the corresponding JUnit testing framework for Java. \n",
    "# To get started building a test file, we need to import the unittest library to use PyUnit"
   ]
  },
  {
   "cell_type": "code",
   "execution_count": null,
   "metadata": {},
   "outputs": [],
   "source": [
    "# unittest 模組是python中標準的 unit testing framework。\n",
    "# 相較於self-test的assert語法，unittest可以較明確指出實際與預期結果者間的差異"
   ]
  },
  {
   "cell_type": "code",
   "execution_count": null,
   "metadata": {},
   "outputs": [],
   "source": [
    "# unittest模組主要包括四個部份：\n",
    "\n",
    "# Test case(測試案例): 測試的最小單元\n",
    "\n",
    "# Test suite(測試套件): 一組測試案例、測試套件或者是兩者的組合\n",
    "\n",
    "# Test fixture(測試設備): \n",
    "# 測試開始前的前置作業(setUp)以及測試結束後的善後清理工作(tearDown)\n",
    "# 舉個例子，這可能包含建立臨時或代理的資料庫、目錄，再或者啟動一個伺服器程式\n",
    "\n",
    "# Test runner(測試執行器): 負責執行測試"
   ]
  }
 ],
 "metadata": {
  "language_info": {
   "name": "python"
  },
  "orig_nbformat": 4
 },
 "nbformat": 4,
 "nbformat_minor": 2
}
