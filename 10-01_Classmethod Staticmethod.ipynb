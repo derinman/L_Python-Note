{
 "metadata": {
  "language_info": {
   "codemirror_mode": {
    "name": "ipython",
    "version": 3
   },
   "file_extension": ".py",
   "mimetype": "text/x-python",
   "name": "python",
   "nbconvert_exporter": "python",
   "pygments_lexer": "ipython3",
   "version": "3.7.4-final"
  },
  "orig_nbformat": 2,
  "kernelspec": {
   "name": "Python 3.7.4 64-bit ('base': conda)",
   "display_name": "Python 3.7.4 64-bit ('base': conda)",
   "metadata": {
    "interpreter": {
     "hash": "b3ba2566441a7c06988d0923437866b63cedc61552a5af99d1f4fb67d367b25f"
    }
   }
  }
 },
 "nbformat": 4,
 "nbformat_minor": 2,
 "cells": [
  {
   "cell_type": "code",
   "execution_count": 4,
   "metadata": {},
   "outputs": [
    {
     "output_type": "stream",
     "name": "stdout",
     "text": [
      "do service... 5\n"
     ]
    }
   ],
   "source": [
    "#staticmethod\n",
    "#如果你在定義類別時希望某個函式，完全不要作為實例的綁定方法，\n",
    "#也就是不要將第一個參數綁定為所建立的實例，則可以使用@staticmethod加以修飾\n",
    "\n",
    "class Some:\n",
    "    @staticmethod\n",
    "    def service(x, y):\n",
    "        print('do service...', x + y)\n",
    "\n",
    "s = Some()\n",
    "s.service(1,4)"
   ]
  },
  {
   "cell_type": "code",
   "execution_count": 6,
   "metadata": {},
   "outputs": [],
   "source": [
    "#通常會綁定self\n",
    "\n",
    "class Some:\n",
    "    def __init__(self, x):\n",
    "       self.x = x    \n",
    "    def service(self, y):\n",
    "       print('do service...', self.x + y)"
   ]
  },
  {
   "cell_type": "code",
   "execution_count": 12,
   "metadata": {},
   "outputs": [
    {
     "output_type": "stream",
     "name": "stdout",
     "text": [
      "do service... <class '__main__.Some2'> 6\n"
     ]
    }
   ],
   "source": [
    "#classmethod\n",
    "#可以使用@classmethod來修飾一個函式成為類別方法，\n",
    "#這樣的方法第一個參數永遠綁定為類別物件本身\n",
    "\n",
    "class Some2:\n",
    "    def __init__(self, x):\n",
    "        self.x = x\n",
    "        \n",
    "    @classmethod\n",
    "    def service(cls, y):\n",
    "        print('do service...', cls, y)\n",
    "s2 = Some2(4)\n",
    "s2.service(6)"
   ]
  },
  {
   "cell_type": "code",
   "execution_count": 20,
   "metadata": {},
   "outputs": [
    {
     "output_type": "stream",
     "name": "stdout",
     "text": [
      "classmethod_sum: 3\n"
     ]
    }
   ],
   "source": [
    "class Test():\n",
    "    def __init__(self, a, b):\n",
    "        self.a = int(a)\n",
    "        self.b = int(b)\n",
    "\n",
    "    @classmethod\n",
    "    def classmethod_sum(cls, a, b):\n",
    "        cls.a = int(a)\n",
    "        cls.b = int(b)\n",
    "        print('classmethod_sum:', cls.a + cls.b)\n",
    "\n",
    "T1 = Test(100,200)\n",
    "T1.classmethod_sum(1,2)"
   ]
  }
 ]
}