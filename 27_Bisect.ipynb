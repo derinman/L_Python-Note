{
 "metadata": {
  "language_info": {
   "codemirror_mode": {
    "name": "ipython",
    "version": 3
   },
   "file_extension": ".py",
   "mimetype": "text/x-python",
   "name": "python",
   "nbconvert_exporter": "python",
   "pygments_lexer": "ipython3",
   "version": "3.7.4-final"
  },
  "orig_nbformat": 2,
  "kernelspec": {
   "name": "python3",
   "display_name": "Python 3"
  }
 },
 "nbformat": 4,
 "nbformat_minor": 2,
 "cells": [
  {
   "cell_type": "code",
   "execution_count": 16,
   "metadata": {
    "tags": []
   },
   "outputs": [
    {
     "output_type": "stream",
     "name": "stdout",
     "text": "10 -> [10]\n 0 -> [0, 10]\n 6 -> [0, 6, 10]\n 8 -> [0, 6, 8, 10]\n 7 -> [0, 6, 7, 8, 10]\n 2 -> [0, 2, 6, 7, 8, 10]\n10 -> [0, 2, 6, 7, 8, 10, 10]\n"
    }
   ],
   "source": [
    "import bisect\n",
    "import random\n",
    "\n",
    "SIZE = 7\n",
    "\n",
    "random.seed(1729)\n",
    "\n",
    "my_list = []\n",
    "for i in range(SIZE):\n",
    "    new_item = random.randrange(SIZE*2)\n",
    "    bisect.insort(my_list, new_item)\n",
    "    print('%2d ->' % new_item, my_list)"
   ]
  },
  {
   "cell_type": "code",
   "execution_count": 3,
   "metadata": {
    "tags": []
   },
   "outputs": [
    {
     "output_type": "stream",
     "name": "stdout",
     "text": "31 @ 14      |  |  |  |  |  |  |  |  |  |  |  |  |  |31\n30 @ 14      |  |  |  |  |  |  |  |  |  |  |  |  |  |30\n29 @ 13      |  |  |  |  |  |  |  |  |  |  |  |  |29\n23 @ 11      |  |  |  |  |  |  |  |  |  |  |23\n22 @  9      |  |  |  |  |  |  |  |  |22\n10 @  5      |  |  |  |  |10\n 8 @  5      |  |  |  |  |8 \n 5 @  3      |  |  |5 \n 2 @  1      |2 \n 1 @  1      |1 \n 0 @  0    0 \n"
    }
   ],
   "source": [
    "#bisect.bisect回傳插入位置\n",
    "import bisect\n",
    "import sys\n",
    "\n",
    "HAYSTACK = [1, 4, 5, 6, 8, 12, 15, 20, 21, 23, 23, 26, 29, 30]\n",
    "NEEDLES = [0, 1, 2, 5, 8, 10, 22, 23, 29, 30, 31]\n",
    "\n",
    "ROW_FMT = '{0:2d} @ {1:2d}    {2}{0:<2d}'\n",
    "\n",
    "def demo(bisect_fn):\n",
    "    for needle in reversed(NEEDLES):\n",
    "        position = bisect_fn(HAYSTACK, needle)  \n",
    "        offset = position * '  |'  \n",
    "        print(ROW_FMT.format(needle, position, offset))  \n",
    "\n",
    "if __name__ == '__main__':\n",
    "\n",
    "    if sys.argv[-1] == 'left':    # <4>\n",
    "        bisect_fn = bisect.bisect_left\n",
    "    else:\n",
    "        bisect_fn = bisect.bisect\n",
    "\n",
    "    print('DEMO:', bisect_fn.__name__)  # <5>\n",
    "    print('haystack ->', ' '.join('%2d' % n for n in HAYSTACK))\n",
    "    demo(bisect.bisect)"
   ]
  },
  {
   "cell_type": "code",
   "execution_count": 7,
   "metadata": {
    "tags": []
   },
   "outputs": [
    {
     "output_type": "stream",
     "name": "stdout",
     "text": "DEMO: bisect_right\nhaystack ->  1  4  5  6  8 12 15 20 21 23 23 26 29 30\n31 @ 14      |  |  |  |  |  |  |  |  |  |  |  |  |  |31\n30 @ 13      |  |  |  |  |  |  |  |  |  |  |  |  |30\n29 @ 12      |  |  |  |  |  |  |  |  |  |  |  |29\n23 @  9      |  |  |  |  |  |  |  |  |23\n22 @  9      |  |  |  |  |  |  |  |  |22\n10 @  5      |  |  |  |  |10\n 8 @  4      |  |  |  |8 \n 5 @  2      |  |5 \n 2 @  1      |2 \n 1 @  0    1 \n 0 @  0    0 \n"
    }
   ],
   "source": [
    "#比較bisect.bisect與bisect.bisect_left(數字相等時結果會不一樣)\n",
    "import bisect\n",
    "import sys\n",
    "\n",
    "HAYSTACK = [1, 4, 5, 6, 8, 12, 15, 20, 21, 23, 23, 26, 29, 30]\n",
    "NEEDLES = [0, 1, 2, 5, 8, 10, 22, 23, 29, 30, 31]\n",
    "\n",
    "ROW_FMT = '{0:2d} @ {1:2d}    {2}{0:<2d}'\n",
    "\n",
    "def demo(bisect_fn):\n",
    "    for needle in reversed(NEEDLES):\n",
    "        position = bisect_fn(HAYSTACK, needle)  \n",
    "        offset = position * '  |'  \n",
    "        print(ROW_FMT.format(needle, position, offset))  \n",
    "\n",
    "print('DEMO:', bisect_fn.__name__)  # <5>\n",
    "print('haystack ->', ' '.join('%2d' % n for n in HAYSTACK))\n",
    "demo(bisect.bisect_left)"
   ]
  },
  {
   "cell_type": "code",
   "execution_count": 10,
   "metadata": {},
   "outputs": [
    {
     "output_type": "execute_result",
     "data": {
      "text/plain": "['F', 'A', 'C', 'C', 'B', 'A', 'A']"
     },
     "metadata": {},
     "execution_count": 10
    }
   ],
   "source": [
    "import bisect\n",
    "\n",
    "def grade(score, breakpoints = [60, 70 ,80 ,90], grades = 'FDCBA'):\n",
    "    i = bisect.bisect(breakpoints, score)\n",
    "    return grades[i]\n",
    "\n",
    "[ grade(score) for score in [33,99,77,70,89,90,100] ]"
   ]
  }
 ]
}