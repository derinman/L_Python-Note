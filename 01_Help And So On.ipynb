{
 "metadata": {
  "language_info": {
   "codemirror_mode": {
    "name": "ipython",
    "version": 3
   },
   "file_extension": ".py",
   "mimetype": "text/x-python",
   "name": "python",
   "nbconvert_exporter": "python",
   "pygments_lexer": "ipython3",
   "version": "3.7.4-final"
  },
  "orig_nbformat": 2,
  "kernelspec": {
   "name": "python3",
   "display_name": "Python 3"
  }
 },
 "nbformat": 4,
 "nbformat_minor": 2,
 "cells": [
  {
   "cell_type": "code",
   "execution_count": 6,
   "metadata": {
    "tags": []
   },
   "outputs": [
    {
     "output_type": "stream",
     "name": "stdout",
     "text": "Help on built-in function print in module builtins:\n\nprint(...)\n    print(value, ..., sep=' ', end='\\n', file=sys.stdout, flush=False)\n    \n    Prints the values to a stream, or to sys.stdout by default.\n    Optional keyword arguments:\n    file:  a file-like object (stream); defaults to the current sys.stdout.\n    sep:   string inserted between values, default a space.\n    end:   string appended after the last value, default a newline.\n    flush: whether to forcibly flush the stream.\n\n"
    }
   ],
   "source": [
    "help(print)"
   ]
  },
  {
   "cell_type": "code",
   "execution_count": 3,
   "metadata": {
    "tags": []
   },
   "outputs": [
    {
     "output_type": "stream",
     "name": "stdout",
     "text": "Help on built-in function len in module builtins:\n\nlen(obj, /)\n    Return the number of items in a container.\n\n"
    }
   ],
   "source": [
    "help(len)"
   ]
  },
  {
   "cell_type": "code",
   "execution_count": 6,
   "metadata": {},
   "outputs": [
    {
     "output_type": "stream",
     "text": "\u001b[1;31mSignature:\u001b[0m \u001b[0mlen\u001b[0m\u001b[1;33m(\u001b[0m\u001b[0mobj\u001b[0m\u001b[1;33m,\u001b[0m \u001b[1;33m/\u001b[0m\u001b[1;33m)\u001b[0m\u001b[1;33m\u001b[0m\u001b[1;33m\u001b[0m\u001b[0m\n\u001b[1;31mDocstring:\u001b[0m Return the number of items in a container.\n\u001b[1;31mType:\u001b[0m      builtin_function_or_method\n"
    }
   ],
   "source": [
    "len?"
   ]
  },
  {
   "cell_type": "code",
   "execution_count": 11,
   "metadata": {
    "tags": []
   },
   "outputs": [
    {
     "output_type": "stream",
     "text": "\u001b[1;31mSignature:\u001b[0m \u001b[0mlen\u001b[0m\u001b[1;33m(\u001b[0m\u001b[0mobj\u001b[0m\u001b[1;33m,\u001b[0m \u001b[1;33m/\u001b[0m\u001b[1;33m)\u001b[0m\u001b[1;33m\u001b[0m\u001b[1;33m\u001b[0m\u001b[0m\n\u001b[1;31mDocstring:\u001b[0m Return the number of items in a container.\n\u001b[1;31mType:\u001b[0m      builtin_function_or_method\n"
    }
   ],
   "source": [
    "len??"
   ]
  },
  {
   "cell_type": "code",
   "execution_count": 19,
   "metadata": {
    "tags": []
   },
   "outputs": [
    {
     "output_type": "stream",
     "text": "\u001b[1;31mSignature:\u001b[0m \u001b[0mrandom\u001b[0m\u001b[1;33m.\u001b[0m\u001b[0mrandint\u001b[0m\u001b[1;33m(\u001b[0m\u001b[0ma\u001b[0m\u001b[1;33m,\u001b[0m \u001b[0mb\u001b[0m\u001b[1;33m)\u001b[0m\u001b[1;33m\u001b[0m\u001b[1;33m\u001b[0m\u001b[0m\n\u001b[1;31mDocstring:\u001b[0m\nReturn random integer in range [a, b], including both end points.\n        \n\u001b[1;31mFile:\u001b[0m      c:\\programdata\\anaconda3\\lib\\random.py\n\u001b[1;31mType:\u001b[0m      method\n"
    }
   ],
   "source": [
    "import random\n",
    "random.randint?"
   ]
  },
  {
   "cell_type": "code",
   "execution_count": 21,
   "metadata": {},
   "outputs": [
    {
     "output_type": "stream",
     "text": "\u001b[1;31mSignature:\u001b[0m \u001b[0mrandom\u001b[0m\u001b[1;33m.\u001b[0m\u001b[0mrandint\u001b[0m\u001b[1;33m(\u001b[0m\u001b[0ma\u001b[0m\u001b[1;33m,\u001b[0m \u001b[0mb\u001b[0m\u001b[1;33m)\u001b[0m\u001b[1;33m\u001b[0m\u001b[1;33m\u001b[0m\u001b[0m\n\u001b[1;31mDocstring:\u001b[0m\nReturn random integer in range [a, b], including both end points.\n        \n\u001b[1;31mSource:\u001b[0m   \n    \u001b[1;32mdef\u001b[0m \u001b[0mrandint\u001b[0m\u001b[1;33m(\u001b[0m\u001b[0mself\u001b[0m\u001b[1;33m,\u001b[0m \u001b[0ma\u001b[0m\u001b[1;33m,\u001b[0m \u001b[0mb\u001b[0m\u001b[1;33m)\u001b[0m\u001b[1;33m:\u001b[0m\u001b[1;33m\n\u001b[0m        \u001b[1;34m\"\"\"Return random integer in range [a, b], including both end points.\n        \"\"\"\u001b[0m\u001b[1;33m\n\u001b[0m\u001b[1;33m\n\u001b[0m        \u001b[1;32mreturn\u001b[0m \u001b[0mself\u001b[0m\u001b[1;33m.\u001b[0m\u001b[0mrandrange\u001b[0m\u001b[1;33m(\u001b[0m\u001b[0ma\u001b[0m\u001b[1;33m,\u001b[0m \u001b[0mb\u001b[0m\u001b[1;33m+\u001b[0m\u001b[1;36m1\u001b[0m\u001b[1;33m)\u001b[0m\u001b[1;33m\u001b[0m\u001b[1;33m\u001b[0m\u001b[0m\n\u001b[1;31mFile:\u001b[0m      c:\\programdata\\anaconda3\\lib\\random.py\n\u001b[1;31mType:\u001b[0m      method\n"
    }
   ],
   "source": [
    "import random\n",
    "random.randint??"
   ]
  },
  {
   "cell_type": "code",
   "execution_count": 31,
   "metadata": {
    "tags": []
   },
   "outputs": [
    {
     "output_type": "execute_result",
     "data": {
      "text/plain": "'Return the number of items in a container.'"
     },
     "metadata": {},
     "execution_count": 31
    }
   ],
   "source": [
    "len.__doc__"
   ]
  },
  {
   "cell_type": "code",
   "execution_count": 1,
   "metadata": {},
   "outputs": [
    {
     "output_type": "stream",
     "text": "BytesWarning\nDeprecationWarning\nFutureWarning\nImportWarning\nPendingDeprecationWarning\nResourceWarning\nRuntimeWarning\nSyntaxWarning\nUnicodeWarning\nUserWarning\nWarning"
    }
   ],
   "source": [
    "*Warning?"
   ]
  },
  {
   "cell_type": "code",
   "execution_count": 2,
   "metadata": {},
   "outputs": [
    {
     "output_type": "execute_result",
     "data": {
      "text/plain": "['ALLOW_THREADS',\n 'AxisError',\n 'BUFSIZE',\n 'CLIP',\n 'ComplexWarning',\n 'DataSource',\n 'ERR_CALL',\n 'ERR_DEFAULT',\n 'ERR_IGNORE',\n 'ERR_LOG',\n 'ERR_PRINT',\n 'ERR_RAISE',\n 'ERR_WARN',\n 'FLOATING_POINT_SUPPORT',\n 'FPE_DIVIDEBYZERO',\n 'FPE_INVALID',\n 'FPE_OVERFLOW',\n 'FPE_UNDERFLOW',\n 'False_',\n 'Inf',\n 'Infinity',\n 'MAXDIMS',\n 'MAY_SHARE_BOUNDS',\n 'MAY_SHARE_EXACT',\n 'MachAr',\n 'ModuleDeprecationWarning',\n 'NAN',\n 'NINF',\n 'NZERO',\n 'NaN',\n 'PINF',\n 'PZERO',\n 'RAISE',\n 'RankWarning',\n 'SHIFT_DIVIDEBYZERO',\n 'SHIFT_INVALID',\n 'SHIFT_OVERFLOW',\n 'SHIFT_UNDERFLOW',\n 'ScalarType',\n 'Tester',\n 'TooHardError',\n 'True_',\n 'UFUNC_BUFSIZE_DEFAULT',\n 'UFUNC_PYVALS_NAME',\n 'VisibleDeprecationWarning',\n 'WRAP',\n '_NoValue',\n '_UFUNC_API',\n '__NUMPY_SETUP__',\n '__all__',\n '__builtins__',\n '__cached__',\n '__config__',\n '__doc__',\n '__file__',\n '__git_revision__',\n '__loader__',\n '__mkl_version__',\n '__name__',\n '__package__',\n '__path__',\n '__spec__',\n '__version__',\n '_add_newdoc_ufunc',\n '_arg',\n '_distributor_init',\n '_globals',\n '_mat',\n '_mklinit',\n '_pytesttester',\n 'abs',\n 'absolute',\n 'absolute_import',\n 'add',\n 'add_docstring',\n 'add_newdoc',\n 'add_newdoc_ufunc',\n 'alen',\n 'all',\n 'allclose',\n 'alltrue',\n 'amax',\n 'amin',\n 'angle',\n 'any',\n 'append',\n 'apply_along_axis',\n 'apply_over_axes',\n 'arange',\n 'arccos',\n 'arccosh',\n 'arcsin',\n 'arcsinh',\n 'arctan',\n 'arctan2',\n 'arctanh',\n 'argmax',\n 'argmin',\n 'argpartition',\n 'argsort',\n 'argwhere',\n 'around',\n 'array',\n 'array2string',\n 'array_equal',\n 'array_equiv',\n 'array_repr',\n 'array_split',\n 'array_str',\n 'asanyarray',\n 'asarray',\n 'asarray_chkfinite',\n 'ascontiguousarray',\n 'asfarray',\n 'asfortranarray',\n 'asmatrix',\n 'asscalar',\n 'atleast_1d',\n 'atleast_2d',\n 'atleast_3d',\n 'average',\n 'bartlett',\n 'base_repr',\n 'binary_repr',\n 'bincount',\n 'bitwise_and',\n 'bitwise_not',\n 'bitwise_or',\n 'bitwise_xor',\n 'blackman',\n 'block',\n 'bmat',\n 'bool',\n 'bool8',\n 'bool_',\n 'broadcast',\n 'broadcast_arrays',\n 'broadcast_to',\n 'busday_count',\n 'busday_offset',\n 'busdaycalendar',\n 'byte',\n 'byte_bounds',\n 'bytes0',\n 'bytes_',\n 'c_',\n 'can_cast',\n 'cast',\n 'cbrt',\n 'cdouble',\n 'ceil',\n 'cfloat',\n 'char',\n 'character',\n 'chararray',\n 'choose',\n 'clip',\n 'clongdouble',\n 'clongfloat',\n 'column_stack',\n 'common_type',\n 'compare_chararrays',\n 'compat',\n 'complex',\n 'complex128',\n 'complex64',\n 'complex_',\n 'complexfloating',\n 'compress',\n 'concatenate',\n 'conj',\n 'conjugate',\n 'convolve',\n 'copy',\n 'copysign',\n 'copyto',\n 'core',\n 'corrcoef',\n 'correlate',\n 'cos',\n 'cosh',\n 'count_nonzero',\n 'cov',\n 'cross',\n 'csingle',\n 'ctypeslib',\n 'cumprod',\n 'cumproduct',\n 'cumsum',\n 'datetime64',\n 'datetime_as_string',\n 'datetime_data',\n 'deg2rad',\n 'degrees',\n 'delete',\n 'deprecate',\n 'deprecate_with_doc',\n 'diag',\n 'diag_indices',\n 'diag_indices_from',\n 'diagflat',\n 'diagonal',\n 'diff',\n 'digitize',\n 'disp',\n 'divide',\n 'division',\n 'divmod',\n 'dot',\n 'double',\n 'dsplit',\n 'dstack',\n 'dtype',\n 'e',\n 'ediff1d',\n 'einsum',\n 'einsum_path',\n 'emath',\n 'empty',\n 'empty_like',\n 'equal',\n 'errstate',\n 'euler_gamma',\n 'exp',\n 'exp2',\n 'expand_dims',\n 'expm1',\n 'extract',\n 'eye',\n 'fabs',\n 'fastCopyAndTranspose',\n 'fft',\n 'fill_diagonal',\n 'find_common_type',\n 'finfo',\n 'fix',\n 'flatiter',\n 'flatnonzero',\n 'flexible',\n 'flip',\n 'fliplr',\n 'flipud',\n 'float',\n 'float16',\n 'float32',\n 'float64',\n 'float_',\n 'float_power',\n 'floating',\n 'floor',\n 'floor_divide',\n 'fmax',\n 'fmin',\n 'fmod',\n 'format_float_positional',\n 'format_float_scientific',\n 'format_parser',\n 'frexp',\n 'frombuffer',\n 'fromfile',\n 'fromfunction',\n 'fromiter',\n 'frompyfunc',\n 'fromregex',\n 'fromstring',\n 'full',\n 'full_like',\n 'fv',\n 'gcd',\n 'generic',\n 'genfromtxt',\n 'geomspace',\n 'get_array_wrap',\n 'get_include',\n 'get_printoptions',\n 'getbufsize',\n 'geterr',\n 'geterrcall',\n 'geterrobj',\n 'gradient',\n 'greater',\n 'greater_equal',\n 'half',\n 'hamming',\n 'hanning',\n 'heaviside',\n 'histogram',\n 'histogram2d',\n 'histogram_bin_edges',\n 'histogramdd',\n 'hsplit',\n 'hstack',\n 'hypot',\n 'i0',\n 'identity',\n 'iinfo',\n 'imag',\n 'in1d',\n 'index_exp',\n 'indices',\n 'inexact',\n 'inf',\n 'info',\n 'infty',\n 'inner',\n 'insert',\n 'int',\n 'int0',\n 'int16',\n 'int32',\n 'int64',\n 'int8',\n 'int_',\n 'int_asbuffer',\n 'intc',\n 'integer',\n 'interp',\n 'intersect1d',\n 'intp',\n 'invert',\n 'ipmt',\n 'irr',\n 'is_busday',\n 'isclose',\n 'iscomplex',\n 'iscomplexobj',\n 'isfinite',\n 'isfortran',\n 'isin',\n 'isinf',\n 'isnan',\n 'isnat',\n 'isneginf',\n 'isposinf',\n 'isreal',\n 'isrealobj',\n 'isscalar',\n 'issctype',\n 'issubclass_',\n 'issubdtype',\n 'issubsctype',\n 'iterable',\n 'ix_',\n 'kaiser',\n 'kron',\n 'lcm',\n 'ldexp',\n 'left_shift',\n 'less',\n 'less_equal',\n 'lexsort',\n 'lib',\n 'linalg',\n 'linspace',\n 'little_endian',\n 'load',\n 'loads',\n 'loadtxt',\n 'log',\n 'log10',\n 'log1p',\n 'log2',\n 'logaddexp',\n 'logaddexp2',\n 'logical_and',\n 'logical_not',\n 'logical_or',\n 'logical_xor',\n 'logspace',\n 'long',\n 'longcomplex',\n 'longdouble',\n 'longfloat',\n 'longlong',\n 'lookfor',\n 'ma',\n 'mafromtxt',\n 'mask_indices',\n 'mat',\n 'math',\n 'matmul',\n 'matrix',\n 'matrixlib',\n 'max',\n 'maximum',\n 'maximum_sctype',\n 'may_share_memory',\n 'mean',\n 'median',\n 'memmap',\n 'meshgrid',\n 'mgrid',\n 'min',\n 'min_scalar_type',\n 'minimum',\n 'mintypecode',\n 'mirr',\n 'mod',\n 'modf',\n 'moveaxis',\n 'msort',\n 'multiply',\n 'nan',\n 'nan_to_num',\n 'nanargmax',\n 'nanargmin',\n 'nancumprod',\n 'nancumsum',\n 'nanmax',\n 'nanmean',\n 'nanmedian',\n 'nanmin',\n 'nanpercentile',\n 'nanprod',\n 'nanquantile',\n 'nanstd',\n 'nansum',\n 'nanvar',\n 'nbytes',\n 'ndarray',\n 'ndenumerate',\n 'ndfromtxt',\n 'ndim',\n 'ndindex',\n 'nditer',\n 'negative',\n 'nested_iters',\n 'newaxis',\n 'nextafter',\n 'nonzero',\n 'not_equal',\n 'nper',\n 'npv',\n 'numarray',\n 'number',\n 'obj2sctype',\n 'object',\n 'object0',\n 'object_',\n 'ogrid',\n 'oldnumeric',\n 'ones',\n 'ones_like',\n 'outer',\n 'packbits',\n 'pad',\n 'partition',\n 'percentile',\n 'pi',\n 'piecewise',\n 'place',\n 'pmt',\n 'poly',\n 'poly1d',\n 'polyadd',\n 'polyder',\n 'polydiv',\n 'polyfit',\n 'polyint',\n 'polymul',\n 'polynomial',\n 'polysub',\n 'polyval',\n 'positive',\n 'power',\n 'ppmt',\n 'print_function',\n 'printoptions',\n 'prod',\n 'product',\n 'promote_types',\n 'ptp',\n 'put',\n 'put_along_axis',\n 'putmask',\n 'pv',\n 'quantile',\n 'r_',\n 'rad2deg',\n 'radians',\n 'random',\n 'rank',\n 'rate',\n 'ravel',\n 'ravel_multi_index',\n 'real',\n 'real_if_close',\n 'rec',\n 'recarray',\n 'recfromcsv',\n 'recfromtxt',\n 'reciprocal',\n 'record',\n 'remainder',\n 'repeat',\n 'require',\n 'reshape',\n 'resize',\n 'result_type',\n 'right_shift',\n 'rint',\n 'roll',\n 'rollaxis',\n 'roots',\n 'rot90',\n 'round',\n 'round_',\n 'row_stack',\n 's_',\n 'safe_eval',\n 'save',\n 'savetxt',\n 'savez',\n 'savez_compressed',\n 'sctype2char',\n 'sctypeDict',\n 'sctypeNA',\n 'sctypes',\n 'searchsorted',\n 'select',\n 'set_numeric_ops',\n 'set_printoptions',\n 'set_string_function',\n 'setbufsize',\n 'setdiff1d',\n 'seterr',\n 'seterrcall',\n 'seterrobj',\n 'setxor1d',\n 'shape',\n 'shares_memory',\n 'short',\n 'show_config',\n 'sign',\n 'signbit',\n 'signedinteger',\n 'sin',\n 'sinc',\n 'single',\n 'singlecomplex',\n 'sinh',\n 'size',\n 'sometrue',\n 'sort',\n 'sort_complex',\n 'source',\n 'spacing',\n 'split',\n 'sqrt',\n 'square',\n 'squeeze',\n 'stack',\n 'std',\n 'str',\n 'str0',\n 'str_',\n 'string_',\n 'subtract',\n 'sum',\n 'swapaxes',\n 'sys',\n 'take',\n 'take_along_axis',\n 'tan',\n 'tanh',\n 'tensordot',\n 'test',\n 'testing',\n 'tile',\n 'timedelta64',\n 'trace',\n 'tracemalloc_domain',\n 'transpose',\n 'trapz',\n 'tri',\n 'tril',\n 'tril_indices',\n 'tril_indices_from',\n 'trim_zeros',\n 'triu',\n 'triu_indices',\n 'triu_indices_from',\n 'true_divide',\n 'trunc',\n 'typeDict',\n 'typeNA',\n 'typecodes',\n 'typename',\n 'ubyte',\n 'ufunc',\n 'uint',\n 'uint0',\n 'uint16',\n 'uint32',\n 'uint64',\n 'uint8',\n 'uintc',\n 'uintp',\n 'ulonglong',\n 'unicode',\n 'unicode_',\n 'union1d',\n 'unique',\n 'unpackbits',\n 'unravel_index',\n 'unsignedinteger',\n 'unwrap',\n 'ushort',\n 'vander',\n 'var',\n 'vdot',\n 'vectorize',\n 'version',\n 'void',\n 'void0',\n 'vsplit',\n 'vstack',\n 'warnings',\n 'where',\n 'who',\n 'zeros',\n 'zeros_like']"
     },
     "metadata": {},
     "execution_count": 2
    }
   ],
   "source": [
    "import numpy\n",
    "dir(numpy)"
   ]
  },
  {
   "cell_type": "code",
   "execution_count": 47,
   "metadata": {},
   "outputs": [
    {
     "output_type": "stream",
     "text": "str.find\nstr.rfind"
    }
   ],
   "source": [
    "str.*find?"
   ]
  },
  {
   "cell_type": "code",
   "execution_count": 50,
   "metadata": {},
   "outputs": [
    {
     "output_type": "stream",
     "text": "str.__add__\nstr.__base__\nstr.__bases__\nstr.__basicsize__\nstr.__call__\nstr.__class__\nstr.__contains__\nstr.__delattr__\nstr.__dict__\nstr.__dictoffset__\nstr.__dir__\nstr.__doc__\nstr.__eq__\nstr.__flags__\nstr.__format__\nstr.__ge__\nstr.__getattribute__\nstr.__getitem__\nstr.__getnewargs__\nstr.__gt__\nstr.__hash__\nstr.__init__\nstr.__init_subclass__\nstr.__instancecheck__\nstr.__itemsize__\nstr.__iter__\nstr.__le__\nstr.__len__\nstr.__lt__\nstr.__mod__\nstr.__module__\nstr.__mro__\nstr.__mul__\nstr.__name__\nstr.__ne__\nstr.__new__\nstr.__prepare__\nstr.__qualname__\nstr.__reduce__\nstr.__reduce_ex__\nstr.__repr__\nstr.__rmod__\nstr.__rmul__\nstr.__setattr__\nstr.__sizeof__\nstr.__str__\nstr.__subclasscheck__\nstr.__subclasses__\nstr.__subclasshook__\nstr.__text_signature__\nstr.__weakrefoffset__\nstr.capitalize\nstr.casefold\nstr.center\nstr.count\nstr.encode\nstr.endswith\nstr.expandtabs\nstr.find\nstr.format\nstr.format_map\nstr.index\nstr.isalnum\nstr.isalpha\nstr.isascii\nstr.isdecimal\nstr.isdigit\nstr.isidentifier\nstr.islower\nstr.isnumeric\nstr.isprintable\nstr.isspace\nstr.istitle\nstr.isupper\nstr.join\nstr.ljust\nstr.lower\nstr.lstrip\nstr.maketrans\nstr.mro\nstr.partition\nstr.replace\nstr.rfind\nstr.rindex\nstr.rjust\nstr.rpartition\nstr.rsplit\nstr.rstrip\nstr.split\nstr.splitlines\nstr.startswith\nstr.strip\nstr.swapcase\nstr.title\nstr.translate\nstr.upper\nstr.zfill"
    }
   ],
   "source": [
    "str.*?"
   ]
  },
  {
   "cell_type": "code",
   "execution_count": 53,
   "metadata": {},
   "outputs": [
    {
     "output_type": "stream",
     "text": "random.BPF\nrandom.LOG4\nrandom.NV_MAGICCONST\nrandom.RECIP_BPF\nrandom.Random\nrandom.SG_MAGICCONST\nrandom.SystemRandom\nrandom.TWOPI\nrandom.__all__\nrandom.__builtins__\nrandom.__cached__\nrandom.__class__\nrandom.__delattr__\nrandom.__dict__\nrandom.__dir__\nrandom.__doc__\nrandom.__eq__\nrandom.__file__\nrandom.__format__\nrandom.__ge__\nrandom.__getattribute__\nrandom.__gt__\nrandom.__hash__\nrandom.__init__\nrandom.__init_subclass__\nrandom.__le__\nrandom.__loader__\nrandom.__lt__\nrandom.__name__\nrandom.__ne__\nrandom.__new__\nrandom.__package__\nrandom.__reduce__\nrandom.__reduce_ex__\nrandom.__repr__\nrandom.__setattr__\nrandom.__sizeof__\nrandom.__spec__\nrandom.__str__\nrandom.__subclasshook__\nrandom.betavariate\nrandom.choice\nrandom.choices\nrandom.expovariate\nrandom.gammavariate\nrandom.gauss\nrandom.getrandbits\nrandom.getstate\nrandom.lognormvariate\nrandom.normalvariate\nrandom.paretovariate\nrandom.randint\nrandom.random\nrandom.randrange\nrandom.sample\nrandom.seed\nrandom.setstate\nrandom.shuffle\nrandom.triangular\nrandom.uniform\nrandom.vonmisesvariate\nrandom.weibullvariate"
    }
   ],
   "source": [
    "import random\n",
    "random.*?"
   ]
  },
  {
   "cell_type": "code",
   "execution_count": 59,
   "metadata": {
    "tags": []
   },
   "outputs": [
    {
     "output_type": "stream",
     "name": "stdout",
     "text": "hihi\n"
    }
   ],
   "source": [
    "%run 000_test2.py"
   ]
  },
  {
   "cell_type": "code",
   "execution_count": 62,
   "metadata": {
    "tags": []
   },
   "outputs": [
    {
     "output_type": "stream",
     "name": "stdout",
     "text": "23.3 µs ± 162 ns per loop (mean ± std. dev. of 7 runs, 10000 loops each)\n"
    }
   ],
   "source": [
    "%timeit l1 = [n**2 for n in range(101)] #loops數量會自動調整"
   ]
  },
  {
   "cell_type": "code",
   "execution_count": 64,
   "metadata": {
    "tags": []
   },
   "outputs": [
    {
     "output_type": "stream",
     "name": "stdout",
     "text": "236 µs ± 331 ns per loop (mean ± std. dev. of 7 runs, 1000 loops each)\n"
    }
   ],
   "source": [
    "%timeit l1 = [n**2 for n in range(1001)]"
   ]
  },
  {
   "cell_type": "code",
   "execution_count": 66,
   "metadata": {
    "tags": []
   },
   "outputs": [
    {
     "output_type": "stream",
     "name": "stdout",
     "text": "2.34 ms ± 7.99 µs per loop (mean ± std. dev. of 7 runs, 100 loops each)\n"
    }
   ],
   "source": [
    "%timeit l1 = [n**2 for n in range(10001)]"
   ]
  },
  {
   "cell_type": "code",
   "execution_count": 68,
   "metadata": {
    "tags": []
   },
   "outputs": [
    {
     "output_type": "stream",
     "name": "stdout",
     "text": "24 ms ± 103 µs per loop (mean ± std. dev. of 7 runs, 10 loops each)\n"
    }
   ],
   "source": [
    "%timeit l1 = [n**2 for n in range(100001)]"
   ]
  },
  {
   "cell_type": "code",
   "execution_count": 90,
   "metadata": {
    "tags": []
   },
   "outputs": [
    {
     "output_type": "execute_result",
     "data": {
      "text/plain": "['',\n \"get_ipython().run_line_magic('pinfo', 'len')\",\n \"get_ipython().run_line_magic('pinfo2', 'len')\",\n 'help(len)',\n \"get_ipython().run_line_magic('pinfo', 'len')\",\n \"get_ipython().run_line_magic('pinfo2', 'len')\",\n \"get_ipython().run_line_magic('pinfo', 'len')\",\n \"get_ipython().run_line_magic('pinfo', 'square')\",\n \"get_ipython().run_line_magic('pinfo', 'add')\",\n 'add()?',\n \"get_ipython().run_line_magic('pinfo2', 'len')\",\n \"get_ipython().run_line_magic('pinfo2', 'len')\",\n \"get_ipython().run_line_magic('pinfo', 'random')\",\n 'random()?',\n \"get_ipython().run_line_magic('pinfo', 'random.choice')\",\n \"get_ipython().run_line_magic('pinfo', 'random.seed')\",\n \"import random\\nget_ipython().run_line_magic('pinfo2', 'random.seed')\",\n \"import random\\nget_ipython().run_line_magic('pinfo2', 'random.randint')\",\n \"import random\\nget_ipython().run_line_magic('pinfo', 'random.randint')\",\n \"import random\\nget_ipython().run_line_magic('pinfo', 'random.randint')\",\n \"import random\\nget_ipython().run_line_magic('pinfo2', 'random.randint')\",\n \"import random\\nget_ipython().run_line_magic('pinfo2', 'random.randint')\",\n 'L.  ',\n 'L.  ',\n 'L._',\n 'L._<TAB>',\n 'L.<TAB>',\n 'print(l)',\n 'random',\n 'print(random)',\n 'random.',\n 'len.__doc__',\n 'random.__doc__',\n 'random',\n \"get_ipython().run_line_magic('pinfo', 'random')\",\n 'random',\n 'random.__name__',\n 'Warning',\n \"get_ipython().run_line_magic('psearch', '*Warning')\",\n \"get_ipython().run_line_magic('psearch', '*Warning')\",\n \"get_ipython().run_line_magic('psearch', '*random')\",\n 'str.?',\n '*str.?',\n \"get_ipython().run_line_magic('psearch', '*str')\",\n \"get_ipython().run_line_magic('psearch', 'str.*find*')\",\n \"get_ipython().run_line_magic('psearch', '*find*')\",\n \"get_ipython().run_line_magic('psearch', 'str.*find')\",\n \"get_ipython().run_line_magic('psearch', 'str.*find')\",\n 'str.?',\n \"get_ipython().run_line_magic('psearch', 'str.*')\",\n \"get_ipython().run_line_magic('psearch', 'str.*')\",\n 'L',\n \"import random\\nget_ipython().run_line_magic('psearch', 'random.*')\",\n \"import random\\nget_ipython().run_line_magic('psearch', 'random.*')\",\n \"get_ipython().run_line_magic('paste', '')\",\n \"get_ipython().run_line_magic('paste', '')\",\n \"get_ipython().run_line_magic('run', 'test2.py')\",\n \"get_ipython().run_line_magic('pinfo', '%run')\",\n \"get_ipython().run_line_magic('run', '000_test2.py')\",\n \"get_ipython().run_line_magic('run', '000_test2.py')\",\n \"get_ipython().run_line_magic('pinfo', '%paste')\",\n \"get_ipython().run_line_magic('timeit', 'l1 = [n**2 for n in range(101)]')\",\n \"get_ipython().run_line_magic('timeit', 'l1 = [n**2 for n in range(101)]')\",\n \"get_ipython().run_line_magic('timeit', 'l1 = [n**2 for n in range(1001)]')\",\n \"get_ipython().run_line_magic('timeit', 'l1 = [n**2 for n in range(1001)]')\",\n \"get_ipython().run_line_magic('timeit', 'l1 = [n**2 for n in range(10001)]')\",\n \"get_ipython().run_line_magic('timeit', 'l1 = [n**2 for n in range(10001)]')\",\n \"get_ipython().run_line_magic('timeit', 'l1 = [n**2 for n in range(100001)]')\",\n \"get_ipython().run_line_magic('timeit', 'l1 = [n**2 for n in range(100001)]')\",\n \"get_ipython().run_line_magic('magic', '')\",\n \"get_ipython().run_line_magic('pinfo', '%magic')\",\n \"get_ipython().run_line_magic('pinfo2', '%magic')\",\n \"get_ipython().run_line_magic('lsmagic', '')\",\n \"get_ipython().run_line_magic('lsmagic', '')\",\n \"get_ipython().run_line_magic('ls', 'magic')\",\n 'pirnt(In)',\n 'print(In)',\n 'print(In)',\n 'pirnt(Out)',\n 'Out',\n 'print(In[68])',\n 'print(Out[68])',\n 'print(Out[80])',\n 'print(Out[2])',\n 'print(Out[10])',\n 'Out[10]',\n 'Out',\n 'Out[33]',\n 'Out[]',\n 'Out',\n 'In']"
     },
     "metadata": {},
     "execution_count": 90
    }
   ],
   "source": [
    "#In是一個list\n",
    "In"
   ]
  },
  {
   "cell_type": "code",
   "execution_count": 91,
   "metadata": {},
   "outputs": [
    {
     "output_type": "execute_result",
     "data": {
      "text/plain": "{28: <module 'random' from 'C:\\\\ProgramData\\\\Anaconda3\\\\lib\\\\random.py'>,\n 31: 'Return the number of items in a container.',\n 32: 'Random variable generators.\\n\\n    integers\\n    --------\\n           uniform within range\\n\\n    sequences\\n    ---------\\n           pick random element\\n           pick random sample\\n           pick weighted random sample\\n           generate random permutation\\n\\n    distributions on the real line:\\n    ------------------------------\\n           uniform\\n           triangular\\n           normal (Gaussian)\\n           lognormal\\n           negative exponential\\n           gamma\\n           beta\\n           pareto\\n           Weibull\\n\\n    distributions on the circle (angles 0 to 2pi)\\n    ---------------------------------------------\\n           circular uniform\\n           von Mises\\n\\nGeneral notes on the underlying Mersenne Twister core generator:\\n\\n* The period is 2**19937-1.\\n* It is one of the most extensively tested generators in existence.\\n* The random() method is implemented in C, executes in a single Python step,\\n  and is, therefore, threadsafe.\\n\\n',\n 33: <module 'random' from 'C:\\\\ProgramData\\\\Anaconda3\\\\lib\\\\random.py'>,\n 35: <module 'random' from 'C:\\\\ProgramData\\\\Anaconda3\\\\lib\\\\random.py'>,\n 36: 'random',\n 37: Warning,\n 72: Available line magics:\n%alias  %alias_magic  %autoawait  %autocall  %automagic  %autosave  %bookmark  %cd  %clear  %cls  %colors  %conda  %config  %connect_info  %copy  %ddir  %debug  %dhist  %dirs  %doctest_mode  %echo  %ed  %edit  %env  %gui  %hist  %history  %killbgscripts  %ldir  %less  %load  %load_ext  %loadpy  %logoff  %logon  %logstart  %logstate  %logstop  %ls  %lsmagic  %macro  %magic  %matplotlib  %mkdir  %more  %notebook  %page  %pastebin  %pdb  %pdef  %pdoc  %pfile  %pinfo  %pinfo2  %pip  %popd  %pprint  %precision  %prun  %psearch  %psource  %pushd  %pwd  %pycat  %pylab  %qtconsole  %quickref  %recall  %rehashx  %reload_ext  %ren  %rep  %rerun  %reset  %reset_selective  %rmdir  %run  %save  %sc  %set_env  %store  %sx  %system  %tb  %time  %timeit  %unalias  %unload_ext  %who  %who_ls  %whos  %xdel  %xmode\n\nAvailable cell magics:\n%%!  %%HTML  %%SVG  %%bash  %%capture  %%cmd  %%debug  %%file  %%html  %%javascript  %%js  %%latex  %%markdown  %%perl  %%prun  %%pypy  %%python  %%python2  %%python3  %%ruby  %%script  %%sh  %%svg  %%sx  %%system  %%time  %%timeit  %%writefile\n\nAutomagic is ON, % prefix IS NOT needed for line magics.,\n 73: Available line magics:\n%alias  %alias_magic  %autoawait  %autocall  %automagic  %autosave  %bookmark  %cd  %clear  %cls  %colors  %conda  %config  %connect_info  %copy  %ddir  %debug  %dhist  %dirs  %doctest_mode  %echo  %ed  %edit  %env  %gui  %hist  %history  %killbgscripts  %ldir  %less  %load  %load_ext  %loadpy  %logoff  %logon  %logstart  %logstate  %logstop  %ls  %lsmagic  %macro  %magic  %matplotlib  %mkdir  %more  %notebook  %page  %pastebin  %pdb  %pdef  %pdoc  %pfile  %pinfo  %pinfo2  %pip  %popd  %pprint  %precision  %prun  %psearch  %psource  %pushd  %pwd  %pycat  %pylab  %qtconsole  %quickref  %recall  %rehashx  %reload_ext  %ren  %rep  %rerun  %reset  %reset_selective  %rmdir  %run  %save  %sc  %set_env  %store  %sx  %system  %tb  %time  %timeit  %unalias  %unload_ext  %who  %who_ls  %whos  %xdel  %xmode\n\nAvailable cell magics:\n%%!  %%HTML  %%SVG  %%bash  %%capture  %%cmd  %%debug  %%file  %%html  %%javascript  %%js  %%latex  %%markdown  %%perl  %%prun  %%pypy  %%python  %%python2  %%python3  %%ruby  %%script  %%sh  %%svg  %%sx  %%system  %%time  %%timeit  %%writefile\n\nAutomagic is ON, % prefix IS NOT needed for line magics.,\n 87: <module 'random' from 'C:\\\\ProgramData\\\\Anaconda3\\\\lib\\\\random.py'>,\n 90: ['',\n  \"get_ipython().run_line_magic('pinfo', 'len')\",\n  \"get_ipython().run_line_magic('pinfo2', 'len')\",\n  'help(len)',\n  \"get_ipython().run_line_magic('pinfo', 'len')\",\n  \"get_ipython().run_line_magic('pinfo2', 'len')\",\n  \"get_ipython().run_line_magic('pinfo', 'len')\",\n  \"get_ipython().run_line_magic('pinfo', 'square')\",\n  \"get_ipython().run_line_magic('pinfo', 'add')\",\n  'add()?',\n  \"get_ipython().run_line_magic('pinfo2', 'len')\",\n  \"get_ipython().run_line_magic('pinfo2', 'len')\",\n  \"get_ipython().run_line_magic('pinfo', 'random')\",\n  'random()?',\n  \"get_ipython().run_line_magic('pinfo', 'random.choice')\",\n  \"get_ipython().run_line_magic('pinfo', 'random.seed')\",\n  \"import random\\nget_ipython().run_line_magic('pinfo2', 'random.seed')\",\n  \"import random\\nget_ipython().run_line_magic('pinfo2', 'random.randint')\",\n  \"import random\\nget_ipython().run_line_magic('pinfo', 'random.randint')\",\n  \"import random\\nget_ipython().run_line_magic('pinfo', 'random.randint')\",\n  \"import random\\nget_ipython().run_line_magic('pinfo2', 'random.randint')\",\n  \"import random\\nget_ipython().run_line_magic('pinfo2', 'random.randint')\",\n  'L.  ',\n  'L.  ',\n  'L._',\n  'L._<TAB>',\n  'L.<TAB>',\n  'print(l)',\n  'random',\n  'print(random)',\n  'random.',\n  'len.__doc__',\n  'random.__doc__',\n  'random',\n  \"get_ipython().run_line_magic('pinfo', 'random')\",\n  'random',\n  'random.__name__',\n  'Warning',\n  \"get_ipython().run_line_magic('psearch', '*Warning')\",\n  \"get_ipython().run_line_magic('psearch', '*Warning')\",\n  \"get_ipython().run_line_magic('psearch', '*random')\",\n  'str.?',\n  '*str.?',\n  \"get_ipython().run_line_magic('psearch', '*str')\",\n  \"get_ipython().run_line_magic('psearch', 'str.*find*')\",\n  \"get_ipython().run_line_magic('psearch', '*find*')\",\n  \"get_ipython().run_line_magic('psearch', 'str.*find')\",\n  \"get_ipython().run_line_magic('psearch', 'str.*find')\",\n  'str.?',\n  \"get_ipython().run_line_magic('psearch', 'str.*')\",\n  \"get_ipython().run_line_magic('psearch', 'str.*')\",\n  'L',\n  \"import random\\nget_ipython().run_line_magic('psearch', 'random.*')\",\n  \"import random\\nget_ipython().run_line_magic('psearch', 'random.*')\",\n  \"get_ipython().run_line_magic('paste', '')\",\n  \"get_ipython().run_line_magic('paste', '')\",\n  \"get_ipython().run_line_magic('run', 'test2.py')\",\n  \"get_ipython().run_line_magic('pinfo', '%run')\",\n  \"get_ipython().run_line_magic('run', '000_test2.py')\",\n  \"get_ipython().run_line_magic('run', '000_test2.py')\",\n  \"get_ipython().run_line_magic('pinfo', '%paste')\",\n  \"get_ipython().run_line_magic('timeit', 'l1 = [n**2 for n in range(101)]')\",\n  \"get_ipython().run_line_magic('timeit', 'l1 = [n**2 for n in range(101)]')\",\n  \"get_ipython().run_line_magic('timeit', 'l1 = [n**2 for n in range(1001)]')\",\n  \"get_ipython().run_line_magic('timeit', 'l1 = [n**2 for n in range(1001)]')\",\n  \"get_ipython().run_line_magic('timeit', 'l1 = [n**2 for n in range(10001)]')\",\n  \"get_ipython().run_line_magic('timeit', 'l1 = [n**2 for n in range(10001)]')\",\n  \"get_ipython().run_line_magic('timeit', 'l1 = [n**2 for n in range(100001)]')\",\n  \"get_ipython().run_line_magic('timeit', 'l1 = [n**2 for n in range(100001)]')\",\n  \"get_ipython().run_line_magic('magic', '')\",\n  \"get_ipython().run_line_magic('pinfo', '%magic')\",\n  \"get_ipython().run_line_magic('pinfo2', '%magic')\",\n  \"get_ipython().run_line_magic('lsmagic', '')\",\n  \"get_ipython().run_line_magic('lsmagic', '')\",\n  \"get_ipython().run_line_magic('ls', 'magic')\",\n  'pirnt(In)',\n  'print(In)',\n  'print(In)',\n  'pirnt(Out)',\n  'Out',\n  'print(In[68])',\n  'print(Out[68])',\n  'print(Out[80])',\n  'print(Out[2])',\n  'print(Out[10])',\n  'Out[10]',\n  'Out',\n  'Out[33]',\n  'Out[]',\n  'Out',\n  'In',\n  '#Out是一個Dict\\nOut']}"
     },
     "metadata": {},
     "execution_count": 91
    }
   ],
   "source": [
    "#Out是一個Dict\n",
    "Out"
   ]
  },
  {
   "cell_type": "code",
   "execution_count": 10,
   "metadata": {},
   "outputs": [
    {
     "output_type": "execute_result",
     "data": {
      "text/plain": "-0.4161468365471424"
     },
     "metadata": {},
     "execution_count": 10
    }
   ],
   "source": [
    "import math\n",
    "math.cos(2)"
   ]
  },
  {
   "cell_type": "code",
   "execution_count": 11,
   "metadata": {},
   "outputs": [
    {
     "output_type": "execute_result",
     "data": {
      "text/plain": "0.9092974268256817"
     },
     "metadata": {},
     "execution_count": 11
    }
   ],
   "source": [
    "import math\n",
    "math.sin(2)"
   ]
  },
  {
   "cell_type": "code",
   "execution_count": 13,
   "metadata": {},
   "outputs": [
    {
     "output_type": "execute_result",
     "data": {
      "text/plain": "1.0"
     },
     "metadata": {},
     "execution_count": 13
    }
   ],
   "source": [
    "Out[10]**2 + Out[11]**2"
   ]
  }
 ]
}