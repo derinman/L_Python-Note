{
 "metadata": {
  "language_info": {
   "codemirror_mode": {
    "name": "ipython",
    "version": 3
   },
   "file_extension": ".py",
   "mimetype": "text/x-python",
   "name": "python",
   "nbconvert_exporter": "python",
   "pygments_lexer": "ipython3",
   "version": "3.7.4-final"
  },
  "orig_nbformat": 2,
  "kernelspec": {
   "name": "python_defaultSpec_1597894611452",
   "display_name": "Python 3.7.4 64-bit ('base': conda)"
  }
 },
 "nbformat": 4,
 "nbformat_minor": 2,
 "cells": [
  {
   "cell_type": "code",
   "execution_count": 6,
   "metadata": {
    "tags": []
   },
   "outputs": [
    {
     "output_type": "stream",
     "name": "stdout",
     "text": "Help on built-in function print in module builtins:\n\nprint(...)\n    print(value, ..., sep=' ', end='\\n', file=sys.stdout, flush=False)\n    \n    Prints the values to a stream, or to sys.stdout by default.\n    Optional keyword arguments:\n    file:  a file-like object (stream); defaults to the current sys.stdout.\n    sep:   string inserted between values, default a space.\n    end:   string appended after the last value, default a newline.\n    flush: whether to forcibly flush the stream.\n\n"
    }
   ],
   "source": [
    "help(print)"
   ]
  },
  {
   "cell_type": "code",
   "execution_count": 3,
   "metadata": {
    "tags": []
   },
   "outputs": [
    {
     "output_type": "stream",
     "name": "stdout",
     "text": "Help on built-in function len in module builtins:\n\nlen(obj, /)\n    Return the number of items in a container.\n\n"
    }
   ],
   "source": [
    "help(len)"
   ]
  },
  {
   "cell_type": "code",
   "execution_count": 6,
   "metadata": {},
   "outputs": [
    {
     "output_type": "stream",
     "text": "\u001b[1;31mSignature:\u001b[0m \u001b[0mlen\u001b[0m\u001b[1;33m(\u001b[0m\u001b[0mobj\u001b[0m\u001b[1;33m,\u001b[0m \u001b[1;33m/\u001b[0m\u001b[1;33m)\u001b[0m\u001b[1;33m\u001b[0m\u001b[1;33m\u001b[0m\u001b[0m\n\u001b[1;31mDocstring:\u001b[0m Return the number of items in a container.\n\u001b[1;31mType:\u001b[0m      builtin_function_or_method\n"
    }
   ],
   "source": [
    "len?"
   ]
  },
  {
   "cell_type": "code",
   "execution_count": 11,
   "metadata": {
    "tags": []
   },
   "outputs": [
    {
     "output_type": "stream",
     "text": "\u001b[1;31mSignature:\u001b[0m \u001b[0mlen\u001b[0m\u001b[1;33m(\u001b[0m\u001b[0mobj\u001b[0m\u001b[1;33m,\u001b[0m \u001b[1;33m/\u001b[0m\u001b[1;33m)\u001b[0m\u001b[1;33m\u001b[0m\u001b[1;33m\u001b[0m\u001b[0m\n\u001b[1;31mDocstring:\u001b[0m Return the number of items in a container.\n\u001b[1;31mType:\u001b[0m      builtin_function_or_method\n"
    }
   ],
   "source": [
    "len??"
   ]
  },
  {
   "cell_type": "code",
   "execution_count": 19,
   "metadata": {
    "tags": []
   },
   "outputs": [
    {
     "output_type": "stream",
     "text": "\u001b[1;31mSignature:\u001b[0m \u001b[0mrandom\u001b[0m\u001b[1;33m.\u001b[0m\u001b[0mrandint\u001b[0m\u001b[1;33m(\u001b[0m\u001b[0ma\u001b[0m\u001b[1;33m,\u001b[0m \u001b[0mb\u001b[0m\u001b[1;33m)\u001b[0m\u001b[1;33m\u001b[0m\u001b[1;33m\u001b[0m\u001b[0m\n\u001b[1;31mDocstring:\u001b[0m\nReturn random integer in range [a, b], including both end points.\n        \n\u001b[1;31mFile:\u001b[0m      c:\\programdata\\anaconda3\\lib\\random.py\n\u001b[1;31mType:\u001b[0m      method\n"
    }
   ],
   "source": [
    "import random\n",
    "random.randint?"
   ]
  },
  {
   "cell_type": "code",
   "execution_count": 21,
   "metadata": {},
   "outputs": [
    {
     "output_type": "stream",
     "text": "\u001b[1;31mSignature:\u001b[0m \u001b[0mrandom\u001b[0m\u001b[1;33m.\u001b[0m\u001b[0mrandint\u001b[0m\u001b[1;33m(\u001b[0m\u001b[0ma\u001b[0m\u001b[1;33m,\u001b[0m \u001b[0mb\u001b[0m\u001b[1;33m)\u001b[0m\u001b[1;33m\u001b[0m\u001b[1;33m\u001b[0m\u001b[0m\n\u001b[1;31mDocstring:\u001b[0m\nReturn random integer in range [a, b], including both end points.\n        \n\u001b[1;31mSource:\u001b[0m   \n    \u001b[1;32mdef\u001b[0m \u001b[0mrandint\u001b[0m\u001b[1;33m(\u001b[0m\u001b[0mself\u001b[0m\u001b[1;33m,\u001b[0m \u001b[0ma\u001b[0m\u001b[1;33m,\u001b[0m \u001b[0mb\u001b[0m\u001b[1;33m)\u001b[0m\u001b[1;33m:\u001b[0m\u001b[1;33m\n\u001b[0m        \u001b[1;34m\"\"\"Return random integer in range [a, b], including both end points.\n        \"\"\"\u001b[0m\u001b[1;33m\n\u001b[0m\u001b[1;33m\n\u001b[0m        \u001b[1;32mreturn\u001b[0m \u001b[0mself\u001b[0m\u001b[1;33m.\u001b[0m\u001b[0mrandrange\u001b[0m\u001b[1;33m(\u001b[0m\u001b[0ma\u001b[0m\u001b[1;33m,\u001b[0m \u001b[0mb\u001b[0m\u001b[1;33m+\u001b[0m\u001b[1;36m1\u001b[0m\u001b[1;33m)\u001b[0m\u001b[1;33m\u001b[0m\u001b[1;33m\u001b[0m\u001b[0m\n\u001b[1;31mFile:\u001b[0m      c:\\programdata\\anaconda3\\lib\\random.py\n\u001b[1;31mType:\u001b[0m      method\n"
    }
   ],
   "source": [
    "import random\n",
    "random.randint??"
   ]
  },
  {
   "cell_type": "code",
   "execution_count": 31,
   "metadata": {
    "tags": []
   },
   "outputs": [
    {
     "output_type": "execute_result",
     "data": {
      "text/plain": "'Return the number of items in a container.'"
     },
     "metadata": {},
     "execution_count": 31
    }
   ],
   "source": [
    "len.__doc__"
   ]
  },
  {
   "cell_type": "code",
   "execution_count": 39,
   "metadata": {},
   "outputs": [
    {
     "output_type": "stream",
     "text": "BytesWarning\nDeprecationWarning\nFutureWarning\nImportWarning\nPendingDeprecationWarning\nResourceWarning\nRuntimeWarning\nSyntaxWarning\nUnicodeWarning\nUserWarning\nWarning"
    }
   ],
   "source": [
    "*Warning?"
   ]
  },
  {
   "cell_type": "code",
   "execution_count": 47,
   "metadata": {},
   "outputs": [
    {
     "output_type": "stream",
     "text": "str.find\nstr.rfind"
    }
   ],
   "source": [
    "str.*find?"
   ]
  },
  {
   "cell_type": "code",
   "execution_count": 50,
   "metadata": {},
   "outputs": [
    {
     "output_type": "stream",
     "text": "str.__add__\nstr.__base__\nstr.__bases__\nstr.__basicsize__\nstr.__call__\nstr.__class__\nstr.__contains__\nstr.__delattr__\nstr.__dict__\nstr.__dictoffset__\nstr.__dir__\nstr.__doc__\nstr.__eq__\nstr.__flags__\nstr.__format__\nstr.__ge__\nstr.__getattribute__\nstr.__getitem__\nstr.__getnewargs__\nstr.__gt__\nstr.__hash__\nstr.__init__\nstr.__init_subclass__\nstr.__instancecheck__\nstr.__itemsize__\nstr.__iter__\nstr.__le__\nstr.__len__\nstr.__lt__\nstr.__mod__\nstr.__module__\nstr.__mro__\nstr.__mul__\nstr.__name__\nstr.__ne__\nstr.__new__\nstr.__prepare__\nstr.__qualname__\nstr.__reduce__\nstr.__reduce_ex__\nstr.__repr__\nstr.__rmod__\nstr.__rmul__\nstr.__setattr__\nstr.__sizeof__\nstr.__str__\nstr.__subclasscheck__\nstr.__subclasses__\nstr.__subclasshook__\nstr.__text_signature__\nstr.__weakrefoffset__\nstr.capitalize\nstr.casefold\nstr.center\nstr.count\nstr.encode\nstr.endswith\nstr.expandtabs\nstr.find\nstr.format\nstr.format_map\nstr.index\nstr.isalnum\nstr.isalpha\nstr.isascii\nstr.isdecimal\nstr.isdigit\nstr.isidentifier\nstr.islower\nstr.isnumeric\nstr.isprintable\nstr.isspace\nstr.istitle\nstr.isupper\nstr.join\nstr.ljust\nstr.lower\nstr.lstrip\nstr.maketrans\nstr.mro\nstr.partition\nstr.replace\nstr.rfind\nstr.rindex\nstr.rjust\nstr.rpartition\nstr.rsplit\nstr.rstrip\nstr.split\nstr.splitlines\nstr.startswith\nstr.strip\nstr.swapcase\nstr.title\nstr.translate\nstr.upper\nstr.zfill"
    }
   ],
   "source": [
    "str.*?"
   ]
  },
  {
   "cell_type": "code",
   "execution_count": 53,
   "metadata": {},
   "outputs": [
    {
     "output_type": "stream",
     "text": "random.BPF\nrandom.LOG4\nrandom.NV_MAGICCONST\nrandom.RECIP_BPF\nrandom.Random\nrandom.SG_MAGICCONST\nrandom.SystemRandom\nrandom.TWOPI\nrandom.__all__\nrandom.__builtins__\nrandom.__cached__\nrandom.__class__\nrandom.__delattr__\nrandom.__dict__\nrandom.__dir__\nrandom.__doc__\nrandom.__eq__\nrandom.__file__\nrandom.__format__\nrandom.__ge__\nrandom.__getattribute__\nrandom.__gt__\nrandom.__hash__\nrandom.__init__\nrandom.__init_subclass__\nrandom.__le__\nrandom.__loader__\nrandom.__lt__\nrandom.__name__\nrandom.__ne__\nrandom.__new__\nrandom.__package__\nrandom.__reduce__\nrandom.__reduce_ex__\nrandom.__repr__\nrandom.__setattr__\nrandom.__sizeof__\nrandom.__spec__\nrandom.__str__\nrandom.__subclasshook__\nrandom.betavariate\nrandom.choice\nrandom.choices\nrandom.expovariate\nrandom.gammavariate\nrandom.gauss\nrandom.getrandbits\nrandom.getstate\nrandom.lognormvariate\nrandom.normalvariate\nrandom.paretovariate\nrandom.randint\nrandom.random\nrandom.randrange\nrandom.sample\nrandom.seed\nrandom.setstate\nrandom.shuffle\nrandom.triangular\nrandom.uniform\nrandom.vonmisesvariate\nrandom.weibullvariate"
    }
   ],
   "source": [
    "import random\n",
    "random.*?"
   ]
  },
  {
   "cell_type": "code",
   "execution_count": 59,
   "metadata": {
    "tags": []
   },
   "outputs": [
    {
     "output_type": "stream",
     "name": "stdout",
     "text": "hihi\n"
    }
   ],
   "source": [
    "%run 000_test2.py"
   ]
  },
  {
   "cell_type": "code",
   "execution_count": 62,
   "metadata": {
    "tags": []
   },
   "outputs": [
    {
     "output_type": "stream",
     "name": "stdout",
     "text": "23.3 µs ± 162 ns per loop (mean ± std. dev. of 7 runs, 10000 loops each)\n"
    }
   ],
   "source": [
    "%timeit l1 = [n**2 for n in range(101)]"
   ]
  },
  {
   "cell_type": "code",
   "execution_count": 64,
   "metadata": {
    "tags": []
   },
   "outputs": [
    {
     "output_type": "stream",
     "name": "stdout",
     "text": "236 µs ± 331 ns per loop (mean ± std. dev. of 7 runs, 1000 loops each)\n"
    }
   ],
   "source": [
    "%timeit l1 = [n**2 for n in range(1001)]"
   ]
  },
  {
   "cell_type": "code",
   "execution_count": 66,
   "metadata": {
    "tags": []
   },
   "outputs": [
    {
     "output_type": "stream",
     "name": "stdout",
     "text": "2.34 ms ± 7.99 µs per loop (mean ± std. dev. of 7 runs, 100 loops each)\n"
    }
   ],
   "source": [
    "%timeit l1 = [n**2 for n in range(10001)]"
   ]
  },
  {
   "cell_type": "code",
   "execution_count": 68,
   "metadata": {
    "tags": []
   },
   "outputs": [
    {
     "output_type": "stream",
     "name": "stdout",
     "text": "24 ms ± 103 µs per loop (mean ± std. dev. of 7 runs, 10 loops each)\n"
    }
   ],
   "source": [
    "%timeit l1 = [n**2 for n in range(100001)]"
   ]
  },
  {
   "cell_type": "code",
   "execution_count": 90,
   "metadata": {
    "tags": []
   },
   "outputs": [
    {
     "output_type": "execute_result",
     "data": {
      "text/plain": "['',\n \"get_ipython().run_line_magic('pinfo', 'len')\",\n \"get_ipython().run_line_magic('pinfo2', 'len')\",\n 'help(len)',\n \"get_ipython().run_line_magic('pinfo', 'len')\",\n \"get_ipython().run_line_magic('pinfo2', 'len')\",\n \"get_ipython().run_line_magic('pinfo', 'len')\",\n \"get_ipython().run_line_magic('pinfo', 'square')\",\n \"get_ipython().run_line_magic('pinfo', 'add')\",\n 'add()?',\n \"get_ipython().run_line_magic('pinfo2', 'len')\",\n \"get_ipython().run_line_magic('pinfo2', 'len')\",\n \"get_ipython().run_line_magic('pinfo', 'random')\",\n 'random()?',\n \"get_ipython().run_line_magic('pinfo', 'random.choice')\",\n \"get_ipython().run_line_magic('pinfo', 'random.seed')\",\n \"import random\\nget_ipython().run_line_magic('pinfo2', 'random.seed')\",\n \"import random\\nget_ipython().run_line_magic('pinfo2', 'random.randint')\",\n \"import random\\nget_ipython().run_line_magic('pinfo', 'random.randint')\",\n \"import random\\nget_ipython().run_line_magic('pinfo', 'random.randint')\",\n \"import random\\nget_ipython().run_line_magic('pinfo2', 'random.randint')\",\n \"import random\\nget_ipython().run_line_magic('pinfo2', 'random.randint')\",\n 'L.  ',\n 'L.  ',\n 'L._',\n 'L._<TAB>',\n 'L.<TAB>',\n 'print(l)',\n 'random',\n 'print(random)',\n 'random.',\n 'len.__doc__',\n 'random.__doc__',\n 'random',\n \"get_ipython().run_line_magic('pinfo', 'random')\",\n 'random',\n 'random.__name__',\n 'Warning',\n \"get_ipython().run_line_magic('psearch', '*Warning')\",\n \"get_ipython().run_line_magic('psearch', '*Warning')\",\n \"get_ipython().run_line_magic('psearch', '*random')\",\n 'str.?',\n '*str.?',\n \"get_ipython().run_line_magic('psearch', '*str')\",\n \"get_ipython().run_line_magic('psearch', 'str.*find*')\",\n \"get_ipython().run_line_magic('psearch', '*find*')\",\n \"get_ipython().run_line_magic('psearch', 'str.*find')\",\n \"get_ipython().run_line_magic('psearch', 'str.*find')\",\n 'str.?',\n \"get_ipython().run_line_magic('psearch', 'str.*')\",\n \"get_ipython().run_line_magic('psearch', 'str.*')\",\n 'L',\n \"import random\\nget_ipython().run_line_magic('psearch', 'random.*')\",\n \"import random\\nget_ipython().run_line_magic('psearch', 'random.*')\",\n \"get_ipython().run_line_magic('paste', '')\",\n \"get_ipython().run_line_magic('paste', '')\",\n \"get_ipython().run_line_magic('run', 'test2.py')\",\n \"get_ipython().run_line_magic('pinfo', '%run')\",\n \"get_ipython().run_line_magic('run', '000_test2.py')\",\n \"get_ipython().run_line_magic('run', '000_test2.py')\",\n \"get_ipython().run_line_magic('pinfo', '%paste')\",\n \"get_ipython().run_line_magic('timeit', 'l1 = [n**2 for n in range(101)]')\",\n \"get_ipython().run_line_magic('timeit', 'l1 = [n**2 for n in range(101)]')\",\n \"get_ipython().run_line_magic('timeit', 'l1 = [n**2 for n in range(1001)]')\",\n \"get_ipython().run_line_magic('timeit', 'l1 = [n**2 for n in range(1001)]')\",\n \"get_ipython().run_line_magic('timeit', 'l1 = [n**2 for n in range(10001)]')\",\n \"get_ipython().run_line_magic('timeit', 'l1 = [n**2 for n in range(10001)]')\",\n \"get_ipython().run_line_magic('timeit', 'l1 = [n**2 for n in range(100001)]')\",\n \"get_ipython().run_line_magic('timeit', 'l1 = [n**2 for n in range(100001)]')\",\n \"get_ipython().run_line_magic('magic', '')\",\n \"get_ipython().run_line_magic('pinfo', '%magic')\",\n \"get_ipython().run_line_magic('pinfo2', '%magic')\",\n \"get_ipython().run_line_magic('lsmagic', '')\",\n \"get_ipython().run_line_magic('lsmagic', '')\",\n \"get_ipython().run_line_magic('ls', 'magic')\",\n 'pirnt(In)',\n 'print(In)',\n 'print(In)',\n 'pirnt(Out)',\n 'Out',\n 'print(In[68])',\n 'print(Out[68])',\n 'print(Out[80])',\n 'print(Out[2])',\n 'print(Out[10])',\n 'Out[10]',\n 'Out',\n 'Out[33]',\n 'Out[]',\n 'Out',\n 'In']"
     },
     "metadata": {},
     "execution_count": 90
    }
   ],
   "source": [
    "#In是一個list\n",
    "In"
   ]
  },
  {
   "cell_type": "code",
   "execution_count": 91,
   "metadata": {},
   "outputs": [
    {
     "output_type": "execute_result",
     "data": {
      "text/plain": "{28: <module 'random' from 'C:\\\\ProgramData\\\\Anaconda3\\\\lib\\\\random.py'>,\n 31: 'Return the number of items in a container.',\n 32: 'Random variable generators.\\n\\n    integers\\n    --------\\n           uniform within range\\n\\n    sequences\\n    ---------\\n           pick random element\\n           pick random sample\\n           pick weighted random sample\\n           generate random permutation\\n\\n    distributions on the real line:\\n    ------------------------------\\n           uniform\\n           triangular\\n           normal (Gaussian)\\n           lognormal\\n           negative exponential\\n           gamma\\n           beta\\n           pareto\\n           Weibull\\n\\n    distributions on the circle (angles 0 to 2pi)\\n    ---------------------------------------------\\n           circular uniform\\n           von Mises\\n\\nGeneral notes on the underlying Mersenne Twister core generator:\\n\\n* The period is 2**19937-1.\\n* It is one of the most extensively tested generators in existence.\\n* The random() method is implemented in C, executes in a single Python step,\\n  and is, therefore, threadsafe.\\n\\n',\n 33: <module 'random' from 'C:\\\\ProgramData\\\\Anaconda3\\\\lib\\\\random.py'>,\n 35: <module 'random' from 'C:\\\\ProgramData\\\\Anaconda3\\\\lib\\\\random.py'>,\n 36: 'random',\n 37: Warning,\n 72: Available line magics:\n%alias  %alias_magic  %autoawait  %autocall  %automagic  %autosave  %bookmark  %cd  %clear  %cls  %colors  %conda  %config  %connect_info  %copy  %ddir  %debug  %dhist  %dirs  %doctest_mode  %echo  %ed  %edit  %env  %gui  %hist  %history  %killbgscripts  %ldir  %less  %load  %load_ext  %loadpy  %logoff  %logon  %logstart  %logstate  %logstop  %ls  %lsmagic  %macro  %magic  %matplotlib  %mkdir  %more  %notebook  %page  %pastebin  %pdb  %pdef  %pdoc  %pfile  %pinfo  %pinfo2  %pip  %popd  %pprint  %precision  %prun  %psearch  %psource  %pushd  %pwd  %pycat  %pylab  %qtconsole  %quickref  %recall  %rehashx  %reload_ext  %ren  %rep  %rerun  %reset  %reset_selective  %rmdir  %run  %save  %sc  %set_env  %store  %sx  %system  %tb  %time  %timeit  %unalias  %unload_ext  %who  %who_ls  %whos  %xdel  %xmode\n\nAvailable cell magics:\n%%!  %%HTML  %%SVG  %%bash  %%capture  %%cmd  %%debug  %%file  %%html  %%javascript  %%js  %%latex  %%markdown  %%perl  %%prun  %%pypy  %%python  %%python2  %%python3  %%ruby  %%script  %%sh  %%svg  %%sx  %%system  %%time  %%timeit  %%writefile\n\nAutomagic is ON, % prefix IS NOT needed for line magics.,\n 73: Available line magics:\n%alias  %alias_magic  %autoawait  %autocall  %automagic  %autosave  %bookmark  %cd  %clear  %cls  %colors  %conda  %config  %connect_info  %copy  %ddir  %debug  %dhist  %dirs  %doctest_mode  %echo  %ed  %edit  %env  %gui  %hist  %history  %killbgscripts  %ldir  %less  %load  %load_ext  %loadpy  %logoff  %logon  %logstart  %logstate  %logstop  %ls  %lsmagic  %macro  %magic  %matplotlib  %mkdir  %more  %notebook  %page  %pastebin  %pdb  %pdef  %pdoc  %pfile  %pinfo  %pinfo2  %pip  %popd  %pprint  %precision  %prun  %psearch  %psource  %pushd  %pwd  %pycat  %pylab  %qtconsole  %quickref  %recall  %rehashx  %reload_ext  %ren  %rep  %rerun  %reset  %reset_selective  %rmdir  %run  %save  %sc  %set_env  %store  %sx  %system  %tb  %time  %timeit  %unalias  %unload_ext  %who  %who_ls  %whos  %xdel  %xmode\n\nAvailable cell magics:\n%%!  %%HTML  %%SVG  %%bash  %%capture  %%cmd  %%debug  %%file  %%html  %%javascript  %%js  %%latex  %%markdown  %%perl  %%prun  %%pypy  %%python  %%python2  %%python3  %%ruby  %%script  %%sh  %%svg  %%sx  %%system  %%time  %%timeit  %%writefile\n\nAutomagic is ON, % prefix IS NOT needed for line magics.,\n 87: <module 'random' from 'C:\\\\ProgramData\\\\Anaconda3\\\\lib\\\\random.py'>,\n 90: ['',\n  \"get_ipython().run_line_magic('pinfo', 'len')\",\n  \"get_ipython().run_line_magic('pinfo2', 'len')\",\n  'help(len)',\n  \"get_ipython().run_line_magic('pinfo', 'len')\",\n  \"get_ipython().run_line_magic('pinfo2', 'len')\",\n  \"get_ipython().run_line_magic('pinfo', 'len')\",\n  \"get_ipython().run_line_magic('pinfo', 'square')\",\n  \"get_ipython().run_line_magic('pinfo', 'add')\",\n  'add()?',\n  \"get_ipython().run_line_magic('pinfo2', 'len')\",\n  \"get_ipython().run_line_magic('pinfo2', 'len')\",\n  \"get_ipython().run_line_magic('pinfo', 'random')\",\n  'random()?',\n  \"get_ipython().run_line_magic('pinfo', 'random.choice')\",\n  \"get_ipython().run_line_magic('pinfo', 'random.seed')\",\n  \"import random\\nget_ipython().run_line_magic('pinfo2', 'random.seed')\",\n  \"import random\\nget_ipython().run_line_magic('pinfo2', 'random.randint')\",\n  \"import random\\nget_ipython().run_line_magic('pinfo', 'random.randint')\",\n  \"import random\\nget_ipython().run_line_magic('pinfo', 'random.randint')\",\n  \"import random\\nget_ipython().run_line_magic('pinfo2', 'random.randint')\",\n  \"import random\\nget_ipython().run_line_magic('pinfo2', 'random.randint')\",\n  'L.  ',\n  'L.  ',\n  'L._',\n  'L._<TAB>',\n  'L.<TAB>',\n  'print(l)',\n  'random',\n  'print(random)',\n  'random.',\n  'len.__doc__',\n  'random.__doc__',\n  'random',\n  \"get_ipython().run_line_magic('pinfo', 'random')\",\n  'random',\n  'random.__name__',\n  'Warning',\n  \"get_ipython().run_line_magic('psearch', '*Warning')\",\n  \"get_ipython().run_line_magic('psearch', '*Warning')\",\n  \"get_ipython().run_line_magic('psearch', '*random')\",\n  'str.?',\n  '*str.?',\n  \"get_ipython().run_line_magic('psearch', '*str')\",\n  \"get_ipython().run_line_magic('psearch', 'str.*find*')\",\n  \"get_ipython().run_line_magic('psearch', '*find*')\",\n  \"get_ipython().run_line_magic('psearch', 'str.*find')\",\n  \"get_ipython().run_line_magic('psearch', 'str.*find')\",\n  'str.?',\n  \"get_ipython().run_line_magic('psearch', 'str.*')\",\n  \"get_ipython().run_line_magic('psearch', 'str.*')\",\n  'L',\n  \"import random\\nget_ipython().run_line_magic('psearch', 'random.*')\",\n  \"import random\\nget_ipython().run_line_magic('psearch', 'random.*')\",\n  \"get_ipython().run_line_magic('paste', '')\",\n  \"get_ipython().run_line_magic('paste', '')\",\n  \"get_ipython().run_line_magic('run', 'test2.py')\",\n  \"get_ipython().run_line_magic('pinfo', '%run')\",\n  \"get_ipython().run_line_magic('run', '000_test2.py')\",\n  \"get_ipython().run_line_magic('run', '000_test2.py')\",\n  \"get_ipython().run_line_magic('pinfo', '%paste')\",\n  \"get_ipython().run_line_magic('timeit', 'l1 = [n**2 for n in range(101)]')\",\n  \"get_ipython().run_line_magic('timeit', 'l1 = [n**2 for n in range(101)]')\",\n  \"get_ipython().run_line_magic('timeit', 'l1 = [n**2 for n in range(1001)]')\",\n  \"get_ipython().run_line_magic('timeit', 'l1 = [n**2 for n in range(1001)]')\",\n  \"get_ipython().run_line_magic('timeit', 'l1 = [n**2 for n in range(10001)]')\",\n  \"get_ipython().run_line_magic('timeit', 'l1 = [n**2 for n in range(10001)]')\",\n  \"get_ipython().run_line_magic('timeit', 'l1 = [n**2 for n in range(100001)]')\",\n  \"get_ipython().run_line_magic('timeit', 'l1 = [n**2 for n in range(100001)]')\",\n  \"get_ipython().run_line_magic('magic', '')\",\n  \"get_ipython().run_line_magic('pinfo', '%magic')\",\n  \"get_ipython().run_line_magic('pinfo2', '%magic')\",\n  \"get_ipython().run_line_magic('lsmagic', '')\",\n  \"get_ipython().run_line_magic('lsmagic', '')\",\n  \"get_ipython().run_line_magic('ls', 'magic')\",\n  'pirnt(In)',\n  'print(In)',\n  'print(In)',\n  'pirnt(Out)',\n  'Out',\n  'print(In[68])',\n  'print(Out[68])',\n  'print(Out[80])',\n  'print(Out[2])',\n  'print(Out[10])',\n  'Out[10]',\n  'Out',\n  'Out[33]',\n  'Out[]',\n  'Out',\n  'In',\n  '#Out是一個Dict\\nOut']}"
     },
     "metadata": {},
     "execution_count": 91
    }
   ],
   "source": [
    "#Out是一個Dict\n",
    "Out"
   ]
  },
  {
   "cell_type": "code",
   "execution_count": 10,
   "metadata": {},
   "outputs": [
    {
     "output_type": "execute_result",
     "data": {
      "text/plain": "-0.4161468365471424"
     },
     "metadata": {},
     "execution_count": 10
    }
   ],
   "source": [
    "import math\n",
    "math.cos(2)"
   ]
  },
  {
   "cell_type": "code",
   "execution_count": 11,
   "metadata": {},
   "outputs": [
    {
     "output_type": "execute_result",
     "data": {
      "text/plain": "0.9092974268256817"
     },
     "metadata": {},
     "execution_count": 11
    }
   ],
   "source": [
    "import math\n",
    "math.sin(2)"
   ]
  },
  {
   "cell_type": "code",
   "execution_count": 13,
   "metadata": {},
   "outputs": [
    {
     "output_type": "execute_result",
     "data": {
      "text/plain": "1.0"
     },
     "metadata": {},
     "execution_count": 13
    }
   ],
   "source": [
    "Out[10]**2 + Out[11]**2"
   ]
  }
 ]
}