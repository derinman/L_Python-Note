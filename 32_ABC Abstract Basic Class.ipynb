{
 "metadata": {
  "language_info": {
   "codemirror_mode": {
    "name": "ipython",
    "version": 3
   },
   "file_extension": ".py",
   "mimetype": "text/x-python",
   "name": "python",
   "nbconvert_exporter": "python",
   "pygments_lexer": "ipython3",
   "version": "3.7.4-final"
  },
  "orig_nbformat": 2,
  "kernelspec": {
   "name": "Python 3.7.4 64-bit (conda)",
   "display_name": "Python 3.7.4 64-bit (conda)",
   "metadata": {
    "interpreter": {
     "hash": "b3ba2566441a7c06988d0923437866b63cedc61552a5af99d1f4fb67d367b25f"
    }
   }
  }
 },
 "nbformat": 4,
 "nbformat_minor": 2,
 "cells": [
  {
   "cell_type": "code",
   "execution_count": 1,
   "metadata": {},
   "outputs": [],
   "source": [
    "#protocal 協議 非正式介面 介面模糊 duck typing 使用物件時，不理會它的型態，只要它實作某些協定即可\n",
    "#ABC      抽象類別 正式介面 介面明確 goose typing"
   ]
  },
  {
   "cell_type": "code",
   "execution_count": 2,
   "metadata": {},
   "outputs": [],
   "source": [
    "#protocal 好比演化中的生物因為相似的特徵被歸在同一屬，在烹調上可能類似\n",
    "#ABC      好比鑑定生物的DNA的繼承而被歸類在同一屬，在抵禦病毒上可能類似"
   ]
  },
  {
   "cell_type": "code",
   "execution_count": 10,
   "metadata": {},
   "outputs": [],
   "source": [
    "#goose type的意思是: isinstance(obj, cls)不錯，只要cls是一個ABC(abc.AbcMeta)"
   ]
  },
  {
   "cell_type": "code",
   "execution_count": null,
   "metadata": {},
   "outputs": [],
   "source": [
    "#實際上，應盡量避免自己實作ABC，通常與ABC的接觸應由子類別或註冊"
   ]
  },
  {
   "cell_type": "code",
   "execution_count": 4,
   "metadata": {},
   "outputs": [
    {
     "output_type": "execute_result",
     "data": {
      "text/plain": [
       "collections.abc.MutableSequence"
      ]
     },
     "metadata": {},
     "execution_count": 4
    }
   ],
   "source": [
    "import collections\n",
    "collections.MutableSequence"
   ]
  },
  {
   "cell_type": "code",
   "execution_count": 11,
   "metadata": {},
   "outputs": [
    {
     "output_type": "execute_result",
     "data": {
      "text/plain": [
       "(True, False)"
      ]
     },
     "metadata": {},
     "execution_count": 11
    }
   ],
   "source": [
    "l1 = [1,2,4]\n",
    "t1 = (1,2,4)\n",
    "isinstance(l1,collections.MutableSequence), isinstance(t1,collections.MutableSequence)"
   ]
  },
  {
   "cell_type": "code",
   "execution_count": 12,
   "metadata": {},
   "outputs": [],
   "source": [
    "#實作一個goose typing的FrenchDeck2類別\n",
    "#繼承collections.MutableSequence\n",
    "#__getitem__, __setitem__, __delitem__ 是collections.MutableSequence要求的方法\n",
    "#沒有實作的話就會出現錯誤\n",
    "import collections\n",
    "\n",
    "Card = collections.namedtuple('Card', ['rank', 'suit'])\n",
    "\n",
    "class FrenchDeck2(collections.MutableSequence):\n",
    "    ranks = [str(n) for n in range(2, 11)] + list('JQKA')\n",
    "    suits = 'spades diamonds clubs hearts'.split()\n",
    "\n",
    "    def __init__(self):\n",
    "        self._cards = [Card(rank, suit) for suit in self.suits\n",
    "                                        for rank in self.ranks]\n",
    "    def __len__(self):\n",
    "        return len(self._cards)\n",
    "\n",
    "    def __getitem__(self, position):\n",
    "        return self._cards[position]\n",
    "\n",
    "    def __setitem__(self, position, value):\n",
    "        self._cards[position] = value\n",
    "\n",
    "    def __delitem__(self, position):\n",
    "        del self._cards[position]\n",
    "\n",
    "    def insert(self, position, value):\n",
    "        self._cards.insert(position, value)"
   ]
  },
  {
   "cell_type": "code",
   "execution_count": 13,
   "metadata": {},
   "outputs": [],
   "source": [
    "#python大多數的ABC被定義在 collections.abc模組\n",
    "#常見ABC可參考 000_ABC.jpg，圖的箭頭表達繼承關係"
   ]
  },
  {
   "cell_type": "code",
   "execution_count": 17,
   "metadata": {},
   "outputs": [
    {
     "output_type": "execute_result",
     "data": {
      "text/plain": [
       "(True, False)"
      ]
     },
     "metadata": {},
     "execution_count": 17
    }
   ],
   "source": [
    "#numbers套件算是最實用的abc\n",
    "#數值塔(依序)) Number, Complex, Real, Rational, intergral\n",
    "import numbers\n",
    "isinstance(3, numbers.Integral), isinstance(3.3, numbers.Integral)"
   ]
  },
  {
   "cell_type": "code",
   "execution_count": 18,
   "metadata": {},
   "outputs": [
    {
     "output_type": "execute_result",
     "data": {
      "text/plain": [
       "True"
      ]
     },
     "metadata": {},
     "execution_count": 18
    }
   ],
   "source": [
    "isinstance(3.3, numbers.Real)"
   ]
  },
  {
   "cell_type": "code",
   "execution_count": 5,
   "metadata": {},
   "outputs": [
    {
     "output_type": "execute_result",
     "data": {
      "text/plain": [
       "(True, True)"
      ]
     },
     "metadata": {},
     "execution_count": 5
    }
   ],
   "source": [
    "#虛擬子類別\n",
    "from abc import ABC, abstractmethod\n",
    " \n",
    "class Shape(ABC):\n",
    "    @abstractmethod\n",
    "    def getArea():pass  #定义获取面积的抽象方法\n",
    "    \n",
    "    @abstractmethod\n",
    "    def getGirth():pass  #定义获取周长的抽象方法\n",
    "\n",
    "\n",
    "class House():\n",
    "     def __init__(self,area):self.area=area\n",
    "     def showArea(self):return self.area\n",
    "\n",
    "Shape.register(House)#將House註冊為Shape的虛擬子類別\n",
    "\n",
    "house=House(100)\n",
    "\n",
    "issubclass(House,Shape), isinstance(house,Shape)"
   ]
  },
  {
   "cell_type": "code",
   "execution_count": 9,
   "metadata": {},
   "outputs": [],
   "source": [
    "#goose typing的兩種方式: 繼承 或 註冊(虛擬子類別)"
   ]
  },
  {
   "cell_type": "code",
   "execution_count": null,
   "metadata": {},
   "outputs": [],
   "source": []
  }
 ]
}