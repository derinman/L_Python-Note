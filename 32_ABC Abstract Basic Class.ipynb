{
 "metadata": {
  "language_info": {
   "codemirror_mode": {
    "name": "ipython",
    "version": 3
   },
   "file_extension": ".py",
   "mimetype": "text/x-python",
   "name": "python",
   "nbconvert_exporter": "python",
   "pygments_lexer": "ipython3",
   "version": "3.7.4-final"
  },
  "orig_nbformat": 2,
  "kernelspec": {
   "name": "Python 3.7.4 64-bit ('base': conda)",
   "display_name": "Python 3.7.4 64-bit ('base': conda)",
   "metadata": {
    "interpreter": {
     "hash": "b3ba2566441a7c06988d0923437866b63cedc61552a5af99d1f4fb67d367b25f"
    }
   }
  }
 },
 "nbformat": 4,
 "nbformat_minor": 2,
 "cells": [
  {
   "cell_type": "code",
   "execution_count": 1,
   "metadata": {},
   "outputs": [],
   "source": [
    "#protocal 協議 非正式介面 duck typing 使用物件時，不理會它的型態，只要它實作某些協定即可\n",
    "#ABC      抽象類別 正式介面 goose typing"
   ]
  },
  {
   "cell_type": "code",
   "execution_count": 2,
   "metadata": {},
   "outputs": [],
   "source": [
    "#protocal 好比演化中的生物因為相似的特徵被歸在同一屬，在烹調上可能類似\n",
    "#ABC      好比鑑定生物的DNA的繼承而被歸類在同一屬，在抵禦病毒上可能類似"
   ]
  },
  {
   "cell_type": "code",
   "execution_count": null,
   "metadata": {},
   "outputs": [],
   "source": [
    "#goose type的意思是: isinstance(obj, cls)不錯，只要cls是一個ABC(abc.AbcMeta)"
   ]
  }
 ]
}