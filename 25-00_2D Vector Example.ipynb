{
 "metadata": {
  "language_info": {
   "codemirror_mode": {
    "name": "ipython",
    "version": 3
   },
   "file_extension": ".py",
   "mimetype": "text/x-python",
   "name": "python",
   "nbconvert_exporter": "python",
   "pygments_lexer": "ipython3",
   "version": "3.7.4-final"
  },
  "orig_nbformat": 2,
  "kernelspec": {
   "name": "Python 3.7.4 64-bit ('base': conda)",
   "display_name": "Python 3.7.4 64-bit ('base': conda)",
   "metadata": {
    "interpreter": {
     "hash": "b3ba2566441a7c06988d0923437866b63cedc61552a5af99d1f4fb67d367b25f"
    }
   }
  }
 },
 "nbformat": 4,
 "nbformat_minor": 2,
 "cells": [
  {
   "cell_type": "code",
   "execution_count": 11,
   "source": [
    "from array import array\r\n",
    "import math\r\n",
    "\r\n",
    "class Vector2d:\r\n",
    "    typecode = 'd'\r\n",
    "    #類別屬性，用在__bytes__\r\n",
    "\r\n",
    "    #Private Property\r\n",
    "    #轉成float可捕抓錯誤\r\n",
    "    def __init__(self, x, y):\r\n",
    "        self.__x = float(x)\r\n",
    "        self.__y = float(y)\r\n",
    "\r\n",
    "    #get\r\n",
    "    @property\r\n",
    "    def x(self):\r\n",
    "        return self.__x\r\n",
    "\r\n",
    "    #get\r\n",
    "    @property\r\n",
    "    def y(self):\r\n",
    "        return self.__y\r\n",
    "\r\n",
    "    def __iter__(self):\r\n",
    "        return (i for i in (self.x, self.y))\r\n",
    "        #使得可以unpack\r\n",
    "        #__repr__跟__str__也是用這個\r\n",
    "\r\n",
    "    def __repr__(self):\r\n",
    "        class_name = type(self).__name__\r\n",
    "        return '{}({!r}, {!r})'.format(class_name, *self)\r\n",
    "\r\n",
    "    def __str__(self):\r\n",
    "        return str(tuple(self))\r\n",
    "\r\n",
    "    def __bytes__(self):\r\n",
    "        return (bytes([ord(self.typecode)]) + \r\n",
    "                bytes(array(self.typecode, self)))\r\n",
    "\r\n",
    "    def __eq__(self, other):\r\n",
    "        return tuple(self) == tuple(other)\r\n",
    "\r\n",
    "    #用xor來hash\r\n",
    "    def __hash__(self):\r\n",
    "        return hash(self.x) ^ hash(self.y)\r\n",
    "\r\n",
    "    def __abs__(self):\r\n",
    "        return math.hypot(self.x, self.y)\r\n",
    "\r\n",
    "    def __bool__(self):\r\n",
    "        return bool(abs(self))\r\n",
    "\r\n",
    "    def angle(self):\r\n",
    "        return math.atan2(self.y, self.x)\r\n",
    "    \r\n",
    "    #可選擇使用笛卡爾座標或極座標\r\n",
    "    def __format__(self, fmt_spec=''):\r\n",
    "        if fmt_spec.endswith('p'):\r\n",
    "            fmt_spec = fmt_spec[:-1] \r\n",
    "            coords = (abs(self), self.angle())\r\n",
    "            outer_fmt = '<{}, {}>'\r\n",
    "        else:\r\n",
    "            coords = self\r\n",
    "            outer_fmt = '({}, {})'\r\n",
    "        components = (format(c, fmt_spec) for c in coords)\r\n",
    "        return outer_fmt.format(*components)\r\n",
    "\r\n",
    "    #不用建立instance就可以呼叫\r\n",
    "    @classmethod\r\n",
    "    def frombytes(cls, octets):\r\n",
    "        typecode = chr(octets[0])\r\n",
    "        memv = memoryview(octets[1:]).cast(typecode) \r\n",
    "        return cls(*memv)\r\n"
   ],
   "outputs": [],
   "metadata": {}
  },
  {
   "cell_type": "code",
   "execution_count": 14,
   "source": [
    "v1 = Vector2d(3, 4)\r\n",
    "print(v1.x, v1.y)"
   ],
   "outputs": [
    {
     "output_type": "stream",
     "name": "stdout",
     "text": [
      "3.0 4.0\n"
     ]
    }
   ],
   "metadata": {}
  },
  {
   "cell_type": "code",
   "execution_count": 29,
   "source": [
    "#x y只是被換了名稱，硬要(惡意)存取還是可\r\n",
    "v1.__dict__, v1._Vector2d__x"
   ],
   "outputs": [
    {
     "output_type": "execute_result",
     "data": {
      "text/plain": [
       "({'_Vector2d__x': 3.0, '_Vector2d__y': 4.0}, 3.0)"
      ]
     },
     "metadata": {},
     "execution_count": 29
    }
   ],
   "metadata": {}
  },
  {
   "cell_type": "code",
   "execution_count": 15,
   "source": [
    "#__iter__\r\n",
    "v2 = Vector2d(3, 4)\r\n",
    "a, b = v2\r\n",
    "a, b"
   ],
   "outputs": [
    {
     "output_type": "execute_result",
     "data": {
      "text/plain": [
       "(3.0, 4.0)"
      ]
     },
     "metadata": {},
     "execution_count": 15
    }
   ],
   "metadata": {}
  },
  {
   "cell_type": "code",
   "execution_count": 17,
   "source": [
    "#__repr__\r\n",
    "v3 = Vector2d(3, 4)\r\n",
    "v3"
   ],
   "outputs": [
    {
     "output_type": "execute_result",
     "data": {
      "text/plain": [
       "Vector2d(3.0, 4.0)"
      ]
     },
     "metadata": {},
     "execution_count": 17
    }
   ],
   "metadata": {}
  },
  {
   "cell_type": "code",
   "execution_count": 18,
   "source": [
    "#__repr__\r\n",
    "v4 = Vector2d(3, 4)\r\n",
    "v4_clone = eval(repr(v4))\r\n",
    "v4 == v4_clone"
   ],
   "outputs": [
    {
     "output_type": "execute_result",
     "data": {
      "text/plain": [
       "True"
      ]
     },
     "metadata": {},
     "execution_count": 18
    }
   ],
   "metadata": {}
  },
  {
   "cell_type": "code",
   "execution_count": 19,
   "source": [
    "#__str__\r\n",
    "v5 = Vector2d(3, 4)\r\n",
    "print(v5)"
   ],
   "outputs": [
    {
     "output_type": "stream",
     "name": "stdout",
     "text": [
      "(3.0, 4.0)\n"
     ]
    }
   ],
   "metadata": {
    "tags": []
   }
  },
  {
   "cell_type": "code",
   "execution_count": 22,
   "source": [
    "#__abs__\r\n",
    "v6 = Vector2d(3, 4)\r\n",
    "abs(v6)"
   ],
   "outputs": [
    {
     "output_type": "execute_result",
     "data": {
      "text/plain": [
       "5.0"
      ]
     },
     "metadata": {},
     "execution_count": 22
    }
   ],
   "metadata": {}
  },
  {
   "cell_type": "code",
   "execution_count": 23,
   "source": [
    "\r\n",
    "bool(Vector2d(3, 0)), bool(Vector2d(0, 0))"
   ],
   "outputs": [
    {
     "output_type": "execute_result",
     "data": {
      "text/plain": [
       "(True, False)"
      ]
     },
     "metadata": {},
     "execution_count": 23
    }
   ],
   "metadata": {}
  },
  {
   "cell_type": "code",
   "execution_count": 24,
   "source": [
    "v7 = Vector2d(3,4)\r\n",
    "v7_clone = Vector2d.frombytes(bytes(v7))\r\n",
    "bytes(v7), v7 == v7_clone"
   ],
   "outputs": [
    {
     "output_type": "execute_result",
     "data": {
      "text/plain": [
       "(b'd\\x00\\x00\\x00\\x00\\x00\\x00\\x08@\\x00\\x00\\x00\\x00\\x00\\x00\\x10@', True)"
      ]
     },
     "metadata": {},
     "execution_count": 24
    }
   ],
   "metadata": {}
  },
  {
   "cell_type": "code",
   "execution_count": 25,
   "source": [
    "#__angle__\r\n",
    "Vector2d(0, 1).angle(),Vector2d(1, 0).angle()"
   ],
   "outputs": [
    {
     "output_type": "execute_result",
     "data": {
      "text/plain": [
       "(1.5707963267948966, 0.0)"
      ]
     },
     "metadata": {},
     "execution_count": 25
    }
   ],
   "metadata": {}
  },
  {
   "cell_type": "code",
   "execution_count": 26,
   "source": [
    "#__format__\r\n",
    "#顯示極座標\r\n",
    "format(Vector2d(0, 1), 'p') "
   ],
   "outputs": [
    {
     "output_type": "execute_result",
     "data": {
      "text/plain": [
       "'<1.0, 1.5707963267948966>'"
      ]
     },
     "metadata": {},
     "execution_count": 26
    }
   ],
   "metadata": {}
  },
  {
   "cell_type": "code",
   "execution_count": 27,
   "source": [
    "#__hash__\r\n",
    "v8 = Vector2d(3,4)\r\n",
    "v9 = Vector2d(3.001, 4.001)\r\n",
    "\r\n",
    "hash(v8), hash(v9)"
   ],
   "outputs": [
    {
     "output_type": "execute_result",
     "data": {
      "text/plain": [
       "(7, 3079)"
      ]
     },
     "metadata": {},
     "execution_count": 27
    }
   ],
   "metadata": {}
  }
 ]
}