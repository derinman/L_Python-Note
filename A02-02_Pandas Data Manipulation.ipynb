{
 "metadata": {
  "language_info": {
   "codemirror_mode": {
    "name": "ipython",
    "version": 3
   },
   "file_extension": ".py",
   "mimetype": "text/x-python",
   "name": "python",
   "nbconvert_exporter": "python",
   "pygments_lexer": "ipython3",
   "version": "3.7.4-final"
  },
  "orig_nbformat": 2,
  "kernelspec": {
   "name": "python3",
   "display_name": "Python 3",
   "language": "python"
  }
 },
 "nbformat": 4,
 "nbformat_minor": 2,
 "cells": [
  {
   "cell_type": "code",
   "execution_count": 65,
   "metadata": {},
   "outputs": [],
   "source": [
    "import pandas as pd"
   ]
  },
  {
   "cell_type": "code",
   "execution_count": 66,
   "metadata": {},
   "outputs": [
    {
     "output_type": "execute_result",
     "data": {
      "text/plain": [
       "                        Sector   Price  Book Value\n",
       "Symbol                                            \n",
       "MMM                Industrials  141.14      26.668\n",
       "ABT                Health Care   39.60      15.573\n",
       "ABBV               Health Care   53.95       2.954\n",
       "ACN     Information Technology   79.79       8.326\n",
       "ACE                 Financials  102.91      86.897\n",
       "...                        ...     ...         ...\n",
       "YHOO    Information Technology   35.02      12.768\n",
       "YUM     Consumer Discretionary   74.77       5.147\n",
       "ZMH                Health Care  101.84      37.181\n",
       "ZION                Financials   28.43      30.191\n",
       "ZTS                Health Care   30.53       2.150\n",
       "\n",
       "[500 rows x 3 columns]"
      ],
      "text/html": "<div>\n<style scoped>\n    .dataframe tbody tr th:only-of-type {\n        vertical-align: middle;\n    }\n\n    .dataframe tbody tr th {\n        vertical-align: top;\n    }\n\n    .dataframe thead th {\n        text-align: right;\n    }\n</style>\n<table border=\"1\" class=\"dataframe\">\n  <thead>\n    <tr style=\"text-align: right;\">\n      <th></th>\n      <th>Sector</th>\n      <th>Price</th>\n      <th>Book Value</th>\n    </tr>\n    <tr>\n      <th>Symbol</th>\n      <th></th>\n      <th></th>\n      <th></th>\n    </tr>\n  </thead>\n  <tbody>\n    <tr>\n      <td>MMM</td>\n      <td>Industrials</td>\n      <td>141.14</td>\n      <td>26.668</td>\n    </tr>\n    <tr>\n      <td>ABT</td>\n      <td>Health Care</td>\n      <td>39.60</td>\n      <td>15.573</td>\n    </tr>\n    <tr>\n      <td>ABBV</td>\n      <td>Health Care</td>\n      <td>53.95</td>\n      <td>2.954</td>\n    </tr>\n    <tr>\n      <td>ACN</td>\n      <td>Information Technology</td>\n      <td>79.79</td>\n      <td>8.326</td>\n    </tr>\n    <tr>\n      <td>ACE</td>\n      <td>Financials</td>\n      <td>102.91</td>\n      <td>86.897</td>\n    </tr>\n    <tr>\n      <td>...</td>\n      <td>...</td>\n      <td>...</td>\n      <td>...</td>\n    </tr>\n    <tr>\n      <td>YHOO</td>\n      <td>Information Technology</td>\n      <td>35.02</td>\n      <td>12.768</td>\n    </tr>\n    <tr>\n      <td>YUM</td>\n      <td>Consumer Discretionary</td>\n      <td>74.77</td>\n      <td>5.147</td>\n    </tr>\n    <tr>\n      <td>ZMH</td>\n      <td>Health Care</td>\n      <td>101.84</td>\n      <td>37.181</td>\n    </tr>\n    <tr>\n      <td>ZION</td>\n      <td>Financials</td>\n      <td>28.43</td>\n      <td>30.191</td>\n    </tr>\n    <tr>\n      <td>ZTS</td>\n      <td>Health Care</td>\n      <td>30.53</td>\n      <td>2.150</td>\n    </tr>\n  </tbody>\n</table>\n<p>500 rows × 3 columns</p>\n</div>"
     },
     "metadata": {},
     "execution_count": 66
    }
   ],
   "source": [
    "sp500 = pd.read_csv(\"data/sp500.csv\", \n",
    "                    index_col='Symbol', \n",
    "                    usecols=[0, 2, 3, 7])\n",
    "sp500"
   ]
  },
  {
   "cell_type": "code",
   "execution_count": 67,
   "metadata": {},
   "outputs": [
    {
     "output_type": "execute_result",
     "data": {
      "text/plain": [
       "                        Sector   Price  BookValue\n",
       "Symbol                                           \n",
       "MMM                Industrials  141.14     26.668\n",
       "ABT                Health Care   39.60     15.573\n",
       "ABBV               Health Care   53.95      2.954\n",
       "ACN     Information Technology   79.79      8.326\n",
       "ACE                 Financials  102.91     86.897\n",
       "...                        ...     ...        ...\n",
       "YHOO    Information Technology   35.02     12.768\n",
       "YUM     Consumer Discretionary   74.77      5.147\n",
       "ZMH                Health Care  101.84     37.181\n",
       "ZION                Financials   28.43     30.191\n",
       "ZTS                Health Care   30.53      2.150\n",
       "\n",
       "[500 rows x 3 columns]"
      ],
      "text/html": "<div>\n<style scoped>\n    .dataframe tbody tr th:only-of-type {\n        vertical-align: middle;\n    }\n\n    .dataframe tbody tr th {\n        vertical-align: top;\n    }\n\n    .dataframe thead th {\n        text-align: right;\n    }\n</style>\n<table border=\"1\" class=\"dataframe\">\n  <thead>\n    <tr style=\"text-align: right;\">\n      <th></th>\n      <th>Sector</th>\n      <th>Price</th>\n      <th>BookValue</th>\n    </tr>\n    <tr>\n      <th>Symbol</th>\n      <th></th>\n      <th></th>\n      <th></th>\n    </tr>\n  </thead>\n  <tbody>\n    <tr>\n      <td>MMM</td>\n      <td>Industrials</td>\n      <td>141.14</td>\n      <td>26.668</td>\n    </tr>\n    <tr>\n      <td>ABT</td>\n      <td>Health Care</td>\n      <td>39.60</td>\n      <td>15.573</td>\n    </tr>\n    <tr>\n      <td>ABBV</td>\n      <td>Health Care</td>\n      <td>53.95</td>\n      <td>2.954</td>\n    </tr>\n    <tr>\n      <td>ACN</td>\n      <td>Information Technology</td>\n      <td>79.79</td>\n      <td>8.326</td>\n    </tr>\n    <tr>\n      <td>ACE</td>\n      <td>Financials</td>\n      <td>102.91</td>\n      <td>86.897</td>\n    </tr>\n    <tr>\n      <td>...</td>\n      <td>...</td>\n      <td>...</td>\n      <td>...</td>\n    </tr>\n    <tr>\n      <td>YHOO</td>\n      <td>Information Technology</td>\n      <td>35.02</td>\n      <td>12.768</td>\n    </tr>\n    <tr>\n      <td>YUM</td>\n      <td>Consumer Discretionary</td>\n      <td>74.77</td>\n      <td>5.147</td>\n    </tr>\n    <tr>\n      <td>ZMH</td>\n      <td>Health Care</td>\n      <td>101.84</td>\n      <td>37.181</td>\n    </tr>\n    <tr>\n      <td>ZION</td>\n      <td>Financials</td>\n      <td>28.43</td>\n      <td>30.191</td>\n    </tr>\n    <tr>\n      <td>ZTS</td>\n      <td>Health Care</td>\n      <td>30.53</td>\n      <td>2.150</td>\n    </tr>\n  </tbody>\n</table>\n<p>500 rows × 3 columns</p>\n</div>"
     },
     "metadata": {},
     "execution_count": 67
    }
   ],
   "source": [
    "#rename\n",
    "newSP500 = sp500.rename(columns={'Book Value': 'BookValue'})\n",
    "newSP500"
   ]
  },
  {
   "cell_type": "code",
   "execution_count": 68,
   "metadata": {},
   "outputs": [
    {
     "output_type": "execute_result",
     "data": {
      "text/plain": [
       "                        Sector   Price  BookValue\n",
       "Symbol                                           \n",
       "MMM                Industrials  141.14     26.668\n",
       "ABT                Health Care   39.60     15.573\n",
       "ABBV               Health Care   53.95      2.954\n",
       "ACN     Information Technology   79.79      8.326\n",
       "ACE                 Financials  102.91     86.897\n",
       "...                        ...     ...        ...\n",
       "YHOO    Information Technology   35.02     12.768\n",
       "YUM     Consumer Discretionary   74.77      5.147\n",
       "ZMH                Health Care  101.84     37.181\n",
       "ZION                Financials   28.43     30.191\n",
       "ZTS                Health Care   30.53      2.150\n",
       "\n",
       "[500 rows x 3 columns]"
      ],
      "text/html": "<div>\n<style scoped>\n    .dataframe tbody tr th:only-of-type {\n        vertical-align: middle;\n    }\n\n    .dataframe tbody tr th {\n        vertical-align: top;\n    }\n\n    .dataframe thead th {\n        text-align: right;\n    }\n</style>\n<table border=\"1\" class=\"dataframe\">\n  <thead>\n    <tr style=\"text-align: right;\">\n      <th></th>\n      <th>Sector</th>\n      <th>Price</th>\n      <th>BookValue</th>\n    </tr>\n    <tr>\n      <th>Symbol</th>\n      <th></th>\n      <th></th>\n      <th></th>\n    </tr>\n  </thead>\n  <tbody>\n    <tr>\n      <td>MMM</td>\n      <td>Industrials</td>\n      <td>141.14</td>\n      <td>26.668</td>\n    </tr>\n    <tr>\n      <td>ABT</td>\n      <td>Health Care</td>\n      <td>39.60</td>\n      <td>15.573</td>\n    </tr>\n    <tr>\n      <td>ABBV</td>\n      <td>Health Care</td>\n      <td>53.95</td>\n      <td>2.954</td>\n    </tr>\n    <tr>\n      <td>ACN</td>\n      <td>Information Technology</td>\n      <td>79.79</td>\n      <td>8.326</td>\n    </tr>\n    <tr>\n      <td>ACE</td>\n      <td>Financials</td>\n      <td>102.91</td>\n      <td>86.897</td>\n    </tr>\n    <tr>\n      <td>...</td>\n      <td>...</td>\n      <td>...</td>\n      <td>...</td>\n    </tr>\n    <tr>\n      <td>YHOO</td>\n      <td>Information Technology</td>\n      <td>35.02</td>\n      <td>12.768</td>\n    </tr>\n    <tr>\n      <td>YUM</td>\n      <td>Consumer Discretionary</td>\n      <td>74.77</td>\n      <td>5.147</td>\n    </tr>\n    <tr>\n      <td>ZMH</td>\n      <td>Health Care</td>\n      <td>101.84</td>\n      <td>37.181</td>\n    </tr>\n    <tr>\n      <td>ZION</td>\n      <td>Financials</td>\n      <td>28.43</td>\n      <td>30.191</td>\n    </tr>\n    <tr>\n      <td>ZTS</td>\n      <td>Health Care</td>\n      <td>30.53</td>\n      <td>2.150</td>\n    </tr>\n  </tbody>\n</table>\n<p>500 rows × 3 columns</p>\n</div>"
     },
     "metadata": {},
     "execution_count": 68
    }
   ],
   "source": [
    "#rename inplace\n",
    "sp500.rename(columns={'Book Value': 'BookValue'},inplace=True)\n",
    "sp500"
   ]
  },
  {
   "cell_type": "code",
   "execution_count": 69,
   "metadata": {},
   "outputs": [
    {
     "output_type": "execute_result",
     "data": {
      "text/plain": [
       "                        Sector   Price  BookValue  RoundedPrice\n",
       "Symbol                                                         \n",
       "MMM                Industrials  141.14     26.668         141.0\n",
       "ABT                Health Care   39.60     15.573          40.0\n",
       "ABBV               Health Care   53.95      2.954          54.0\n",
       "ACN     Information Technology   79.79      8.326          80.0\n",
       "ACE                 Financials  102.91     86.897         103.0\n",
       "...                        ...     ...        ...           ...\n",
       "YHOO    Information Technology   35.02     12.768          35.0\n",
       "YUM     Consumer Discretionary   74.77      5.147          75.0\n",
       "ZMH                Health Care  101.84     37.181         102.0\n",
       "ZION                Financials   28.43     30.191          28.0\n",
       "ZTS                Health Care   30.53      2.150          31.0\n",
       "\n",
       "[500 rows x 4 columns]"
      ],
      "text/html": "<div>\n<style scoped>\n    .dataframe tbody tr th:only-of-type {\n        vertical-align: middle;\n    }\n\n    .dataframe tbody tr th {\n        vertical-align: top;\n    }\n\n    .dataframe thead th {\n        text-align: right;\n    }\n</style>\n<table border=\"1\" class=\"dataframe\">\n  <thead>\n    <tr style=\"text-align: right;\">\n      <th></th>\n      <th>Sector</th>\n      <th>Price</th>\n      <th>BookValue</th>\n      <th>RoundedPrice</th>\n    </tr>\n    <tr>\n      <th>Symbol</th>\n      <th></th>\n      <th></th>\n      <th></th>\n      <th></th>\n    </tr>\n  </thead>\n  <tbody>\n    <tr>\n      <td>MMM</td>\n      <td>Industrials</td>\n      <td>141.14</td>\n      <td>26.668</td>\n      <td>141.0</td>\n    </tr>\n    <tr>\n      <td>ABT</td>\n      <td>Health Care</td>\n      <td>39.60</td>\n      <td>15.573</td>\n      <td>40.0</td>\n    </tr>\n    <tr>\n      <td>ABBV</td>\n      <td>Health Care</td>\n      <td>53.95</td>\n      <td>2.954</td>\n      <td>54.0</td>\n    </tr>\n    <tr>\n      <td>ACN</td>\n      <td>Information Technology</td>\n      <td>79.79</td>\n      <td>8.326</td>\n      <td>80.0</td>\n    </tr>\n    <tr>\n      <td>ACE</td>\n      <td>Financials</td>\n      <td>102.91</td>\n      <td>86.897</td>\n      <td>103.0</td>\n    </tr>\n    <tr>\n      <td>...</td>\n      <td>...</td>\n      <td>...</td>\n      <td>...</td>\n      <td>...</td>\n    </tr>\n    <tr>\n      <td>YHOO</td>\n      <td>Information Technology</td>\n      <td>35.02</td>\n      <td>12.768</td>\n      <td>35.0</td>\n    </tr>\n    <tr>\n      <td>YUM</td>\n      <td>Consumer Discretionary</td>\n      <td>74.77</td>\n      <td>5.147</td>\n      <td>75.0</td>\n    </tr>\n    <tr>\n      <td>ZMH</td>\n      <td>Health Care</td>\n      <td>101.84</td>\n      <td>37.181</td>\n      <td>102.0</td>\n    </tr>\n    <tr>\n      <td>ZION</td>\n      <td>Financials</td>\n      <td>28.43</td>\n      <td>30.191</td>\n      <td>28.0</td>\n    </tr>\n    <tr>\n      <td>ZTS</td>\n      <td>Health Care</td>\n      <td>30.53</td>\n      <td>2.150</td>\n      <td>31.0</td>\n    </tr>\n  </tbody>\n</table>\n<p>500 rows × 4 columns</p>\n</div>"
     },
     "metadata": {},
     "execution_count": 69
    }
   ],
   "source": [
    "#add col\n",
    "sp500_copy = sp500.copy()\n",
    "sp500_copy['RoundedPrice'] = sp500.Price.round()\n",
    "sp500_copy"
   ]
  },
  {
   "cell_type": "code",
   "execution_count": 70,
   "metadata": {},
   "outputs": [
    {
     "output_type": "execute_result",
     "data": {
      "text/plain": [
       "                        Sector  RoundedPrice   Price  BookValue\n",
       "Symbol                                                         \n",
       "MMM                Industrials         141.0  141.14     26.668\n",
       "ABT                Health Care          40.0   39.60     15.573\n",
       "ABBV               Health Care          54.0   53.95      2.954\n",
       "ACN     Information Technology          80.0   79.79      8.326\n",
       "ACE                 Financials         103.0  102.91     86.897\n",
       "...                        ...           ...     ...        ...\n",
       "YHOO    Information Technology          35.0   35.02     12.768\n",
       "YUM     Consumer Discretionary          75.0   74.77      5.147\n",
       "ZMH                Health Care         102.0  101.84     37.181\n",
       "ZION                Financials          28.0   28.43     30.191\n",
       "ZTS                Health Care          31.0   30.53      2.150\n",
       "\n",
       "[500 rows x 4 columns]"
      ],
      "text/html": "<div>\n<style scoped>\n    .dataframe tbody tr th:only-of-type {\n        vertical-align: middle;\n    }\n\n    .dataframe tbody tr th {\n        vertical-align: top;\n    }\n\n    .dataframe thead th {\n        text-align: right;\n    }\n</style>\n<table border=\"1\" class=\"dataframe\">\n  <thead>\n    <tr style=\"text-align: right;\">\n      <th></th>\n      <th>Sector</th>\n      <th>RoundedPrice</th>\n      <th>Price</th>\n      <th>BookValue</th>\n    </tr>\n    <tr>\n      <th>Symbol</th>\n      <th></th>\n      <th></th>\n      <th></th>\n      <th></th>\n    </tr>\n  </thead>\n  <tbody>\n    <tr>\n      <td>MMM</td>\n      <td>Industrials</td>\n      <td>141.0</td>\n      <td>141.14</td>\n      <td>26.668</td>\n    </tr>\n    <tr>\n      <td>ABT</td>\n      <td>Health Care</td>\n      <td>40.0</td>\n      <td>39.60</td>\n      <td>15.573</td>\n    </tr>\n    <tr>\n      <td>ABBV</td>\n      <td>Health Care</td>\n      <td>54.0</td>\n      <td>53.95</td>\n      <td>2.954</td>\n    </tr>\n    <tr>\n      <td>ACN</td>\n      <td>Information Technology</td>\n      <td>80.0</td>\n      <td>79.79</td>\n      <td>8.326</td>\n    </tr>\n    <tr>\n      <td>ACE</td>\n      <td>Financials</td>\n      <td>103.0</td>\n      <td>102.91</td>\n      <td>86.897</td>\n    </tr>\n    <tr>\n      <td>...</td>\n      <td>...</td>\n      <td>...</td>\n      <td>...</td>\n      <td>...</td>\n    </tr>\n    <tr>\n      <td>YHOO</td>\n      <td>Information Technology</td>\n      <td>35.0</td>\n      <td>35.02</td>\n      <td>12.768</td>\n    </tr>\n    <tr>\n      <td>YUM</td>\n      <td>Consumer Discretionary</td>\n      <td>75.0</td>\n      <td>74.77</td>\n      <td>5.147</td>\n    </tr>\n    <tr>\n      <td>ZMH</td>\n      <td>Health Care</td>\n      <td>102.0</td>\n      <td>101.84</td>\n      <td>37.181</td>\n    </tr>\n    <tr>\n      <td>ZION</td>\n      <td>Financials</td>\n      <td>28.0</td>\n      <td>28.43</td>\n      <td>30.191</td>\n    </tr>\n    <tr>\n      <td>ZTS</td>\n      <td>Health Care</td>\n      <td>31.0</td>\n      <td>30.53</td>\n      <td>2.150</td>\n    </tr>\n  </tbody>\n</table>\n<p>500 rows × 4 columns</p>\n</div>"
     },
     "metadata": {},
     "execution_count": 70
    }
   ],
   "source": [
    "#insert col\n",
    "copy = sp500.copy()\n",
    "copy.insert(1, 'RoundedPrice', sp500.Price.round())\n",
    "copy"
   ]
  },
  {
   "cell_type": "code",
   "execution_count": 72,
   "metadata": {},
   "outputs": [
    {
     "output_type": "execute_result",
     "data": {
      "text/plain": [
       "        BookValue   Price                  Sector\n",
       "Symbol                                           \n",
       "MMM        26.668  141.14             Industrials\n",
       "ABT        15.573   39.60             Health Care\n",
       "ABBV        2.954   53.95             Health Care\n",
       "ACN         8.326   79.79  Information Technology\n",
       "ACE        86.897  102.91              Financials\n",
       "...           ...     ...                     ...\n",
       "YHOO       12.768   35.02  Information Technology\n",
       "YUM         5.147   74.77  Consumer Discretionary\n",
       "ZMH        37.181  101.84             Health Care\n",
       "ZION       30.191   28.43              Financials\n",
       "ZTS         2.150   30.53             Health Care\n",
       "\n",
       "[500 rows x 3 columns]"
      ],
      "text/html": "<div>\n<style scoped>\n    .dataframe tbody tr th:only-of-type {\n        vertical-align: middle;\n    }\n\n    .dataframe tbody tr th {\n        vertical-align: top;\n    }\n\n    .dataframe thead th {\n        text-align: right;\n    }\n</style>\n<table border=\"1\" class=\"dataframe\">\n  <thead>\n    <tr style=\"text-align: right;\">\n      <th></th>\n      <th>BookValue</th>\n      <th>Price</th>\n      <th>Sector</th>\n    </tr>\n    <tr>\n      <th>Symbol</th>\n      <th></th>\n      <th></th>\n      <th></th>\n    </tr>\n  </thead>\n  <tbody>\n    <tr>\n      <td>MMM</td>\n      <td>26.668</td>\n      <td>141.14</td>\n      <td>Industrials</td>\n    </tr>\n    <tr>\n      <td>ABT</td>\n      <td>15.573</td>\n      <td>39.60</td>\n      <td>Health Care</td>\n    </tr>\n    <tr>\n      <td>ABBV</td>\n      <td>2.954</td>\n      <td>53.95</td>\n      <td>Health Care</td>\n    </tr>\n    <tr>\n      <td>ACN</td>\n      <td>8.326</td>\n      <td>79.79</td>\n      <td>Information Technology</td>\n    </tr>\n    <tr>\n      <td>ACE</td>\n      <td>86.897</td>\n      <td>102.91</td>\n      <td>Financials</td>\n    </tr>\n    <tr>\n      <td>...</td>\n      <td>...</td>\n      <td>...</td>\n      <td>...</td>\n    </tr>\n    <tr>\n      <td>YHOO</td>\n      <td>12.768</td>\n      <td>35.02</td>\n      <td>Information Technology</td>\n    </tr>\n    <tr>\n      <td>YUM</td>\n      <td>5.147</td>\n      <td>74.77</td>\n      <td>Consumer Discretionary</td>\n    </tr>\n    <tr>\n      <td>ZMH</td>\n      <td>37.181</td>\n      <td>101.84</td>\n      <td>Health Care</td>\n    </tr>\n    <tr>\n      <td>ZION</td>\n      <td>30.191</td>\n      <td>28.43</td>\n      <td>Financials</td>\n    </tr>\n    <tr>\n      <td>ZTS</td>\n      <td>2.150</td>\n      <td>30.53</td>\n      <td>Health Care</td>\n    </tr>\n  </tbody>\n</table>\n<p>500 rows × 3 columns</p>\n</div>"
     },
     "metadata": {},
     "execution_count": 72
    }
   ],
   "source": [
    "#Reordering col\n",
    "reversed_column_names = sp500.columns[::-1]\n",
    "sp500[reversed_column_names]"
   ]
  },
  {
   "cell_type": "code",
   "execution_count": 73,
   "metadata": {},
   "outputs": [
    {
     "output_type": "execute_result",
     "data": {
      "text/plain": [
       "                        Sector   Price\n",
       "Symbol                                \n",
       "MMM                Industrials  141.14\n",
       "ABT                Health Care   39.60\n",
       "ABBV               Health Care   53.95\n",
       "ACN     Information Technology   79.79\n",
       "ACE                 Financials  102.91\n",
       "...                        ...     ...\n",
       "YHOO    Information Technology   35.02\n",
       "YUM     Consumer Discretionary   74.77\n",
       "ZMH                Health Care  101.84\n",
       "ZION                Financials   28.43\n",
       "ZTS                Health Care   30.53\n",
       "\n",
       "[500 rows x 2 columns]"
      ],
      "text/html": "<div>\n<style scoped>\n    .dataframe tbody tr th:only-of-type {\n        vertical-align: middle;\n    }\n\n    .dataframe tbody tr th {\n        vertical-align: top;\n    }\n\n    .dataframe thead th {\n        text-align: right;\n    }\n</style>\n<table border=\"1\" class=\"dataframe\">\n  <thead>\n    <tr style=\"text-align: right;\">\n      <th></th>\n      <th>Sector</th>\n      <th>Price</th>\n    </tr>\n    <tr>\n      <th>Symbol</th>\n      <th></th>\n      <th></th>\n    </tr>\n  </thead>\n  <tbody>\n    <tr>\n      <td>MMM</td>\n      <td>Industrials</td>\n      <td>141.14</td>\n    </tr>\n    <tr>\n      <td>ABT</td>\n      <td>Health Care</td>\n      <td>39.60</td>\n    </tr>\n    <tr>\n      <td>ABBV</td>\n      <td>Health Care</td>\n      <td>53.95</td>\n    </tr>\n    <tr>\n      <td>ACN</td>\n      <td>Information Technology</td>\n      <td>79.79</td>\n    </tr>\n    <tr>\n      <td>ACE</td>\n      <td>Financials</td>\n      <td>102.91</td>\n    </tr>\n    <tr>\n      <td>...</td>\n      <td>...</td>\n      <td>...</td>\n    </tr>\n    <tr>\n      <td>YHOO</td>\n      <td>Information Technology</td>\n      <td>35.02</td>\n    </tr>\n    <tr>\n      <td>YUM</td>\n      <td>Consumer Discretionary</td>\n      <td>74.77</td>\n    </tr>\n    <tr>\n      <td>ZMH</td>\n      <td>Health Care</td>\n      <td>101.84</td>\n    </tr>\n    <tr>\n      <td>ZION</td>\n      <td>Financials</td>\n      <td>28.43</td>\n    </tr>\n    <tr>\n      <td>ZTS</td>\n      <td>Health Care</td>\n      <td>30.53</td>\n    </tr>\n  </tbody>\n</table>\n<p>500 rows × 2 columns</p>\n</div>"
     },
     "metadata": {},
     "execution_count": 73
    }
   ],
   "source": [
    "#Deleting col\n",
    "copy = sp500.copy()\n",
    "del copy['BookValue']\n",
    "copy"
   ]
  },
  {
   "cell_type": "code",
   "execution_count": 74,
   "metadata": {},
   "outputs": [
    {
     "output_type": "execute_result",
     "data": {
      "text/plain": [
       "         Price  BookValue\n",
       "Symbol                   \n",
       "MMM     141.14     26.668\n",
       "ABT      39.60     15.573\n",
       "ABBV     53.95      2.954\n",
       "ACN      79.79      8.326\n",
       "ACE     102.91     86.897"
      ],
      "text/html": "<div>\n<style scoped>\n    .dataframe tbody tr th:only-of-type {\n        vertical-align: middle;\n    }\n\n    .dataframe tbody tr th {\n        vertical-align: top;\n    }\n\n    .dataframe thead th {\n        text-align: right;\n    }\n</style>\n<table border=\"1\" class=\"dataframe\">\n  <thead>\n    <tr style=\"text-align: right;\">\n      <th></th>\n      <th>Price</th>\n      <th>BookValue</th>\n    </tr>\n    <tr>\n      <th>Symbol</th>\n      <th></th>\n      <th></th>\n    </tr>\n  </thead>\n  <tbody>\n    <tr>\n      <td>MMM</td>\n      <td>141.14</td>\n      <td>26.668</td>\n    </tr>\n    <tr>\n      <td>ABT</td>\n      <td>39.60</td>\n      <td>15.573</td>\n    </tr>\n    <tr>\n      <td>ABBV</td>\n      <td>53.95</td>\n      <td>2.954</td>\n    </tr>\n    <tr>\n      <td>ACN</td>\n      <td>79.79</td>\n      <td>8.326</td>\n    </tr>\n    <tr>\n      <td>ACE</td>\n      <td>102.91</td>\n      <td>86.897</td>\n    </tr>\n  </tbody>\n</table>\n</div>"
     },
     "metadata": {},
     "execution_count": 74
    }
   ],
   "source": [
    "#drop col\n",
    "copy = sp500.copy()\n",
    "afterdrop = copy.drop(['Sector'], axis = 1)\n",
    "afterdrop[:5]"
   ]
  },
  {
   "cell_type": "code",
   "execution_count": 75,
   "metadata": {},
   "outputs": [
    {
     "output_type": "execute_result",
     "data": {
      "text/plain": [
       "                        Sector   Price  BookValue\n",
       "Symbol                                           \n",
       "YHOO    Information Technology   35.02     12.768\n",
       "MMM                Industrials  141.14     26.668\n",
       "MSFT    Information Technology   40.12     10.584"
      ],
      "text/html": "<div>\n<style scoped>\n    .dataframe tbody tr th:only-of-type {\n        vertical-align: middle;\n    }\n\n    .dataframe tbody tr th {\n        vertical-align: top;\n    }\n\n    .dataframe thead th {\n        text-align: right;\n    }\n</style>\n<table border=\"1\" class=\"dataframe\">\n  <thead>\n    <tr style=\"text-align: right;\">\n      <th></th>\n      <th>Sector</th>\n      <th>Price</th>\n      <th>BookValue</th>\n    </tr>\n    <tr>\n      <th>Symbol</th>\n      <th></th>\n      <th></th>\n      <th></th>\n    </tr>\n  </thead>\n  <tbody>\n    <tr>\n      <td>YHOO</td>\n      <td>Information Technology</td>\n      <td>35.02</td>\n      <td>12.768</td>\n    </tr>\n    <tr>\n      <td>MMM</td>\n      <td>Industrials</td>\n      <td>141.14</td>\n      <td>26.668</td>\n    </tr>\n    <tr>\n      <td>MSFT</td>\n      <td>Information Technology</td>\n      <td>40.12</td>\n      <td>10.584</td>\n    </tr>\n  </tbody>\n</table>\n</div>"
     },
     "metadata": {},
     "execution_count": 75
    }
   ],
   "source": [
    "df1 = sp500.loc[['YHOO','MMM']]\n",
    "df2 = sp500.loc[['MSFT']]\n",
    "df1.append(df2)"
   ]
  },
  {
   "cell_type": "code",
   "execution_count": 76,
   "metadata": {},
   "outputs": [
    {
     "output_type": "execute_result",
     "data": {
      "text/plain": [
       "                        Sector   Price  BookValue\n",
       "Symbol                                           \n",
       "YHOO    Information Technology   35.02     12.768\n",
       "MMM                Industrials  141.14     26.668\n",
       "MSFT    Information Technology   40.12     10.584"
      ],
      "text/html": "<div>\n<style scoped>\n    .dataframe tbody tr th:only-of-type {\n        vertical-align: middle;\n    }\n\n    .dataframe tbody tr th {\n        vertical-align: top;\n    }\n\n    .dataframe thead th {\n        text-align: right;\n    }\n</style>\n<table border=\"1\" class=\"dataframe\">\n  <thead>\n    <tr style=\"text-align: right;\">\n      <th></th>\n      <th>Sector</th>\n      <th>Price</th>\n      <th>BookValue</th>\n    </tr>\n    <tr>\n      <th>Symbol</th>\n      <th></th>\n      <th></th>\n      <th></th>\n    </tr>\n  </thead>\n  <tbody>\n    <tr>\n      <td>YHOO</td>\n      <td>Information Technology</td>\n      <td>35.02</td>\n      <td>12.768</td>\n    </tr>\n    <tr>\n      <td>MMM</td>\n      <td>Industrials</td>\n      <td>141.14</td>\n      <td>26.668</td>\n    </tr>\n    <tr>\n      <td>MSFT</td>\n      <td>Information Technology</td>\n      <td>40.12</td>\n      <td>10.584</td>\n    </tr>\n  </tbody>\n</table>\n</div>"
     },
     "metadata": {},
     "execution_count": 76
    }
   ],
   "source": [
    "df3 = sp500.loc[['YHOO','MMM']]\n",
    "df4 = sp500.loc[['MSFT']]\n",
    "pd.concat([df3, df4])"
   ]
  },
  {
   "cell_type": "code",
   "execution_count": 77,
   "metadata": {},
   "outputs": [
    {
     "output_type": "execute_result",
     "data": {
      "text/plain": [
       "                            Sector   Price  BookValue\n",
       "    Symbol                                           \n",
       "df3 YHOO    Information Technology   35.02     12.768\n",
       "    MMM                Industrials  141.14     26.668\n",
       "df4 MSFT    Information Technology   40.12     10.584"
      ],
      "text/html": "<div>\n<style scoped>\n    .dataframe tbody tr th:only-of-type {\n        vertical-align: middle;\n    }\n\n    .dataframe tbody tr th {\n        vertical-align: top;\n    }\n\n    .dataframe thead th {\n        text-align: right;\n    }\n</style>\n<table border=\"1\" class=\"dataframe\">\n  <thead>\n    <tr style=\"text-align: right;\">\n      <th></th>\n      <th></th>\n      <th>Sector</th>\n      <th>Price</th>\n      <th>BookValue</th>\n    </tr>\n    <tr>\n      <th></th>\n      <th>Symbol</th>\n      <th></th>\n      <th></th>\n      <th></th>\n    </tr>\n  </thead>\n  <tbody>\n    <tr>\n      <td rowspan=\"2\" valign=\"top\">df3</td>\n      <td>YHOO</td>\n      <td>Information Technology</td>\n      <td>35.02</td>\n      <td>12.768</td>\n    </tr>\n    <tr>\n      <td>MMM</td>\n      <td>Industrials</td>\n      <td>141.14</td>\n      <td>26.668</td>\n    </tr>\n    <tr>\n      <td>df4</td>\n      <td>MSFT</td>\n      <td>Information Technology</td>\n      <td>40.12</td>\n      <td>10.584</td>\n    </tr>\n  </tbody>\n</table>\n</div>"
     },
     "metadata": {},
     "execution_count": 77
    }
   ],
   "source": [
    "pd.concat([df3, df4], keys=['df3', 'df4'])"
   ]
  },
  {
   "cell_type": "code",
   "execution_count": 78,
   "metadata": {},
   "outputs": [
    {
     "output_type": "execute_result",
     "data": {
      "text/plain": [
       "             Sector   Price  BookValue\n",
       "Symbol                                \n",
       "MMM     Industrials  141.14     26.668\n",
       "ABT     Health Care   39.60     15.573\n",
       "ABBV    Health Care   53.95      2.954\n",
       "FOO      the sector  100.00    110.000"
      ],
      "text/html": "<div>\n<style scoped>\n    .dataframe tbody tr th:only-of-type {\n        vertical-align: middle;\n    }\n\n    .dataframe tbody tr th {\n        vertical-align: top;\n    }\n\n    .dataframe thead th {\n        text-align: right;\n    }\n</style>\n<table border=\"1\" class=\"dataframe\">\n  <thead>\n    <tr style=\"text-align: right;\">\n      <th></th>\n      <th>Sector</th>\n      <th>Price</th>\n      <th>BookValue</th>\n    </tr>\n    <tr>\n      <th>Symbol</th>\n      <th></th>\n      <th></th>\n      <th></th>\n    </tr>\n  </thead>\n  <tbody>\n    <tr>\n      <td>MMM</td>\n      <td>Industrials</td>\n      <td>141.14</td>\n      <td>26.668</td>\n    </tr>\n    <tr>\n      <td>ABT</td>\n      <td>Health Care</td>\n      <td>39.60</td>\n      <td>15.573</td>\n    </tr>\n    <tr>\n      <td>ABBV</td>\n      <td>Health Care</td>\n      <td>53.95</td>\n      <td>2.954</td>\n    </tr>\n    <tr>\n      <td>FOO</td>\n      <td>the sector</td>\n      <td>100.00</td>\n      <td>110.000</td>\n    </tr>\n  </tbody>\n</table>\n</div>"
     },
     "metadata": {},
     "execution_count": 78
    }
   ],
   "source": [
    "ss = sp500[:3].copy()\n",
    "ss.loc['FOO'] = ['the sector', 100, 110]\n",
    "ss"
   ]
  },
  {
   "cell_type": "code",
   "execution_count": 81,
   "metadata": {},
   "outputs": [
    {
     "output_type": "execute_result",
     "data": {
      "text/plain": [
       "                        Sector   Price  BookValue\n",
       "Symbol                                           \n",
       "MMM                Industrials  141.14     26.668\n",
       "ABT                Health Care   39.60     15.573\n",
       "ABBV               Health Care   53.95      2.954\n",
       "ACN     Information Technology   79.79      8.326\n",
       "ACE                 Financials  102.91     86.897\n",
       "...                        ...     ...        ...\n",
       "YHOO    Information Technology   35.02     12.768\n",
       "YUM     Consumer Discretionary   74.77      5.147\n",
       "ZMH                Health Care  101.84     37.181\n",
       "ZION                Financials   28.43     30.191\n",
       "ZTS                Health Care   30.53      2.150\n",
       "\n",
       "[490 rows x 3 columns]"
      ],
      "text/html": "<div>\n<style scoped>\n    .dataframe tbody tr th:only-of-type {\n        vertical-align: middle;\n    }\n\n    .dataframe tbody tr th {\n        vertical-align: top;\n    }\n\n    .dataframe thead th {\n        text-align: right;\n    }\n</style>\n<table border=\"1\" class=\"dataframe\">\n  <thead>\n    <tr style=\"text-align: right;\">\n      <th></th>\n      <th>Sector</th>\n      <th>Price</th>\n      <th>BookValue</th>\n    </tr>\n    <tr>\n      <th>Symbol</th>\n      <th></th>\n      <th></th>\n      <th></th>\n    </tr>\n  </thead>\n  <tbody>\n    <tr>\n      <td>MMM</td>\n      <td>Industrials</td>\n      <td>141.14</td>\n      <td>26.668</td>\n    </tr>\n    <tr>\n      <td>ABT</td>\n      <td>Health Care</td>\n      <td>39.60</td>\n      <td>15.573</td>\n    </tr>\n    <tr>\n      <td>ABBV</td>\n      <td>Health Care</td>\n      <td>53.95</td>\n      <td>2.954</td>\n    </tr>\n    <tr>\n      <td>ACN</td>\n      <td>Information Technology</td>\n      <td>79.79</td>\n      <td>8.326</td>\n    </tr>\n    <tr>\n      <td>ACE</td>\n      <td>Financials</td>\n      <td>102.91</td>\n      <td>86.897</td>\n    </tr>\n    <tr>\n      <td>...</td>\n      <td>...</td>\n      <td>...</td>\n      <td>...</td>\n    </tr>\n    <tr>\n      <td>YHOO</td>\n      <td>Information Technology</td>\n      <td>35.02</td>\n      <td>12.768</td>\n    </tr>\n    <tr>\n      <td>YUM</td>\n      <td>Consumer Discretionary</td>\n      <td>74.77</td>\n      <td>5.147</td>\n    </tr>\n    <tr>\n      <td>ZMH</td>\n      <td>Health Care</td>\n      <td>101.84</td>\n      <td>37.181</td>\n    </tr>\n    <tr>\n      <td>ZION</td>\n      <td>Financials</td>\n      <td>28.43</td>\n      <td>30.191</td>\n    </tr>\n    <tr>\n      <td>ZTS</td>\n      <td>Health Care</td>\n      <td>30.53</td>\n      <td>2.150</td>\n    </tr>\n  </tbody>\n</table>\n<p>490 rows × 3 columns</p>\n</div>"
     },
     "metadata": {},
     "execution_count": 81
    }
   ],
   "source": [
    "#complement\n",
    "selection=sp500.Price > 300\n",
    "sp500[~selection]"
   ]
  },
  {
   "cell_type": "code",
   "execution_count": null,
   "metadata": {},
   "outputs": [],
   "source": []
  }
 ]
}