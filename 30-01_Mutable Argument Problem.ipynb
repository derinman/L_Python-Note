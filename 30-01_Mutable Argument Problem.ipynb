{
 "metadata": {
  "language_info": {
   "codemirror_mode": {
    "name": "ipython",
    "version": 3
   },
   "file_extension": ".py",
   "mimetype": "text/x-python",
   "name": "python",
   "nbconvert_exporter": "python",
   "pygments_lexer": "ipython3",
   "version": "3.7.4-final"
  },
  "orig_nbformat": 2,
  "kernelspec": {
   "name": "Python 3.7.4 64-bit ('base': conda)",
   "display_name": "Python 3.7.4 64-bit ('base': conda)",
   "metadata": {
    "interpreter": {
     "hash": "b3ba2566441a7c06988d0923437866b63cedc61552a5af99d1f4fb67d367b25f"
    }
   }
  }
 },
 "nbformat": 4,
 "nbformat_minor": 2,
 "cells": [
  {
   "cell_type": "code",
   "execution_count": 26,
   "metadata": {},
   "outputs": [
    {
     "output_type": "execute_result",
     "data": {
      "text/plain": "([1, 2, 3, 4], [1, 2, 3, 4])"
     },
     "metadata": {},
     "execution_count": 26
    }
   ],
   "source": [
    "#參數a, b在函式的行為就像l1, l2的標籤\n",
    "#就像a = l1, b = l2\n",
    "#所以可變型態需要特別小心\n",
    "\n",
    "def f1(a, b):\n",
    "    a+=b\n",
    "    return a\n",
    "\n",
    "l1 = [1,2]\n",
    "l2 = [3,4]\n",
    "\n",
    "f1(l1, l2),l1 #l1被改變了"
   ]
  },
  {
   "cell_type": "code",
   "execution_count": 27,
   "metadata": {},
   "outputs": [],
   "source": [
    "#應該避免使用可變型態預設參數\n",
    "#此例用passengers展示問題\n",
    "#正確的請看30-00\n",
    "\n",
    "class HauntedBus:\n",
    "    \"\"\"A bus model haunted by ghost passengers\"\"\"\n",
    "\n",
    "    def __init__(self, passengers=[]):\n",
    "        self.passengers = passengers\n",
    "\n",
    "    def pick(self, name):\n",
    "        self.passengers.append(name)\n",
    "\n",
    "    def drop(self, name):\n",
    "        self.passengers.remove(name)"
   ]
  },
  {
   "cell_type": "code",
   "execution_count": 28,
   "metadata": {},
   "outputs": [
    {
     "output_type": "execute_result",
     "data": {
      "text/plain": "['薛伊閩', '柯賜海', 'John']"
     },
     "metadata": {},
     "execution_count": 28
    }
   ],
   "source": [
    "bus1 = HauntedBus(['薛伊閩', '柯賜海', 'John'])\n",
    "bus1.passengers"
   ]
  },
  {
   "cell_type": "code",
   "execution_count": 29,
   "metadata": {},
   "outputs": [
    {
     "output_type": "execute_result",
     "data": {
      "text/plain": "['馬奎斯']"
     },
     "metadata": {},
     "execution_count": 29
    }
   ],
   "source": [
    "bus2 = HauntedBus() #使用預設[]\n",
    "bus2.pick('馬奎斯')\n",
    "bus3 = HauntedBus()\n",
    "bus3.passengers #問題來了"
   ]
  },
  {
   "cell_type": "code",
   "execution_count": null,
   "metadata": {},
   "outputs": [],
   "source": []
  }
 ]
}