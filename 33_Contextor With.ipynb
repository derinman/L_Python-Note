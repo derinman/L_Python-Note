{
 "metadata": {
  "language_info": {
   "codemirror_mode": {
    "name": "ipython",
    "version": 3
   },
   "file_extension": ".py",
   "mimetype": "text/x-python",
   "name": "python",
   "nbconvert_exporter": "python",
   "pygments_lexer": "ipython3",
   "version": "3.7.4-final"
  },
  "orig_nbformat": 2,
  "kernelspec": {
   "name": "python3",
   "display_name": "Python 3"
  }
 },
 "nbformat": 4,
 "nbformat_minor": 2,
 "cells": [
  {
   "cell_type": "code",
   "execution_count": 2,
   "metadata": {},
   "outputs": [],
   "source": [
    "#情境管理器是為了控制with陳述式，如同迭代器是為了控制for陳述式\n",
    "#with陳述式是為了簡化try/finally模式，保證某些動作可以在一段程式碼後\n",
    "#被執行，就算程式碼因為錯誤而失敗，finally子句通常會釋出資源，或是恢復\n",
    "#一些暫時被改變的狀態\n",
    "#情境管理像是三明治的麵包，夾住可替換的中間餡料"
   ]
  },
  {
   "cell_type": "code",
   "execution_count": 3,
   "metadata": {},
   "outputs": [],
   "source": [
    "#情境管理協定包含 __enter__ 跟 __exit__ "
   ]
  },
  {
   "cell_type": "code",
   "execution_count": 4,
   "metadata": {},
   "outputs": [
    {
     "output_type": "execute_result",
     "data": {
      "text/plain": [
       "('hi d',\n",
       " <_io.TextIOWrapper name='000_inman file' mode='r' encoding='cp950'>,\n",
       " True)"
      ]
     },
     "metadata": {},
     "execution_count": 4
    }
   ],
   "source": [
    "with open('000_inman file') as fp:\n",
    "    src = fp.read(4)\n",
    "\n",
    "src, fp, fp.closed, #fp.read(3)#跳出with則無法處理io"
   ]
  },
  {
   "cell_type": "code",
   "execution_count": 5,
   "metadata": {},
   "outputs": [],
   "source": [
    "class LookingGlass:\n",
    "\n",
    "    def __enter__(self):\n",
    "        import sys\n",
    "        self.original_write = sys.stdout.write\n",
    "        sys.stdout.write = self.reverse_write\n",
    "        return 'JABBERWOCKY'\n",
    "\n",
    "    def reverse_write(self, text):\n",
    "        self.original_write(text[::-1])\n",
    "\n",
    "    def __exit__(self, exc_type, exc_value, traceback):\n",
    "        import sys\n",
    "        sys.stdout.write = self.original_write\n",
    "        if exc_type is ZeroDivisionError:\n",
    "            print('Please DO NOT divide by zero!')\n",
    "            return True"
   ]
  },
  {
   "cell_type": "code",
   "execution_count": 6,
   "metadata": {},
   "outputs": [
    {
     "output_type": "stream",
     "name": "stdout",
     "text": [
      "pordwonS dna yttiK ,ecilA\nYKCOWREBBAJ\n"
     ]
    }
   ],
   "source": [
    "with LookingGlass() as what:\n",
    "    print('Alice, Kitty and Snowdrop')\n",
    "    print(what)"
   ]
  },
  {
   "cell_type": "code",
   "execution_count": 7,
   "metadata": {},
   "outputs": [
    {
     "output_type": "execute_result",
     "data": {
      "text/plain": [
       "'JABBERWOCKY'"
      ]
     },
     "metadata": {},
     "execution_count": 7
    }
   ],
   "source": [
    "what#情境管理器結束後呼叫what"
   ]
  },
  {
   "cell_type": "code",
   "execution_count": 14,
   "metadata": {},
   "outputs": [
    {
     "output_type": "execute_result",
     "data": {
      "text/plain": [
       "<_io.TextIOWrapper name='file.txt' mode='w' encoding='cp950'>"
      ]
     },
     "metadata": {},
     "execution_count": 14
    }
   ],
   "source": [
    "# 自行定義 Context Manager\n",
    "# contextlib.contextmanager會將__enter__ __exit__包裝起來\n",
    "# 這裡的yield與迭代無關，比較像協同程序，執行到某個地方，然後繼續執行\n",
    "from contextlib import contextmanager\n",
    "\n",
    "@contextmanager\n",
    "def open_file(name, mode):\n",
    "  # 配給資源（開啟檔案）\n",
    "  file = open(name, mode)\n",
    "  yield file #__enter__的回傳值#yield之前為__enter__方法，之後為__exit__方法\n",
    "  # 回收資源（關閉檔案）\n",
    "  file.close()\n",
    "\n",
    "with open_file('file.txt', 'w') as f:\n",
    "  f.write(\"Hellllo, world.\")\n",
    "\n",
    "f"
   ]
  },
  {
   "cell_type": "code",
   "execution_count": null,
   "metadata": {},
   "outputs": [],
   "source": []
  }
 ]
}