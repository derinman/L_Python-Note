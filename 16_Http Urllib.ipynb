{
 "metadata": {
  "language_info": {
   "codemirror_mode": {
    "name": "ipython",
    "version": 3
   },
   "file_extension": ".py",
   "mimetype": "text/x-python",
   "name": "python",
   "nbconvert_exporter": "python",
   "pygments_lexer": "ipython3",
   "version": "3.7.4-final"
  },
  "orig_nbformat": 2,
  "kernelspec": {
   "name": "python_defaultSpec_1598411822624",
   "display_name": "Python 3.7.4 64-bit ('base': conda)"
  }
 },
 "nbformat": 4,
 "nbformat_minor": 2,
 "cells": [
  {
   "cell_type": "code",
   "execution_count": 5,
   "metadata": {},
   "outputs": [],
   "source": [
    "import urllib.request as ur"
   ]
  },
  {
   "cell_type": "code",
   "execution_count": 9,
   "metadata": {},
   "outputs": [
    {
     "output_type": "execute_result",
     "data": {
      "text/plain": "<http.client.HTTPResponse at 0x2112d8b78c8>"
     },
     "metadata": {},
     "execution_count": 9
    }
   ],
   "source": [
    "url = 'http://python.org/'\n",
    "conn = ur.urlopen(url)\n",
    "conn"
   ]
  },
  {
   "cell_type": "code",
   "execution_count": 13,
   "metadata": {},
   "outputs": [
    {
     "output_type": "execute_result",
     "data": {
      "text/plain": "200"
     },
     "metadata": {},
     "execution_count": 13
    }
   ],
   "source": [
    "conn.status"
   ]
  },
  {
   "cell_type": "code",
   "execution_count": 16,
   "metadata": {},
   "outputs": [
    {
     "output_type": "execute_result",
     "data": {
      "text/plain": "'text/html; charset=utf-8'"
     },
     "metadata": {},
     "execution_count": 16
    }
   ],
   "source": [
    "conn.getheader('Content-Type')"
   ]
  },
  {
   "cell_type": "code",
   "execution_count": 21,
   "metadata": {},
   "outputs": [
    {
     "output_type": "execute_result",
     "data": {
      "text/plain": "[('Connection', 'close'),\n ('Content-Length', '48819'),\n ('Server', 'nginx'),\n ('Content-Type', 'text/html; charset=utf-8'),\n ('X-Frame-Options', 'DENY'),\n ('Via', '1.1 vegur'),\n ('Via', '1.1 varnish'),\n ('Accept-Ranges', 'bytes'),\n ('Date', 'Wed, 26 Aug 2020 03:20:31 GMT'),\n ('Via', '1.1 varnish'),\n ('Age', '1366'),\n ('X-Served-By', 'cache-bwi5122-BWI, cache-hkg17924-HKG'),\n ('X-Cache', 'HIT, HIT'),\n ('X-Cache-Hits', '4, 1621'),\n ('X-Timer', 'S1598412032.848840,VS0,VE0'),\n ('Vary', 'Cookie'),\n ('Strict-Transport-Security', 'max-age=63072000; includeSubDomains')]"
     },
     "metadata": {},
     "execution_count": 21
    }
   ],
   "source": [
    "[x for x in  conn.getheaders()]"
   ]
  },
  {
   "cell_type": "code",
   "execution_count": 25,
   "metadata": {},
   "outputs": [
    {
     "output_type": "execute_result",
     "data": {
      "text/plain": "<Response [200]>"
     },
     "metadata": {},
     "execution_count": 25
    }
   ],
   "source": [
    "import requests\n",
    "url = 'http://python.org/'\n",
    "resp = requests.get (url)\n",
    "resp"
   ]
  },
  {
   "cell_type": "code",
   "execution_count": 28,
   "metadata": {},
   "outputs": [
    {
     "output_type": "execute_result",
     "data": {
      "text/plain": "True"
     },
     "metadata": {},
     "execution_count": 28
    }
   ],
   "source": [
    "resp.ok"
   ]
  },
  {
   "cell_type": "code",
   "execution_count": 30,
   "metadata": {},
   "outputs": [
    {
     "output_type": "stream",
     "text": "resp.__attrs__\nresp.__bool__\nresp.__class__\nresp.__delattr__\nresp.__dict__\nresp.__dir__\nresp.__doc__\nresp.__enter__\nresp.__eq__\nresp.__exit__\nresp.__format__\nresp.__ge__\nresp.__getattribute__\nresp.__getstate__\nresp.__gt__\nresp.__hash__\nresp.__init__\nresp.__init_subclass__\nresp.__iter__\nresp.__le__\nresp.__lt__\nresp.__module__\nresp.__ne__\nresp.__new__\nresp.__nonzero__\nresp.__reduce__\nresp.__reduce_ex__\nresp.__repr__\nresp.__setattr__\nresp.__setstate__\nresp.__sizeof__\nresp.__str__\nresp.__subclasshook__\nresp.__weakref__\nresp.apparent_encoding\nresp.close\nresp.connection\nresp.content\nresp.cookies\nresp.elapsed\nresp.encoding\nresp.headers\nresp.history\nresp.is_permanent_redirect\nresp.is_redirect\nresp.iter_content\nresp.iter_lines\nresp.json\nresp.links\nresp.next\nresp.ok\nresp.raise_for_status\nresp.raw\nresp.reason\nresp.request\nresp.status_code\nresp.text\nresp.url"
    }
   ],
   "source": [
    "resp.*?"
   ]
  },
  {
   "cell_type": "code",
   "execution_count": null,
   "metadata": {},
   "outputs": [],
   "source": []
  }
 ]
}