{
 "metadata": {
  "language_info": {
   "codemirror_mode": {
    "name": "ipython",
    "version": 3
   },
   "file_extension": ".py",
   "mimetype": "text/x-python",
   "name": "python",
   "nbconvert_exporter": "python",
   "pygments_lexer": "ipython3",
   "version": "3.7.4-final"
  },
  "orig_nbformat": 2,
  "kernelspec": {
   "name": "python_defaultSpec_1600594762284",
   "display_name": "Python 3.7.4 64-bit ('base': conda)"
  }
 },
 "nbformat": 4,
 "nbformat_minor": 2,
 "cells": [
  {
   "cell_type": "code",
   "execution_count": 1,
   "metadata": {},
   "outputs": [],
   "source": [
    "#加入自動比較並尋找最優惠的折扣\n",
    "\n",
    "from collections import namedtuple\n",
    "\n",
    "Customer = namedtuple('Customer', 'name fidelity')\n",
    "\n",
    "\n",
    "class LineItem:\n",
    "\n",
    "    def __init__(self, product, quantity, price):\n",
    "        self.product = product\n",
    "        self.quantity = quantity\n",
    "        self.price = price\n",
    "\n",
    "    def total(self):\n",
    "        return self.price * self.quantity\n",
    "\n",
    "\n",
    "class Order:  # the Context\n",
    "\n",
    "    def __init__(self, customer, cart, promotion=None):\n",
    "        self.customer = customer\n",
    "        self.cart = list(cart)\n",
    "        self.promotion = promotion\n",
    "\n",
    "    def total(self):\n",
    "        if not hasattr(self, '__total'):\n",
    "            self.__total = sum(item.total() for item in self.cart)\n",
    "        return self.__total\n",
    "\n",
    "    def due(self):\n",
    "        if self.promotion is None:\n",
    "            discount = 0\n",
    "        else:\n",
    "            discount = self.promotion(self)\n",
    "        return self.total() - discount\n",
    "\n",
    "    def __repr__(self):\n",
    "        fmt = '<Order total: {:.2f} due: {:.2f}>'\n",
    "        return fmt.format(self.total(), self.due())\n",
    "\n",
    "\n",
    "def fidelity_promo(order):\n",
    "    \"\"\"5% discount for customers with 1000 or more fidelity points\"\"\"\n",
    "    return order.total() * .05 if order.customer.fidelity >= 1000 else 0\n",
    "\n",
    "\n",
    "def bulk_item_promo(order):\n",
    "    \"\"\"10% discount for each LineItem with 20 or more units\"\"\"\n",
    "    discount = 0\n",
    "    for item in order.cart:\n",
    "        if item.quantity >= 20:\n",
    "            discount += item.total() * .1\n",
    "    return discount\n",
    "\n",
    "def large_order_promo(order):\n",
    "    \"\"\"7% discount for orders with 10 or more distinct items\"\"\"\n",
    "    distinct_items = {item.product for item in order.cart}\n",
    "    if len(distinct_items) >= 10:\n",
    "        return order.total() * .07\n",
    "    return 0\n",
    "\n",
    "promos = [fidelity_promo, bulk_item_promo, large_order_promo]\n",
    "\n",
    "def best_promo(order):\n",
    "    \"\"\"Select best discount available\n",
    "    \"\"\"\n",
    "    return max(promo(order) for promo in promos)"
   ]
  },
  {
   "cell_type": "code",
   "execution_count": 5,
   "metadata": {},
   "outputs": [],
   "source": [
    "#顧客\n",
    "joe = Customer('John Doe', 0)\n",
    "ann = Customer('Ann Smith', 1100)\n",
    "\n",
    "#購物車\n",
    "cart = [LineItem('banana', 4, .5),\n",
    "        LineItem('apple', 10, 1.5),\n",
    "        LineItem('watermellon', 5, 5.0)]\n",
    "banana_cart = [LineItem('banana', 30, .5),\n",
    "               LineItem('apple', 10, 1.5)]\n",
    "long_order = [LineItem(str(item_code), 1, 1.0) for item_code in range(10)]"
   ]
  },
  {
   "cell_type": "code",
   "execution_count": 11,
   "metadata": {},
   "outputs": [
    {
     "output_type": "execute_result",
     "data": {
      "text/plain": "<Order total: 42.00 due: 42.00>"
     },
     "metadata": {},
     "execution_count": 11
    }
   ],
   "source": [
    "Order(joe, cart , best_promo)"
   ]
  },
  {
   "cell_type": "code",
   "execution_count": 10,
   "metadata": {},
   "outputs": [
    {
     "output_type": "execute_result",
     "data": {
      "text/plain": "<Order total: 42.00 due: 39.90>"
     },
     "metadata": {},
     "execution_count": 10
    }
   ],
   "source": [
    "Order(ann, cart , best_promo)"
   ]
  },
  {
   "cell_type": "code",
   "execution_count": 14,
   "metadata": {},
   "outputs": [
    {
     "output_type": "execute_result",
     "data": {
      "text/plain": "<Order total: 30.00 due: 28.50>"
     },
     "metadata": {},
     "execution_count": 14
    }
   ],
   "source": [
    "Order(ann, banana_cart, best_promo)"
   ]
  },
  {
   "cell_type": "code",
   "execution_count": 15,
   "metadata": {},
   "outputs": [
    {
     "output_type": "execute_result",
     "data": {
      "text/plain": "<Order total: 10.00 due: 9.30>"
     },
     "metadata": {},
     "execution_count": 15
    }
   ],
   "source": [
    "Order(ann, long_order, best_promo)"
   ]
  }
 ]
}