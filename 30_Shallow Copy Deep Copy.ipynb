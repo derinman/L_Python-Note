{
 "metadata": {
  "language_info": {
   "codemirror_mode": {
    "name": "ipython",
    "version": 3
   },
   "file_extension": ".py",
   "mimetype": "text/x-python",
   "name": "python",
   "nbconvert_exporter": "python",
   "pygments_lexer": "ipython3",
   "version": "3.7.4-final"
  },
  "orig_nbformat": 2,
  "kernelspec": {
   "name": "Python 3.7.4 64-bit ('base': conda)",
   "display_name": "Python 3.7.4 64-bit ('base': conda)",
   "metadata": {
    "interpreter": {
     "hash": "b3ba2566441a7c06988d0923437866b63cedc61552a5af99d1f4fb67d367b25f"
    }
   }
  }
 },
 "nbformat": 4,
 "nbformat_minor": 2,
 "cells": [
  {
   "cell_type": "code",
   "execution_count": 11,
   "metadata": {},
   "outputs": [
    {
     "output_type": "execute_result",
     "data": {
      "text/plain": "([0, [11, 22], (100, 200, 300), 10], [0, [11, 22], (100, 200, 300)])"
     },
     "metadata": {},
     "execution_count": 11
    }
   ],
   "source": [
    "#shallow copy淺複製\n",
    "#注意[11,22,33]\n",
    "#可變物件淺複製只是複製參考\n",
    "l1 = [0, [11,22,33], (100,200,300)]\n",
    "l2 = list(l1)\n",
    "l1.append(10)\n",
    "l1[1].remove(33)\n",
    "l1, l2"
   ]
  },
  {
   "cell_type": "code",
   "execution_count": 12,
   "metadata": {},
   "outputs": [
    {
     "output_type": "execute_result",
     "data": {
      "text/plain": "([0, [11, 22, 44], (100, 200, 300), 10],\n [0, [11, 22, 44], (100, 200, 300, 400)])"
     },
     "metadata": {},
     "execution_count": 12
    }
   ],
   "source": [
    "l2[1] += [44]\n",
    "l2[2] += (400,)\n",
    "l1, l2"
   ]
  },
  {
   "cell_type": "code",
   "execution_count": 14,
   "metadata": {},
   "outputs": [
    {
     "output_type": "execute_result",
     "data": {
      "text/plain": "([0, [11, 22], (100, 200, 300), 10], [0, [11, 22, 33], (100, 200, 300)])"
     },
     "metadata": {},
     "execution_count": 14
    }
   ],
   "source": [
    "#deep copy深複製\n",
    "import copy\n",
    "l3 = [0, [11,22,33], (100,200,300)]\n",
    "l4 = copy.deepcopy(l3)\n",
    "l3.append(10)\n",
    "l3[1].remove(33)\n",
    "l3, l4"
   ]
  },
  {
   "cell_type": "code",
   "execution_count": 16,
   "metadata": {},
   "outputs": [
    {
     "output_type": "execute_result",
     "data": {
      "text/plain": "([0, [11, 22], (100, 200, 300), 10],\n [0, [11, 22, 33, 44, 44], (100, 200, 300, 400, 400)])"
     },
     "metadata": {},
     "execution_count": 16
    }
   ],
   "source": [
    "l4[1] += [44]\n",
    "l4[2] += (400,)\n",
    "l3, l4"
   ]
  },
  {
   "cell_type": "code",
   "execution_count": null,
   "metadata": {},
   "outputs": [],
   "source": []
  }
 ]
}