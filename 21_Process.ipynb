{
 "metadata": {
  "language_info": {
   "codemirror_mode": {
    "name": "ipython",
    "version": 3
   },
   "file_extension": ".py",
   "mimetype": "text/x-python",
   "name": "python",
   "nbconvert_exporter": "python",
   "pygments_lexer": "ipython3",
   "version": "3.7.4-final"
  },
  "orig_nbformat": 2,
  "kernelspec": {
   "name": "python_defaultSpec_1598581659189",
   "display_name": "Python 3.7.4 64-bit ('base': conda)"
  }
 },
 "nbformat": 4,
 "nbformat_minor": 2,
 "cells": [
  {
   "cell_type": "code",
   "execution_count": 9,
   "metadata": {},
   "outputs": [],
   "source": [
    "import subprocess"
   ]
  },
  {
   "cell_type": "code",
   "execution_count": 4,
   "metadata": {},
   "outputs": [
    {
     "output_type": "execute_result",
     "data": {
      "text/plain": "'The current date is: 08/28/2020 Fri \\nEnter the new date: (mm-dd-yy) '"
     },
     "metadata": {},
     "execution_count": 4
    }
   ],
   "source": [
    "#跟在terminal輸入date一樣\n",
    "subprocess.getoutput('date')"
   ]
  },
  {
   "cell_type": "code",
   "execution_count": 6,
   "metadata": {},
   "outputs": [
    {
     "output_type": "execute_result",
     "data": {
      "text/plain": "(1, 'The current date is: 08/28/2020 Fri \\nEnter the new date: (mm-dd-yy) ')"
     },
     "metadata": {},
     "execution_count": 6
    }
   ],
   "source": [
    "subprocess.getstatusoutput('date')"
   ]
  }
 ]
}