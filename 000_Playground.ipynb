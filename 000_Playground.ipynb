{
 "metadata": {
  "language_info": {
   "codemirror_mode": {
    "name": "ipython",
    "version": 3
   },
   "file_extension": ".py",
   "mimetype": "text/x-python",
   "name": "python",
   "nbconvert_exporter": "python",
   "pygments_lexer": "ipython3",
   "version": "3.8.5-final"
  },
  "orig_nbformat": 2,
  "kernelspec": {
   "name": "python3",
   "display_name": "Python 3",
   "language": "python"
  }
 },
 "nbformat": 4,
 "nbformat_minor": 2,
 "cells": [
  {
   "cell_type": "code",
   "execution_count": 5,
   "source": [
    "[x for x in range(10) if x % 2 ==0]"
   ],
   "outputs": [
    {
     "output_type": "execute_result",
     "data": {
      "text/plain": [
       "[0, 2, 4, 6, 8]"
      ]
     },
     "metadata": {},
     "execution_count": 5
    }
   ],
   "metadata": {}
  },
  {
   "cell_type": "code",
   "execution_count": 6,
   "source": [
    "{ x : x**2 for x in range(10)}"
   ],
   "outputs": [
    {
     "output_type": "execute_result",
     "data": {
      "text/plain": [
       "{0: 0, 1: 1, 2: 4, 3: 9, 4: 16, 5: 25, 6: 36, 7: 49, 8: 64, 9: 81}"
      ]
     },
     "metadata": {},
     "execution_count": 6
    }
   ],
   "metadata": {}
  },
  {
   "cell_type": "code",
   "execution_count": 7,
   "source": [
    "{ x for x in range(10) if x % 2 == 1}"
   ],
   "outputs": [
    {
     "output_type": "execute_result",
     "data": {
      "text/plain": [
       "{1, 3, 5, 7, 9}"
      ]
     },
     "metadata": {},
     "execution_count": 7
    }
   ],
   "metadata": {}
  },
  {
   "cell_type": "code",
   "execution_count": 8,
   "source": [
    "gen = ('Got '+str(x) for x in range(10))\r\n",
    "for i in gen: \r\n",
    "    print(i)"
   ],
   "outputs": [
    {
     "output_type": "stream",
     "name": "stdout",
     "text": [
      "Got 0\n",
      "Got 1\n",
      "Got 2\n",
      "Got 3\n",
      "Got 4\n",
      "Got 5\n",
      "Got 6\n",
      "Got 7\n",
      "Got 8\n",
      "Got 9\n"
     ]
    }
   ],
   "metadata": {
    "tags": []
   }
  },
  {
   "cell_type": "code",
   "execution_count": 9,
   "source": [
    "def test (func):\n",
    "    def inner():\n",
    "      print('start')\n",
    "      func()\n",
    "      print('end')\n",
    "    return inner\n",
    "\n",
    "@test\n",
    "def okok():\n",
    "    print('134')\n",
    "okok()"
   ],
   "outputs": [
    {
     "output_type": "stream",
     "name": "stdout",
     "text": [
      "start\n",
      "134\n",
      "end\n"
     ]
    }
   ],
   "metadata": {
    "tags": []
   }
  },
  {
   "cell_type": "code",
   "execution_count": 10,
   "source": [
    "a =['我','你']\n",
    "b =['是','好']\n",
    "dict(zip(a,b))"
   ],
   "outputs": [
    {
     "output_type": "execute_result",
     "data": {
      "text/plain": [
       "{'我': '是', '你': '好'}"
      ]
     },
     "metadata": {},
     "execution_count": 10
    }
   ],
   "metadata": {}
  },
  {
   "cell_type": "code",
   "execution_count": 11,
   "source": [
    "class Thing():\n",
    "    pass\n",
    "example = Thing()\n",
    "example"
   ],
   "outputs": [
    {
     "output_type": "execute_result",
     "data": {
      "text/plain": [
       "<__main__.Thing at 0x17511f410c8>"
      ]
     },
     "metadata": {},
     "execution_count": 11
    }
   ],
   "metadata": {}
  },
  {
   "cell_type": "code",
   "execution_count": 12,
   "source": [
    "class Thing2():\n",
    "    def __init__(self, letter):\n",
    "        self.letter = letter\n",
    "example = Thing2('abc')\n",
    "example.letter"
   ],
   "outputs": [
    {
     "output_type": "execute_result",
     "data": {
      "text/plain": [
       "'abc'"
      ]
     },
     "metadata": {},
     "execution_count": 12
    }
   ],
   "metadata": {}
  },
  {
   "cell_type": "code",
   "execution_count": 13,
   "source": [
    "class Element():\n",
    "    def __init__(self, name, symbol, number):\n",
    "        self.name = name\n",
    "        self.symbol = symbol\n",
    "        self.number = number\n",
    "    def dump():\n",
    "        print(self.name)"
   ],
   "outputs": [],
   "metadata": {}
  },
  {
   "cell_type": "code",
   "execution_count": 14,
   "source": [
    "class Element():\n",
    "    def __init__(self, name, symbol, number):\n",
    "        self.name = name\n",
    "        self.symbol = symbol\n",
    "        self.number = number\n",
    "    def dump(self):\n",
    "        print('%s'%self.name)\n",
    "    def __str__(self):\n",
    "        return '看啥'\n",
    "Hdict = { 'name':'Hydrogen', 'symbol':'H', 'number':1 }\n",
    "H2 = Element(**Hdict)\n",
    "print(H2)"
   ],
   "outputs": [
    {
     "output_type": "stream",
     "name": "stdout",
     "text": [
      "看啥\n"
     ]
    }
   ],
   "metadata": {
    "tags": []
   }
  },
  {
   "cell_type": "code",
   "execution_count": 15,
   "source": [
    "class Element():\n",
    "    def __init__(self, inputName, symbol, number):\n",
    "        self.__hideName = inputName\n",
    "        self.symbol = symbol\n",
    "        self.number = number\n",
    "    @property\n",
    "    def name(self):\n",
    "        print(\"I'm\",self.__hideName)\n",
    "    @name.setter\n",
    "    def name(self,inputName):\n",
    "        self.__hideName = inputName\n",
    "Hdict = { 'inputName':'Hydrogen', 'symbol':'H', 'number':1 }\n",
    "H2 = Element(**Hdict)\n",
    "H2.name = 'haha'\n",
    "H2.name"
   ],
   "outputs": [
    {
     "output_type": "stream",
     "name": "stdout",
     "text": [
      "I'm haha\n"
     ]
    }
   ],
   "metadata": {
    "tags": []
   }
  },
  {
   "cell_type": "code",
   "execution_count": 16,
   "source": [
    "mystery = '\\U0001f4a9'\n",
    "mystery"
   ],
   "outputs": [
    {
     "output_type": "execute_result",
     "data": {
      "text/plain": [
       "'💩'"
      ]
     },
     "metadata": {},
     "execution_count": 16
    }
   ],
   "metadata": {}
  },
  {
   "cell_type": "code",
   "execution_count": 17,
   "source": [
    "pop_bytes = mystery.encode('UTF-8')"
   ],
   "outputs": [],
   "metadata": {}
  },
  {
   "cell_type": "code",
   "execution_count": 18,
   "source": [
    "pop_bytes"
   ],
   "outputs": [
    {
     "output_type": "execute_result",
     "data": {
      "text/plain": [
       "b'\\xf0\\x9f\\x92\\xa9'"
      ]
     },
     "metadata": {},
     "execution_count": 18
    }
   ],
   "metadata": {}
  },
  {
   "cell_type": "code",
   "execution_count": 19,
   "source": [
    "pop_bytes.decode('UTF-8')"
   ],
   "outputs": [
    {
     "output_type": "execute_result",
     "data": {
      "text/plain": [
       "'💩'"
      ]
     },
     "metadata": {},
     "execution_count": 19
    }
   ],
   "metadata": {}
  },
  {
   "cell_type": "code",
   "execution_count": 20,
   "source": [
    "s = 'sfdP{apple}'\n",
    "s.format(apple='45')"
   ],
   "outputs": [
    {
     "output_type": "execute_result",
     "data": {
      "text/plain": [
       "'sfdP45'"
      ]
     },
     "metadata": {},
     "execution_count": 20
    }
   ],
   "metadata": {}
  },
  {
   "cell_type": "code",
   "execution_count": 21,
   "source": [
    "song = \"\"\"We have seen thee, queen of cheese,\n",
    "Lying quietly at your ease,\n",
    "Gently fanned by evening breeze,\n",
    "Thy fair form no flies dare seize.\n",
    "\n",
    "All gaily dressed soon you'll go\n",
    "To the great Provincial show,\n",
    "To be admired by many a beau\n",
    "In the city of Toronto.\n",
    "\n",
    "Cows numerous as a swarm of bees,\n",
    "Or as the leaves upon the trees,\n",
    "It did require to make thee please,\n",
    "And stand unrivalled, queen of cheese.\n",
    "\n",
    "May you not receive a scar as\n",
    "We have heard that Mr. Harris\n",
    "Intends to send you off as far as\n",
    "The great world's show at Paris.\n",
    "\n",
    "Of the youth beware of these,\n",
    "For some of them might rudely squeeze\n",
    "And bite your cheek, then songs or glees\n",
    "We could not sing, oh! queen of cheese.\n",
    "\n",
    "We'rt thou suspended from balloon,\n",
    "You'd cast a shade even at noon,\n",
    "Folks would think it was the moon\n",
    "About to fall and crush them soon.\"\"\"\n",
    "\n",
    "song"
   ],
   "outputs": [
    {
     "output_type": "execute_result",
     "data": {
      "text/plain": [
       "\"We have seen thee, queen of cheese,\\nLying quietly at your ease,\\nGently fanned by evening breeze,\\nThy fair form no flies dare seize.\\n\\nAll gaily dressed soon you'll go\\nTo the great Provincial show,\\nTo be admired by many a beau\\nIn the city of Toronto.\\n\\nCows numerous as a swarm of bees,\\nOr as the leaves upon the trees,\\nIt did require to make thee please,\\nAnd stand unrivalled, queen of cheese.\\n\\nMay you not receive a scar as\\nWe have heard that Mr. Harris\\nIntends to send you off as far as\\nThe great world's show at Paris.\\n\\nOf the youth beware of these,\\nFor some of them might rudely squeeze\\nAnd bite your cheek, then songs or glees\\nWe could not sing, oh! queen of cheese.\\n\\nWe'rt thou suspended from balloon,\\nYou'd cast a shade even at noon,\\nFolks would think it was the moon\\nAbout to fall and crush them soon.\""
      ]
     },
     "metadata": {},
     "execution_count": 21
    }
   ],
   "metadata": {}
  },
  {
   "cell_type": "code",
   "execution_count": 22,
   "source": [
    "import re \n",
    "re.findall(r'\\bc\\w*\\b',song)"
   ],
   "outputs": [
    {
     "output_type": "execute_result",
     "data": {
      "text/plain": [
       "['cheese', 'city', 'cheese', 'cheek', 'could', 'cheese', 'cast', 'crush']"
      ]
     },
     "metadata": {},
     "execution_count": 22
    }
   ],
   "metadata": {}
  },
  {
   "cell_type": "code",
   "execution_count": 23,
   "source": [
    "re.findall(r'\\bc\\w{3}\\b',song)"
   ],
   "outputs": [
    {
     "output_type": "execute_result",
     "data": {
      "text/plain": [
       "['city', 'cast']"
      ]
     },
     "metadata": {},
     "execution_count": 23
    }
   ],
   "metadata": {}
  },
  {
   "cell_type": "code",
   "execution_count": 1,
   "source": [
    "import time\n",
    "from tqdm import tqdm\n",
    "for i in tqdm(range(1000)):\n",
    "    time.sleep(.01)"
   ],
   "outputs": [
    {
     "output_type": "stream",
     "name": "stderr",
     "text": [
      "100%|██████████| 1000/1000 [00:15<00:00, 64.38it/s]\n"
     ]
    }
   ],
   "metadata": {}
  },
  {
   "cell_type": "code",
   "execution_count": 20,
   "source": [
    "print('status', flush=True, end='\\r')\n",
    "print('status', flush=True)"
   ],
   "outputs": [
    {
     "output_type": "stream",
     "name": "stdout",
     "text": []
    }
   ],
   "metadata": {}
  },
  {
   "cell_type": "code",
   "execution_count": 15,
   "source": [
    "    for idx in range(10):\n",
    "        print('\\r', idx, end='')"
   ],
   "outputs": [
    {
     "output_type": "stream",
     "name": "stdout",
     "text": [
      " 9"
     ]
    }
   ],
   "metadata": {}
  },
  {
   "cell_type": "code",
   "execution_count": 1,
   "source": [
    "for i in range(1,10):\n",
    "    print(i)"
   ],
   "outputs": [
    {
     "output_type": "stream",
     "name": "stdout",
     "text": [
      "1\n",
      "2\n",
      "3\n",
      "4\n",
      "5\n",
      "6\n",
      "7\n",
      "8\n",
      "9\n"
     ]
    }
   ],
   "metadata": {}
  },
  {
   "cell_type": "code",
   "execution_count": null,
   "source": [
    "print('centos')"
   ],
   "outputs": [],
   "metadata": {}
  }
 ]
}