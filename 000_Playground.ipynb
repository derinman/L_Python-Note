{
 "cells": [
  {
   "cell_type": "code",
   "execution_count": 1,
   "metadata": {},
   "outputs": [
    {
     "data": {
      "text/plain": [
       "[0, 2, 4, 6, 8]"
      ]
     },
     "execution_count": 1,
     "metadata": {},
     "output_type": "execute_result"
    }
   ],
   "source": [
    "[x for x in range(10) if x % 2 ==0]"
   ]
  },
  {
   "cell_type": "code",
   "execution_count": 2,
   "metadata": {},
   "outputs": [
    {
     "data": {
      "text/plain": [
       "{0: 0, 1: 1, 2: 4, 3: 9, 4: 16, 5: 25, 6: 36, 7: 49, 8: 64, 9: 81, 10: 100}"
      ]
     },
     "execution_count": 2,
     "metadata": {},
     "output_type": "execute_result"
    }
   ],
   "source": [
    "{ x : x**2 for x in range(11)}"
   ]
  },
  {
   "cell_type": "code",
   "execution_count": 7,
   "metadata": {},
   "outputs": [
    {
     "data": {
      "text/plain": [
       "{1, 3, 5, 7, 9}"
      ]
     },
     "execution_count": 7,
     "metadata": {},
     "output_type": "execute_result"
    }
   ],
   "source": [
    "{ x for x in range(10) if x % 2 == 1}"
   ]
  },
  {
   "cell_type": "code",
   "execution_count": 8,
   "metadata": {
    "tags": []
   },
   "outputs": [
    {
     "name": "stdout",
     "output_type": "stream",
     "text": [
      "Got 0\n",
      "Got 1\n",
      "Got 2\n",
      "Got 3\n",
      "Got 4\n",
      "Got 5\n",
      "Got 6\n",
      "Got 7\n",
      "Got 8\n",
      "Got 9\n"
     ]
    }
   ],
   "source": [
    "gen = ('Got '+str(x) for x in range(10))\n",
    "for i in gen: \n",
    "    print(i)"
   ]
  },
  {
   "cell_type": "code",
   "execution_count": 9,
   "metadata": {
    "tags": []
   },
   "outputs": [
    {
     "name": "stdout",
     "output_type": "stream",
     "text": [
      "start\n",
      "134\n",
      "end\n"
     ]
    }
   ],
   "source": [
    "def test (func):\n",
    "    def inner():\n",
    "      print('start')\n",
    "      func()\n",
    "      print('end')\n",
    "    return inner\n",
    "\n",
    "@test\n",
    "def okok():\n",
    "    print('134')\n",
    "okok()"
   ]
  },
  {
   "cell_type": "code",
   "execution_count": 10,
   "metadata": {},
   "outputs": [
    {
     "data": {
      "text/plain": [
       "{'我': '是', '你': '好'}"
      ]
     },
     "execution_count": 10,
     "metadata": {},
     "output_type": "execute_result"
    }
   ],
   "source": [
    "a =['我','你']\n",
    "b =['是','好']\n",
    "dict(zip(a,b))"
   ]
  },
  {
   "cell_type": "code",
   "execution_count": 11,
   "metadata": {},
   "outputs": [
    {
     "data": {
      "text/plain": [
       "<__main__.Thing at 0x17511f410c8>"
      ]
     },
     "execution_count": 11,
     "metadata": {},
     "output_type": "execute_result"
    }
   ],
   "source": [
    "class Thing():\n",
    "    pass\n",
    "example = Thing()\n",
    "example"
   ]
  },
  {
   "cell_type": "code",
   "execution_count": 12,
   "metadata": {},
   "outputs": [
    {
     "data": {
      "text/plain": [
       "'abc'"
      ]
     },
     "execution_count": 12,
     "metadata": {},
     "output_type": "execute_result"
    }
   ],
   "source": [
    "class Thing2():\n",
    "    def __init__(self, letter):\n",
    "        self.letter = letter\n",
    "example = Thing2('abc')\n",
    "example.letter"
   ]
  },
  {
   "cell_type": "code",
   "execution_count": 13,
   "metadata": {},
   "outputs": [],
   "source": [
    "class Element():\n",
    "    def __init__(self, name, symbol, number):\n",
    "        self.name = name\n",
    "        self.symbol = symbol\n",
    "        self.number = number\n",
    "    def dump():\n",
    "        print(self.name)"
   ]
  },
  {
   "cell_type": "code",
   "execution_count": 14,
   "metadata": {
    "tags": []
   },
   "outputs": [
    {
     "name": "stdout",
     "output_type": "stream",
     "text": [
      "看啥\n"
     ]
    }
   ],
   "source": [
    "class Element():\n",
    "    def __init__(self, name, symbol, number):\n",
    "        self.name = name\n",
    "        self.symbol = symbol\n",
    "        self.number = number\n",
    "    def dump(self):\n",
    "        print('%s'%self.name)\n",
    "    def __str__(self):\n",
    "        return '看啥'\n",
    "Hdict = { 'name':'Hydrogen', 'symbol':'H', 'number':1 }\n",
    "H2 = Element(**Hdict)\n",
    "print(H2)"
   ]
  },
  {
   "cell_type": "code",
   "execution_count": 15,
   "metadata": {
    "tags": []
   },
   "outputs": [
    {
     "name": "stdout",
     "output_type": "stream",
     "text": [
      "I'm haha\n"
     ]
    }
   ],
   "source": [
    "class Element():\n",
    "    def __init__(self, inputName, symbol, number):\n",
    "        self.__hideName = inputName\n",
    "        self.symbol = symbol\n",
    "        self.number = number\n",
    "    @property\n",
    "    def name(self):\n",
    "        print(\"I'm\",self.__hideName)\n",
    "    @name.setter\n",
    "    def name(self,inputName):\n",
    "        self.__hideName = inputName\n",
    "Hdict = { 'inputName':'Hydrogen', 'symbol':'H', 'number':1 }\n",
    "H2 = Element(**Hdict)\n",
    "H2.name = 'haha'\n",
    "H2.name"
   ]
  },
  {
   "cell_type": "code",
   "execution_count": 16,
   "metadata": {},
   "outputs": [
    {
     "data": {
      "text/plain": [
       "'💩'"
      ]
     },
     "execution_count": 16,
     "metadata": {},
     "output_type": "execute_result"
    }
   ],
   "source": [
    "mystery = '\\U0001f4a9'\n",
    "mystery"
   ]
  },
  {
   "cell_type": "code",
   "execution_count": 17,
   "metadata": {},
   "outputs": [],
   "source": [
    "pop_bytes = mystery.encode('UTF-8')"
   ]
  },
  {
   "cell_type": "code",
   "execution_count": 18,
   "metadata": {},
   "outputs": [
    {
     "data": {
      "text/plain": [
       "b'\\xf0\\x9f\\x92\\xa9'"
      ]
     },
     "execution_count": 18,
     "metadata": {},
     "output_type": "execute_result"
    }
   ],
   "source": [
    "pop_bytes"
   ]
  },
  {
   "cell_type": "code",
   "execution_count": 19,
   "metadata": {},
   "outputs": [
    {
     "data": {
      "text/plain": [
       "'💩'"
      ]
     },
     "execution_count": 19,
     "metadata": {},
     "output_type": "execute_result"
    }
   ],
   "source": [
    "pop_bytes.decode('UTF-8')"
   ]
  },
  {
   "cell_type": "code",
   "execution_count": 20,
   "metadata": {},
   "outputs": [
    {
     "data": {
      "text/plain": [
       "'sfdP45'"
      ]
     },
     "execution_count": 20,
     "metadata": {},
     "output_type": "execute_result"
    }
   ],
   "source": [
    "s = 'sfdP{apple}'\n",
    "s.format(apple='45')"
   ]
  },
  {
   "cell_type": "code",
   "execution_count": 21,
   "metadata": {},
   "outputs": [
    {
     "data": {
      "text/plain": [
       "\"We have seen thee, queen of cheese,\\nLying quietly at your ease,\\nGently fanned by evening breeze,\\nThy fair form no flies dare seize.\\n\\nAll gaily dressed soon you'll go\\nTo the great Provincial show,\\nTo be admired by many a beau\\nIn the city of Toronto.\\n\\nCows numerous as a swarm of bees,\\nOr as the leaves upon the trees,\\nIt did require to make thee please,\\nAnd stand unrivalled, queen of cheese.\\n\\nMay you not receive a scar as\\nWe have heard that Mr. Harris\\nIntends to send you off as far as\\nThe great world's show at Paris.\\n\\nOf the youth beware of these,\\nFor some of them might rudely squeeze\\nAnd bite your cheek, then songs or glees\\nWe could not sing, oh! queen of cheese.\\n\\nWe'rt thou suspended from balloon,\\nYou'd cast a shade even at noon,\\nFolks would think it was the moon\\nAbout to fall and crush them soon.\""
      ]
     },
     "execution_count": 21,
     "metadata": {},
     "output_type": "execute_result"
    }
   ],
   "source": [
    "song = \"\"\"We have seen thee, queen of cheese,\n",
    "Lying quietly at your ease,\n",
    "Gently fanned by evening breeze,\n",
    "Thy fair form no flies dare seize.\n",
    "\n",
    "All gaily dressed soon you'll go\n",
    "To the great Provincial show,\n",
    "To be admired by many a beau\n",
    "In the city of Toronto.\n",
    "\n",
    "Cows numerous as a swarm of bees,\n",
    "Or as the leaves upon the trees,\n",
    "It did require to make thee please,\n",
    "And stand unrivalled, queen of cheese.\n",
    "\n",
    "May you not receive a scar as\n",
    "We have heard that Mr. Harris\n",
    "Intends to send you off as far as\n",
    "The great world's show at Paris.\n",
    "\n",
    "Of the youth beware of these,\n",
    "For some of them might rudely squeeze\n",
    "And bite your cheek, then songs or glees\n",
    "We could not sing, oh! queen of cheese.\n",
    "\n",
    "We'rt thou suspended from balloon,\n",
    "You'd cast a shade even at noon,\n",
    "Folks would think it was the moon\n",
    "About to fall and crush them soon.\"\"\"\n",
    "\n",
    "song"
   ]
  },
  {
   "cell_type": "code",
   "execution_count": 22,
   "metadata": {},
   "outputs": [
    {
     "data": {
      "text/plain": [
       "['cheese', 'city', 'cheese', 'cheek', 'could', 'cheese', 'cast', 'crush']"
      ]
     },
     "execution_count": 22,
     "metadata": {},
     "output_type": "execute_result"
    }
   ],
   "source": [
    "import re \n",
    "re.findall(r'\\bc\\w*\\b',song)"
   ]
  },
  {
   "cell_type": "code",
   "execution_count": 23,
   "metadata": {},
   "outputs": [
    {
     "data": {
      "text/plain": [
       "['city', 'cast']"
      ]
     },
     "execution_count": 23,
     "metadata": {},
     "output_type": "execute_result"
    }
   ],
   "source": [
    "re.findall(r'\\bc\\w{3}\\b',song)"
   ]
  },
  {
   "cell_type": "code",
   "execution_count": 1,
   "metadata": {},
   "outputs": [
    {
     "name": "stderr",
     "output_type": "stream",
     "text": [
      "100%|██████████| 1000/1000 [00:15<00:00, 64.38it/s]\n"
     ]
    }
   ],
   "source": [
    "import time\n",
    "from tqdm import tqdm\n",
    "for i in tqdm(range(1000)):\n",
    "    time.sleep(.01)"
   ]
  },
  {
   "cell_type": "code",
   "execution_count": 20,
   "metadata": {},
   "outputs": [
    {
     "name": "stdout",
     "output_type": "stream",
     "text": []
    }
   ],
   "source": [
    "print('status', flush=True, end='\\r')\n",
    "print('status', flush=True)"
   ]
  },
  {
   "cell_type": "code",
   "execution_count": 15,
   "metadata": {},
   "outputs": [
    {
     "name": "stdout",
     "output_type": "stream",
     "text": [
      " 9"
     ]
    }
   ],
   "source": [
    "    for idx in range(10):\n",
    "        print('\\r', idx, end='')"
   ]
  },
  {
   "cell_type": "code",
   "execution_count": 1,
   "metadata": {},
   "outputs": [
    {
     "name": "stdout",
     "output_type": "stream",
     "text": [
      "1\n",
      "2\n",
      "3\n",
      "4\n",
      "5\n",
      "6\n",
      "7\n",
      "8\n",
      "9\n"
     ]
    }
   ],
   "source": [
    "for i in range(1,10):\n",
    "    print(i)"
   ]
  },
  {
   "cell_type": "code",
   "execution_count": null,
   "metadata": {},
   "outputs": [],
   "source": [
    "print('centos')"
   ]
  }
 ],
 "metadata": {
  "kernelspec": {
   "display_name": "Python 3",
   "language": "python",
   "name": "python3"
  },
  "language_info": {
   "codemirror_mode": {
    "name": "ipython",
    "version": 3
   },
   "file_extension": ".py",
   "mimetype": "text/x-python",
   "name": "python",
   "nbconvert_exporter": "python",
   "pygments_lexer": "ipython3",
   "version": "3.8.8"
  },
  "orig_nbformat": 2
 },
 "nbformat": 4,
 "nbformat_minor": 2
}
