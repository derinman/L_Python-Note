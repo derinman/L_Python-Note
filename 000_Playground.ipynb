{
 "cells": [
  {
   "cell_type": "code",
   "execution_count": 2,
   "metadata": {},
   "outputs": [
    {
     "data": {
      "text/plain": [
       "20"
      ]
     },
     "execution_count": 2,
     "metadata": {},
     "output_type": "execute_result"
    }
   ],
   "source": [
    "import multiprocessing\n",
    "\n",
    "multiprocessing.cpu_count()"
   ]
  },
  {
   "cell_type": "code",
   "execution_count": 23,
   "metadata": {},
   "outputs": [
    {
     "name": "stdout",
     "output_type": "stream",
     "text": [
      "100\n"
     ]
    }
   ],
   "source": [
    "import threading\n",
    "\n",
    "n = 0\n",
    " \n",
    "def foo():\n",
    "    global n\n",
    "    n += 1\n",
    "\n",
    "threads = []\n",
    "for i in range(100):\n",
    "    t = threading.Thread(target=foo)\n",
    "    threads.append(t)\n",
    " \n",
    "for t in threads:\n",
    "    t.start()\n",
    " \n",
    "for t in threads:\n",
    "    t.join()\n",
    " \n",
    "print(n)"
   ]
  },
  {
   "cell_type": "markdown",
   "metadata": {},
   "source": [
    "https://blog.louie.lu/2017/05/19/%E6%B7%B1%E5%85%A5-gil-%E5%A6%82%E4%BD%95%E5%AF%AB%E5%87%BA%E5%BF%AB%E9%80%9F%E4%B8%94-thread-safe-%E7%9A%84-python-grok-the-gil-how-to-write-fast-and-thread-safe-python/\n",
    "\n",
    "https://www.geeksforgeeks.org/difference-between-multithreading-vs-multiprocessing-in-python/\n"
   ]
  },
  {
   "cell_type": "code",
   "execution_count": 1,
   "metadata": {},
   "outputs": [
    {
     "data": {
      "text/plain": [
       "False"
      ]
     },
     "execution_count": 1,
     "metadata": {},
     "output_type": "execute_result"
    }
   ],
   "source": [
    "import torch\n",
    "\n",
    "torch.cuda.is_available()"
   ]
  },
  {
   "cell_type": "code",
   "execution_count": 10,
   "metadata": {},
   "outputs": [
    {
     "name": "stderr",
     "output_type": "stream",
     "text": [
      "/tmp/ipykernel_6212/752062856.py:6: RuntimeWarning: Mean of empty slice\n",
      "  np.nanmean(l)\n"
     ]
    },
    {
     "data": {
      "text/plain": [
       "nan"
      ]
     },
     "execution_count": 10,
     "metadata": {},
     "output_type": "execute_result"
    }
   ],
   "source": [
    "import numpy as np\n",
    "\n",
    "l = [100, 200, 300, np.nan]\n",
    "l = [np.nan]\n",
    "\n",
    "np.nanmean(l)\n",
    "# np.nansum(l), np.nanmax(l), np.nanstd(l)"
   ]
  },
  {
   "cell_type": "code",
   "execution_count": 2,
   "metadata": {},
   "outputs": [
    {
     "name": "stdout",
     "output_type": "stream",
     "text": [
      "Name, Major:\n",
      "Alexandra, English\n",
      "Andrew, Math\n",
      "Anna, English\n",
      "Becky, Art\n",
      "Benjamin, English\n",
      "Carl, Art\n",
      "Carrie, English\n",
      "Dorothy, Math\n",
      "Dylan, Math\n",
      "Edward, English\n",
      "Ellen, Physics\n",
      "Fiona, Art\n",
      "John, Physics\n",
      "Jonathan, Math\n",
      "Joseph, English\n",
      "Josephine, Math\n",
      "Karen, English\n",
      "Kevin, Physics\n",
      "Lisa, Art\n",
      "Mary, Physics\n",
      "Maureen, Physics\n",
      "Nick, Art\n",
      "Olivia, Physics\n",
      "Pamela, Math\n",
      "Patrick, Art\n",
      "Robert, English\n",
      "Sean, Physics\n",
      "Stacy, Math\n",
      "Thomas, Art\n",
      "Will, Math\n"
     ]
    }
   ],
   "source": [
    "import os.path\n",
    "\n",
    "from google.auth.transport.requests import Request\n",
    "from google.oauth2.credentials import Credentials\n",
    "from google_auth_oauthlib.flow import InstalledAppFlow\n",
    "from googleapiclient.discovery import build\n",
    "from googleapiclient.errors import HttpError\n",
    "\n",
    "# If modifying these scopes, delete the file token.json.\n",
    "SCOPES = [\"https://www.googleapis.com/auth/spreadsheets.readonly\"]\n",
    "\n",
    "# The ID and range of a sample spreadsheet.\n",
    "SAMPLE_SPREADSHEET_ID = \"1BxiMVs0XRA5nFMdKvBdBZjgmUUqptlbs74OgvE2upms\"\n",
    "SAMPLE_RANGE_NAME = \"Class Data!A2:E\"\n",
    "\n",
    "\n",
    "def main():\n",
    "  \"\"\"Shows basic usage of the Sheets API.\n",
    "  Prints values from a sample spreadsheet.\n",
    "  \"\"\"\n",
    "  creds = None\n",
    "  # The file token.json stores the user's access and refresh tokens, and is\n",
    "  # created automatically when the authorization flow completes for the first\n",
    "  # time.\n",
    "  if os.path.exists(\"token.json\"):\n",
    "    creds = Credentials.from_authorized_user_file(\"token.json\", SCOPES)\n",
    "  # If there are no (valid) credentials available, let the user log in.\n",
    "  if not creds or not creds.valid:\n",
    "    if creds and creds.expired and creds.refresh_token:\n",
    "      creds.refresh(Request())\n",
    "    else:\n",
    "      flow = InstalledAppFlow.from_client_secrets_file(\n",
    "          \"credentials.json\", SCOPES\n",
    "      )\n",
    "      creds = flow.run_local_server(port=0)\n",
    "    # Save the credentials for the next run\n",
    "    with open(\"token.json\", \"w\") as token:\n",
    "      token.write(creds.to_json())\n",
    "\n",
    "  try:\n",
    "    service = build(\"sheets\", \"v4\", credentials=creds)\n",
    "\n",
    "    # Call the Sheets API\n",
    "    sheet = service.spreadsheets()\n",
    "    result = (\n",
    "        sheet.values()\n",
    "        .get(spreadsheetId=SAMPLE_SPREADSHEET_ID, range=SAMPLE_RANGE_NAME)\n",
    "        .execute()\n",
    "    )\n",
    "    values = result.get(\"values\", [])\n",
    "\n",
    "    if not values:\n",
    "      print(\"No data found.\")\n",
    "      return\n",
    "\n",
    "    print(\"Name, Major:\")\n",
    "    for row in values:\n",
    "      # Print columns A and E, which correspond to indices 0 and 4.\n",
    "      print(f\"{row[0]}, {row[4]}\")\n",
    "  except HttpError as err:\n",
    "    print(err)\n",
    "\n",
    "\n",
    "if __name__ == \"__main__\":\n",
    "  main()"
   ]
  }
 ],
 "metadata": {
  "interpreter": {
   "hash": "a25fe9fa6c27b95901d0edd5181fe5544d24e241def55442d39b65c508d23c47"
  },
  "kernelspec": {
   "display_name": "Python 3.9.7 ('base')",
   "language": "python",
   "name": "python3"
  },
  "language_info": {
   "codemirror_mode": {
    "name": "ipython",
    "version": 3
   },
   "file_extension": ".py",
   "mimetype": "text/x-python",
   "name": "python",
   "nbconvert_exporter": "python",
   "pygments_lexer": "ipython3",
   "version": "3.11.4"
  },
  "orig_nbformat": 2
 },
 "nbformat": 4,
 "nbformat_minor": 2
}
