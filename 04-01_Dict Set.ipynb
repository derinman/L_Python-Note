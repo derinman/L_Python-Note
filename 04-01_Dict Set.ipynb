{
 "cells": [
  {
   "cell_type": "code",
   "execution_count": null,
   "metadata": {},
   "outputs": [],
   "source": [
    "#dict與set的底層是以雜湊表實作的，他很快，代價是記憶體，是以空間換取時間的設計"
   ]
  },
  {
   "cell_type": "code",
   "execution_count": null,
   "metadata": {},
   "outputs": [],
   "source": [
    "#dict的key必須要可以雜湊化(1.可hash()2.可__eq__) 值不用"
   ]
  },
  {
   "cell_type": "code",
   "execution_count": 1,
   "metadata": {},
   "outputs": [],
   "source": [
    "#搜尋某dict內key的value 先將key雜湊(hash)然後參考 000_Dict Hash.jpg"
   ]
  },
  {
   "cell_type": "code",
   "execution_count": 2,
   "metadata": {},
   "outputs": [],
   "source": [
    "#dict加入新項目可能會更動到雜湊表，所以dict順序會以我們無法預測的方式變動"
   ]
  },
  {
   "cell_type": "code",
   "execution_count": 9,
   "metadata": {},
   "outputs": [
    {
     "data": {
      "text/plain": [
       "(True, True, True)"
      ]
     },
     "execution_count": 9,
     "metadata": {},
     "output_type": "execute_result"
    }
   ],
   "source": [
    "#各種製作字典方法\n",
    "\n",
    "a = {'a': 'apple', 'b':'banana'}\n",
    "b = dict( [('a','apple'),('b','banana')] )\n",
    "c = dict(a = 'apple',b = 'banana')\n",
    "d = dict(zip(['a','b'],['apple','banana']))\n",
    "\n",
    "a == b ,b == c, c == d"
   ]
  },
  {
   "cell_type": "code",
   "execution_count": 2,
   "metadata": {
    "tags": []
   },
   "outputs": [
    {
     "name": "stdout",
     "output_type": "stream",
     "text": [
      "{'id': 'inman', 'age': '23', 'gender': 'girl'} {'id': 'inman', 'age': '23'} {'id': 'inman', 'age': '23', 'gender': 'male'} {'id': 'inman', 'age': '23', 'gender': 'girl'}\n"
     ]
    }
   ],
   "source": [
    "#update()\n",
    "\n",
    "a = {'id':'inman', 'age':'23'}\n",
    "b = dict(a)\n",
    "c = {'gender':'male'}\n",
    "a.update(c)\n",
    "d = dict(a)\n",
    "e = {'id':'inman', 'age':'23','gender':'girl'}\n",
    "a.update(e)\n",
    "f = dict(a)\n",
    "\n",
    "print(a, b, d, f)"
   ]
  },
  {
   "cell_type": "code",
   "execution_count": 4,
   "metadata": {},
   "outputs": [
    {
     "data": {
      "text/plain": [
       "{}"
      ]
     },
     "execution_count": 4,
     "metadata": {},
     "output_type": "execute_result"
    }
   ],
   "source": [
    "#clear()\n",
    "\n",
    "a = {'a': 'apple', 'b':'banana'}\n",
    "a.clear()\n",
    "a"
   ]
  },
  {
   "cell_type": "code",
   "execution_count": 6,
   "metadata": {},
   "outputs": [
    {
     "data": {
      "text/plain": [
       "'banana'"
      ]
     },
     "execution_count": 6,
     "metadata": {},
     "output_type": "execute_result"
    }
   ],
   "source": [
    "#get()\n",
    "\n",
    "a = {'a': 'apple', 'b':'banana'}\n",
    "a.get('b')"
   ]
  },
  {
   "cell_type": "code",
   "execution_count": 8,
   "metadata": {},
   "outputs": [
    {
     "data": {
      "text/plain": [
       "'沒c的話'"
      ]
     },
     "execution_count": 8,
     "metadata": {},
     "output_type": "execute_result"
    }
   ],
   "source": [
    "a = {'a': 'apple', 'b':'banana'}\n",
    "a.get('c','沒c的話')"
   ]
  },
  {
   "cell_type": "code",
   "execution_count": 3,
   "metadata": {},
   "outputs": [
    {
     "data": {
      "text/plain": [
       "dict_keys(['a', 'b'])"
      ]
     },
     "execution_count": 3,
     "metadata": {},
     "output_type": "execute_result"
    }
   ],
   "source": [
    "a = {'a': 'apple', 'b':'banana'}\r\n",
    "a.keys()"
   ]
  },
  {
   "cell_type": "code",
   "execution_count": 11,
   "metadata": {},
   "outputs": [
    {
     "data": {
      "text/plain": [
       "dict_values(['apple', 'banana'])"
      ]
     },
     "execution_count": 11,
     "metadata": {},
     "output_type": "execute_result"
    }
   ],
   "source": [
    "a = {'a': 'apple', 'b':'banana'}\n",
    "a.values()"
   ]
  },
  {
   "cell_type": "code",
   "execution_count": 13,
   "metadata": {},
   "outputs": [
    {
     "data": {
      "text/plain": [
       "dict_items([('a', 'apple'), ('b', 'banana')])"
      ]
     },
     "execution_count": 13,
     "metadata": {},
     "output_type": "execute_result"
    }
   ],
   "source": [
    "a = {'a': 'apple', 'b':'banana'}\n",
    "a.items()"
   ]
  },
  {
   "cell_type": "code",
   "execution_count": 15,
   "metadata": {
    "tags": []
   },
   "outputs": [
    {
     "name": "stdout",
     "output_type": "stream",
     "text": [
      "{'a': 'apple', 'b': 'banana', 'c': 'cookie'} {'a': 'apple', 'b': 'banana', 'c': 'cookie'} {'a': 'apple', 'b': 'banana'}\n"
     ]
    }
   ],
   "source": [
    "a = {'a': 'apple', 'b':'banana'}\n",
    "b = a\n",
    "c = a.copy()\n",
    "a['c']='cookie'\n",
    "print(a, b, c)"
   ]
  },
  {
   "cell_type": "code",
   "execution_count": 17,
   "metadata": {},
   "outputs": [
    {
     "data": {
      "text/plain": [
       "({'a': 'apple', 'b': 'banana', 'c': 'cindy'},\n",
       " {'a': 'apple', 'b': 'banana', 'c': 'cindy'})"
      ]
     },
     "execution_count": 17,
     "metadata": {},
     "output_type": "execute_result"
    }
   ],
   "source": [
    "a = {'a': 'apple', 'b':'banana'}\n",
    "a.setdefault('c','cindy')\n",
    "b = a\n",
    "a.setdefault('a','amazon')#已經存在的鍵就無效\n",
    "c = a\n",
    "b, c"
   ]
  },
  {
   "cell_type": "code",
   "execution_count": 1,
   "metadata": {},
   "outputs": [
    {
     "data": {
      "text/plain": [
       "defaultdict(str, {'a': 'apple', 'b': ''})"
      ]
     },
     "execution_count": 1,
     "metadata": {},
     "output_type": "execute_result"
    }
   ],
   "source": [
    "#defaultdict\n",
    "\n",
    "from collections import defaultdict\n",
    "a = defaultdict(str)#預設為空字串\n",
    "a['a']='apple'\n",
    "a['b']\n",
    "a"
   ]
  },
  {
   "cell_type": "code",
   "execution_count": 2,
   "metadata": {},
   "outputs": [
    {
     "data": {
      "text/plain": [
       "defaultdict(int, {'a': 2, 'b': 0})"
      ]
     },
     "execution_count": 2,
     "metadata": {},
     "output_type": "execute_result"
    }
   ],
   "source": [
    "from collections import defaultdict\n",
    "a = defaultdict(int)#預設為整數0\n",
    "a['a']=2\n",
    "a['b']\n",
    "a"
   ]
  },
  {
   "cell_type": "code",
   "execution_count": 22,
   "metadata": {},
   "outputs": [
    {
     "data": {
      "text/plain": [
       "defaultdict(list, {'a': [], 'b': [], 'c': ['123', '456']})"
      ]
     },
     "execution_count": 22,
     "metadata": {},
     "output_type": "execute_result"
    }
   ],
   "source": [
    "from collections import defaultdict\n",
    "a = defaultdict(list)#預設為[]\n",
    "a['a']\n",
    "a['b']\n",
    "a['c'].append('123')\n",
    "a['c'].append('456')\n",
    "a"
   ]
  },
  {
   "cell_type": "code",
   "execution_count": 23,
   "metadata": {},
   "outputs": [
    {
     "data": {
      "text/plain": [
       "defaultdict(int, {'apple': 1, 'egg': 2, 'banana': 1})"
      ]
     },
     "execution_count": 23,
     "metadata": {},
     "output_type": "execute_result"
    }
   ],
   "source": [
    "#用defaultdict製作簡易計數器\n",
    "from collections import defaultdict\n",
    "a = defaultdict(int)\n",
    "l = ['apple','egg','egg','banana']\n",
    "for i in l:\n",
    "    a[i] += 1\n",
    "a"
   ]
  },
  {
   "cell_type": "code",
   "execution_count": 6,
   "metadata": {},
   "outputs": [
    {
     "data": {
      "text/plain": [
       "OrderedDict([('a', 'apple'),\n",
       "             ('b', 'banana'),\n",
       "             ('c', 'can'),\n",
       "             ('d', 'dog'),\n",
       "             ('e', 'egg')])"
      ]
     },
     "execution_count": 6,
     "metadata": {},
     "output_type": "execute_result"
    }
   ],
   "source": [
    "#OrderedDict\n",
    "\n",
    "from collections import OrderedDict\n",
    "orderDict = OrderedDict({'a':'apple','b':'banana','c':'can','d':\"dog\",'e':'egg'})\n",
    "orderDict"
   ]
  },
  {
   "cell_type": "code",
   "execution_count": 4,
   "metadata": {},
   "outputs": [
    {
     "data": {
      "text/plain": [
       "ChainMap({'art': 'van gogh', 'opera': 'carmen'}, {'music': 'bach', 'art': 'rembrandt'})"
      ]
     },
     "execution_count": 4,
     "metadata": {},
     "output_type": "execute_result"
    }
   ],
   "source": [
    "#ChainMap\n",
    "\n",
    "from collections import ChainMap\n",
    "baseline = {'music': 'bach', 'art': 'rembrandt'}\n",
    "adjustments = {'art': 'van gogh', 'opera': 'carmen'}\n",
    "ChainMap(adjustments, baseline)"
   ]
  },
  {
   "cell_type": "code",
   "execution_count": 25,
   "metadata": {},
   "outputs": [
    {
     "data": {
      "text/plain": [
       "(Counter({'apple': 1, 'egg': 3, 'banana': 2}),\n",
       " Counter({'apple': 2, 'egg': 3, 'banana': 2}))"
      ]
     },
     "execution_count": 25,
     "metadata": {},
     "output_type": "execute_result"
    }
   ],
   "source": [
    "#Counter\n",
    "\n",
    "from collections import Counter\n",
    "l = ['apple','egg','egg','egg','banana','banana']\n",
    "ct = Counter(l)\n",
    "old = ct.copy()\n",
    "ct.update(['apple'])\n",
    "old, ct"
   ]
  },
  {
   "cell_type": "code",
   "execution_count": 29,
   "metadata": {},
   "outputs": [
    {
     "data": {
      "text/plain": [
       "([('egg', 3), ('banana', 2)], [('egg', 3)])"
      ]
     },
     "execution_count": 29,
     "metadata": {},
     "output_type": "execute_result"
    }
   ],
   "source": [
    "from collections import Counter\n",
    "l = ['apple','egg','egg','egg','banana','banana']\n",
    "foodCounter = Counter(l)\n",
    "foodCounter.most_common(2), foodCounter.most_common(1)"
   ]
  },
  {
   "cell_type": "code",
   "execution_count": 1,
   "metadata": {
    "tags": []
   },
   "outputs": [
    {
     "name": "stdout",
     "output_type": "stream",
     "text": [
      "add Counter({'egg': 5, 'banana': 3, 'apple': 2}) \n",
      " diff Counter({'egg': 1, 'banana': 1}) \n",
      " union Counter({'egg': 3, 'banana': 2, 'apple': 1}) \n",
      " intersect Counter({'egg': 2, 'apple': 1, 'banana': 1})\n"
     ]
    }
   ],
   "source": [
    "from collections import Counter\n",
    "l1 = ['apple','egg','egg','egg','banana','banana']\n",
    "l2 = ['apple','banana','egg','egg']\n",
    "l1Counter = Counter(l1)\n",
    "l2Counter = Counter(l2)\n",
    "addCounter =  l1Counter + l2Counter\n",
    "diffCounter = l1Counter - l2Counter\n",
    "unionCounter = l1Counter | l2Counter\n",
    "intersectCounter = l1Counter & l2Counter\n",
    "print('add',addCounter,'\\n', 'diff', diffCounter,'\\n','union',unionCounter,'\\n','intersect',intersectCounter)"
   ]
  },
  {
   "cell_type": "code",
   "execution_count": 5,
   "metadata": {},
   "outputs": [],
   "source": [
    "#MappingProxyType\n",
    "#建立無法變更的字典(映射)\n",
    "from types import MappingProxyType\n",
    "d = {1:'A'}\n",
    "d_proxy = MappingProxyType(d)\n",
    "#d_proxy[1]='B' #fail"
   ]
  },
  {
   "cell_type": "code",
   "execution_count": 33,
   "metadata": {},
   "outputs": [
    {
     "data": {
      "text/plain": [
       "([10, 9, 8], [1, 1, 2])"
      ]
     },
     "execution_count": 33,
     "metadata": {},
     "output_type": "execute_result"
    }
   ],
   "source": [
    "import heapq\n",
    "import random\n",
    "nums = [ random.randint(1, 10) for i in range(1,10) ]\n",
    "heapq.nlargest(3, nums), heapq.nsmallest(3, nums)"
   ]
  },
  {
   "cell_type": "code",
   "execution_count": 35,
   "metadata": {},
   "outputs": [],
   "source": [
    "#製作空字典與空集合\n",
    "\n",
    "empty_dict1 = {} #這是空字典，不是空集合\n",
    "empty_dict2 = dict()\n",
    "empty_set = set()"
   ]
  },
  {
   "cell_type": "code",
   "execution_count": null,
   "metadata": {},
   "outputs": [],
   "source": [
    "#set底層也是用雜湊表實作，像是只有key沒有value的Dict"
   ]
  },
  {
   "cell_type": "code",
   "execution_count": 3,
   "metadata": {},
   "outputs": [
    {
     "data": {
      "text/plain": [
       "{'a', 'e', 'l', 'p'}"
      ]
     },
     "execution_count": 3,
     "metadata": {},
     "output_type": "execute_result"
    }
   ],
   "source": [
    "l = ['a', 'p', 'p', 'l', 'e']\n",
    "set(l)"
   ]
  },
  {
   "cell_type": "code",
   "execution_count": 38,
   "metadata": {
    "tags": []
   },
   "outputs": [
    {
     "name": "stdout",
     "output_type": "stream",
     "text": [
      "intersection:  {'誰', '我'} difference: {'誰'} union:  {'你', '我', '他', '誰'}\n"
     ]
    }
   ],
   "source": [
    "ch1 = {'我', '你', '他'}\n",
    "ch2 = {'我', '是', '誰'}\n",
    "ch3 = {'你', '好', '嗎'}\n",
    "ch4 = {'你', '誰', '我'}\n",
    "\n",
    "print('intersection: ',ch2 & ch4,'difference:', ch4 - ch1, 'union: ', ch1 | ch4 )"
   ]
  },
  {
   "cell_type": "code",
   "execution_count": 40,
   "metadata": {
    "tags": []
   },
   "outputs": [
    {
     "name": "stdout",
     "output_type": "stream",
     "text": [
      "ch1\n"
     ]
    }
   ],
   "source": [
    "chs ={\n",
    "'ch1' : {'我', '你', '他'},\n",
    "'ch2' : {'我', '是', '誰'},\n",
    "'ch3' : {'你', '好', '嗎'},\n",
    "'ch4' : {'你', '誰', '我'},\n",
    "}\n",
    "\n",
    "for key, value in chs.items():\n",
    "    if '我' in value and not value & {'誰', '隨便'}:\n",
    "        print (key)"
   ]
  }
 ],
 "metadata": {
  "kernelspec": {
   "display_name": "Python 3",
   "name": "python3"
  },
  "language_info": {
   "codemirror_mode": {
    "name": "ipython",
    "version": 3
   },
   "file_extension": ".py",
   "mimetype": "text/x-python",
   "name": "python",
   "nbconvert_exporter": "python",
   "pygments_lexer": "ipython3",
   "version": "3.7.4-final"
  },
  "orig_nbformat": 2
 },
 "nbformat": 4,
 "nbformat_minor": 2
}