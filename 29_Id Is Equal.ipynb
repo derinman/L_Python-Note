{
 "metadata": {
  "language_info": {
   "codemirror_mode": {
    "name": "ipython",
    "version": 3
   },
   "file_extension": ".py",
   "mimetype": "text/x-python",
   "name": "python",
   "nbconvert_exporter": "python",
   "pygments_lexer": "ipython3",
   "version": "3.7.4-final"
  },
  "orig_nbformat": 2,
  "kernelspec": {
   "name": "Python 3.7.4 64-bit ('base': conda)",
   "display_name": "Python 3.7.4 64-bit ('base': conda)",
   "metadata": {
    "interpreter": {
     "hash": "b3ba2566441a7c06988d0923437866b63cedc61552a5af99d1f4fb67d367b25f"
    }
   }
  }
 },
 "nbformat": 4,
 "nbformat_minor": 2,
 "cells": [
  {
   "cell_type": "code",
   "execution_count": 7,
   "metadata": {},
   "outputs": [
    {
     "output_type": "execute_result",
     "data": {
      "text/plain": "(True, True, False, True)"
     },
     "metadata": {},
     "execution_count": 7
    }
   ],
   "source": [
    "#變數只是標籤\n",
    "#物件的id被建立之後，就不會改變了，\n",
    "#或許可以將id想成是記憶體位置\n",
    "# ==會比較值，is會比較id\n",
    "# is 比 == 還快，因為不用多載\n",
    "\n",
    "a = {'id':'inman','height':175}\n",
    "c = {'id':'inman','height':175}\n",
    "b = a\n",
    "a is b, a == b, a is c, a==c"
   ]
  },
  {
   "cell_type": "code",
   "execution_count": 1,
   "metadata": {},
   "outputs": [
    {
     "output_type": "execute_result",
     "data": {
      "text/plain": "(True, True)"
     },
     "metadata": {},
     "execution_count": 1
    }
   ],
   "source": [
    "#某些物件是單例singleton\n",
    "#例如None\n",
    "\n",
    "a = None\n",
    "b = None\n",
    "a is b ,a == b"
   ]
  },
  {
   "cell_type": "code",
   "execution_count": 1,
   "metadata": {},
   "outputs": [
    {
     "output_type": "execute_result",
     "data": {
      "text/plain": "(True, True)"
     },
     "metadata": {},
     "execution_count": 1
    }
   ],
   "source": [
    "#tuple的[:]與tuple()不會創造新的物件\n",
    "t1 = (1,2,3)\n",
    "t2 = t1[:]\n",
    "t3 = tuple(t1)\n",
    "\n",
    "t1 is t2, t1 is t3"
   ]
  },
  {
   "cell_type": "code",
   "execution_count": 4,
   "metadata": {},
   "outputs": [
    {
     "output_type": "execute_result",
     "data": {
      "text/plain": "False"
     },
     "metadata": {},
     "execution_count": 4
    }
   ],
   "source": [
    "t4 = (1,2,3)\n",
    "t5 = (1,2,3)\n",
    "t4 is t5"
   ]
  },
  {
   "cell_type": "code",
   "execution_count": 5,
   "metadata": {},
   "outputs": [
    {
     "output_type": "execute_result",
     "data": {
      "text/plain": "True"
     },
     "metadata": {},
     "execution_count": 5
    }
   ],
   "source": [
    "s1 = 'ABC'\n",
    "s2 = 'ABC'\n",
    "s1 is s2"
   ]
  }
 ]
}