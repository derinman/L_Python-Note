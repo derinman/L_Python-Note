{
 "cells": [
  {
   "cell_type": "code",
   "execution_count": 2,
   "metadata": {},
   "outputs": [
    {
     "data": {
      "text/plain": [
       "'1.16.5'"
      ]
     },
     "execution_count": 2,
     "metadata": {},
     "output_type": "execute_result"
    }
   ],
   "source": [
    "import numpy as np\r\n",
    "import math\r\n",
    "import random\r\n",
    "np.__version__"
   ]
  },
  {
   "cell_type": "code",
   "execution_count": null,
   "metadata": {},
   "outputs": [],
   "source": [
    "#對於小規模操作，Python有可能較快，而對於大規模（向量）操作，numpy的速度要快得多\r\n",
    "# ms 毫秒 Millisecond 1 毫秒=10-3秒\r\n",
    "# μs 微秒 Microsecond 1 微秒=10-6秒\r\n",
    "# ns 奈秒 Nanosecond  1 奈秒=10-9秒"
   ]
  },
  {
   "cell_type": "code",
   "execution_count": 6,
   "metadata": {},
   "outputs": [
    {
     "name": "stdout",
     "output_type": "stream",
     "text": [
      "88 ns ± 0.176 ns per loop (mean ± std. dev. of 7 runs, 10000000 loops each)\n",
      "618 ns ± 0.719 ns per loop (mean ± std. dev. of 7 runs, 1000000 loops each)\n"
     ]
    }
   ],
   "source": [
    "#小規模\r\n",
    "%timeit math.log(10)\r\n",
    "%timeit np.log(10)"
   ]
  },
  {
   "cell_type": "code",
   "execution_count": 7,
   "metadata": {},
   "outputs": [
    {
     "name": "stdout",
     "output_type": "stream",
     "text": [
      "102 ns ± 0.305 ns per loop (mean ± std. dev. of 7 runs, 10000000 loops each)\n",
      "619 ns ± 1.12 ns per loop (mean ± std. dev. of 7 runs, 1000000 loops each)\n"
     ]
    }
   ],
   "source": [
    "#小規模\r\n",
    "%timeit math.exp(3)\r\n",
    "%timeit np.exp(3)"
   ]
  },
  {
   "cell_type": "code",
   "execution_count": 12,
   "metadata": {},
   "outputs": [
    {
     "name": "stdout",
     "output_type": "stream",
     "text": [
      "207 µs ± 2.07 µs per loop (mean ± std. dev. of 7 runs, 1000 loops each)\n",
      "20.7 µs ± 121 ns per loop (mean ± std. dev. of 7 runs, 10000 loops each)\n"
     ]
    }
   ],
   "source": [
    "#大規模\r\n",
    "ndArr = np.arange(10000)\r\n",
    "%timeit random.choices(ndArr, k=1000)\r\n",
    "%timeit np.random.choice(ndArr, size=1000)"
   ]
  },
  {
   "cell_type": "code",
   "execution_count": 14,
   "metadata": {},
   "outputs": [
    {
     "data": {
      "text/plain": [
       "array([0.16666667, 1.        , 0.25      , 0.25      , 0.125     ])"
      ]
     },
     "execution_count": 14,
     "metadata": {},
     "output_type": "execute_result"
    }
   ],
   "source": [
    "#倒數\r\n",
    "import numpy as np\r\n",
    "np.random.seed(0)\r\n",
    "\r\n",
    "def compute_reciprocals(values):\r\n",
    "    output = np.empty(len(values))\r\n",
    "    for i in range(len(values)):\r\n",
    "        output[i] = 1.0 / values[i]\r\n",
    "    return output\r\n",
    "        \r\n",
    "values = np.random.randint(1, 10, size=5)\r\n",
    "compute_reciprocals(values)"
   ]
  },
  {
   "cell_type": "code",
   "execution_count": 21,
   "metadata": {},
   "outputs": [
    {
     "name": "stdout",
     "output_type": "stream",
     "text": [
      "134 ms ± 183 µs per loop (mean ± std. dev. of 7 runs, 10 loops each)\n",
      "89.4 µs ± 134 ns per loop (mean ± std. dev. of 7 runs, 10000 loops each)\n"
     ]
    }
   ],
   "source": [
    "#大規模\r\n",
    "ndArr1 = np.arange(1,100000)\r\n",
    "\r\n",
    "%timeit compute_reciprocals(ndArr1)\r\n",
    "%timeit 1/ndArr1"
   ]
  },
  {
   "cell_type": "code",
   "execution_count": null,
   "metadata": {},
   "outputs": [],
   "source": [
    "#memory layout\r\n",
    "#col base or row base"
   ]
  },
  {
   "cell_type": "code",
   "execution_count": 4,
   "metadata": {},
   "outputs": [
    {
     "data": {
      "text/plain": [
       "array([[ 0.93790931,  0.21015479,  0.76634021, -0.11887548,  0.70471803],\n",
       "       [ 1.51363038, -0.7214616 ,  0.87545863, -1.47554463,  0.75732038],\n",
       "       [-0.25870138,  1.21145058, -0.88658604,  1.39496184, -0.05357512],\n",
       "       ...,\n",
       "       [ 1.12929347,  0.46455709,  1.10791216, -1.27231747,  0.79592319],\n",
       "       [ 0.19637552, -1.15006139,  1.36197123,  0.46406391,  0.95218531],\n",
       "       [-1.03175106,  1.23203783,  0.81261087,  0.21256863,  0.41029248]])"
      ]
     },
     "execution_count": 4,
     "metadata": {},
     "output_type": "execute_result"
    }
   ],
   "source": [
    "x = np.random.standard_normal((1000000, 5))  \r\n",
    "x"
   ]
  },
  {
   "cell_type": "code",
   "execution_count": 5,
   "metadata": {},
   "outputs": [
    {
     "data": {
      "text/plain": [
       "array([[4.87581862, 3.42030958, 4.53268042, 2.76224904, 4.40943606],\n",
       "       [6.02726077, 1.55707679, 4.75091725, 0.04891074, 4.51464076],\n",
       "       [2.48259724, 5.42290116, 1.22682793, 5.78992369, 2.89284977],\n",
       "       ...,\n",
       "       [5.25858694, 3.92911419, 5.21582433, 0.45536505, 4.59184637],\n",
       "       [3.39275104, 0.69987721, 5.72394246, 3.92812782, 4.90437061],\n",
       "       [0.93649788, 5.46407566, 4.62522174, 3.42513726, 3.82058496]])"
      ]
     },
     "execution_count": 5,
     "metadata": {},
     "output_type": "execute_result"
    }
   ],
   "source": [
    "y = 2 * x + 3\r\n",
    "y  "
   ]
  },
  {
   "cell_type": "code",
   "execution_count": 7,
   "metadata": {},
   "outputs": [],
   "source": [
    "C = np.array((x, y), order='C')  \r\n",
    "F = np.array((x, y), order='F') "
   ]
  },
  {
   "cell_type": "code",
   "execution_count": 9,
   "metadata": {},
   "outputs": [
    {
     "name": "stdout",
     "output_type": "stream",
     "text": [
      "10.3 ms ± 65 µs per loop (mean ± std. dev. of 7 runs, 100 loops each)\n",
      "10.3 ms ± 89.1 µs per loop (mean ± std. dev. of 7 runs, 100 loops each)\n"
     ]
    }
   ],
   "source": [
    "%timeit C.sum()  \r\n",
    "%timeit F.sum()  "
   ]
  },
  {
   "cell_type": "code",
   "execution_count": 10,
   "metadata": {},
   "outputs": [
    {
     "name": "stdout",
     "output_type": "stream",
     "text": [
      "16.2 ms ± 384 µs per loop (mean ± std. dev. of 7 runs, 100 loops each)\n",
      "51.3 ms ± 675 µs per loop (mean ± std. dev. of 7 runs, 10 loops each)\n"
     ]
    }
   ],
   "source": [
    "%timeit C.sum(axis=0)  \r\n",
    "%timeit F.sum(axis=0)  "
   ]
  },
  {
   "cell_type": "code",
   "execution_count": 11,
   "metadata": {},
   "outputs": [
    {
     "name": "stdout",
     "output_type": "stream",
     "text": [
      "22.8 ms ± 120 µs per loop (mean ± std. dev. of 7 runs, 10 loops each)\n",
      "46.5 ms ± 611 µs per loop (mean ± std. dev. of 7 runs, 10 loops each)\n"
     ]
    }
   ],
   "source": [
    "%timeit C.sum(axis=1) \r\n",
    "%timeit F.sum(axis=1)  "
   ]
  }
 ],
 "metadata": {
  "interpreter": {
   "hash": "b3ba2566441a7c06988d0923437866b63cedc61552a5af99d1f4fb67d367b25f"
  },
  "kernelspec": {
   "display_name": "Python 3.7.4 64-bit ('base': conda)",
   "name": "python3"
  },
  "language_info": {
   "codemirror_mode": {
    "name": "ipython",
    "version": 3
   },
   "file_extension": ".py",
   "mimetype": "text/x-python",
   "name": "python",
   "nbconvert_exporter": "python",
   "pygments_lexer": "ipython3",
   "version": "3.7.4"
  },
  "orig_nbformat": 4
 },
 "nbformat": 4,
 "nbformat_minor": 2
}