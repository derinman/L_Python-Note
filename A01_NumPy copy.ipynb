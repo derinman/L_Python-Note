{
 "metadata": {
  "language_info": {
   "codemirror_mode": {
    "name": "ipython",
    "version": 3
   },
   "file_extension": ".py",
   "mimetype": "text/x-python",
   "name": "python",
   "nbconvert_exporter": "python",
   "pygments_lexer": "ipython3",
   "version": "3.7.4-final"
  },
  "orig_nbformat": 2,
  "kernelspec": {
   "name": "python3",
   "display_name": "Python 3"
  }
 },
 "nbformat": 4,
 "nbformat_minor": 2,
 "cells": [
  {
   "cell_type": "code",
   "execution_count": 4,
   "metadata": {},
   "outputs": [
    {
     "output_type": "execute_result",
     "data": {
      "text/plain": "'1.16.5'"
     },
     "metadata": {},
     "execution_count": 4
    }
   ],
   "source": [
    "import numpy\n",
    "numpy.__version__"
   ]
  },
  {
   "cell_type": "code",
   "execution_count": 2,
   "metadata": {},
   "outputs": [],
   "source": [
    "import numpy as np"
   ]
  },
  {
   "cell_type": "code",
   "execution_count": 9,
   "metadata": {},
   "outputs": [
    {
     "output_type": "execute_result",
     "data": {
      "text/plain": "array([1, 5, 3])"
     },
     "metadata": {},
     "execution_count": 9
    }
   ],
   "source": [
    "np.array([1, 5, 3])"
   ]
  },
  {
   "cell_type": "code",
   "execution_count": 11,
   "metadata": {},
   "outputs": [
    {
     "output_type": "execute_result",
     "data": {
      "text/plain": "array([3.24, 3.  , 5.  ])"
     },
     "metadata": {},
     "execution_count": 11
    }
   ],
   "source": [
    "np.array([3.24, 3, 5])#自動轉成同型態"
   ]
  },
  {
   "cell_type": "code",
   "execution_count": 13,
   "metadata": {},
   "outputs": [
    {
     "output_type": "execute_result",
     "data": {
      "text/plain": "array(['cat', '3'], dtype='<U3')"
     },
     "metadata": {},
     "execution_count": 13
    }
   ],
   "source": [
    "np.array(['cat',3])"
   ]
  },
  {
   "cell_type": "code",
   "execution_count": 19,
   "metadata": {},
   "outputs": [
    {
     "output_type": "execute_result",
     "data": {
      "text/plain": "array(['3', '5'], dtype='<U1')"
     },
     "metadata": {},
     "execution_count": 19
    }
   ],
   "source": [
    "np.array([3, 5],dtype=str)"
   ]
  },
  {
   "cell_type": "code",
   "execution_count": 43,
   "metadata": {},
   "outputs": [
    {
     "output_type": "execute_result",
     "data": {
      "text/plain": "array([[3, 2],\n       [3, 5],\n       [7, 6]])"
     },
     "metadata": {},
     "execution_count": 43
    }
   ],
   "source": [
    "np.array([(3, 2),(3, 5),(7, 6)])#多維"
   ]
  },
  {
   "cell_type": "code",
   "execution_count": 22,
   "metadata": {},
   "outputs": [
    {
     "output_type": "execute_result",
     "data": {
      "text/plain": "array([0, 0, 0, 0, 0, 0, 0, 0, 0, 0])"
     },
     "metadata": {},
     "execution_count": 22
    }
   ],
   "source": [
    "np.zeros(10, dtype = int)"
   ]
  },
  {
   "cell_type": "code",
   "execution_count": 24,
   "metadata": {},
   "outputs": [
    {
     "output_type": "execute_result",
     "data": {
      "text/plain": "array(['', '', '', '', '', '', '', '', '', ''], dtype='<U1')"
     },
     "metadata": {},
     "execution_count": 24
    }
   ],
   "source": [
    "np.zeros(10,dtype=str)"
   ]
  },
  {
   "cell_type": "code",
   "execution_count": 28,
   "metadata": {},
   "outputs": [
    {
     "output_type": "execute_result",
     "data": {
      "text/plain": "array([[1., 1., 1., 1., 1.],\n       [1., 1., 1., 1., 1.]])"
     },
     "metadata": {},
     "execution_count": 28
    }
   ],
   "source": [
    "np.ones((2,5),dtype=float)"
   ]
  },
  {
   "cell_type": "code",
   "execution_count": 11,
   "metadata": {},
   "outputs": [
    {
     "output_type": "execute_result",
     "data": {
      "text/plain": "array([[3.2, 3.2, 3.2, 3.2, 3.2],\n       [3.2, 3.2, 3.2, 3.2, 3.2]])"
     },
     "metadata": {},
     "execution_count": 11
    }
   ],
   "source": [
    "np.full((2, 5), 3.2)"
   ]
  },
  {
   "cell_type": "code",
   "execution_count": 46,
   "metadata": {},
   "outputs": [
    {
     "output_type": "execute_result",
     "data": {
      "text/plain": "array([[[3.2, 3.2, 3.2],\n        [3.2, 3.2, 3.2],\n        [3.2, 3.2, 3.2],\n        [3.2, 3.2, 3.2],\n        [3.2, 3.2, 3.2]],\n\n       [[3.2, 3.2, 3.2],\n        [3.2, 3.2, 3.2],\n        [3.2, 3.2, 3.2],\n        [3.2, 3.2, 3.2],\n        [3.2, 3.2, 3.2]]])"
     },
     "metadata": {},
     "execution_count": 46
    }
   ],
   "source": [
    "np.full((2,5,3),3.2)"
   ]
  },
  {
   "cell_type": "code",
   "execution_count": 2,
   "metadata": {},
   "outputs": [
    {
     "output_type": "execute_result",
     "data": {
      "text/plain": "array([ 2,  5,  8, 11, 14, 17])"
     },
     "metadata": {},
     "execution_count": 2
    }
   ],
   "source": [
    "np.arange(2, 20, 3)"
   ]
  },
  {
   "cell_type": "code",
   "execution_count": 4,
   "metadata": {},
   "outputs": [
    {
     "output_type": "execute_result",
     "data": {
      "text/plain": "array([[0.44378915, 0.14472199, 0.31672113, 0.27456506, 0.55364216],\n       [0.40877563, 0.34134866, 0.30603692, 0.07280939, 0.84478437]])"
     },
     "metadata": {},
     "execution_count": 4
    }
   ],
   "source": [
    "np.random.random((2, 5)) #uniform"
   ]
  },
  {
   "cell_type": "code",
   "execution_count": 5,
   "metadata": {},
   "outputs": [
    {
     "output_type": "execute_result",
     "data": {
      "text/plain": "array([[ 1.80248422, -1.24115579, -0.65776034,  0.72301025,  1.09410326],\n       [-1.6150139 ,  1.11626806, -1.37602427, -1.2575822 ,  0.32588485]])"
     },
     "metadata": {},
     "execution_count": 5
    }
   ],
   "source": [
    "np.random.normal(0,1,(2,5)) #normal distribution mean 0 std 1  "
   ]
  },
  {
   "cell_type": "code",
   "execution_count": 10,
   "metadata": {},
   "outputs": [
    {
     "output_type": "execute_result",
     "data": {
      "text/plain": "array([[59, 90, 96, 26,  7],\n       [40, 51, 18, 82, 58]])"
     },
     "metadata": {},
     "execution_count": 10
    }
   ],
   "source": [
    "np.random.randint(0,100,(2,5))"
   ]
  },
  {
   "cell_type": "code",
   "execution_count": 12,
   "metadata": {},
   "outputs": [
    {
     "output_type": "execute_result",
     "data": {
      "text/plain": "array([[4., 0., 0.],\n       [0., 4., 0.],\n       [0., 0., 4.]])"
     },
     "metadata": {},
     "execution_count": 12
    }
   ],
   "source": [
    "np.eye(3)*4 #單位矩陣"
   ]
  },
  {
   "cell_type": "code",
   "execution_count": 8,
   "metadata": {},
   "outputs": [
    {
     "output_type": "execute_result",
     "data": {
      "text/plain": "(3, (2, 5, 3), 30, dtype('int32'), 4, 120)"
     },
     "metadata": {},
     "execution_count": 8
    }
   ],
   "source": [
    "a = np.random.randint(10,size=(2,5,3))\n",
    "a.ndim, a.shape, a.size, a.dtype, a.itemsize, a.nbytes\n",
    "#itemsize(byte), nbytes(byte)\n",
    "# in general, itemsize * size = nbytes"
   ]
  },
  {
   "cell_type": "code",
   "execution_count": 13,
   "metadata": {},
   "outputs": [
    {
     "output_type": "execute_result",
     "data": {
      "text/plain": "array([[12,  5,  2,  4],\n       [ 7,  6,  8,  8],\n       [ 1,  6,  7,  7]])"
     },
     "metadata": {},
     "execution_count": 13
    }
   ],
   "source": [
    "#slice\n",
    "x = np.array([(12, 5, 2, 4), (7, 6, 8, 8), (1, 6, 7, 7)])\n",
    "x"
   ]
  },
  {
   "cell_type": "code",
   "execution_count": 15,
   "metadata": {},
   "outputs": [
    {
     "output_type": "execute_result",
     "data": {
      "text/plain": "array([[6, 8, 8],\n       [6, 7, 7]])"
     },
     "metadata": {},
     "execution_count": 15
    }
   ],
   "source": [
    "x[1:,1:] #row col"
   ]
  },
  {
   "cell_type": "code",
   "execution_count": 18,
   "metadata": {},
   "outputs": [
    {
     "output_type": "execute_result",
     "data": {
      "text/plain": "array([8, 7])"
     },
     "metadata": {},
     "execution_count": 18
    }
   ],
   "source": [
    "x[1:,2]"
   ]
  },
  {
   "cell_type": "code",
   "execution_count": 20,
   "metadata": {},
   "outputs": [
    {
     "output_type": "execute_result",
     "data": {
      "text/plain": "array([[ 7,  7,  6,  1],\n       [ 8,  8,  6,  7],\n       [ 4,  2,  5, 12]])"
     },
     "metadata": {},
     "execution_count": 20
    }
   ],
   "source": [
    "x[::-1,::-1]"
   ]
  },
  {
   "cell_type": "code",
   "execution_count": 22,
   "metadata": {},
   "outputs": [
    {
     "output_type": "execute_result",
     "data": {
      "text/plain": "array([5, 6, 6])"
     },
     "metadata": {},
     "execution_count": 22
    }
   ],
   "source": [
    "x[:,1] #單取col成array"
   ]
  },
  {
   "cell_type": "code",
   "execution_count": 24,
   "metadata": {},
   "outputs": [
    {
     "output_type": "execute_result",
     "data": {
      "text/plain": "array([1, 6, 7, 7])"
     },
     "metadata": {},
     "execution_count": 24
    }
   ],
   "source": [
    "x[2,:] #單取row成array"
   ]
  },
  {
   "cell_type": "code",
   "execution_count": 25,
   "metadata": {},
   "outputs": [],
   "source": [
    "#np的slice是參考，跟python原本list的slice是複製不一樣\n",
    "#np slice出來得參考會影響到原本的np array\n",
    "#要建立np array的複本要用 .copy()"
   ]
  },
  {
   "cell_type": "code",
   "execution_count": 7,
   "metadata": {},
   "outputs": [
    {
     "output_type": "execute_result",
     "data": {
      "text/plain": "array([[0, 1, 2, 3, 4],\n       [5, 6, 7, 8, 9]])"
     },
     "metadata": {},
     "execution_count": 7
    }
   ],
   "source": [
    "#reshape\n",
    "np.arange(10).reshape(2,5)"
   ]
  },
  {
   "cell_type": "code",
   "execution_count": 26,
   "metadata": {},
   "outputs": [],
   "source": [
    "#相同維度的串接\n",
    "x1 = np.array([1, 2, 3])\n",
    "y1 = np.array([4, 5, 6])"
   ]
  },
  {
   "cell_type": "code",
   "execution_count": 29,
   "metadata": {},
   "outputs": [
    {
     "output_type": "execute_result",
     "data": {
      "text/plain": "array([1, 2, 3, 4, 5, 6])"
     },
     "metadata": {},
     "execution_count": 29
    }
   ],
   "source": [
    "np.concatenate([x1,y1])"
   ]
  },
  {
   "cell_type": "code",
   "execution_count": 48,
   "metadata": {},
   "outputs": [],
   "source": [
    "#不同維度的串接\n",
    "x2 = np.array([(3, 2),(3, 5),(7, 6)])\n",
    "y2 = np.array([(5, 0)])\n",
    "z2 = np.array([[1], [3], [6]])"
   ]
  },
  {
   "cell_type": "code",
   "execution_count": 53,
   "metadata": {},
   "outputs": [
    {
     "output_type": "execute_result",
     "data": {
      "text/plain": "array([[3, 2],\n       [3, 5],\n       [7, 6]])"
     },
     "metadata": {},
     "execution_count": 53
    }
   ],
   "source": [
    "x2"
   ]
  },
  {
   "cell_type": "code",
   "execution_count": 55,
   "metadata": {},
   "outputs": [
    {
     "output_type": "execute_result",
     "data": {
      "text/plain": "array([[5, 0]])"
     },
     "metadata": {},
     "execution_count": 55
    }
   ],
   "source": [
    "y2"
   ]
  },
  {
   "cell_type": "code",
   "execution_count": 56,
   "metadata": {},
   "outputs": [
    {
     "output_type": "execute_result",
     "data": {
      "text/plain": "array([[1],\n       [3],\n       [6]])"
     },
     "metadata": {},
     "execution_count": 56
    }
   ],
   "source": [
    "z2"
   ]
  },
  {
   "cell_type": "code",
   "execution_count": 40,
   "metadata": {},
   "outputs": [
    {
     "output_type": "execute_result",
     "data": {
      "text/plain": "array([[3, 2],\n       [3, 5],\n       [7, 6],\n       [5, 0]])"
     },
     "metadata": {},
     "execution_count": 40
    }
   ],
   "source": [
    "np.vstack( [x2, y2] )"
   ]
  },
  {
   "cell_type": "code",
   "execution_count": 57,
   "metadata": {},
   "outputs": [
    {
     "output_type": "execute_result",
     "data": {
      "text/plain": "array([[3, 2, 1],\n       [3, 5, 3],\n       [7, 6, 6]])"
     },
     "metadata": {},
     "execution_count": 57
    }
   ],
   "source": [
    "np.hstack( [x2, z2] )"
   ]
  },
  {
   "cell_type": "code",
   "execution_count": 63,
   "metadata": {},
   "outputs": [
    {
     "output_type": "execute_result",
     "data": {
      "text/plain": "(array([2, 5]), array([6, 7, 3]), array([6, 3, 6]))"
     },
     "metadata": {},
     "execution_count": 63
    }
   ],
   "source": [
    "a, b, c = np.split(np.array((2,5,6,7,3,6,3,6)), [2,5]  )\n",
    "a, b, c"
   ]
  },
  {
   "cell_type": "code",
   "execution_count": 68,
   "metadata": {},
   "outputs": [
    {
     "output_type": "execute_result",
     "data": {
      "text/plain": "(array([[0, 1, 2, 3],\n        [4, 5, 6, 7]]), array([[ 8,  9, 10, 11],\n        [12, 13, 14, 15]]))"
     },
     "metadata": {},
     "execution_count": 68
    }
   ],
   "source": [
    "a, b = np.vsplit( np.arange(16).reshape([4,4]), [2] )\n",
    "a, b"
   ]
  },
  {
   "cell_type": "code",
   "execution_count": 72,
   "metadata": {},
   "outputs": [
    {
     "output_type": "execute_result",
     "data": {
      "text/plain": "(array([[ 0,  1],\n        [ 4,  5],\n        [ 8,  9],\n        [12, 13]]), array([[ 2,  3],\n        [ 6,  7],\n        [10, 11],\n        [14, 15]]))"
     },
     "metadata": {},
     "execution_count": 72
    }
   ],
   "source": [
    "c, d = np.hsplit( np.arange(16).reshape([4,4]), [2] )\n",
    "c, d"
   ]
  },
  {
   "cell_type": "code",
   "execution_count": 3,
   "metadata": {},
   "outputs": [],
   "source": [
    "#np的向量化計算 比python自己的迭代快很多\n",
    "np.random.seed(0)\n",
    "\n",
    "def reciprocals( vals ):\n",
    "    result = np.empty(len(vals))\n",
    "    for i in range(len(vals)):\n",
    "        result[i] = 1/vals[i]\n",
    "    return result"
   ]
  },
  {
   "cell_type": "code",
   "execution_count": 4,
   "metadata": {
    "tags": []
   },
   "outputs": [
    {
     "output_type": "stream",
     "name": "stdout",
     "text": "208 ms ± 1.62 ms per loop (mean ± std. dev. of 7 runs, 1 loop each)\n"
    }
   ],
   "source": [
    "%timeit reciprocals(np.random.randint(1,100,size=1000000)) #slow"
   ]
  },
  {
   "cell_type": "code",
   "execution_count": 5,
   "metadata": {
    "tags": []
   },
   "outputs": [
    {
     "output_type": "stream",
     "name": "stdout",
     "text": "13.7 ms ± 60.9 µs per loop (mean ± std. dev. of 7 runs, 100 loops each)\n"
    }
   ],
   "source": [
    "%timeit (1/np.random.randint(1,10,size=1000000)) #fast"
   ]
  }
 ]
}