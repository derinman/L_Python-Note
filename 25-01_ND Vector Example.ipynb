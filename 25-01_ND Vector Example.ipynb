{
 "metadata": {
  "language_info": {
   "codemirror_mode": {
    "name": "ipython",
    "version": 3
   },
   "file_extension": ".py",
   "mimetype": "text/x-python",
   "name": "python",
   "nbconvert_exporter": "python",
   "pygments_lexer": "ipython3",
   "version": "3.7.4-final"
  },
  "orig_nbformat": 2,
  "kernelspec": {
   "name": "Python 3.7.4 64-bit ('base': conda)",
   "display_name": "Python 3.7.4 64-bit ('base': conda)",
   "metadata": {
    "interpreter": {
     "hash": "b3ba2566441a7c06988d0923437866b63cedc61552a5af99d1f4fb67d367b25f"
    }
   }
  }
 },
 "nbformat": 4,
 "nbformat_minor": 2,
 "cells": [
  {
   "cell_type": "code",
   "execution_count": 41,
   "source": [
    "#協定(protocal)，因為實作了__len__以及\r\n",
    "#__getitem__符合序列(squence)的協定\r\n",
    "#所以此Vector是序列\r\n",
    "\r\n",
    "from array import array\r\n",
    "import reprlib\r\n",
    "import math\r\n",
    "import numbers\r\n",
    "import functools\r\n",
    "import operator\r\n",
    "import itertools\r\n",
    "\r\n",
    "class Vector:\r\n",
    "    \r\n",
    "    typecode = 'd'\r\n",
    "\r\n",
    "    def __init__(self, components):\r\n",
    "        self._components = array(self.typecode, components)\r\n",
    "\r\n",
    "    def __iter__(self):\r\n",
    "        return iter(self._components) \r\n",
    "\r\n",
    "    def __repr__(self):\r\n",
    "        components = reprlib.repr(self._components) #超過六個省略\r\n",
    "        components = components[components.find('['):-1]  #切除不必要字元\r\n",
    "        return 'Vector({})'.format(components)\r\n",
    "\r\n",
    "    def __str__(self):\r\n",
    "        return str(tuple(self))\r\n",
    "\r\n",
    "    def __bytes__(self):\r\n",
    "        return (bytes([ord(self.typecode)]) +\r\n",
    "                bytes(self._components))  \r\n",
    "\r\n",
    "    def __eq__(self, other):\r\n",
    "        return tuple(self) == tuple(other)\r\n",
    "\r\n",
    "    def __hash__(self):\r\n",
    "        hashes = (hash(x) for x in self) #產生器表達式\r\n",
    "        return functools.reduce(operator.xor, hashes, 0)\r\n",
    "\r\n",
    "    def __abs__(self):\r\n",
    "        return math.sqrt(sum(x * x for x in self)) \r\n",
    "\r\n",
    "    def __bool__(self):\r\n",
    "        return bool(abs(self))\r\n",
    "\r\n",
    "    #One of Sequence Protocol\r\n",
    "    def __len__(self):\r\n",
    "        return len(self._components)\r\n",
    "    #One of Sequence Protocol\r\n",
    "    def __getitem__(self, index):\r\n",
    "        cls = type(self) \r\n",
    "        if isinstance(index, slice): #如果index是個slice ex.v[1:3]\r\n",
    "            return cls(self._components[index]) #回傳新的Vector物件\r\n",
    "        elif isinstance(index, numbers.Integral): #如果index是個int ex.v[3]\r\n",
    "            return self._components[index]  #回傳特定項目\r\n",
    "        else:\r\n",
    "            msg = '{cls.__name__} indices must be integers'\r\n",
    "            raise TypeError(msg.format(cls=cls)) \r\n",
    "\r\n",
    "    #設計__getattr__\r\n",
    "    shortcut_names = 'xyzt'\r\n",
    "    def __getattr__(self, name):\r\n",
    "        cls = type(self)  \r\n",
    "        if len(name) == 1:  \r\n",
    "            pos = cls.shortcut_names.find(name) \r\n",
    "            if 0 <= pos < len(self._components):  \r\n",
    "                return self._components[pos]\r\n",
    "        msg = '{.__name__!r} object has no attribute {!r}'  \r\n",
    "        raise AttributeError(msg.format(cls, name))\r\n",
    "\r\n",
    "    #設計__setattr__，避免__getattr__的不一致性\r\n",
    "    def __setattr__(self, name, value):\r\n",
    "        cls = type(self)\r\n",
    "        if len(name) == 1: \r\n",
    "            if name in cls.shortcut_names:  \r\n",
    "                error = 'readonly attribute {attr_name!r}'\r\n",
    "            elif name.islower():  \r\n",
    "                error = \"can't set attributes 'a' to 'z' in {cls_name!r}\"\r\n",
    "            else:\r\n",
    "                error = ''  \r\n",
    "            if error: \r\n",
    "                msg = error.format(cls_name=cls.__name__, attr_name=name)\r\n",
    "                raise AttributeError(msg)\r\n",
    "        super().__setattr__(name, value) \r\n",
    "\r\n",
    "    def angle(self, n):\r\n",
    "        r = math.sqrt(sum(x * x for x in self[n:]))\r\n",
    "        a = math.atan2(r, self[n-1])\r\n",
    "        if (n == len(self) - 1) and (self[-1] < 0):\r\n",
    "            return math.pi * 2 - a\r\n",
    "        else:\r\n",
    "            return a\r\n",
    "\r\n",
    "    def angles(self):\r\n",
    "        return (self.angle(n) for n in range(1, len(self)))\r\n",
    "\r\n",
    "    def __format__(self, fmt_spec=''):\r\n",
    "        if fmt_spec.endswith('h'):  # hyperspherical coordinates\r\n",
    "            fmt_spec = fmt_spec[:-1]\r\n",
    "            coords = itertools.chain([abs(self)],self.angles())\r\n",
    "            outer_fmt = '<{}>'\r\n",
    "        else:\r\n",
    "            coords = self\r\n",
    "            outer_fmt = '({})'\r\n",
    "        components = (format(c, fmt_spec) for c in coords)\r\n",
    "        return outer_fmt.format(', '.join(components))\r\n",
    "\r\n",
    "    def __add__(self, other):\r\n",
    "        try:\r\n",
    "            pairs = itertools.zip_longest(self, other, fillvalue=0.0)\r\n",
    "            return Vector(a + b for a, b in pairs)\r\n",
    "        except TypeError:\r\n",
    "            return NotImplemented\r\n",
    "\r\n",
    "    def __radd__(self, other):\r\n",
    "        return self + other\r\n",
    "\r\n",
    "    def __mul__(self, scalar):\r\n",
    "        if isinstance(scalar, numbers.Real):\r\n",
    "            return Vector(n * scalar for n in self)\r\n",
    "        else:\r\n",
    "            return NotImplemented\r\n",
    "\r\n",
    "    def __rmul__(self, scalar):\r\n",
    "        return self * scalar\r\n",
    "    \r\n",
    "    #內積\r\n",
    "    def __matmul__(self, other):\r\n",
    "        try:\r\n",
    "            return sum(a * b for a, b in zip(self, other))\r\n",
    "        except TypeError:\r\n",
    "            return NotImplemented\r\n",
    "\r\n",
    "    def __rmatmul__(self, other):\r\n",
    "        return self @ other  # this only works in Python 3.5\r\n",
    "\r\n",
    "    @classmethod\r\n",
    "    def frombytes(cls, octets):\r\n",
    "        typecode = chr(octets[0])\r\n",
    "        memv = memoryview(octets[1:]).cast(typecode)\r\n",
    "        return cls(memv) "
   ],
   "outputs": [],
   "metadata": {}
  },
  {
   "cell_type": "code",
   "execution_count": 4,
   "source": [
    "#__repr__\r\n",
    "Vector([3.1, 4.2]), Vector((3, 4, 5)), Vector(range(10))\r\n",
    "#超過6個用...表示，因為reprlib"
   ],
   "outputs": [
    {
     "output_type": "execute_result",
     "data": {
      "text/plain": [
       "(Vector([3.1, 4.2]),\n",
       " Vector([3.0, 4.0, 5.0]),\n",
       " Vector([0.0, 1.0, 2.0, 3.0, 4.0, ...]))"
      ]
     },
     "metadata": {},
     "execution_count": 4
    }
   ],
   "metadata": {}
  },
  {
   "cell_type": "code",
   "execution_count": 5,
   "source": [
    "#__iter__\r\n",
    "v1 = Vector([3, 4, 5])\r\n",
    "x, y, z = v1\r\n",
    "x, y, z"
   ],
   "outputs": [
    {
     "output_type": "execute_result",
     "data": {
      "text/plain": [
       "(3.0, 4.0, 5.0)"
      ]
     },
     "metadata": {},
     "execution_count": 5
    }
   ],
   "metadata": {}
  },
  {
   "cell_type": "code",
   "execution_count": 6,
   "source": [
    "#__str__\r\n",
    "v2 = Vector([3, 4, 5])\r\n",
    "print(v2)"
   ],
   "outputs": [
    {
     "output_type": "stream",
     "name": "stdout",
     "text": [
      "(3.0, 4.0, 5.0)\n"
     ]
    }
   ],
   "metadata": {}
  },
  {
   "cell_type": "code",
   "execution_count": 7,
   "source": [
    "#__bool__\r\n",
    "bool(Vector([3, 0, 0])), bool(Vector([0, 0, 0]))"
   ],
   "outputs": [
    {
     "output_type": "execute_result",
     "data": {
      "text/plain": [
       "(True, False)"
      ]
     },
     "metadata": {},
     "execution_count": 7
    }
   ],
   "metadata": {}
  },
  {
   "cell_type": "code",
   "execution_count": 8,
   "source": [
    "# __getititem__\r\n",
    "v3 = Vector(range(7))\r\n",
    "v3[2:7:2], v3[4]"
   ],
   "outputs": [
    {
     "output_type": "execute_result",
     "data": {
      "text/plain": [
       "(Vector([2.0, 4.0, 6.0]), 4.0)"
      ]
     },
     "metadata": {},
     "execution_count": 8
    }
   ],
   "metadata": {}
  },
  {
   "cell_type": "code",
   "execution_count": 27,
   "source": [
    "#__getattr__\r\n",
    "v4 = Vector(range(1,11,2))\r\n",
    "v4.x, v4.y, v4.z, v4.t, v4[4]"
   ],
   "outputs": [
    {
     "output_type": "execute_result",
     "data": {
      "text/plain": [
       "(1.0, 3.0, 5.0, 7.0, 9.0)"
      ]
     },
     "metadata": {},
     "execution_count": 27
    }
   ],
   "metadata": {}
  },
  {
   "cell_type": "code",
   "execution_count": 31,
   "source": [
    "#__hash__\r\n",
    "hash(Vector([1,2,3,4])),hash(Vector([1.1,2,3,4]))"
   ],
   "outputs": [
    {
     "output_type": "execute_result",
     "data": {
      "text/plain": [
       "(4, 230584300921369604)"
      ]
     },
     "metadata": {},
     "execution_count": 31
    }
   ],
   "metadata": {}
  },
  {
   "cell_type": "code",
   "execution_count": 34,
   "source": [
    "#__format__\r\n",
    "v4 = Vector([3, 4, 5])\r\n",
    "format(v4)"
   ],
   "outputs": [
    {
     "output_type": "execute_result",
     "data": {
      "text/plain": [
       "'(3.0, 4.0, 5.0)'"
      ]
     },
     "metadata": {},
     "execution_count": 34
    }
   ],
   "metadata": {}
  },
  {
   "cell_type": "code",
   "execution_count": 37,
   "source": [
    "#__format__\r\n",
    "v5 = Vector([3, 4, 5])\r\n",
    "format(v5, 'h')"
   ],
   "outputs": [
    {
     "output_type": "execute_result",
     "data": {
      "text/plain": [
       "'<7.0710678118654755, 1.1326472962107264, 0.8960553845713439>'"
      ]
     },
     "metadata": {},
     "execution_count": 37
    }
   ],
   "metadata": {}
  },
  {
   "cell_type": "code",
   "execution_count": 38,
   "source": [
    "#__format__\r\n",
    "v6 = Vector([3, 4, 5])\r\n",
    "format(v6, '0.5fh')"
   ],
   "outputs": [
    {
     "output_type": "execute_result",
     "data": {
      "text/plain": [
       "'<7.07107, 1.13265, 0.89606>'"
      ]
     },
     "metadata": {},
     "execution_count": 38
    }
   ],
   "metadata": {}
  },
  {
   "cell_type": "code",
   "execution_count": 47,
   "source": [
    "#算數overload\r\n",
    "a = Vector([3, 4, 5])\r\n",
    "b = Vector([6, 7, 8])\r\n",
    "c = Vector([1, 2])\r\n",
    "\r\n",
    "a + b, a*2 , a + c , a@b"
   ],
   "outputs": [
    {
     "output_type": "execute_result",
     "data": {
      "text/plain": [
       "(Vector([9.0, 11.0, 13.0]),\n",
       " Vector([6.0, 8.0, 10.0]),\n",
       " Vector([4.0, 6.0, 5.0]),\n",
       " 86.0)"
      ]
     },
     "metadata": {},
     "execution_count": 47
    }
   ],
   "metadata": {}
  }
 ]
}