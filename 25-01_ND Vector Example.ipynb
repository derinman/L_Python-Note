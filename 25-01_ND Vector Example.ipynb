{
 "metadata": {
  "language_info": {
   "codemirror_mode": {
    "name": "ipython",
    "version": 3
   },
   "file_extension": ".py",
   "mimetype": "text/x-python",
   "name": "python",
   "nbconvert_exporter": "python",
   "pygments_lexer": "ipython3",
   "version": "3.7.4-final"
  },
  "orig_nbformat": 2,
  "kernelspec": {
   "name": "Python 3.7.4 64-bit ('base': conda)",
   "display_name": "Python 3.7.4 64-bit ('base': conda)",
   "metadata": {
    "interpreter": {
     "hash": "b3ba2566441a7c06988d0923437866b63cedc61552a5af99d1f4fb67d367b25f"
    }
   }
  }
 },
 "nbformat": 4,
 "nbformat_minor": 2,
 "cells": [
  {
   "cell_type": "code",
   "execution_count": 5,
   "source": [
    "#協定(protocal)，因為實作了__len__以及\r\n",
    "#__getitem__符合序列(squence)的協定\r\n",
    "#所以此Vector是序列\r\n",
    "\r\n",
    "from array import array\r\n",
    "import reprlib\r\n",
    "import math\r\n",
    "import numbers\r\n",
    "\r\n",
    "class Vector:\r\n",
    "    \r\n",
    "    typecode = 'd'\r\n",
    "\r\n",
    "    def __init__(self, components):\r\n",
    "        self._components = array(self.typecode, components)\r\n",
    "\r\n",
    "    def __iter__(self):\r\n",
    "        return iter(self._components) \r\n",
    "\r\n",
    "    def __repr__(self):\r\n",
    "        components = reprlib.repr(self._components) #超過六個省略\r\n",
    "        components = components[components.find('['):-1]  #切除不必要字元\r\n",
    "        return 'Vector({})'.format(components)\r\n",
    "\r\n",
    "    def __str__(self):\r\n",
    "        return str(tuple(self))\r\n",
    "\r\n",
    "    def __bytes__(self):\r\n",
    "        return (bytes([ord(self.typecode)]) +\r\n",
    "                bytes(self._components))  \r\n",
    "\r\n",
    "    def __eq__(self, other):\r\n",
    "        return tuple(self) == tuple(other)\r\n",
    "\r\n",
    "    def __abs__(self):\r\n",
    "        return math.sqrt(sum(x * x for x in self)) \r\n",
    "\r\n",
    "    def __bool__(self):\r\n",
    "        return bool(abs(self))\r\n",
    "\r\n",
    "    #One of Sequence Protocol\r\n",
    "    def __len__(self):\r\n",
    "        return len(self._components)\r\n",
    "    #One of Sequence Protocol\r\n",
    "    def __getitem__(self, index):\r\n",
    "        cls = type(self) \r\n",
    "        if isinstance(index, slice): #如果index是個slice ex.v[1:3]\r\n",
    "            return cls(self._components[index]) #回傳新的Vector物件\r\n",
    "        elif isinstance(index, numbers.Integral): #如果index是個int ex.v[3]\r\n",
    "            return self._components[index]  #回傳特定項目\r\n",
    "        else:\r\n",
    "            msg = '{cls.__name__} indices must be integers'\r\n",
    "            raise TypeError(msg.format(cls=cls)) \r\n",
    "\r\n",
    "    @classmethod\r\n",
    "    def frombytes(cls, octets):\r\n",
    "        typecode = chr(octets[0])\r\n",
    "        memv = memoryview(octets[1:]).cast(typecode)\r\n",
    "        return cls(memv)  "
   ],
   "outputs": [],
   "metadata": {}
  },
  {
   "cell_type": "code",
   "execution_count": 6,
   "source": [
    "#__repr__\r\n",
    "Vector([3.1, 4.2]), Vector((3, 4, 5)), Vector(range(10))\r\n",
    "#超過6個用...表示，因為reprlib"
   ],
   "outputs": [
    {
     "output_type": "execute_result",
     "data": {
      "text/plain": [
       "(Vector([3.1, 4.2]),\n",
       " Vector([3.0, 4.0, 5.0]),\n",
       " Vector([0.0, 1.0, 2.0, 3.0, 4.0, ...]))"
      ]
     },
     "metadata": {},
     "execution_count": 6
    }
   ],
   "metadata": {}
  },
  {
   "cell_type": "code",
   "execution_count": 8,
   "source": [
    "#__iter__\r\n",
    "v1 = Vector([3, 4, 5])\r\n",
    "x, y, z = v1\r\n",
    "x, y, z"
   ],
   "outputs": [
    {
     "output_type": "execute_result",
     "data": {
      "text/plain": [
       "(3.0, 4.0, 5.0)"
      ]
     },
     "metadata": {},
     "execution_count": 8
    }
   ],
   "metadata": {}
  },
  {
   "cell_type": "code",
   "execution_count": 3,
   "source": [
    "#__str__\r\n",
    "v2 = Vector([3, 4, 5])\r\n",
    "print(v2)"
   ],
   "outputs": [
    {
     "output_type": "stream",
     "name": "stdout",
     "text": [
      "(3.0, 4.0, 5.0)\n"
     ]
    }
   ],
   "metadata": {}
  },
  {
   "cell_type": "code",
   "execution_count": 4,
   "source": [
    "#__bool__\r\n",
    "bool(Vector([3, 0, 0])), bool(Vector([0, 0, 0]))"
   ],
   "outputs": [
    {
     "output_type": "execute_result",
     "data": {
      "text/plain": [
       "(True, False)"
      ]
     },
     "metadata": {},
     "execution_count": 4
    }
   ],
   "metadata": {}
  },
  {
   "cell_type": "code",
   "execution_count": null,
   "source": [
    "# __getititem__\r\n",
    "v3 = Vector(range(7))\r\n",
    "v3[2:7:2], v3[4]"
   ],
   "outputs": [],
   "metadata": {}
  }
 ]
}