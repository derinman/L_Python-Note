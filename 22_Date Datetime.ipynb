{
 "metadata": {
  "language_info": {
   "codemirror_mode": {
    "name": "ipython",
    "version": 3
   },
   "file_extension": ".py",
   "mimetype": "text/x-python",
   "name": "python",
   "nbconvert_exporter": "python",
   "pygments_lexer": "ipython3",
   "version": "3.7.4-final"
  },
  "orig_nbformat": 2,
  "kernelspec": {
   "name": "python3",
   "display_name": "Python 3.7.4 64-bit (conda)",
   "metadata": {
    "interpreter": {
     "hash": "b3ba2566441a7c06988d0923437866b63cedc61552a5af99d1f4fb67d367b25f"
    }
   }
  }
 },
 "nbformat": 4,
 "nbformat_minor": 2,
 "cells": [
  {
   "cell_type": "code",
   "execution_count": null,
   "metadata": {},
   "outputs": [],
   "source": [
    "#datetime模組"
   ]
  },
  {
   "cell_type": "code",
   "execution_count": 2,
   "metadata": {},
   "outputs": [],
   "source": [
    "from datetime import date"
   ]
  },
  {
   "cell_type": "code",
   "execution_count": 3,
   "metadata": {},
   "outputs": [
    {
     "output_type": "execute_result",
     "data": {
      "text/plain": [
       "(datetime.date(2020, 10, 31), 31, 10, 2020)"
      ]
     },
     "metadata": {},
     "execution_count": 3
    }
   ],
   "source": [
    "halloween = date(2020, 10 , 31)\n",
    "halloween, halloween.day, halloween.month, halloween.year"
   ]
  },
  {
   "cell_type": "code",
   "execution_count": 4,
   "metadata": {},
   "outputs": [
    {
     "output_type": "execute_result",
     "data": {
      "text/plain": [
       "datetime.date(1992, 12, 31)"
      ]
     },
     "metadata": {},
     "execution_count": 4
    }
   ],
   "source": [
    "myBirth = date(1992, 12, 31)\n",
    "myBirth"
   ]
  },
  {
   "cell_type": "code",
   "execution_count": 16,
   "metadata": {},
   "outputs": [
    {
     "output_type": "execute_result",
     "data": {
      "text/plain": "3"
     },
     "metadata": {},
     "execution_count": 16
    }
   ],
   "source": [
    "#星期幾出生\n",
    "myBirth.weekday()"
   ]
  },
  {
   "cell_type": "code",
   "execution_count": 19,
   "metadata": {},
   "outputs": [
    {
     "output_type": "execute_result",
     "data": {
      "text/plain": "datetime.timedelta(days=10102)"
     },
     "metadata": {},
     "execution_count": 19
    }
   ],
   "source": [
    "#目前活了幾天\n",
    "date.today() - myBirth"
   ]
  },
  {
   "cell_type": "code",
   "execution_count": 9,
   "metadata": {},
   "outputs": [
    {
     "output_type": "execute_result",
     "data": {
      "text/plain": "'2020-10-31'"
     },
     "metadata": {},
     "execution_count": 9
    }
   ],
   "source": [
    "#iso 代表  iso8601\n",
    "halloween.isoformat()"
   ]
  },
  {
   "cell_type": "code",
   "execution_count": 5,
   "metadata": {},
   "outputs": [
    {
     "output_type": "execute_result",
     "data": {
      "text/plain": [
       "datetime.date(2021, 2, 11)"
      ]
     },
     "metadata": {},
     "execution_count": 5
    }
   ],
   "source": [
    "today = date.today()\n",
    "today"
   ]
  },
  {
   "cell_type": "code",
   "execution_count": 6,
   "metadata": {},
   "outputs": [
    {
     "output_type": "execute_result",
     "data": {
      "text/plain": [
       "datetime.date(2021, 2, 12)"
      ]
     },
     "metadata": {},
     "execution_count": 6
    }
   ],
   "source": [
    "from datetime import timedelta\n",
    "oneDay = timedelta(days = 1)\n",
    "tomorrow = today + oneDay\n",
    "tomorrow"
   ]
  },
  {
   "cell_type": "code",
   "execution_count": 16,
   "metadata": {},
   "outputs": [
    {
     "output_type": "execute_result",
     "data": {
      "text/plain": "datetime.date(2034, 5, 7)"
     },
     "metadata": {},
     "execution_count": 16
    }
   ],
   "source": [
    "someDayInFuture = today + oneDay * 5000\n",
    "someDayInFuture"
   ]
  },
  {
   "cell_type": "code",
   "execution_count": 19,
   "metadata": {},
   "outputs": [
    {
     "output_type": "execute_result",
     "data": {
      "text/plain": "(datetime.date(1, 1, 1), datetime.date(9999, 12, 31))"
     },
     "metadata": {},
     "execution_count": 19
    }
   ],
   "source": [
    "date.min, date.max"
   ]
  },
  {
   "cell_type": "code",
   "execution_count": 21,
   "metadata": {},
   "outputs": [
    {
     "output_type": "execute_result",
     "data": {
      "text/plain": "datetime.time(12, 0)"
     },
     "metadata": {},
     "execution_count": 21
    }
   ],
   "source": [
    "from datetime import time\n",
    "noon = time(12, 0 , 0)\n",
    "noon"
   ]
  },
  {
   "cell_type": "code",
   "execution_count": 22,
   "metadata": {},
   "outputs": [
    {
     "output_type": "execute_result",
     "data": {
      "text/plain": "(12, 0, 0)"
     },
     "metadata": {},
     "execution_count": 22
    }
   ],
   "source": [
    "noon.hour, noon.minute, noon.second"
   ]
  },
  {
   "cell_type": "code",
   "execution_count": 16,
   "metadata": {},
   "outputs": [
    {
     "output_type": "execute_result",
     "data": {
      "text/plain": [
       "datetime.datetime(2008, 1, 2, 3, 4, 5, 6)"
      ]
     },
     "metadata": {},
     "execution_count": 16
    }
   ],
   "source": [
    "from datetime import datetime\n",
    "oneDay = datetime(2008, 1, 2, 3, 4, 5, 6)\n",
    "oneDay"
   ]
  },
  {
   "cell_type": "code",
   "execution_count": 17,
   "metadata": {},
   "outputs": [
    {
     "output_type": "execute_result",
     "data": {
      "text/plain": [
       "'2008-01-02T03:04:05.000006'"
      ]
     },
     "metadata": {},
     "execution_count": 17
    }
   ],
   "source": [
    "oneDay.isoformat()"
   ]
  },
  {
   "cell_type": "code",
   "execution_count": 19,
   "metadata": {},
   "outputs": [
    {
     "output_type": "execute_result",
     "data": {
      "text/plain": [
       "datetime.datetime(2021, 2, 11, 21, 53, 34, 441641)"
      ]
     },
     "metadata": {},
     "execution_count": 19
    }
   ],
   "source": [
    "now = datetime.now()\n",
    "now"
   ]
  },
  {
   "cell_type": "code",
   "execution_count": 28,
   "metadata": {},
   "outputs": [],
   "source": [
    "#time模組 1970.1.1 ....."
   ]
  },
  {
   "cell_type": "code",
   "execution_count": 8,
   "metadata": {},
   "outputs": [],
   "source": [
    "import time"
   ]
  },
  {
   "cell_type": "code",
   "execution_count": 13,
   "metadata": {},
   "outputs": [
    {
     "output_type": "execute_result",
     "data": {
      "text/plain": [
       "1613050961.5050926"
      ]
     },
     "metadata": {},
     "execution_count": 13
    }
   ],
   "source": [
    "now = time.time()\n",
    "now"
   ]
  },
  {
   "cell_type": "code",
   "execution_count": 10,
   "metadata": {},
   "outputs": [
    {
     "output_type": "execute_result",
     "data": {
      "text/plain": [
       "'Thu Feb 11 21:42:26 2021'"
      ]
     },
     "metadata": {},
     "execution_count": 10
    }
   ],
   "source": [
    "time.ctime(now)"
   ]
  },
  {
   "cell_type": "code",
   "execution_count": 9,
   "metadata": {},
   "outputs": [
    {
     "output_type": "execute_result",
     "data": {
      "text/plain": "time.struct_time(tm_year=2020, tm_mon=8, tm_mday=28, tm_hour=20, tm_min=3, tm_sec=47, tm_wday=4, tm_yday=241, tm_isdst=0)"
     },
     "metadata": {},
     "execution_count": 9
    }
   ],
   "source": [
    "#你的時區時間\n",
    "time.localtime(now)"
   ]
  },
  {
   "cell_type": "code",
   "execution_count": 10,
   "metadata": {},
   "outputs": [
    {
     "output_type": "execute_result",
     "data": {
      "text/plain": "time.struct_time(tm_year=2020, tm_mon=8, tm_mday=28, tm_hour=12, tm_min=3, tm_sec=47, tm_wday=4, tm_yday=241, tm_isdst=0)"
     },
     "metadata": {},
     "execution_count": 10
    }
   ],
   "source": [
    "#UTC絕對時間，盡量用這個，而不要用時區時間\n",
    "time.gmtime(now)"
   ]
  },
  {
   "cell_type": "code",
   "execution_count": 11,
   "metadata": {},
   "outputs": [
    {
     "output_type": "execute_result",
     "data": {
      "text/plain": "1598616227.0"
     },
     "metadata": {},
     "execution_count": 11
    }
   ],
   "source": [
    "t = time.localtime(now)\n",
    "time.mktime(t)"
   ]
  },
  {
   "cell_type": "code",
   "execution_count": 15,
   "metadata": {},
   "outputs": [
    {
     "output_type": "execute_result",
     "data": {
      "text/plain": "\"It's Friday, August 28, 2020, local time: 08:11:55PM\""
     },
     "metadata": {},
     "execution_count": 15
    }
   ],
   "source": [
    "fmt = \"It's %A, %B %d, %Y, local time: %I:%M:%S%p\"\n",
    "t = time.localtime()\n",
    "time.strftime(fmt , t)"
   ]
  },
  {
   "cell_type": "code",
   "execution_count": 3,
   "metadata": {},
   "outputs": [
    {
     "output_type": "execute_result",
     "data": {
      "text/plain": "time.struct_time(tm_year=2020, tm_mon=12, tm_mday=31, tm_hour=0, tm_min=0, tm_sec=0, tm_wday=3, tm_yday=366, tm_isdst=-1)"
     },
     "metadata": {},
     "execution_count": 3
    }
   ],
   "source": [
    "fmt = '%Y##%m@@%d'\n",
    "time.strptime('2020##12@@31', fmt)"
   ]
  },
  {
   "cell_type": "code",
   "execution_count": null,
   "metadata": {},
   "outputs": [],
   "source": []
  }
 ]
}