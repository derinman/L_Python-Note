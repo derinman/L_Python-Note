{
 "metadata": {
  "language_info": {
   "codemirror_mode": {
    "name": "ipython",
    "version": 3
   },
   "file_extension": ".py",
   "mimetype": "text/x-python",
   "name": "python",
   "nbconvert_exporter": "python",
   "pygments_lexer": "ipython3",
   "version": "3.7.4-final"
  },
  "orig_nbformat": 2,
  "kernelspec": {
   "name": "python_defaultSpec_1598616111679",
   "display_name": "Python 3.7.4 64-bit ('base': conda)"
  }
 },
 "nbformat": 4,
 "nbformat_minor": 2,
 "cells": [
  {
   "cell_type": "code",
   "execution_count": null,
   "metadata": {},
   "outputs": [],
   "source": [
    "#datetime模組"
   ]
  },
  {
   "cell_type": "code",
   "execution_count": 3,
   "metadata": {},
   "outputs": [],
   "source": [
    "from datetime import date"
   ]
  },
  {
   "cell_type": "code",
   "execution_count": 7,
   "metadata": {},
   "outputs": [
    {
     "output_type": "execute_result",
     "data": {
      "text/plain": "(31, 10, 2020)"
     },
     "metadata": {},
     "execution_count": 7
    }
   ],
   "source": [
    "halloween = date(2020, 10 , 31)\n",
    "halloween.day, halloween.month, halloween.year"
   ]
  },
  {
   "cell_type": "code",
   "execution_count": 9,
   "metadata": {},
   "outputs": [
    {
     "output_type": "execute_result",
     "data": {
      "text/plain": "'2020-10-31'"
     },
     "metadata": {},
     "execution_count": 9
    }
   ],
   "source": [
    "#iso 代表  iso8601\n",
    "halloween.isoformat()"
   ]
  },
  {
   "cell_type": "code",
   "execution_count": 11,
   "metadata": {},
   "outputs": [
    {
     "output_type": "execute_result",
     "data": {
      "text/plain": "datetime.date(2020, 8, 28)"
     },
     "metadata": {},
     "execution_count": 11
    }
   ],
   "source": [
    "today = date.today()\n",
    "today"
   ]
  },
  {
   "cell_type": "code",
   "execution_count": 13,
   "metadata": {},
   "outputs": [
    {
     "output_type": "execute_result",
     "data": {
      "text/plain": "datetime.date(2020, 8, 29)"
     },
     "metadata": {},
     "execution_count": 13
    }
   ],
   "source": [
    "from datetime import timedelta\n",
    "oneDay = timedelta(days = 1)\n",
    "tomorrow = today + oneDay\n",
    "tomorrow"
   ]
  },
  {
   "cell_type": "code",
   "execution_count": 16,
   "metadata": {},
   "outputs": [
    {
     "output_type": "execute_result",
     "data": {
      "text/plain": "datetime.date(2034, 5, 7)"
     },
     "metadata": {},
     "execution_count": 16
    }
   ],
   "source": [
    "someDayInFuture = today + oneDay * 5000\n",
    "someDayInFuture"
   ]
  },
  {
   "cell_type": "code",
   "execution_count": 19,
   "metadata": {},
   "outputs": [
    {
     "output_type": "execute_result",
     "data": {
      "text/plain": "(datetime.date(1, 1, 1), datetime.date(9999, 12, 31))"
     },
     "metadata": {},
     "execution_count": 19
    }
   ],
   "source": [
    "date.min, date.max"
   ]
  },
  {
   "cell_type": "code",
   "execution_count": 21,
   "metadata": {},
   "outputs": [
    {
     "output_type": "execute_result",
     "data": {
      "text/plain": "datetime.time(12, 0)"
     },
     "metadata": {},
     "execution_count": 21
    }
   ],
   "source": [
    "from datetime import time\n",
    "noon = time(12, 0 , 0)\n",
    "noon"
   ]
  },
  {
   "cell_type": "code",
   "execution_count": 22,
   "metadata": {},
   "outputs": [
    {
     "output_type": "execute_result",
     "data": {
      "text/plain": "(12, 0, 0)"
     },
     "metadata": {},
     "execution_count": 22
    }
   ],
   "source": [
    "noon.hour, noon.minute, noon.second"
   ]
  },
  {
   "cell_type": "code",
   "execution_count": 24,
   "metadata": {},
   "outputs": [
    {
     "output_type": "execute_result",
     "data": {
      "text/plain": "datetime.datetime(2008, 1, 2, 3, 4, 5, 6)"
     },
     "metadata": {},
     "execution_count": 24
    }
   ],
   "source": [
    "from datetime import datetime\n",
    "oneDay = datetime(2008, 1, 2, 3, 4, 5, 6)\n",
    "oneDay"
   ]
  },
  {
   "cell_type": "code",
   "execution_count": 26,
   "metadata": {},
   "outputs": [
    {
     "output_type": "execute_result",
     "data": {
      "text/plain": "'2008-01-02T03:04:05.000006'"
     },
     "metadata": {},
     "execution_count": 26
    }
   ],
   "source": [
    "oneDay.isoformat()"
   ]
  },
  {
   "cell_type": "code",
   "execution_count": 27,
   "metadata": {},
   "outputs": [
    {
     "output_type": "execute_result",
     "data": {
      "text/plain": "datetime.datetime(2020, 8, 28, 11, 19, 14, 402103)"
     },
     "metadata": {},
     "execution_count": 27
    }
   ],
   "source": [
    "now = datetime.now()\n",
    "now"
   ]
  },
  {
   "cell_type": "code",
   "execution_count": 28,
   "metadata": {},
   "outputs": [],
   "source": [
    "#time模組 1970.1.1 ....."
   ]
  },
  {
   "cell_type": "code",
   "execution_count": 5,
   "metadata": {},
   "outputs": [],
   "source": [
    "import time"
   ]
  },
  {
   "cell_type": "code",
   "execution_count": 7,
   "metadata": {},
   "outputs": [
    {
     "output_type": "execute_result",
     "data": {
      "text/plain": "1598616227.3536806"
     },
     "metadata": {},
     "execution_count": 7
    }
   ],
   "source": [
    "now = time.time()\n",
    "now"
   ]
  },
  {
   "cell_type": "code",
   "execution_count": 8,
   "metadata": {},
   "outputs": [
    {
     "output_type": "execute_result",
     "data": {
      "text/plain": "'Fri Aug 28 20:03:47 2020'"
     },
     "metadata": {},
     "execution_count": 8
    }
   ],
   "source": [
    "time.ctime(now)"
   ]
  },
  {
   "cell_type": "code",
   "execution_count": 9,
   "metadata": {},
   "outputs": [
    {
     "output_type": "execute_result",
     "data": {
      "text/plain": "time.struct_time(tm_year=2020, tm_mon=8, tm_mday=28, tm_hour=20, tm_min=3, tm_sec=47, tm_wday=4, tm_yday=241, tm_isdst=0)"
     },
     "metadata": {},
     "execution_count": 9
    }
   ],
   "source": [
    "#你的時區時間\n",
    "time.localtime(now)"
   ]
  },
  {
   "cell_type": "code",
   "execution_count": 10,
   "metadata": {},
   "outputs": [
    {
     "output_type": "execute_result",
     "data": {
      "text/plain": "time.struct_time(tm_year=2020, tm_mon=8, tm_mday=28, tm_hour=12, tm_min=3, tm_sec=47, tm_wday=4, tm_yday=241, tm_isdst=0)"
     },
     "metadata": {},
     "execution_count": 10
    }
   ],
   "source": [
    "#UTC絕對時間，盡量用這個，而不要用時區時間\n",
    "time.gmtime(now)"
   ]
  },
  {
   "cell_type": "code",
   "execution_count": 11,
   "metadata": {},
   "outputs": [
    {
     "output_type": "execute_result",
     "data": {
      "text/plain": "1598616227.0"
     },
     "metadata": {},
     "execution_count": 11
    }
   ],
   "source": [
    "t = time.localtime(now)\n",
    "time.mktime(t)"
   ]
  },
  {
   "cell_type": "code",
   "execution_count": 15,
   "metadata": {},
   "outputs": [
    {
     "output_type": "execute_result",
     "data": {
      "text/plain": "\"It's Friday, August 28, 2020, local time: 08:11:55PM\""
     },
     "metadata": {},
     "execution_count": 15
    }
   ],
   "source": [
    "fmt = \"It's %A, %B %d, %Y, local time: %I:%M:%S%p\"\n",
    "t = time.localtime()\n",
    "time.strftime(fmt , t)"
   ]
  },
  {
   "cell_type": "code",
   "execution_count": 17,
   "metadata": {},
   "outputs": [
    {
     "output_type": "execute_result",
     "data": {
      "text/plain": "time.struct_time(tm_year=2020, tm_mon=12, tm_mday=31, tm_hour=0, tm_min=0, tm_sec=0, tm_wday=3, tm_yday=366, tm_isdst=-1)"
     },
     "metadata": {},
     "execution_count": 17
    }
   ],
   "source": [
    "fmt = '%Y##%m@@%d'\n",
    "time.strptime('2020##12@@31', fmt)"
   ]
  }
 ]
}