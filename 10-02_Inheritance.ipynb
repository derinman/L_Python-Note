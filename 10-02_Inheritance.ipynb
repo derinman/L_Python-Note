{
 "metadata": {
  "language_info": {
   "codemirror_mode": {
    "name": "ipython",
    "version": 3
   },
   "file_extension": ".py",
   "mimetype": "text/x-python",
   "name": "python",
   "nbconvert_exporter": "python",
   "pygments_lexer": "ipython3",
   "version": "3.7.4-final"
  },
  "orig_nbformat": 2,
  "kernelspec": {
   "name": "python3",
   "display_name": "Python 3"
  }
 },
 "nbformat": 4,
 "nbformat_minor": 2,
 "cells": [
  {
   "cell_type": "code",
   "execution_count": 1,
   "metadata": {},
   "outputs": [],
   "source": [
    "#繼承內建型態會有很多問題，例如list, dict，因為內建型態內的方法會忽略子類別的覆寫"
   ]
  },
  {
   "cell_type": "code",
   "execution_count": 2,
   "metadata": {},
   "outputs": [],
   "source": [
    "#請從collections模組，使用UserDict, UserList, UserString來延伸你的類別"
   ]
  },
  {
   "cell_type": "code",
   "execution_count": 4,
   "metadata": {},
   "outputs": [
    {
     "output_type": "stream",
     "name": "stdout",
     "text": [
      "{'one': [1, 1]}\n{'one': [1, 1], 'two': [2, 2]}\n{'one': [1, 1], 'two': [2, 2], 'three': [3, 3]}\n"
     ]
    }
   ],
   "source": [
    "import collections\n",
    "\n",
    "class DoppeDict2(collections.UserDict):\n",
    "    def __setitem__(self, key, value):\n",
    "        super().__setitem__(key, [value] * 2)\n",
    "\n",
    "dd = DoppeDict2(one=1)\n",
    "print(dd)\n",
    "dd['two'] = 2\n",
    "print(dd)\n",
    "dd.update(three=3)\n",
    "print(dd)"
   ]
  },
  {
   "cell_type": "code",
   "execution_count": 7,
   "metadata": {},
   "outputs": [
    {
     "output_type": "stream",
     "name": "stdout",
     "text": [
      "42\n42\n{'a': 42}\n"
     ]
    }
   ],
   "source": [
    "import collections\n",
    "\n",
    "class AnswerDict2(collections.UserDict):\n",
    "    def __getitem__(self, key):\n",
    "        return 42\n",
    "\n",
    "ad = AnswerDict2(a='foo')\n",
    "print(ad['a'])\n",
    "d = {}\n",
    "d.update(ad)\n",
    "print(d['a'])\n",
    "print(d)"
   ]
  },
  {
   "cell_type": "code",
   "execution_count": null,
   "metadata": {},
   "outputs": [],
   "source": []
  }
 ]
}