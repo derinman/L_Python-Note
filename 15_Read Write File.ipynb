{
 "metadata": {
  "language_info": {
   "codemirror_mode": {
    "name": "ipython",
    "version": 3
   },
   "file_extension": ".py",
   "mimetype": "text/x-python",
   "name": "python",
   "nbconvert_exporter": "python",
   "pygments_lexer": "ipython3",
   "version": "3.7.4-final"
  },
  "orig_nbformat": 2,
  "kernelspec": {
   "name": "python_defaultSpec_1598324652264",
   "display_name": "Python 3.7.4 64-bit ('base': conda)"
  }
 },
 "nbformat": 4,
 "nbformat_minor": 2,
 "cells": [
  {
   "cell_type": "code",
   "execution_count": 7,
   "metadata": {},
   "outputs": [],
   "source": [
    "with open('000_inman file', 'wt') as inman1:\n",
    "    inman1.write('hi do you ?')"
   ]
  },
  {
   "cell_type": "code",
   "execution_count": 11,
   "metadata": {
    "tags": []
   },
   "outputs": [
    {
     "output_type": "stream",
     "name": "stdout",
     "text": "hi do you ?\n"
    }
   ],
   "source": [
    "with open('000_inman file', 'rt') as inman2:\n",
    "    print(inman2.read())"
   ]
  },
  {
   "cell_type": "code",
   "execution_count": 29,
   "metadata": {
    "tags": []
   },
   "outputs": [
    {
     "output_type": "stream",
     "name": "stdout",
     "text": "0\nhi do you ?\n2\n do you ?\n"
    }
   ],
   "source": [
    "#tell() 回傳目前位移植\n",
    "#seek() 跳至某位移植\n",
    "with open('000_inman file', 'rt') as inman2:\n",
    "    print(inman2.tell())\n",
    "    print(inman2.read())\n",
    "    inman2.seek(2)\n",
    "    print(inman2.tell())\n",
    "    print(inman2.read())"
   ]
  },
  {
   "cell_type": "code",
   "execution_count": 40,
   "metadata": {
    "tags": []
   },
   "outputs": [
    {
     "output_type": "stream",
     "name": "stdout",
     "text": "OrderedDict([('author', 'J R R Tolkien'), ('book', 'The Hobbit')])\nOrderedDict([('author', 'Lynne Truss'), ('book', 'Eats, Shoots & Leaves')])\n"
    }
   ],
   "source": [
    "text = '''author, book\n",
    "J R R Tolkien, The Hobbit\n",
    "Lynne Truss, \"Eats, Shoots & Leaves\"\n",
    "'''\n",
    "with open('000_books.csv', 'wt') as books:\n",
    "    books.write(text)\n",
    "\n",
    "#有想忽略的逗號\n",
    "import csv\n",
    "with open('000_books.csv', 'rt') as books:\n",
    "    x = csv.DictReader(books, quotechar='\"', delimiter=',',quoting=csv.QUOTE_ALL, skipinitialspace=True)\n",
    "    for a in x:\n",
    "        print(a)\n"
   ]
  },
  {
   "cell_type": "code",
   "execution_count": 39,
   "metadata": {
    "tags": []
   },
   "outputs": [
    {
     "output_type": "stream",
     "name": "stdout",
     "text": "['AAA', 'BBB', 'Test, Test', 'CCC']\n['111', '222, 333', 'XXX', 'YYY, ZZZ']\n"
    }
   ],
   "source": [
    "#有想忽略的逗號\n",
    "lines = '''\"AAA\", \"BBB\", \"Test, Test\", \"CCC\"\n",
    "           \"111\", \"222, 333\", \"XXX\", \"YYY, ZZZ\"'''.splitlines()\n",
    "for l in  csv.reader(lines, quotechar='\"', delimiter=',',\n",
    "                     quoting=csv.QUOTE_ALL, skipinitialspace=True):\n",
    "          print (l)"
   ]
  },
  {
   "cell_type": "code",
   "execution_count": 43,
   "metadata": {},
   "outputs": [],
   "source": [
    "text = '''title, author, year\n",
    "The Weirdstone of Brisingamen, Alan Garner,1960\n",
    "Perdido Street Station, China Mi.ville, 2000\n",
    "Thud!,Terry Pratchett, 2005\n",
    "The Spellman Files, Lisa Lutz, 2007\n",
    "Small Gods, Terry Pratcheet, 1992'''\n",
    "\n",
    "with open ('000_book2.csc', 'wt') as books:\n",
    "    books.write(text)\n",
    "\n",
    "import sqlite3\n",
    "conn = sqlite3.connect('000_books.db')"
   ]
  }
 ]
}