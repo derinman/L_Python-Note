{
 "metadata": {
  "language_info": {
   "codemirror_mode": {
    "name": "ipython",
    "version": 3
   },
   "file_extension": ".py",
   "mimetype": "text/x-python",
   "name": "python",
   "nbconvert_exporter": "python",
   "pygments_lexer": "ipython3",
   "version": "3.7.4-final"
  },
  "orig_nbformat": 2,
  "kernelspec": {
   "name": "python_defaultSpec_1598333525583",
   "display_name": "Python 3.7.4 64-bit ('base': conda)"
  }
 },
 "nbformat": 4,
 "nbformat_minor": 2,
 "cells": [
  {
   "cell_type": "code",
   "execution_count": 7,
   "metadata": {},
   "outputs": [],
   "source": [
    "with open('000_inman file', 'wt') as inman1:\n",
    "    inman1.write('hi do you ?')"
   ]
  },
  {
   "cell_type": "code",
   "execution_count": 11,
   "metadata": {
    "tags": []
   },
   "outputs": [
    {
     "output_type": "stream",
     "name": "stdout",
     "text": "hi do you ?\n"
    }
   ],
   "source": [
    "with open('000_inman file', 'rt') as inman2:\n",
    "    print(inman2.read())"
   ]
  },
  {
   "cell_type": "code",
   "execution_count": 29,
   "metadata": {
    "tags": []
   },
   "outputs": [
    {
     "output_type": "stream",
     "name": "stdout",
     "text": "0\nhi do you ?\n2\n do you ?\n"
    }
   ],
   "source": [
    "#tell() 回傳目前位移植\n",
    "#seek() 跳至某位移植\n",
    "with open('000_inman file', 'rt') as inman2:\n",
    "    print(inman2.tell())\n",
    "    print(inman2.read())\n",
    "    inman2.seek(2)\n",
    "    print(inman2.tell())\n",
    "    print(inman2.read())"
   ]
  },
  {
   "cell_type": "code",
   "execution_count": 39,
   "metadata": {
    "tags": []
   },
   "outputs": [
    {
     "output_type": "stream",
     "name": "stdout",
     "text": "['AAA', 'BBB', 'Test, Test', 'CCC']\n['111', '222, 333', 'XXX', 'YYY, ZZZ']\n"
    }
   ],
   "source": [
    "#有想忽略的逗號\n",
    "lines = '''\"AAA\", \"BBB\", \"Test, Test\", \"CCC\"\n",
    "           \"111\", \"222, 333\", \"XXX\", \"YYY, ZZZ\"'''.splitlines()\n",
    "for l in  csv.reader(lines, quotechar='\"', delimiter=',',\n",
    "                     quoting=csv.QUOTE_ALL, skipinitialspace=True):\n",
    "          print (l)"
   ]
  },
  {
   "cell_type": "code",
   "execution_count": 40,
   "metadata": {
    "tags": []
   },
   "outputs": [
    {
     "output_type": "stream",
     "name": "stdout",
     "text": "OrderedDict([('author', 'J R R Tolkien'), ('book', 'The Hobbit')])\nOrderedDict([('author', 'Lynne Truss'), ('book', 'Eats, Shoots & Leaves')])\n"
    }
   ],
   "source": [
    "text = '''author, book\n",
    "J R R Tolkien, The Hobbit\n",
    "Lynne Truss, \"Eats, Shoots & Leaves\"\n",
    "'''\n",
    "with open('000_books.csv', 'wt') as books:\n",
    "    books.write(text)\n",
    "\n",
    "#有想忽略的逗號\n",
    "import csv\n",
    "with open('000_books.csv', 'rt') as books:\n",
    "    x = csv.DictReader(books, quotechar='\"', delimiter=',',quoting=csv.QUOTE_ALL, skipinitialspace=True)\n",
    "    for a in x:\n",
    "        print(a)\n"
   ]
  },
  {
   "cell_type": "code",
   "execution_count": 56,
   "metadata": {},
   "outputs": [],
   "source": [
    "text = '''title,author,year\n",
    "The Weirdstone of Brisingamen, Alan Garner,1960\n",
    "Perdido Street Station, China Mi.ville, 2000\n",
    "Thud!,Terry Pratchett, 2005\n",
    "The Spellman Files, Lisa Lutz, 2007\n",
    "Small Gods, Terry Pratcheet, 1992'''\n",
    "\n",
    "with open ('000_book2.csv', 'wt') as books:\n",
    "    books.write(text)"
   ]
  },
  {
   "cell_type": "code",
   "execution_count": 69,
   "metadata": {},
   "outputs": [],
   "source": [
    "import sqlite3\n",
    "db = sqlite3.connect('000_books.db')\n",
    "curs = db.cursor()\n",
    "#curs.execute('''CREATE TABLE book123 (title text,author text,year int)''')\n",
    "db.commit()"
   ]
  },
  {
   "cell_type": "code",
   "execution_count": 65,
   "metadata": {},
   "outputs": [],
   "source": [
    "import csv\n",
    "import sqlite3\n",
    "\n",
    "with open('000_book2.csv', 'rt') as infile:\n",
    "    books = csv.DictReader(infile)\n",
    "    for book in books:\n",
    "        curs.execute('INSERT INTO book123 VALUES(?, ?, ?)', (book['title'], book['author'], book['year']) )\n",
    "db.commit()"
   ]
  },
  {
   "cell_type": "code",
   "execution_count": 67,
   "metadata": {},
   "outputs": [
    {
     "output_type": "execute_result",
     "data": {
      "text/plain": "[('The Weirdstone of Brisingamen', ' Alan Garner', 1960),\n ('Perdido Street Station', ' China Mi.ville', 2000),\n ('Thud!', 'Terry Pratchett', 2005),\n ('The Spellman Files', ' Lisa Lutz', 2007),\n ('Small Gods', ' Terry Pratcheet', 1992),\n ('The Weirdstone of Brisingamen', ' Alan Garner', 1960),\n ('Perdido Street Station', ' China Mi.ville', 2000),\n ('Thud!', 'Terry Pratchett', 2005),\n ('The Spellman Files', ' Lisa Lutz', 2007),\n ('Small Gods', ' Terry Pratcheet', 1992),\n ('The Weirdstone of Brisingamen', ' Alan Garner', 1960),\n ('Perdido Street Station', ' China Mi.ville', 2000),\n ('Thud!', 'Terry Pratchett', 2005),\n ('The Spellman Files', ' Lisa Lutz', 2007),\n ('Small Gods', ' Terry Pratcheet', 1992),\n ('The Weirdstone of Brisingamen', ' Alan Garner', 1960),\n ('Perdido Street Station', ' China Mi.ville', 2000),\n ('Thud!', 'Terry Pratchett', 2005),\n ('The Spellman Files', ' Lisa Lutz', 2007),\n ('Small Gods', ' Terry Pratcheet', 1992)]"
     },
     "metadata": {},
     "execution_count": 67
    }
   ],
   "source": [
    "curs.execute('SELECT * FROM book123')\n",
    "curs.fetchall()"
   ]
  },
  {
   "cell_type": "code",
   "execution_count": 72,
   "metadata": {},
   "outputs": [
    {
     "output_type": "execute_result",
     "data": {
      "text/plain": "[('The Weirdstone of Brisingamen', ' Alan Garner', 1960),\n ('Perdido Street Station', ' China Mi.ville', 2000),\n ('Thud!', 'Terry Pratchett', 2005),\n ('The Spellman Files', ' Lisa Lutz', 2007),\n ('Small Gods', ' Terry Pratcheet', 1992),\n ('The Weirdstone of Brisingamen', ' Alan Garner', 1960),\n ('Perdido Street Station', ' China Mi.ville', 2000),\n ('Thud!', 'Terry Pratchett', 2005),\n ('The Spellman Files', ' Lisa Lutz', 2007),\n ('Small Gods', ' Terry Pratcheet', 1992),\n ('The Weirdstone of Brisingamen', ' Alan Garner', 1960),\n ('Perdido Street Station', ' China Mi.ville', 2000),\n ('Thud!', 'Terry Pratchett', 2005),\n ('The Spellman Files', ' Lisa Lutz', 2007),\n ('Small Gods', ' Terry Pratcheet', 1992),\n ('The Weirdstone of Brisingamen', ' Alan Garner', 1960),\n ('Perdido Street Station', ' China Mi.ville', 2000),\n ('Thud!', 'Terry Pratchett', 2005),\n ('The Spellman Files', ' Lisa Lutz', 2007),\n ('Small Gods', ' Terry Pratcheet', 1992)]"
     },
     "metadata": {},
     "execution_count": 72
    }
   ],
   "source": [
    "[x for x in db.execute('SELECT * FROM book123')]"
   ]
  },
  {
   "cell_type": "code",
   "execution_count": 74,
   "metadata": {},
   "outputs": [
    {
     "output_type": "execute_result",
     "data": {
      "text/plain": "[('The Weirdstone of Brisingamen',),\n ('Perdido Street Station',),\n ('Thud!',),\n ('The Spellman Files',),\n ('Small Gods',),\n ('The Weirdstone of Brisingamen',),\n ('Perdido Street Station',),\n ('Thud!',),\n ('The Spellman Files',),\n ('Small Gods',),\n ('The Weirdstone of Brisingamen',),\n ('Perdido Street Station',),\n ('Thud!',),\n ('The Spellman Files',),\n ('Small Gods',),\n ('The Weirdstone of Brisingamen',),\n ('Perdido Street Station',),\n ('Thud!',),\n ('The Spellman Files',),\n ('Small Gods',)]"
     },
     "metadata": {},
     "execution_count": 74
    }
   ],
   "source": [
    "[x for x in db.execute('SELECT title FROM book123')]"
   ]
  },
  {
   "cell_type": "code",
   "execution_count": 76,
   "metadata": {},
   "outputs": [
    {
     "output_type": "execute_result",
     "data": {
      "text/plain": "[('The Weirdstone of Brisingamen', ' Alan Garner', 1960),\n ('The Weirdstone of Brisingamen', ' Alan Garner', 1960),\n ('The Weirdstone of Brisingamen', ' Alan Garner', 1960),\n ('The Weirdstone of Brisingamen', ' Alan Garner', 1960),\n ('Small Gods', ' Terry Pratcheet', 1992),\n ('Small Gods', ' Terry Pratcheet', 1992),\n ('Small Gods', ' Terry Pratcheet', 1992),\n ('Small Gods', ' Terry Pratcheet', 1992),\n ('Perdido Street Station', ' China Mi.ville', 2000),\n ('Perdido Street Station', ' China Mi.ville', 2000),\n ('Perdido Street Station', ' China Mi.ville', 2000),\n ('Perdido Street Station', ' China Mi.ville', 2000),\n ('Thud!', 'Terry Pratchett', 2005),\n ('Thud!', 'Terry Pratchett', 2005),\n ('Thud!', 'Terry Pratchett', 2005),\n ('Thud!', 'Terry Pratchett', 2005),\n ('The Spellman Files', ' Lisa Lutz', 2007),\n ('The Spellman Files', ' Lisa Lutz', 2007),\n ('The Spellman Files', ' Lisa Lutz', 2007),\n ('The Spellman Files', ' Lisa Lutz', 2007)]"
     },
     "metadata": {},
     "execution_count": 76
    }
   ],
   "source": [
    "[x for x in db.execute('SELECT * FROM book123 ORDER BY year' )]"
   ]
  },
  {
   "cell_type": "code",
   "execution_count": 83,
   "metadata": {},
   "outputs": [
    {
     "output_type": "execute_result",
     "data": {
      "text/plain": "[('The Weirdstone of Brisingamen', ' Alan Garner', 1960),\n ('The Weirdstone of Brisingamen', ' Alan Garner', 1960),\n ('The Weirdstone of Brisingamen', ' Alan Garner', 1960),\n ('The Weirdstone of Brisingamen', ' Alan Garner', 1960),\n ('Small Gods', ' Terry Pratcheet', 1992),\n ('Small Gods', ' Terry Pratcheet', 1992),\n ('Small Gods', ' Terry Pratcheet', 1992),\n ('Small Gods', ' Terry Pratcheet', 1992),\n ('Perdido Street Station', ' China Mi.ville', 2000),\n ('Perdido Street Station', ' China Mi.ville', 2000),\n ('Perdido Street Station', ' China Mi.ville', 2000),\n ('Perdido Street Station', ' China Mi.ville', 2000),\n ('Thud!', 'Terry Pratchett', 2005),\n ('Thud!', 'Terry Pratchett', 2005),\n ('Thud!', 'Terry Pratchett', 2005),\n ('Thud!', 'Terry Pratchett', 2005),\n ('The Spellman Files', ' Lisa Lutz', 2007),\n ('The Spellman Files', ' Lisa Lutz', 2007),\n ('The Spellman Files', ' Lisa Lutz', 2007),\n ('The Spellman Files', ' Lisa Lutz', 2007)]"
     },
     "metadata": {},
     "execution_count": 83
    }
   ],
   "source": [
    "#用sqlalchemy連結上一個sqlite3的db\n",
    "import sqlalchemy\n",
    "conn = sqlalchemy.create_engine('sqlite:///000_books.db')\n",
    "[x for x  in conn.execute('SELECT * FROM book123 ORDER BY year')]"
   ]
  }
 ]
}