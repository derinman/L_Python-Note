{
 "metadata": {
  "language_info": {
   "codemirror_mode": {
    "name": "ipython",
    "version": 3
   },
   "file_extension": ".py",
   "mimetype": "text/x-python",
   "name": "python",
   "nbconvert_exporter": "python",
   "pygments_lexer": "ipython3",
   "version": "3.7.4-final"
  },
  "orig_nbformat": 2,
  "kernelspec": {
   "name": "python_defaultSpec_1598151429207",
   "display_name": "Python 3.7.4 64-bit ('base': conda)"
  }
 },
 "nbformat": 4,
 "nbformat_minor": 2,
 "cells": [
  {
   "cell_type": "code",
   "execution_count": 7,
   "metadata": {},
   "outputs": [],
   "source": [
    "with open('000_inman file', 'wt') as inman1:\n",
    "    inman1.write('hi do you ?')"
   ]
  },
  {
   "cell_type": "code",
   "execution_count": 11,
   "metadata": {
    "tags": []
   },
   "outputs": [
    {
     "output_type": "stream",
     "name": "stdout",
     "text": "hi do you ?\n"
    }
   ],
   "source": [
    "with open('000_inman file', 'rt') as inman2:\n",
    "    print(inman2.read())"
   ]
  },
  {
   "cell_type": "code",
   "execution_count": 29,
   "metadata": {
    "tags": []
   },
   "outputs": [
    {
     "output_type": "stream",
     "name": "stdout",
     "text": "0\nhi do you ?\n2\n do you ?\n"
    }
   ],
   "source": [
    "#tell() 回傳目前位移植\n",
    "#seek() 跳至某位移植\n",
    "with open('000_inman file', 'rt') as inman2:\n",
    "    print(inman2.tell())\n",
    "    print(inman2.read())\n",
    "    inman2.seek(2)\n",
    "    print(inman2.tell())\n",
    "    print(inman2.read())"
   ]
  },
  {
   "cell_type": "code",
   "execution_count": null,
   "metadata": {},
   "outputs": [],
   "source": []
  }
 ]
}