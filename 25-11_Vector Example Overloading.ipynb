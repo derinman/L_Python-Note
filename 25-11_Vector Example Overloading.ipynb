{
 "metadata": {
  "language_info": {
   "codemirror_mode": {
    "name": "ipython",
    "version": 3
   },
   "file_extension": ".py",
   "mimetype": "text/x-python",
   "name": "python",
   "nbconvert_exporter": "python",
   "pygments_lexer": "ipython3",
   "version": "3.7.4-final"
  },
  "orig_nbformat": 2,
  "kernelspec": {
   "name": "python3",
   "display_name": "Python 3"
  }
 },
 "nbformat": 4,
 "nbformat_minor": 2,
 "cells": [
  {
   "cell_type": "code",
   "execution_count": 1,
   "source": [
    "from array import array\r\n",
    "import reprlib\r\n",
    "import math\r\n",
    "import functools\r\n",
    "import operator\r\n",
    "import itertools\r\n",
    "import numbers\r\n",
    "\r\n",
    "\r\n",
    "class Vector:\r\n",
    "    #類別屬性，用在__bytes__\r\n",
    "    typecode = 'd'\r\n",
    "\r\n",
    "    def __init__(self, components):\r\n",
    "        self._components = array(self.typecode, components)\r\n",
    "\r\n",
    "    def __iter__(self):\r\n",
    "        return iter(self._components)\r\n",
    "\r\n",
    "    def __repr__(self):\r\n",
    "        components = reprlib.repr(self._components)\r\n",
    "        components = components[components.find('['):-1]\r\n",
    "        return 'Vector({})'.format(components)\r\n",
    "\r\n",
    "    def __str__(self):\r\n",
    "        return str(tuple(self))\r\n",
    "\r\n",
    "    def __bytes__(self):\r\n",
    "        return (bytes([ord(self.typecode)]) +\r\n",
    "                bytes(self._components))\r\n",
    "\r\n",
    "    def __eq__(self, other):\r\n",
    "        if isinstance(other, Vector):\r\n",
    "            return (len(self) == len(other) and\r\n",
    "                    all(a == b for a, b in zip(self, other)))\r\n",
    "        else:\r\n",
    "            return NotImplemented\r\n",
    "\r\n",
    "    def __hash__(self):\r\n",
    "        hashes = (hash(x) for x in self)\r\n",
    "        return functools.reduce(operator.xor, hashes, 0)\r\n",
    "\r\n",
    "    def __abs__(self):\r\n",
    "        return math.sqrt(sum(x * x for x in self))\r\n",
    "\r\n",
    "    def __bool__(self):\r\n",
    "        return bool(abs(self))\r\n",
    "\r\n",
    "    def __len__(self):\r\n",
    "        return len(self._components)\r\n",
    "\r\n",
    "    def __getitem__(self, index):\r\n",
    "        cls = type(self)\r\n",
    "        if isinstance(index, slice):\r\n",
    "            return cls(self._components[index])\r\n",
    "        elif isinstance(index, int):\r\n",
    "            return self._components[index]\r\n",
    "        else:\r\n",
    "            msg = '{.__name__} indices must be integers'\r\n",
    "            raise TypeError(msg.format(cls))\r\n",
    "\r\n",
    "    shortcut_names = 'xyzt'\r\n",
    "\r\n",
    "    def __getattr__(self, name):\r\n",
    "        cls = type(self)\r\n",
    "        if len(name) == 1:\r\n",
    "            pos = cls.shortcut_names.find(name)\r\n",
    "            if 0 <= pos < len(self._components):\r\n",
    "                return self._components[pos]\r\n",
    "        msg = '{.__name__!r} object has no attribute {!r}'\r\n",
    "        raise AttributeError(msg.format(cls, name))\r\n",
    "\r\n",
    "    def angle(self, n):\r\n",
    "        r = math.sqrt(sum(x * x for x in self[n:]))\r\n",
    "        a = math.atan2(r, self[n-1])\r\n",
    "        if (n == len(self) - 1) and (self[-1] < 0):\r\n",
    "            return math.pi * 2 - a\r\n",
    "        else:\r\n",
    "            return a\r\n",
    "\r\n",
    "    def angles(self):\r\n",
    "        return (self.angle(n) for n in range(1, len(self)))\r\n",
    "\r\n",
    "    def __format__(self, fmt_spec=''):\r\n",
    "        if fmt_spec.endswith('h'):  # hyperspherical coordinates\r\n",
    "            fmt_spec = fmt_spec[:-1]\r\n",
    "            coords = itertools.chain([abs(self)],self.angles())\r\n",
    "            outer_fmt = '<{}>'\r\n",
    "        else:\r\n",
    "            coords = self\r\n",
    "            outer_fmt = '({})'\r\n",
    "        components = (format(c, fmt_spec) for c in coords)\r\n",
    "        return outer_fmt.format(', '.join(components))\r\n",
    "\r\n",
    "    @classmethod\r\n",
    "    def frombytes(cls, octets):\r\n",
    "        typecode = chr(octets[0])\r\n",
    "        memv = memoryview(octets[1:]).cast(typecode)\r\n",
    "        return cls(memv)\r\n",
    "\r\n",
    "    def __add__(self, other):\r\n",
    "        try:\r\n",
    "            pairs = itertools.zip_longest(self, other, fillvalue=0.0)\r\n",
    "            return Vector(a + b for a, b in pairs)\r\n",
    "        except TypeError:\r\n",
    "            return NotImplemented\r\n",
    "\r\n",
    "    def __radd__(self, other):\r\n",
    "        return self + other\r\n",
    "\r\n",
    "    def __mul__(self, scalar):\r\n",
    "        if isinstance(scalar, numbers.Real):\r\n",
    "            return Vector(n * scalar for n in self)\r\n",
    "        else:\r\n",
    "            return NotImplemented\r\n",
    "\r\n",
    "    def __rmul__(self, scalar):\r\n",
    "        return self * scalar\r\n",
    "    \r\n",
    "    #內積\r\n",
    "    def __matmul__(self, other):\r\n",
    "        try:\r\n",
    "            return sum(a * b for a, b in zip(self, other))\r\n",
    "        except TypeError:\r\n",
    "            return NotImplemented\r\n",
    "\r\n",
    "    def __rmatmul__(self, other):\r\n",
    "        return self @ other  # this only works in Python 3.5"
   ],
   "outputs": [],
   "metadata": {}
  },
  {
   "cell_type": "code",
   "execution_count": 4,
   "source": [
    " v1 = Vector([3, 4, 5])\r\n",
    " v2 = Vector([6, 7, 8])\r\n",
    " v3 = Vector([1, 2])"
   ],
   "outputs": [],
   "metadata": {}
  },
  {
   "cell_type": "code",
   "execution_count": 3,
   "source": [
    "v1 + v2"
   ],
   "outputs": [
    {
     "output_type": "execute_result",
     "data": {
      "text/plain": [
       "Vector([9.0, 11.0, 13.0])"
      ]
     },
     "metadata": {},
     "execution_count": 3
    }
   ],
   "metadata": {}
  },
  {
   "cell_type": "code",
   "execution_count": 7,
   "source": [
    "# short vectors are filled with 0.0 on addition\r\n",
    "v1 + v3 "
   ],
   "outputs": [
    {
     "output_type": "execute_result",
     "data": {
      "text/plain": [
       "Vector([4.0, 6.0, 5.0])"
      ]
     },
     "metadata": {},
     "execution_count": 7
    }
   ],
   "metadata": {}
  },
  {
   "cell_type": "code",
   "execution_count": 8,
   "source": [
    "# + with mixed types\r\n",
    "v1 + (10, 20, 30)"
   ],
   "outputs": [
    {
     "output_type": "execute_result",
     "data": {
      "text/plain": [
       "Vector([13.0, 24.0, 35.0])"
      ]
     },
     "metadata": {},
     "execution_count": 8
    }
   ],
   "metadata": {}
  },
  {
   "cell_type": "code",
   "execution_count": 10,
   "source": [
    " v1 * 10, 10 * v1"
   ],
   "outputs": [
    {
     "output_type": "execute_result",
     "data": {
      "text/plain": [
       "(Vector([30.0, 40.0, 50.0]), Vector([30.0, 40.0, 50.0]))"
      ]
     },
     "metadata": {},
     "execution_count": 10
    }
   ],
   "metadata": {}
  },
  {
   "cell_type": "code",
   "execution_count": 12,
   "source": [
    "#Tests for operator `@` (Python >= 3.5), computing the dot product\r\n",
    "va = Vector([1, 2, 3])\r\n",
    "vz = Vector([5, 6, 7])"
   ],
   "outputs": [],
   "metadata": {}
  },
  {
   "cell_type": "code",
   "execution_count": 14,
   "source": [
    "va @ vz"
   ],
   "outputs": [
    {
     "output_type": "execute_result",
     "data": {
      "text/plain": [
       "38.0"
      ]
     },
     "metadata": {},
     "execution_count": 14
    }
   ],
   "metadata": {}
  },
  {
   "cell_type": "code",
   "execution_count": 16,
   "source": [
    "[10, 20, 30] @ vz"
   ],
   "outputs": [
    {
     "output_type": "execute_result",
     "data": {
      "text/plain": [
       "380.0"
      ]
     },
     "metadata": {},
     "execution_count": 16
    }
   ],
   "metadata": {}
  }
 ]
}