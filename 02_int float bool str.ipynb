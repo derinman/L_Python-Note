{
 "metadata": {
  "language_info": {
   "codemirror_mode": {
    "name": "ipython",
    "version": 3
   },
   "file_extension": ".py",
   "mimetype": "text/x-python",
   "name": "python",
   "nbconvert_exporter": "python",
   "pygments_lexer": "ipython3",
   "version": "3.7.4-final"
  },
  "orig_nbformat": 2,
  "kernelspec": {
   "name": "python_defaultSpec_1599184951464",
   "display_name": "Python 3.7.4 64-bit ('base': conda)"
  }
 },
 "nbformat": 4,
 "nbformat_minor": 2,
 "cells": [
  {
   "cell_type": "code",
   "execution_count": 3,
   "metadata": {},
   "outputs": [
    {
     "output_type": "execute_result",
     "data": {
      "text/plain": "(140707935068848, 140707935068848)"
     },
     "metadata": {},
     "execution_count": 3
    }
   ],
   "source": [
    "x = 10\n",
    "y = 10\n",
    "id(x) ,id(y)"
   ]
  },
  {
   "cell_type": "code",
   "execution_count": 4,
   "metadata": {},
   "outputs": [
    {
     "output_type": "execute_result",
     "data": {
      "text/plain": "(2648449071824, 2648449071120)"
     },
     "metadata": {},
     "execution_count": 4
    }
   ],
   "source": [
    "x = 100000000000000\n",
    "y = 100000000000000\n",
    "id(x), id(y)"
   ]
  },
  {
   "cell_type": "code",
   "execution_count": 1,
   "metadata": {
    "tags": []
   },
   "outputs": [
    {
     "output_type": "stream",
     "name": "stdout",
     "text": "<class 'int'> <class 'float'> <class 'bool'> <class 'str'>\n"
    }
   ],
   "source": [
    "a = 42\n",
    "b = 5.4\n",
    "c = True\n",
    "d = 'inman'\n",
    "\n",
    "aType = type(a)\n",
    "bType = type(b)\n",
    "cType = type(c)\n",
    "dType = type(d)\n",
    "\n",
    "print(aType, bType, cType, dType)"
   ]
  },
  {
   "cell_type": "code",
   "execution_count": 4,
   "metadata": {
    "tags": []
   },
   "outputs": [
    {
     "output_type": "stream",
     "name": "stdout",
     "text": "3.5 3 49 1\n"
    }
   ],
   "source": [
    "a = 7/2\n",
    "b = 7//2\n",
    "c = 7**2\n",
    "d = 7%2\n",
    "\n",
    "print(a, b, c, d)"
   ]
  },
  {
   "cell_type": "code",
   "execution_count": 5,
   "metadata": {
    "tags": []
   },
   "outputs": [
    {
     "output_type": "stream",
     "name": "stdout",
     "text": "10 2 8 16\n"
    }
   ],
   "source": [
    "a = 10\n",
    "b = 0b10\n",
    "c = 0o10\n",
    "d = 0x10\n",
    "\n",
    "print(a, b, c, d)"
   ]
  },
  {
   "cell_type": "code",
   "execution_count": 2,
   "metadata": {
    "tags": []
   },
   "outputs": [
    {
     "output_type": "stream",
     "name": "stdout",
     "text": "<class 'int'> <class 'float'> <class 'bool'> <class 'str'>\n"
    }
   ],
   "source": [
    "a = type(int('123'))\n",
    "b = type(float('15.02'))\n",
    "c = type(bool(0))\n",
    "d = type(str(123))\n",
    "\n",
    "print(a, b, c, d)"
   ]
  },
  {
   "cell_type": "code",
   "execution_count": 1,
   "metadata": {},
   "outputs": [
    {
     "output_type": "execute_result",
     "data": {
      "text/plain": "'onman'"
     },
     "metadata": {},
     "execution_count": 1
    }
   ],
   "source": [
    "#str不可變\n",
    "name = 'inman'\n",
    "name.replace('i','o')"
   ]
  },
  {
   "cell_type": "code",
   "execution_count": 1,
   "metadata": {
    "tags": []
   },
   "outputs": [
    {
     "output_type": "stream",
     "name": "stdout",
     "text": "['蘋果', '柳丁', '芭樂'] 蘋果%柳丁%芭樂\n"
    }
   ],
   "source": [
    "a = '蘋果、柳丁、芭樂'\n",
    "b = a.split('、')\n",
    "c = '%'.join(b)\n",
    "print(b, c)"
   ]
  },
  {
   "cell_type": "code",
   "execution_count": 3,
   "metadata": {},
   "outputs": [
    {
     "output_type": "execute_result",
     "data": {
      "text/plain": "['0926555875', '0984022801']"
     },
     "metadata": {},
     "execution_count": 3
    }
   ],
   "source": [
    "data = 'inman:0926555875:0984022801:27'\n",
    "name, *number, age = data.split(':')\n",
    "number"
   ]
  },
  {
   "cell_type": "code",
   "execution_count": 1,
   "metadata": {},
   "outputs": [
    {
     "output_type": "execute_result",
     "data": {
      "text/plain": "3"
     },
     "metadata": {},
     "execution_count": 1
    }
   ],
   "source": [
    "a = 'panama'\n",
    "a.count('a')"
   ]
  },
  {
   "cell_type": "code",
   "execution_count": 3,
   "metadata": {},
   "outputs": [
    {
     "output_type": "execute_result",
     "data": {
      "text/plain": "('Oh, my paws and whiskers!',\n 'oh, MY PAWS AND WHISKERS!',\n 'Oh, My Paws And Whiskers!',\n 'OH, MY PAWS AND WHISKERS!')"
     },
     "metadata": {},
     "execution_count": 3
    }
   ],
   "source": [
    "s = 'OH, my paws and whiskers!'\n",
    "s.capitalize(), s.swapcase(), s.title(), s.upper()"
   ]
  },
  {
   "cell_type": "code",
   "execution_count": 5,
   "metadata": {},
   "outputs": [
    {
     "output_type": "execute_result",
     "data": {
      "text/plain": "(2, 9, 9, 16, 16, True)"
     },
     "metadata": {},
     "execution_count": 5
    }
   ],
   "source": [
    "s.count('w'), s.find('w'), s.index('w'), s.rfind('w'), s.rindex('w'), s.startswith('OH') "
   ]
  },
  {
   "cell_type": "code",
   "execution_count": 8,
   "metadata": {},
   "outputs": [
    {
     "output_type": "execute_result",
     "data": {
      "text/plain": "('  OH, my paws and whiskers!   ',\n 'OH, my paws and whiskers!     ',\n '     OH, my paws and whiskers!')"
     },
     "metadata": {},
     "execution_count": 8
    }
   ],
   "source": [
    "s.center(30), s.ljust(30), s.rjust(30)"
   ]
  },
  {
   "cell_type": "code",
   "execution_count": 11,
   "metadata": {},
   "outputs": [
    {
     "output_type": "execute_result",
     "data": {
      "text/plain": "(False, False, True, False, False, False, False)"
     },
     "metadata": {},
     "execution_count": 11
    }
   ],
   "source": [
    "s.isalnum(), s.isalpha(), s.isprintable(), s.istitle(), s.isupper(), s.isdecimal(), s.isnumeric()"
   ]
  }
 ]
}