{
 "metadata": {
  "language_info": {
   "codemirror_mode": {
    "name": "ipython",
    "version": 3
   },
   "file_extension": ".py",
   "mimetype": "text/x-python",
   "name": "python",
   "nbconvert_exporter": "python",
   "pygments_lexer": "ipython3",
   "version": 3
  },
  "orig_nbformat": 2,
  "kernelspec": {
   "name": "python_defaultSpec_1597074985450",
   "display_name": "Python 3.7.4 64-bit ('base': conda)"
  }
 },
 "nbformat": 4,
 "nbformat_minor": 2,
 "cells": [
  {
   "cell_type": "code",
   "execution_count": 1,
   "metadata": {
    "tags": []
   },
   "outputs": [
    {
     "output_type": "stream",
     "name": "stdout",
     "text": "<class 'int'> <class 'float'> <class 'bool'> <class 'str'>\n"
    }
   ],
   "source": [
    "a = 42\n",
    "b = 5.4\n",
    "c = True\n",
    "d = 'inman'\n",
    "\n",
    "aType = type(a)\n",
    "bType = type(b)\n",
    "cType = type(c)\n",
    "dType = type(d)\n",
    "\n",
    "print(aType, bType, cType, dType)"
   ]
  },
  {
   "cell_type": "code",
   "execution_count": 4,
   "metadata": {
    "tags": []
   },
   "outputs": [
    {
     "output_type": "stream",
     "name": "stdout",
     "text": "3.5 3 49 1\n"
    }
   ],
   "source": [
    "a = 7/2\n",
    "b = 7//2\n",
    "c = 7**2\n",
    "d = 7%2\n",
    "\n",
    "print(a, b, c, d)"
   ]
  },
  {
   "cell_type": "code",
   "execution_count": 5,
   "metadata": {
    "tags": []
   },
   "outputs": [
    {
     "output_type": "stream",
     "name": "stdout",
     "text": "10 2 8 16\n"
    }
   ],
   "source": [
    "a = 10\n",
    "b = 0b10\n",
    "c = 0o10\n",
    "d = 0x10\n",
    "\n",
    "print(a, b, c, d)"
   ]
  },
  {
   "cell_type": "code",
   "execution_count": null,
   "metadata": {},
   "outputs": [],
   "source": []
  }
 ]
}