{
 "metadata": {
  "language_info": {
   "codemirror_mode": {
    "name": "ipython",
    "version": 3
   },
   "file_extension": ".py",
   "mimetype": "text/x-python",
   "name": "python",
   "nbconvert_exporter": "python",
   "pygments_lexer": "ipython3",
   "version": "3.7.4"
  },
  "orig_nbformat": 2,
  "kernelspec": {
   "name": "python3",
   "display_name": "Python 3.7.4 64-bit ('base': conda)",
   "metadata": {
    "interpreter": {
     "hash": "e04390b745d7540077d5afc7ea9b350ff3db0922faee759c3145cf85f5ee4c0c"
    }
   }
  }
 },
 "nbformat": 4,
 "nbformat_minor": 2,
 "cells": [
  {
   "cell_type": "code",
   "execution_count": 70,
   "metadata": {},
   "outputs": [],
   "source": [
    "import pandas as pd\n",
    "import numpy as np\n",
    "\n",
    "from collections import OrderedDict"
   ]
  },
  {
   "cell_type": "code",
   "execution_count": 26,
   "metadata": {},
   "outputs": [],
   "source": [
    "# 本篇請參考: pandas 數據重塑圖解 Pivot, Pivot-Table, Stack and Unstack.pdf\n",
    "# 裡面有圖利例，比較清楚"
   ]
  },
  {
   "cell_type": "code",
   "execution_count": 14,
   "metadata": {},
   "outputs": [
    {
     "output_type": "execute_result",
     "data": {
      "text/plain": [
       "    interval axis  reading\n",
       "0          0    X      0.0\n",
       "1          0    Y      0.5\n",
       "2          0    Z      1.0\n",
       "3          1    X      0.1\n",
       "4          1    Y      0.4\n",
       "5          1    Z      0.9\n",
       "6          2    X      0.2\n",
       "7          2    Y      0.3\n",
       "8          2    Z      0.8\n",
       "9          3    X      0.3\n",
       "10         3    Y      0.2\n",
       "11         3    Z      0.7"
      ],
      "text/html": "<div>\n<style scoped>\n    .dataframe tbody tr th:only-of-type {\n        vertical-align: middle;\n    }\n\n    .dataframe tbody tr th {\n        vertical-align: top;\n    }\n\n    .dataframe thead th {\n        text-align: right;\n    }\n</style>\n<table border=\"1\" class=\"dataframe\">\n  <thead>\n    <tr style=\"text-align: right;\">\n      <th></th>\n      <th>interval</th>\n      <th>axis</th>\n      <th>reading</th>\n    </tr>\n  </thead>\n  <tbody>\n    <tr>\n      <td>0</td>\n      <td>0</td>\n      <td>X</td>\n      <td>0.0</td>\n    </tr>\n    <tr>\n      <td>1</td>\n      <td>0</td>\n      <td>Y</td>\n      <td>0.5</td>\n    </tr>\n    <tr>\n      <td>2</td>\n      <td>0</td>\n      <td>Z</td>\n      <td>1.0</td>\n    </tr>\n    <tr>\n      <td>3</td>\n      <td>1</td>\n      <td>X</td>\n      <td>0.1</td>\n    </tr>\n    <tr>\n      <td>4</td>\n      <td>1</td>\n      <td>Y</td>\n      <td>0.4</td>\n    </tr>\n    <tr>\n      <td>5</td>\n      <td>1</td>\n      <td>Z</td>\n      <td>0.9</td>\n    </tr>\n    <tr>\n      <td>6</td>\n      <td>2</td>\n      <td>X</td>\n      <td>0.2</td>\n    </tr>\n    <tr>\n      <td>7</td>\n      <td>2</td>\n      <td>Y</td>\n      <td>0.3</td>\n    </tr>\n    <tr>\n      <td>8</td>\n      <td>2</td>\n      <td>Z</td>\n      <td>0.8</td>\n    </tr>\n    <tr>\n      <td>9</td>\n      <td>3</td>\n      <td>X</td>\n      <td>0.3</td>\n    </tr>\n    <tr>\n      <td>10</td>\n      <td>3</td>\n      <td>Y</td>\n      <td>0.2</td>\n    </tr>\n    <tr>\n      <td>11</td>\n      <td>3</td>\n      <td>Z</td>\n      <td>0.7</td>\n    </tr>\n  </tbody>\n</table>\n</div>"
     },
     "metadata": {},
     "execution_count": 14
    }
   ],
   "source": [
    "sensor_df = pd.read_csv(\"data/accel.csv\")\n",
    "sensor_d利"
   ]
  },
  {
   "cell_type": "code",
   "execution_count": 15,
   "metadata": {},
   "outputs": [
    {
     "output_type": "execute_result",
     "data": {
      "text/plain": [
       "axis        X    Y    Z\n",
       "interval               \n",
       "0         0.0  0.5  1.0\n",
       "1         0.1  0.4  0.9\n",
       "2         0.2  0.3  0.8\n",
       "3         0.3  0.2  0.7"
      ],
      "text/html": "<div>\n<style scoped>\n    .dataframe tbody tr th:only-of-type {\n        vertical-align: middle;\n    }\n\n    .dataframe tbody tr th {\n        vertical-align: top;\n    }\n\n    .dataframe thead th {\n        text-align: right;\n    }\n</style>\n<table border=\"1\" class=\"dataframe\">\n  <thead>\n    <tr style=\"text-align: right;\">\n      <th>axis</th>\n      <th>X</th>\n      <th>Y</th>\n      <th>Z</th>\n    </tr>\n    <tr>\n      <th>interval</th>\n      <th></th>\n      <th></th>\n      <th></th>\n    </tr>\n  </thead>\n  <tbody>\n    <tr>\n      <td>0</td>\n      <td>0.0</td>\n      <td>0.5</td>\n      <td>1.0</td>\n    </tr>\n    <tr>\n      <td>1</td>\n      <td>0.1</td>\n      <td>0.4</td>\n      <td>0.9</td>\n    </tr>\n    <tr>\n      <td>2</td>\n      <td>0.2</td>\n      <td>0.3</td>\n      <td>0.8</td>\n    </tr>\n    <tr>\n      <td>3</td>\n      <td>0.3</td>\n      <td>0.2</td>\n      <td>0.7</td>\n    </tr>\n  </tbody>\n</table>\n</div>"
     },
     "metadata": {},
     "execution_count": 15
    }
   ],
   "source": [
    "#pivot\n",
    "sensor_df.pivot(index='interval', columns='axis', values='reading')"
   ]
  },
  {
   "cell_type": "code",
   "execution_count": 20,
   "metadata": {},
   "outputs": [
    {
     "output_type": "execute_result",
     "data": {
      "text/plain": [
       "    Item   CType USD  EU\n",
       "0  Item0    Gold  1$  1€\n",
       "1  Item0  Bronze  2$  2€\n",
       "2  Item1    Gold  3$  3€\n",
       "3  Item1  Silver  4$  4€"
      ],
      "text/html": "<div>\n<style scoped>\n    .dataframe tbody tr th:only-of-type {\n        vertical-align: middle;\n    }\n\n    .dataframe tbody tr th {\n        vertical-align: top;\n    }\n\n    .dataframe thead th {\n        text-align: right;\n    }\n</style>\n<table border=\"1\" class=\"dataframe\">\n  <thead>\n    <tr style=\"text-align: right;\">\n      <th></th>\n      <th>Item</th>\n      <th>CType</th>\n      <th>USD</th>\n      <th>EU</th>\n    </tr>\n  </thead>\n  <tbody>\n    <tr>\n      <td>0</td>\n      <td>Item0</td>\n      <td>Gold</td>\n      <td>1$</td>\n      <td>1€</td>\n    </tr>\n    <tr>\n      <td>1</td>\n      <td>Item0</td>\n      <td>Bronze</td>\n      <td>2$</td>\n      <td>2€</td>\n    </tr>\n    <tr>\n      <td>2</td>\n      <td>Item1</td>\n      <td>Gold</td>\n      <td>3$</td>\n      <td>3€</td>\n    </tr>\n    <tr>\n      <td>3</td>\n      <td>Item1</td>\n      <td>Silver</td>\n      <td>4$</td>\n      <td>4€</td>\n    </tr>\n  </tbody>\n</table>\n</div>"
     },
     "metadata": {},
     "execution_count": 20
    }
   ],
   "source": [
    "table = OrderedDict((\n",
    "(\"Item\",['Item0','Item0','Item1','Item1']),\n",
    "(\"CType\",['Gold','Bronze','Gold','Silver']),\n",
    "(\"USD\",['1$','2$','3$','4$']),\n",
    "(\"EU\",['1€','2€','3€','4€'])\n",
    "))\n",
    "\n",
    "currency_df = pd.DataFrame(table)\n",
    "currency_df"
   ]
  },
  {
   "cell_type": "code",
   "execution_count": 23,
   "metadata": {},
   "outputs": [
    {
     "output_type": "execute_result",
     "data": {
      "text/plain": [
       "CType Bronze Gold Silver\n",
       "Item                    \n",
       "Item0     2$   1$    NaN\n",
       "Item1    NaN   3$     4$"
      ],
      "text/html": "<div>\n<style scoped>\n    .dataframe tbody tr th:only-of-type {\n        vertical-align: middle;\n    }\n\n    .dataframe tbody tr th {\n        vertical-align: top;\n    }\n\n    .dataframe thead th {\n        text-align: right;\n    }\n</style>\n<table border=\"1\" class=\"dataframe\">\n  <thead>\n    <tr style=\"text-align: right;\">\n      <th>CType</th>\n      <th>Bronze</th>\n      <th>Gold</th>\n      <th>Silver</th>\n    </tr>\n    <tr>\n      <th>Item</th>\n      <th></th>\n      <th></th>\n      <th></th>\n    </tr>\n  </thead>\n  <tbody>\n    <tr>\n      <td>Item0</td>\n      <td>2$</td>\n      <td>1$</td>\n      <td>NaN</td>\n    </tr>\n    <tr>\n      <td>Item1</td>\n      <td>NaN</td>\n      <td>3$</td>\n      <td>4$</td>\n    </tr>\n  </tbody>\n</table>\n</div>"
     },
     "metadata": {},
     "execution_count": 23
    }
   ],
   "source": [
    "# pivot\n",
    "currency_pivot = currency_df.pivot(index='Item', columns='CType', values='USD')\n",
    "currency_pivot"
   ]
  },
  {
   "cell_type": "code",
   "execution_count": 24,
   "metadata": {},
   "outputs": [],
   "source": [
    "# 實際上，軸向旋轉(pivot)運算是堆疊(stack)過程的特例。首先假設原始數據集中的行列索引中均為層次索引。stack 過程表示將數據集的列旋轉為行，同理unstack 過程表示將數據的行旋轉為列。\n",
    "\n",
    "# pandas可以用stack/unstack處理任一層級的索引，default是最內層\n",
    "\n",
    "# stack: 列轉行\n",
    "# unstack: 行轉列"
   ]
  },
  {
   "cell_type": "code",
   "execution_count": 32,
   "metadata": {},
   "outputs": [
    {
     "output_type": "execute_result",
     "data": {
      "text/plain": [
       "          one  two  three\n",
       "ohio        0    1      2\n",
       "colorado    3    4      5"
      ],
      "text/html": "<div>\n<style scoped>\n    .dataframe tbody tr th:only-of-type {\n        vertical-align: middle;\n    }\n\n    .dataframe tbody tr th {\n        vertical-align: top;\n    }\n\n    .dataframe thead th {\n        text-align: right;\n    }\n</style>\n<table border=\"1\" class=\"dataframe\">\n  <thead>\n    <tr style=\"text-align: right;\">\n      <th></th>\n      <th>one</th>\n      <th>two</th>\n      <th>three</th>\n    </tr>\n  </thead>\n  <tbody>\n    <tr>\n      <td>ohio</td>\n      <td>0</td>\n      <td>1</td>\n      <td>2</td>\n    </tr>\n    <tr>\n      <td>colorado</td>\n      <td>3</td>\n      <td>4</td>\n      <td>5</td>\n    </tr>\n  </tbody>\n</table>\n</div>"
     },
     "metadata": {},
     "execution_count": 32
    }
   ],
   "source": [
    "pd.DataFrame(np.arange(6).reshape((2,3)), \n",
    "                  index=pd.Index(['ohio','colorado']),\n",
    "                  columns=pd.Index(['one','two','three']))"
   ]
  },
  {
   "cell_type": "code",
   "execution_count": 34,
   "metadata": {},
   "outputs": [
    {
     "output_type": "execute_result",
     "data": {
      "text/plain": [
       "number    one  two  three\n",
       "state                    \n",
       "ohio        0    1      2\n",
       "colorado    3    4      5"
      ],
      "text/html": "<div>\n<style scoped>\n    .dataframe tbody tr th:only-of-type {\n        vertical-align: middle;\n    }\n\n    .dataframe tbody tr th {\n        vertical-align: top;\n    }\n\n    .dataframe thead th {\n        text-align: right;\n    }\n</style>\n<table border=\"1\" class=\"dataframe\">\n  <thead>\n    <tr style=\"text-align: right;\">\n      <th>number</th>\n      <th>one</th>\n      <th>two</th>\n      <th>three</th>\n    </tr>\n    <tr>\n      <th>state</th>\n      <th></th>\n      <th></th>\n      <th></th>\n    </tr>\n  </thead>\n  <tbody>\n    <tr>\n      <td>ohio</td>\n      <td>0</td>\n      <td>1</td>\n      <td>2</td>\n    </tr>\n    <tr>\n      <td>colorado</td>\n      <td>3</td>\n      <td>4</td>\n      <td>5</td>\n    </tr>\n  </tbody>\n</table>\n</div>"
     },
     "metadata": {},
     "execution_count": 34
    }
   ],
   "source": [
    "pd.DataFrame(np.arange(6).reshape((2,3)), \n",
    "                  index=pd.Index(['ohio','colorado'], name='state'),\n",
    "                  columns=pd.Index(['one','two','three'], name='number'))"
   ]
  },
  {
   "cell_type": "code",
   "execution_count": 36,
   "metadata": {},
   "outputs": [
    {
     "output_type": "execute_result",
     "data": {
      "text/plain": [
       "state     number\n",
       "ohio      one       0\n",
       "          two       1\n",
       "          three     2\n",
       "colorado  one       3\n",
       "          two       4\n",
       "          three     5\n",
       "dtype: int32"
      ]
     },
     "metadata": {},
     "execution_count": 36
    }
   ],
   "source": [
    "df.stack()"
   ]
  },
  {
   "cell_type": "code",
   "execution_count": 38,
   "metadata": {},
   "outputs": [
    {
     "output_type": "execute_result",
     "data": {
      "text/plain": [
       "number    one  two  three\n",
       "state                    \n",
       "ohio        0    1      2\n",
       "colorado    3    4      5"
      ],
      "text/html": "<div>\n<style scoped>\n    .dataframe tbody tr th:only-of-type {\n        vertical-align: middle;\n    }\n\n    .dataframe tbody tr th {\n        vertical-align: top;\n    }\n\n    .dataframe thead th {\n        text-align: right;\n    }\n</style>\n<table border=\"1\" class=\"dataframe\">\n  <thead>\n    <tr style=\"text-align: right;\">\n      <th>number</th>\n      <th>one</th>\n      <th>two</th>\n      <th>three</th>\n    </tr>\n    <tr>\n      <th>state</th>\n      <th></th>\n      <th></th>\n      <th></th>\n    </tr>\n  </thead>\n  <tbody>\n    <tr>\n      <td>ohio</td>\n      <td>0</td>\n      <td>1</td>\n      <td>2</td>\n    </tr>\n    <tr>\n      <td>colorado</td>\n      <td>3</td>\n      <td>4</td>\n      <td>5</td>\n    </tr>\n  </tbody>\n</table>\n</div>"
     },
     "metadata": {},
     "execution_count": 38
    }
   ],
   "source": [
    "df.stack().unstack()"
   ]
  },
  {
   "cell_type": "code",
   "execution_count": 45,
   "metadata": {},
   "outputs": [
    {
     "output_type": "execute_result",
     "data": {
      "text/plain": [
       "number    one  two  three\n",
       "state                    \n",
       "ohio        0    1      2\n",
       "colorado    3    4      5"
      ],
      "text/html": "<div>\n<style scoped>\n    .dataframe tbody tr th:only-of-type {\n        vertical-align: middle;\n    }\n\n    .dataframe tbody tr th {\n        vertical-align: top;\n    }\n\n    .dataframe thead th {\n        text-align: right;\n    }\n</style>\n<table border=\"1\" class=\"dataframe\">\n  <thead>\n    <tr style=\"text-align: right;\">\n      <th>number</th>\n      <th>one</th>\n      <th>two</th>\n      <th>three</th>\n    </tr>\n    <tr>\n      <th>state</th>\n      <th></th>\n      <th></th>\n      <th></th>\n    </tr>\n  </thead>\n  <tbody>\n    <tr>\n      <td>ohio</td>\n      <td>0</td>\n      <td>1</td>\n      <td>2</td>\n    </tr>\n    <tr>\n      <td>colorado</td>\n      <td>3</td>\n      <td>4</td>\n      <td>5</td>\n    </tr>\n  </tbody>\n</table>\n</div>"
     },
     "metadata": {},
     "execution_count": 45
    }
   ],
   "source": [
    "#拆分不同的索引層級\n",
    "#拆了number\n",
    "df.stack().unstack(1)"
   ]
  },
  {
   "cell_type": "code",
   "execution_count": 47,
   "metadata": {},
   "outputs": [
    {
     "output_type": "execute_result",
     "data": {
      "text/plain": [
       "state   ohio  colorado\n",
       "number                \n",
       "one        0         3\n",
       "two        1         4\n",
       "three      2         5"
      ],
      "text/html": "<div>\n<style scoped>\n    .dataframe tbody tr th:only-of-type {\n        vertical-align: middle;\n    }\n\n    .dataframe tbody tr th {\n        vertical-align: top;\n    }\n\n    .dataframe thead th {\n        text-align: right;\n    }\n</style>\n<table border=\"1\" class=\"dataframe\">\n  <thead>\n    <tr style=\"text-align: right;\">\n      <th>state</th>\n      <th>ohio</th>\n      <th>colorado</th>\n    </tr>\n    <tr>\n      <th>number</th>\n      <th></th>\n      <th></th>\n    </tr>\n  </thead>\n  <tbody>\n    <tr>\n      <td>one</td>\n      <td>0</td>\n      <td>3</td>\n    </tr>\n    <tr>\n      <td>two</td>\n      <td>1</td>\n      <td>4</td>\n    </tr>\n    <tr>\n      <td>three</td>\n      <td>2</td>\n      <td>5</td>\n    </tr>\n  </tbody>\n</table>\n</div>"
     },
     "metadata": {},
     "execution_count": 47
    }
   ],
   "source": [
    "#拆分不同的索引層級\n",
    "#拆了state\n",
    "df.stack().unstack(0)"
   ]
  },
  {
   "cell_type": "code",
   "execution_count": 50,
   "metadata": {},
   "outputs": [
    {
     "output_type": "execute_result",
     "data": {
      "text/plain": [
       "state   ohio  colorado\n",
       "number                \n",
       "one        0         3\n",
       "two        1         4\n",
       "three      2         5"
      ],
      "text/html": "<div>\n<style scoped>\n    .dataframe tbody tr th:only-of-type {\n        vertical-align: middle;\n    }\n\n    .dataframe tbody tr th {\n        vertical-align: top;\n    }\n\n    .dataframe thead th {\n        text-align: right;\n    }\n</style>\n<table border=\"1\" class=\"dataframe\">\n  <thead>\n    <tr style=\"text-align: right;\">\n      <th>state</th>\n      <th>ohio</th>\n      <th>colorado</th>\n    </tr>\n    <tr>\n      <th>number</th>\n      <th></th>\n      <th></th>\n    </tr>\n  </thead>\n  <tbody>\n    <tr>\n      <td>one</td>\n      <td>0</td>\n      <td>3</td>\n    </tr>\n    <tr>\n      <td>two</td>\n      <td>1</td>\n      <td>4</td>\n    </tr>\n    <tr>\n      <td>three</td>\n      <td>2</td>\n      <td>5</td>\n    </tr>\n  </tbody>\n</table>\n</div>"
     },
     "metadata": {},
     "execution_count": 50
    }
   ],
   "source": [
    "#拆分不同的索引層級\n",
    "#用索引名\n",
    "#拆了state\n",
    "df.stack().unstack('state')"
   ]
  },
  {
   "cell_type": "code",
   "execution_count": 57,
   "metadata": {},
   "outputs": [
    {
     "output_type": "execute_result",
     "data": {
      "text/plain": [
       "     a\n",
       "one  1\n",
       "two  2"
      ],
      "text/html": "<div>\n<style scoped>\n    .dataframe tbody tr th:only-of-type {\n        vertical-align: middle;\n    }\n\n    .dataframe tbody tr th {\n        vertical-align: top;\n    }\n\n    .dataframe thead th {\n        text-align: right;\n    }\n</style>\n<table border=\"1\" class=\"dataframe\">\n  <thead>\n    <tr style=\"text-align: right;\">\n      <th></th>\n      <th>a</th>\n    </tr>\n  </thead>\n  <tbody>\n    <tr>\n      <td>one</td>\n      <td>1</td>\n    </tr>\n    <tr>\n      <td>two</td>\n      <td>2</td>\n    </tr>\n  </tbody>\n</table>\n</div>"
     },
     "metadata": {},
     "execution_count": 57
    }
   ],
   "source": [
    "# Performance benefits of stacked data\n",
    "# 有設索引(雜湊)效能較佳\n",
    "test = pd.DataFrame({'a': [1, 2]}, index={'one', 'two'})\n",
    "test_stack = test.stack()\n",
    "test"
   ]
  },
  {
   "cell_type": "code",
   "execution_count": 59,
   "metadata": {},
   "outputs": [
    {
     "output_type": "execute_result",
     "data": {
      "text/plain": [
       "one  a    1\n",
       "two  a    2\n",
       "dtype: int64"
      ]
     },
     "metadata": {},
     "execution_count": 59
    }
   ],
   "source": [
    "test_stack"
   ]
  },
  {
   "cell_type": "code",
   "execution_count": 67,
   "metadata": {},
   "outputs": [
    {
     "output_type": "execute_result",
     "data": {
      "text/plain": [
       "(1, 1, 1)"
      ]
     },
     "metadata": {},
     "execution_count": 67
    }
   ],
   "source": [
    "test_stack.loc[('one', 'a')], test.loc['one']['a'], test.iloc[0, 0]"
   ]
  },
  {
   "cell_type": "code",
   "execution_count": 69,
   "metadata": {},
   "outputs": [
    {
     "output_type": "stream",
     "name": "stdout",
     "text": [
      "30.5 µs ± 347 ns per loop (mean ± std. dev. of 7 runs, 10000 loops each)\n"
     ]
    }
   ],
   "source": [
    "%timeit test_stack.loc[('one', 'a')]"
   ]
  },
  {
   "cell_type": "code",
   "execution_count": 71,
   "metadata": {},
   "outputs": [
    {
     "output_type": "stream",
     "name": "stdout",
     "text": [
      "78.9 µs ± 398 ns per loop (mean ± std. dev. of 7 runs, 10000 loops each)\n"
     ]
    }
   ],
   "source": [
    "%timeit test.loc['one']['a']"
   ]
  },
  {
   "cell_type": "code",
   "execution_count": 72,
   "metadata": {},
   "outputs": [
    {
     "output_type": "stream",
     "name": "stdout",
     "text": [
      "4.95 µs ± 22 ns per loop (mean ± std. dev. of 7 runs, 100000 loops each)\n"
     ]
    }
   ],
   "source": [
    "%timeit test.iloc[0, 0]#最快"
   ]
  }
 ]
}