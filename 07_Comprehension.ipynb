{
 "metadata": {
  "language_info": {
   "codemirror_mode": {
    "name": "ipython",
    "version": 3
   },
   "file_extension": ".py",
   "mimetype": "text/x-python",
   "name": "python",
   "nbconvert_exporter": "python",
   "pygments_lexer": "ipython3",
   "version": 3
  },
  "orig_nbformat": 2,
  "kernelspec": {
   "name": "python_defaultSpec_1597242689045",
   "display_name": "Python 3.7.4 64-bit ('base': conda)"
  }
 },
 "nbformat": 4,
 "nbformat_minor": 2,
 "cells": [
  {
   "cell_type": "code",
   "execution_count": 3,
   "metadata": {},
   "outputs": [
    {
     "output_type": "execute_result",
     "data": {
      "text/plain": "[1, 2, 3, 4, 5]"
     },
     "metadata": {},
     "execution_count": 3
    }
   ],
   "source": [
    "l = [x for x in range(1,6)]\n",
    "l"
   ]
  },
  {
   "cell_type": "code",
   "execution_count": 6,
   "metadata": {},
   "outputs": [
    {
     "output_type": "execute_result",
     "data": {
      "text/plain": "[4, 5, 6, 7, 8]"
     },
     "metadata": {},
     "execution_count": 6
    }
   ],
   "source": [
    "l = [x+3 for x in range(1,6)]\n",
    "l"
   ]
  },
  {
   "cell_type": "code",
   "execution_count": 9,
   "metadata": {},
   "outputs": [
    {
     "output_type": "execute_result",
     "data": {
      "text/plain": "[1, 3, 5]"
     },
     "metadata": {},
     "execution_count": 9
    }
   ],
   "source": [
    "l = [x for x in range(1,6) if x % 2 == 1]\n",
    "l"
   ]
  },
  {
   "cell_type": "code",
   "execution_count": 11,
   "metadata": {},
   "outputs": [
    {
     "output_type": "execute_result",
     "data": {
      "text/plain": "[(1, 1),\n (1, 2),\n (1, 3),\n (1, 4),\n (1, 5),\n (2, 1),\n (2, 2),\n (2, 3),\n (2, 4),\n (2, 5)]"
     },
     "metadata": {},
     "execution_count": 11
    }
   ],
   "source": [
    "#nested\n",
    "l = [(x,y) for x in range(1,3) for y in range (1,6)]\n",
    "l"
   ]
  },
  {
   "cell_type": "code",
   "execution_count": 13,
   "metadata": {},
   "outputs": [
    {
     "output_type": "execute_result",
     "data": {
      "text/plain": "[(1, 2), (1, 4), (2, 2), (2, 4)]"
     },
     "metadata": {},
     "execution_count": 13
    }
   ],
   "source": [
    "l = [(x,y) for x in range(1,3) for y in range (1,6) if y % 2 == 0]\n",
    "l"
   ]
  },
  {
   "cell_type": "code",
   "execution_count": 16,
   "metadata": {},
   "outputs": [
    {
     "output_type": "execute_result",
     "data": {
      "text/plain": "{0: 'A', 1: 'B', 2: 'C', 3: 'D'}"
     },
     "metadata": {},
     "execution_count": 16
    }
   ],
   "source": [
    "#dict comprehension\n",
    "{i : chr(65+i) for i in range(4)}"
   ]
  },
  {
   "cell_type": "code",
   "execution_count": 18,
   "metadata": {},
   "outputs": [
    {
     "output_type": "execute_result",
     "data": {
      "text/plain": "{'a': 1, 'p': 2, 'l': 1, 'e': 1}"
     },
     "metadata": {},
     "execution_count": 18
    }
   ],
   "source": [
    "word = 'apple'\n",
    "{x : word.count(x) for x in word}\n",
    "#p被算了兩次"
   ]
  },
  {
   "cell_type": "code",
   "execution_count": 20,
   "metadata": {},
   "outputs": [
    {
     "output_type": "execute_result",
     "data": {
      "text/plain": "{'l': 1, 'a': 1, 'p': 2, 'e': 1}"
     },
     "metadata": {},
     "execution_count": 20
    }
   ],
   "source": [
    "word = 'apple'\n",
    "{x : word.count(x) for x in set(word)}\n",
    "#p只被算了一次"
   ]
  },
  {
   "cell_type": "code",
   "execution_count": 23,
   "metadata": {},
   "outputs": [
    {
     "output_type": "execute_result",
     "data": {
      "text/plain": "{1, 2, 3, 4, 5}"
     },
     "metadata": {},
     "execution_count": 23
    }
   ],
   "source": [
    "#set comprehension\n",
    "s = {x for x in range(1,6)}\n",
    "s"
   ]
  },
  {
   "cell_type": "code",
   "execution_count": 26,
   "metadata": {},
   "outputs": [
    {
     "output_type": "execute_result",
     "data": {
      "text/plain": "generator"
     },
     "metadata": {},
     "execution_count": 26
    }
   ],
   "source": [
    "#tuple沒有comprehension\n",
    "#而是製作generator\n",
    "t = (x for x in range(1,6) if x % 2==1)\n",
    "type(t)"
   ]
  },
  {
   "cell_type": "code",
   "execution_count": 28,
   "metadata": {
    "tags": []
   },
   "outputs": [
    {
     "output_type": "stream",
     "name": "stdout",
     "text": "1\n3\n5\n"
    }
   ],
   "source": [
    "t = (x for x in range(1,6) if x % 2==1)\n",
    "for y in t :\n",
    "    print (y)"
   ]
  },
  {
   "cell_type": "code",
   "execution_count": 30,
   "metadata": {
    "tags": []
   },
   "outputs": [
    {
     "output_type": "stream",
     "name": "stdout",
     "text": "[1, 3, 5] []\n"
    }
   ],
   "source": [
    "#generator只能用一次\n",
    "t = (x for x in range(1,6) if x % 2==1)\n",
    "first = list(t)\n",
    "second = list(t)\n",
    "print(first, second)"
   ]
  }
 ]
}