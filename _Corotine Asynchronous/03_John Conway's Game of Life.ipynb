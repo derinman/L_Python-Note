{
 "metadata": {
  "language_info": {
   "codemirror_mode": {
    "name": "ipython",
    "version": 3
   },
   "file_extension": ".py",
   "mimetype": "text/x-python",
   "name": "python",
   "nbconvert_exporter": "python",
   "pygments_lexer": "ipython3",
   "version": "3.7.4-final"
  },
  "orig_nbformat": 2,
  "kernelspec": {
   "name": "python3",
   "display_name": "Python 3"
  }
 },
 "nbformat": 4,
 "nbformat_minor": 2,
 "cells": [
  {
   "cell_type": "code",
   "execution_count": 15,
   "metadata": {},
   "outputs": [],
   "source": [
    "from collections import namedtuple\n",
    "\n",
    "ALIVE = '*'\n",
    "EMPTY = '-'\n",
    "TICK = object()\n",
    "\n",
    "Query = namedtuple('Query', 'y x')\n",
    "Transition = namedtuple('Transition', 'y x state')\n",
    "\n",
    "\n",
    "def count_neighbors(y, x):\n",
    "    n_ = yield Query(y + 1, x + 0)  # North\n",
    "    ne = yield Query(y + 1, x + 1)  # Northeast\n",
    "    e_ = yield Query(y + 0, x + 1)  # East\n",
    "    se = yield Query(y - 1, x + 1)  # Southeast\n",
    "    s_ = yield Query(y - 1, x + 0)  # South\n",
    "    sw = yield Query(y - 1, x - 1)  # Southwest\n",
    "    w_ = yield Query(y + 0, x - 1)  # West\n",
    "    nw = yield Query(y + 1, x - 1)  # Northwest\n",
    "    neighbor_states = [n_, ne, e_, se, s_, sw, w_, nw]\n",
    "    count = 0\n",
    "    for state in neighbor_states:\n",
    "        if state == ALIVE:\n",
    "            count += 1\n",
    "    return count\n",
    "\n",
    "def game_logic(state, neighbors):\n",
    "    if state == ALIVE:\n",
    "        if neighbors < 2:\n",
    "            return EMPTY     # Die: Too few\n",
    "        elif neighbors > 3:\n",
    "            return EMPTY     # Die: Too many\n",
    "    else:\n",
    "        if neighbors == 3:\n",
    "            return ALIVE     # 復活Regenerate\n",
    "    return state\n",
    "\n",
    "def step_cell(y, x):\n",
    "    state = yield Query(y, x)\n",
    "    neighbors = yield from count_neighbors(y, x) #subgenerator\n",
    "    next_state = game_logic(state, neighbors)\n",
    "    yield Transition(y, x, next_state)\n",
    "\n",
    "def simulate(height, width):\n",
    "    while True:\n",
    "        for y in range(height):\n",
    "            for x in range(width):\n",
    "                yield from step_cell(y, x)\n",
    "        yield TICK\n",
    "\n",
    "class Grid(object):\n",
    "    def __init__(self, height, width):\n",
    "        self.height = height\n",
    "        self.width = width\n",
    "        self.rows = []\n",
    "        for _ in range(self.height):\n",
    "            self.rows.append([EMPTY] * self.width)\n",
    "\n",
    "    def __str__(self):\n",
    "        output = ''\n",
    "        for row in self.rows:\n",
    "            for cell in row:\n",
    "                output += cell\n",
    "            output += '\\n'\n",
    "        return output\n",
    "\n",
    "    def __getitem__(self, position):\n",
    "        y, x = position\n",
    "        return self.rows[y % self.height][x % self.width]\n",
    "\n",
    "    def __setitem__(self, position, state):\n",
    "        y, x = position\n",
    "        self.rows[y % self.height][x % self.width] = state\n",
    "\n",
    "\n",
    "def live_a_generation(grid, sim):\n",
    "    progeny = Grid(grid.height, grid.width)\n",
    "    item = next(sim)\n",
    "    while item is not TICK:\n",
    "        if isinstance(item, Query):\n",
    "            state = grid[item.y, item.x]\n",
    "            item = sim.send(state)\n",
    "        else:  # Must be a Transition\n",
    "            progeny[item.y, item.x] = item.state\n",
    "            item = next(sim)\n",
    "    return progeny\n",
    "\n",
    "\n",
    "class ColumnPrinter(object):\n",
    "    def __init__(self):\n",
    "        self.columns = []\n",
    "\n",
    "    def append(self, data):\n",
    "        self.columns.append(data)\n",
    "\n",
    "    def __str__(self):\n",
    "        row_count = 1\n",
    "        for data in self.columns:\n",
    "            row_count = max(row_count, len(data.splitlines()) + 1)\n",
    "        rows = [''] * row_count\n",
    "        for j in range(row_count):\n",
    "            for i, data in enumerate(self.columns):\n",
    "                line = data.splitlines()[max(0, j - 1)]\n",
    "                if j == 0:\n",
    "                    rows[j] += str(i).center(len(line))\n",
    "                else:\n",
    "                    rows[j] += line\n",
    "                if (i + 1) < len(self.columns):\n",
    "                    rows[j] += ' | '\n",
    "        return '\\n'.join(rows)"
   ]
  },
  {
   "cell_type": "code",
   "execution_count": 16,
   "metadata": {},
   "outputs": [
    {
     "output_type": "execute_result",
     "data": {
      "text/plain": [
       "Query(y=11, x=5)"
      ]
     },
     "metadata": {},
     "execution_count": 16
    }
   ],
   "source": [
    "it = count_neighbors(10, 5)\n",
    "next(it)#Get the first query, for q1"
   ]
  },
  {
   "cell_type": "code",
   "execution_count": 17,
   "metadata": {},
   "outputs": [
    {
     "output_type": "execute_result",
     "data": {
      "text/plain": [
       "Query(y=11, x=6)"
      ]
     },
     "metadata": {},
     "execution_count": 17
    }
   ],
   "source": [
    "it.send(ALIVE)# Send q1 state, get q2"
   ]
  },
  {
   "cell_type": "code",
   "execution_count": 18,
   "metadata": {},
   "outputs": [
    {
     "output_type": "execute_result",
     "data": {
      "text/plain": [
       "Query(y=10, x=6)"
      ]
     },
     "metadata": {},
     "execution_count": 18
    }
   ],
   "source": [
    "it.send(ALIVE)# Send q2 state, get q3"
   ]
  },
  {
   "cell_type": "code",
   "execution_count": 19,
   "metadata": {},
   "outputs": [
    {
     "output_type": "execute_result",
     "data": {
      "text/plain": [
       "[Query(y=9, x=6),\n",
       " Query(y=9, x=5),\n",
       " Query(y=9, x=4),\n",
       " Query(y=10, x=4),\n",
       " Query(y=11, x=4)]"
      ]
     },
     "metadata": {},
     "execution_count": 19
    }
   ],
   "source": [
    "[it.send(state) for state in (EMPTY)*5]"
   ]
  },
  {
   "cell_type": "code",
   "execution_count": 20,
   "metadata": {},
   "outputs": [
    {
     "output_type": "execute_result",
     "data": {
      "text/plain": [
       "2"
      ]
     },
     "metadata": {},
     "execution_count": 20
    }
   ],
   "source": [
    "try:\n",
    "    it.send(EMPTY)\n",
    "except StopIteration as e:\n",
    "    count = e.value\n",
    "\n",
    "count"
   ]
  },
  {
   "cell_type": "code",
   "execution_count": 21,
   "metadata": {},
   "outputs": [],
   "source": [
    "it2 = step_cell(100, 50)"
   ]
  },
  {
   "cell_type": "code",
   "execution_count": 22,
   "metadata": {},
   "outputs": [
    {
     "output_type": "execute_result",
     "data": {
      "text/plain": [
       "Query(y=100, x=50)"
      ]
     },
     "metadata": {},
     "execution_count": 22
    }
   ],
   "source": [
    "next(it2)"
   ]
  },
  {
   "cell_type": "code",
   "execution_count": 23,
   "metadata": {},
   "outputs": [
    {
     "output_type": "execute_result",
     "data": {
      "text/plain": [
       "[Query(y=101, x=50),\n",
       " Query(y=101, x=51),\n",
       " Query(y=100, x=51),\n",
       " Query(y=99, x=51),\n",
       " Query(y=99, x=50),\n",
       " Query(y=99, x=49),\n",
       " Query(y=100, x=49),\n",
       " Query(y=101, x=49)]"
      ]
     },
     "metadata": {},
     "execution_count": 23
    }
   ],
   "source": [
    "[it2.send(st) for st in (ALIVE)*5 + (EMPTY)*3]"
   ]
  },
  {
   "cell_type": "code",
   "execution_count": 24,
   "metadata": {},
   "outputs": [
    {
     "output_type": "execute_result",
     "data": {
      "text/plain": [
       "Transition(y=100, x=50, state='-')"
      ]
     },
     "metadata": {},
     "execution_count": 24
    }
   ],
   "source": [
    "it2.send(EMPTY)"
   ]
  },
  {
   "cell_type": "code",
   "execution_count": 25,
   "metadata": {},
   "outputs": [
    {
     "output_type": "stream",
     "name": "stdout",
     "text": [
      "---*-----\n----*----\n--***----\n---------\n---------\n\n"
     ]
    }
   ],
   "source": [
    "grid = Grid(5, 9)\n",
    "grid[0, 3] = ALIVE\n",
    "grid[1, 4] = ALIVE\n",
    "grid[2, 2] = ALIVE\n",
    "grid[2, 3] = ALIVE\n",
    "grid[2, 4] = ALIVE\n",
    "print(grid)"
   ]
  },
  {
   "cell_type": "code",
   "execution_count": 30,
   "metadata": {},
   "outputs": [
    {
     "output_type": "stream",
     "name": "stdout",
     "text": [
      "    0     |     1     |     2     |     3     |     4    \n--------* | --------- | --------- | --------- | ---------\n*-------- | *------*- | *-------- | --------* | *--------\n*------** | *-------* | *------*- | **------- | -*-------\n--------- | --------* | *-------* | *-------* | **------*\n--------- | --------- | --------- | --------- | ---------\n"
     ]
    }
   ],
   "source": [
    "columns = ColumnPrinter()\n",
    "sim = simulate(grid.height, grid.width)\n",
    "for i in range(5):\n",
    "    columns.append(str(grid))\n",
    "    grid = live_a_generation(grid, sim)\n",
    "print(columns)"
   ]
  },
  {
   "cell_type": "code",
   "execution_count": 52,
   "metadata": {},
   "outputs": [
    {
     "output_type": "stream",
     "name": "stdout",
     "text": [
      "  0   |   1   |   2   |   3   |   4   |   5  \n----- | ----- | ----- | ----- | ----- | -----\n-*--- | --*-- | --**- | --*-- | ----- | -----\n--**- | --**- | -*--- | -*--- | -**-- | -----\n---*- | --**- | --**- | --*-- | ----- | -----\n----- | ----- | ----- | ----- | ----- | -----\n"
     ]
    }
   ],
   "source": [
    "grid = Grid(5, 5)\n",
    "grid[1, 1] = ALIVE\n",
    "grid[2, 2] = ALIVE\n",
    "grid[2, 3] = ALIVE\n",
    "grid[3, 3] = ALIVE\n",
    "columns = ColumnPrinter()\n",
    "sim = simulate(grid.height, grid.width)\n",
    "for i in range(6):\n",
    "    columns.append(str(grid))\n",
    "    grid = live_a_generation(grid, sim)\n",
    "    \n",
    "print(columns)"
   ]
  },
  {
   "cell_type": "code",
   "execution_count": 81,
   "metadata": {},
   "outputs": [
    {
     "output_type": "stream",
     "name": "stdout",
     "text": [
      "  0   |   1   |   2   |   3   |   4   |   5   |   6   |   7   |   8   |   9  \n----- | ----- | ----- | ----- | ----- | ----- | ----- | ----- | ----- | -----\n----- | --*-- | ----- | --*-- | ----- | --*-- | ----- | --*-- | ----- | --*--\n-***- | --*-- | -***- | --*-- | -***- | --*-- | -***- | --*-- | -***- | --*--\n----- | --*-- | ----- | --*-- | ----- | --*-- | ----- | --*-- | ----- | --*--\n----- | ----- | ----- | ----- | ----- | ----- | ----- | ----- | ----- | -----\n"
     ]
    }
   ],
   "source": [
    "grid = Grid(5, 5)\n",
    "for i in range(1, 4):\n",
    "    grid[2, i] = ALIVE\n",
    "\n",
    "columns = ColumnPrinter()\n",
    "sim = simulate(grid.height, grid.width)\n",
    "\n",
    "for i in range(10):\n",
    "    columns.append(str(grid))\n",
    "    grid = live_a_generation(grid, sim)\n",
    "\n",
    "print(columns)"
   ]
  }
 ]
}