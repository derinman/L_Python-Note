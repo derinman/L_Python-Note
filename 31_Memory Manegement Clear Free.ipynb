{
 "metadata": {
  "language_info": {
   "codemirror_mode": {
    "name": "ipython",
    "version": 3
   },
   "file_extension": ".py",
   "mimetype": "text/x-python",
   "name": "python",
   "nbconvert_exporter": "python",
   "pygments_lexer": "ipython3",
   "version": "3.7.4-final"
  },
  "orig_nbformat": 2,
  "kernelspec": {
   "name": "Python 3.7.4 64-bit ('base': conda)",
   "display_name": "Python 3.7.4 64-bit ('base': conda)",
   "metadata": {
    "interpreter": {
     "hash": "b3ba2566441a7c06988d0923437866b63cedc61552a5af99d1f4fb67d367b25f"
    }
   }
  }
 },
 "nbformat": 4,
 "nbformat_minor": 2,
 "cells": [
  {
   "cell_type": "code",
   "execution_count": 2,
   "metadata": {
    "tags": []
   },
   "outputs": [],
   "source": [
    "import weakref\n",
    "#在 Python 裡面，當 garbage collector 開啟的狀況下，\n",
    "#如果一個物件的 reference count 變成 0，garbage collector就會自動回收該物件\n",
    "#weakref弱參考不會增加該物件的參考數量\n",
    "#所以weakref不會避免物件被回收\n",
    "\n",
    "s1 = {1, 2, 3}\n",
    "s2 = s1\n",
    "def bye():\n",
    "    print('隨風而去')\n",
    "ender = weakref.finalize(s1, bye)\n"
   ]
  },
  {
   "cell_type": "code",
   "execution_count": 3,
   "metadata": {},
   "outputs": [
    {
     "output_type": "execute_result",
     "data": {
      "text/plain": "True"
     },
     "metadata": {},
     "execution_count": 3
    }
   ],
   "source": [
    "ender.alive"
   ]
  },
  {
   "cell_type": "code",
   "execution_count": 4,
   "metadata": {},
   "outputs": [
    {
     "output_type": "execute_result",
     "data": {
      "text/plain": "True"
     },
     "metadata": {},
     "execution_count": 4
    }
   ],
   "source": [
    "#del只是刪除變數名稱，不會刪除物物件\n",
    "#但有可能因為del使得物件參考歸零\n",
    "#而導致物件被刪除\n",
    "\n",
    "del s1\n",
    "ender.alive"
   ]
  },
  {
   "cell_type": "code",
   "execution_count": 5,
   "metadata": {
    "tags": []
   },
   "outputs": [
    {
     "output_type": "stream",
     "name": "stdout",
     "text": "隨風而去\n"
    },
    {
     "output_type": "execute_result",
     "data": {
      "text/plain": "False"
     },
     "metadata": {},
     "execution_count": 5
    }
   ],
   "source": [
    "s2 = 'ok'\n",
    "ender.alive"
   ]
  },
  {
   "cell_type": "code",
   "execution_count": 18,
   "metadata": {},
   "outputs": [
    {
     "output_type": "execute_result",
     "data": {
      "text/plain": "(2, 3, 4, 4)"
     },
     "metadata": {},
     "execution_count": 18
    }
   ],
   "source": [
    "import sys\n",
    "import weakref\n",
    "\n",
    "class A():\n",
    "    pass\n",
    "a = A()\n",
    "x1 = sys.getrefcount(a)\n",
    "b = a\n",
    "x2 = sys.getrefcount(a)\n",
    "c = a\n",
    "x3 = sys.getrefcount(a)\n",
    "d = weakref.ref(a)\n",
    "x4 = sys.getrefcount(a)\n",
    "\n",
    "x1, x2, x3, x4"
   ]
  },
  {
   "cell_type": "code",
   "execution_count": null,
   "metadata": {},
   "outputs": [],
   "source": []
  }
 ]
}