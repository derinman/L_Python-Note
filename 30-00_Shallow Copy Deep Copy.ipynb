{
 "metadata": {
  "language_info": {
   "codemirror_mode": {
    "name": "ipython",
    "version": 3
   },
   "file_extension": ".py",
   "mimetype": "text/x-python",
   "name": "python",
   "nbconvert_exporter": "python",
   "pygments_lexer": "ipython3",
   "version": "3.7.4-final"
  },
  "orig_nbformat": 2,
  "kernelspec": {
   "name": "Python 3.7.4 64-bit ('base': conda)",
   "display_name": "Python 3.7.4 64-bit ('base': conda)",
   "metadata": {
    "interpreter": {
     "hash": "b3ba2566441a7c06988d0923437866b63cedc61552a5af99d1f4fb67d367b25f"
    }
   }
  }
 },
 "nbformat": 4,
 "nbformat_minor": 2,
 "cells": [
  {
   "cell_type": "code",
   "execution_count": 23,
   "metadata": {},
   "outputs": [
    {
     "output_type": "execute_result",
     "data": {
      "text/plain": "([0, [11, 22], (100, 200, 300), 10], [0, [11, 22], (100, 200, 300)])"
     },
     "metadata": {},
     "execution_count": 23
    }
   ],
   "source": [
    "#shallow copy淺複製\n",
    "#注意[11,22,33]\n",
    "#可變物件淺複製只是複製參考\n",
    "l1 = [0, [11,22,33], (100,200,300)]\n",
    "l2 = list(l1)\n",
    "l1.append(10)\n",
    "l1[1].remove(33)\n",
    "l1, l2"
   ]
  },
  {
   "cell_type": "code",
   "execution_count": 24,
   "metadata": {},
   "outputs": [
    {
     "output_type": "execute_result",
     "data": {
      "text/plain": "([0, [11, 22, 44], (100, 200, 300), 10],\n [0, [11, 22, 44], (100, 200, 300, 400)])"
     },
     "metadata": {},
     "execution_count": 24
    }
   ],
   "source": [
    "l2[1] += [44]\n",
    "l2[2] += (400,)\n",
    "l1, l2"
   ]
  },
  {
   "cell_type": "code",
   "execution_count": 25,
   "metadata": {},
   "outputs": [
    {
     "output_type": "execute_result",
     "data": {
      "text/plain": "([0, [11, 22], (100, 200, 300), 10], [0, [11, 22, 33], (100, 200, 300)])"
     },
     "metadata": {},
     "execution_count": 25
    }
   ],
   "source": [
    "#deep copy深複製\n",
    "import copy\n",
    "l3 = [0, [11,22,33], (100,200,300)]\n",
    "l4 = copy.deepcopy(l3)#淺複製的話是copy.copy()\n",
    "l3.append(10)\n",
    "l3[1].remove(33)\n",
    "l3, l4"
   ]
  },
  {
   "cell_type": "code",
   "execution_count": 26,
   "metadata": {},
   "outputs": [
    {
     "output_type": "execute_result",
     "data": {
      "text/plain": "([0, [11, 22], (100, 200, 300), 10],\n [0, [11, 22, 33, 44], (100, 200, 300, 400)])"
     },
     "metadata": {},
     "execution_count": 26
    }
   ],
   "source": [
    "l4[1] += [44]\n",
    "l4[2] += (400,)\n",
    "l3, l4"
   ]
  },
  {
   "cell_type": "code",
   "execution_count": 27,
   "metadata": {},
   "outputs": [],
   "source": [
    "class Bus:\n",
    "\n",
    "    def __init__(self, passengers=None):\n",
    "        if passengers is None:\n",
    "            self.passengers = []\n",
    "        else:\n",
    "            self.passengers = list(passengers)\n",
    "\n",
    "    def pick(self, name):\n",
    "        self.passengers.append(name)\n",
    "\n",
    "    def drop(self, name):\n",
    "        self.passengers.remove(name)"
   ]
  },
  {
   "cell_type": "code",
   "execution_count": 28,
   "metadata": {},
   "outputs": [],
   "source": [
    "import copy\n",
    "\n",
    "bus1 = Bus(['薛伊閩','馬斯克','柏格曼','丁一一'])\n",
    "bus2 = copy.copy(bus1)\n",
    "bus3 = copy.deepcopy(bus2)"
   ]
  },
  {
   "cell_type": "code",
   "execution_count": 29,
   "metadata": {},
   "outputs": [
    {
     "output_type": "execute_result",
     "data": {
      "text/plain": "(2310665616520, 2310665614472, 2310665614024)"
     },
     "metadata": {},
     "execution_count": 29
    }
   ],
   "source": [
    "id (bus1), id(bus2), id(bus3)"
   ]
  },
  {
   "cell_type": "code",
   "execution_count": 30,
   "metadata": {},
   "outputs": [
    {
     "output_type": "execute_result",
     "data": {
      "text/plain": "(2310665615240, 2310665615240, 2310664292936)"
     },
     "metadata": {},
     "execution_count": 30
    }
   ],
   "source": [
    "#bu1的跟bus2的一樣\n",
    "id(bus1.passengers), id(bus2.passengers), id(bus3.passengers)"
   ]
  },
  {
   "cell_type": "code",
   "execution_count": 31,
   "metadata": {},
   "outputs": [
    {
     "output_type": "execute_result",
     "data": {
      "text/plain": "(['馬斯克', '柏格曼', '丁一一'], ['馬斯克', '柏格曼', '丁一一'], ['薛伊閩', '馬斯克', '柏格曼', '丁一一'])"
     },
     "metadata": {},
     "execution_count": 31
    }
   ],
   "source": [
    "bus1.drop('薛伊閩')\n",
    "bus1.passengers, bus2.passengers, bus3.passengers"
   ]
  },
  {
   "cell_type": "code",
   "execution_count": null,
   "metadata": {},
   "outputs": [],
   "source": []
  }
 ]
}