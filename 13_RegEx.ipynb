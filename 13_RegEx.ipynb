{
 "metadata": {
  "language_info": {
   "codemirror_mode": {
    "name": "ipython",
    "version": 3
   },
   "file_extension": ".py",
   "mimetype": "text/x-python",
   "name": "python",
   "nbconvert_exporter": "python",
   "pygments_lexer": "ipython3",
   "version": "3.7.4-final"
  },
  "orig_nbformat": 2,
  "kernelspec": {
   "name": "python3",
   "display_name": "Python 3"
  }
 },
 "nbformat": 4,
 "nbformat_minor": 2,
 "cells": [
  {
   "cell_type": "code",
   "execution_count": 34,
   "metadata": {
    "tags": []
   },
   "outputs": [
    {
     "output_type": "stream",
     "name": "stdout",
     "text": "a:  None b:  dogcatapplehat c:  at d:  ['at', 'at'] len(d):  2\n"
    }
   ],
   "source": [
    "#match 開頭匹配\n",
    "#search 第一個匹配\n",
    "#findall 所有匹配\n",
    "import re\n",
    "s = 'dogcatapplehat'\n",
    "a = re.match('at', s)\n",
    "b = re.match('.*at',s)\n",
    "c = re.search('at',s)\n",
    "d = re.findall('at',s)\n",
    "print('a: ',a,'b: ', b.group(),'c: ', c.group(),'d: ', d,'len(d): ',len(d))"
   ]
  },
  {
   "cell_type": "code",
   "execution_count": 35,
   "metadata": {
    "tags": []
   },
   "outputs": [
    {
     "output_type": "stream",
     "name": "stdout",
     "text": "['dogc', 't', 'ppleh', 't']\n"
    }
   ],
   "source": [
    "import re\n",
    "s = 'dogcatapplehat'\n",
    "a = re.split('a', s)\n",
    "print(a)"
   ]
  },
  {
   "cell_type": "code",
   "execution_count": 36,
   "metadata": {
    "tags": []
   },
   "outputs": [
    {
     "output_type": "stream",
     "name": "stdout",
     "text": "dogc?t?ppleh?t\n"
    }
   ],
   "source": [
    "#re.sub()有點像replace\n",
    "import re \n",
    "s = 'dogcatapplehat'\n",
    "a = re.sub('a','?',s)\n",
    "print(a)"
   ]
  },
  {
   "cell_type": "code",
   "execution_count": 37,
   "metadata": {},
   "outputs": [
    {
     "output_type": "execute_result",
     "data": {
      "text/plain": "'0123456789abcdefghijklmnopqrstuvwxyzABCDEFGHIJKLMNOPQRSTUVWXYZ!\"#$%&\\'()*+,-./:;<=>?@[\\\\]^_`{|}~ \\t\\n\\r\\x0b\\x0c'"
     },
     "metadata": {},
     "execution_count": 37
    }
   ],
   "source": [
    "import string\n",
    "printThing = string.printable\n",
    "printThing"
   ]
  },
  {
   "cell_type": "code",
   "execution_count": 73,
   "metadata": {},
   "outputs": [],
   "source": [
    "import string\n",
    "import re\n",
    "printThing = string.printable\n",
    "\n",
    "#re.findall(r'\\d', printThing), #\\d數字\n",
    "#re.findall(r'\\D', printThing), #\\D非數字\n",
    "#re.findall(r'\\w', printThing),  #\\w英數\n",
    "#re.findall(r'\\W', printThing),  #\\W非英數\n",
    "#re.findall(r'\\s', printThing),  #\\s空白\n",
    "#re.findall(r'\\S', printThing),  #\\S非空白\n",
    "\n",
    "#re.findall(r'\\bdo\\b', 'do you have your dog, do you?')\n",
    "#re.findall(r'\\byou\\b', 'do you have your dog, do you?')\n",
    "#re.findall(r'\\Bu', 'do you have your dog, do you?') \n",
    "#re.findall(r'u\\B', 'do you have your dog, do you?')"
   ]
  },
  {
   "cell_type": "code",
   "execution_count": null,
   "metadata": {},
   "outputs": [],
   "source": []
  }
 ]
}