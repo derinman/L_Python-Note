{
 "cells": [
  {
   "cell_type": "code",
   "execution_count": 18,
   "metadata": {
    "tags": []
   },
   "outputs": [
    {
     "name": "stdout",
     "output_type": "stream",
     "text": [
      "\n",
      " a(re.match('at', s)):\t None \n",
      " b(re.match('.*at',s)):\t  <re.Match object; span=(0, 14), match='dogcatapplehat'> \n",
      " c(re.search('at',s)):\t <re.Match object; span=(4, 6), match='at'> \n",
      " d(re.search('z',s)):\t None \n",
      " e(re.findall('at',s)):\t ['at', 'at'] \n",
      " f(re.search('(a)(t)',s)):\t <re.Match object; span=(4, 6), match='at'> \n",
      " \t f.group(0): at | f.group(1):  a | f.group(2): t\n"
     ]
    }
   ],
   "source": [
    "# match 開頭匹配\n",
    "# search 第一個匹配\n",
    "# findall 所有匹配\n",
    "# finditer(大量文字批配用generator lazy iteration)\n",
    "\n",
    "import re\n",
    "s = 'dogcatapplehat'\n",
    "\n",
    "a = re.match('at', s)\n",
    "b = re.match('.*at', s)\n",
    "\n",
    "c = re.search('at', s)\n",
    "d = re.search('z', s)\n",
    "e = re.findall('at', s)\n",
    "\n",
    "f = re.search('(a)(t)', s)\n",
    "\n",
    "# other:\n",
    "# finditer(大量文字批配用generator lazy iteration)\n",
    "\n",
    "print(\n",
    "    '\\n',\n",
    "    \"a(re.match('at', s)):\\t\", a, '\\n',\n",
    "    \"b(re.match('.*at',s)):\\t \", b, '\\n',\n",
    "    \"c(re.search('at',s)):\\t\", c, '\\n',\n",
    "    \"d(re.search('z',s)):\\t\", d, '\\n',\n",
    "    \"e(re.findall('at',s)):\\t\", e, '\\n',\n",
    "    \"f(re.search('(a)(t)',s)):\\t\", f, '\\n',\n",
    "    '\\t', 'f.group(0):', f.group(0), '| f.group(1): ', f.group(\n",
    "        1), '| f.group(2):', f.group(2), '\\n',\n",
    "\n",
    ")"
   ]
  },
  {
   "cell_type": "code",
   "execution_count": 12,
   "metadata": {},
   "outputs": [
    {
     "name": "stdout",
     "output_type": "stream",
     "text": [
      "<re.Match object; span=(0, 3), match='dog'>\n",
      "<re.Match object; span=(0, 3), match='cat'>\n",
      "None\n",
      "<re.Match object; span=(0, 3), match='dog'>\n",
      "<re.Match object; span=(0, 3), match='cat'>\n"
     ]
    }
   ],
   "source": [
    "import re\n",
    "from pprint import pprint\n",
    "\n",
    "s1 = 'dog'\n",
    "s2 = 'cat'\n",
    "s3 = 'apple'\n",
    "\n",
    "pprint(re.match('cat|dog', s1))\n",
    "pprint(re.match('cat|dog', s2))\n",
    "pprint(re.match('cat|dog', s3))\n",
    "pprint(re.search('^cat|dog$', s1))\n",
    "pprint(re.search('^cat|dog$', s2))"
   ]
  },
  {
   "cell_type": "code",
   "execution_count": 2,
   "metadata": {
    "tags": []
   },
   "outputs": [
    {
     "name": "stdout",
     "output_type": "stream",
     "text": [
      "['dogc', 't', 'ppleh', 't']\n"
     ]
    }
   ],
   "source": [
    "import re\n",
    "s = 'dogcatapplehat'\n",
    "a = re.split('a', s)\n",
    "print(a)"
   ]
  },
  {
   "cell_type": "code",
   "execution_count": 3,
   "metadata": {
    "tags": []
   },
   "outputs": [
    {
     "name": "stdout",
     "output_type": "stream",
     "text": [
      "dogc?t?ppleh?t\n"
     ]
    }
   ],
   "source": [
    "#re.sub()有點像replace\n",
    "import re \n",
    "s = 'dogcatapplehat'\n",
    "a = re.sub('a','?',s)\n",
    "print(a)"
   ]
  },
  {
   "cell_type": "code",
   "execution_count": 4,
   "metadata": {},
   "outputs": [
    {
     "data": {
      "text/plain": [
       "'0123456789abcdefghijklmnopqrstuvwxyzABCDEFGHIJKLMNOPQRSTUVWXYZ!\"#$%&\\'()*+,-./:;<=>?@[\\\\]^_`{|}~ \\t\\n\\r\\x0b\\x0c'"
      ]
     },
     "execution_count": 4,
     "metadata": {},
     "output_type": "execute_result"
    }
   ],
   "source": [
    "import string\n",
    "printThing = string.printable\n",
    "printThing"
   ]
  },
  {
   "cell_type": "code",
   "execution_count": 5,
   "metadata": {},
   "outputs": [],
   "source": [
    "import string\n",
    "import re\n",
    "printThing = string.printable\n",
    "\n",
    "#re.findall(r'\\d', printThing), #\\d數字\n",
    "#re.findall(r'\\D', printThing), #\\D非數字\n",
    "#re.findall(r'\\w', printThing),  #\\w英數\n",
    "#re.findall(r'\\W', printThing),  #\\W非英數\n",
    "#re.findall(r'\\s', printThing),  #\\s空白\n",
    "#re.findall(r'\\S', printThing),  #\\S非空白\n",
    "\n",
    "#re.findall(r'\\bdo\\b', 'do you have your dog, do you?')\n",
    "#re.findall(r'\\byou\\b', 'do you have your dog, do you?')\n",
    "#re.findall(r'\\Bu', 'do you have your dog, do you?') \n",
    "#re.findall(r'u\\B', 'do you have your dog, do you?')"
   ]
  },
  {
   "cell_type": "code",
   "execution_count": 6,
   "metadata": {},
   "outputs": [
    {
     "data": {
      "text/plain": [
       "(['do'], ['you!'])"
      ]
     },
     "execution_count": 6,
     "metadata": {},
     "output_type": "execute_result"
    }
   ],
   "source": [
    "import re\n",
    "s = 'do you have your dog, do you!'\n",
    "re.findall(r'^do',s), re.findall(r'you.$',s)"
   ]
  },
  {
   "cell_type": "code",
   "execution_count": 7,
   "metadata": {},
   "outputs": [
    {
     "data": {
      "text/plain": [
       "(['hat', 'cat'], ['hat', 'eat'])"
      ]
     },
     "execution_count": 7,
     "metadata": {},
     "output_type": "execute_result"
    }
   ],
   "source": [
    "import re\n",
    "s = 'hat or cat? eat'\n",
    "re.findall(r'[hc]at', s), re.findall(r'[^c]at', s)"
   ]
  },
  {
   "cell_type": "code",
   "execution_count": 8,
   "metadata": {},
   "outputs": [],
   "source": [
    "song = \"\"\"We have seen thee, queen of cheese,\n",
    "Lying quietly at your ease,\n",
    "Gently fanned by evening breeze,\n",
    "Thy fair form no flies dare seize.\n",
    "\n",
    "All gaily dressed soon you'll go\n",
    "To the great Provincial show,\n",
    "To be admired by many a beau\n",
    "In the city of Toronto.\n",
    "\n",
    "Cows numerous as a swarm of bees,\n",
    "Or as the leaves upon the trees,\n",
    "It did require to make thee please,\n",
    "And stand unrivalled, queen of cheese.\n",
    "\n",
    "May you not receive a scar as\n",
    "We have heard that Mr. Harris\n",
    "Intends to send you off as far as\n",
    "The great world's show at Paris.\n",
    "\n",
    "Of the youth beware of these,\n",
    "For some of them might rudely squeeze\n",
    "And bite your cheek, then songs or glees\n",
    "We could not sing, oh! queen of cheese.\n",
    "\n",
    "We'rt thou suspended from balloon,\n",
    "You'd cast a shade even at noon,\n",
    "Folks would think it was the moon\n",
    "About to fall and crush them soon.\"\"\""
   ]
  },
  {
   "cell_type": "code",
   "execution_count": 9,
   "metadata": {},
   "outputs": [
    {
     "data": {
      "text/plain": [
       "['cheese', 'city', 'cheese', 'cheek', 'could', 'cheese', 'cast', 'crush']"
      ]
     },
     "execution_count": 9,
     "metadata": {},
     "output_type": "execute_result"
    }
   ],
   "source": [
    "import re \n",
    "re.findall(r'\\bc\\w*\\b',song) #c開頭單字"
   ]
  },
  {
   "cell_type": "code",
   "execution_count": 10,
   "metadata": {},
   "outputs": [
    {
     "data": {
      "text/plain": [
       "['city', 'cast']"
      ]
     },
     "execution_count": 10,
     "metadata": {},
     "output_type": "execute_result"
    }
   ],
   "source": [
    "re.findall(r'\\bc\\w{3}\\b',song) #c開頭的四個字母單字"
   ]
  },
  {
   "cell_type": "code",
   "execution_count": 11,
   "metadata": {},
   "outputs": [
    {
     "data": {
      "text/plain": [
       "['your', 'fair', 'Or', 'scar', 'Mr', 'far', 'For', 'your', 'or']"
      ]
     },
     "execution_count": 11,
     "metadata": {},
     "output_type": "execute_result"
    }
   ],
   "source": [
    "re.findall(r'\\b\\w*r\\b',song) #r結尾單字"
   ]
  },
  {
   "cell_type": "code",
   "execution_count": 12,
   "metadata": {},
   "outputs": [
    {
     "data": {
      "text/plain": [
       "['queen', 'quietly', 'beau', 'queen', 'squeeze', 'queen']"
      ]
     },
     "execution_count": 12,
     "metadata": {},
     "output_type": "execute_result"
    }
   ],
   "source": [
    "re.findall(r'\\b\\w*[aeiou]{3}\\w*\\b',song) #連續三個母音單字"
   ]
  },
  {
   "cell_type": "code",
   "execution_count": 13,
   "metadata": {},
   "outputs": [
    {
     "data": {
      "text/plain": [
       "['All', \"you'll\", 'Provincial', 'fall']"
      ]
     },
     "execution_count": 13,
     "metadata": {},
     "output_type": "execute_result"
    }
   ],
   "source": [
    "re.findall(r'\\b[\\w\\']*l\\b',song) #l結尾單字 you'll"
   ]
  }
 ],
 "metadata": {
  "interpreter": {
   "hash": "a25fe9fa6c27b95901d0edd5181fe5544d24e241def55442d39b65c508d23c47"
  },
  "kernelspec": {
   "display_name": "Python 3.9.7 ('base')",
   "language": "python",
   "name": "python3"
  },
  "language_info": {
   "codemirror_mode": {
    "name": "ipython",
    "version": 3
   },
   "file_extension": ".py",
   "mimetype": "text/x-python",
   "name": "python",
   "nbconvert_exporter": "python",
   "pygments_lexer": "ipython3",
   "version": "3.11.4"
  },
  "orig_nbformat": 2
 },
 "nbformat": 4,
 "nbformat_minor": 2
}
