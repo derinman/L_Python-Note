{
 "metadata": {
  "language_info": {
   "codemirror_mode": {
    "name": "ipython",
    "version": 3
   },
   "file_extension": ".py",
   "mimetype": "text/x-python",
   "name": "python",
   "nbconvert_exporter": "python",
   "pygments_lexer": "ipython3",
   "version": "3.7.4-final"
  },
  "orig_nbformat": 2,
  "kernelspec": {
   "name": "python3",
   "display_name": "Python 3"
  }
 },
 "nbformat": 4,
 "nbformat_minor": 2,
 "cells": [
  {
   "cell_type": "code",
   "execution_count": 2,
   "metadata": {},
   "outputs": [],
   "source": [
    "from collections import deque"
   ]
  },
  {
   "cell_type": "code",
   "execution_count": 3,
   "metadata": {},
   "outputs": [
    {
     "output_type": "execute_result",
     "data": {
      "text/plain": "deque([2, 3, 100])"
     },
     "metadata": {},
     "execution_count": 3
    }
   ],
   "source": [
    "q = deque([1, 2, 3], maxlen=3)\n",
    "q.append(100)\n",
    "q"
   ]
  },
  {
   "cell_type": "code",
   "execution_count": 4,
   "metadata": {},
   "outputs": [
    {
     "output_type": "execute_result",
     "data": {
      "text/plain": "(deque([0, 1, 2, 3, 4, 5, 6, 7, 8, 9]), 9, deque([0, 1, 2, 3, 4, 5, 6, 7, 8]))"
     },
     "metadata": {},
     "execution_count": 4
    }
   ],
   "source": [
    "#pop()\n",
    "q = deque(range(10), maxlen=10)\n",
    "origin = q.copy()\n",
    "pop_thing = q.pop()\n",
    "origin, pop_thing, q"
   ]
  },
  {
   "cell_type": "code",
   "execution_count": 5,
   "metadata": {},
   "outputs": [
    {
     "output_type": "execute_result",
     "data": {
      "text/plain": "(deque([0, 1, 2, 3, 4, 5, 6, 7, 8, 9]), 0, deque([1, 2, 3, 4, 5, 6, 7, 8, 9]))"
     },
     "metadata": {},
     "execution_count": 5
    }
   ],
   "source": [
    "#popleft()\n",
    "q = deque(range(10), maxlen=10)\n",
    "origin = q.copy()\n",
    "pop_thing = q.popleft()\n",
    "origin, pop_thing, q"
   ]
  },
  {
   "cell_type": "code",
   "execution_count": 6,
   "metadata": {},
   "outputs": [
    {
     "output_type": "execute_result",
     "data": {
      "text/plain": "(deque([0, 1, 2, 3, 4, 5, 6, 7, 8, 9]),\n deque([1, 2, 3, 4, 5, 6, 7, 8, 9, 1000]))"
     },
     "metadata": {},
     "execution_count": 6
    }
   ],
   "source": [
    "#append()\n",
    "q = deque(range(10), maxlen=10)\n",
    "origin = q.copy()\n",
    "q.append(1000)\n",
    "origin, q"
   ]
  },
  {
   "cell_type": "code",
   "execution_count": 7,
   "metadata": {},
   "outputs": [
    {
     "output_type": "execute_result",
     "data": {
      "text/plain": "(deque([0, 1, 2, 3, 4, 5, 6, 7, 8, 9]),\n deque([1000, 0, 1, 2, 3, 4, 5, 6, 7, 8]))"
     },
     "metadata": {},
     "execution_count": 7
    }
   ],
   "source": [
    "#appendleft()\n",
    "q = deque(range(10), maxlen=10)\n",
    "origin = q.copy()\n",
    "q.appendleft(1000)\n",
    "origin, q"
   ]
  },
  {
   "cell_type": "code",
   "execution_count": 10,
   "metadata": {},
   "outputs": [
    {
     "output_type": "execute_result",
     "data": {
      "text/plain": "deque([7, 8, 9, 0, 1, 2, 3, 4, 5, 6])"
     },
     "metadata": {},
     "execution_count": 10
    }
   ],
   "source": [
    "q = deque(range(10), maxlen=10)\n",
    "q.rotate(3)\n",
    "q"
   ]
  }
 ]
}