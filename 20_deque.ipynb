{
 "metadata": {
  "language_info": {
   "codemirror_mode": {
    "name": "ipython",
    "version": 3
   },
   "file_extension": ".py",
   "mimetype": "text/x-python",
   "name": "python",
   "nbconvert_exporter": "python",
   "pygments_lexer": "ipython3",
   "version": "3.7.4-final"
  },
  "orig_nbformat": 2,
  "kernelspec": {
   "name": "python_defaultSpec_1598533618815",
   "display_name": "Python 3.7.4 64-bit ('base': conda)"
  }
 },
 "nbformat": 4,
 "nbformat_minor": 2,
 "cells": [
  {
   "cell_type": "code",
   "execution_count": 1,
   "metadata": {},
   "outputs": [],
   "source": [
    "from collections import deque"
   ]
  },
  {
   "cell_type": "code",
   "execution_count": 5,
   "metadata": {},
   "outputs": [
    {
     "output_type": "execute_result",
     "data": {
      "text/plain": "deque([2, 3, 100])"
     },
     "metadata": {},
     "execution_count": 5
    }
   ],
   "source": [
    "q = deque([1, 2, 3], maxlen=3)\n",
    "q.append(100)\n",
    "q"
   ]
  },
  {
   "cell_type": "code",
   "execution_count": 18,
   "metadata": {},
   "outputs": [
    {
     "output_type": "execute_result",
     "data": {
      "text/plain": "(deque([0, 1, 2, 3, 4, 5, 6, 7, 8, 9]), 9, deque([0, 1, 2, 3, 4, 5, 6, 7, 8]))"
     },
     "metadata": {},
     "execution_count": 18
    }
   ],
   "source": [
    "#pop()\n",
    "q = deque(range(10), maxlen=10)\n",
    "origin = q.copy()\n",
    "pop_thing = q.pop()\n",
    "origin, pop_thing, q"
   ]
  },
  {
   "cell_type": "code",
   "execution_count": 21,
   "metadata": {},
   "outputs": [
    {
     "output_type": "execute_result",
     "data": {
      "text/plain": "(deque([0, 1, 2, 3, 4, 5, 6, 7, 8, 9]), 0, deque([1, 2, 3, 4, 5, 6, 7, 8, 9]))"
     },
     "metadata": {},
     "execution_count": 21
    }
   ],
   "source": [
    "#popleft()\n",
    "q = deque(range(10), maxlen=10)\n",
    "origin = q.copy()\n",
    "pop_thing = q.popleft()\n",
    "origin, pop_thing, q"
   ]
  },
  {
   "cell_type": "code",
   "execution_count": 24,
   "metadata": {},
   "outputs": [
    {
     "output_type": "execute_result",
     "data": {
      "text/plain": "(deque([0, 1, 2, 3, 4, 5, 6, 7, 8, 9]),\n deque([1, 2, 3, 4, 5, 6, 7, 8, 9, 1000]))"
     },
     "metadata": {},
     "execution_count": 24
    }
   ],
   "source": [
    "#append()\n",
    "q = deque(range(10), maxlen=10)\n",
    "origin = q.copy()\n",
    "q.append(1000)\n",
    "origin, q"
   ]
  },
  {
   "cell_type": "code",
   "execution_count": 25,
   "metadata": {},
   "outputs": [
    {
     "output_type": "execute_result",
     "data": {
      "text/plain": "(deque([0, 1, 2, 3, 4, 5, 6, 7, 8, 9]),\n deque([1000, 0, 1, 2, 3, 4, 5, 6, 7, 8]))"
     },
     "metadata": {},
     "execution_count": 25
    }
   ],
   "source": [
    "#appendleft()\n",
    "q = deque(range(10), maxlen=10)\n",
    "origin = q.copy()\n",
    "q.appendleft(1000)\n",
    "origin, q"
   ]
  }
 ]
}