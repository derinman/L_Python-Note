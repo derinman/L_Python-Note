{
 "metadata": {
  "language_info": {
   "codemirror_mode": {
    "name": "ipython",
    "version": 3
   },
   "file_extension": ".py",
   "mimetype": "text/x-python",
   "name": "python",
   "nbconvert_exporter": "python",
   "pygments_lexer": "ipython3",
   "version": "3.7.4-final"
  },
  "orig_nbformat": 2,
  "kernelspec": {
   "name": "python3",
   "display_name": "Python 3"
  }
 },
 "nbformat": 4,
 "nbformat_minor": 2,
 "cells": [
  {
   "cell_type": "code",
   "execution_count": 4,
   "metadata": {},
   "outputs": [],
   "source": [
    "#slice: index從0開始 含投頭不含尾 [start: end: step]"
   ]
  },
  {
   "cell_type": "code",
   "execution_count": 5,
   "metadata": {
    "tags": []
   },
   "outputs": [
    {
     "output_type": "stream",
     "name": "stdout",
     "text": "a b z\n"
    }
   ],
   "source": [
    "l = 'abcdefghijklmnopqrstuvwxyz'\n",
    "print(l[0], l[1], l[-1])"
   ]
  },
  {
   "cell_type": "code",
   "execution_count": 6,
   "metadata": {
    "tags": []
   },
   "outputs": [
    {
     "output_type": "stream",
     "name": "stdout",
     "text": "uvwxyz xyz uvwxy ae\n"
    }
   ],
   "source": [
    "l = 'abcdefghijklmnopqrstuvwxyz'\n",
    "print(l[20:], l[-3:], l[-6: -1], l[0: 5: 4])"
   ]
  },
  {
   "cell_type": "code",
   "execution_count": 7,
   "metadata": {
    "tags": []
   },
   "outputs": [
    {
     "output_type": "stream",
     "name": "stdout",
     "text": "zyxwvutsrqponmlkjihgfedcba\n"
    }
   ],
   "source": [
    "l = 'abcdefghijklmnopqrstuvwxyz'\n",
    "print(l[::-1])"
   ]
  },
  {
   "cell_type": "code",
   "execution_count": 22,
   "metadata": {},
   "outputs": [
    {
     "output_type": "execute_result",
     "data": {
      "text/plain": "('abc', 'xyz')"
     },
     "metadata": {},
     "execution_count": 22
    }
   ],
   "source": [
    "#對slice命名\n",
    "l = 'abcdefghijklmnopqrstuvwxyz'\n",
    "ABC = slice(0,3)\n",
    "XYZ = slice(-3, None)\n",
    "l[ABC], l[XYZ]"
   ]
  },
  {
   "cell_type": "code",
   "execution_count": 28,
   "metadata": {},
   "outputs": [
    {
     "output_type": "execute_result",
     "data": {
      "text/plain": "[0, 1, 10, 5, 6, 7, 8, 9]"
     },
     "metadata": {},
     "execution_count": 28
    }
   ],
   "source": [
    "l = [x for x in range(10)]\n",
    "l[2:5]=[10]#切片賦值必須是可迭代物，就算只有一個也是\n",
    "l"
   ]
  }
 ]
}