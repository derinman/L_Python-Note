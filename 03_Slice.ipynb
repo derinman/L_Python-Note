{
 "metadata": {
  "language_info": {
   "codemirror_mode": {
    "name": "ipython",
    "version": 3
   },
   "file_extension": ".py",
   "mimetype": "text/x-python",
   "name": "python",
   "nbconvert_exporter": "python",
   "pygments_lexer": "ipython3",
   "version": 3
  },
  "orig_nbformat": 2,
  "kernelspec": {
   "name": "python_defaultSpec_1597116271469",
   "display_name": "Python 3.7.4 64-bit ('base': conda)"
  }
 },
 "nbformat": 4,
 "nbformat_minor": 2,
 "cells": [
  {
   "cell_type": "code",
   "execution_count": null,
   "metadata": {},
   "outputs": [],
   "source": [
    "#slice: index從0開始 含投頭不含尾 [start: end: step]"
   ]
  },
  {
   "cell_type": "code",
   "execution_count": 2,
   "metadata": {
    "tags": []
   },
   "outputs": [
    {
     "output_type": "stream",
     "name": "stdout",
     "text": "a b z\n"
    }
   ],
   "source": [
    "l = 'abcdefghijklmnopqrstuvwxyz'\n",
    "print(l[0], l[1], l[-1])"
   ]
  },
  {
   "cell_type": "code",
   "execution_count": 23,
   "metadata": {
    "tags": []
   },
   "outputs": [
    {
     "output_type": "stream",
     "name": "stdout",
     "text": "uvwxyz xyz uvwxy ae\n"
    }
   ],
   "source": [
    "l = 'abcdefghijklmnopqrstuvwxyz'\n",
    "print(l[20:], l[-3:], l[-6: -1], l[0: 5: 4])"
   ]
  },
  {
   "cell_type": "code",
   "execution_count": 25,
   "metadata": {
    "tags": []
   },
   "outputs": [
    {
     "output_type": "stream",
     "name": "stdout",
     "text": "zyxwvutsrqponmlkjihgfedcba\n"
    }
   ],
   "source": [
    "l = 'abcdefghijklmnopqrstuvwxyz'\n",
    "print(l[::-1])"
   ]
  }
 ]
}