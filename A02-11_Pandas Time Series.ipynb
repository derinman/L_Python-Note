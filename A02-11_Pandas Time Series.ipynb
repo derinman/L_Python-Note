{
 "metadata": {
  "language_info": {
   "codemirror_mode": {
    "name": "ipython",
    "version": 3
   },
   "file_extension": ".py",
   "mimetype": "text/x-python",
   "name": "python",
   "nbconvert_exporter": "python",
   "pygments_lexer": "ipython3",
   "version": "3.7.4-final"
  },
  "orig_nbformat": 2,
  "kernelspec": {
   "name": "python3",
   "display_name": "Python 3.7.4 64-bit (conda)",
   "metadata": {
    "interpreter": {
     "hash": "b3ba2566441a7c06988d0923437866b63cedc61552a5af99d1f4fb67d367b25f"
    }
   }
  }
 },
 "nbformat": 4,
 "nbformat_minor": 2,
 "cells": [
  {
   "cell_type": "code",
   "execution_count": 22,
   "metadata": {},
   "outputs": [],
   "source": [
    "import pandas as pd\n",
    "import numpy as np\n",
    "\n",
    "import datetime\n",
    "from datetime import datetime, date, time"
   ]
  },
  {
   "cell_type": "code",
   "execution_count": 23,
   "metadata": {},
   "outputs": [],
   "source": [
    "#請參考 22_Date Datetime.ipynb"
   ]
  },
  {
   "cell_type": "code",
   "execution_count": 24,
   "metadata": {},
   "outputs": [
    {
     "output_type": "execute_result",
     "data": {
      "text/plain": [
       "DatetimeIndex(['2014-08-01', '2014-08-02', '2014-08-03', 'NaT', 'NaT'], dtype='datetime64[ns]', freq=None)"
      ]
     },
     "metadata": {},
     "execution_count": 24
    }
   ],
   "source": [
    "# 'foo'會產生error\n",
    "dti = pd.to_datetime(['Aug 1, 2014', '2014-08-02', '2014.8.3', None, 'foo'],errors=\"coerce\")\n",
    "dti"
   ]
  },
  {
   "cell_type": "code",
   "execution_count": 25,
   "metadata": {},
   "outputs": [
    {
     "output_type": "execute_result",
     "data": {
      "text/plain": [
       "2014-08-01   -0.494929\n",
       "2014-08-02    1.071804\n",
       "dtype: float64"
      ]
     },
     "metadata": {},
     "execution_count": 25
    }
   ],
   "source": [
    "dates = [datetime(2014, 8, 1), datetime(2014, 8, 2)]\n",
    "ts = pd.Series(np.random.randn(2), dates)\n",
    "ts"
   ]
  },
  {
   "cell_type": "code",
   "execution_count": 26,
   "metadata": {},
   "outputs": [
    {
     "output_type": "execute_result",
     "data": {
      "text/plain": [
       "pandas.core.indexes.datetimes.DatetimeIndex"
      ]
     },
     "metadata": {},
     "execution_count": 26
    }
   ],
   "source": [
    "# DatetimeIndex\n",
    "type(ts.index)"
   ]
  },
  {
   "cell_type": "code",
   "execution_count": 27,
   "metadata": {},
   "outputs": [
    {
     "output_type": "execute_result",
     "data": {
      "text/plain": [
       "pandas._libs.tslibs.timestamps.Timestamp"
      ]
     },
     "metadata": {},
     "execution_count": 27
    }
   ],
   "source": [
    "type(ts.index[0])"
   ]
  },
  {
   "cell_type": "code",
   "execution_count": 28,
   "metadata": {},
   "outputs": [
    {
     "output_type": "execute_result",
     "data": {
      "text/plain": [
       "2014-08-01    0.469112\n",
       "2014-08-02   -0.282863\n",
       "2014-08-03   -1.509059\n",
       "2014-08-04   -1.135632\n",
       "2014-08-05    1.212112\n",
       "2014-08-06   -0.173215\n",
       "2014-08-07    0.119209\n",
       "2014-08-08   -1.044236\n",
       "2014-08-09   -0.861849\n",
       "2014-08-10   -2.104569\n",
       "Freq: D, dtype: float64"
      ]
     },
     "metadata": {},
     "execution_count": 28
    }
   ],
   "source": [
    "np.random.seed(123456)\n",
    "periods = pd.date_range('8/1/2014', periods=10)\n",
    "date_series = pd.Series(np.random.randn(10), index=periods)\n",
    "date_series"
   ]
  },
  {
   "cell_type": "code",
   "execution_count": 29,
   "metadata": {},
   "outputs": [
    {
     "output_type": "execute_result",
     "data": {
      "text/plain": [
       "2014-08-03   -1.509059\n",
       "2014-08-04   -1.135632\n",
       "2014-08-05    1.212112\n",
       "2014-08-06   -0.173215\n",
       "2014-08-07    0.119209\n",
       "Freq: D, dtype: float64"
      ]
     },
     "metadata": {},
     "execution_count": 29
    }
   ],
   "source": [
    "date_series['2014-08-03':'2014-08-07']"
   ]
  },
  {
   "cell_type": "code",
   "execution_count": 31,
   "metadata": {},
   "outputs": [
    {
     "output_type": "execute_result",
     "data": {
      "text/plain": [
       "2014-08-01    0.469112\n",
       "2014-08-02   -0.282863\n",
       "2014-08-03   -1.509059\n",
       "2014-08-04   -1.135632\n",
       "2014-08-05    1.212112\n",
       "2014-08-06   -0.173215\n",
       "2014-08-07    0.119209\n",
       "2014-08-08   -1.044236\n",
       "2014-08-09   -0.861849\n",
       "2014-08-10   -2.104569\n",
       "Freq: D, dtype: float64"
      ]
     },
     "metadata": {},
     "execution_count": 31
    }
   ],
   "source": [
    "date_series['2014-08']"
   ]
  },
  {
   "cell_type": "code",
   "execution_count": null,
   "metadata": {},
   "outputs": [],
   "source": []
  }
 ]
}