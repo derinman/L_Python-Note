{
 "metadata": {
  "language_info": {
   "codemirror_mode": {
    "name": "ipython",
    "version": 3
   },
   "file_extension": ".py",
   "mimetype": "text/x-python",
   "name": "python",
   "nbconvert_exporter": "python",
   "pygments_lexer": "ipython3",
   "version": "3.7.4-final"
  },
  "orig_nbformat": 2,
  "kernelspec": {
   "name": "python_defaultSpec_1600862011644",
   "display_name": "Python 3.7.4 64-bit ('base': conda)"
  }
 },
 "nbformat": 4,
 "nbformat_minor": 2,
 "cells": [
  {
   "cell_type": "code",
   "execution_count": 6,
   "metadata": {},
   "outputs": [],
   "source": [
    "def make_avg():\n",
    "    series=[]\n",
    "    def avg(val):\n",
    "        series.append(val)\n",
    "        total=sum(series)\n",
    "        return total/len(series)\n",
    "    return avg\n",
    "#在avg裡面，series是一個自由變數(free variable)\n",
    "#代表series不會被綁死在區域範圍內"
   ]
  },
  {
   "cell_type": "code",
   "execution_count": 7,
   "metadata": {},
   "outputs": [],
   "source": [
    "average = make_avg()"
   ]
  },
  {
   "cell_type": "code",
   "execution_count": 8,
   "metadata": {},
   "outputs": [
    {
     "output_type": "execute_result",
     "data": {
      "text/plain": "10.0"
     },
     "metadata": {},
     "execution_count": 8
    }
   ],
   "source": [
    "average(10)"
   ]
  },
  {
   "cell_type": "code",
   "execution_count": 9,
   "metadata": {},
   "outputs": [
    {
     "output_type": "execute_result",
     "data": {
      "text/plain": "11.5"
     },
     "metadata": {},
     "execution_count": 9
    }
   ],
   "source": [
    "average(13)"
   ]
  },
  {
   "cell_type": "code",
   "execution_count": 10,
   "metadata": {},
   "outputs": [
    {
     "output_type": "execute_result",
     "data": {
      "text/plain": "('val', 'total')"
     },
     "metadata": {},
     "execution_count": 10
    }
   ],
   "source": [
    "average.__code__.co_varnames"
   ]
  },
  {
   "cell_type": "code",
   "execution_count": 11,
   "metadata": {},
   "outputs": [
    {
     "output_type": "execute_result",
     "data": {
      "text/plain": "(('series',),\n (<cell at 0x00000270E2E021C8: list object at 0x00000270E33E7288>,))"
     },
     "metadata": {},
     "execution_count": 11
    }
   ],
   "source": [
    "average.__code__.co_freevars, average.__closure__"
   ]
  },
  {
   "cell_type": "code",
   "execution_count": 12,
   "metadata": {},
   "outputs": [
    {
     "output_type": "execute_result",
     "data": {
      "text/plain": "[10, 13]"
     },
     "metadata": {},
     "execution_count": 12
    }
   ],
   "source": [
    "average.__closure__[0].cell_contents"
   ]
  },
  {
   "cell_type": "code",
   "execution_count": 13,
   "metadata": {},
   "outputs": [],
   "source": [
    "def fail_avg():\n",
    "    count=0\n",
    "    total=0\n",
    "    def avg(val):\n",
    "        count +=1\n",
    "        total +=val\n",
    "        return total/count\n",
    "    return avg\n",
    "\n",
    "failAverage = fail_avg()\n",
    "#failAverage(9)#fail\n",
    "\n",
    "#問題在於count跟total是一個不可變型態(數字)，所以執行\n",
    "#count+=1 total+=1的時候其實是在對count跟total賦值\n",
    "#所以，count跟total變成了區域變數而非自由變數"
   ]
  },
  {
   "cell_type": "code",
   "execution_count": 14,
   "metadata": {},
   "outputs": [],
   "source": [
    "#上面的問題可以用nonlocal解決\n",
    "def good_avg():\n",
    "    count=0\n",
    "    total=0\n",
    "    def avg(val):\n",
    "        nonlocal count, total\n",
    "        count +=1\n",
    "        total +=val\n",
    "        return total/count\n",
    "    return avg\n",
    "\n",
    "goodAverage = good_avg()"
   ]
  },
  {
   "cell_type": "code",
   "execution_count": 15,
   "metadata": {},
   "outputs": [
    {
     "output_type": "execute_result",
     "data": {
      "text/plain": "3.0"
     },
     "metadata": {},
     "execution_count": 15
    }
   ],
   "source": [
    "goodAverage(3)"
   ]
  },
  {
   "cell_type": "code",
   "execution_count": 16,
   "metadata": {},
   "outputs": [
    {
     "output_type": "execute_result",
     "data": {
      "text/plain": "4.0"
     },
     "metadata": {},
     "execution_count": 16
    }
   ],
   "source": [
    "goodAverage(5)"
   ]
  }
 ]
}