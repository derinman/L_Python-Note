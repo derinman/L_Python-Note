{
 "cells": [
  {
   "cell_type": "code",
   "execution_count": 1,
   "metadata": {},
   "outputs": [],
   "source": [
    "from collections import namedtuple\r\n",
    "import inspect\r\n",
    "\r\n",
    "from lib import promotions\r\n",
    "\r\n",
    "Customer = namedtuple('Customer', 'name fidelity')\r\n",
    "\r\n",
    "class LineItem:\r\n",
    "\r\n",
    "    def __init__(self, product, quantity, price):\r\n",
    "        self.product = product\r\n",
    "        self.quantity = quantity\r\n",
    "        self.price = price\r\n",
    "\r\n",
    "    def total(self):\r\n",
    "        return self.price * self.quantity\r\n",
    "\r\n",
    "\r\n",
    "class Order:  # the Context\r\n",
    "\r\n",
    "    def __init__(self, customer, cart, promotion=None):\r\n",
    "        self.customer = customer\r\n",
    "        self.cart = list(cart)\r\n",
    "        self.promotion = promotion\r\n",
    "\r\n",
    "    def total(self):\r\n",
    "        if not hasattr(self, '__total'):\r\n",
    "            self.__total = sum(item.total() for item in self.cart)\r\n",
    "        return self.__total\r\n",
    "\r\n",
    "    def due(self):\r\n",
    "        if self.promotion is None:\r\n",
    "            discount = 0\r\n",
    "        else:\r\n",
    "            discount = self.promotion(self)\r\n",
    "        return self.total() - discount\r\n",
    "\r\n",
    "    def __repr__(self):\r\n",
    "        fmt = '<Order total: {:.2f} due: {:.2f}>'\r\n",
    "        return fmt.format(self.total(), self.due())\r\n",
    "\r\n",
    "promos = [func for name, func in\r\n",
    "                inspect.getmembers(promotions, inspect.isfunction)]\r\n",
    "\r\n",
    "def best_promo(order):\r\n",
    "    \"\"\"Select best discount available\r\n",
    "    \"\"\"\r\n",
    "    return max(promo(order) for promo in promos)"
   ]
  },
  {
   "cell_type": "code",
   "execution_count": 2,
   "metadata": {},
   "outputs": [],
   "source": [
    "#顧客\n",
    "joe = Customer('John Doe', 0)\n",
    "ann = Customer('Ann Smith', 1100)\n",
    "\n",
    "#購物車\n",
    "cart = [LineItem('banana', 4, .5),\n",
    "        LineItem('apple', 10, 1.5),\n",
    "        LineItem('watermellon', 5, 5.0)]\n",
    "banana_cart = [LineItem('banana', 30, .5),\n",
    "               LineItem('apple', 10, 1.5)]\n",
    "long_order = [LineItem(str(item_code), 1, 1.0) for item_code in range(10)]"
   ]
  },
  {
   "cell_type": "code",
   "execution_count": 3,
   "metadata": {},
   "outputs": [
    {
     "data": {
      "text/plain": [
       "<Order total: 42.00 due: 42.00>"
      ]
     },
     "execution_count": 3,
     "metadata": {},
     "output_type": "execute_result"
    }
   ],
   "source": [
    "Order(joe, cart , best_promo)"
   ]
  },
  {
   "cell_type": "code",
   "execution_count": 4,
   "metadata": {},
   "outputs": [
    {
     "data": {
      "text/plain": [
       "<Order total: 42.00 due: 39.90>"
      ]
     },
     "execution_count": 4,
     "metadata": {},
     "output_type": "execute_result"
    }
   ],
   "source": [
    "Order(ann, cart , best_promo)"
   ]
  },
  {
   "cell_type": "code",
   "execution_count": 5,
   "metadata": {},
   "outputs": [
    {
     "data": {
      "text/plain": [
       "<Order total: 30.00 due: 28.50>"
      ]
     },
     "execution_count": 5,
     "metadata": {},
     "output_type": "execute_result"
    }
   ],
   "source": [
    "Order(ann, banana_cart, best_promo)"
   ]
  },
  {
   "cell_type": "code",
   "execution_count": 6,
   "metadata": {},
   "outputs": [
    {
     "data": {
      "text/plain": [
       "<Order total: 10.00 due: 9.30>"
      ]
     },
     "execution_count": 6,
     "metadata": {},
     "output_type": "execute_result"
    }
   ],
   "source": [
    "Order(ann, long_order, best_promo)"
   ]
  }
 ],
 "metadata": {
  "interpreter": {
   "hash": "b3ba2566441a7c06988d0923437866b63cedc61552a5af99d1f4fb67d367b25f"
  },
  "kernelspec": {
   "display_name": "Python 3.7.4 64-bit ('base': conda)",
   "name": "python3"
  },
  "language_info": {
   "codemirror_mode": {
    "name": "ipython",
    "version": 3
   },
   "file_extension": ".py",
   "mimetype": "text/x-python",
   "name": "python",
   "nbconvert_exporter": "python",
   "pygments_lexer": "ipython3",
   "version": "3.7.4"
  },
  "orig_nbformat": 2
 },
 "nbformat": 4,
 "nbformat_minor": 2
}