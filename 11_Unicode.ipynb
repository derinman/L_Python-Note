{
 "metadata": {
  "language_info": {
   "codemirror_mode": {
    "name": "ipython",
    "version": 3
   },
   "file_extension": ".py",
   "mimetype": "text/x-python",
   "name": "python",
   "nbconvert_exporter": "python",
   "pygments_lexer": "ipython3",
   "version": "3.7.4-final"
  },
  "orig_nbformat": 2,
  "kernelspec": {
   "name": "python3",
   "display_name": "Python 3"
  }
 },
 "nbformat": 4,
 "nbformat_minor": 2,
 "cells": [
  {
   "cell_type": "code",
   "execution_count": 8,
   "metadata": {},
   "outputs": [
    {
     "output_type": "execute_result",
     "data": {
      "text/plain": "('LATIN CAPITAL LETTER A', 'A')"
     },
     "metadata": {},
     "execution_count": 8
    }
   ],
   "source": [
    "import unicodedata\n",
    "name = unicodedata.name('A')\n",
    "unicodedata.name('A'), unicodedata.lookup(name)"
   ]
  },
  {
   "cell_type": "code",
   "execution_count": 10,
   "metadata": {},
   "outputs": [
    {
     "output_type": "execute_result",
     "data": {
      "text/plain": "('DOLLAR SIGN', '$')"
     },
     "metadata": {},
     "execution_count": 10
    }
   ],
   "source": [
    "import unicodedata\n",
    "name = unicodedata.name('$')\n",
    "unicodedata.name('$'), unicodedata.lookup(name)"
   ]
  },
  {
   "cell_type": "code",
   "execution_count": 13,
   "metadata": {},
   "outputs": [
    {
     "output_type": "execute_result",
     "data": {
      "text/plain": "('CENT SIGN', '¢')"
     },
     "metadata": {},
     "execution_count": 13
    }
   ],
   "source": [
    "import unicodedata\n",
    "name = unicodedata.name('\\u00a2') #\\u + 四個十六進位數字 \n",
    "unicodedata.name('\\u00a2'), unicodedata.lookup(name)"
   ]
  },
  {
   "cell_type": "code",
   "execution_count": 15,
   "metadata": {},
   "outputs": [
    {
     "output_type": "execute_result",
     "data": {
      "text/plain": "('SNOWMAN', '☃')"
     },
     "metadata": {},
     "execution_count": 15
    }
   ],
   "source": [
    "import unicodedata\n",
    "name = unicodedata.name('\\u2603') #\\u + 四個十六進位數字 \n",
    "unicodedata.name('\\u2603'), unicodedata.lookup(name)"
   ]
  },
  {
   "cell_type": "code",
   "execution_count": 2,
   "metadata": {},
   "outputs": [
    {
     "output_type": "execute_result",
     "data": {
      "text/plain": "('LATIN SMALL LETTER E WITH ACUTE', 'é')"
     },
     "metadata": {},
     "execution_count": 2
    }
   ],
   "source": [
    "import unicodedata\n",
    "name = unicodedata.name('\\u00e9') #\\u + 四個十六進位數字 \n",
    "unicodedata.name('\\u00e9'), unicodedata.lookup(name)"
   ]
  },
  {
   "cell_type": "code",
   "execution_count": 5,
   "metadata": {},
   "outputs": [
    {
     "output_type": "execute_result",
     "data": {
      "text/plain": "'café'"
     },
     "metadata": {},
     "execution_count": 5
    }
   ],
   "source": [
    "place = 'caf\\N{LATIN SMALL LETTER E WITH ACUTE}'\n",
    "place"
   ]
  },
  {
   "cell_type": "code",
   "execution_count": 3,
   "metadata": {},
   "outputs": [
    {
     "output_type": "execute_result",
     "data": {
      "text/plain": "(1, 1)"
     },
     "metadata": {},
     "execution_count": 3
    }
   ],
   "source": [
    "len('\\u00e9'),len('é')"
   ]
  },
  {
   "cell_type": "code",
   "execution_count": 9,
   "metadata": {},
   "outputs": [
    {
     "output_type": "execute_result",
     "data": {
      "text/plain": "(b'\\xe2\\x98\\x83', b'\\xff\\xfe\\x03&', b'\\xff\\xfe\\x00\\x00\\x03&\\x00\\x00')"
     },
     "metadata": {},
     "execution_count": 9
    }
   ],
   "source": [
    "import unicodedata\n",
    "snowman = '\\u2603'\n",
    "snowman.encode('utf-8'), snowman.encode('utf-16'), snowman.encode('utf-32')"
   ]
  },
  {
   "cell_type": "code",
   "execution_count": 14,
   "metadata": {},
   "outputs": [
    {
     "output_type": "execute_result",
     "data": {
      "text/plain": "('☃', '☃', '☃')"
     },
     "metadata": {},
     "execution_count": 14
    }
   ],
   "source": [
    "import unicodedata\n",
    "snowman = '\\u2603'\n",
    "a = snowman.encode('utf-8')\n",
    "b = snowman.encode('utf-16')\n",
    "c = snowman.encode('utf-32')\n",
    "a.decode('utf-8'), b.decode('utf-16'), c.decode('utf-32')"
   ]
  },
  {
   "cell_type": "code",
   "execution_count": 10,
   "metadata": {},
   "outputs": [
    {
     "output_type": "execute_result",
     "data": {
      "text/plain": "[202, 78, 41, 89, 125, 89, 19, 153]"
     },
     "metadata": {},
     "execution_count": 10
    }
   ],
   "source": [
    "#little endian\n",
    "u16LittleEndian = '今天好餓'.encode('utf_16le')\n",
    "list(u16LittleEndian)"
   ]
  },
  {
   "cell_type": "code",
   "execution_count": 12,
   "metadata": {},
   "outputs": [
    {
     "output_type": "execute_result",
     "data": {
      "text/plain": "[78, 202, 89, 41, 89, 125, 153, 19]"
     },
     "metadata": {},
     "execution_count": 12
    }
   ],
   "source": [
    "自組#big endian\n",
    "u16BigEndian = '今天好餓'.encode('utf_16be')\n",
    "list(u16BigEndian)"
   ]
  },
  {
   "cell_type": "code",
   "execution_count": 2,
   "metadata": {},
   "outputs": [],
   "source": [
    "#有關endian的議題只會影響超過一個byte的字組的編碼，像是utf16 utf32，而utf8則沒這個問題"
   ]
  },
  {
   "cell_type": "code",
   "execution_count": 4,
   "metadata": {
    "tags": []
   },
   "outputs": [
    {
     "output_type": "stream",
     "name": "stdout",
     "text": "locale.getpreferredencoding() -> 'cp950'\n                 type(my_file) -> <class '_io.TextIOWrapper'>\n              my_file.encoding -> 'cp950'\n           sys.stdout.isatty() -> False\n           sys.stdout.encoding -> 'UTF-8'\n            sys.stdin.isatty() -> False\n            sys.stdin.encoding -> 'utf-8'\n           sys.stderr.isatty() -> False\n           sys.stderr.encoding -> 'UTF-8'\n      sys.getdefaultencoding() -> 'utf-8'\n   sys.getfilesystemencoding() -> 'utf-8'\n"
    }
   ],
   "source": [
    "import sys, locale\n",
    "\n",
    "#開啟檔案時，如果省略指定encoding，那編碼會是locale.getpreferredencoding()的結果\n",
    "\n",
    "expressions = \"\"\"\n",
    "        locale.getpreferredencoding()\n",
    "        type(my_file)\n",
    "        my_file.encoding\n",
    "        sys.stdout.isatty()\n",
    "        sys.stdout.encoding\n",
    "        sys.stdin.isatty()\n",
    "        sys.stdin.encoding\n",
    "        sys.stderr.isatty()\n",
    "        sys.stderr.encoding\n",
    "        sys.getdefaultencoding()\n",
    "        sys.getfilesystemencoding()\n",
    "    \"\"\"\n",
    "\n",
    "my_file = open('dummy', 'w')\n",
    "\n",
    "for expression in expressions.split():\n",
    "    value = eval(expression)\n",
    "    print(expression.rjust(30), '->', repr(value))"
   ]
  },
  {
   "cell_type": "code",
   "execution_count": 2,
   "metadata": {},
   "outputs": [
    {
     "output_type": "execute_result",
     "data": {
      "text/plain": "('café', 'café', False, True, False)"
     },
     "metadata": {},
     "execution_count": 2
    }
   ],
   "source": [
    "#正規化\n",
    "#正規化可解決有些文字或符號看起來一樣，但比較起來不一樣的問題\n",
    "\n",
    "from unicodedata import normalize\n",
    "\n",
    "def nfc_equal(str1, str2):\n",
    "    return normalize('NFC', str1) == normalize('NFC', str2)\n",
    "\n",
    "s1 = 'café'\n",
    "s2 = 'cafe\\u0301'\n",
    "\n",
    "s1, s2, s1 == s2, nfc_equal(s1, s2), nfc_equal('A', 'a')"
   ]
  },
  {
   "cell_type": "code",
   "execution_count": 4,
   "metadata": {},
   "outputs": [],
   "source": [
    "#normalize的第一個引數可輸入 NFC NFD NFKC NFKD，\n",
    "#最常用的是NFC，是絕大多數應用程式的首選\n",
    "#NFKC NFKD是更嚴格的正規化，但可能會造成資料曲解或遺失"
   ]
  },
  {
   "cell_type": "code",
   "execution_count": 1,
   "metadata": {
    "tags": []
   },
   "outputs": [
    {
     "output_type": "stream",
     "name": "stdout",
     "text": "U+0031\t  1   \tre_dig\tisdig\tisnum\t 1.00\tDIGIT ONE\nU+00bc\t  ¼   \t-\t-\tisnum\t 0.25\tVULGAR FRACTION ONE QUARTER\nU+00b2\t  ²   \t-\tisdig\tisnum\t 2.00\tSUPERSCRIPT TWO\nU+0969\t  ३   \tre_dig\tisdig\tisnum\t 3.00\tDEVANAGARI DIGIT THREE\nU+136b\t  ፫   \t-\tisdig\tisnum\t 3.00\tETHIOPIC DIGIT THREE\nU+216b\t  Ⅻ   \t-\t-\tisnum\t12.00\tROMAN NUMERAL TWELVE\nU+2466\t  ⑦   \t-\tisdig\tisnum\t 7.00\tCIRCLED DIGIT SEVEN\nU+2480\t  ⒀   \t-\t-\tisnum\t13.00\tPARENTHESIZED NUMBER THIRTEEN\nU+3285\t  ㊅   \t-\t-\tisnum\t 6.00\tCIRCLED IDEOGRAPH SIX\n"
    }
   ],
   "source": [
    "#unicode的中繼資料\n",
    "import unicodedata\n",
    "import re\n",
    "\n",
    "re_digit = re.compile(r'\\d')\n",
    "\n",
    "sample = '1\\xbc\\xb2\\u0969\\u136b\\u216b\\u2466\\u2480\\u3285'\n",
    "\n",
    "for char in sample:\n",
    "    print('U+%04x' % ord(char),                       # <1>\n",
    "          char.center(6),                             # <2>\n",
    "          're_dig' if re_digit.match(char) else '-',  # <3>\n",
    "          'isdig' if char.isdigit() else '-',         # <4>\n",
    "          'isnum' if char.isnumeric() else '-',       # <5>\n",
    "          format(unicodedata.numeric(char), '5.2f'),  # <6>\n",
    "          unicodedata.name(char),                     # <7>\n",
    "          sep='\\t')"
   ]
  },
  {
   "cell_type": "code",
   "execution_count": null,
   "metadata": {},
   "outputs": [],
   "source": []
  }
 ]
}