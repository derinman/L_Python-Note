{
 "metadata": {
  "language_info": {
   "codemirror_mode": {
    "name": "ipython",
    "version": 3
   },
   "file_extension": ".py",
   "mimetype": "text/x-python",
   "name": "python",
   "nbconvert_exporter": "python",
   "pygments_lexer": "ipython3",
   "version": "3.7.4-final"
  },
  "orig_nbformat": 2,
  "kernelspec": {
   "name": "python_defaultSpec_1597466701879",
   "display_name": "Python 3.7.4 64-bit ('base': conda)"
  }
 },
 "nbformat": 4,
 "nbformat_minor": 2,
 "cells": [
  {
   "cell_type": "code",
   "execution_count": 8,
   "metadata": {},
   "outputs": [
    {
     "output_type": "execute_result",
     "data": {
      "text/plain": "('LATIN CAPITAL LETTER A', 'A')"
     },
     "metadata": {},
     "execution_count": 8
    }
   ],
   "source": [
    "import unicodedata\n",
    "name = unicodedata.name('A')\n",
    "unicodedata.name('A'), unicodedata.lookup(name)"
   ]
  },
  {
   "cell_type": "code",
   "execution_count": 10,
   "metadata": {},
   "outputs": [
    {
     "output_type": "execute_result",
     "data": {
      "text/plain": "('DOLLAR SIGN', '$')"
     },
     "metadata": {},
     "execution_count": 10
    }
   ],
   "source": [
    "import unicodedata\n",
    "name = unicodedata.name('$')\n",
    "unicodedata.name('$'), unicodedata.lookup(name)"
   ]
  },
  {
   "cell_type": "code",
   "execution_count": 13,
   "metadata": {},
   "outputs": [
    {
     "output_type": "execute_result",
     "data": {
      "text/plain": "('CENT SIGN', '¢')"
     },
     "metadata": {},
     "execution_count": 13
    }
   ],
   "source": [
    "import unicodedata\n",
    "name = unicodedata.name('\\u00a2') #\\u + 四個十六進位數字 \n",
    "unicodedata.name('\\u00a2'), unicodedata.lookup(name)"
   ]
  },
  {
   "cell_type": "code",
   "execution_count": 15,
   "metadata": {},
   "outputs": [
    {
     "output_type": "execute_result",
     "data": {
      "text/plain": "('SNOWMAN', '☃')"
     },
     "metadata": {},
     "execution_count": 15
    }
   ],
   "source": [
    "import unicodedata\n",
    "name = unicodedata.name('\\u2603') #\\u + 四個十六進位數字 \n",
    "unicodedata.name('\\u2603'), unicodedata.lookup(name)"
   ]
  },
  {
   "cell_type": "code",
   "execution_count": 2,
   "metadata": {},
   "outputs": [
    {
     "output_type": "execute_result",
     "data": {
      "text/plain": "('LATIN SMALL LETTER E WITH ACUTE', 'é')"
     },
     "metadata": {},
     "execution_count": 2
    }
   ],
   "source": [
    "import unicodedata\n",
    "name = unicodedata.name('\\u00e9') #\\u + 四個十六進位數字 \n",
    "unicodedata.name('\\u00e9'), unicodedata.lookup(name)"
   ]
  },
  {
   "cell_type": "code",
   "execution_count": 5,
   "metadata": {},
   "outputs": [
    {
     "output_type": "execute_result",
     "data": {
      "text/plain": "'café'"
     },
     "metadata": {},
     "execution_count": 5
    }
   ],
   "source": [
    "place = 'caf\\N{LATIN SMALL LETTER E WITH ACUTE}'\n",
    "place"
   ]
  },
  {
   "cell_type": "code",
   "execution_count": null,
   "metadata": {},
   "outputs": [],
   "source": []
  }
 ]
}