{
 "cells": [
  {
   "cell_type": "code",
   "execution_count": 4,
   "metadata": {},
   "outputs": [],
   "source": [
    "import numpy as np\r\n",
    "import pandas as pd"
   ]
  },
  {
   "cell_type": "code",
   "execution_count": 11,
   "metadata": {},
   "outputs": [
    {
     "data": {
      "text/html": [
       "<div>\n",
       "<style scoped>\n",
       "    .dataframe tbody tr th:only-of-type {\n",
       "        vertical-align: middle;\n",
       "    }\n",
       "\n",
       "    .dataframe tbody tr th {\n",
       "        vertical-align: top;\n",
       "    }\n",
       "\n",
       "    .dataframe thead th {\n",
       "        text-align: right;\n",
       "    }\n",
       "</style>\n",
       "<table border=\"1\" class=\"dataframe\">\n",
       "  <thead>\n",
       "    <tr style=\"text-align: right;\">\n",
       "      <th></th>\n",
       "      <th>x</th>\n",
       "      <th>y</th>\n",
       "    </tr>\n",
       "  </thead>\n",
       "  <tbody>\n",
       "    <tr>\n",
       "      <th>0</th>\n",
       "      <td>0.199517</td>\n",
       "      <td>1.073448</td>\n",
       "    </tr>\n",
       "    <tr>\n",
       "      <th>1</th>\n",
       "      <td>0.618241</td>\n",
       "      <td>1.038166</td>\n",
       "    </tr>\n",
       "    <tr>\n",
       "      <th>2</th>\n",
       "      <td>-0.557817</td>\n",
       "      <td>1.121925</td>\n",
       "    </tr>\n",
       "    <tr>\n",
       "      <th>3</th>\n",
       "      <td>-1.235146</td>\n",
       "      <td>-0.157308</td>\n",
       "    </tr>\n",
       "    <tr>\n",
       "      <th>4</th>\n",
       "      <td>0.617087</td>\n",
       "      <td>-0.246455</td>\n",
       "    </tr>\n",
       "    <tr>\n",
       "      <th>...</th>\n",
       "      <td>...</td>\n",
       "      <td>...</td>\n",
       "    </tr>\n",
       "    <tr>\n",
       "      <th>9999995</th>\n",
       "      <td>-0.898484</td>\n",
       "      <td>0.928837</td>\n",
       "    </tr>\n",
       "    <tr>\n",
       "      <th>9999996</th>\n",
       "      <td>-0.464633</td>\n",
       "      <td>-0.189429</td>\n",
       "    </tr>\n",
       "    <tr>\n",
       "      <th>9999997</th>\n",
       "      <td>0.966848</td>\n",
       "      <td>-0.697564</td>\n",
       "    </tr>\n",
       "    <tr>\n",
       "      <th>9999998</th>\n",
       "      <td>-1.337349</td>\n",
       "      <td>0.722196</td>\n",
       "    </tr>\n",
       "    <tr>\n",
       "      <th>9999999</th>\n",
       "      <td>-0.526633</td>\n",
       "      <td>-0.892590</td>\n",
       "    </tr>\n",
       "  </tbody>\n",
       "</table>\n",
       "<p>10000000 rows × 2 columns</p>\n",
       "</div>"
      ],
      "text/plain": [
       "                x         y\n",
       "0        0.199517  1.073448\n",
       "1        0.618241  1.038166\n",
       "2       -0.557817  1.121925\n",
       "3       -1.235146 -0.157308\n",
       "4        0.617087 -0.246455\n",
       "...           ...       ...\n",
       "9999995 -0.898484  0.928837\n",
       "9999996 -0.464633 -0.189429\n",
       "9999997  0.966848 -0.697564\n",
       "9999998 -1.337349  0.722196\n",
       "9999999 -0.526633 -0.892590\n",
       "\n",
       "[10000000 rows x 2 columns]"
      ]
     },
     "execution_count": 11,
     "metadata": {},
     "output_type": "execute_result"
    }
   ],
   "source": [
    "data = np.random.standard_normal((10000000, 2))  \r\n",
    "df = pd.DataFrame(data, columns=['x','y'])\r\n",
    "df"
   ]
  },
  {
   "cell_type": "code",
   "execution_count": 12,
   "metadata": {},
   "outputs": [
    {
     "name": "stdout",
     "output_type": "stream",
     "text": [
      "<class 'pandas.core.frame.DataFrame'>\n",
      "RangeIndex: 10000000 entries, 0 to 9999999\n",
      "Data columns (total 2 columns):\n",
      " #   Column  Dtype  \n",
      "---  ------  -----  \n",
      " 0   x       float64\n",
      " 1   y       float64\n",
      "dtypes: float64(2)\n",
      "memory usage: 152.6 MB\n"
     ]
    }
   ],
   "source": [
    "df.info()"
   ]
  },
  {
   "cell_type": "code",
   "execution_count": 15,
   "metadata": {},
   "outputs": [
    {
     "name": "stdout",
     "output_type": "stream",
     "text": [
      "16.5 ms ± 267 µs per loop (mean ± std. dev. of 7 runs, 100 loops each)\n",
      "232 ms ± 5.4 ms per loop (mean ± std. dev. of 7 runs, 1 loop each)\n",
      "102 ms ± 329 µs per loop (mean ± std. dev. of 7 runs, 10 loops each)\n",
      "230 ms ± 3.25 ms per loop (mean ± std. dev. of 7 runs, 1 loop each)\n",
      "102 ms ± 992 µs per loop (mean ± std. dev. of 7 runs, 10 loops each)\n"
     ]
    }
   ],
   "source": [
    "#在pandas有時會不確定哪個方式效能好，務必timeit看看\r\n",
    "\r\n",
    "%timeit res = df['x'] + df['y']  #方法1\r\n",
    "%timeit res = df.sum(axis=1)     #方法2\r\n",
    "%timeit res = df.values.sum(axis=1)  #方法3\r\n",
    "%timeit res = np.sum(df, axis=1)  #方法4\r\n",
    "%timeit res = np.sum(df.values, axis=1)  #方法5"
   ]
  },
  {
   "cell_type": "code",
   "execution_count": null,
   "metadata": {},
   "outputs": [],
   "source": []
  }
 ],
 "metadata": {
  "interpreter": {
   "hash": "b3ba2566441a7c06988d0923437866b63cedc61552a5af99d1f4fb67d367b25f"
  },
  "kernelspec": {
   "display_name": "Python 3.7.4 64-bit ('base': conda)",
   "name": "python3"
  },
  "language_info": {
   "codemirror_mode": {
    "name": "ipython",
    "version": 3
   },
   "file_extension": ".py",
   "mimetype": "text/x-python",
   "name": "python",
   "nbconvert_exporter": "python",
   "pygments_lexer": "ipython3",
   "version": "3.7.4"
  },
  "orig_nbformat": 4
 },
 "nbformat": 4,
 "nbformat_minor": 2
}