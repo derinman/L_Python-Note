{
 "metadata": {
  "language_info": {
   "codemirror_mode": {
    "name": "ipython",
    "version": 3
   },
   "file_extension": ".py",
   "mimetype": "text/x-python",
   "name": "python",
   "nbconvert_exporter": "python",
   "pygments_lexer": "ipython3",
   "version": "3.7.4-final"
  },
  "orig_nbformat": 2,
  "kernelspec": {
   "name": "python3",
   "display_name": "Python 3"
  }
 },
 "nbformat": 4,
 "nbformat_minor": 2,
 "cells": [
  {
   "cell_type": "code",
   "execution_count": 1,
   "metadata": {},
   "outputs": [
    {
     "output_type": "execute_result",
     "data": {
      "text/plain": "['c', 'a', 't']"
     },
     "metadata": {},
     "execution_count": 1
    }
   ],
   "source": [
    "list('cat')"
   ]
  },
  {
   "cell_type": "code",
   "execution_count": 1,
   "metadata": {},
   "outputs": [
    {
     "output_type": "execute_result",
     "data": {
      "text/plain": "['orange', 'banana', 'apple']"
     },
     "metadata": {},
     "execution_count": 1
    }
   ],
   "source": [
    "fruit = ['apple', 'banana', 'orange']\n",
    "fruit[::-1]"
   ]
  },
  {
   "cell_type": "code",
   "execution_count": 3,
   "metadata": {
    "tags": []
   },
   "outputs": [
    {
     "output_type": "stream",
     "name": "stdout",
     "text": "['apple', 'banana', 'orange', 'watermelon']\n"
    }
   ],
   "source": [
    "fruit = ['apple', 'banana', 'orange']\n",
    "fruit.append('watermelon')\n",
    "print(fruit)"
   ]
  },
  {
   "cell_type": "code",
   "execution_count": 11,
   "metadata": {
    "tags": []
   },
   "outputs": [
    {
     "output_type": "stream",
     "name": "stdout",
     "text": "['apple', 'banana', 'orange', ['BMW', 'Mercedes']]\n"
    }
   ],
   "source": [
    "fruit = ['apple', 'banana', 'orange']\n",
    "car = ['BMW', 'Mercedes']\n",
    "fruit.append(car)\n",
    "print(fruit)"
   ]
  },
  {
   "cell_type": "code",
   "execution_count": 13,
   "metadata": {
    "tags": []
   },
   "outputs": [
    {
     "output_type": "stream",
     "name": "stdout",
     "text": "['apple', 'banana', 'orange', 'BMW', 'Mercedes']\n"
    }
   ],
   "source": [
    "fruit = ['apple', 'banana', 'orange']\n",
    "car = ['BMW', 'Mercedes']\n",
    "fruit.extend(car)\n",
    "print(fruit)"
   ]
  },
  {
   "cell_type": "code",
   "execution_count": 17,
   "metadata": {
    "tags": []
   },
   "outputs": [
    {
     "output_type": "stream",
     "name": "stdout",
     "text": "['apple', 'banana', ['BMW', 'Mercedes'], 'orange']\n"
    }
   ],
   "source": [
    "fruit = ['apple', 'banana', 'orange']\n",
    "car = ['BMW', 'Mercedes']\n",
    "fruit.insert(2,car)\n",
    "print(fruit)"
   ]
  },
  {
   "cell_type": "code",
   "execution_count": 21,
   "metadata": {
    "tags": []
   },
   "outputs": [
    {
     "output_type": "stream",
     "name": "stdout",
     "text": "['apple', 'orange']\n"
    }
   ],
   "source": [
    "fruit = ['apple', 'banana', 'orange']\n",
    "del fruit[1]\n",
    "print(fruit)"
   ]
  },
  {
   "cell_type": "code",
   "execution_count": 23,
   "metadata": {
    "tags": []
   },
   "outputs": [
    {
     "output_type": "stream",
     "name": "stdout",
     "text": "['banana', 'orange']\n"
    }
   ],
   "source": [
    "fruit = ['apple', 'banana', 'orange']\n",
    "fruit.remove('apple')\n",
    "print(fruit)"
   ]
  },
  {
   "cell_type": "code",
   "execution_count": 25,
   "metadata": {
    "tags": []
   },
   "outputs": [
    {
     "output_type": "stream",
     "name": "stdout",
     "text": "['apple', 'banana']\n"
    }
   ],
   "source": [
    "fruit = ['apple', 'banana', 'orange']\n",
    "fruit.pop()\n",
    "print(fruit)"
   ]
  },
  {
   "cell_type": "code",
   "execution_count": 27,
   "metadata": {
    "tags": []
   },
   "outputs": [
    {
     "output_type": "stream",
     "name": "stdout",
     "text": "2\n"
    }
   ],
   "source": [
    "fruit = ['apple', 'banana', 'orange','orange']\n",
    "a = fruit.count('orange')\n",
    "print(a)"
   ]
  },
  {
   "cell_type": "code",
   "execution_count": 30,
   "metadata": {},
   "outputs": [
    {
     "output_type": "execute_result",
     "data": {
      "text/plain": "['a', 'b', 'c', 'd']"
     },
     "metadata": {},
     "execution_count": 30
    }
   ],
   "source": [
    "#sort直接改\n",
    "l = ['a', 'c', 'd', 'b']\n",
    "l.sort()\n",
    "l"
   ]
  },
  {
   "cell_type": "code",
   "execution_count": 33,
   "metadata": {
    "tags": []
   },
   "outputs": [
    {
     "output_type": "stream",
     "name": "stdout",
     "text": "['a', 'c', 'd', 'b'] ['a', 'b', 'c', 'd']\n"
    }
   ],
   "source": [
    "#sorted回傳副本\n",
    "old = ['a', 'c', 'd', 'b']\n",
    "new = sorted(l)\n",
    "print(old, new)"
   ]
  },
  {
   "cell_type": "code",
   "execution_count": 39,
   "metadata": {},
   "outputs": [
    {
     "output_type": "execute_result",
     "data": {
      "text/plain": "['d', 'c', 'b', 'a']"
     },
     "metadata": {},
     "execution_count": 39
    }
   ],
   "source": [
    "#sort直接改\n",
    "l = ['a', 'c', 'd', 'b']\n",
    "l.sort(reverse=True)"
   ]
  },
  {
   "cell_type": "code",
   "execution_count": 43,
   "metadata": {
    "tags": []
   },
   "outputs": [
    {
     "output_type": "stream",
     "name": "stdout",
     "text": "['apple', '讚', 'orange', 'orange']\n"
    }
   ],
   "source": [
    "#old跟new的ref一樣\n",
    "old = ['apple', 'banana', 'orange','orange']\n",
    "new = old\n",
    "old[1] = '讚'\n",
    "print(new)"
   ]
  },
  {
   "cell_type": "code",
   "execution_count": 48,
   "metadata": {
    "tags": []
   },
   "outputs": [
    {
     "output_type": "stream",
     "name": "stdout",
     "text": "['apple', '讚', 'orange', 'orange'] ['apple', 'banana', 'orange', 'orange'] ['apple', 'banana', 'orange', 'orange'] ['banana', 'orange', 'orange']\n"
    }
   ],
   "source": [
    "#製作副本方法:\n",
    "#copy() list() l[1:5:1]\n",
    "old = ['apple', 'banana', 'orange','orange']\n",
    "new1 = old.copy()\n",
    "new2 = list(old)\n",
    "new3 = old[1:]\n",
    "old[1] = '讚'\n",
    "print(old, new1, new2, new3)"
   ]
  },
  {
   "cell_type": "code",
   "execution_count": 55,
   "metadata": {
    "tags": []
   },
   "outputs": [
    {
     "output_type": "stream",
     "name": "stdout",
     "text": "apple orange\n"
    }
   ],
   "source": [
    "#tuple unpacking\n",
    "fruit = ('apple', 'banana', 'orange','orange')\n",
    "a,_,c,_ = fruit\n",
    "print(a,c)"
   ]
  },
  {
   "cell_type": "code",
   "execution_count": 60,
   "metadata": {},
   "outputs": [
    {
     "output_type": "execute_result",
     "data": {
      "text/plain": "True"
     },
     "metadata": {},
     "execution_count": 60
    }
   ],
   "source": [
    "a = {'a': 'apple', 'b':'banana'}\n",
    "b = dict( [('a','apple'),('b','banana')] )\n",
    "a == b"
   ]
  },
  {
   "cell_type": "code",
   "execution_count": 79,
   "metadata": {
    "tags": []
   },
   "outputs": [
    {
     "output_type": "stream",
     "name": "stdout",
     "text": "{'id': 'inman', 'age': '23', 'gender': 'girl'} {'id': 'inman', 'age': '23'} {'id': 'inman', 'age': '23', 'gender': 'male'} {'id': 'inman', 'age': '23', 'gender': 'girl'}\n"
    }
   ],
   "source": [
    "a = {'id':'inman', 'age':'23'}\n",
    "b = dict(a)\n",
    "c = {'gender':'male'}\n",
    "a.update(c)\n",
    "d = dict(a)\n",
    "e = {'id':'inman', 'age':'23','gender':'girl'}\n",
    "a.update(e)\n",
    "f = dict(a)\n",
    "\n",
    "print(a, b, d, f)"
   ]
  },
  {
   "cell_type": "code",
   "execution_count": null,
   "metadata": {},
   "outputs": [],
   "source": []
  }
 ]
}