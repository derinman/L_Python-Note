{
 "metadata": {
  "language_info": {
   "codemirror_mode": {
    "name": "ipython",
    "version": 3
   },
   "file_extension": ".py",
   "mimetype": "text/x-python",
   "name": "python",
   "nbconvert_exporter": "python",
   "pygments_lexer": "ipython3",
   "version": "3.8.5"
  },
  "orig_nbformat": 2,
  "kernelspec": {
   "name": "python3",
   "display_name": "Python 3",
   "language": "python"
  }
 },
 "nbformat": 4,
 "nbformat_minor": 2,
 "cells": [
  {
   "cell_type": "code",
   "execution_count": 1,
   "metadata": {},
   "outputs": [
    {
     "output_type": "execute_result",
     "data": {
      "text/plain": [
       "'1.19.2'"
      ]
     },
     "metadata": {},
     "execution_count": 1
    }
   ],
   "source": [
    "import numpy\n",
    "import numpy as np\n",
    "numpy.__version__"
   ]
  },
  {
   "cell_type": "code",
   "execution_count": 2,
   "metadata": {},
   "outputs": [],
   "source": [
    "#相同維度的串接\n",
    "x1 = np.array([1, 2, 3])\n",
    "y1 = np.array([4, 5, 6])"
   ]
  },
  {
   "cell_type": "code",
   "execution_count": 3,
   "metadata": {},
   "outputs": [
    {
     "output_type": "execute_result",
     "data": {
      "text/plain": [
       "array([1, 2, 3, 4, 5, 6])"
      ]
     },
     "metadata": {},
     "execution_count": 3
    }
   ],
   "source": [
    "np.concatenate([x1,y1])"
   ]
  },
  {
   "cell_type": "code",
   "execution_count": 4,
   "metadata": {},
   "outputs": [],
   "source": [
    "#不同維度的串接\n",
    "x2 = np.array([(3, 2),(3, 5),(7, 6)])\n",
    "y2 = np.array([(5, 0)])\n",
    "z2 = np.array([[1], [3], [6]])"
   ]
  },
  {
   "cell_type": "code",
   "execution_count": 5,
   "metadata": {},
   "outputs": [
    {
     "output_type": "execute_result",
     "data": {
      "text/plain": [
       "array([[3, 2],\n",
       "       [3, 5],\n",
       "       [7, 6]])"
      ]
     },
     "metadata": {},
     "execution_count": 5
    }
   ],
   "source": [
    "x2"
   ]
  },
  {
   "cell_type": "code",
   "execution_count": 6,
   "metadata": {},
   "outputs": [
    {
     "output_type": "execute_result",
     "data": {
      "text/plain": [
       "array([[5, 0]])"
      ]
     },
     "metadata": {},
     "execution_count": 6
    }
   ],
   "source": [
    "y2"
   ]
  },
  {
   "cell_type": "code",
   "execution_count": 7,
   "metadata": {},
   "outputs": [
    {
     "output_type": "execute_result",
     "data": {
      "text/plain": [
       "array([[1],\n",
       "       [3],\n",
       "       [6]])"
      ]
     },
     "metadata": {},
     "execution_count": 7
    }
   ],
   "source": [
    "z2"
   ]
  },
  {
   "cell_type": "code",
   "execution_count": 8,
   "metadata": {},
   "outputs": [
    {
     "output_type": "execute_result",
     "data": {
      "text/plain": [
       "array([[3, 2],\n",
       "       [3, 5],\n",
       "       [7, 6],\n",
       "       [5, 0]])"
      ]
     },
     "metadata": {},
     "execution_count": 8
    }
   ],
   "source": [
    "np.vstack( [x2, y2] )"
   ]
  },
  {
   "cell_type": "code",
   "execution_count": 9,
   "metadata": {},
   "outputs": [
    {
     "output_type": "execute_result",
     "data": {
      "text/plain": [
       "array([[3, 2, 1],\n",
       "       [3, 5, 3],\n",
       "       [7, 6, 6]])"
      ]
     },
     "metadata": {},
     "execution_count": 9
    }
   ],
   "source": [
    "np.hstack( [x2, z2] )"
   ]
  },
  {
   "cell_type": "code",
   "execution_count": 10,
   "metadata": {},
   "outputs": [
    {
     "output_type": "execute_result",
     "data": {
      "text/plain": [
       "(array([2, 5]), array([6, 7, 3]), array([6, 3, 6]))"
      ]
     },
     "metadata": {},
     "execution_count": 10
    }
   ],
   "source": [
    "a, b, c = np.split(np.array((2,5,6,7,3,6,3,6)), [2,5]  )\n",
    "a, b, c"
   ]
  },
  {
   "cell_type": "code",
   "execution_count": 12,
   "metadata": {},
   "outputs": [
    {
     "output_type": "execute_result",
     "data": {
      "text/plain": [
       "(array([[0, 1, 2, 3],\n",
       "        [4, 5, 6, 7]]),\n",
       " array([[ 8,  9, 10, 11],\n",
       "        [12, 13, 14, 15]]))"
      ]
     },
     "metadata": {},
     "execution_count": 12
    }
   ],
   "source": [
    "a, b = np.vsplit( np.arange(16).reshape([4,4]), [2] )\n",
    "a, b"
   ]
  },
  {
   "cell_type": "code",
   "execution_count": 15,
   "metadata": {},
   "outputs": [
    {
     "output_type": "execute_result",
     "data": {
      "text/plain": [
       "(array([[ 0,  1],\n",
       "        [ 4,  5],\n",
       "        [ 8,  9],\n",
       "        [12, 13]]),\n",
       " array([[ 2,  3],\n",
       "        [ 6,  7],\n",
       "        [10, 11],\n",
       "        [14, 15]]))"
      ]
     },
     "metadata": {},
     "execution_count": 15
    }
   ],
   "source": [
    "c, d = np.hsplit( np.arange(16).reshape([4,4]), [2] )\n",
    "c, d"
   ]
  },
  {
   "cell_type": "code",
   "execution_count": 16,
   "metadata": {},
   "outputs": [
    {
     "output_type": "execute_result",
     "data": {
      "text/plain": [
       "array([ 0., 12., 24., 36., 48.])"
      ]
     },
     "metadata": {},
     "execution_count": 16
    }
   ],
   "source": [
    "#預先決定輸出的記憶體\n",
    "x = np.arange(5)\n",
    "y = np.empty(5)\n",
    "np.multiply(x,12,out=y)"
   ]
  },
  {
   "cell_type": "code",
   "execution_count": 18,
   "metadata": {},
   "outputs": [
    {
     "output_type": "execute_result",
     "data": {
      "text/plain": [
       "array([ 1.,  0.,  2.,  0.,  4.,  0.,  8.,  0., 16.,  0.])"
      ]
     },
     "metadata": {},
     "execution_count": 18
    }
   ],
   "source": [
    "a = np.arange(5)\n",
    "b = np.zeros(10)\n",
    "np.power(2, a, out=b[::2])\n",
    "b"
   ]
  },
  {
   "cell_type": "code",
   "execution_count": 20,
   "metadata": {},
   "outputs": [
    {
     "output_type": "execute_result",
     "data": {
      "text/plain": [
       "(15, 120, array([ 1,  3,  6, 10, 15]), array([  1,   2,   6,  24, 120]))"
      ]
     },
     "metadata": {},
     "execution_count": 20
    }
   ],
   "source": [
    "x = np.arange(1,6)\n",
    "np.add.reduce(x), np.multiply.reduce(x), np.add.accumulate(x), np.multiply.accumulate(x)"
   ]
  },
  {
   "cell_type": "code",
   "execution_count": 21,
   "metadata": {},
   "outputs": [
    {
     "output_type": "execute_result",
     "data": {
      "text/plain": [
       "array([[ 1,  2,  3,  4],\n",
       "       [ 2,  4,  6,  8],\n",
       "       [ 3,  6,  9, 12],\n",
       "       [ 4,  8, 12, 16]])"
      ]
     },
     "metadata": {},
     "execution_count": 21
    }
   ],
   "source": [
    "x = np.arange(1,5)\n",
    "np.multiply.outer(x, x)"
   ]
  },
  {
   "cell_type": "code",
   "execution_count": 22,
   "metadata": {
    "tags": []
   },
   "outputs": [
    {
     "output_type": "stream",
     "name": "stdout",
     "text": [
      "582 µs ± 7.38 µs per loop (mean ± std. dev. of 7 runs, 1000 loops each)\n",
      "143 ms ± 3.05 ms per loop (mean ± std. dev. of 7 runs, 10 loops each)\n"
     ]
    }
   ],
   "source": [
    "#summerise\n",
    "x = np.random.random(1000000)\n",
    "%timeit np.sum(x) #快多了\n",
    "%timeit sum(x)"
   ]
  },
  {
   "cell_type": "code",
   "execution_count": 23,
   "metadata": {},
   "outputs": [
    {
     "output_type": "execute_result",
     "data": {
      "text/plain": [
       "(499938.68327102746, 499938.68327102874)"
      ]
     },
     "metadata": {},
     "execution_count": 23
    }
   ],
   "source": [
    "np.sum(x), sum(x)"
   ]
  },
  {
   "cell_type": "code",
   "execution_count": 24,
   "metadata": {},
   "outputs": [
    {
     "output_type": "execute_result",
     "data": {
      "text/plain": [
       "(0.9999999121345138,\n",
       " 3.377604154142233e-07,\n",
       " 0.9999999121345138,\n",
       " 3.377604154142233e-07)"
      ]
     },
     "metadata": {},
     "execution_count": 24
    }
   ],
   "source": [
    "#as same as\n",
    "np.max(x), np.min(x), x.max(), x.min()"
   ]
  },
  {
   "cell_type": "code",
   "execution_count": 26,
   "metadata": {},
   "outputs": [
    {
     "output_type": "execute_result",
     "data": {
      "text/plain": [
       "(0.4999386832710275, 0.2885237732357071)"
      ]
     },
     "metadata": {},
     "execution_count": 26
    }
   ],
   "source": [
    "x.mean(), x.std()"
   ]
  },
  {
   "cell_type": "code",
   "execution_count": 28,
   "metadata": {},
   "outputs": [
    {
     "output_type": "execute_result",
     "data": {
      "text/plain": [
       "array([[0, 1, 2, 3, 4],\n",
       "       [5, 6, 7, 8, 9]])"
      ]
     },
     "metadata": {},
     "execution_count": 28
    }
   ],
   "source": [
    "y = np.arange(10).reshape(2,5)\n",
    "y"
   ]
  },
  {
   "cell_type": "code",
   "execution_count": 31,
   "metadata": {},
   "outputs": [
    {
     "output_type": "execute_result",
     "data": {
      "text/plain": [
       "(array([ 5,  7,  9, 11, 13]), array([10, 35]))"
      ]
     },
     "metadata": {},
     "execution_count": 31
    }
   ],
   "source": [
    "y.sum(axis=0), y.sum(axis=1)"
   ]
  },
  {
   "cell_type": "code",
   "execution_count": 40,
   "metadata": {},
   "outputs": [
    {
     "output_type": "execute_result",
     "data": {
      "text/plain": [
       "array([[0.38579035, 0.52163565, 0.08925813],\n",
       "       [0.00247175, 0.75023199, 0.85691979],\n",
       "       [0.57988934, 0.16124259, 0.2173687 ],\n",
       "       [0.73712834, 0.11221774, 0.01010835],\n",
       "       [0.93099786, 0.98301607, 0.21323322],\n",
       "       [0.68907092, 0.36655736, 0.63642231],\n",
       "       [0.50013187, 0.21484991, 0.44700876],\n",
       "       [0.6769077 , 0.62409857, 0.4985715 ],\n",
       "       [0.91435325, 0.11398199, 0.09217122],\n",
       "       [0.72722479, 0.36305654, 0.97232834]])"
      ]
     },
     "metadata": {},
     "execution_count": 40
    }
   ],
   "source": [
    "a = np.random.random((10,3))\n",
    "a"
   ]
  },
  {
   "cell_type": "code",
   "execution_count": 41,
   "metadata": {},
   "outputs": [
    {
     "output_type": "execute_result",
     "data": {
      "text/plain": [
       "array([0.61439662, 0.42108884, 0.40333903])"
      ]
     },
     "metadata": {},
     "execution_count": 41
    }
   ],
   "source": [
    "a.mean(axis=0)"
   ]
  },
  {
   "cell_type": "code",
   "execution_count": 42,
   "metadata": {},
   "outputs": [
    {
     "output_type": "execute_result",
     "data": {
      "text/plain": [
       "array([[-0.22860627,  0.10054681, -0.3140809 ],\n",
       "       [-0.61192486,  0.32914315,  0.45358076],\n",
       "       [-0.03450728, -0.25984625, -0.18597033],\n",
       "       [ 0.12273172, -0.3088711 , -0.39323068],\n",
       "       [ 0.31660124,  0.56192723, -0.19010581],\n",
       "       [ 0.0746743 , -0.05453148,  0.23308327],\n",
       "       [-0.11426475, -0.20623893,  0.04366973],\n",
       "       [ 0.06251109,  0.20300973,  0.09523247],\n",
       "       [ 0.29995664, -0.30710685, -0.31116782],\n",
       "       [ 0.11282817, -0.0580323 ,  0.56898931]])"
      ]
     },
     "metadata": {},
     "execution_count": 42
    }
   ],
   "source": [
    "#broadcasting，向量化的概念\n",
    "#全部的數減去平均值\n",
    "b = a - a.mean(axis=0)\n",
    "b"
   ]
  },
  {
   "cell_type": "code",
   "execution_count": 43,
   "metadata": {},
   "outputs": [
    {
     "output_type": "execute_result",
     "data": {
      "text/plain": [
       "array([4.44089210e-17, 1.11022302e-17, 3.33066907e-17])"
      ]
     },
     "metadata": {},
     "execution_count": 43
    }
   ],
   "source": [
    "#驗算，都接近0\n",
    "b.mean(axis=0)"
   ]
  },
  {
   "cell_type": "code",
   "execution_count": 44,
   "metadata": {},
   "outputs": [
    {
     "output_type": "execute_result",
     "data": {
      "text/plain": [
       "array([ 8, 20, 20, 27, 42, 59, 71, 74, 76, 85])"
      ]
     },
     "metadata": {},
     "execution_count": 44
    }
   ],
   "source": [
    "#sort\n",
    "x = np.random.randint(1,100,size=10)\n",
    "np.sort(x)"
   ]
  },
  {
   "cell_type": "code",
   "execution_count": 45,
   "metadata": {},
   "outputs": [
    {
     "output_type": "execute_result",
     "data": {
      "text/plain": [
       "array([[34,  1,  3, 43],\n",
       "       [46,  8, 16, 47],\n",
       "       [79, 75, 65, 69],\n",
       "       [87, 84, 72, 71]])"
      ]
     },
     "metadata": {},
     "execution_count": 45
    }
   ],
   "source": [
    "x = np.random.randint(1,100,[4,4])\n",
    "np.sort(x, axis =0)"
   ]
  },
  {
   "cell_type": "code",
   "execution_count": 46,
   "metadata": {},
   "outputs": [
    {
     "output_type": "execute_result",
     "data": {
      "text/plain": [
       "array([[47, 65, 75, 87],\n",
       "       [ 1, 69, 72, 79],\n",
       "       [ 8, 16, 43, 46],\n",
       "       [ 3, 34, 71, 84]])"
      ]
     },
     "metadata": {},
     "execution_count": 46
    }
   ],
   "source": [
    "np.sort(x, axis=1)"
   ]
  },
  {
   "cell_type": "code",
   "execution_count": 47,
   "metadata": {},
   "outputs": [
    {
     "output_type": "execute_result",
     "data": {
      "text/plain": [
       "array([ 1,  3, 29, 29, 40, 49, 81, 70, 59, 65])"
      ]
     },
     "metadata": {},
     "execution_count": 47
    }
   ],
   "source": [
    "#partition\n",
    "x = np.random.randint(1,100,size=10)\n",
    "#最小個值放左側，順序隨意\n",
    "np.partition(x,3)"
   ]
  },
  {
   "cell_type": "code",
   "execution_count": 48,
   "metadata": {},
   "outputs": [
    {
     "output_type": "execute_result",
     "data": {
      "text/plain": [
       "(array([[94, 69, 70, 63, 16],\n",
       "        [92, 81, 57, 30, 99],\n",
       "        [11, 81, 32, 47, 38],\n",
       "        [33, 84, 72, 88, 11]]),\n",
       " array([[16, 63, 69, 70, 94],\n",
       "        [30, 57, 81, 92, 99],\n",
       "        [11, 32, 38, 47, 81],\n",
       "        [11, 33, 72, 88, 84]]))"
      ]
     },
     "metadata": {},
     "execution_count": 48
    }
   ],
   "source": [
    "x = np.random.randint(1,100,size=20)\n",
    "x = x.reshape(4,5)\n",
    "\n",
    "x, np.partition(x,2,axis=1)"
   ]
  }
 ]
}