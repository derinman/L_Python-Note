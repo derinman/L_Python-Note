{
 "metadata": {
  "language_info": {
   "codemirror_mode": {
    "name": "ipython",
    "version": 3
   },
   "file_extension": ".py",
   "mimetype": "text/x-python",
   "name": "python",
   "nbconvert_exporter": "python",
   "pygments_lexer": "ipython3",
   "version": "3.7.4-final"
  },
  "orig_nbformat": 2,
  "kernelspec": {
   "name": "python3",
   "display_name": "Python 3"
  }
 },
 "nbformat": 4,
 "nbformat_minor": 2,
 "cells": [
  {
   "cell_type": "code",
   "execution_count": 1,
   "metadata": {},
   "outputs": [],
   "source": [
    "from bottle import route, run, static_file"
   ]
  },
  {
   "cell_type": "code",
   "execution_count": 2,
   "metadata": {
    "tags": []
   },
   "outputs": [
    {
     "output_type": "stream",
     "name": "stderr",
     "text": "Bottle v0.12.18 server starting up (using WSGIRefServer())...\nListening on http://localhost:9999/\nHit Ctrl-C to quit.\n\n127.0.0.1 - - [27/Aug/2020 11:41:43] \"GET / HTTP/1.1\" 200 24\n127.0.0.1 - - [27/Aug/2020 11:41:43] \"GET /favicon.ico HTTP/1.1\" 404 742\n"
    }
   ],
   "source": [
    "@route('/')\n",
    "def home():\n",
    "    return 'my home page, I am Inman'\n",
    "\n",
    "run( host= 'localhost', port='9999' )"
   ]
  },
  {
   "cell_type": "code",
   "execution_count": null,
   "metadata": {},
   "outputs": [],
   "source": [
    "@route('/')\n",
    "def main():\n",
    "    return static_file('000_test.html', root='.')\n",
    "\n",
    "run (host='localhost', port='9998')"
   ]
  }
 ]
}