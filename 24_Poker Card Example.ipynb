{
 "metadata": {
  "language_info": {
   "codemirror_mode": {
    "name": "ipython",
    "version": 3
   },
   "file_extension": ".py",
   "mimetype": "text/x-python",
   "name": "python",
   "nbconvert_exporter": "python",
   "pygments_lexer": "ipython3",
   "version": "3.7.4-final"
  },
  "orig_nbformat": 2,
  "kernelspec": {
   "name": "python3",
   "display_name": "Python 3"
  }
 },
 "nbformat": 4,
 "nbformat_minor": 2,
 "cells": [
  {
   "cell_type": "code",
   "execution_count": 2,
   "metadata": {},
   "outputs": [],
   "source": [
    "import collections"
   ]
  },
  {
   "cell_type": "code",
   "execution_count": 4,
   "metadata": {},
   "outputs": [],
   "source": [
    "#nametuple\n",
    "Card = collections.namedtuple('Card', ['rank', 'suit'])\n",
    "\n",
    "class FrenchDeck:\n",
    "    ranks = [str(n) for n in range(2, 11)] + list('JQKA')\n",
    "    suits = 'spades diamonds clubs hearts'.split()\n",
    "\n",
    "    def __init__(self):\n",
    "        self._cards = [Card(rank, suit) for suit in self.suits\n",
    "                                        for rank in self.ranks]\n",
    "\n",
    "    def __len__(self):\n",
    "        return len(self._cards)\n",
    "\n",
    "    def __getitem__(self, position):\n",
    "        return self._cards[position]"
   ]
  },
  {
   "cell_type": "code",
   "execution_count": 11,
   "metadata": {},
   "outputs": [],
   "source": [
    "deck = FrenchDeck()"
   ]
  },
  {
   "cell_type": "code",
   "execution_count": 37,
   "metadata": {},
   "outputs": [
    {
     "output_type": "execute_result",
     "data": {
      "text/plain": "(52,\n [Card(rank='2', suit='spades'),\n  Card(rank='3', suit='spades'),\n  Card(rank='4', suit='spades'),\n  Card(rank='5', suit='spades'),\n  Card(rank='6', suit='spades'),\n  Card(rank='7', suit='spades'),\n  Card(rank='8', suit='spades'),\n  Card(rank='9', suit='spades'),\n  Card(rank='10', suit='spades'),\n  Card(rank='J', suit='spades'),\n  Card(rank='Q', suit='spades'),\n  Card(rank='K', suit='spades'),\n  Card(rank='A', suit='spades')],\n [Card(rank='2', suit='spades'),\n  Card(rank='2', suit='diamonds'),\n  Card(rank='2', suit='clubs'),\n  Card(rank='2', suit='hearts')])"
     },
     "metadata": {},
     "execution_count": 37
    }
   ],
   "source": [
    "len(deck), deck[:13], deck[0::13]"
   ]
  },
  {
   "cell_type": "code",
   "execution_count": 38,
   "metadata": {},
   "outputs": [
    {
     "output_type": "execute_result",
     "data": {
      "text/plain": "[Card(rank='2', suit='spades'),\n Card(rank='3', suit='spades'),\n Card(rank='4', suit='spades'),\n Card(rank='5', suit='spades'),\n Card(rank='6', suit='spades'),\n Card(rank='7', suit='spades'),\n Card(rank='8', suit='spades'),\n Card(rank='9', suit='spades'),\n Card(rank='10', suit='spades'),\n Card(rank='J', suit='spades'),\n Card(rank='Q', suit='spades'),\n Card(rank='K', suit='spades'),\n Card(rank='A', suit='spades'),\n Card(rank='2', suit='diamonds'),\n Card(rank='3', suit='diamonds'),\n Card(rank='4', suit='diamonds'),\n Card(rank='5', suit='diamonds'),\n Card(rank='6', suit='diamonds'),\n Card(rank='7', suit='diamonds'),\n Card(rank='8', suit='diamonds'),\n Card(rank='9', suit='diamonds'),\n Card(rank='10', suit='diamonds'),\n Card(rank='J', suit='diamonds'),\n Card(rank='Q', suit='diamonds'),\n Card(rank='K', suit='diamonds'),\n Card(rank='A', suit='diamonds'),\n Card(rank='2', suit='clubs'),\n Card(rank='3', suit='clubs'),\n Card(rank='4', suit='clubs'),\n Card(rank='5', suit='clubs'),\n Card(rank='6', suit='clubs'),\n Card(rank='7', suit='clubs'),\n Card(rank='8', suit='clubs'),\n Card(rank='9', suit='clubs'),\n Card(rank='10', suit='clubs'),\n Card(rank='J', suit='clubs'),\n Card(rank='Q', suit='clubs'),\n Card(rank='K', suit='clubs'),\n Card(rank='A', suit='clubs'),\n Card(rank='2', suit='hearts'),\n Card(rank='3', suit='hearts'),\n Card(rank='4', suit='hearts'),\n Card(rank='5', suit='hearts'),\n Card(rank='6', suit='hearts'),\n Card(rank='7', suit='hearts'),\n Card(rank='8', suit='hearts'),\n Card(rank='9', suit='hearts'),\n Card(rank='10', suit='hearts'),\n Card(rank='J', suit='hearts'),\n Card(rank='Q', suit='hearts'),\n Card(rank='K', suit='hearts'),\n Card(rank='A', suit='hearts')]"
     },
     "metadata": {},
     "execution_count": 38
    }
   ],
   "source": [
    "#使用__getitem__實例就會成為可迭代物\n",
    "[a for a in deck]"
   ]
  },
  {
   "cell_type": "code",
   "execution_count": 40,
   "metadata": {},
   "outputs": [
    {
     "output_type": "execute_result",
     "data": {
      "text/plain": "True"
     },
     "metadata": {},
     "execution_count": 40
    }
   ],
   "source": [
    "#可迭代物所以可以使用\"in\"運算子\n",
    "Card(rank='A', suit='hearts') in deck"
   ]
  },
  {
   "cell_type": "code",
   "execution_count": 36,
   "metadata": {},
   "outputs": [
    {
     "output_type": "execute_result",
     "data": {
      "text/plain": "(Card(rank='4', suit='clubs'),\n Card(rank='5', suit='spades'),\n Card(rank='Q', suit='hearts'))"
     },
     "metadata": {},
     "execution_count": 36
    }
   ],
   "source": [
    "#隨機抽牌\n",
    "from random import choice\n",
    "choice(deck), choice(deck), choice(deck)"
   ]
  },
  {
   "cell_type": "code",
   "execution_count": null,
   "metadata": {},
   "outputs": [],
   "source": []
  }
 ]
}